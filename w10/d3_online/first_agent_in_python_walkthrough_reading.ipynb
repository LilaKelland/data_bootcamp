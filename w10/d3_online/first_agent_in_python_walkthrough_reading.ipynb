{
 "cells": [
  {
   "cell_type": "markdown",
   "id": "32c87f3c-93c5-43af-b949-f261bbd2ded6",
   "metadata": {},
   "source": [
    "#### Tutorial\n",
    "The first part of the article https://adventuresinmachinelearning.com/reinforcement-learning-tutorial-python-keras/ is dedicated to refreshing basic concepts of Reinforcement Learning and an introduction to Q-learning, one of the most popular approaches to reinforcement learning.\n",
    "\n",
    "Read the article Reinforcement learning tutorial using Python and Keras to learn about Q-learning and create your first agent in Python.\n",
    "\n",
    "Follow the article until the heading Reinforcement learning with Keras. We will come back to that part later today."
   ]
  },
  {
   "cell_type": "markdown",
   "id": "b743a57a-9301-43c5-9f4f-1698ced2055b",
   "metadata": {},
   "source": [
    "### Reading Deep Reinforcement Learning\n",
    "\n",
    "This reading will show us how we can leverage Deep Learning to improve our Reinforcement Learning agents.\n",
    "\n",
    "Recently, there has been a boom in leveraging Neural networks because of advances in computational power. Nowadays, all state-of-the-art agents use Deep Learning to obtain the best results, or win the biggest prizes.\n",
    "\n",
    "Read this article (https://wiki.pathmind.com/deep-reinforcement-learning) to review the introduction to Reinforcement Learning and to see where Neural Network fit in."
   ]
  },
  {
   "cell_type": "code",
   "execution_count": null,
   "id": "e2d71b34-ac8a-4524-a7e6-a0e9ed6bf576",
   "metadata": {},
   "outputs": [],
   "source": []
  }
 ],
 "metadata": {
  "kernelspec": {
   "display_name": "new_bootcamp",
   "language": "python",
   "name": "new_bootcamp"
  },
  "language_info": {
   "codemirror_mode": {
    "name": "ipython",
    "version": 3
   },
   "file_extension": ".py",
   "mimetype": "text/x-python",
   "name": "python",
   "nbconvert_exporter": "python",
   "pygments_lexer": "ipython3",
   "version": "3.8.11"
  }
 },
 "nbformat": 4,
 "nbformat_minor": 5
}
