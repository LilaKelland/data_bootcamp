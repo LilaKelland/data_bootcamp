{
 "cells": [
  {
   "cell_type": "markdown",
   "id": "7813e919-abe7-4e12-b083-05942d327ebf",
   "metadata": {},
   "source": [
    "When talking about Online Learning, it doesn't always have to be Supervised Learning. In this tutorial, we will wrap our hands around an example of Online Unsupervised Learning using an adaptation of KMeans.\n",
    "\n",
    "#### Online Unsupervised Learning\n",
    "Implement the use-case from the resource Online learning of a dictionary of parts of faces in your own notebook.\n",
    "\n",
    "https://scikit-learn.org/stable/auto_examples/cluster/plot_dict_face_patches.html"
   ]
  },
  {
   "cell_type": "code",
   "execution_count": null,
   "id": "e1273f5d-4610-48b5-8dab-39918123bf4c",
   "metadata": {},
   "outputs": [],
   "source": []
  }
 ],
 "metadata": {
  "kernelspec": {
   "display_name": "test_env",
   "language": "python",
   "name": "test_env"
  },
  "language_info": {
   "codemirror_mode": {
    "name": "ipython",
    "version": 3
   },
   "file_extension": ".py",
   "mimetype": "text/x-python",
   "name": "python",
   "nbconvert_exporter": "python",
   "pygments_lexer": "ipython3",
   "version": "3.6.13"
  }
 },
 "nbformat": 4,
 "nbformat_minor": 5
}
