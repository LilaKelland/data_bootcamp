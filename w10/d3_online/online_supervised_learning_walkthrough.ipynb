{
 "cells": [
  {
   "cell_type": "markdown",
   "id": "9ea72060-15ee-4bf3-9eeb-2a036554b4d1",
   "metadata": {},
   "source": [
    "In your own notebook, implement the use-case from the resource:\n",
    "https://scikit-learn.org/stable/auto_examples/applications/plot_out_of_core_classification.html\n",
    "\n",
    "Firstly, you need to use Class that provides to get the data from Reuter's repository.\n",
    "\n",
    "Conclusion\n",
    "We have seen a nice combination of Online Learning and NLP.\n"
   ]
  },
  {
   "cell_type": "code",
   "execution_count": null,
   "id": "8d900312-1935-4935-809a-c68ef5d8ca6a",
   "metadata": {},
   "outputs": [],
   "source": []
  }
 ],
 "metadata": {
  "kernelspec": {
   "display_name": "new_bootcamp",
   "language": "python",
   "name": "new_bootcamp"
  },
  "language_info": {
   "codemirror_mode": {
    "name": "ipython",
    "version": 3
   },
   "file_extension": ".py",
   "mimetype": "text/x-python",
   "name": "python",
   "nbconvert_exporter": "python",
   "pygments_lexer": "ipython3",
   "version": "3.8.11"
  }
 },
 "nbformat": 4,
 "nbformat_minor": 5
}
