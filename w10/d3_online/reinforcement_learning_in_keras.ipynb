{
 "cells": [
  {
   "cell_type": "markdown",
   "id": "de92f186-915b-497e-b9be-331fcc8f7e11",
   "metadata": {},
   "source": [
    "We're going to apply deep learning to create a more complex agent in Python.\n",
    "\n",
    "### Tutorial\n",
    "We will build our agent using deep learning and compare it with the initial approaches we tried in the previous tutorial.\n",
    "\n",
    "Continue with the article Reinforcement learning tutorial using Python and Keras. Pick up where we left off, i.e. from the heading Reinforcement learning with Keras, and build your agent using Deep Learning.\n",
    "\n",
    "https://adventuresinmachinelearning.com/reinforcement-learning-tutorial-python-keras/\n",
    "\n",
    "### Conclusion\n",
    "In this tutorial, we have seen the advantages that Deep Learning can bring to the field of Reinforcement Learning.\n",
    "\n",
    "Now, we are ready to create something on our own.\n",
    "\n"
   ]
  },
  {
   "cell_type": "code",
   "execution_count": null,
   "id": "f222abb3-ac24-44c3-a779-3c01759a9a7f",
   "metadata": {},
   "outputs": [],
   "source": []
  }
 ],
 "metadata": {
  "kernelspec": {
   "display_name": "test_env",
   "language": "python",
   "name": "test_env"
  },
  "language_info": {
   "codemirror_mode": {
    "name": "ipython",
    "version": 3
   },
   "file_extension": ".py",
   "mimetype": "text/x-python",
   "name": "python",
   "nbconvert_exporter": "python",
   "pygments_lexer": "ipython3",
   "version": "3.6.13"
  }
 },
 "nbformat": 4,
 "nbformat_minor": 5
}
