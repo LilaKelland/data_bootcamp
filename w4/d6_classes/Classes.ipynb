{
 "cells": [
  {
   "cell_type": "code",
   "execution_count": 67,
   "id": "146d3cbc-8e4b-4b77-a486-1f9288a0dd76",
   "metadata": {},
   "outputs": [
    {
     "name": "stdout",
     "output_type": "stream",
     "text": [
      "Corey Schafer - Corey.Schafer@company.com\n"
     ]
    }
   ],
   "source": [
    "# class is instance of class\n",
    "class Employee:\n",
    "#     class attributes - easy to update\n",
    "    raise_amt = 1.04  # can change this by Employee.raise_amount = 1.05, if emp_1.raise_amount=1.06 will only do this for this instance\n",
    "    num_of_emp = 0\n",
    "#     init is constructor\n",
    "    def __init__(self, first, last, pay):\n",
    "#         instance variables\n",
    "        self.first = first\n",
    "        self.last = last\n",
    "        self.pay = pay\n",
    "        self.email = first + '.' + last +'@company.com'\n",
    "        \n",
    "        Employee.num_of_emp += 1\n",
    "    \n",
    "    def __repr__(self):\n",
    "#         debugging - this as minimum - something to copy and paste and recreate object\n",
    "        return \"Employee('{}, '{}', {})\".format(self.first, self.last, self.pay)\n",
    "      \n",
    "    \n",
    "    def __str__(self):\n",
    "#     readable representation\n",
    "        return '{} - {}'.format(self.fullname(), self.email)\n",
    "\n",
    "#     need to put self in as argument\n",
    "    def fullname(self):\n",
    "        return'{} {}'.format(self.first, self.last)\n",
    "    \n",
    "    def apply_raise(self):\n",
    "#         self.pay = int(self.pay * Employee.raise_amount)\n",
    "        self.pay = int(self.pay * self.raise_amt)  #Can also do this with self.  will be able to over write from instance\n",
    "    \n",
    "    @classmethod\n",
    "    def set_raise_amt(cls, amount):\n",
    "        cls.raise_amt = amount\n",
    "        \n",
    "    @classmethod # alternative constructor eg datetime module\n",
    "    def from_string(cls, emp_str): # from is convention naming\n",
    "        first, last, pay = emp_str.split('-')\n",
    "        return cls(first, last, pay)\n",
    "    \n",
    "    @staticmethod\n",
    "    def is_workday(day):\n",
    "        if day.weekday() == 5 or day.weekday() == 6:\n",
    "            return False\n",
    "        return True\n",
    "    \n",
    "emp_1 = Employee('Corey','Schafer',50000)\n",
    "emp_2 = Employee('Test','User',60000)\n",
    "# init method run automatically\n",
    "repr(emp_1)\n",
    "str(emp_1)\n",
    "print(emp_1)"
   ]
  },
  {
   "cell_type": "code",
   "execution_count": 50,
   "id": "5adaabc4-c6eb-4c39-9f88-226903aab0fb",
   "metadata": {},
   "outputs": [
    {
     "data": {
      "text/plain": [
       "'python'"
      ]
     },
     "execution_count": 50,
     "metadata": {},
     "output_type": "execute_result"
    }
   ],
   "source": [
    "# inheritance\n",
    "\n",
    "class Developer(Employee):\n",
    "    raise_amt = 1.10\n",
    "    \n",
    "    def __init__(self, first, last, pay, prog_lang):\n",
    "        super().__init__(first, last, pay) # passes from parent class\n",
    "#         or Employee.__init__(self,first, last,pay) but above is better\n",
    "        self.prog_lang = prog_lang\n",
    "    \n",
    "\n",
    "dev_1 =Developer('Corey','Schafer',50000, 'python')\n",
    "dev_2 = Developer('Test','User',60000, 'java')\n",
    "\n",
    "# print(help(Developer))\n",
    "# dev_1.apply_raise()\n",
    "\n",
    "# dev_1.pay\n",
    "dev_1.email\n",
    "dev_1.prog_lang"
   ]
  },
  {
   "cell_type": "code",
   "execution_count": 53,
   "id": "8e0e7bcf-13c5-4680-9a44-bfc54ce0a072",
   "metadata": {},
   "outputs": [],
   "source": [
    "class Manager(Employee):\n",
    "#     dont pass mutible as manditory  (list, dict)\n",
    "        def __init__(self, first, last, pay, employees=None):\n",
    "            super().__init__(first, last, pay) # passes from parent class\n",
    "            if employees is None:\n",
    "                self.employees = []\n",
    "            else:\n",
    "                self.employees = employees\n",
    "\n",
    "        def add_emp(self, emp):\n",
    "            if emp not in self.employees:\n",
    "                self.employees.append(emp)\n",
    "       \n",
    "        def remove_emp(self, emp):\n",
    "            if emp in self.employees:\n",
    "                self.employees.remove(emp)\n",
    "                \n",
    "        def print_emp(self):\n",
    "            for emp in self.employees:\n",
    "                print('-->', emp.fullname())\n",
    "                "
   ]
  },
  {
   "cell_type": "code",
   "execution_count": 59,
   "id": "c56897f2-aa36-43e6-a17d-734a04793088",
   "metadata": {},
   "outputs": [
    {
     "name": "stdout",
     "output_type": "stream",
     "text": [
      "--> Test User\n"
     ]
    }
   ],
   "source": [
    "mgr_1 = Manager('Sue', 'Smith', 90000, [dev_1])\n",
    "mgr_1.add_emp(dev_2)\n",
    "mgr_1.remove_emp(dev_1)\n",
    "mgr_1.print_emp()"
   ]
  },
  {
   "cell_type": "code",
   "execution_count": 60,
   "id": "0fa3075b-86f7-4322-8c1e-94a33d6c7fc5",
   "metadata": {},
   "outputs": [
    {
     "data": {
      "text/plain": [
       "True"
      ]
     },
     "execution_count": 60,
     "metadata": {},
     "output_type": "execute_result"
    }
   ],
   "source": [
    "isinstance(mgr_1, Manager)"
   ]
  },
  {
   "cell_type": "code",
   "execution_count": 61,
   "id": "0140110c-a5f3-4c0f-9f84-b05f3587b246",
   "metadata": {},
   "outputs": [
    {
     "data": {
      "text/plain": [
       "True"
      ]
     },
     "execution_count": 61,
     "metadata": {},
     "output_type": "execute_result"
    }
   ],
   "source": [
    "issubclass(Developer,Employee)"
   ]
  },
  {
   "cell_type": "code",
   "execution_count": 35,
   "id": "cb6661b2-871f-4cd2-aae0-1c6400abea9b",
   "metadata": {},
   "outputs": [
    {
     "name": "stdout",
     "output_type": "stream",
     "text": [
      "False\n"
     ]
    }
   ],
   "source": [
    "import datetime\n",
    "my_date = datetime.date(2016, 7, 10)\n",
    "print(Employee.is_workday(my_date))"
   ]
  },
  {
   "cell_type": "code",
   "execution_count": 28,
   "id": "fc38cc2b-f4bb-4a66-965d-f53127d8862b",
   "metadata": {},
   "outputs": [],
   "source": [
    "emp_str_1 = 'John-Doe-70000'\n",
    "first, last, pay = emp_str_1.split('-')"
   ]
  },
  {
   "cell_type": "code",
   "execution_count": 30,
   "id": "4a2938a4-f88b-44b3-9603-77f8ee09667a",
   "metadata": {},
   "outputs": [
    {
     "data": {
      "text/plain": [
       "{'first': 'John',\n",
       " 'last': 'Doe',\n",
       " 'pay': '70000',\n",
       " 'email': 'John.Doe@company.com'}"
      ]
     },
     "execution_count": 30,
     "metadata": {},
     "output_type": "execute_result"
    }
   ],
   "source": [
    "new_emp1 = Employee.from_string(emp_str_1)\n",
    "new_emp1.__dict__"
   ]
  },
  {
   "cell_type": "code",
   "execution_count": 24,
   "id": "7e4d401a-f2d0-43f1-9949-4818ff17cc7d",
   "metadata": {},
   "outputs": [],
   "source": [
    "Employee.set_raise_amt(1.05)\n",
    "# same as Employee.raise_amt = 1.05\n"
   ]
  },
  {
   "cell_type": "code",
   "execution_count": 19,
   "id": "2bd03b32-d020-4fda-b846-13044f6d4b4e",
   "metadata": {},
   "outputs": [
    {
     "data": {
      "text/plain": [
       "1.04"
      ]
     },
     "execution_count": 19,
     "metadata": {},
     "output_type": "execute_result"
    }
   ],
   "source": [
    "# first looks at instance attibute, then looks to class attribute\n",
    "emp_1.raise_amount\n",
    "Employee.raise_amount"
   ]
  },
  {
   "cell_type": "code",
   "execution_count": 21,
   "id": "1faa4504-bdc2-43e3-b241-d9fc3012bf52",
   "metadata": {},
   "outputs": [
    {
     "data": {
      "text/plain": [
       "{'first': 'Corey',\n",
       " 'last': 'Schafer',\n",
       " 'pay': 50000,\n",
       " 'email': 'Corey.Schafer@company.com'}"
      ]
     },
     "execution_count": 21,
     "metadata": {},
     "output_type": "execute_result"
    }
   ],
   "source": [
    "emp_1.__dict__"
   ]
  },
  {
   "cell_type": "code",
   "execution_count": 22,
   "id": "febde428-ddc0-4854-ae7b-ca00a829ca3c",
   "metadata": {},
   "outputs": [
    {
     "data": {
      "text/plain": [
       "mappingproxy({'__module__': '__main__',\n",
       "              'raise_amount': 1.04,\n",
       "              '__init__': <function __main__.Employee.__init__(self, first, last, pay)>,\n",
       "              'fullname': <function __main__.Employee.fullname(self)>,\n",
       "              'apply_raise': <function __main__.Employee.apply_raise(self)>,\n",
       "              '__dict__': <attribute '__dict__' of 'Employee' objects>,\n",
       "              '__weakref__': <attribute '__weakref__' of 'Employee' objects>,\n",
       "              '__doc__': None})"
      ]
     },
     "execution_count": 22,
     "metadata": {},
     "output_type": "execute_result"
    }
   ],
   "source": [
    "Employee.__dict__"
   ]
  },
  {
   "cell_type": "code",
   "execution_count": 9,
   "id": "68d55f8e-e756-4f7d-b04d-7c269e36e65b",
   "metadata": {},
   "outputs": [
    {
     "name": "stdout",
     "output_type": "stream",
     "text": [
      "Test User\n"
     ]
    }
   ],
   "source": [
    "emp_1.email\n",
    "print(emp_2.fullname())"
   ]
  },
  {
   "cell_type": "code",
   "execution_count": 10,
   "id": "08e805d8-6acd-4bbc-ba20-42ce3a0397a2",
   "metadata": {},
   "outputs": [
    {
     "data": {
      "text/plain": [
       "'Corey Schafer'"
      ]
     },
     "execution_count": 10,
     "metadata": {},
     "output_type": "execute_result"
    }
   ],
   "source": [
    "# can pass in from the class level (but need to put instance in)\n",
    "Employee.fullname(emp_1)"
   ]
  },
  {
   "cell_type": "markdown",
   "id": "0ba38edf-d036-4f65-960e-9fb1e1eed21c",
   "metadata": {},
   "source": [
    "## Getter setter"
   ]
  },
  {
   "cell_type": "code",
   "execution_count": 84,
   "id": "78790a00-36b5-4d18-ba85-3a4acca19679",
   "metadata": {},
   "outputs": [
    {
     "data": {
      "text/plain": [
       "'Cory.Schafer@email.com'"
      ]
     },
     "execution_count": 84,
     "metadata": {},
     "output_type": "execute_result"
    }
   ],
   "source": [
    "class Employee:\n",
    "\n",
    "\n",
    "    def __init__(self, first, last):\n",
    "        self.first = first\n",
    "        self.last = last\n",
    "        self.pay = pay\n",
    "#         self.email = first + '.' + last +'@company.com'\n",
    "    \n",
    "    @property\n",
    "    def email(self):\n",
    "        return'{}.{}@email.com'.format(self.first, self.last) \n",
    "    \n",
    "    @property\n",
    "    def fullname(self):\n",
    "        return'{} {}'.format(self.first, self.last)   \n",
    "    \n",
    "    @fullname.setter\n",
    "    def fullname(self, name):\n",
    "        first, last = name.split(' ')\n",
    "        self.first = first\n",
    "        self.last = last\n",
    "        \n",
    "    @fullname.deleter\n",
    "    def fullname(self):\n",
    "        print('Delete name')\n",
    "        self.first = None\n",
    "        self.last = None\n",
    "    \n",
    "\n",
    "emp_1 = Employee('John', 'Smith')\n",
    "emp_1.fullname = 'Cory Schafer'\n",
    "# emp_1.first = 'Jim'\n",
    "emp_1.email"
   ]
  },
  {
   "cell_type": "code",
   "execution_count": 82,
   "id": "06ca7f6c-e798-42c5-9834-b71922cec76b",
   "metadata": {},
   "outputs": [
    {
     "name": "stdout",
     "output_type": "stream",
     "text": [
      "Delete name\n"
     ]
    }
   ],
   "source": [
    "del emp_1.fullname"
   ]
  },
  {
   "cell_type": "code",
   "execution_count": 83,
   "id": "d665258b-8eba-4c28-a27a-032a6e64a99b",
   "metadata": {},
   "outputs": [
    {
     "data": {
      "text/plain": [
       "<__main__.Employee at 0x7f9e5b2eebe0>"
      ]
     },
     "execution_count": 83,
     "metadata": {},
     "output_type": "execute_result"
    }
   ],
   "source": [
    "emp_1"
   ]
  },
  {
   "cell_type": "code",
   "execution_count": null,
   "id": "78356c05-aa16-4fc9-acf5-9fdb413101cd",
   "metadata": {},
   "outputs": [],
   "source": []
  }
 ],
 "metadata": {
  "kernelspec": {
   "display_name": "Python 3 (ipykernel)",
   "language": "python",
   "name": "python3"
  },
  "language_info": {
   "codemirror_mode": {
    "name": "ipython",
    "version": 3
   },
   "file_extension": ".py",
   "mimetype": "text/x-python",
   "name": "python",
   "nbconvert_exporter": "python",
   "pygments_lexer": "ipython3",
   "version": "3.8.11"
  }
 },
 "nbformat": 4,
 "nbformat_minor": 5
}
