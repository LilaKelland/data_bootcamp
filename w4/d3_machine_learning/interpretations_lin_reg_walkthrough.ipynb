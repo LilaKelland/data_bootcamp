{
 "cells": [
  {
   "cell_type": "markdown",
   "id": "13769fc6-7c23-4772-85f5-545742925f47",
   "metadata": {},
   "source": [
    "https://datatofish.com/statsmodels-linear-regression/\n",
    "\n",
    "Y = C + M*X\n",
    "\n",
    "Y = Dependent variable (output/outcome/prediction/estimation)\n",
    "\n",
    "C = Constant (Y-Intercept)\n",
    "\n",
    "M = Slope of the regression line (the effect that X has on Y)\n",
    "\n",
    "X = Independent variable (input variable used in the prediction of Y)\n",
    "\n",
    "Multiple variables \n",
    "Y = C + M1*X1 + M2*X2 + …"
   ]
  },
  {
   "cell_type": "code",
   "execution_count": 1,
   "id": "76932b26-4b23-4ba2-88d2-c52803e8ddd3",
   "metadata": {},
   "outputs": [
    {
     "name": "stdout",
     "output_type": "stream",
     "text": [
      "                            OLS Regression Results                            \n",
      "==============================================================================\n",
      "Dep. Variable:      Stock_Index_Price   R-squared:                       0.898\n",
      "Model:                            OLS   Adj. R-squared:                  0.888\n",
      "Method:                 Least Squares   F-statistic:                     92.07\n",
      "Date:                Wed, 06 Oct 2021   Prob (F-statistic):           4.04e-11\n",
      "Time:                        18:41:27   Log-Likelihood:                -134.61\n",
      "No. Observations:                  24   AIC:                             275.2\n",
      "Df Residuals:                      21   BIC:                             278.8\n",
      "Df Model:                           2                                         \n",
      "Covariance Type:            nonrobust                                         \n",
      "=====================================================================================\n",
      "                        coef    std err          t      P>|t|      [0.025      0.975]\n",
      "-------------------------------------------------------------------------------------\n",
      "const              1798.4040    899.248      2.000      0.059     -71.685    3668.493\n",
      "Interest_Rate       345.5401    111.367      3.103      0.005     113.940     577.140\n",
      "Unemployment_Rate  -250.1466    117.950     -2.121      0.046    -495.437      -4.856\n",
      "==============================================================================\n",
      "Omnibus:                        2.691   Durbin-Watson:                   0.530\n",
      "Prob(Omnibus):                  0.260   Jarque-Bera (JB):                1.551\n",
      "Skew:                          -0.612   Prob(JB):                        0.461\n",
      "Kurtosis:                       3.226   Cond. No.                         394.\n",
      "==============================================================================\n",
      "\n",
      "Notes:\n",
      "[1] Standard Errors assume that the covariance matrix of the errors is correctly specified.\n"
     ]
    }
   ],
   "source": [
    "# Input variables: Interest_Rate, Unemployment_Rate\n",
    "\n",
    "from pandas import DataFrame\n",
    "import statsmodels.api as sm\n",
    "\n",
    "Stock_Market = {'Year': [2017,2017,2017,2017,2017,2017,2017,2017,2017,2017,2017,2017,2016,2016,2016,2016,2016,2016,2016,2016,2016,2016,2016,2016],\n",
    "                'Month': [12, 11,10,9,8,7,6,5,4,3,2,1,12,11,10,9,8,7,6,5,4,3,2,1],\n",
    "                'Interest_Rate': [2.75,2.5,2.5,2.5,2.5,2.5,2.5,2.25,2.25,2.25,2,2,2,1.75,1.75,1.75,1.75,1.75,1.75,1.75,1.75,1.75,1.75,1.75],\n",
    "                'Unemployment_Rate': [5.3,5.3,5.3,5.3,5.4,5.6,5.5,5.5,5.5,5.6,5.7,5.9,6,5.9,5.8,6.1,6.2,6.1,6.1,6.1,5.9,6.2,6.2,6.1],\n",
    "                'Stock_Index_Price': [1464,1394,1357,1293,1256,1254,1234,1195,1159,1167,1130,1075,1047,965,943,958,971,949,884,866,876,822,704,719]        \n",
    "                }\n",
    "\n",
    "df = DataFrame(Stock_Market,columns=['Year','Month','Interest_Rate','Unemployment_Rate','Stock_Index_Price']) \n",
    "\n",
    "X = df[['Interest_Rate','Unemployment_Rate']] # here we have 2 variables for the multiple linear regression. If you just want to use one variable for simple linear regression, then use X = df['Interest_Rate'] for example\n",
    "Y = df['Stock_Index_Price']\n",
    "\n",
    "X = sm.add_constant(X) # adding a constant\n",
    "\n",
    "model = sm.OLS(Y, X).fit()\n",
    "predictions = model.predict(X) \n",
    "\n",
    "print_model = model.summary()\n",
    "print(print_model)"
   ]
  },
  {
   "cell_type": "markdown",
   "id": "c3b639fa-2f42-4cf8-8b69-c632573b85f5",
   "metadata": {},
   "source": [
    "1. Adjusted. R-squared reflects the fit of the model. R-squared values range from 0 to 1, where a higher value generally indicates a better fit, assuming certain conditions are met.\n",
    "2. const coefficient is your Y-intercept. It means that if both the Interest_Rate and Unemployment_Rate coefficients are zero, then the expected output (i.e., the Y) would be equal to the const coefficient.\n",
    "3. Interest_Rate coefficient represents the change in the output Y due to a change of one unit in the interest rate (everything else held constant)\n",
    "4. Unemployment_Rate coefficient represents the change in the output Y due to a change of one unit in the unemployment rate (everything else held constant)\n",
    "5. std err reflects the level of accuracy of the coefficients. The lower it is, the higher is the level of accuracy\n",
    "6. P >|t| is your p-value. A p-value of less than 0.05 is considered to be statistically significant\n",
    "7. Confidence Interval represents the range in which our coefficients are likely to fall (with a likelihood of 95%)"
   ]
  },
  {
   "cell_type": "markdown",
   "id": "0023fef7-09c7-4409-9f98-0faeddc97410",
   "metadata": {},
   "source": [
    "## Making Predictions based on the Regression Results\n",
    "Y = C + M1*X1 + M2*X2 + …\n",
    "\n",
    "* Stock_Index_Price = (const coef) + (Interest_Rate coef)*X1 + (Unemployment_Rate coef)*X2\n",
    "* Stock_Index_Price = (1798.4040) + (345.5401)*X1 + (-250.1466)*X2\n",
    "\n",
    "Example\n",
    "* Interest Rate = 2.75 (i.e., X1= 2.75)\n",
    "* Unemployment Rate = 5.3 (i.e., X2= 5.3)\n",
    "\n",
    "When you plug those numbers you’ll get:\n",
    "\n",
    "* Stock_Index_Price = (1798.4040) + (345.5401)*X1 + (-250.1466)*X2\n",
    "* Stock_Index_Price = (1798.4040) + (345.5401)*(2.75) + (-250.1466)*(5.3) = 1422.86"
   ]
  },
  {
   "cell_type": "code",
   "execution_count": null,
   "id": "1a7cd851-8dfc-4716-b558-f14b0580b0bb",
   "metadata": {},
   "outputs": [],
   "source": []
  }
 ],
 "metadata": {
  "kernelspec": {
   "display_name": "Python 3 (ipykernel)",
   "language": "python",
   "name": "python3"
  },
  "language_info": {
   "codemirror_mode": {
    "name": "ipython",
    "version": 3
   },
   "file_extension": ".py",
   "mimetype": "text/x-python",
   "name": "python",
   "nbconvert_exporter": "python",
   "pygments_lexer": "ipython3",
   "version": "3.8.11"
  }
 },
 "nbformat": 4,
 "nbformat_minor": 5
}
