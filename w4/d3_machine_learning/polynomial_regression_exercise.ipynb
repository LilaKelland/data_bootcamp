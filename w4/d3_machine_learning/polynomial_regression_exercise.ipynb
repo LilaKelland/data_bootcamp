{
 "cells": [
  {
   "cell_type": "markdown",
   "metadata": {},
   "source": [
    "### Regression exercise\n",
    "\n",
    "Today, we will fit different polynomial regression to randomly generated data and explore how our loss function behaves. We will use the formulas, introduced in the theoretical sections and create a linear regression model from scratch. \n"
   ]
  },
  {
   "cell_type": "code",
   "execution_count": 3,
   "metadata": {},
   "outputs": [],
   "source": [
    "import pandas as pd\n",
    "import numpy as np\n",
    "\n",
    "import random\n",
    "import matplotlib.pyplot as plt"
   ]
  },
  {
   "cell_type": "markdown",
   "metadata": {},
   "source": [
    "#### Task 1\n",
    "\n",
    "Write a function psi(x,m) defined as $\\psi(x)=[1, x, x ^2, ..., x^m]$"
   ]
  },
  {
   "cell_type": "code",
   "execution_count": 97,
   "metadata": {},
   "outputs": [],
   "source": [
    "def psi(x,m):\n",
    "    psi = []\n",
    "    for i in range(m+1):\n",
    "        psi.append(x**i)\n",
    "    return np.array(psi)\n",
    "    "
   ]
  },
  {
   "cell_type": "code",
   "execution_count": 98,
   "metadata": {},
   "outputs": [
    {
     "data": {
      "text/plain": [
       "array([ 1,  2,  4,  8, 16])"
      ]
     },
     "execution_count": 98,
     "metadata": {},
     "output_type": "execute_result"
    }
   ],
   "source": [
    "psi(2,4)"
   ]
  },
  {
   "cell_type": "markdown",
   "metadata": {},
   "source": [
    "#### Task 2\n",
    "\n",
    "Write a function $h(x,\\alpha, m)$ defined as $h(x,\\alpha, m)=\\alpha^T\\psi(x, m)$"
   ]
  },
  {
   "cell_type": "code",
   "execution_count": 99,
   "metadata": {},
   "outputs": [],
   "source": [
    "def h(x,alpha, m):\n",
    "    return(alpha.T.dot(psi(x,m)))\n"
   ]
  },
  {
   "cell_type": "code",
   "execution_count": 7,
   "metadata": {},
   "outputs": [
    {
     "data": {
      "text/plain": [
       "129"
      ]
     },
     "execution_count": 7,
     "metadata": {},
     "output_type": "execute_result"
    }
   ],
   "source": [
    "alpha = np.array([1,2,3,4,5])\n",
    "x= 2\n",
    "m = 4\n",
    "\n",
    "h(x,alpha,m)"
   ]
  },
  {
   "cell_type": "code",
   "execution_count": 95,
   "metadata": {},
   "outputs": [],
   "source": [
    "# "
   ]
  },
  {
   "cell_type": "markdown",
   "metadata": {},
   "source": [
    "#### Task 3\n",
    "Create a random 3rd order polynomial (we call it p3)"
   ]
  },
  {
   "cell_type": "code",
   "execution_count": 10,
   "metadata": {},
   "outputs": [
    {
     "data": {
      "text/plain": [
       "array([-1, 23])"
      ]
     },
     "execution_count": 10,
     "metadata": {},
     "output_type": "execute_result"
    }
   ],
   "source": [
    "# random_num = random.randrange(100)\n",
    "\n",
    "p3 = np.poly1d([1,-3, 2,-1])\n",
    "p3([2,4])"
   ]
  },
  {
   "cell_type": "code",
   "execution_count": 109,
   "metadata": {},
   "outputs": [
    {
     "data": {
      "image/png": "[encoded data removed]",
      "text/plain": [
       "<Figure size 432x288 with 1 Axes>"
      ]
     },
     "metadata": {
      "needs_background": "light"
     },
     "output_type": "display_data"
    }
   ],
   "source": [
    "x = np.linspace(-5,5,100)\n",
    "\n",
    "# the function, which is y = x^3 here\n",
    "y = x**3\n",
    "\n",
    "# setting the axes at the centre\n",
    "fig = plt.figure()\n",
    "ax = fig.add_subplot(1, 1, 1)\n",
    "ax.spines['left'].set_position('center')\n",
    "ax.spines['bottom'].set_position('zero')\n",
    "ax.spines['right'].set_color('none')\n",
    "ax.spines['top'].set_color('none')\n",
    "ax.xaxis.set_ticks_position('bottom')\n",
    "ax.yaxis.set_ticks_position('left')\n",
    "\n",
    "# plot the function\n",
    "plt.plot(x,y, 'r')\n",
    "\n",
    "# show the plot\n",
    "plt.show()"
   ]
  },
  {
   "cell_type": "markdown",
   "metadata": {},
   "source": [
    "#### Task 4\n",
    "Choose an interval [a,b], on which the polynomial is S-shaped."
   ]
  },
  {
   "cell_type": "code",
   "execution_count": 108,
   "metadata": {},
   "outputs": [],
   "source": [
    "# import matplotlib.pyplot as plt\n",
    "# x = np.array([0,1,2,3, 4, 5,6])\n",
    "# y = x**3\n",
    "\n",
    "# # a line plot\n",
    "# plt.plot(x,y,'red')\n",
    "# plt.title('3rd order polynomial')\n",
    "# plt.xlabel('x')\n",
    "# plt.ylabel('p3')\n",
    "# plt.show()"
   ]
  },
  {
   "cell_type": "code",
   "execution_count": 15,
   "metadata": {},
   "outputs": [],
   "source": [
    "# choose \n",
    "a=-4\n",
    "b =4"
   ]
  },
  {
   "cell_type": "markdown",
   "metadata": {},
   "source": [
    "#### Task 5\n",
    "Sample 30 random values in [a,b] and stored them in `xs`."
   ]
  },
  {
   "cell_type": "code",
   "execution_count": 40,
   "metadata": {},
   "outputs": [
    {
     "data": {
      "text/plain": [
       "[-1.8864582591180223,\n",
       " -3.3447927236640265,\n",
       " 3.1809105384942615,\n",
       " 2.761556963894577,\n",
       " -3.124771637688222,\n",
       " 0.2083814114901159,\n",
       " 0.40167855650928264,\n",
       " 2.6741739168362697,\n",
       " -0.8652134379745755,\n",
       " -3.0914891835595872,\n",
       " -1.7593407952559685,\n",
       " -1.420297384613149,\n",
       " 0.8278047152975061,\n",
       " 3.377160598733022,\n",
       " 3.128363974468523,\n",
       " -1.0088105102508669,\n",
       " -3.908160675906611,\n",
       " -3.1098945302784484,\n",
       " 2.755342111413121,\n",
       " 3.9142542616848353,\n",
       " 3.0817543490355046,\n",
       " -3.030950288237168,\n",
       " 0.7145684520587761,\n",
       " -1.394196648478034,\n",
       " 0.07598869198155445,\n",
       " 1.9860748236763985,\n",
       " -0.6772885952374956,\n",
       " 3.1117482527881943,\n",
       " -2.5302898733742483,\n",
       " -3.8946394095446495]"
      ]
     },
     "execution_count": 40,
     "metadata": {},
     "output_type": "execute_result"
    }
   ],
   "source": [
    "xs = []\n",
    "for i in range(30):\n",
    "    xs.append(random.uniform(a, b))\n",
    "xs"
   ]
  },
  {
   "cell_type": "code",
   "execution_count": null,
   "metadata": {},
   "outputs": [],
   "source": []
  },
  {
   "cell_type": "markdown",
   "metadata": {},
   "source": [
    "#### Task 6\n",
    "For each x in xs, compute p3(x) and store them as `ys`."
   ]
  },
  {
   "cell_type": "code",
   "execution_count": 41,
   "metadata": {},
   "outputs": [],
   "source": [
    "ys = p3(xs)\n",
    "\n"
   ]
  },
  {
   "cell_type": "code",
   "execution_count": 18,
   "metadata": {},
   "outputs": [
    {
     "data": {
      "text/plain": [
       "array([  0.53356297,  -0.88826805, -84.25620829, -30.24790812,\n",
       "        -1.00776228, -51.49742742,  -0.83205   ,  -4.07260485,\n",
       "        -7.94977357,  -1.1786693 , -41.36306154,  -0.73413762,\n",
       "        -0.98521156,   4.78498601,   8.62165726, -26.37306855,\n",
       "        -0.61520705, -25.76679676,  -1.19494422,  -0.95938238,\n",
       "        -2.5594145 ,  -0.88544578, -13.40129821,  -6.88469183,\n",
       "        -1.13096979,  22.9571891 ,  -1.05808533, -30.54399658,\n",
       "        -2.95942607, -52.18963653])"
      ]
     },
     "execution_count": 18,
     "metadata": {},
     "output_type": "execute_result"
    }
   ],
   "source": [
    "ys"
   ]
  },
  {
   "cell_type": "markdown",
   "metadata": {},
   "source": [
    "#### Task 7:\n",
    "Plot `ys` against `xs` on [a,b]. Does it look like a third order polynomial?"
   ]
  },
  {
   "cell_type": "code",
   "execution_count": 58,
   "metadata": {},
   "outputs": [],
   "source": [
    "plot_df = pd.DataFrame({'xs': xs, 'ys':ys})\n",
    "plot_df = plot_df.sort_values('xs')"
   ]
  },
  {
   "cell_type": "code",
   "execution_count": 59,
   "metadata": {},
   "outputs": [
    {
     "data": {
      "image/png": "[encoded data removed]",
      "text/plain": [
       "<Figure size 432x288 with 1 Axes>"
      ]
     },
     "metadata": {
      "needs_background": "light"
     },
     "output_type": "display_data"
    }
   ],
   "source": [
    "x = plot_df['xs']\n",
    "y = plot_df['ys']\n",
    "\n",
    "# a line plot\n",
    "plt.plot(x,y,'red')\n",
    "plt.title('3rd order polynomial')\n",
    "plt.xlabel('x')\n",
    "plt.ylabel('p3')\n",
    "plt.show()"
   ]
  },
  {
   "cell_type": "code",
   "execution_count": null,
   "metadata": {},
   "outputs": [],
   "source": []
  },
  {
   "cell_type": "markdown",
   "metadata": {},
   "source": [
    "## Fitting the data"
   ]
  },
  {
   "cell_type": "markdown",
   "metadata": {},
   "source": [
    "We will try to fit the data by a polynomial of order m=2. \n",
    "\n",
    "#### Task 8:\n",
    "\n",
    "Using xs and psi, create the matrix X defined as \n",
    "\n",
    "<img src=\"matrixX.png\">"
   ]
  },
  {
   "cell_type": "code",
   "execution_count": 162,
   "metadata": {},
   "outputs": [],
   "source": []
  },
  {
   "cell_type": "code",
   "execution_count": 100,
   "metadata": {},
   "outputs": [],
   "source": [
    "# create shape first using zeros, then iterate through - need m+1 for 0 row\n",
    "# one row for each order\n",
    "# note - would need to convert to list if xs was a np array\n",
    "\n",
    "# Use this to predict the y2\n",
    "def create_X(m, xs):\n",
    "    x = np.zeros([m+1, len(xs)])\n",
    "    for i in range(len(xs)):\n",
    "        x[:,i] = psi(xs[i],m)\n",
    "    return x"
   ]
  },
  {
   "cell_type": "code",
   "execution_count": null,
   "metadata": {},
   "outputs": [],
   "source": []
  },
  {
   "cell_type": "code",
   "execution_count": 122,
   "metadata": {},
   "outputs": [],
   "source": [
    "X = create_X(2,xs)\n",
    "# X"
   ]
  },
  {
   "cell_type": "code",
   "execution_count": 123,
   "metadata": {},
   "outputs": [
    {
     "data": {
      "text/plain": [
       "(3, 30)"
      ]
     },
     "execution_count": 123,
     "metadata": {},
     "output_type": "execute_result"
    }
   ],
   "source": [
    "X.shape\n"
   ]
  },
  {
   "cell_type": "code",
   "execution_count": 172,
   "metadata": {},
   "outputs": [],
   "source": []
  },
  {
   "cell_type": "markdown",
   "metadata": {},
   "source": [
    "#### Task 9\n",
    "Compute the optimal $\\alpha$ using the expression $\\alpha = (XX^T)^+Xy$ where $(XX^T)^+$ is the pseudoinverse matrix. y is our `ys` from the Task 6."
   ]
  },
  {
   "cell_type": "code",
   "execution_count": 124,
   "metadata": {},
   "outputs": [
    {
     "data": {
      "text/plain": [
       "(3,)"
      ]
     },
     "execution_count": 124,
     "metadata": {},
     "output_type": "execute_result"
    }
   ],
   "source": [
    "# THESE ARE THE coeffiencnts or the polynomial \n",
    "# ALSO FIND THIS WITH\n",
    "# np.linalg.pinv(x)\n",
    "\n",
    "alpha =np.dot(np.dot(np.linalg.inv(np.dot(X, X.transpose())),X), ys)\n",
    "alpha.shape"
   ]
  },
  {
   "cell_type": "code",
   "execution_count": 125,
   "metadata": {},
   "outputs": [],
   "source": []
  },
  {
   "cell_type": "code",
   "execution_count": 186,
   "metadata": {},
   "outputs": [],
   "source": []
  },
  {
   "cell_type": "code",
   "execution_count": null,
   "metadata": {},
   "outputs": [],
   "source": []
  },
  {
   "cell_type": "markdown",
   "metadata": {},
   "source": [
    "#### Task 10\n",
    "Plot the data and the computed polynomial. Does it fit?"
   ]
  },
  {
   "cell_type": "code",
   "execution_count": 144,
   "metadata": {},
   "outputs": [],
   "source": [
    "# xs"
   ]
  },
  {
   "cell_type": "code",
   "execution_count": 125,
   "metadata": {},
   "outputs": [],
   "source": [
    "# make predictions by iterating through each element in xs and predict y2 using 3 alphas and xs\n",
    "\n",
    "# REALLY SHOULD BE GETTING NEW RANDOM VALUES\n",
    "\n",
    "y2 =[]\n",
    "for i in range(len(xs)):\n",
    "    y2.append(h(xs[i],alpha, 2))"
   ]
  },
  {
   "cell_type": "code",
   "execution_count": 106,
   "metadata": {},
   "outputs": [
    {
     "data": {
      "text/plain": [
       "30"
      ]
     },
     "execution_count": 106,
     "metadata": {},
     "output_type": "execute_result"
    }
   ],
   "source": [
    "len(y2)"
   ]
  },
  {
   "cell_type": "code",
   "execution_count": 126,
   "metadata": {},
   "outputs": [
    {
     "data": {
      "image/png": "[encoded data removed]",
      "text/plain": [
       "<Figure size 432x288 with 1 Axes>"
      ]
     },
     "metadata": {
      "needs_background": "light"
     },
     "output_type": "display_data"
    }
   ],
   "source": [
    "# x = x\n",
    "# y\n",
    "# y = plot_df['ys']\n",
    "\n",
    "y2 = y2\n",
    "\n",
    "# a line plot\n",
    "plt.plot(x,y,'red')\n",
    "plt.scatter(xs,y2,color='blue')\n",
    "plt.title('3rd order polynomial')\n",
    "plt.xlabel('x')\n",
    "plt.ylabel('p3')\n",
    "plt.show()"
   ]
  },
  {
   "cell_type": "code",
   "execution_count": null,
   "metadata": {},
   "outputs": [],
   "source": []
  },
  {
   "cell_type": "markdown",
   "metadata": {},
   "source": [
    "#### Task 11\n",
    "Repeat the process for m=3,…,10. What do you observe?"
   ]
  },
  {
   "cell_type": "code",
   "execution_count": 77,
   "metadata": {},
   "outputs": [],
   "source": [
    "\n",
    "\n"
   ]
  },
  {
   "cell_type": "code",
   "execution_count": 78,
   "metadata": {},
   "outputs": [],
   "source": [
    "# print(y3, y4)"
   ]
  },
  {
   "cell_type": "code",
   "execution_count": 135,
   "metadata": {},
   "outputs": [
    {
     "data": {
      "image/png": "[encoded data removed]",
      "text/plain": [
       "<Figure size 432x288 with 1 Axes>"
      ]
     },
     "metadata": {
      "needs_background": "light"
     },
     "output_type": "display_data"
    }
   ],
   "source": [
    "xs = []\n",
    "for i in range(30):\n",
    "    xs.append(random.uniform(a, b))\n",
    "xs\n",
    "\n",
    "X = create_X(3,xs)\n",
    "alpha =np.dot(np.dot(np.linalg.inv(np.dot(X, X.transpose())),X), ys)\n",
    "y3 =[]\n",
    "for i in range(len(xs)):\n",
    "    y3.append(h(xs[i],alpha, 3))\n",
    "\n",
    "x = np.linspace(-5,5,100)\n",
    "\n",
    "y = x**3\n",
    "\n",
    "\n",
    "# a line plot\n",
    "plt.plot(x,y,'red')\n",
    "\n",
    "plt.scatter(xs,y3,color='blue')\n",
    "\n",
    "plt.title('3rd order polynomial')\n",
    "plt.xlabel('x')\n",
    "plt.ylabel('p3')\n",
    "plt.show()"
   ]
  },
  {
   "cell_type": "code",
   "execution_count": 131,
   "metadata": {},
   "outputs": [],
   "source": [
    "# X"
   ]
  },
  {
   "cell_type": "code",
   "execution_count": 136,
   "metadata": {},
   "outputs": [
    {
     "data": {
      "image/png": "[encoded data removed]",
      "text/plain": [
       "<Figure size 432x288 with 1 Axes>"
      ]
     },
     "metadata": {
      "needs_background": "light"
     },
     "output_type": "display_data"
    }
   ],
   "source": [
    "xs = []\n",
    "for i in range(30):\n",
    "    xs.append(random.uniform(a, b))\n",
    "\n",
    "X = create_X(4,xs)\n",
    "alpha =np.dot(np.dot(np.linalg.inv(np.dot(X, X.transpose())),X), ys)\n",
    "y4 =[]\n",
    "for i in range(len(xs)):\n",
    "    y4.append(h(xs[i],alpha, 4))\n",
    "\n",
    "x = np.linspace(-5,5,100)\n",
    "y = x**3\n",
    "# a line plot\n",
    "plt.plot(x,y,'red')\n",
    "plt.scatter(xs,y4,color='blue')\n",
    "\n",
    "plt.title('3rd order polynomial')\n",
    "plt.xlabel('x')\n",
    "plt.ylabel('p3')\n",
    "plt.show()"
   ]
  },
  {
   "cell_type": "code",
   "execution_count": 139,
   "metadata": {},
   "outputs": [
    {
     "data": {
      "image/png": "[encoded data removed]",
      "text/plain": [
       "<Figure size 432x288 with 1 Axes>"
      ]
     },
     "metadata": {
      "needs_background": "light"
     },
     "output_type": "display_data"
    }
   ],
   "source": [
    "xs = []\n",
    "for i in range(30):\n",
    "    xs.append(random.uniform(a, b))\n",
    "\n",
    "X = create_X(5,xs)\n",
    "alpha =np.dot(np.dot(np.linalg.inv(np.dot(X, X.transpose())),X), ys)\n",
    "y5 =[]\n",
    "for i in range(len(xs)):\n",
    "    y5.append(h(xs[i],alpha, 5))\n",
    "\n",
    "x = np.linspace(-5,5,100)\n",
    "y = x**3\n",
    "\n",
    "\n",
    "y5=y5\n",
    "\n",
    "\n",
    "# a line plot\n",
    "plt.plot(x,y,'red')\n",
    "\n",
    "plt.scatter(xs,y5,color='blue')\n",
    "\n",
    "plt.title('3rd order polynomial')\n",
    "plt.xlabel('x')\n",
    "plt.ylabel('p3')\n",
    "plt.show()"
   ]
  },
  {
   "cell_type": "code",
   "execution_count": 143,
   "metadata": {},
   "outputs": [
    {
     "data": {
      "image/png": "[encoded data removed]",
      "text/plain": [
       "<Figure size 432x288 with 1 Axes>"
      ]
     },
     "metadata": {
      "needs_background": "light"
     },
     "output_type": "display_data"
    }
   ],
   "source": [
    "xs = []\n",
    "for i in range(30):\n",
    "    xs.append(random.uniform(a, b))\n",
    "\n",
    "X = create_X(6,xs)\n",
    "alpha =np.dot(np.dot(np.linalg.inv(np.dot(X, X.transpose())),X), ys)\n",
    "\n",
    "y6 =[]\n",
    "for i in range(len(xs)):\n",
    "    y6.append(h(xs[i],alpha, 6))\n",
    "\n",
    "xs = []\n",
    "for i in range(30):\n",
    "    xs.append(random.uniform(a, b))\n",
    "\n",
    "x = np.linspace(-5,5,100)\n",
    "y = x**3\n",
    "\n",
    "\n",
    "# a line plot\n",
    "plt.plot(x,y,'red')\n",
    "\n",
    "plt.scatter(xs,y6,color='blue')\n",
    "plt.title('3rd order polynomial')\n",
    "plt.xlabel('x')\n",
    "plt.ylabel('p3')\n",
    "plt.show()"
   ]
  },
  {
   "cell_type": "markdown",
   "metadata": {},
   "source": [
    "#### Task 12\n",
    "Plot the value of the loss (defined as $ l(\\alpha^Tx, y) = \\sum(\\alpha^Tx - y)^2 $  ) for m=2,…,10. y is our `ys` from the Task 6. What do you observe? Could you tell the optimal m from the plot?"
   ]
  },
  {
   "cell_type": "code",
   "execution_count": 95,
   "metadata": {},
   "outputs": [],
   "source": [
    "def value_loss(A):\n",
    "    losses=[]\n",
    "    for i in range(len(alpha_vals)):\n",
    "        pred = alpha_vals[i]\n",
    "        actual = ys[i]\n",
    "        loss_val = (pred - actual)**2\n",
    "        losses.append(loss_val)\n",
    "        \n",
    "    total_loss = sum(losses)\n",
    "    return(total_loss)"
   ]
  },
  {
   "cell_type": "code",
   "execution_count": null,
   "metadata": {},
   "outputs": [],
   "source": [
    "# loss_counts = []\n",
    "\n",
    "# for i in range(2,11):\n",
    "#     "
   ]
  },
  {
   "cell_type": "code",
   "execution_count": null,
   "metadata": {},
   "outputs": [],
   "source": []
  }
 ],
 "metadata": {
  "kernelspec": {
   "display_name": "Python 3 (ipykernel)",
   "language": "python",
   "name": "python3"
  },
  "language_info": {
   "codemirror_mode": {
    "name": "ipython",
    "version": 3
   },
   "file_extension": ".py",
   "mimetype": "text/x-python",
   "name": "python",
   "nbconvert_exporter": "python",
   "pygments_lexer": "ipython3",
   "version": "3.8.11"
  }
 },
 "nbformat": 4,
 "nbformat_minor": 4
}
