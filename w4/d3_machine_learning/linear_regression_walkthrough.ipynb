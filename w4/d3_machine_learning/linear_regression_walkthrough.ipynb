{
 "cells": [
  {
   "cell_type": "code",
   "execution_count": 22,
   "id": "4758960e-9e02-44a2-a5ff-593ba1036dc5",
   "metadata": {},
   "outputs": [
    {
     "data": {
      "text/html": [
       "<div>\n",
       "<style scoped>\n",
       "    .dataframe tbody tr th:only-of-type {\n",
       "        vertical-align: middle;\n",
       "    }\n",
       "\n",
       "    .dataframe tbody tr th {\n",
       "        vertical-align: top;\n",
       "    }\n",
       "\n",
       "    .dataframe thead th {\n",
       "        text-align: right;\n",
       "    }\n",
       "</style>\n",
       "<table border=\"1\" class=\"dataframe\">\n",
       "  <thead>\n",
       "    <tr style=\"text-align: right;\">\n",
       "      <th></th>\n",
       "      <th>OverallQual</th>\n",
       "      <th>YearBuilt</th>\n",
       "      <th>ExterQual</th>\n",
       "      <th>BsmtQual</th>\n",
       "      <th>TotalBsmtSF</th>\n",
       "      <th>GrLivArea</th>\n",
       "      <th>FullBath</th>\n",
       "      <th>KitchenQual</th>\n",
       "      <th>GarageCars</th>\n",
       "      <th>OverallGrade</th>\n",
       "      <th>SalePrice</th>\n",
       "    </tr>\n",
       "  </thead>\n",
       "  <tbody>\n",
       "    <tr>\n",
       "      <th>0</th>\n",
       "      <td>7.0</td>\n",
       "      <td>2003.0</td>\n",
       "      <td>4.0</td>\n",
       "      <td>4.0</td>\n",
       "      <td>856.0</td>\n",
       "      <td>1710.0</td>\n",
       "      <td>2.0</td>\n",
       "      <td>4.0</td>\n",
       "      <td>2.0</td>\n",
       "      <td>35.0</td>\n",
       "      <td>208500</td>\n",
       "    </tr>\n",
       "    <tr>\n",
       "      <th>1</th>\n",
       "      <td>6.0</td>\n",
       "      <td>1976.0</td>\n",
       "      <td>3.0</td>\n",
       "      <td>4.0</td>\n",
       "      <td>1262.0</td>\n",
       "      <td>1262.0</td>\n",
       "      <td>2.0</td>\n",
       "      <td>3.0</td>\n",
       "      <td>2.0</td>\n",
       "      <td>48.0</td>\n",
       "      <td>181500</td>\n",
       "    </tr>\n",
       "    <tr>\n",
       "      <th>2</th>\n",
       "      <td>7.0</td>\n",
       "      <td>2001.0</td>\n",
       "      <td>4.0</td>\n",
       "      <td>4.0</td>\n",
       "      <td>920.0</td>\n",
       "      <td>1786.0</td>\n",
       "      <td>2.0</td>\n",
       "      <td>4.0</td>\n",
       "      <td>2.0</td>\n",
       "      <td>35.0</td>\n",
       "      <td>223500</td>\n",
       "    </tr>\n",
       "    <tr>\n",
       "      <th>3</th>\n",
       "      <td>7.0</td>\n",
       "      <td>1915.0</td>\n",
       "      <td>3.0</td>\n",
       "      <td>3.0</td>\n",
       "      <td>756.0</td>\n",
       "      <td>1717.0</td>\n",
       "      <td>1.0</td>\n",
       "      <td>4.0</td>\n",
       "      <td>3.0</td>\n",
       "      <td>35.0</td>\n",
       "      <td>140000</td>\n",
       "    </tr>\n",
       "    <tr>\n",
       "      <th>4</th>\n",
       "      <td>8.0</td>\n",
       "      <td>2000.0</td>\n",
       "      <td>4.0</td>\n",
       "      <td>4.0</td>\n",
       "      <td>1145.0</td>\n",
       "      <td>2198.0</td>\n",
       "      <td>2.0</td>\n",
       "      <td>4.0</td>\n",
       "      <td>3.0</td>\n",
       "      <td>40.0</td>\n",
       "      <td>250000</td>\n",
       "    </tr>\n",
       "  </tbody>\n",
       "</table>\n",
       "</div>"
      ],
      "text/plain": [
       "   OverallQual  YearBuilt  ExterQual  BsmtQual  TotalBsmtSF  GrLivArea  \\\n",
       "0          7.0     2003.0        4.0       4.0        856.0     1710.0   \n",
       "1          6.0     1976.0        3.0       4.0       1262.0     1262.0   \n",
       "2          7.0     2001.0        4.0       4.0        920.0     1786.0   \n",
       "3          7.0     1915.0        3.0       3.0        756.0     1717.0   \n",
       "4          8.0     2000.0        4.0       4.0       1145.0     2198.0   \n",
       "\n",
       "   FullBath  KitchenQual  GarageCars  OverallGrade  SalePrice  \n",
       "0       2.0          4.0         2.0          35.0     208500  \n",
       "1       2.0          3.0         2.0          48.0     181500  \n",
       "2       2.0          4.0         2.0          35.0     223500  \n",
       "3       1.0          4.0         3.0          35.0     140000  \n",
       "4       2.0          4.0         3.0          40.0     250000  "
      ]
     },
     "execution_count": 22,
     "metadata": {},
     "output_type": "execute_result"
    }
   ],
   "source": [
    "import statsmodels.api as sm\n",
    "\n",
    "import pandas as pd\n",
    "import numpy as np\n",
    "\n",
    "# for sm regression\n",
    "import statsmodels.api as sm\n",
    "\n",
    "# for sklearn regression\n",
    "from sklearn.linear_model import LinearRegression\n",
    "\n",
    "df_train = pd.read_csv('df_train.csv')\n",
    "df_train.head()"
   ]
  },
  {
   "cell_type": "code",
   "execution_count": 11,
   "id": "7f2acee8-96b3-4024-aa18-e7967763d394",
   "metadata": {},
   "outputs": [],
   "source": [
    "X = df_train.drop(['SalePrice'], axis = 1)"
   ]
  },
  {
   "cell_type": "code",
   "execution_count": 12,
   "id": "ca0e4b9f-914d-45a4-9fd3-2f57028e22f7",
   "metadata": {},
   "outputs": [],
   "source": [
    "y = df_train['SalePrice']"
   ]
  },
  {
   "cell_type": "code",
   "execution_count": 13,
   "id": "54587c8e-0eda-40a0-baab-8c1b956ed891",
   "metadata": {},
   "outputs": [
    {
     "data": {
      "text/html": [
       "<div>\n",
       "<style scoped>\n",
       "    .dataframe tbody tr th:only-of-type {\n",
       "        vertical-align: middle;\n",
       "    }\n",
       "\n",
       "    .dataframe tbody tr th {\n",
       "        vertical-align: top;\n",
       "    }\n",
       "\n",
       "    .dataframe thead th {\n",
       "        text-align: right;\n",
       "    }\n",
       "</style>\n",
       "<table border=\"1\" class=\"dataframe\">\n",
       "  <thead>\n",
       "    <tr style=\"text-align: right;\">\n",
       "      <th></th>\n",
       "      <th>OverallQual</th>\n",
       "      <th>YearBuilt</th>\n",
       "      <th>ExterQual</th>\n",
       "      <th>BsmtQual</th>\n",
       "      <th>TotalBsmtSF</th>\n",
       "      <th>GrLivArea</th>\n",
       "      <th>FullBath</th>\n",
       "      <th>KitchenQual</th>\n",
       "      <th>GarageCars</th>\n",
       "      <th>OverallGrade</th>\n",
       "    </tr>\n",
       "  </thead>\n",
       "  <tbody>\n",
       "    <tr>\n",
       "      <th>0</th>\n",
       "      <td>7.0</td>\n",
       "      <td>2003.0</td>\n",
       "      <td>4.0</td>\n",
       "      <td>4.0</td>\n",
       "      <td>856.0</td>\n",
       "      <td>1710.0</td>\n",
       "      <td>2.0</td>\n",
       "      <td>4.0</td>\n",
       "      <td>2.0</td>\n",
       "      <td>35.0</td>\n",
       "    </tr>\n",
       "    <tr>\n",
       "      <th>1</th>\n",
       "      <td>6.0</td>\n",
       "      <td>1976.0</td>\n",
       "      <td>3.0</td>\n",
       "      <td>4.0</td>\n",
       "      <td>1262.0</td>\n",
       "      <td>1262.0</td>\n",
       "      <td>2.0</td>\n",
       "      <td>3.0</td>\n",
       "      <td>2.0</td>\n",
       "      <td>48.0</td>\n",
       "    </tr>\n",
       "    <tr>\n",
       "      <th>2</th>\n",
       "      <td>7.0</td>\n",
       "      <td>2001.0</td>\n",
       "      <td>4.0</td>\n",
       "      <td>4.0</td>\n",
       "      <td>920.0</td>\n",
       "      <td>1786.0</td>\n",
       "      <td>2.0</td>\n",
       "      <td>4.0</td>\n",
       "      <td>2.0</td>\n",
       "      <td>35.0</td>\n",
       "    </tr>\n",
       "    <tr>\n",
       "      <th>3</th>\n",
       "      <td>7.0</td>\n",
       "      <td>1915.0</td>\n",
       "      <td>3.0</td>\n",
       "      <td>3.0</td>\n",
       "      <td>756.0</td>\n",
       "      <td>1717.0</td>\n",
       "      <td>1.0</td>\n",
       "      <td>4.0</td>\n",
       "      <td>3.0</td>\n",
       "      <td>35.0</td>\n",
       "    </tr>\n",
       "    <tr>\n",
       "      <th>4</th>\n",
       "      <td>8.0</td>\n",
       "      <td>2000.0</td>\n",
       "      <td>4.0</td>\n",
       "      <td>4.0</td>\n",
       "      <td>1145.0</td>\n",
       "      <td>2198.0</td>\n",
       "      <td>2.0</td>\n",
       "      <td>4.0</td>\n",
       "      <td>3.0</td>\n",
       "      <td>40.0</td>\n",
       "    </tr>\n",
       "  </tbody>\n",
       "</table>\n",
       "</div>"
      ],
      "text/plain": [
       "   OverallQual  YearBuilt  ExterQual  BsmtQual  TotalBsmtSF  GrLivArea  \\\n",
       "0          7.0     2003.0        4.0       4.0        856.0     1710.0   \n",
       "1          6.0     1976.0        3.0       4.0       1262.0     1262.0   \n",
       "2          7.0     2001.0        4.0       4.0        920.0     1786.0   \n",
       "3          7.0     1915.0        3.0       3.0        756.0     1717.0   \n",
       "4          8.0     2000.0        4.0       4.0       1145.0     2198.0   \n",
       "\n",
       "   FullBath  KitchenQual  GarageCars  OverallGrade  \n",
       "0       2.0          4.0         2.0          35.0  \n",
       "1       2.0          3.0         2.0          48.0  \n",
       "2       2.0          4.0         2.0          35.0  \n",
       "3       1.0          4.0         3.0          35.0  \n",
       "4       2.0          4.0         3.0          40.0  "
      ]
     },
     "execution_count": 13,
     "metadata": {},
     "output_type": "execute_result"
    }
   ],
   "source": []
  },
  {
   "cell_type": "code",
   "execution_count": 17,
   "id": "20e26136-4fd0-4e1a-a643-8a9776150188",
   "metadata": {},
   "outputs": [],
   "source": [
    "# add y-int, otherwise model will assume zero\n",
    "X = sm.add_constant(X) # adding a constant\n"
   ]
  },
  {
   "cell_type": "code",
   "execution_count": 19,
   "id": "be00c937-fd87-420c-9172-deabc0c3c1c9",
   "metadata": {},
   "outputs": [
    {
     "data": {
      "text/plain": [
       "statsmodels.regression.linear_model.OLS"
      ]
     },
     "execution_count": 19,
     "metadata": {},
     "output_type": "execute_result"
    }
   ],
   "source": [
    "# create python object representing linear reg\n",
    "lin_reg = sm.OLS(y,X)\n",
    "type(lin_reg)"
   ]
  },
  {
   "cell_type": "code",
   "execution_count": 20,
   "id": "b0a977ad-c90e-4c78-a238-d8648a386fcd",
   "metadata": {},
   "outputs": [
    {
     "name": "stdout",
     "output_type": "stream",
     "text": [
      "                            OLS Regression Results                            \n",
      "==============================================================================\n",
      "Dep. Variable:              SalePrice   R-squared:                       0.835\n",
      "Model:                            OLS   Adj. R-squared:                  0.834\n",
      "Method:                 Least Squares   F-statistic:                     732.0\n",
      "Date:                Thu, 07 Oct 2021   Prob (F-statistic):               0.00\n",
      "Time:                        09:07:01   Log-Likelihood:                -17206.\n",
      "No. Observations:                1458   AIC:                         3.443e+04\n",
      "Df Residuals:                    1447   BIC:                         3.449e+04\n",
      "Df Model:                          10                                         \n",
      "Covariance Type:            nonrobust                                         \n",
      "================================================================================\n",
      "                   coef    std err          t      P>|t|      [0.025      0.975]\n",
      "--------------------------------------------------------------------------------\n",
      "const        -8.992e+05   8.93e+04    -10.069      0.000   -1.07e+06   -7.24e+05\n",
      "OverallQual   5507.5419   1492.215      3.691      0.000    2580.406    8434.678\n",
      "YearBuilt      392.2864     47.578      8.245      0.000     298.958     485.615\n",
      "ExterQual     1.447e+04   2498.908      5.789      0.000    9564.917    1.94e+04\n",
      "BsmtQual       920.7862   1443.233      0.638      0.524   -1910.266    3751.839\n",
      "TotalBsmtSF     42.1385      2.705     15.581      0.000      36.833      47.444\n",
      "GrLivArea       66.8550      2.624     25.476      0.000      61.707      72.003\n",
      "FullBath     -1.122e+04   2268.762     -4.945      0.000   -1.57e+04   -6768.180\n",
      "KitchenQual   1.147e+04   1981.665      5.788      0.000    7582.652    1.54e+04\n",
      "GarageCars    9314.4359   1565.232      5.951      0.000    6244.069    1.24e+04\n",
      "OverallGrade  1078.1960    150.946      7.143      0.000     782.100    1374.292\n",
      "==============================================================================\n",
      "Omnibus:                      574.228   Durbin-Watson:                   1.967\n",
      "Prob(Omnibus):                  0.000   Jarque-Bera (JB):             5878.203\n",
      "Skew:                           1.540   Prob(JB):                         0.00\n",
      "Kurtosis:                      12.342   Cond. No.                     2.87e+05\n",
      "==============================================================================\n",
      "\n",
      "Notes:\n",
      "[1] Standard Errors assume that the covariance matrix of the errors is correctly specified.\n",
      "[2] The condition number is large, 2.87e+05. This might indicate that there are\n",
      "strong multicollinearity or other numerical problems.\n"
     ]
    }
   ],
   "source": [
    "# fit using training data\n",
    "model = lin_reg.fit()\n",
    "print_model = model.summary()\n",
    "print(print_model)"
   ]
  },
  {
   "cell_type": "markdown",
   "id": "62fc4748-87d3-42ae-8b2a-30597cc37656",
   "metadata": {},
   "source": [
    "## sklearn"
   ]
  },
  {
   "cell_type": "code",
   "execution_count": 26,
   "id": "ccb45193-3868-4b4f-957f-122680621127",
   "metadata": {},
   "outputs": [
    {
     "data": {
      "text/plain": [
       "LinearRegression()"
      ]
     },
     "execution_count": 26,
     "metadata": {},
     "output_type": "execute_result"
    }
   ],
   "source": [
    "#  initialize object and fit data\n",
    "regressor = LinearRegression()\n",
    "regressor.fit(X, y)\n"
   ]
  },
  {
   "cell_type": "code",
   "execution_count": 27,
   "id": "6f9b357c-7f12-49f8-a583-abe3da4efe79",
   "metadata": {},
   "outputs": [
    {
     "name": "stdout",
     "output_type": "stream",
     "text": [
      "[     0.           5507.54189138    392.2863556   14466.78601472\n",
      "    920.78618122     42.13854481     66.85496149 -11218.59562134\n",
      "  11469.89475761   9314.43585305   1078.19597724]\n"
     ]
    }
   ],
   "source": [
    "# beta coefficents\n",
    "print(regressor.coef_)\n",
    "# This looks much better in sm, also dont have access to p-value with sklearn"
   ]
  },
  {
   "cell_type": "code",
   "execution_count": 28,
   "id": "5b038089-8eba-48e5-8cbe-69522f742202",
   "metadata": {},
   "outputs": [
    {
     "data": {
      "text/plain": [
       "0.8349492071391901"
      ]
     },
     "execution_count": 28,
     "metadata": {},
     "output_type": "execute_result"
    }
   ],
   "source": [
    "# R-squared\n",
    "regressor.score(X,y)"
   ]
  },
  {
   "cell_type": "code",
   "execution_count": 29,
   "id": "76c49763-d027-4d41-9fb7-9b5805ebb3d8",
   "metadata": {},
   "outputs": [
    {
     "name": "stdout",
     "output_type": "stream",
     "text": [
      "Intercept: \n",
      " -899203.1119366742\n"
     ]
    }
   ],
   "source": [
    "# Int\n",
    "print('Intercept: \\n', regressor.intercept_)"
   ]
  },
  {
   "cell_type": "code",
   "execution_count": null,
   "id": "5c3df53a-00db-46e9-ba92-b5698edad656",
   "metadata": {},
   "outputs": [],
   "source": []
  }
 ],
 "metadata": {
  "kernelspec": {
   "display_name": "Python 3 (ipykernel)",
   "language": "python",
   "name": "python3"
  },
  "language_info": {
   "codemirror_mode": {
    "name": "ipython",
    "version": 3
   },
   "file_extension": ".py",
   "mimetype": "text/x-python",
   "name": "python",
   "nbconvert_exporter": "python",
   "pygments_lexer": "ipython3",
   "version": "3.8.11"
  }
 },
 "nbformat": 4,
 "nbformat_minor": 5
}
