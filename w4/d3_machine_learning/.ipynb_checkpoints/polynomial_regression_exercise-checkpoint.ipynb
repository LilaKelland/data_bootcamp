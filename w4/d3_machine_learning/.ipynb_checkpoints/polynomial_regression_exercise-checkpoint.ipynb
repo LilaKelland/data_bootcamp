{
 "cells": [
  {
   "cell_type": "markdown",
   "metadata": {},
   "source": [
    "### Regression exercise\n",
    "\n",
    "Today, we will fit different polynomial regression to randomly generated data and explore how our loss function behaves. We will use the formulas, introduced in the theoretical sections and create a linear regression model from scratch. \n"
   ]
  },
  {
   "cell_type": "code",
   "execution_count": 3,
   "metadata": {},
   "outputs": [],
   "source": [
    "import pandas as pd\n",
    "import numpy as np\n",
    "\n",
    "import random\n",
    "import matplotlib.pyplot as plt"
   ]
  },
  {
   "cell_type": "markdown",
   "metadata": {},
   "source": [
    "#### Task 1\n",
    "\n",
    "Write a function psi(x,m) defined as $\\psi(x)=[1, x, x ^2, ..., x^m]$"
   ]
  },
  {
   "cell_type": "code",
   "execution_count": 97,
   "metadata": {},
   "outputs": [],
   "source": [
    "def psi(x,m):\n",
    "    psi = []\n",
    "    for i in range(m+1):\n",
    "        psi.append(x**i)\n",
    "    return np.array(psi)\n",
    "    "
   ]
  },
  {
   "cell_type": "code",
   "execution_count": 98,
   "metadata": {},
   "outputs": [
    {
     "data": {
      "text/plain": [
       "array([ 1,  2,  4,  8, 16])"
      ]
     },
     "execution_count": 98,
     "metadata": {},
     "output_type": "execute_result"
    }
   ],
   "source": [
    "psi(2,4)"
   ]
  },
  {
   "cell_type": "markdown",
   "metadata": {},
   "source": [
    "#### Task 2\n",
    "\n",
    "Write a function $h(x,\\alpha, m)$ defined as $h(x,\\alpha, m)=\\alpha^T\\psi(x, m)$"
   ]
  },
  {
   "cell_type": "code",
   "execution_count": 99,
   "metadata": {},
   "outputs": [],
   "source": [
    "def h(x,alpha, m):\n",
    "#     takes in x, coeffiecents and power - (uses psi to do polynomial expansion) then calculates value at that x\n",
    "    return(alpha.T.dot(psi(x,m)))\n"
   ]
  },
  {
   "cell_type": "code",
   "execution_count": 145,
   "metadata": {},
   "outputs": [],
   "source": [
    "# alpha = np.array([1,2,3,4,5])\n",
    "# x= 2\n",
    "# m = 4\n",
    "\n",
    "# h(x,alpha,m)"
   ]
  },
  {
   "cell_type": "code",
   "execution_count": 95,
   "metadata": {},
   "outputs": [],
   "source": [
    "# "
   ]
  },
  {
   "cell_type": "markdown",
   "metadata": {},
   "source": [
    "#### Task 3\n",
    "Create a random 3rd order polynomial (we call it p3)"
   ]
  },
  {
   "cell_type": "code",
   "execution_count": 147,
   "metadata": {},
   "outputs": [
    {
     "data": {
      "text/plain": [
       "-1"
      ]
     },
     "execution_count": 147,
     "metadata": {},
     "output_type": "execute_result"
    }
   ],
   "source": [
    "# random_num = random.randrange(100)\n",
    "\n",
    "p3 = np.poly1d([1,-3, 2,-1])\n",
    "# x^3 -3x^2 + 2x -1\n",
    "\n",
    "p3(2)"
   ]
  },
  {
   "cell_type": "code",
   "execution_count": 148,
   "metadata": {},
   "outputs": [
    {
     "data": {
      "image/png": "[encoded data removed]",
      "text/plain": [
       "<Figure size 432x288 with 1 Axes>"
      ]
     },
     "metadata": {
      "needs_background": "light"
     },
     "output_type": "display_data"
    }
   ],
   "source": [
    "x = np.linspace(-5,5,100)\n",
    "\n",
    "# the function, which is y = x^3 here\n",
    "y = p3(x)\n",
    "\n",
    "# setting the axes at the centre\n",
    "fig = plt.figure()\n",
    "ax = fig.add_subplot(1, 1, 1)\n",
    "ax.spines['left'].set_position('center')\n",
    "ax.spines['bottom'].set_position('zero')\n",
    "ax.spines['right'].set_color('none')\n",
    "ax.spines['top'].set_color('none')\n",
    "ax.xaxis.set_ticks_position('bottom')\n",
    "ax.yaxis.set_ticks_position('left')\n",
    "\n",
    "# plot the function\n",
    "plt.plot(x,y, 'r')\n",
    "\n",
    "# show the plot\n",
    "plt.show()"
   ]
  },
  {
   "cell_type": "markdown",
   "metadata": {},
   "source": [
    "#### Task 4\n",
    "Choose an interval [a,b], on which the polynomial is S-shaped."
   ]
  },
  {
   "cell_type": "code",
   "execution_count": 108,
   "metadata": {},
   "outputs": [],
   "source": [
    "# import matplotlib.pyplot as plt\n",
    "# x = np.array([0,1,2,3, 4, 5,6])\n",
    "# y = x**3\n",
    "\n",
    "# # a line plot\n",
    "# plt.plot(x,y,'red')\n",
    "# plt.title('3rd order polynomial')\n",
    "# plt.xlabel('x')\n",
    "# plt.ylabel('p3')\n",
    "# plt.show()"
   ]
  },
  {
   "cell_type": "code",
   "execution_count": 149,
   "metadata": {},
   "outputs": [],
   "source": [
    "# choose \n",
    "a=-4\n",
    "b =4"
   ]
  },
  {
   "cell_type": "markdown",
   "metadata": {},
   "source": [
    "#### Task 5\n",
    "Sample 30 random values in [a,b] and stored them in `xs`."
   ]
  },
  {
   "cell_type": "code",
   "execution_count": 150,
   "metadata": {},
   "outputs": [
    {
     "data": {
      "text/plain": [
       "[-3.0657118556132916,\n",
       " -0.9833114904693883,\n",
       " 2.8568635917329965,\n",
       " 3.054323673128426,\n",
       " -1.7815462178123376,\n",
       " 3.348326113528806,\n",
       " 2.28230233065515,\n",
       " 3.0644982750309735,\n",
       " -1.2817512798927284,\n",
       " 2.647097215462522,\n",
       " 3.105562326551059,\n",
       " -1.5809737866291238,\n",
       " -2.829913505314966,\n",
       " -0.32571656413873384,\n",
       " -3.0378658956436384,\n",
       " 3.009933201675506,\n",
       " -1.6661112644103433,\n",
       " 3.560406525637487,\n",
       " 0.0839467474315807,\n",
       " -1.132588117769754,\n",
       " -1.951708881005267,\n",
       " 3.6924873602035335,\n",
       " 1.8570741555104426,\n",
       " -2.4667177276904466,\n",
       " 0.18255473461888183,\n",
       " -3.3548153881302225,\n",
       " -0.7310943078705172,\n",
       " -1.553938816374485,\n",
       " -2.942171317939658,\n",
       " -3.2860694900089857]"
      ]
     },
     "execution_count": 150,
     "metadata": {},
     "output_type": "execute_result"
    }
   ],
   "source": [
    "xs = []\n",
    "for i in range(30):\n",
    "    xs.append(random.uniform(a, b))\n",
    "xs"
   ]
  },
  {
   "cell_type": "code",
   "execution_count": null,
   "metadata": {},
   "outputs": [],
   "source": []
  },
  {
   "cell_type": "markdown",
   "metadata": {},
   "source": [
    "#### Task 6\n",
    "For each x in xs, compute p3(x) and store them as `ys`."
   ]
  },
  {
   "cell_type": "code",
   "execution_count": 151,
   "metadata": {},
   "outputs": [],
   "source": [
    "ys = p3(xs)\n",
    "\n"
   ]
  },
  {
   "cell_type": "code",
   "execution_count": 152,
   "metadata": {},
   "outputs": [
    {
     "data": {
      "text/plain": [
       "array([-64.14055754,  -6.81809279,   3.54549511,   5.61542709,\n",
       "       -19.73927509,   9.60183652,  -0.17381355,   5.7347095 ,\n",
       "       -10.59793326,   1.82136098,   6.22922234, -15.61199129,\n",
       "       -53.34816723,  -2.00426266, -62.7969573 ,   5.10985821,\n",
       "       -17.28500558,  13.22480336,  -0.8526561 ,  -8.5662778 ,\n",
       "       -23.76530658,  15.82666795,  -1.22748796, -39.19675285,\n",
       "        -0.72878536, -79.23171987,  -4.45645437, -15.10439139,\n",
       "       -58.32198843, -75.45070578])"
      ]
     },
     "execution_count": 152,
     "metadata": {},
     "output_type": "execute_result"
    }
   ],
   "source": [
    "ys"
   ]
  },
  {
   "cell_type": "markdown",
   "metadata": {},
   "source": [
    "#### Task 7:\n",
    "Plot `ys` against `xs` on [a,b]. Does it look like a third order polynomial?"
   ]
  },
  {
   "cell_type": "code",
   "execution_count": 153,
   "metadata": {},
   "outputs": [],
   "source": [
    "plot_df = pd.DataFrame({'xs': xs, 'ys':ys})\n",
    "plot_df = plot_df.sort_values('xs')"
   ]
  },
  {
   "cell_type": "code",
   "execution_count": 154,
   "metadata": {},
   "outputs": [
    {
     "data": {
      "image/png": "[encoded data removed]",
      "text/plain": [
       "<Figure size 432x288 with 1 Axes>"
      ]
     },
     "metadata": {
      "needs_background": "light"
     },
     "output_type": "display_data"
    }
   ],
   "source": [
    "x = plot_df['xs']\n",
    "y = plot_df['ys']\n",
    "\n",
    "# a line plot\n",
    "plt.plot(x,y,'red')\n",
    "plt.title('3rd order polynomial')\n",
    "plt.xlabel('x')\n",
    "plt.ylabel('p3')\n",
    "plt.show()"
   ]
  },
  {
   "cell_type": "code",
   "execution_count": null,
   "metadata": {},
   "outputs": [],
   "source": []
  },
  {
   "cell_type": "markdown",
   "metadata": {},
   "source": [
    "## Fitting the data"
   ]
  },
  {
   "cell_type": "markdown",
   "metadata": {},
   "source": [
    "We will try to fit the data by a polynomial of order m=2. \n",
    "\n",
    "#### Task 8:\n",
    "\n",
    "Using xs and psi, create the matrix X defined as \n",
    "\n",
    "<img src=\"matrixX.png\">"
   ]
  },
  {
   "cell_type": "code",
   "execution_count": 162,
   "metadata": {},
   "outputs": [],
   "source": []
  },
  {
   "cell_type": "code",
   "execution_count": 155,
   "metadata": {},
   "outputs": [],
   "source": [
    "# create shape first using zeros, then iterate through - need m+1 for 0 row\n",
    "# one row for each order\n",
    "# note - would need to convert to list if xs was a np array\n",
    "\n",
    "# Use this to predict the y2\n",
    "def create_X(m, xs):\n",
    "    x = np.zeros([m+1, len(xs)])\n",
    "    for i in range(len(xs)):\n",
    "        x[:,i] = psi(xs[i],m)\n",
    "    return x"
   ]
  },
  {
   "cell_type": "code",
   "execution_count": null,
   "metadata": {},
   "outputs": [],
   "source": []
  },
  {
   "cell_type": "code",
   "execution_count": 156,
   "metadata": {},
   "outputs": [],
   "source": [
    "X = create_X(2,xs)\n",
    "# X"
   ]
  },
  {
   "cell_type": "code",
   "execution_count": 157,
   "metadata": {},
   "outputs": [
    {
     "data": {
      "text/plain": [
       "(3, 30)"
      ]
     },
     "execution_count": 157,
     "metadata": {},
     "output_type": "execute_result"
    }
   ],
   "source": [
    "X.shape\n"
   ]
  },
  {
   "cell_type": "code",
   "execution_count": 172,
   "metadata": {},
   "outputs": [],
   "source": []
  },
  {
   "cell_type": "markdown",
   "metadata": {},
   "source": [
    "#### Task 9\n",
    "Compute the optimal $\\alpha$ using the expression $\\alpha = (XX^T)^+Xy$ where $(XX^T)^+$ is the pseudoinverse matrix. y is our `ys` from the Task 6."
   ]
  },
  {
   "cell_type": "code",
   "execution_count": 158,
   "metadata": {},
   "outputs": [
    {
     "data": {
      "text/plain": [
       "(3,)"
      ]
     },
     "execution_count": 158,
     "metadata": {},
     "output_type": "execute_result"
    }
   ],
   "source": [
    "# THESE ARE THE coeffiencnts or the polynomial \n",
    "# ALSO FIND THIS WITH\n",
    "# np.linalg.pinv(x)\n",
    "\n",
    "alpha =np.dot(np.dot(np.linalg.inv(np.dot(X, X.transpose())),X), ys)\n",
    "alpha.shape"
   ]
  },
  {
   "cell_type": "code",
   "execution_count": 125,
   "metadata": {},
   "outputs": [],
   "source": []
  },
  {
   "cell_type": "code",
   "execution_count": 186,
   "metadata": {},
   "outputs": [],
   "source": []
  },
  {
   "cell_type": "code",
   "execution_count": null,
   "metadata": {},
   "outputs": [],
   "source": []
  },
  {
   "cell_type": "markdown",
   "metadata": {},
   "source": [
    "#### Task 10\n",
    "Plot the data and the computed polynomial. Does it fit?"
   ]
  },
  {
   "cell_type": "code",
   "execution_count": 144,
   "metadata": {},
   "outputs": [],
   "source": [
    "# xs"
   ]
  },
  {
   "cell_type": "code",
   "execution_count": 159,
   "metadata": {},
   "outputs": [],
   "source": [
    "# make predictions by iterating through each element in xs and predict y2 using 3 alphas and xs\n",
    "\n",
    "# REALLY SHOULD BE GETTING NEW RANDOM VALUES\n",
    "\n",
    "y2 =[]\n",
    "for i in range(len(xs)):\n",
    "    y2.append(h(xs[i],alpha, 2))"
   ]
  },
  {
   "cell_type": "code",
   "execution_count": 106,
   "metadata": {},
   "outputs": [
    {
     "data": {
      "text/plain": [
       "30"
      ]
     },
     "execution_count": 106,
     "metadata": {},
     "output_type": "execute_result"
    }
   ],
   "source": [
    "len(y2)"
   ]
  },
  {
   "cell_type": "code",
   "execution_count": 160,
   "metadata": {},
   "outputs": [
    {
     "data": {
      "image/png": "[encoded data removed]",
      "text/plain": [
       "<Figure size 432x288 with 1 Axes>"
      ]
     },
     "metadata": {
      "needs_background": "light"
     },
     "output_type": "display_data"
    }
   ],
   "source": [
    "# x = x\n",
    "# y\n",
    "# y = plot_df['ys']\n",
    "\n",
    "y2 = y2\n",
    "\n",
    "# a line plot\n",
    "plt.plot(x,y,'red')\n",
    "plt.scatter(xs,y2,color='blue')\n",
    "plt.title('3rd order polynomial')\n",
    "plt.xlabel('x')\n",
    "plt.ylabel('p3')\n",
    "plt.show()"
   ]
  },
  {
   "cell_type": "code",
   "execution_count": null,
   "metadata": {},
   "outputs": [],
   "source": []
  },
  {
   "cell_type": "markdown",
   "metadata": {},
   "source": [
    "#### Task 11\n",
    "Repeat the process for m=3,…,10. What do you observe?"
   ]
  },
  {
   "cell_type": "code",
   "execution_count": 77,
   "metadata": {},
   "outputs": [],
   "source": [
    "\n",
    "\n"
   ]
  },
  {
   "cell_type": "code",
   "execution_count": 78,
   "metadata": {},
   "outputs": [],
   "source": [
    "# print(y3, y4)"
   ]
  },
  {
   "cell_type": "code",
   "execution_count": 161,
   "metadata": {},
   "outputs": [
    {
     "data": {
      "image/png": "[encoded data removed]",
      "text/plain": [
       "<Figure size 432x288 with 1 Axes>"
      ]
     },
     "metadata": {
      "needs_background": "light"
     },
     "output_type": "display_data"
    }
   ],
   "source": [
    "xs = []\n",
    "for i in range(30):\n",
    "    xs.append(random.uniform(a, b))\n",
    "xs\n",
    "\n",
    "X = create_X(3,xs)\n",
    "alpha =np.dot(np.dot(np.linalg.inv(np.dot(X, X.transpose())),X), ys)\n",
    "y3 =[]\n",
    "for i in range(len(xs)):\n",
    "    y3.append(h(xs[i],alpha, 3))\n",
    "\n",
    "x = np.linspace(-5,5,100)\n",
    "\n",
    "y = x**3\n",
    "\n",
    "\n",
    "# a line plot\n",
    "plt.plot(x,y,'red')\n",
    "\n",
    "plt.scatter(xs,y3,color='blue')\n",
    "\n",
    "plt.title('3rd order polynomial')\n",
    "plt.xlabel('x')\n",
    "plt.ylabel('p3')\n",
    "plt.show()"
   ]
  },
  {
   "cell_type": "code",
   "execution_count": 131,
   "metadata": {},
   "outputs": [],
   "source": [
    "# X"
   ]
  },
  {
   "cell_type": "code",
   "execution_count": 162,
   "metadata": {},
   "outputs": [
    {
     "data": {
      "image/png": "[encoded data removed]",
      "text/plain": [
       "<Figure size 432x288 with 1 Axes>"
      ]
     },
     "metadata": {
      "needs_background": "light"
     },
     "output_type": "display_data"
    }
   ],
   "source": [
    "xs = []\n",
    "for i in range(30):\n",
    "    xs.append(random.uniform(a, b))\n",
    "\n",
    "X = create_X(4,xs)\n",
    "alpha =np.dot(np.dot(np.linalg.inv(np.dot(X, X.transpose())),X), ys)\n",
    "y4 =[]\n",
    "for i in range(len(xs)):\n",
    "    y4.append(h(xs[i],alpha, 4))\n",
    "\n",
    "x = np.linspace(-5,5,100)\n",
    "y = x**3\n",
    "# a line plot\n",
    "plt.plot(x,y,'red')\n",
    "plt.scatter(xs,y4,color='blue')\n",
    "\n",
    "plt.title('3rd order polynomial')\n",
    "plt.xlabel('x')\n",
    "plt.ylabel('p3')\n",
    "plt.show()"
   ]
  },
  {
   "cell_type": "code",
   "execution_count": 163,
   "metadata": {},
   "outputs": [
    {
     "data": {
      "image/png": "[encoded data removed]",
      "text/plain": [
       "<Figure size 432x288 with 1 Axes>"
      ]
     },
     "metadata": {
      "needs_background": "light"
     },
     "output_type": "display_data"
    }
   ],
   "source": [
    "xs = []\n",
    "for i in range(30):\n",
    "    xs.append(random.uniform(a, b))\n",
    "\n",
    "X = create_X(5,xs)\n",
    "alpha =np.dot(np.dot(np.linalg.inv(np.dot(X, X.transpose())),X), ys)\n",
    "y5 =[]\n",
    "for i in range(len(xs)):\n",
    "    y5.append(h(xs[i],alpha, 5))\n",
    "\n",
    "x = np.linspace(-5,5,100)\n",
    "y = x**3\n",
    "\n",
    "\n",
    "y5=y5\n",
    "\n",
    "\n",
    "# a line plot\n",
    "plt.plot(x,y,'red')\n",
    "\n",
    "plt.scatter(xs,y5,color='blue')\n",
    "\n",
    "plt.title('3rd order polynomial')\n",
    "plt.xlabel('x')\n",
    "plt.ylabel('p3')\n",
    "plt.show()"
   ]
  },
  {
   "cell_type": "code",
   "execution_count": 164,
   "metadata": {},
   "outputs": [
    {
     "data": {
      "image/png": "[encoded data removed]",
      "text/plain": [
       "<Figure size 432x288 with 1 Axes>"
      ]
     },
     "metadata": {
      "needs_background": "light"
     },
     "output_type": "display_data"
    }
   ],
   "source": [
    "xs = []\n",
    "for i in range(30):\n",
    "    xs.append(random.uniform(a, b))\n",
    "\n",
    "X = create_X(6,xs)\n",
    "alpha =np.dot(np.dot(np.linalg.inv(np.dot(X, X.transpose())),X), ys)\n",
    "\n",
    "y6 =[]\n",
    "for i in range(len(xs)):\n",
    "    y6.append(h(xs[i],alpha, 6))\n",
    "\n",
    "xs = []\n",
    "for i in range(30):\n",
    "    xs.append(random.uniform(a, b))\n",
    "\n",
    "x = np.linspace(-5,5,100)\n",
    "y = x**3\n",
    "\n",
    "\n",
    "# a line plot\n",
    "plt.plot(x,y,'red')\n",
    "\n",
    "plt.scatter(xs,y6,color='blue')\n",
    "plt.title('3rd order polynomial')\n",
    "plt.xlabel('x')\n",
    "plt.ylabel('p3')\n",
    "plt.show()"
   ]
  },
  {
   "cell_type": "markdown",
   "metadata": {},
   "source": [
    "#### Task 12\n",
    "Plot the value of the loss (defined as $ l(\\alpha^Tx, y) = \\sum(\\alpha^Tx - y)^2 $  ) for m=2,…,10. y is our `ys` from the Task 6. What do you observe? Could you tell the optimal m from the plot?"
   ]
  },
  {
   "cell_type": "code",
   "execution_count": 174,
   "metadata": {},
   "outputs": [],
   "source": [
    "pred_values = [y2, y3, y4, y5, y6]\n",
    "\n",
    "def value_loss(y_pred):\n",
    "    losses=[]\n",
    "    for i in range(len(y_pred)):\n",
    "        pred = y_pred[i]\n",
    "        actual = ys[i]\n",
    "        loss_val = (pred - actual)**2\n",
    "        losses.append(loss_val)\n",
    "        \n",
    "    total_loss = sum(losses)\n",
    "    return(total_loss)"
   ]
  },
  {
   "cell_type": "code",
   "execution_count": 178,
   "metadata": {},
   "outputs": [
    {
     "data": {
      "text/plain": [
       "[1382.6849467782486,\n",
       " 20181.463199538066,\n",
       " 19220.41360640938,\n",
       " 21280.158142152683,\n",
       " 16898.78234790108]"
      ]
     },
     "execution_count": 178,
     "metadata": {},
     "output_type": "execute_result"
    }
   ],
   "source": [
    "pred_values = [y2, y3, y4, y5, y6]\n",
    "\n",
    "losses = []\n",
    "for i in range(len(pred_values)):\n",
    "    losses.append(value_loss(pred_values[i]))\n",
    "    \n",
    "\n",
    "losses   "
   ]
  },
  {
   "cell_type": "code",
   "execution_count": null,
   "metadata": {},
   "outputs": [],
   "source": []
  }
 ],
 "metadata": {
  "kernelspec": {
   "display_name": "Python 3 (ipykernel)",
   "language": "python",
   "name": "python3"
  },
  "language_info": {
   "codemirror_mode": {
    "name": "ipython",
    "version": 3
   },
   "file_extension": ".py",
   "mimetype": "text/x-python",
   "name": "python",
   "nbconvert_exporter": "python",
   "pygments_lexer": "ipython3",
   "version": "3.8.11"
  }
 },
 "nbformat": 4,
 "nbformat_minor": 4
}
