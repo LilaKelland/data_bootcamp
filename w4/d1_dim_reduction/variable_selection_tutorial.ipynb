{
 "cells": [
  {
   "cell_type": "code",
   "execution_count": 1,
   "id": "d2500e32-c1aa-44a8-8328-9f303e3f7ba3",
   "metadata": {},
   "outputs": [],
   "source": [
    "import numpy as np\n",
    "import pandas as pd"
   ]
  },
  {
   "cell_type": "code",
   "execution_count": 5,
   "id": "a2f38205-0626-4d2b-9927-6a62441db206",
   "metadata": {},
   "outputs": [],
   "source": [
    "df_numeric =pd.read_csv(\"data/df_numeric.csv\")"
   ]
  },
  {
   "cell_type": "code",
   "execution_count": 6,
   "id": "96934f96-2c1d-4f84-b300-2770e20e2cae",
   "metadata": {},
   "outputs": [
    {
     "data": {
      "text/html": [
       "<div>\n",
       "<style scoped>\n",
       "    .dataframe tbody tr th:only-of-type {\n",
       "        vertical-align: middle;\n",
       "    }\n",
       "\n",
       "    .dataframe tbody tr th {\n",
       "        vertical-align: top;\n",
       "    }\n",
       "\n",
       "    .dataframe thead th {\n",
       "        text-align: right;\n",
       "    }\n",
       "</style>\n",
       "<table border=\"1\" class=\"dataframe\">\n",
       "  <thead>\n",
       "    <tr style=\"text-align: right;\">\n",
       "      <th></th>\n",
       "      <th>MSSubClass</th>\n",
       "      <th>LotFrontage</th>\n",
       "      <th>LotArea</th>\n",
       "      <th>Street</th>\n",
       "      <th>LotShape</th>\n",
       "      <th>Utilities</th>\n",
       "      <th>LandSlope</th>\n",
       "      <th>OverallQual</th>\n",
       "      <th>OverallCond</th>\n",
       "      <th>YearBuilt</th>\n",
       "      <th>...</th>\n",
       "      <th>MoSold</th>\n",
       "      <th>YrSold</th>\n",
       "      <th>SalePrice</th>\n",
       "      <th>GarageYrBlt_missing_ind</th>\n",
       "      <th>LotFrontage_missing_ind</th>\n",
       "      <th>MasVnrArea_missing_ind</th>\n",
       "      <th>1stFlrSF_log</th>\n",
       "      <th>1stFlr_2ndFlr_SF</th>\n",
       "      <th>OverallGrade</th>\n",
       "      <th>SimplGarageQual</th>\n",
       "    </tr>\n",
       "  </thead>\n",
       "  <tbody>\n",
       "    <tr>\n",
       "      <th>0</th>\n",
       "      <td>60</td>\n",
       "      <td>65.0</td>\n",
       "      <td>8450</td>\n",
       "      <td>2</td>\n",
       "      <td>4</td>\n",
       "      <td>4</td>\n",
       "      <td>3</td>\n",
       "      <td>7</td>\n",
       "      <td>5</td>\n",
       "      <td>2003</td>\n",
       "      <td>...</td>\n",
       "      <td>2</td>\n",
       "      <td>2008</td>\n",
       "      <td>208500</td>\n",
       "      <td>0</td>\n",
       "      <td>0</td>\n",
       "      <td>0</td>\n",
       "      <td>6.752270</td>\n",
       "      <td>1710</td>\n",
       "      <td>35</td>\n",
       "      <td>1</td>\n",
       "    </tr>\n",
       "    <tr>\n",
       "      <th>1</th>\n",
       "      <td>20</td>\n",
       "      <td>80.0</td>\n",
       "      <td>9600</td>\n",
       "      <td>2</td>\n",
       "      <td>4</td>\n",
       "      <td>4</td>\n",
       "      <td>3</td>\n",
       "      <td>6</td>\n",
       "      <td>8</td>\n",
       "      <td>1976</td>\n",
       "      <td>...</td>\n",
       "      <td>5</td>\n",
       "      <td>2007</td>\n",
       "      <td>181500</td>\n",
       "      <td>0</td>\n",
       "      <td>0</td>\n",
       "      <td>0</td>\n",
       "      <td>7.140453</td>\n",
       "      <td>1262</td>\n",
       "      <td>48</td>\n",
       "      <td>1</td>\n",
       "    </tr>\n",
       "  </tbody>\n",
       "</table>\n",
       "<p>2 rows × 60 columns</p>\n",
       "</div>"
      ],
      "text/plain": [
       "   MSSubClass  LotFrontage  LotArea  Street  LotShape  Utilities  LandSlope  \\\n",
       "0          60         65.0     8450       2         4          4          3   \n",
       "1          20         80.0     9600       2         4          4          3   \n",
       "\n",
       "   OverallQual  OverallCond  YearBuilt  ...  MoSold  YrSold  SalePrice  \\\n",
       "0            7            5       2003  ...       2    2008     208500   \n",
       "1            6            8       1976  ...       5    2007     181500   \n",
       "\n",
       "   GarageYrBlt_missing_ind  LotFrontage_missing_ind  MasVnrArea_missing_ind  \\\n",
       "0                        0                        0                       0   \n",
       "1                        0                        0                       0   \n",
       "\n",
       "   1stFlrSF_log  1stFlr_2ndFlr_SF  OverallGrade  SimplGarageQual  \n",
       "0      6.752270              1710            35                1  \n",
       "1      7.140453              1262            48                1  \n",
       "\n",
       "[2 rows x 60 columns]"
      ]
     },
     "execution_count": 6,
     "metadata": {},
     "output_type": "execute_result"
    }
   ],
   "source": [
    "df_numeric.head(2)"
   ]
  },
  {
   "cell_type": "markdown",
   "id": "57fe583d-7ead-43fb-97b6-08b62688b599",
   "metadata": {},
   "source": [
    "We are going to implement elements for filter feature selectors based on the following criteria:\n",
    "\n",
    "* Small variance\n",
    "* One of each pair of features, which are correlated together more than x"
   ]
  },
  {
   "cell_type": "markdown",
   "id": "83d32c02-c30d-4471-b06b-531e57fdb437",
   "metadata": {},
   "source": [
    "### 1. Extract Target Variable\n",
    "Before doing any transformations we will extract our target variable to keep it as it is. Even though we can do some transformations to it, it is a good practice to do it separately:"
   ]
  },
  {
   "cell_type": "code",
   "execution_count": 7,
   "id": "28df7a72-1fa9-4274-873b-512498e7aa66",
   "metadata": {},
   "outputs": [],
   "source": [
    "y = df_numeric.SalePrice\n",
    "df_numeric.drop(\"SalePrice\",axis=1, inplace=True)"
   ]
  },
  {
   "cell_type": "markdown",
   "id": "ed4689ae-a78e-4918-9af0-f94cc3474c69",
   "metadata": {},
   "source": [
    "## Part 1: Removing Features With Small Variance\n",
    "First of all, we will remove the columns with very little variance. Small variance equals small predictive power because all houses have very similar values."
   ]
  },
  {
   "cell_type": "code",
   "execution_count": 8,
   "id": "e2de2711-7264-4a70-9601-a6e47bdb5be5",
   "metadata": {},
   "outputs": [],
   "source": [
    "from sklearn.feature_selection import VarianceThreshold\n",
    "\n",
    "vt = VarianceThreshold(0.1)\n",
    "df_transformed = vt.fit_transform(df_numeric)"
   ]
  },
  {
   "cell_type": "code",
   "execution_count": 9,
   "id": "ce955396-bf80-4c86-86c5-67984f96ad4d",
   "metadata": {},
   "outputs": [
    {
     "data": {
      "text/plain": [
       "(1458, 59)"
      ]
     },
     "execution_count": 9,
     "metadata": {},
     "output_type": "execute_result"
    }
   ],
   "source": [
    "# Check the number of variables in the table and find out how many features we have deleted.\n",
    "df_numeric.shape"
   ]
  },
  {
   "cell_type": "code",
   "execution_count": 10,
   "id": "128d0122-7b18-4283-b53d-94542a3a8103",
   "metadata": {},
   "outputs": [
    {
     "data": {
      "text/html": [
       "<div>\n",
       "<style scoped>\n",
       "    .dataframe tbody tr th:only-of-type {\n",
       "        vertical-align: middle;\n",
       "    }\n",
       "\n",
       "    .dataframe tbody tr th {\n",
       "        vertical-align: top;\n",
       "    }\n",
       "\n",
       "    .dataframe thead th {\n",
       "        text-align: right;\n",
       "    }\n",
       "</style>\n",
       "<table border=\"1\" class=\"dataframe\">\n",
       "  <thead>\n",
       "    <tr style=\"text-align: right;\">\n",
       "      <th></th>\n",
       "      <th>MSSubClass</th>\n",
       "      <th>LotFrontage</th>\n",
       "      <th>LotArea</th>\n",
       "      <th>Street</th>\n",
       "      <th>LotShape</th>\n",
       "      <th>Utilities</th>\n",
       "      <th>LandSlope</th>\n",
       "      <th>OverallQual</th>\n",
       "      <th>OverallCond</th>\n",
       "      <th>YearBuilt</th>\n",
       "      <th>...</th>\n",
       "      <th>MiscVal</th>\n",
       "      <th>MoSold</th>\n",
       "      <th>YrSold</th>\n",
       "      <th>GarageYrBlt_missing_ind</th>\n",
       "      <th>LotFrontage_missing_ind</th>\n",
       "      <th>MasVnrArea_missing_ind</th>\n",
       "      <th>1stFlrSF_log</th>\n",
       "      <th>1stFlr_2ndFlr_SF</th>\n",
       "      <th>OverallGrade</th>\n",
       "      <th>SimplGarageQual</th>\n",
       "    </tr>\n",
       "  </thead>\n",
       "  <tbody>\n",
       "    <tr>\n",
       "      <th>0</th>\n",
       "      <td>60</td>\n",
       "      <td>65.0</td>\n",
       "      <td>8450</td>\n",
       "      <td>2</td>\n",
       "      <td>4</td>\n",
       "      <td>4</td>\n",
       "      <td>3</td>\n",
       "      <td>7</td>\n",
       "      <td>5</td>\n",
       "      <td>2003</td>\n",
       "      <td>...</td>\n",
       "      <td>0</td>\n",
       "      <td>2</td>\n",
       "      <td>2008</td>\n",
       "      <td>0</td>\n",
       "      <td>0</td>\n",
       "      <td>0</td>\n",
       "      <td>6.752270</td>\n",
       "      <td>1710</td>\n",
       "      <td>35</td>\n",
       "      <td>1</td>\n",
       "    </tr>\n",
       "    <tr>\n",
       "      <th>1</th>\n",
       "      <td>20</td>\n",
       "      <td>80.0</td>\n",
       "      <td>9600</td>\n",
       "      <td>2</td>\n",
       "      <td>4</td>\n",
       "      <td>4</td>\n",
       "      <td>3</td>\n",
       "      <td>6</td>\n",
       "      <td>8</td>\n",
       "      <td>1976</td>\n",
       "      <td>...</td>\n",
       "      <td>0</td>\n",
       "      <td>5</td>\n",
       "      <td>2007</td>\n",
       "      <td>0</td>\n",
       "      <td>0</td>\n",
       "      <td>0</td>\n",
       "      <td>7.140453</td>\n",
       "      <td>1262</td>\n",
       "      <td>48</td>\n",
       "      <td>1</td>\n",
       "    </tr>\n",
       "    <tr>\n",
       "      <th>2</th>\n",
       "      <td>60</td>\n",
       "      <td>68.0</td>\n",
       "      <td>11250</td>\n",
       "      <td>2</td>\n",
       "      <td>3</td>\n",
       "      <td>4</td>\n",
       "      <td>3</td>\n",
       "      <td>7</td>\n",
       "      <td>5</td>\n",
       "      <td>2001</td>\n",
       "      <td>...</td>\n",
       "      <td>0</td>\n",
       "      <td>9</td>\n",
       "      <td>2008</td>\n",
       "      <td>0</td>\n",
       "      <td>0</td>\n",
       "      <td>0</td>\n",
       "      <td>6.824374</td>\n",
       "      <td>1786</td>\n",
       "      <td>35</td>\n",
       "      <td>1</td>\n",
       "    </tr>\n",
       "    <tr>\n",
       "      <th>3</th>\n",
       "      <td>70</td>\n",
       "      <td>60.0</td>\n",
       "      <td>9550</td>\n",
       "      <td>2</td>\n",
       "      <td>3</td>\n",
       "      <td>4</td>\n",
       "      <td>3</td>\n",
       "      <td>7</td>\n",
       "      <td>5</td>\n",
       "      <td>1915</td>\n",
       "      <td>...</td>\n",
       "      <td>0</td>\n",
       "      <td>2</td>\n",
       "      <td>2006</td>\n",
       "      <td>0</td>\n",
       "      <td>0</td>\n",
       "      <td>0</td>\n",
       "      <td>6.867974</td>\n",
       "      <td>1717</td>\n",
       "      <td>35</td>\n",
       "      <td>1</td>\n",
       "    </tr>\n",
       "    <tr>\n",
       "      <th>4</th>\n",
       "      <td>60</td>\n",
       "      <td>84.0</td>\n",
       "      <td>14260</td>\n",
       "      <td>2</td>\n",
       "      <td>3</td>\n",
       "      <td>4</td>\n",
       "      <td>3</td>\n",
       "      <td>8</td>\n",
       "      <td>5</td>\n",
       "      <td>2000</td>\n",
       "      <td>...</td>\n",
       "      <td>0</td>\n",
       "      <td>12</td>\n",
       "      <td>2008</td>\n",
       "      <td>0</td>\n",
       "      <td>0</td>\n",
       "      <td>0</td>\n",
       "      <td>7.043160</td>\n",
       "      <td>2198</td>\n",
       "      <td>40</td>\n",
       "      <td>1</td>\n",
       "    </tr>\n",
       "  </tbody>\n",
       "</table>\n",
       "<p>5 rows × 59 columns</p>\n",
       "</div>"
      ],
      "text/plain": [
       "   MSSubClass  LotFrontage  LotArea  Street  LotShape  Utilities  LandSlope  \\\n",
       "0          60         65.0     8450       2         4          4          3   \n",
       "1          20         80.0     9600       2         4          4          3   \n",
       "2          60         68.0    11250       2         3          4          3   \n",
       "3          70         60.0     9550       2         3          4          3   \n",
       "4          60         84.0    14260       2         3          4          3   \n",
       "\n",
       "   OverallQual  OverallCond  YearBuilt  ...  MiscVal  MoSold  YrSold  \\\n",
       "0            7            5       2003  ...        0       2    2008   \n",
       "1            6            8       1976  ...        0       5    2007   \n",
       "2            7            5       2001  ...        0       9    2008   \n",
       "3            7            5       1915  ...        0       2    2006   \n",
       "4            8            5       2000  ...        0      12    2008   \n",
       "\n",
       "   GarageYrBlt_missing_ind  LotFrontage_missing_ind  MasVnrArea_missing_ind  \\\n",
       "0                        0                        0                       0   \n",
       "1                        0                        0                       0   \n",
       "2                        0                        0                       0   \n",
       "3                        0                        0                       0   \n",
       "4                        0                        0                       0   \n",
       "\n",
       "   1stFlrSF_log  1stFlr_2ndFlr_SF  OverallGrade  SimplGarageQual  \n",
       "0      6.752270              1710            35                1  \n",
       "1      7.140453              1262            48                1  \n",
       "2      6.824374              1786            35                1  \n",
       "3      6.867974              1717            35                1  \n",
       "4      7.043160              2198            40                1  \n",
       "\n",
       "[5 rows x 59 columns]"
      ]
     },
     "execution_count": 10,
     "metadata": {},
     "output_type": "execute_result"
    }
   ],
   "source": [
    "df_numeric.head()"
   ]
  },
  {
   "cell_type": "code",
   "execution_count": 11,
   "id": "f9093542-8c20-4985-ac99-fb8f5dfa0e06",
   "metadata": {},
   "outputs": [
    {
     "data": {
      "text/plain": [
       "(1458, 50)"
      ]
     },
     "execution_count": 11,
     "metadata": {},
     "output_type": "execute_result"
    }
   ],
   "source": [
    "df_transformed.shape"
   ]
  },
  {
   "cell_type": "code",
   "execution_count": 12,
   "id": "6e4140d9-7de3-49b4-8f93-0e13bc81e8ec",
   "metadata": {},
   "outputs": [
    {
     "ename": "AttributeError",
     "evalue": "'numpy.ndarray' object has no attribute 'head'",
     "output_type": "error",
     "traceback": [
      "\u001b[0;31m---------------------------------------------------------------------------\u001b[0m",
      "\u001b[0;31mAttributeError\u001b[0m                            Traceback (most recent call last)",
      "\u001b[0;32m/var/folders/q4/f3xj1m3j2h3fl1lc7921wysh0000gn/T/ipykernel_44673/1466061232.py\u001b[0m in \u001b[0;36m<module>\u001b[0;34m\u001b[0m\n\u001b[0;32m----> 1\u001b[0;31m \u001b[0mdf_transformed\u001b[0m\u001b[0;34m.\u001b[0m\u001b[0mhead\u001b[0m\u001b[0;34m(\u001b[0m\u001b[0;34m)\u001b[0m\u001b[0;34m\u001b[0m\u001b[0;34m\u001b[0m\u001b[0m\n\u001b[0m",
      "\u001b[0;31mAttributeError\u001b[0m: 'numpy.ndarray' object has no attribute 'head'"
     ]
    }
   ],
   "source": [
    "df_transformed.head()"
   ]
  },
  {
   "cell_type": "markdown",
   "id": "a65fb8df-77ab-43e7-b4a5-6d863b028d3a",
   "metadata": {},
   "source": [
    "#### Note!\n",
    "fit_transform() in sklearn transforms an object from DataFrame to numpy.array and we are losing column names, so we need to do some tricks to get them back!\n",
    "\n",
    "We don't need column names for modeling but it helps with the interpretation of modeling results"
   ]
  },
  {
   "cell_type": "code",
   "execution_count": 13,
   "id": "12e43d40-0e25-4caa-81f1-7fade9505ca0",
   "metadata": {},
   "outputs": [],
   "source": [
    "# columns we have selected\n",
    "# get_support() is method of VarianceThreshold and stores boolean of each variable in the numpy array.\n",
    "selected_columns = df_numeric.columns[vt.get_support()]\n",
    "\n",
    "# transforming an array back to a data-frame preserves column labels\n",
    "df_transformed = pd.DataFrame(df_transformed, columns = selected_columns)"
   ]
  },
  {
   "cell_type": "markdown",
   "id": "24137471-a92b-4599-aadb-593d5040834d",
   "metadata": {},
   "source": [
    "## Part 2: Removing Correlated Features\n",
    "\n",
    "The goal of this part is to remove one feature from each highly correlated pair.\n",
    "\n",
    "We are going to do this in 3 steps:\n",
    "\n",
    "1. Calculate a correlation matrix\n",
    "2. Get pairs of highly correlated features\n",
    "3. Remove correlated columns"
   ]
  },
  {
   "cell_type": "code",
   "execution_count": 14,
   "id": "460b7e70-36ab-4bba-a5ad-b910b1abfa9a",
   "metadata": {},
   "outputs": [],
   "source": [
    "# step 1\n",
    "df_corr = df_transformed.corr().abs()\n",
    "\n",
    "# step 2\n",
    "indices = np.where(df_corr > 0.8) \n",
    "indices = [(df_corr.index[x], df_corr.columns[y]) \n",
    "for x, y in zip(*indices)\n",
    "    if x != y and x < y]\n",
    "\n",
    "# step 3\n",
    "for idx in indices: #each pair\n",
    "    try:\n",
    "        df_transformed.drop(idx[1], axis = 1, inplace=True)\n",
    "    except KeyError:\n",
    "        pass"
   ]
  },
  {
   "cell_type": "markdown",
   "id": "0c58314a-54f8-4c4b-b44d-49379447c4f7",
   "metadata": {},
   "source": [
    "The code above will drop one column from each pair that is correlated at least 0.8. If this happens twice, use try-except block to allow the code to continue even when KeyError occurs."
   ]
  },
  {
   "cell_type": "code",
   "execution_count": 16,
   "id": "ebdc865f-a807-4e02-b83d-553c1fe1846b",
   "metadata": {},
   "outputs": [
    {
     "name": "stdout",
     "output_type": "stream",
     "text": [
      "[('TotalBsmtSF', '1stFlrSF'), ('GrLivArea', 'TotRmsAbvGrd'), ('GrLivArea', '1stFlr_2ndFlr_SF'), ('TotRmsAbvGrd', '1stFlr_2ndFlr_SF'), ('GarageCars', 'GarageArea'), ('GarageQual', 'GarageCond')]\n"
     ]
    }
   ],
   "source": [
    "# We can check the correlated columns by printing the indices:\n",
    "print(list(indices))"
   ]
  },
  {
   "cell_type": "code",
   "execution_count": 17,
   "id": "1baa9be7-6acf-4426-b609-21d55350d8e8",
   "metadata": {},
   "outputs": [
    {
     "data": {
      "text/plain": [
       "(1458, 45)"
      ]
     },
     "execution_count": 17,
     "metadata": {},
     "output_type": "execute_result"
    }
   ],
   "source": [
    "# Check the number of variables in the table and find out how many features we have deleted.\n",
    "df_transformed.shape"
   ]
  },
  {
   "cell_type": "markdown",
   "id": "2b9049f2-e9a3-40bd-8263-f4041b43960b",
   "metadata": {},
   "source": [
    "## Part 3: Forward Regression\n",
    "We have removed the features with no information and correlated features so far. The last thing we will do before modeling is to select the k-best features in terms of the relationship with the target variable. We will use the forward wrapper method for that:"
   ]
  },
  {
   "cell_type": "code",
   "execution_count": 18,
   "id": "309b955b-36f1-4004-a672-f05fdca0c9d8",
   "metadata": {},
   "outputs": [],
   "source": [
    "from sklearn.feature_selection import f_regression, SelectKBest\n",
    "\n",
    "skb = SelectKBest(f_regression, k=10)\n",
    "X = skb.fit_transform(df_transformed, y)"
   ]
  },
  {
   "cell_type": "markdown",
   "id": "0ff0813e-2e8f-4a3d-b00b-e74f61ae6a28",
   "metadata": {},
   "source": [
    "We need to import the SelectKBest method. Plus, we have to decide what algorithm we are going to use for the actual selection. Since we want to do a forward regression, we also imported f_regression. We could use some other technique if, for example, the target variable was categorical.\n",
    "\n",
    "#### We have assigned our target variable SalePrice into y in the beginning of this tutorial\n",
    "\n",
    "#### The type of X was again changed to array\n",
    "\n",
    "Convert X back to a data-frame and assign back the correct column names.\n",
    "\n",
    "HINT: Use the method get_support() from the SelectKBest instance to find the features that were selected."
   ]
  },
  {
   "cell_type": "code",
   "execution_count": 21,
   "id": "90c90cca-5059-4078-8c90-cc76ed23d2e5",
   "metadata": {},
   "outputs": [],
   "source": [
    "# Postion of top 10 columns\n",
    "skb.get_support()\n",
    "\n",
    "# coluum_names\n",
    "df_transformed.columns[skb.get_support()]\n",
    "\n",
    "X = pd.DataFrame(X, columns = df_transformed.columns[skb.get_support()])\n"
   ]
  },
  {
   "cell_type": "markdown",
   "id": "81dfaf05-4435-48a0-94db-4095aa3afdd4",
   "metadata": {},
   "source": [
    "Now, X consists of 10 features which should be pretty good predictors of our target variable, SalePrice."
   ]
  },
  {
   "cell_type": "code",
   "execution_count": null,
   "id": "0f6bb5d3-ea1d-4670-bbc6-24072c5de3d7",
   "metadata": {},
   "outputs": [],
   "source": []
  }
 ],
 "metadata": {
  "kernelspec": {
   "display_name": "Python 3 (ipykernel)",
   "language": "python",
   "name": "python3"
  },
  "language_info": {
   "codemirror_mode": {
    "name": "ipython",
    "version": 3
   },
   "file_extension": ".py",
   "mimetype": "text/x-python",
   "name": "python",
   "nbconvert_exporter": "python",
   "pygments_lexer": "ipython3",
   "version": "3.8.11"
  }
 },
 "nbformat": 4,
 "nbformat_minor": 5
}
