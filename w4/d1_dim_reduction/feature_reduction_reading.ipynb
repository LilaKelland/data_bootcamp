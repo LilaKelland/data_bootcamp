{
 "cells": [
  {
   "cell_type": "markdown",
   "id": "45d18779-9840-4696-b71e-0ba211ca950e",
   "metadata": {},
   "source": [
    "## Regression Feature Selection:\n",
    "#### (Numerical Input, Numerical Output)\n",
    "This section demonstrates feature selection for a regression problem that as numerical inputs and numerical outputs.\n",
    "\n",
    "A test regression problem is prepared using the make_regression() function.\n",
    "\n",
    "Feature selection is performed using Pearson’s Correlation Coefficient via the f_regression() function."
   ]
  },
  {
   "cell_type": "code",
   "execution_count": 1,
   "id": "9c079a97-e53f-4c53-886b-4a82a97e4dad",
   "metadata": {},
   "outputs": [
    {
     "name": "stdout",
     "output_type": "stream",
     "text": [
      "(100, 10)\n"
     ]
    }
   ],
   "source": [
    "\n",
    "# pearson's correlation feature selection for numeric input and numeric output\n",
    "from sklearn.datasets import make_regression\n",
    "from sklearn.feature_selection import SelectKBest\n",
    "from sklearn.feature_selection import f_regression\n",
    "# generate dataset\n",
    "X, y = make_regression(n_samples=100, n_features=100, n_informative=10)\n",
    "# define feature selection\n",
    "fs = SelectKBest(score_func=f_regression, k=10)\n",
    "# apply feature selection\n",
    "X_selected = fs.fit_transform(X, y)\n",
    "print(X_selected.shape)"
   ]
  },
  {
   "cell_type": "markdown",
   "id": "07b6b560-3b78-4aca-9772-86512a1de6d3",
   "metadata": {},
   "source": [
    "Running the example first creates the regression dataset, then defines the feature selection and applies the feature selection procedure to the dataset, returning a subset of the selected input features."
   ]
  },
  {
   "cell_type": "markdown",
   "id": "59848d81-c20d-4cc5-9a12-7101a5fddb1e",
   "metadata": {},
   "source": [
    "## Classification Feature Selection:\n",
    "#### (Numerical Input, Categorical Output)\n",
    "\n",
    "This section demonstrates feature selection for a classification problem that as numerical inputs and categorical outputs.\n",
    "\n",
    "A test regression problem is prepared using the make_classification() function.\n",
    "\n",
    "Feature selection is performed using ANOVA F measure via the f_classif() function."
   ]
  },
  {
   "cell_type": "code",
   "execution_count": 2,
   "id": "1a4be460-fd41-4491-8a98-52736a9d3e50",
   "metadata": {},
   "outputs": [
    {
     "name": "stdout",
     "output_type": "stream",
     "text": [
      "(100, 2)\n"
     ]
    }
   ],
   "source": [
    "# ANOVA feature selection for numeric input and categorical output\n",
    "from sklearn.datasets import make_classification\n",
    "from sklearn.feature_selection import SelectKBest\n",
    "from sklearn.feature_selection import f_classif\n",
    "# generate dataset\n",
    "X, y = make_classification(n_samples=100, n_features=20, n_informative=2)\n",
    "# define feature selection\n",
    "fs = SelectKBest(score_func=f_classif, k=2)\n",
    "# apply feature selection\n",
    "X_selected = fs.fit_transform(X, y)\n",
    "print(X_selected.shape)\n"
   ]
  },
  {
   "cell_type": "markdown",
   "id": "78550165-6687-48c6-831c-778cf74ae7d4",
   "metadata": {},
   "source": [
    "Running the example first creates the classification dataset, then defines the feature selection and applies the feature selection procedure to the dataset, returning a subset of the selected input features."
   ]
  },
  {
   "cell_type": "code",
   "execution_count": null,
   "id": "36c98f31-ee05-4a72-905f-03da43f341d5",
   "metadata": {},
   "outputs": [],
   "source": []
  }
 ],
 "metadata": {
  "kernelspec": {
   "display_name": "Python 3 (ipykernel)",
   "language": "python",
   "name": "python3"
  },
  "language_info": {
   "codemirror_mode": {
    "name": "ipython",
    "version": 3
   },
   "file_extension": ".py",
   "mimetype": "text/x-python",
   "name": "python",
   "nbconvert_exporter": "python",
   "pygments_lexer": "ipython3",
   "version": "3.8.11"
  }
 },
 "nbformat": 4,
 "nbformat_minor": 5
}
