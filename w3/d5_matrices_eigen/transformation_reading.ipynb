{
 "cells": [
  {
   "cell_type": "code",
   "execution_count": null,
   "id": "8449e62a-011e-4232-9de9-fed5528fc753",
   "metadata": {},
   "outputs": [],
   "source": [
    "# https://www.mathsisfun.com/algebra/matrix-transform.html"
   ]
  },
  {
   "cell_type": "code",
   "execution_count": null,
   "id": "a565c4ee-b2b9-4198-bdcf-93aa961782cf",
   "metadata": {},
   "outputs": [],
   "source": [
    "[3, 4], [3, 5], [0, 5], [0, 0], [1, 0], [1, 1.8], [2.5, 1.8], [2.5, 2.8], [1, 2.8], [1, 4]\n",
    "And we loop through those points, making new points using the 2×2 matrix \"a,b,c,d\":\n",
    "\n",
    "  for (let i = 0; i < shape.pts.length; i++) {\n",
    "    let pt = shape.pts[i]\n",
    "    let x = a * pt[0] + b * pt[1]\n",
    "    let y = c * pt[0] + d * pt[1]\n",
    "    newPts.push({ x: x, y: y })\n",
    "  }"
   ]
  }
 ],
 "metadata": {
  "kernelspec": {
   "display_name": "Python 3 (ipykernel)",
   "language": "python",
   "name": "python3"
  },
  "language_info": {
   "codemirror_mode": {
    "name": "ipython",
    "version": 3
   },
   "file_extension": ".py",
   "mimetype": "text/x-python",
   "name": "python",
   "nbconvert_exporter": "python",
   "pygments_lexer": "ipython3",
   "version": "3.8.11"
  }
 },
 "nbformat": 4,
 "nbformat_minor": 5
}
