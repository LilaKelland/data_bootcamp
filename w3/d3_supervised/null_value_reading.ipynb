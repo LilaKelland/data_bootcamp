{
 "cells": [
  {
   "cell_type": "code",
   "execution_count": 1,
   "id": "2caff8e6-5ae2-490e-b5f9-45bdd86b71fe",
   "metadata": {},
   "outputs": [],
   "source": [
    "# use kaggle Titanic data set\n",
    "# https://analyticsindiamag.com/5-ways-handle-missing-values-machine-learning-datasets/"
   ]
  },
  {
   "cell_type": "markdown",
   "id": "7853b860-9e2a-4632-94cc-dcc6a8690cf3",
   "metadata": {},
   "source": [
    "## 1 Delete"
   ]
  },
  {
   "cell_type": "code",
   "execution_count": null,
   "id": "d9a1b5d2-4654-4641-b854-d985b42dfe6f",
   "metadata": {},
   "outputs": [],
   "source": [
    "data.isnull()"
   ]
  },
  {
   "cell_type": "code",
   "execution_count": null,
   "id": "c31621b3-5a3f-49df-9b98-63ed54467175",
   "metadata": {},
   "outputs": [],
   "source": [
    "data.dropna(inplace=True)\n",
    "data.isnull().sum"
   ]
  },
  {
   "cell_type": "markdown",
   "id": "f7ce54eb-eb41-475d-834d-d9912fbdac4d",
   "metadata": {},
   "source": [
    "Pros:\n",
    "* Complete removal of data with missing values results in robust and highly accurate model\n",
    "* Deleting a particular row or a column with no specific information is better, since it does not have a high weightage\n",
    "\n",
    "Cons:\n",
    "* Loss of information and data\n",
    "* Works poorly if the percentage of missing values is high (say 30%), compared to the whole dataset"
   ]
  },
  {
   "cell_type": "markdown",
   "id": "d0ad8bb6-c938-44de-bbbd-c82e58277005",
   "metadata": {},
   "source": [
    "## 2. Replacing With Mean/Median/Mode"
   ]
  },
  {
   "cell_type": "code",
   "execution_count": null,
   "id": "e7718618-c89a-4181-851b-bedccbd42b9b",
   "metadata": {},
   "outputs": [],
   "source": [
    "data['Age'].isnull().sum()"
   ]
  },
  {
   "cell_type": "code",
   "execution_count": null,
   "id": "ef0fdfd7-1087-47f1-81b0-87d98746968a",
   "metadata": {},
   "outputs": [],
   "source": [
    "data['Age'].mean()"
   ]
  },
  {
   "cell_type": "code",
   "execution_count": null,
   "id": "f1e106ac-3008-45e0-8bb6-5b1d8a19b9ce",
   "metadata": {},
   "outputs": [],
   "source": [
    "data['Age'].replace(np.NaN, data['Age'].mean()).head(15)"
   ]
  },
  {
   "cell_type": "code",
   "execution_count": null,
   "id": "adb112cd-97e1-4f5f-8128-f09b94c8556b",
   "metadata": {},
   "outputs": [],
   "source": [
    "# or with median\n",
    "data['Age'].median()"
   ]
  },
  {
   "cell_type": "code",
   "execution_count": null,
   "id": "38ef6702-e575-4c2d-a7a0-04878ebb2bac",
   "metadata": {},
   "outputs": [],
   "source": [
    "# or with mode()\n",
    "data['Age'].mode()"
   ]
  },
  {
   "cell_type": "markdown",
   "id": "9720c119-ef09-49c4-afc5-e2b72efbec5c",
   "metadata": {},
   "source": [
    "Pros:\n",
    "* This is a better approach when the data size is small\n",
    "* It can prevent data loss which results in removal of the rows and columns\n",
    "\n",
    "Cons:\n",
    "* Imputing the approximations add variance and bias\n",
    "* Works poorly compared to other multiple-imputations method"
   ]
  },
  {
   "cell_type": "markdown",
   "id": "2df98a3c-9ba0-450b-9cb0-d2fc1bc65f7b",
   "metadata": {},
   "source": [
    "## 3. Assigning An Unique Category"
   ]
  },
  {
   "cell_type": "code",
   "execution_count": null,
   "id": "c4a884fd-121f-4882-ae84-184a9f624751",
   "metadata": {},
   "outputs": [],
   "source": [
    "data['Cabin'].head(10)"
   ]
  },
  {
   "cell_type": "code",
   "execution_count": null,
   "id": "9ac61ee9-8737-410e-864a-1a7040c87dec",
   "metadata": {},
   "outputs": [],
   "source": [
    "data['Cabin'].fillna('U').head(10)"
   ]
  },
  {
   "cell_type": "markdown",
   "id": "b183d2fb-cbde-45e1-b00f-334fb8040850",
   "metadata": {},
   "source": [
    "Pros:\n",
    "* Less possibilities with one extra category, resulting in low variance after one hot encoding — since it is categorical\n",
    "* Negates the loss of data by adding an unique category\n",
    "\n",
    "Cons:\n",
    "* Adds less variance\n",
    "* Adds another feature to the model while encoding, which may result in poor performance"
   ]
  },
  {
   "cell_type": "markdown",
   "id": "10a5a853-dc05-47b8-8f22-5f09aa400ea0",
   "metadata": {},
   "source": [
    "## 4. Predicting The Missing Values"
   ]
  },
  {
   "cell_type": "code",
   "execution_count": null,
   "id": "85b0892a-7185-4fa7-8bf9-a0ca5a904a7a",
   "metadata": {},
   "outputs": [],
   "source": [
    "# * use linear regression"
   ]
  },
  {
   "cell_type": "markdown",
   "id": "37400efa-9dc3-4992-9776-edf466512abc",
   "metadata": {},
   "source": [
    "Pros:\n",
    "* Imputing the missing variable is an improvement as long as the bias from the same is smaller than the omitted variable bias\n",
    "* Yields unbiased estimates of the model parameters\n",
    "\n",
    "Cons:\n",
    "* Bias also arises when an incomplete conditioning set is used for a categorical variable\n",
    "* Considered only as a proxy for the true valu"
   ]
  },
  {
   "cell_type": "markdown",
   "id": "3c04e3d1-6ba5-4e75-9cea-946e78acdf65",
   "metadata": {},
   "source": [
    "## 5. Using Algorithms Which Support Missing Values"
   ]
  },
  {
   "cell_type": "code",
   "execution_count": null,
   "id": "3bb7562e-237d-4789-8d87-04c4082e1ade",
   "metadata": {},
   "outputs": [],
   "source": [
    "#  KNN - (just not scikit learn)\n",
    "# Random Forests"
   ]
  },
  {
   "cell_type": "markdown",
   "id": "e3db112f-b6e5-4f23-ba48-2c8ab2d70c72",
   "metadata": {},
   "source": [
    "Pros:\n",
    "* Does not require creation of a predictive model for each attribute with missing data in the dataset\n",
    "* Correlation of the data is neglected\n",
    "\n",
    "Cons:\n",
    "* Is a very time consuming process and it can be critical in data mining where large databases are being extracted\n",
    "* Choice of distance functions can be Euclidean, Manhattan etc. which is do not yield a robust result"
   ]
  },
  {
   "cell_type": "code",
   "execution_count": null,
   "id": "fd857324-37e3-4033-81fe-9234e93d0da2",
   "metadata": {},
   "outputs": [],
   "source": []
  }
 ],
 "metadata": {
  "kernelspec": {
   "display_name": "Python 3 (ipykernel)",
   "language": "python",
   "name": "python3"
  },
  "language_info": {
   "codemirror_mode": {
    "name": "ipython",
    "version": 3
   },
   "file_extension": ".py",
   "mimetype": "text/x-python",
   "name": "python",
   "nbconvert_exporter": "python",
   "pygments_lexer": "ipython3",
   "version": "3.8.11"
  }
 },
 "nbformat": 4,
 "nbformat_minor": 5
}
