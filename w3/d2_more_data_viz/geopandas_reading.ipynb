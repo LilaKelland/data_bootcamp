{
 "cells": [
  {
   "cell_type": "code",
   "execution_count": 1,
   "id": "39ed1bd1-90a1-4cb2-9551-5b530028390c",
   "metadata": {},
   "outputs": [
    {
     "name": "stdout",
     "output_type": "stream",
     "text": [
      "Collecting geopandas\n",
      "  Downloading geopandas-0.9.0-py2.py3-none-any.whl (994 kB)\n",
      "\u001b[K     |████████████████████████████████| 994 kB 3.9 MB/s eta 0:00:01\n",
      "\u001b[?25hCollecting pyproj>=2.2.0\n",
      "  Downloading pyproj-3.2.1-cp38-cp38-macosx_10_9_x86_64.whl (7.5 MB)\n",
      "\u001b[K     |████████████████████████████████| 7.5 MB 7.5 MB/s eta 0:00:011\n",
      "\u001b[?25hCollecting fiona>=1.8\n",
      "  Downloading Fiona-1.8.20-cp38-cp38-macosx_10_9_x86_64.whl (19.3 MB)\n",
      "\u001b[K     |████████████████████████████████| 19.3 MB 5.7 MB/s eta 0:00:01\n",
      "\u001b[?25hRequirement already satisfied: pandas>=0.24.0 in /Users/lilakelland/opt/anaconda3/lib/python3.8/site-packages (from geopandas) (1.0.1)\n",
      "Collecting shapely>=1.6\n",
      "  Downloading Shapely-1.7.1-cp38-cp38-macosx_10_9_x86_64.whl (1.0 MB)\n",
      "\u001b[K     |████████████████████████████████| 1.0 MB 7.9 MB/s eta 0:00:01\n",
      "\u001b[?25hRequirement already satisfied: attrs>=17 in /Users/lilakelland/opt/anaconda3/lib/python3.8/site-packages (from fiona>=1.8->geopandas) (20.3.0)\n",
      "Requirement already satisfied: setuptools in /Users/lilakelland/opt/anaconda3/lib/python3.8/site-packages (from fiona>=1.8->geopandas) (52.0.0.post20210125)\n",
      "Requirement already satisfied: certifi in /Users/lilakelland/opt/anaconda3/lib/python3.8/site-packages (from fiona>=1.8->geopandas) (2020.12.5)\n",
      "Collecting click-plugins>=1.0\n",
      "  Downloading click_plugins-1.1.1-py2.py3-none-any.whl (7.5 kB)\n",
      "Collecting cligj>=0.5\n",
      "  Downloading cligj-0.7.2-py3-none-any.whl (7.1 kB)\n",
      "Requirement already satisfied: six>=1.7 in /Users/lilakelland/opt/anaconda3/lib/python3.8/site-packages (from fiona>=1.8->geopandas) (1.15.0)\n",
      "Collecting munch\n",
      "  Downloading munch-2.5.0-py2.py3-none-any.whl (10 kB)\n",
      "Requirement already satisfied: click>=4.0 in /Users/lilakelland/opt/anaconda3/lib/python3.8/site-packages (from fiona>=1.8->geopandas) (7.1.2)\n",
      "Requirement already satisfied: pytz>=2017.2 in /Users/lilakelland/opt/anaconda3/lib/python3.8/site-packages (from pandas>=0.24.0->geopandas) (2021.1)\n",
      "Requirement already satisfied: python-dateutil>=2.6.1 in /Users/lilakelland/opt/anaconda3/lib/python3.8/site-packages (from pandas>=0.24.0->geopandas) (2.8.1)\n",
      "Requirement already satisfied: numpy>=1.13.3 in /Users/lilakelland/opt/anaconda3/lib/python3.8/site-packages (from pandas>=0.24.0->geopandas) (1.20.1)\n",
      "Installing collected packages: munch, cligj, click-plugins, shapely, pyproj, fiona, geopandas\n",
      "Successfully installed click-plugins-1.1.1 cligj-0.7.2 fiona-1.8.20 geopandas-0.9.0 munch-2.5.0 pyproj-3.2.1 shapely-1.7.1\n"
     ]
    }
   ],
   "source": [
    "!pip install geopandas"
   ]
  },
  {
   "cell_type": "code",
   "execution_count": 2,
   "id": "fb5093e1-93be-4aef-a1da-b45225697e04",
   "metadata": {},
   "outputs": [],
   "source": [
    "import pandas as pd\n",
    "import geopandas as gpd           # importing geopandas\n",
    "import matplotlib.pyplot as plt"
   ]
  },
  {
   "cell_type": "code",
   "execution_count": null,
   "id": "839f98ce-bf71-44c5-a394-9f6dafcf993f",
   "metadata": {},
   "outputs": [],
   "source": [
    "# download from www.arcgis.com - file format .shx (shape file)"
   ]
  },
  {
   "cell_type": "code",
   "execution_count": null,
   "id": "0b3a2e90-1a82-46a3-a889-1e7a612e8c9f",
   "metadata": {},
   "outputs": [],
   "source": [
    "file_path = './states.shx' . # reference to the file path\n",
    "map_us = gpd.read_file(file_path)\n",
    "map_us.head()"
   ]
  },
  {
   "cell_type": "code",
   "execution_count": null,
   "id": "c42505c6-20fb-4f6c-8cfe-e85f3039120c",
   "metadata": {},
   "outputs": [],
   "source": [
    "map_us['SUB_REGION'].unique\n",
    "array(['Pacific', 'Mountain', 'New England', 'West North Central',\n",
    "       'East North Central', 'Middle Atlantic', 'South Atlantic',\n",
    "       'East South Central', 'West South Central'], dtype=object)"
   ]
  },
  {
   "cell_type": "code",
   "execution_count": null,
   "id": "63b77a9b-0692-4636-bc42-116ef630b3ce",
   "metadata": {},
   "outputs": [],
   "source": [
    "map_us[(map_df['DRAWSEQ']<51) & (map_df['DRAWSEQ']>=2)]"
   ]
  },
  {
   "cell_type": "code",
   "execution_count": null,
   "id": "9165b3ab-f3b0-4032-b6bd-2d2b2b5c3d1a",
   "metadata": {},
   "outputs": [],
   "source": [
    "# Creating a subplot, with 'fig' and 'ax'\n",
    "fig, ax = plt.subplots(1, figsize=(15, 8))\n",
    "\n",
    "\n",
    "# Sending the filtered data to plot\n",
    "plt.title('Map of the United States Sub-Regions', size=16)\n",
    "map_us[(map_us['DRAWSEQ']<51) & (map_us['DRAWSEQ']>=2)].plot(column='SUB_REGION',                                                    \n",
    "             cmap='Greens',      # Colormap for the states                     \n",
    "             linewidth=0.4,      # line width for state borders\n",
    "             ax=ax,              # plotting the map on 'ax'\n",
    "             edgecolor='black'); # State border colors"
   ]
  },
  {
   "cell_type": "code",
   "execution_count": null,
   "id": "31fcb5eb-4247-4c0e-bbae-cb3f2157bd04",
   "metadata": {},
   "outputs": [],
   "source": [
    "# add colour bar\n",
    "c_bar_colors = plt.cm.ScalarMappable(cmap='Greens', norm=plt.Normalize(vmin=map_us['DRAWSEQ'].min(), vmax=map_us['DRAWSEQ'].max()))\n",
    "# Plotting the colorbar \n",
    "color_bar = fig.colorbar(c_bar_colors)"
   ]
  },
  {
   "cell_type": "markdown",
   "id": "2e965fb0-53d5-46ac-8328-5dbab83bc66a",
   "metadata": {},
   "source": [
    "## Change for household income"
   ]
  },
  {
   "cell_type": "code",
   "execution_count": null,
   "id": "c7088f1a-a005-429f-872c-69fb6233bb3d",
   "metadata": {},
   "outputs": [],
   "source": [
    "# can add pandas df to geopandas df NOT other way areoung\n",
    "merged_map_df = pd.merge(map_us, other_df, on='state')"
   ]
  },
  {
   "cell_type": "markdown",
   "id": "60255c12-3c26-4dae-ab06-81fedc458c81",
   "metadata": {},
   "source": [
    "Then you can simply replace SUB_REGION in the code above with the column you want to visualize. For example, if we added 2018_sat_participation data to our map_df and called it merge_map_df:"
   ]
  },
  {
   "cell_type": "code",
   "execution_count": null,
   "id": "4503e49e-6700-4242-bdad-f590ac7e3397",
   "metadata": {},
   "outputs": [],
   "source": [
    "plt.title('Map of the United States Sub-Regions', size=16)\n",
    "merged_map_df.plot(column='2018_sat_participation',\n",
    "cmap='Greens',      # Colormap for the states                     \n",
    "             linewidth=0.4,      # line width for state borders\n",
    "             ax=ax,              # plotting the map on 'ax'\n",
    "             edgecolor='black'); # State border colors"
   ]
  },
  {
   "cell_type": "markdown",
   "id": "3e9f2019-9a69-4228-b39b-3d3e850b3981",
   "metadata": {},
   "source": [
    "### Plotting US County-Level Maps\n"
   ]
  },
  {
   "cell_type": "code",
   "execution_count": null,
   "id": "e5623922-1b15-45c8-b1b8-00a049abd1ca",
   "metadata": {},
   "outputs": [],
   "source": [
    "# https://catalog.data.gov/dataset/tiger-line-shapefile-2017-nation-u-s-current-county-and-equivalent-national-shapefile"
   ]
  }
 ],
 "metadata": {
  "kernelspec": {
   "display_name": "Python 3",
   "language": "python",
   "name": "python3"
  },
  "language_info": {
   "codemirror_mode": {
    "name": "ipython",
    "version": 3
   },
   "file_extension": ".py",
   "mimetype": "text/x-python",
   "name": "python",
   "nbconvert_exporter": "python",
   "pygments_lexer": "ipython3",
   "version": "3.8.8"
  }
 },
 "nbformat": 4,
 "nbformat_minor": 5
}
