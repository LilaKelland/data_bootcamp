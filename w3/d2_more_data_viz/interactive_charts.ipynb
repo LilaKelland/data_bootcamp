{
 "cells": [
  {
   "cell_type": "code",
   "execution_count": 4,
   "id": "0d48ba8e-e376-4a48-a220-ef9f7d9257bd",
   "metadata": {},
   "outputs": [],
   "source": [
    "# !pip install ipywidgets"
   ]
  },
  {
   "cell_type": "code",
   "execution_count": 5,
   "id": "4e027406-7c3e-4b07-b1ca-dbf14b0567da",
   "metadata": {},
   "outputs": [],
   "source": [
    "# !jupyter nbextension enable --py widgetsnbextension"
   ]
  },
  {
   "cell_type": "code",
   "execution_count": 6,
   "id": "00bb1aec-4538-460e-ba22-ce23b38e8ab7",
   "metadata": {},
   "outputs": [],
   "source": [
    "# !jupyter labextension install @jupyter-widgets/jupyterlab-manager"
   ]
  },
  {
   "cell_type": "code",
   "execution_count": 8,
   "id": "da84225e-9760-4b48-adcf-76b0760aca74",
   "metadata": {},
   "outputs": [],
   "source": [
    "import ipywidgets as widgets\n",
    "from ipywidgets import interact, interact_manual\n",
    "import pandas as pd\n",
    "import plotly.graph_objects as go"
   ]
  },
  {
   "cell_type": "markdown",
   "id": "fc666fa0-2deb-4b14-b629-97457627cff6",
   "metadata": {},
   "source": [
    "## Slider"
   ]
  },
  {
   "cell_type": "code",
   "execution_count": 9,
   "id": "a0088561-a072-473c-99a5-4a05ee3bd353",
   "metadata": {},
   "outputs": [
    {
     "data": {
      "application/vnd.jupyter.widget-view+json": {
       "model_id": "21db3e21a2954cbab984035ee3ab23e0",
       "version_major": 2,
       "version_minor": 0
      },
      "text/plain": [
       "IntSlider(value=3, description='Slider:', max=10)"
      ]
     },
     "metadata": {},
     "output_type": "display_data"
    }
   ],
   "source": [
    "slider = widgets.IntSlider(\n",
    "    min=0,\n",
    "    max=10,\n",
    "    step=1,\n",
    "    description='Slider:',\n",
    "    value=3\n",
    ")\n",
    "\n",
    "slider"
   ]
  },
  {
   "cell_type": "markdown",
   "id": "23861c01-ac35-47c0-9be5-23618af60833",
   "metadata": {},
   "source": [
    "!n the code above, we created an integer Slider with values from zero to ten. The initial value is set to three. By running the code we can see an interactive slider but we still don't have the slider's value. We can get this value by accessing the values attribute of our slider variable."
   ]
  },
  {
   "cell_type": "code",
   "execution_count": 10,
   "id": "eb66ecf9-4c07-47f7-94c9-74a708d50ac6",
   "metadata": {},
   "outputs": [
    {
     "name": "stdout",
     "output_type": "stream",
     "text": [
      "8\n"
     ]
    }
   ],
   "source": [
    "# the current value of slider\n",
    "print(slider.value)"
   ]
  },
  {
   "cell_type": "markdown",
   "id": "3d972bb2-7dd0-494c-8993-2627067c7ecd",
   "metadata": {},
   "source": [
    "## Documentation"
   ]
  },
  {
   "cell_type": "code",
   "execution_count": null,
   "id": "be3caf08-efc6-4279-8ab5-488d1b90a06e",
   "metadata": {},
   "outputs": [],
   "source": [
    "https://ipywidgets.readthedocs.io/en/stable/examples/Widget%20List.html"
   ]
  },
  {
   "cell_type": "markdown",
   "id": "19cc78cc-0317-4f6c-9ab7-d9ea7375850c",
   "metadata": {},
   "source": [
    "## Filter a Data-frame With Widgets"
   ]
  },
  {
   "cell_type": "code",
   "execution_count": 11,
   "id": "17a6505b-f5ce-4082-9eba-7fe1e3efa999",
   "metadata": {},
   "outputs": [],
   "source": [
    "# the data url\n",
    "url = \"https://data.london.gov.uk/download/number-international-visitors-london/b1e0f953-4c8a-4b45-95f5-e0d143d5641e/international-visitors-london-raw.csv\"\n",
    "\n",
    "# create the data-frame\n",
    "df_london = pd.read_csv(url, encoding= 'unicode_escape')\n",
    "df_london.columns = [\"year\",\"quarter\",\"market\",\"dur_stay\",\"mode\",\"purpose\",\"area\",\"visits\",\"spend\",\"nights\",\"sample\"]\n",
    "\n",
    "# sample 200 rows\n",
    "df = df_london.sample(200)"
   ]
  },
  {
   "cell_type": "code",
   "execution_count": 13,
   "id": "d7674edc-cc98-4f24-854a-65e2686e76a1",
   "metadata": {},
   "outputs": [
    {
     "data": {
      "text/html": [
       "<div>\n",
       "<style scoped>\n",
       "    .dataframe tbody tr th:only-of-type {\n",
       "        vertical-align: middle;\n",
       "    }\n",
       "\n",
       "    .dataframe tbody tr th {\n",
       "        vertical-align: top;\n",
       "    }\n",
       "\n",
       "    .dataframe thead th {\n",
       "        text-align: right;\n",
       "    }\n",
       "</style>\n",
       "<table border=\"1\" class=\"dataframe\">\n",
       "  <thead>\n",
       "    <tr style=\"text-align: right;\">\n",
       "      <th></th>\n",
       "      <th>year</th>\n",
       "      <th>quarter</th>\n",
       "      <th>market</th>\n",
       "      <th>dur_stay</th>\n",
       "      <th>mode</th>\n",
       "      <th>purpose</th>\n",
       "      <th>area</th>\n",
       "      <th>visits</th>\n",
       "      <th>spend</th>\n",
       "      <th>nights</th>\n",
       "      <th>sample</th>\n",
       "    </tr>\n",
       "  </thead>\n",
       "  <tbody>\n",
       "    <tr>\n",
       "      <th>59740</th>\n",
       "      <td>2019</td>\n",
       "      <td>July-September</td>\n",
       "      <td>Hong Kong</td>\n",
       "      <td>8-14 nights</td>\n",
       "      <td>Air</td>\n",
       "      <td>Holiday</td>\n",
       "      <td>LONDON</td>\n",
       "      <td>28.209746</td>\n",
       "      <td>39.144470</td>\n",
       "      <td>216.743440</td>\n",
       "      <td>23</td>\n",
       "    </tr>\n",
       "    <tr>\n",
       "      <th>60954</th>\n",
       "      <td>2020P</td>\n",
       "      <td>January-March</td>\n",
       "      <td>Spain</td>\n",
       "      <td>1-3  nights</td>\n",
       "      <td>Air</td>\n",
       "      <td>Holiday</td>\n",
       "      <td>LONDON</td>\n",
       "      <td>61.495195</td>\n",
       "      <td>25.044125</td>\n",
       "      <td>147.849989</td>\n",
       "      <td>26</td>\n",
       "    </tr>\n",
       "    <tr>\n",
       "      <th>725</th>\n",
       "      <td>2002</td>\n",
       "      <td>January-March</td>\n",
       "      <td>South Africa</td>\n",
       "      <td>15+  nights</td>\n",
       "      <td>Sea</td>\n",
       "      <td>Holiday</td>\n",
       "      <td>LONDON</td>\n",
       "      <td>3.454860</td>\n",
       "      <td>1.946640</td>\n",
       "      <td>147.862000</td>\n",
       "      <td>1</td>\n",
       "    </tr>\n",
       "    <tr>\n",
       "      <th>9552</th>\n",
       "      <td>2004</td>\n",
       "      <td>October-December</td>\n",
       "      <td>Irish Republic</td>\n",
       "      <td>8-14 nights</td>\n",
       "      <td>Air</td>\n",
       "      <td>VFR</td>\n",
       "      <td>LONDON</td>\n",
       "      <td>5.440197</td>\n",
       "      <td>3.165869</td>\n",
       "      <td>59.946741</td>\n",
       "      <td>4</td>\n",
       "    </tr>\n",
       "    <tr>\n",
       "      <th>24295</th>\n",
       "      <td>2009</td>\n",
       "      <td>January-March</td>\n",
       "      <td>South Africa</td>\n",
       "      <td>15+  nights</td>\n",
       "      <td>Air</td>\n",
       "      <td>Holiday</td>\n",
       "      <td>LONDON</td>\n",
       "      <td>2.378327</td>\n",
       "      <td>3.383803</td>\n",
       "      <td>118.429303</td>\n",
       "      <td>9</td>\n",
       "    </tr>\n",
       "  </tbody>\n",
       "</table>\n",
       "</div>"
      ],
      "text/plain": [
       "        year           quarter          market     dur_stay mode  purpose  \\\n",
       "59740   2019    July-September       Hong Kong  8-14 nights  Air  Holiday   \n",
       "60954  2020P     January-March           Spain  1-3  nights  Air  Holiday   \n",
       "725     2002     January-March    South Africa  15+  nights  Sea  Holiday   \n",
       "9552    2004  October-December  Irish Republic  8-14 nights  Air      VFR   \n",
       "24295   2009     January-March    South Africa  15+  nights  Air  Holiday   \n",
       "\n",
       "          area     visits      spend      nights  sample  \n",
       "59740   LONDON  28.209746  39.144470  216.743440      23  \n",
       "60954   LONDON  61.495195  25.044125  147.849989      26  \n",
       "725     LONDON   3.454860   1.946640  147.862000       1  \n",
       "9552    LONDON   5.440197   3.165869   59.946741       4  \n",
       "24295   LONDON   2.378327   3.383803  118.429303       9  "
      ]
     },
     "execution_count": 13,
     "metadata": {},
     "output_type": "execute_result"
    }
   ],
   "source": [
    "df.head()"
   ]
  },
  {
   "cell_type": "code",
   "execution_count": 14,
   "id": "65b1b355-8b5d-4f22-acf1-496159b687e0",
   "metadata": {},
   "outputs": [],
   "source": [
    "# the filter function\n",
    "def filter_df(column, threshold):\n",
    "    return df[df[column] <= threshold]"
   ]
  },
  {
   "cell_type": "markdown",
   "id": "d4ff6ddb-6e2a-4e24-8152-61add1f6c8bf",
   "metadata": {},
   "source": [
    "Let's say we want to use the columns 'spend' and 'visits' in our dropdown widget and values from the interval <0,30> with step 1 in a slider widget."
   ]
  },
  {
   "cell_type": "code",
   "execution_count": 19,
   "id": "e66691c3-3d9e-4fb3-9315-fc1b0d5f8eed",
   "metadata": {},
   "outputs": [
    {
     "data": {
      "application/vnd.jupyter.widget-view+json": {
       "model_id": "f5bda41021cb4af7ae1269f91045ee11",
       "version_major": 2,
       "version_minor": 0
      },
      "text/plain": [
       "interactive(children=(Dropdown(description='column', options=('spend', 'visits'), value='spend'), IntSlider(va…"
      ]
     },
     "metadata": {},
     "output_type": "display_data"
    }
   ],
   "source": [
    "filter_widget = widgets.interact(filter_df,\n",
    "                                 column=['spend','visits'], \n",
    "                                 threshold=(1, 30, 1)) # step 1"
   ]
  },
  {
   "cell_type": "code",
   "execution_count": 21,
   "id": "9c3348ad-3e07-4776-9376-0fac4b554b0b",
   "metadata": {},
   "outputs": [],
   "source": [
    "# use filter later in code\n",
    "filter_widget.widget"
   ]
  },
  {
   "cell_type": "markdown",
   "id": "aa6b4bf1-69a5-4d42-82a5-ab29c2343393",
   "metadata": {},
   "source": [
    "## Interactive Plots With Widgets\n",
    "learn how to change the x- and y-axis data with widgets. Let's define a function that creates a scatter plot from selected columns of a data-frame."
   ]
  },
  {
   "cell_type": "code",
   "execution_count": 26,
   "id": "69c6c17c-a136-4417-90d4-1d753915e863",
   "metadata": {},
   "outputs": [
    {
     "data": {
      "text/plain": [
       "['spend', 'nights', 'sample']"
      ]
     },
     "execution_count": 26,
     "metadata": {},
     "output_type": "execute_result"
    }
   ],
   "source": [
    "list(df.select_dtypes('number').columns)[1:]"
   ]
  },
  {
   "cell_type": "code",
   "execution_count": 27,
   "id": "81ad555c-3f19-4b4a-a061-0fa1345ad8f6",
   "metadata": {},
   "outputs": [
    {
     "data": {
      "text/plain": [
       "['visits', 'spend', 'nights', 'sample']"
      ]
     },
     "execution_count": 27,
     "metadata": {},
     "output_type": "execute_result"
    }
   ],
   "source": [
    "\n",
    "list(df.select_dtypes('number').columns)"
   ]
  },
  {
   "cell_type": "code",
   "execution_count": 22,
   "id": "50ad443e-ba20-4f9e-ba8b-29ecb23fea49",
   "metadata": {},
   "outputs": [
    {
     "data": {
      "application/vnd.jupyter.widget-view+json": {
       "model_id": "02e8878a36454de39a6d61db7b71d19e",
       "version_major": 2,
       "version_minor": 0
      },
      "text/plain": [
       "interactive(children=(Dropdown(description='x', options=('visits', 'spend', 'nights', 'sample'), value='visits…"
      ]
     },
     "metadata": {},
     "output_type": "display_data"
    }
   ],
   "source": [
    "@interact\n",
    "def scatter_plot(x=list(df.select_dtypes('number').columns), \n",
    "                 y=list(df.select_dtypes('number').columns)[1:]):\n",
    "\n",
    "    # trace\n",
    "    trace = [go.Scatter(x=df[x], y=df[y], mode='markers')]\n",
    "\n",
    "    # layout\n",
    "    layout = go.Layout(\n",
    "                title = 'Scatter plot', # Graph title\n",
    "                xaxis = dict(title = x.title()), # x-axis label\n",
    "                yaxis = dict(title = y.title()), # y-axis label\n",
    "                hovermode ='closest' # handles multiple points landing on the same vertical\n",
    "    )\n",
    "\n",
    "    # fig\n",
    "    fig = go.Figure(trace, layout)\n",
    "    fig.show()\n"
   ]
  },
  {
   "cell_type": "markdown",
   "id": "66e20401-9973-4cc8-b272-b4de545eb857",
   "metadata": {},
   "source": [
    "plot changes almost immediately, but for bigger data-frames, this real-time change could be a problem. The solution is the @interact_manual decorator that creates dropdowns in the same was as the @interact decorator but also creates a button that allows us to confirm the selection. Let's try to use this decorator:"
   ]
  },
  {
   "cell_type": "code",
   "execution_count": 28,
   "id": "896b07c1-e889-4587-ab12-acf7ab97f8ff",
   "metadata": {},
   "outputs": [
    {
     "data": {
      "application/vnd.jupyter.widget-view+json": {
       "model_id": "5b36cfc5a8684c5db0ccdf7bf3c1b177",
       "version_major": 2,
       "version_minor": 0
      },
      "text/plain": [
       "interactive(children=(Dropdown(description='x', options=('visits', 'spend', 'nights', 'sample'), value='visits…"
      ]
     },
     "metadata": {},
     "output_type": "display_data"
    }
   ],
   "source": [
    "@interact_manual\n",
    "def scatter_plot(x=list(df.select_dtypes('number').columns), \n",
    "                 y=list(df.select_dtypes('number').columns)[1:]):\n",
    "\n",
    "    # trace\n",
    "    trace = [go.Scatter(x=df[x], y=df[y], mode='markers')]\n",
    "\n",
    "    # layout\n",
    "    layout = go.Layout(\n",
    "                title = 'Scatter plot', # Graph title\n",
    "                xaxis = dict(title = x.title()), # x-axis label\n",
    "                yaxis = dict(title = y.title()), # y-axis label\n",
    "                hovermode ='closest' # handles multiple points landing on the same vertical\n",
    "    )\n",
    "\n",
    "    # fig\n",
    "    fig = go.Figure(trace, layout)\n",
    "    fig.show()"
   ]
  },
  {
   "cell_type": "code",
   "execution_count": null,
   "id": "42174ac8-7fb0-4d9d-bb9b-97506b8929da",
   "metadata": {},
   "outputs": [],
   "source": [
    "ALSO SEE \n",
    "https://towardsdatascience.com/interactive-controls-for-jupyter-notebooks-f5c94829aee6"
   ]
  }
 ],
 "metadata": {
  "kernelspec": {
   "display_name": "Python 3",
   "language": "python",
   "name": "python3"
  },
  "language_info": {
   "codemirror_mode": {
    "name": "ipython",
    "version": 3
   },
   "file_extension": ".py",
   "mimetype": "text/x-python",
   "name": "python",
   "nbconvert_exporter": "python",
   "pygments_lexer": "ipython3",
   "version": "3.8.8"
  }
 },
 "nbformat": 4,
 "nbformat_minor": 5
}
