{
 "cells": [
  {
   "cell_type": "markdown",
   "metadata": {},
   "source": [
    "## Matplotlib Assignment"
   ]
  },
  {
   "cell_type": "code",
   "execution_count": 33,
   "metadata": {
    "ExecuteTime": {
     "end_time": "2020-04-23T18:18:27.178894Z",
     "start_time": "2020-04-23T18:18:27.172402Z"
    }
   },
   "outputs": [],
   "source": [
    "# import pandas\n",
    "import pandas as pd\n",
    "\n",
    "# import matplotlib\n",
    "import matplotlib.pyplot as plt\n",
    "\n",
    "import numpy as np\n",
    "\n",
    "%matplotlib inline"
   ]
  },
  {
   "cell_type": "code",
   "execution_count": 3,
   "metadata": {
    "ExecuteTime": {
     "end_time": "2020-04-23T18:18:27.475135Z",
     "start_time": "2020-04-23T18:18:27.390985Z"
    }
   },
   "outputs": [],
   "source": [
    "# df=pd.read_csv('https://pynative.com/wp-content/uploads/2019/01/company_sales_data.csv')\n",
    "df= pd.read_csv('data/company_sales_data.csv')"
   ]
  },
  {
   "cell_type": "code",
   "execution_count": 4,
   "metadata": {
    "ExecuteTime": {
     "end_time": "2020-04-23T18:18:27.606163Z",
     "start_time": "2020-04-23T18:18:27.594265Z"
    }
   },
   "outputs": [
    {
     "data": {
      "text/html": [
       "<div>\n",
       "<style scoped>\n",
       "    .dataframe tbody tr th:only-of-type {\n",
       "        vertical-align: middle;\n",
       "    }\n",
       "\n",
       "    .dataframe tbody tr th {\n",
       "        vertical-align: top;\n",
       "    }\n",
       "\n",
       "    .dataframe thead th {\n",
       "        text-align: right;\n",
       "    }\n",
       "</style>\n",
       "<table border=\"1\" class=\"dataframe\">\n",
       "  <thead>\n",
       "    <tr style=\"text-align: right;\">\n",
       "      <th></th>\n",
       "      <th>month_number</th>\n",
       "      <th>facecream</th>\n",
       "      <th>facewash</th>\n",
       "      <th>toothpaste</th>\n",
       "      <th>bathingsoap</th>\n",
       "      <th>shampoo</th>\n",
       "      <th>moisturizer</th>\n",
       "      <th>total_units</th>\n",
       "      <th>total_profit</th>\n",
       "    </tr>\n",
       "  </thead>\n",
       "  <tbody>\n",
       "    <tr>\n",
       "      <th>0</th>\n",
       "      <td>1</td>\n",
       "      <td>2500</td>\n",
       "      <td>1500</td>\n",
       "      <td>5200</td>\n",
       "      <td>9200</td>\n",
       "      <td>1200</td>\n",
       "      <td>1500</td>\n",
       "      <td>21100</td>\n",
       "      <td>211000</td>\n",
       "    </tr>\n",
       "    <tr>\n",
       "      <th>1</th>\n",
       "      <td>2</td>\n",
       "      <td>2630</td>\n",
       "      <td>1200</td>\n",
       "      <td>5100</td>\n",
       "      <td>6100</td>\n",
       "      <td>2100</td>\n",
       "      <td>1200</td>\n",
       "      <td>18330</td>\n",
       "      <td>183300</td>\n",
       "    </tr>\n",
       "    <tr>\n",
       "      <th>2</th>\n",
       "      <td>3</td>\n",
       "      <td>2140</td>\n",
       "      <td>1340</td>\n",
       "      <td>4550</td>\n",
       "      <td>9550</td>\n",
       "      <td>3550</td>\n",
       "      <td>1340</td>\n",
       "      <td>22470</td>\n",
       "      <td>224700</td>\n",
       "    </tr>\n",
       "    <tr>\n",
       "      <th>3</th>\n",
       "      <td>4</td>\n",
       "      <td>3400</td>\n",
       "      <td>1130</td>\n",
       "      <td>5870</td>\n",
       "      <td>8870</td>\n",
       "      <td>1870</td>\n",
       "      <td>1130</td>\n",
       "      <td>22270</td>\n",
       "      <td>222700</td>\n",
       "    </tr>\n",
       "    <tr>\n",
       "      <th>4</th>\n",
       "      <td>5</td>\n",
       "      <td>3600</td>\n",
       "      <td>1740</td>\n",
       "      <td>4560</td>\n",
       "      <td>7760</td>\n",
       "      <td>1560</td>\n",
       "      <td>1740</td>\n",
       "      <td>20960</td>\n",
       "      <td>209600</td>\n",
       "    </tr>\n",
       "  </tbody>\n",
       "</table>\n",
       "</div>"
      ],
      "text/plain": [
       "   month_number  facecream  facewash  toothpaste  bathingsoap  shampoo  \\\n",
       "0             1       2500      1500        5200         9200     1200   \n",
       "1             2       2630      1200        5100         6100     2100   \n",
       "2             3       2140      1340        4550         9550     3550   \n",
       "3             4       3400      1130        5870         8870     1870   \n",
       "4             5       3600      1740        4560         7760     1560   \n",
       "\n",
       "   moisturizer  total_units  total_profit  \n",
       "0         1500        21100        211000  \n",
       "1         1200        18330        183300  \n",
       "2         1340        22470        224700  \n",
       "3         1130        22270        222700  \n",
       "4         1740        20960        209600  "
      ]
     },
     "execution_count": 4,
     "metadata": {},
     "output_type": "execute_result"
    }
   ],
   "source": [
    "df.head()"
   ]
  },
  {
   "cell_type": "markdown",
   "metadata": {
    "ExecuteTime": {
     "end_time": "2020-02-10T14:31:17.354810Z",
     "start_time": "2020-02-10T14:31:17.350708Z"
    }
   },
   "source": [
    "### Task 1: Read the `total_profit` of all months and display it using a line plot."
   ]
  },
  {
   "cell_type": "code",
   "execution_count": 8,
   "metadata": {
    "ExecuteTime": {
     "end_time": "2020-02-10T14:31:58.448841Z",
     "start_time": "2020-02-10T14:31:58.296625Z"
    }
   },
   "outputs": [
    {
     "data": {
      "text/plain": [
       "array([211000, 183300, 224700, 222700, 209600, 201400, 295500, 361400,\n",
       "       234000, 266700, 412800, 300200])"
      ]
     },
     "execution_count": 8,
     "metadata": {},
     "output_type": "execute_result"
    }
   ],
   "source": [
    "y = df['total_profit'].values\n",
    "y"
   ]
  },
  {
   "cell_type": "code",
   "execution_count": 18,
   "metadata": {},
   "outputs": [],
   "source": [
    "# df['total_profit'].sort_values\n"
   ]
  },
  {
   "cell_type": "code",
   "execution_count": 36,
   "metadata": {},
   "outputs": [
    {
     "data": {
      "image/png": "[encoded data removed]",
      "text/plain": [
       "<Figure size 432x288 with 1 Axes>"
      ]
     },
     "metadata": {
      "needs_background": "light"
     },
     "output_type": "display_data"
    }
   ],
   "source": [
    "# 200 values from the interval <0,100>, equidistantly divided\n",
    "x = df.month_number.values\n",
    "y = df.total_profit.values\n",
    "\n",
    "# a line plot\n",
    "plt.plot(x,y,'red')\n",
    "plt.title('Company Sales Total Profit')\n",
    "plt.xlabel('month')\n",
    "plt.ylabel('Profit')\n",
    "plt.show()"
   ]
  },
  {
   "cell_type": "markdown",
   "metadata": {
    "ExecuteTime": {
     "end_time": "2020-02-10T14:32:21.369689Z",
     "start_time": "2020-02-10T14:32:21.365982Z"
    }
   },
   "source": [
    "### Task 2: Read all the different product sales data and display it using a multiline plot."
   ]
  },
  {
   "cell_type": "code",
   "execution_count": 19,
   "metadata": {
    "ExecuteTime": {
     "end_time": "2020-02-10T14:32:43.465628Z",
     "start_time": "2020-02-10T14:32:43.236946Z"
    }
   },
   "outputs": [
    {
     "data": {
      "text/plain": [
       "Index(['month_number', 'facecream', 'facewash', 'toothpaste', 'bathingsoap',\n",
       "       'shampoo', 'moisturizer', 'total_units', 'total_profit'],\n",
       "      dtype='object')"
      ]
     },
     "execution_count": 19,
     "metadata": {},
     "output_type": "execute_result"
    }
   ],
   "source": [
    "df.keys()"
   ]
  },
  {
   "cell_type": "code",
   "execution_count": null,
   "metadata": {},
   "outputs": [],
   "source": [
    "# x = np.linspace(0, 2, 100)\n",
    "# plt.plot(x, x, label='linear')\n",
    "# plt.plot(x, x**2, label='quadratic')\n",
    "# plt.plot(x, x**3, label='cubic')\n",
    "# plt.xlabel('x label')\n",
    "# plt.ylabel('y label')\n",
    "# plt.title(\"Simple Plot\")\n",
    "# plt.legend()\n",
    "# plt.show()"
   ]
  },
  {
   "cell_type": "code",
   "execution_count": 41,
   "metadata": {},
   "outputs": [
    {
     "data": {
      "image/png": "[encoded data removed]",
      "text/plain": [
       "<Figure size 432x288 with 1 Axes>"
      ]
     },
     "metadata": {
      "needs_background": "light"
     },
     "output_type": "display_data"
    }
   ],
   "source": [
    "# 200 values from the interval <0,100>, equidistantly divided\n",
    "x = df.month_number.values\n",
    "\n",
    "y2 = df.facecream\n",
    "y3 = df.facewash\n",
    "y4 = df.toothpaste\n",
    "y5 = df.bathingsoap\n",
    "y6 = df.shampoo\n",
    "y7 = df.moisturizer\n",
    "\n",
    "plt.plot(x,y2,'blue', label=\"face cream\")\n",
    "plt.plot(x,y3,'red', label='facewash')\n",
    "plt.plot(x,y4,'green', label='toothpaste')\n",
    "plt.plot(x,y5,'purple', label='bathingsoap')\n",
    "plt.plot(x,y6,'pink', label='shampoo')\n",
    "plt.plot(x,y7,'black', label='moisturizer')\n",
    "\n",
    "plt.xlabel('month number')\n",
    "plt.ylabel('numbers sales')\n",
    "plt.title(\"Company Sales\")\n",
    "plt.legend(loc='upper right')\n",
    "\n",
    "# plt.legend()\n",
    "\n",
    "plt.show()"
   ]
  },
  {
   "cell_type": "code",
   "execution_count": null,
   "metadata": {},
   "outputs": [],
   "source": []
  },
  {
   "cell_type": "markdown",
   "metadata": {},
   "source": [
    "### Task 3: Read the `total_profit` of each month and display it using a histogram to find out which profit ranges are the most common."
   ]
  },
  {
   "cell_type": "code",
   "execution_count": 27,
   "metadata": {
    "ExecuteTime": {
     "end_time": "2020-02-10T14:33:25.912982Z",
     "start_time": "2020-02-10T14:33:25.730585Z"
    }
   },
   "outputs": [
    {
     "data": {
      "text/html": [
       "<div>\n",
       "<style scoped>\n",
       "    .dataframe tbody tr th:only-of-type {\n",
       "        vertical-align: middle;\n",
       "    }\n",
       "\n",
       "    .dataframe tbody tr th {\n",
       "        vertical-align: top;\n",
       "    }\n",
       "\n",
       "    .dataframe thead th {\n",
       "        text-align: right;\n",
       "    }\n",
       "</style>\n",
       "<table border=\"1\" class=\"dataframe\">\n",
       "  <thead>\n",
       "    <tr style=\"text-align: right;\">\n",
       "      <th></th>\n",
       "      <th>month_number</th>\n",
       "      <th>facecream</th>\n",
       "      <th>facewash</th>\n",
       "      <th>toothpaste</th>\n",
       "      <th>bathingsoap</th>\n",
       "      <th>shampoo</th>\n",
       "      <th>moisturizer</th>\n",
       "      <th>total_units</th>\n",
       "      <th>total_profit</th>\n",
       "    </tr>\n",
       "  </thead>\n",
       "  <tbody>\n",
       "    <tr>\n",
       "      <th>0</th>\n",
       "      <td>1</td>\n",
       "      <td>2500</td>\n",
       "      <td>1500</td>\n",
       "      <td>5200</td>\n",
       "      <td>9200</td>\n",
       "      <td>1200</td>\n",
       "      <td>1500</td>\n",
       "      <td>21100</td>\n",
       "      <td>211000</td>\n",
       "    </tr>\n",
       "    <tr>\n",
       "      <th>1</th>\n",
       "      <td>2</td>\n",
       "      <td>2630</td>\n",
       "      <td>1200</td>\n",
       "      <td>5100</td>\n",
       "      <td>6100</td>\n",
       "      <td>2100</td>\n",
       "      <td>1200</td>\n",
       "      <td>18330</td>\n",
       "      <td>183300</td>\n",
       "    </tr>\n",
       "    <tr>\n",
       "      <th>2</th>\n",
       "      <td>3</td>\n",
       "      <td>2140</td>\n",
       "      <td>1340</td>\n",
       "      <td>4550</td>\n",
       "      <td>9550</td>\n",
       "      <td>3550</td>\n",
       "      <td>1340</td>\n",
       "      <td>22470</td>\n",
       "      <td>224700</td>\n",
       "    </tr>\n",
       "    <tr>\n",
       "      <th>3</th>\n",
       "      <td>4</td>\n",
       "      <td>3400</td>\n",
       "      <td>1130</td>\n",
       "      <td>5870</td>\n",
       "      <td>8870</td>\n",
       "      <td>1870</td>\n",
       "      <td>1130</td>\n",
       "      <td>22270</td>\n",
       "      <td>222700</td>\n",
       "    </tr>\n",
       "    <tr>\n",
       "      <th>4</th>\n",
       "      <td>5</td>\n",
       "      <td>3600</td>\n",
       "      <td>1740</td>\n",
       "      <td>4560</td>\n",
       "      <td>7760</td>\n",
       "      <td>1560</td>\n",
       "      <td>1740</td>\n",
       "      <td>20960</td>\n",
       "      <td>209600</td>\n",
       "    </tr>\n",
       "  </tbody>\n",
       "</table>\n",
       "</div>"
      ],
      "text/plain": [
       "   month_number  facecream  facewash  toothpaste  bathingsoap  shampoo  \\\n",
       "0             1       2500      1500        5200         9200     1200   \n",
       "1             2       2630      1200        5100         6100     2100   \n",
       "2             3       2140      1340        4550         9550     3550   \n",
       "3             4       3400      1130        5870         8870     1870   \n",
       "4             5       3600      1740        4560         7760     1560   \n",
       "\n",
       "   moisturizer  total_units  total_profit  \n",
       "0         1500        21100        211000  \n",
       "1         1200        18330        183300  \n",
       "2         1340        22470        224700  \n",
       "3         1130        22270        222700  \n",
       "4         1740        20960        209600  "
      ]
     },
     "execution_count": 27,
     "metadata": {},
     "output_type": "execute_result"
    }
   ],
   "source": [
    "df.head()"
   ]
  },
  {
   "cell_type": "code",
   "execution_count": 32,
   "metadata": {},
   "outputs": [
    {
     "data": {
      "text/plain": [
       "array([211000, 183300, 224700, 222700, 209600, 201400, 295500, 361400,\n",
       "       234000, 266700, 412800, 300200])"
      ]
     },
     "execution_count": 32,
     "metadata": {},
     "output_type": "execute_result"
    }
   ],
   "source": [
    "y"
   ]
  },
  {
   "cell_type": "code",
   "execution_count": 71,
   "metadata": {},
   "outputs": [
    {
     "ename": "AttributeError",
     "evalue": "module 'matplotlib.pyplot' has no attribute 'set_xticks'",
     "output_type": "error",
     "traceback": [
      "\u001b[0;31m---------------------------------------------------------------------------\u001b[0m",
      "\u001b[0;31mAttributeError\u001b[0m                            Traceback (most recent call last)",
      "\u001b[0;32m<ipython-input-71-9ecea4532119>\u001b[0m in \u001b[0;36m<module>\u001b[0;34m\u001b[0m\n\u001b[1;32m     11\u001b[0m \u001b[0mplt\u001b[0m\u001b[0;34m.\u001b[0m\u001b[0mylabel\u001b[0m\u001b[0;34m(\u001b[0m\u001b[0;34m'count'\u001b[0m\u001b[0;34m)\u001b[0m\u001b[0;34m\u001b[0m\u001b[0;34m\u001b[0m\u001b[0m\n\u001b[1;32m     12\u001b[0m \u001b[0mplt\u001b[0m\u001b[0;34m.\u001b[0m\u001b[0mtitle\u001b[0m\u001b[0;34m(\u001b[0m\u001b[0;34m\"Most frequent profit\"\u001b[0m\u001b[0;34m)\u001b[0m\u001b[0;34m\u001b[0m\u001b[0;34m\u001b[0m\u001b[0m\n\u001b[0;32m---> 13\u001b[0;31m \u001b[0mplt\u001b[0m\u001b[0;34m.\u001b[0m\u001b[0mset_xticks\u001b[0m\u001b[0;34m(\u001b[0m\u001b[0mbins\u001b[0m\u001b[0;34m)\u001b[0m\u001b[0;34m\u001b[0m\u001b[0;34m\u001b[0m\u001b[0m\n\u001b[0m\u001b[1;32m     14\u001b[0m \u001b[0;34m\u001b[0m\u001b[0m\n\u001b[1;32m     15\u001b[0m \u001b[0mplt\u001b[0m\u001b[0;34m.\u001b[0m\u001b[0mshow\u001b[0m\u001b[0;34m(\u001b[0m\u001b[0;34m)\u001b[0m\u001b[0;34m\u001b[0m\u001b[0;34m\u001b[0m\u001b[0m\n",
      "\u001b[0;31mAttributeError\u001b[0m: module 'matplotlib.pyplot' has no attribute 'set_xticks'"
     ]
    },
    {
     "data": {
      "image/png": "[encoded data removed]",
      "text/plain": [
       "<Figure size 432x288 with 1 Axes>"
      ]
     },
     "metadata": {
      "needs_background": "light"
     },
     "output_type": "display_data"
    }
   ],
   "source": [
    "y = df.total_profit.values\n",
    "\n",
    "x = df.month_number.values\n",
    "bins = 10\n",
    "\n",
    "plt.hist(y, bins=bins)\n",
    "\n",
    "\n",
    " \n",
    "plt.xlabel('profit range')\n",
    "plt.ylabel('count')\n",
    "plt.title(\"Most frequent profit\")\n",
    "plt.set_xticks(bins)\n",
    "\n",
    "plt.show()"
   ]
  },
  {
   "cell_type": "code",
   "execution_count": 39,
   "metadata": {},
   "outputs": [
    {
     "data": {
      "text/plain": [
       "array([211000, 183300, 224700, 222700, 209600, 201400, 295500, 361400,\n",
       "       234000, 266700, 412800, 300200])"
      ]
     },
     "execution_count": 39,
     "metadata": {},
     "output_type": "execute_result"
    }
   ],
   "source": [
    "y"
   ]
  },
  {
   "cell_type": "code",
   "execution_count": 62,
   "metadata": {},
   "outputs": [],
   "source": [
    "# bins"
   ]
  },
  {
   "cell_type": "code",
   "execution_count": 63,
   "metadata": {},
   "outputs": [],
   "source": [
    "# bins"
   ]
  },
  {
   "cell_type": "code",
   "execution_count": null,
   "metadata": {},
   "outputs": [],
   "source": []
  }
 ],
 "metadata": {
  "kernelspec": {
   "display_name": "Python 3",
   "language": "python",
   "name": "python3"
  },
  "language_info": {
   "codemirror_mode": {
    "name": "ipython",
    "version": 3
   },
   "file_extension": ".py",
   "mimetype": "text/x-python",
   "name": "python",
   "nbconvert_exporter": "python",
   "pygments_lexer": "ipython3",
   "version": "3.8.8"
  },
  "toc": {
   "base_numbering": 1,
   "nav_menu": {},
   "number_sections": true,
   "sideBar": true,
   "skip_h1_title": false,
   "title_cell": "Table of Contents",
   "title_sidebar": "Contents",
   "toc_cell": false,
   "toc_position": {},
   "toc_section_display": true,
   "toc_window_display": false
  },
  "varInspector": {
   "cols": {
    "lenName": 16,
    "lenType": 16,
    "lenVar": 40
   },
   "kernels_config": {
    "python": {
     "delete_cmd_postfix": "",
     "delete_cmd_prefix": "del ",
     "library": "var_list.py",
     "varRefreshCmd": "print(var_dic_list())"
    },
    "r": {
     "delete_cmd_postfix": ") ",
     "delete_cmd_prefix": "rm(",
     "library": "var_list.r",
     "varRefreshCmd": "cat(var_dic_list()) "
    }
   },
   "types_to_exclude": [
    "module",
    "function",
    "builtin_function_or_method",
    "instance",
    "_Feature"
   ],
   "window_display": false
  }
 },
 "nbformat": 4,
 "nbformat_minor": 4
}
