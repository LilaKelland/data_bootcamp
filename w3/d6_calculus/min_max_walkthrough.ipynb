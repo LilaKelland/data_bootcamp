{
 "cells": [
  {
   "cell_type": "code",
   "execution_count": 2,
   "id": "9ef4330a-9de5-4ff7-9ffc-f4544675f5f5",
   "metadata": {},
   "outputs": [],
   "source": [
    "import scipy\n",
    "# help(scipy)"
   ]
  },
  {
   "cell_type": "code",
   "execution_count": 3,
   "id": "c8045374-f738-4a54-bde8-c308cd307ce6",
   "metadata": {},
   "outputs": [],
   "source": [
    "from pathlib import Path\n",
    "import numpy as np\n",
    "from scipy.cluster.vq import whiten, kmeans, vq"
   ]
  },
  {
   "cell_type": "code",
   "execution_count": 10,
   "id": "bc3db4ad-6d2e-42b1-863a-b93fe05ad145",
   "metadata": {},
   "outputs": [
    {
     "data": {
      "image/png": "[encoded data removed]",
      "text/plain": [
       "<Figure size 432x288 with 1 Axes>"
      ]
     },
     "metadata": {
      "needs_background": "light"
     },
     "output_type": "display_data"
    }
   ],
   "source": [
    "from matplotlib import pyplot as plt\n",
    "import numpy as np\n",
    "\n",
    "x = np.linspace(-1.5,1.5)\n",
    "y = x**4 - x**2\n",
    "fig, ax = plt.subplots()\n",
    "plt.ylim(-0.5,1)\n",
    "ax.plot(x, y);\n",
    "\n"
   ]
  },
  {
   "cell_type": "markdown",
   "id": "88b0d930-ad7d-4c01-909b-b6ae4ebeb689",
   "metadata": {},
   "source": [
    "You can see that you’re importing three functions from scipy.cluster.vq. Each of these functions accepts a NumPy array as input. These arrays should have the features of the dataset in the columns and the observations in the rows.\n",
    "\n"
   ]
  },
  {
   "cell_type": "code",
   "execution_count": 4,
   "id": "01e42dbd-d619-42a0-b2c1-554d8b5d3fbd",
   "metadata": {},
   "outputs": [],
   "source": [
    "data = Path(\"data/SMSSpamCollection\").read_text()\n",
    "data = data.strip()\n",
    "data = data.split(\"\\n\")"
   ]
  },
  {
   "cell_type": "code",
   "execution_count": 6,
   "id": "b2798327-c598-4bdb-8630-ee786503699b",
   "metadata": {},
   "outputs": [],
   "source": [
    "# data"
   ]
  },
  {
   "cell_type": "markdown",
   "id": "292fd464-1849-4887-aa51-9d030aaab6cd",
   "metadata": {},
   "source": [
    "You need to count the number of digits that appear in each text message. Python includes collections.Counter in the standard library to collect counts of objects in a dictionary-like structure. However, since all of the functions in scipy.cluster.vq expect NumPy arrays as input, you can’t use collections.Counter for this example. Instead, you use a NumPy array and implement the counts manually."
   ]
  },
  {
   "cell_type": "markdown",
   "id": "1311ff59-7e2d-4d42-b922-56d4f913b631",
   "metadata": {},
   "source": [
    "Again, you’re interested in the number of digits in a given SMS message, and how many SMS messages have that number of digits. First, you should create a NumPy array that associates the number of digits in a given message with the result of the message, whether it was ham or spam:"
   ]
  },
  {
   "cell_type": "code",
   "execution_count": 7,
   "id": "6a978322-5f54-439f-89b1-25ee8815c05b",
   "metadata": {},
   "outputs": [],
   "source": [
    "digit_counts = np.empty((len(data), 2), dtype=int)"
   ]
  },
  {
   "cell_type": "markdown",
   "id": "9e49d0bb-28f6-4a27-a995-16a5f099210a",
   "metadata": {},
   "source": [
    "The number of rows is equal to the number of messages in the dataset. You’ll be using digit_counts to associate the number of digits in the message with whether or not the message was spam.\n",
    "\n",
    "You should create the array before entering the loop, so you don’t have to allocate new memory as your array expands."
   ]
  },
  {
   "cell_type": "code",
   "execution_count": 8,
   "id": "639102a0-7610-491c-ad90-e0651173e31f",
   "metadata": {},
   "outputs": [],
   "source": [
    "for i, line in enumerate(data):\n",
    "    case, message = line.split(\"\\t\")\n",
    "    num_digits = sum(c.isdigit() for c in message)\n",
    "    digit_counts[i, 0] = 0 if case == \"ham\" else 1\n",
    "    digit_counts[i, 1] = num_digits"
   ]
  },
  {
   "cell_type": "markdown",
   "id": "3bb253ef-3b1a-4636-97da-b1a3366a8ee4",
   "metadata": {},
   "source": [
    "you want to apply the clustering algorithm to an array that has the number of messages with a certain number of digits. In other words, you need to create an array where the first column has the number of digits in a message, and the second column is the number of messages that have that number of digits."
   ]
  },
  {
   "cell_type": "code",
   "execution_count": 9,
   "id": "c9cd39a7-9e58-4d71-9de6-6bab763fe7f1",
   "metadata": {},
   "outputs": [],
   "source": [
    "unique_counts = np.unique(digit_counts[:, 1], return_counts=True)"
   ]
  },
  {
   "cell_type": "code",
   "execution_count": 10,
   "id": "b6b2147a-7cd9-4f08-80eb-842404ca3b60",
   "metadata": {},
   "outputs": [
    {
     "data": {
      "text/plain": [
       "(array([ 0,  1,  2,  3,  4,  5,  6,  7,  8,  9, 10, 11, 12, 13, 14, 15, 16,\n",
       "        17, 18, 19, 20, 21, 22, 23, 24, 25, 26, 27, 28, 29, 30, 31, 32, 33,\n",
       "        34, 35, 36, 37, 40, 41, 47]),\n",
       " array([4110,  486,  160,   78,   42,   39,   16,   14,   28,   17,   16,\n",
       "          34,   30,   31,   37,   29,   35,   33,   41,   47,   18,   31,\n",
       "          28,   36,   34,   16,   16,   13,   19,    9,    2,    6,    3,\n",
       "           4,    3,    4,    1,    1,    4,    2,    1]))"
      ]
     },
     "execution_count": 10,
     "metadata": {},
     "output_type": "execute_result"
    }
   ],
   "source": [
    "unique_counts"
   ]
  },
  {
   "cell_type": "markdown",
   "id": "d34937af-d27b-4a0f-8094-8bfcf6cccb50",
   "metadata": {},
   "source": [
    "np.unique() takes an array as the first argument and returns another array with the unique elements from the argument.\n",
    "Next, you need to transform unique_counts into a shape that’s suitable for clustering"
   ]
  },
  {
   "cell_type": "code",
   "execution_count": 11,
   "id": "48da42e6-c704-4a61-a709-7b23ae3aa473",
   "metadata": {},
   "outputs": [],
   "source": [
    "unique_counts = np.transpose(np.vstack(unique_counts))"
   ]
  },
  {
   "cell_type": "code",
   "execution_count": 12,
   "id": "d5f20f8f-c893-4bd3-b8ae-a18ba64407a3",
   "metadata": {},
   "outputs": [
    {
     "data": {
      "text/plain": [
       "array([[   0, 4110],\n",
       "       [   1,  486],\n",
       "       [   2,  160],\n",
       "       [   3,   78],\n",
       "       [   4,   42],\n",
       "       [   5,   39],\n",
       "       [   6,   16],\n",
       "       [   7,   14],\n",
       "       [   8,   28],\n",
       "       [   9,   17],\n",
       "       [  10,   16],\n",
       "       [  11,   34],\n",
       "       [  12,   30],\n",
       "       [  13,   31],\n",
       "       [  14,   37],\n",
       "       [  15,   29],\n",
       "       [  16,   35],\n",
       "       [  17,   33],\n",
       "       [  18,   41],\n",
       "       [  19,   47],\n",
       "       [  20,   18],\n",
       "       [  21,   31],\n",
       "       [  22,   28],\n",
       "       [  23,   36],\n",
       "       [  24,   34],\n",
       "       [  25,   16],\n",
       "       [  26,   16],\n",
       "       [  27,   13],\n",
       "       [  28,   19],\n",
       "       [  29,    9],\n",
       "       [  30,    2],\n",
       "       [  31,    6],\n",
       "       [  32,    3],\n",
       "       [  33,    4],\n",
       "       [  34,    3],\n",
       "       [  35,    4],\n",
       "       [  36,    1],\n",
       "       [  37,    1],\n",
       "       [  40,    4],\n",
       "       [  41,    2],\n",
       "       [  47,    1]])"
      ]
     },
     "execution_count": 12,
     "metadata": {},
     "output_type": "execute_result"
    }
   ],
   "source": [
    "unique_counts"
   ]
  },
  {
   "cell_type": "markdown",
   "id": "3faf3775-3120-442e-8dca-f964aaa38f0a",
   "metadata": {},
   "source": [
    "You combine the two 1xN outputs from np.unique() into one 2xN array using np.vstack(), and then transpose them into an Nx2 array. This format is what you’ll use in the clustering functions. Each row in unique_counts now has two elements\n",
    "* The number of digits in a message\n",
    "* The number of messages that had that number of digits"
   ]
  },
  {
   "cell_type": "markdown",
   "id": "d969d36f-5d3e-4f0f-b21e-f08fb7ccb176",
   "metadata": {},
   "source": [
    "### Now, you should apply the k-means clustering algorithm to this array"
   ]
  },
  {
   "cell_type": "code",
   "execution_count": 13,
   "id": "58f6d5d1-8f23-4246-a7c6-cf8ad490084d",
   "metadata": {},
   "outputs": [],
   "source": [
    "whitened_counts = whiten(unique_counts)\n",
    "codebook, _ = kmeans(whitened_counts, 3)"
   ]
  },
  {
   "cell_type": "markdown",
   "id": "44a78d4d-f09f-4d9d-88f8-9952275262ff",
   "metadata": {},
   "source": [
    "You use whiten() to normalize each feature to have unit variance, which improves the results from kmeans(). Then, kmeans() takes the whitened data and the number of clusters to create as arguments. In this example, you want to create 3 clusters, for definitely ham, definitely spam, and unknown. kmeans() returns two values:\n",
    "\n",
    "* An array with three rows and two columns representing the centroids of each group: The kmeans() algorithm calculates the optimal location of the centroid of each cluster by minimizing the distance from the observations to each centroid. This array is assigned to codebook.\n",
    "\n",
    "* The mean Euclidian distance from the observations to the centroids: You won’t need that value for the rest of this example, so you can assign it to _."
   ]
  },
  {
   "cell_type": "markdown",
   "id": "5cab3958-19ca-4625-a592-7a6745f6b8ca",
   "metadata": {
    "tags": []
   },
   "source": [
    "### Next, you should determine which cluster each observation belongs to by using vq():"
   ]
  },
  {
   "cell_type": "code",
   "execution_count": 15,
   "id": "3c2c225d-5ba2-4def-ae4d-6420d295c5cd",
   "metadata": {},
   "outputs": [],
   "source": [
    "codes, _ = vq(whitened_counts, codebook)"
   ]
  },
  {
   "cell_type": "markdown",
   "id": "4db16c28-f99e-4c42-a2fb-fb974b10abdf",
   "metadata": {},
   "source": [
    "vq() assigns codes from the codebook to each observation. It returns two values:\n",
    "\n",
    "* The first value is an array of the same length as unique_counts, where the value of each element is an integer representing which cluster that observation is assigned to. Since you used three clusters in this example, each observation is assigned to cluster 0, 1, or 2.\n",
    "\n",
    "* The second value is an array of the Euclidian distance between each observation and its centroid."
   ]
  },
  {
   "cell_type": "code",
   "execution_count": 16,
   "id": "1757af5b-c1ca-428e-a701-8214abfe0614",
   "metadata": {},
   "outputs": [
    {
     "data": {
      "text/plain": [
       "array([0, 1, 1, 1, 1, 1, 1, 1, 1, 1, 1, 1, 1, 1, 1, 1, 1, 1, 1, 1, 1, 2,\n",
       "       2, 2, 2, 2, 2, 2, 2, 2, 2, 2, 2, 2, 2, 2, 2, 2, 2, 2, 2],\n",
       "      dtype=int32)"
      ]
     },
     "execution_count": 16,
     "metadata": {},
     "output_type": "execute_result"
    }
   ],
   "source": [
    "codes"
   ]
  },
  {
   "cell_type": "markdown",
   "id": "ac5099ac-a27e-4003-adac-2d7a1bcf3231",
   "metadata": {},
   "source": [
    "The clustering algorithm randomly assigns the code 0, 1, or 2 to each cluster, so you need to identify which is which. You can use this code to find the code associated with each cluster"
   ]
  },
  {
   "cell_type": "code",
   "execution_count": 17,
   "id": "46a9e58b-8de3-4edf-8bab-a6d59f40ee17",
   "metadata": {},
   "outputs": [],
   "source": [
    "ham_code = codes[0]\n",
    "spam_code = codes[-1]\n",
    "unknown_code = list(set(range(3)) ^ set((ham_code, spam_code)))[0]"
   ]
  },
  {
   "cell_type": "markdown",
   "id": "02f559c3-e357-4378-8623-71ca5bde966f",
   "metadata": {},
   "source": [
    "Finally, you need to find the code for unknown messages. Since there are only 3 options for the code and you have already identified two of them, you can use the symmetric_difference operator on a Python set to determine the last code value.\n",
    "\n",
    "In this code, each line is getting the rows in unique_counts where vq() assigned different values of the codes. Since that operation returns an array, you should get the last row of the array to determine the highest number of digits assigned to each cluster."
   ]
  },
  {
   "cell_type": "code",
   "execution_count": 18,
   "id": "1e89e992-c49f-44e4-83b6-5051dd524868",
   "metadata": {},
   "outputs": [
    {
     "name": "stdout",
     "output_type": "stream",
     "text": [
      "definitely ham: [   0 4110]\n",
      "definitely spam: [47  1]\n",
      "unknown: [20 18]\n"
     ]
    }
   ],
   "source": [
    "print(\"definitely ham:\", unique_counts[codes == ham_code][-1])\n",
    "print(\"definitely spam:\", unique_counts[codes == spam_code][-1])\n",
    "print(\"unknown:\", unique_counts[codes == unknown_code][-1])"
   ]
  },
  {
   "cell_type": "markdown",
   "id": "ad5c91fe-4f6d-41d0-9517-3afb51871b14",
   "metadata": {},
   "source": [
    "In this output, you see that the definitely ham messages are the messages with zero digits in the message, the unknown messages are everything between 1 and 20 digits, and definitely spam messages are everything from 21 to 47 digits, which is the maximum number of digits in your dataset."
   ]
  },
  {
   "cell_type": "code",
   "execution_count": 19,
   "id": "8a8f7dfe-3eb5-4221-8749-a473f07e36eb",
   "metadata": {},
   "outputs": [],
   "source": [
    "# Now, you should check how accurate your predictions are on this dataset. \n",
    "# First, create some masks for digit_counts so you can easily grab the ham or spam status of the messages:\n",
    "digits = digit_counts[:, 1]\n",
    "predicted_hams = digits == 0\n",
    "predicted_spams = digits > 20\n",
    "predicted_unknowns = np.logical_and(digits > 0, digits <= 20)"
   ]
  },
  {
   "cell_type": "code",
   "execution_count": 20,
   "id": "97521058-c13b-488e-87dc-4b21ede66526",
   "metadata": {},
   "outputs": [],
   "source": [
    "# Next, apply these masks to the actual digit counts to retrieve the predictions:\n",
    "\n",
    "spam_cluster = digit_counts[predicted_spams]\n",
    "ham_cluster = digit_counts[predicted_hams]\n",
    "unk_cluster = digit_counts[predicted_unknowns]"
   ]
  },
  {
   "cell_type": "markdown",
   "id": "35946471-134f-41cd-823b-2341a4860568",
   "metadata": {},
   "source": [
    "Here, you’re applying the masks you created in the last code block to the digit_counts array. This creates three new arrays with only the messages that have been clustered into each group. Finally, you can see how many of each message type have fallen into each cluster:"
   ]
  },
  {
   "cell_type": "code",
   "execution_count": 21,
   "id": "e75d4ae2-80b3-4d42-af1a-451d5e642add",
   "metadata": {},
   "outputs": [
    {
     "name": "stdout",
     "output_type": "stream",
     "text": [
      "hams: (array([0, 1]), array([4071,   39]))\n",
      "spams: (array([0, 1]), array([  1, 232]))\n",
      "unknowns: (array([0, 1]), array([755, 476]))\n"
     ]
    }
   ],
   "source": [
    "# This code prints the counts of each unique value from the clusters. \n",
    "# Remember that 0 means a message was ham and 1 means the message was spam\n",
    "\n",
    "print(\"hams:\", np.unique(ham_cluster[:, 0], return_counts=True))\n",
    "print(\"spams:\", np.unique(spam_cluster[:, 0], return_counts=True))\n",
    "print(\"unknowns:\", np.unique(unk_cluster[:, 0], return_counts=True))"
   ]
  },
  {
   "cell_type": "markdown",
   "id": "888653b0-168c-4919-96e9-b8812d676696",
   "metadata": {},
   "source": [
    "From this output, you can see that 4110 messages fell into the definitely ham group, of which 4071 were actually ham and only 39 were spam. Conversely, of the 233 messages that fell into the definitely spam group, only 1 was actually ham and the rest were spam."
   ]
  },
  {
   "cell_type": "markdown",
   "id": "137cc711-e17e-4966-bc14-eaf77bdfb013",
   "metadata": {},
   "source": [
    "Of course, over 1200 messages fell into the unknown category, so some more advanced analysis would be needed to classify those messages. You might want to look into something like natural language processing to help improve the accuracy of your prediction, and you can use Python and Keras to help out."
   ]
  },
  {
   "cell_type": "markdown",
   "id": "09e11604-d8cd-47af-aa3b-f6ec884464d4",
   "metadata": {},
   "source": [
    "### Using the Optimize Module in SciPy"
   ]
  },
  {
   "cell_type": "markdown",
   "id": "03966a7a-3ab7-4ff5-9576-0f5f61039071",
   "metadata": {},
   "source": [
    "When you need to optimize the input parameters for a function, scipy.optimize contains a number of useful methods for optimizing different kinds of functions:\n",
    "\n",
    "* **minimize_scalar() and minimize()** to minimize a function of one variable and many variables, respectively\n",
    "* **curve_fit()** to fit a function to a set of data\n",
    "* **root_scalar() and root()** to find the zeros of a function of one variable and many variables, respectively\n",
    "* **linprog()** to minimize a linear objective function with linear inequality and equality constraints"
   ]
  },
  {
   "cell_type": "markdown",
   "id": "447b7ef6-ea7e-4486-acb3-5506114463a5",
   "metadata": {},
   "source": [
    "#### Minimizing a Function With One Variable\n",
    "accepts one number and results in one output is called a scalar function"
   ]
  },
  {
   "cell_type": "code",
   "execution_count": 23,
   "id": "49dfc9f5-f791-4805-b5f2-ce69f6bb66d7",
   "metadata": {},
   "outputs": [],
   "source": [
    "from scipy.optimize import minimize_scalar\n",
    "\n",
    "def objective_function(x):\n",
    "    return 3 * x ** 4 - 2 * x + 1"
   ]
  },
  {
   "cell_type": "markdown",
   "id": "99e91a89-58c8-4ef2-9583-311e8c02dae0",
   "metadata": {},
   "source": [
    "Next, use minimize_scalar() to find the minimum value of this function. minimize_scalar() has only one required input, which is the name of the objective function definition:"
   ]
  },
  {
   "cell_type": "code",
   "execution_count": 24,
   "id": "f8e2665c-02e0-4a7a-9f84-3593ef0b75fa",
   "metadata": {},
   "outputs": [],
   "source": [
    "res = minimize_scalar(objective_function)"
   ]
  },
  {
   "cell_type": "markdown",
   "id": "ce3257b6-8db3-4ca8-9d8f-79924e6528bf",
   "metadata": {},
   "source": [
    "The output of minimize_scalar() is an instance of OptimizeResult. This class collects together many of the relevant details from the optimizer’s run, including whether or not the optimization was successful and, if successful, what the final result was. The output of minimize_scalar() for this function is shown below:"
   ]
  },
  {
   "cell_type": "code",
   "execution_count": 25,
   "id": "b390e093-880c-4e0c-bf9b-1047a2200252",
   "metadata": {},
   "outputs": [
    {
     "data": {
      "text/plain": [
       "     fun: 0.17451818777634331\n",
       "    nfev: 16\n",
       "     nit: 12\n",
       " success: True\n",
       "       x: 0.5503212087491959"
      ]
     },
     "execution_count": 25,
     "metadata": {},
     "output_type": "execute_result"
    }
   ],
   "source": [
    "res"
   ]
  },
  {
   "cell_type": "markdown",
   "id": "b0f0bd57-6edb-47fc-af35-d43e8a62c8cb",
   "metadata": {},
   "source": [
    "fun: the objective function(y) at the optimal value x (minimum)\n",
    "\n",
    "Not every function has a minimum:\n"
   ]
  },
  {
   "cell_type": "code",
   "execution_count": 27,
   "id": "419aefe9-32c5-4b1d-8764-74871d640472",
   "metadata": {},
   "outputs": [],
   "source": [
    "# example\n",
    "def objective_function(x):\n",
    "    return x **3 "
   ]
  },
  {
   "cell_type": "code",
   "execution_count": 30,
   "id": "13d32d2c-802c-4bc1-8c92-1f5fc0924f8c",
   "metadata": {},
   "outputs": [],
   "source": [
    "# minimize_scalar(objective_function)  # overflow error"
   ]
  },
  {
   "cell_type": "markdown",
   "id": "62e234f3-7142-43e8-b1fc-601e1f31c91e",
   "metadata": {},
   "source": [
    "On the opposite side of functions with no minimum are functions that have several minima. In these cases, minimize_scalar() is not guaranteed to find the global minimum of the function. However, minimize_scalar() has a method keyword argument that you can specify to control the solver that’s used for the optimization. The SciPy library has three built-in methods for scalar minimization:\n",
    "\n",
    "* **brent** is an implementation of Brent’s algorithm. This method is the default.\n",
    "* **golden** is an implementation of the golden-section search. The documentation notes that Brent’s method is usually better.\n",
    "* **bounded** is a bounded implementation of Brent’s algorithm. It’s useful to limit the search region when the minimum is in a known range."
   ]
  },
  {
   "cell_type": "code",
   "execution_count": 31,
   "id": "3f07fce5-af3b-4d0c-92cd-49d4193fc68a",
   "metadata": {},
   "outputs": [],
   "source": [
    "# example\n",
    "def objective_function(x):\n",
    "    return x ** 4 - x ** 2"
   ]
  },
  {
   "cell_type": "code",
   "execution_count": 33,
   "id": "d4da9027-38c6-49af-8eb2-215ac46894f7",
   "metadata": {},
   "outputs": [
    {
     "data": {
      "text/plain": [
       "     fun: -0.24999999999999994\n",
       "    nfev: 15\n",
       "     nit: 11\n",
       " success: True\n",
       "       x: 0.7071067853059209"
      ]
     },
     "execution_count": 33,
     "metadata": {},
     "output_type": "execute_result"
    }
   ],
   "source": [
    "# First, try the default brent method:\n",
    "\n",
    "res = minimize_scalar(objective_function)\n",
    "res"
   ]
  },
  {
   "cell_type": "markdown",
   "id": "f7b8549d-d13a-42ec-b9bf-d57eaf2e7b61",
   "metadata": {},
   "source": [
    "However, what if you wanted to find the symmetric minimum at x = -1/√2? You can return the same result by providing the bracket argument to the brent method:"
   ]
  },
  {
   "cell_type": "code",
   "execution_count": 35,
   "id": "3191c0c8-3473-475e-8e90-9ebd7cbfc78a",
   "metadata": {},
   "outputs": [
    {
     "data": {
      "text/plain": [
       "     fun: -0.24999999999999997\n",
       "    nfev: 17\n",
       "     nit: 13\n",
       " success: True\n",
       "       x: 0.7071067809244586"
      ]
     },
     "execution_count": 35,
     "metadata": {},
     "output_type": "execute_result"
    }
   ],
   "source": [
    "# bracket the search region to -1, 0 - although this is same as above\n",
    "res = minimize_scalar(objective_function, bracket=(-1, 0))\n",
    "res"
   ]
  },
  {
   "cell_type": "markdown",
   "id": "afa9aad2-5645-4eb1-b0b1-e43dc41fe27b",
   "metadata": {},
   "source": [
    "However, even with bracket, the brent method still returns the minimum at x = +1/√2. To find the minimum at x = -1/√2, you can use the bounded method with bounds:\n",
    "\n"
   ]
  },
  {
   "cell_type": "code",
   "execution_count": 36,
   "id": "28ee68ec-8bc1-4dff-a452-5b50e27970b6",
   "metadata": {},
   "outputs": [
    {
     "data": {
      "text/plain": [
       "     fun: -0.24999999999998732\n",
       " message: 'Solution found.'\n",
       "    nfev: 10\n",
       "  status: 0\n",
       " success: True\n",
       "       x: -0.707106701474177"
      ]
     },
     "execution_count": 36,
     "metadata": {},
     "output_type": "execute_result"
    }
   ],
   "source": [
    "res = minimize_scalar(objective_function, method='bounded', bounds=(-1, 0))\n",
    "res"
   ]
  },
  {
   "cell_type": "markdown",
   "id": "af686c08-74cb-4b0f-94c6-a75da5ecce6f",
   "metadata": {},
   "source": [
    "Minimizing a Function With Many Variables\n",
    "scipy.optimize also includes the more general minimize(). This function can handle multivariate inputs and outputs and has more complicated optimization algorithms to be able to handle this. In addition, minimize() can handle constraints on the solution to your problem. You can specify three types of constraints:\n",
    "\n",
    "* **LinearConstraint:** The solution is constrained by taking the inner product of the solution x values with a user-input array and comparing the result to a lower and upper bound.\n",
    "* **NonlinearConstraint:** The solution is constrained by applying a user-supplied function to the solution x values and comparing the return value with a lower and upper bound.\n",
    "* **Bounds:** The solution x values are constrained to lie between a lower and upper bound."
   ]
  },
  {
   "cell_type": "markdown",
   "id": "effc5ed3-dc18-4d8e-891f-2600b9738e40",
   "metadata": {},
   "source": [
    "Let’s try a demonstration on how to use minimize(). Imagine you’re a stockbroker who’s interested in maximizing the total income from the sale of a fixed number of your stocks. You have identified a particular set of buyers, and for each buyer, you know the price they’ll pay and how much cash they have on hand.\n",
    "\n",
    "You can phrase this problem as a constrained optimization problem. The objective function is that you want to maximize your income. However, minimize() finds the minimum value of a function, so you’ll need to multiply your objective function by -1 to find the x-values that produce the largest negative number.\n",
    "\n",
    "There is one constraint on the problem, which is that the sum of the total shares purchased by the buyers does not exceed the number of shares you have on hand. There are also bounds on each of the solution variables because each buyer has an upper bound of cash available, and a lower bound of zero. Negative solution x-values mean that you’d be paying the buyers!\n",
    "\n",
    "Try out the code below to solve this problem. First, import the modules you need and then set variables to determine the number of buyers in the market and the number of shares you want to sell:"
   ]
  },
  {
   "cell_type": "code",
   "execution_count": 5,
   "id": "0518a091-3af8-43b1-ac76-cb73dbb17d2b",
   "metadata": {},
   "outputs": [],
   "source": [
    "import numpy as np\n",
    "from scipy.optimize import minimize, LinearConstraint\n",
    "\n",
    "n_buyers = 10\n",
    "n_shares = 15"
   ]
  },
  {
   "cell_type": "code",
   "execution_count": 6,
   "id": "b35df1db-1951-4b7d-852e-1577221560e7",
   "metadata": {},
   "outputs": [],
   "source": [
    "# Next, create arrays to store the price that each buyer pays, the maximum amount they can afford to spend,\n",
    "# and the maximum number of shares each buyer can afford, given the first two arrays.\n",
    "\n",
    "np.random.seed(10)  # everytime run code will get same set of random numbers\n",
    "prices = np.random.random(n_buyers) # creates an array of random numbers on the half-open interval [0, 1)\n",
    "money_available = np.random.randint(1, 4, n_buyers)# generate an array of integers on the \n",
    "# half-open interval from [1, 4), again with the size of the number of buyers. This array represents the total cash each buyer has available. "
   ]
  },
  {
   "cell_type": "code",
   "execution_count": 7,
   "id": "cf399fdf-2161-4eb1-81ff-2de2ad3fc466",
   "metadata": {},
   "outputs": [
    {
     "name": "stdout",
     "output_type": "stream",
     "text": [
      "[0.77132064 0.02075195 0.63364823 0.74880388 0.49850701 0.22479665\n",
      " 0.19806286 0.76053071 0.16911084 0.08833981]\n",
      "[1 1 1 3 1 3 3 2 1 1]\n",
      "[ 1.29647768 48.18824404  1.57816269  4.00638948  2.00598984 13.34539487\n",
      " 15.14670609  2.62974258  5.91328161 11.3199242 ]\n"
     ]
    }
   ],
   "source": [
    "# compute the maximum number of shares each buyer can purchase:\n",
    "\n",
    "n_shares_per_buyer = money_available / prices\n",
    "print(prices, money_available, n_shares_per_buyer, sep=\"\\n\")"
   ]
  },
  {
   "cell_type": "markdown",
   "id": "6bd90880-483b-499a-8a49-ff928ddb4054",
   "metadata": {},
   "source": [
    "Now, you need to create the constraints and bounds for the solver. The constraint is that the sum of the total purchased shares can’t exceed the total number of shares available. This is a constraint rather than a bound because it involves more than one of the solution variables."
   ]
  },
  {
   "cell_type": "markdown",
   "id": "39a8ea43-05a4-4dde-bfeb-e4d730522c05",
   "metadata": {},
   "source": [
    "To represent this mathematically, you could say that x[0] + x[1] + ... + x[n] = n_shares, where n is the total number of buyers. More succinctly, you could take the dot or inner product of a vector of ones with the solution values, and constrain that to be equal to n_shares. Remember that LinearConstraint takes the dot product of the input array with the solution values and compares it to the lower and upper bound. You can use this to set up the constraint on n_shares:"
   ]
  },
  {
   "cell_type": "code",
   "execution_count": 40,
   "id": "38438596-ecaa-4fc6-befe-8adb92d57dd1",
   "metadata": {},
   "outputs": [],
   "source": [
    "constraint = LinearConstraint(np.ones(n_buyers), lb=n_shares, ub=n_shares)\n"
   ]
  },
  {
   "cell_type": "markdown",
   "id": "e77de5eb-7496-4b75-ae06-1c9666c22edf",
   "metadata": {},
   "source": [
    "Since LinearConstraint takes the dot product of the solution vector with this argument, it’ll result in the sum of the purchased shares.\n",
    "\n",
    "\n",
    "Since lb = ub = n_shares, this is an equality constraint because the sum of the values must be equal to both lb and ub. If lb were different from ub, then it would be an inequality constraint."
   ]
  },
  {
   "cell_type": "code",
   "execution_count": 44,
   "id": "a86027a5-1236-465e-8e73-e8f8b22cc331",
   "metadata": {},
   "outputs": [],
   "source": [
    "bounds = [(0, n) for n in n_shares_per_buyer]"
   ]
  },
  {
   "cell_type": "code",
   "execution_count": 41,
   "id": "a52f97a4-76b2-41f3-ab40-031e1f99a71d",
   "metadata": {},
   "outputs": [],
   "source": [
    "# use a comprehension to generate a list of tuples for each buyer.\n",
    "# you’re trying to maximize your income\n",
    "# Equivalently, you want to make the negative of your income as large a negative number as possible."
   ]
  },
  {
   "cell_type": "markdown",
   "id": "dd2ef73f-173b-4423-914a-336930c2ebc7",
   "metadata": {},
   "source": [
    "The income that you generate from each sale is the price that the buyer pays multiplied by the number of shares they’re buying. Mathematically, you could write this as prices[0]*x[0] + prices[1]*x[1] + ... + prices[n]*x[n], where n is again the total number of buyers.\n",
    "\n",
    "Once again, you can represent this more succinctly with the inner product, or x.dot(prices). This means that your objective function should take the current solution values x and the array of prices as argument"
   ]
  },
  {
   "cell_type": "code",
   "execution_count": 42,
   "id": "86b53313-a77e-466f-9aa5-a6400ce47622",
   "metadata": {},
   "outputs": [],
   "source": [
    "def objective_function(x, prices):\n",
    "    return -x.dot(prices)\n",
    "\n",
    "# Remember that you have to return the negative because you’re trying \n",
    "# to make that number as small as possible, or as close to negative infinity as possible"
   ]
  },
  {
   "cell_type": "markdown",
   "id": "666f9a38-7d32-4e42-881d-97ac74550c9a",
   "metadata": {},
   "source": [
    "* objective_function: The first positional argument must be the function that you’re optimizing.\n",
    "\n",
    "* x0: The next argument is an initial guess for the values of the solution. In this case, you’re just providing a random array of values between 0 and 10, with the length of n_buyers. For some algorithms or some problems, choosing an appropriate initial guess may be important. However, for this example, it doesn’t seem too important.\n",
    "\n",
    "* args: The next argument is a tuple of other arguments that are necessary to be passed into the objective function. minimize() will always pass the current value of the solution x into the objective function, so this argument serves as a place to collect any other input necessary. In this example, you need to pass prices to objective_function(), so that goes here.\n",
    "\n",
    "* constraints: The next argument is a sequence of constraints on the problem. You’re passing the constraint you generated earlier on the number of available shares.\n",
    "\n",
    "* bounds: The last argument is the sequence of bounds on the solution variables that you generated earlier.\n",
    "\n"
   ]
  },
  {
   "cell_type": "code",
   "execution_count": 45,
   "id": "07532d25-b8c0-4f91-9d6a-98842c1ebb3e",
   "metadata": {},
   "outputs": [
    {
     "data": {
      "text/plain": [
       "     fun: -8.783020157087694\n",
       "     jac: array([-0.7713207 , -0.02075195, -0.63364828, -0.74880385, -0.49850702,\n",
       "       -0.22479653, -0.19806278, -0.76053071, -0.16911077, -0.08833981])\n",
       " message: 'Optimization terminated successfully'\n",
       "    nfev: 99\n",
       "     nit: 9\n",
       "    njev: 9\n",
       "  status: 0\n",
       " success: True\n",
       "       x: array([1.29647768, 0.        , 1.57816269, 4.00638948, 2.00598984,\n",
       "       3.48323773, 0.        , 2.62974258, 0.        , 0.        ])"
      ]
     },
     "execution_count": 45,
     "metadata": {},
     "output_type": "execute_result"
    }
   ],
   "source": [
    "res = minimize(\n",
    "    objective_function,\n",
    "    x0=10 * np.random.random(n_buyers),\n",
    "    args=(prices,),\n",
    "    constraints=constraint,\n",
    "    bounds=bounds,\n",
    ")\n",
    "res"
   ]
  },
  {
   "cell_type": "markdown",
   "id": "7aca999c-1208-4b9a-9ea6-53ba3b9dbd6c",
   "metadata": {},
   "source": [
    "You’ll make an income of $8.78 from this sale.\n",
    "\n",
    "You can see the values of x that optimize the function in res.x. In this case, the result is that you should sell about 1.3 shares to the first buyer, zero to the second buyer, 1.6 to the third buyer, 4.0 to the fourth, and so on."
   ]
  },
  {
   "cell_type": "code",
   "execution_count": 46,
   "id": "ff01a2b6-dbef-4462-90c0-68df31c0a282",
   "metadata": {},
   "outputs": [
    {
     "name": "stdout",
     "output_type": "stream",
     "text": [
      "The total number of shares is: 14.99999999999997\n",
      "Leftover money for each buyer: [0.         1.         0.         0.         0.         2.21697984\n",
      " 3.         0.         1.         1.        ]\n"
     ]
    }
   ],
   "source": [
    "# You should also check and make sure that the constraints and bounds that you set are satisfied.\n",
    "print(\"The total number of shares is:\", sum(res.x))\n",
    "print(\"Leftover money for each buyer:\", money_available - res.x * prices)"
   ]
  },
  {
   "cell_type": "markdown",
   "id": "73fe8ad7-67ad-40b9-9ddd-a437caa96b6d",
   "metadata": {},
   "source": [
    "As you can see, all of the constraints and bounds on the solution were satisfied. Now you should try changing the problem so that the solver can’t find a solution. Change n_shares to a value of 1000, so that you’re trying to sell 1000 shares to these same buyers. When you run minimize(), you’ll find that the result is as shown below:\n",
    "\n",
    "nan\n",
    "satus 9\n"
   ]
  },
  {
   "cell_type": "code",
   "execution_count": null,
   "id": "5032af5b-7c35-4e8e-a307-78238b31de89",
   "metadata": {},
   "outputs": [],
   "source": []
  }
 ],
 "metadata": {
  "kernelspec": {
   "display_name": "Python 3 (ipykernel)",
   "language": "python",
   "name": "python3"
  },
  "language_info": {
   "codemirror_mode": {
    "name": "ipython",
    "version": 3
   },
   "file_extension": ".py",
   "mimetype": "text/x-python",
   "name": "python",
   "nbconvert_exporter": "python",
   "pygments_lexer": "ipython3",
   "version": "3.8.11"
  }
 },
 "nbformat": 4,
 "nbformat_minor": 5
}
