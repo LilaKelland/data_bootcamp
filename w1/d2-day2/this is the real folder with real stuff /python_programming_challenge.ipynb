{
 "cells": [
  {
   "cell_type": "markdown",
   "metadata": {},
   "source": [
    "# Python Programming Challenge\n",
    "\n",
    "## Poker Hand\n",
    "\n",
    "In this challenge, we have to determine which kind of Poker combination is present in a deck of 5 cards. Every card is a string containing the card value **with the upper-case initial for face-cards** and the **lower-case initial for the suit**, as seen in the examples below:\n",
    "\n",
    "> \"Ah\" ➞ Ace of hearts <br>\n",
    "> \"Ks\" ➞ King of spades<br>\n",
    "> \"3d\" ➞ Three of diamonds<br>\n",
    "> \"Qc\" ➞ Queen of clubs <br>\n",
    "\n",
    "There are 10 different combinations. Here's the list, in descending order of importance:"
   ]
  },
  {
   "cell_type": "markdown",
   "metadata": {},
   "source": [
    "| Name            | Description                                         |\n",
    "|-----------------|-----------------------------------------------------|\n",
    "| Royal Flush     | A, K, Q, J, 10, all with the same suit.             |\n",
    "| Straight Flush  | Five cards in sequence, all with the same suit.     |\n",
    "| Four of a Kind  | Four cards of the same rank.                        |\n",
    "| Full House      | Three of a Kind with a Pair.                        |\n",
    "| Flush           | Any five cards of the same suit, not in sequence    |\n",
    "| Straight        | Five cards in a sequence, but not of the same suit. |\n",
    "| Three of a Kind | Three cards of the same rank.                       |\n",
    "| Two Pair        | Two different Pairs.                                |\n",
    "| Pair            | Two cards of the same rank.                         |\n",
    "| High Card       | No other valid combination.                         |\n",
    "\n",
    "---------"
   ]
  },
  {
   "cell_type": "markdown",
   "metadata": {},
   "source": [
    "#### 1. Given a list `hand` containing five strings being the cards. Implement a function called `poker_hand_ranking` that **returns a string with the name of the highest combination obtained.** According to the table above.\n",
    "\n",
    "**Examples:**\n",
    "\n",
    "> poker_hand_ranking([\"10h\", \"Jh\", \"Qh\", \"Ah\", \"Kh\"]) ➞ \"Royal Flush\"<br>\n",
    "> poker_hand_ranking([\"3h\", \"5h\", \"Qs\", \"9h\", \"Ad\"]) ➞ \"High Card\"<br>\n",
    "> poker_hand_ranking([\"10s\", \"10c\", \"8d\", \"10d\", \"10h\"]) ➞ \"Four of a Kind\"<br>"
   ]
  },
  {
   "cell_type": "code",
   "execution_count": null,
   "metadata": {
    "jupyter": {
     "source_hidden": true
    },
    "tags": []
   },
   "outputs": [],
   "source": [
    "\n",
    "\n",
    "    "
   ]
  },
  {
   "cell_type": "code",
   "execution_count": 5,
   "metadata": {},
   "outputs": [],
   "source": [
    "def hand_ranking(rank):\n",
    "    Hands = {\n",
    "        1: \"Royal Flush\",\n",
    "        2: \"Straight Flush\",\n",
    "        3: \"Four of a Kind\",\n",
    "        4: \"Full House\",\n",
    "        5: \"Flush\",\n",
    "        6: \"Straight\",\n",
    "        7: \"Three of a Kind\",\n",
    "        8: \"Two Pair\",\n",
    "        9: \"Pair\",\n",
    "        10: \"High Card\"\n",
    "    }\n",
    "    print (Hands[rank])\n"
   ]
  },
  {
   "cell_type": "code",
   "execution_count": 6,
   "metadata": {},
   "outputs": [],
   "source": [
    "# card_value = ['9', '10', 'J', 'Q', 'K']\n",
    "def is_straight_royal(card_value):\n",
    "    \"\"\" returns boolean tuple - straight? royal?\"\"\"\n",
    "    for i in range(5):\n",
    "    \n",
    "        if card_value[i] == \"J\":\n",
    "            card_value[i] = 11\n",
    "        elif card_value[i] == 'Q':\n",
    "            card_value[i] = 12\n",
    "        elif card_value[i] == 'K':\n",
    "            card_value[i] = 13\n",
    "        elif card_value[i] == 'A':\n",
    "            card_value[i] = 14\n",
    "        else:\n",
    "            card_value[i] = int(card_value[i])\n",
    "\n",
    "    card_value.sort()\n",
    "\n",
    "    \n",
    "    sequenced_cards = []\n",
    "    for j in range(5):\n",
    "        if card_value[j] == min(card_value) + j:\n",
    "            sequenced_cards.append(card_value[j])\n",
    "    if (len(sequenced_cards) == 5) & (min(card_value) == 10):\n",
    "        return (True, True) # straight, royal\n",
    "    \n",
    "    elif ((len(sequenced_cards) == 5)):\n",
    "        return (True, False) #straight, royal\n",
    "   \n",
    "    return (False, False)\n",
    "    \n",
    "# is_straight_royal(card_value)\n",
    "\n"
   ]
  },
  {
   "cell_type": "code",
   "execution_count": 7,
   "metadata": {},
   "outputs": [
    {
     "name": "stdout",
     "output_type": "stream",
     "text": [
      "num diff card values 5\n",
      "most common card count 1\n",
      "suits {'h'}\n",
      "face and num cards  ['10', 'J', 'Q', 'A', 'K']\n",
      "Royal Flush\n",
      "num diff card values 5\n",
      "most common card count 1\n",
      "suits {'d', 'h', 's'}\n",
      "face and num cards  ['3', '5', 'Q', '9', 'A']\n",
      "High Card\n",
      "num diff card values 2\n",
      "most common card count 4\n",
      "suits {'d', 'h', 's', 'c'}\n",
      "face and num cards  ['10', '10', '8', '10', '10']\n",
      "Four of a Kind\n"
     ]
    },
    {
     "data": {
      "text/plain": [
       "3"
      ]
     },
     "execution_count": 7,
     "metadata": {},
     "output_type": "execute_result"
    }
   ],
   "source": [
    "from collections import Counter\n",
    "\n",
    "def poker_hand_ranking(hand):\n",
    "    card_value = [] # list of all face/ numbers\n",
    "    rank = set()    # stores hand rankings\n",
    "    suits = set()   # set of suits\n",
    "    \n",
    "    for i in hand:\n",
    "        # remove suits off back half add to set \n",
    "        suits.add(i[-1])\n",
    "        \n",
    "        # make list of all number and face cards\n",
    "        card_value.append(i[:-1])\n",
    "    \n",
    "    num_diff_card_values = len(set(card_value))\n",
    "    print(\"num diff card values\", num_diff_card_values)\n",
    "    most_common_card_count = Counter(card_value).most_common()[0][1]\n",
    "    print(\"most common card count\", most_common_card_count)\n",
    "    \n",
    "    print(\"suits\", suits)\n",
    "\n",
    "    print(\"face and num cards \", card_value)\n",
    "   \n",
    "    is_straight, is_royal = is_straight_royal(card_value)\n",
    "    \n",
    "    if len(suits) == 1: #\"you have a flush!\")\n",
    "    \n",
    "       \n",
    "        if is_straight:\n",
    "            if is_royal:\n",
    "                rank.add(1) #royal flush\n",
    "            else:\n",
    "                rank.add(2) # straight flush\n",
    "        else: \n",
    "            rank.add(5) #flush\n",
    "\n",
    "    \n",
    "    elif num_diff_card_values == 2:\n",
    "        if  most_common_card_count == 4:\n",
    "            rank.add(3) #(\"4 of a kind\")\n",
    "        else:\n",
    "            hand_ranking.add(4) #(\"full house\")\n",
    "\n",
    "    if num_diff_card_values == 3:\n",
    "        rank.add(8) #(\"2 pair\")\n",
    "\n",
    "    elif num_diff_card_values == 4:\n",
    "        rank.add(9) # one pair\n",
    "\n",
    "        \n",
    "    elif num_diff_card_values == 5:\n",
    "        if is_straight:\n",
    "            rank.add(6) # straight\n",
    "\n",
    "        else:\n",
    "            rank.add(10) # high card\n",
    "\n",
    "    hand_ranking(min(rank))\n",
    "    return(min(rank))\n",
    "    print(\"\")   \n",
    "\n",
    "    \n",
    "poker_hand_ranking([\"10h\", \"Jh\", \"Qh\", \"Ah\", \"Kh\"])\n",
    "poker_hand_ranking([\"3h\", \"5h\", \"Qs\", \"9h\", \"Ad\"])\n",
    "poker_hand_ranking([\"10s\", \"10c\", \"8d\", \"10d\", \"10h\"])"
   ]
  },
  {
   "cell_type": "code",
   "execution_count": null,
   "metadata": {},
   "outputs": [],
   "source": []
  },
  {
   "cell_type": "code",
   "execution_count": null,
   "metadata": {},
   "outputs": [],
   "source": []
  },
  {
   "cell_type": "markdown",
   "metadata": {},
   "source": [
    "------------\n",
    "### **Stretch Content**\n",
    "\n",
    "#### 2.  Implement a function `winner_is` that returns the winner given a dictionary with different players and their hands. \n",
    "**Example**\n",
    "\n",
    "We define dictionary like\n",
    "```python\n",
    "round_1 = {\"John\" = [\"10h\", \"Jh\", \"Qh\", \"Ah\", \"Kh\"], \n",
    "        \"Peter\" = [\"3h\", \"5h\", \"Qs\", \"9h\", \"Ad\"]}\n",
    "```\n",
    "\n",
    "Our function returns the name of the winner:\n",
    "> winner_is(round_1) --> \"John\"\n",
    "\n",
    "One table can have up to 10 players.\n"
   ]
  },
  {
   "cell_type": "code",
   "execution_count": 15,
   "metadata": {},
   "outputs": [
    {
     "name": "stdout",
     "output_type": "stream",
     "text": [
      "num diff card values 5\n",
      "most common card count 1\n",
      "suits {'h'}\n",
      "face and num cards  ['10', 'J', 'Q', 'A', 'K']\n",
      "Royal Flush\n",
      "num diff card values 5\n",
      "most common card count 1\n",
      "suits {'h'}\n",
      "face and num cards  ['10', 'J', 'Q', 'A', 'K']\n",
      "Royal Flush\n",
      "num diff card values 5\n",
      "most common card count 1\n",
      "suits {'h'}\n",
      "face and num cards  ['10', 'J', 'Q', 'A', 'K']\n",
      "Royal Flush\n",
      "num diff card values 5\n",
      "most common card count 1\n",
      "suits {'h'}\n",
      "face and num cards  ['10', 'J', 'Q', 'A', 'K']\n",
      "Royal Flush\n",
      "1 win\n",
      "num diff card values 5\n",
      "most common card count 1\n",
      "suits {'d', 'h', 's'}\n",
      "face and num cards  ['3', '5', 'Q', '9', 'A']\n",
      "High Card\n",
      "num diff card values 5\n",
      "most common card count 1\n",
      "suits {'d', 'h', 's'}\n",
      "face and num cards  ['3', '5', 'Q', '9', 'A']\n",
      "High Card\n"
     ]
    }
   ],
   "source": [
    "round_1 = {\"John\" : [\"10h\", \"Jh\", \"Qh\", \"Ah\", \"Kh\"], \n",
    "        \"Peter\" : [\"3h\", \"5h\", \"Qs\", \"9h\", \"Ad\"]}\n",
    "\n",
    "def winner_is(round):\n",
    "    winning_rank = 10\n",
    "    for person in round:\n",
    "        hand =round[person]\n",
    "        poker_hand_ranking(hand)\n",
    "        if poker_hand_ranking(hand) < winning_rank:\n",
    "            winning_rank = poker_hand_ranking(hand)\n",
    "            print(poker_hand_ranking(hand), \"win\")\n",
    "        \n",
    "winner_is(round_1)"
   ]
  },
  {
   "cell_type": "code",
   "execution_count": null,
   "metadata": {},
   "outputs": [],
   "source": []
  },
  {
   "cell_type": "code",
   "execution_count": null,
   "metadata": {},
   "outputs": [],
   "source": []
  },
  {
   "cell_type": "code",
   "execution_count": null,
   "metadata": {},
   "outputs": [],
   "source": []
  },
  {
   "cell_type": "markdown",
   "metadata": {},
   "source": [
    "#### 3. Create a function `distribute_cards` that randomly generates and gives 5 cards to every player given a list of player names.\n",
    "\n",
    "**Example**\n",
    "\n",
    "> distribute_cards([\"John\",\"Peter\"])  -> round_1 = {\"John\" = [\"10h\", \"Jh\", \"Qh\", \"Ah\", \"Kh\"], \n",
    "        \"Peter\" = [\"3h\", \"5h\", \"Qs\", \"9h\", \"Ad\"]\n",
    "}"
   ]
  },
  {
   "cell_type": "code",
   "execution_count": null,
   "metadata": {},
   "outputs": [],
   "source": []
  },
  {
   "cell_type": "code",
   "execution_count": null,
   "metadata": {},
   "outputs": [],
   "source": []
  },
  {
   "cell_type": "code",
   "execution_count": null,
   "metadata": {},
   "outputs": [],
   "source": []
  },
  {
   "cell_type": "code",
   "execution_count": null,
   "metadata": {},
   "outputs": [],
   "source": []
  }
 ],
 "metadata": {
  "kernelspec": {
   "display_name": "Python 3",
   "language": "python",
   "name": "python3"
  },
  "language_info": {
   "codemirror_mode": {
    "name": "ipython",
    "version": 3
   },
   "file_extension": ".py",
   "mimetype": "text/x-python",
   "name": "python",
   "nbconvert_exporter": "python",
   "pygments_lexer": "ipython3",
   "version": "3.8.8"
  }
 },
 "nbformat": 4,
 "nbformat_minor": 4
}
