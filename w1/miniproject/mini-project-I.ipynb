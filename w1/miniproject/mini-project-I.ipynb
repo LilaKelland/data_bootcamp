{
 "cells": [
  {
   "cell_type": "markdown",
   "metadata": {},
   "source": [
    "# Mini-Project I\n",
    "During this project, we will practice handling of complex lists and dictionaries in Python. Plus, we will learn how to work with API documentation. Don't be afraid to search for the information in the [**documentation**](https://api.tfl.gov.uk/swagger/ui/index.html?url=/swagger/docs/v1#!/AccidentStats/AccidentStats_Get).\n",
    "\n",
    "Let's go to the tasks, we have some parsing to do :)!!"
   ]
  },
  {
   "cell_type": "code",
   "execution_count": null,
   "metadata": {},
   "outputs": [],
   "source": [
    "import requests\n",
    "import os\n",
    "import json"
   ]
  },
  {
   "cell_type": "code",
   "execution_count": null,
   "metadata": {},
   "outputs": [],
   "source": [
    "# import packages we need (remember what packages we used yesterday during the API session)\n",
    "# IMPORT HERE"
   ]
  },
  {
   "cell_type": "code",
   "execution_count": null,
   "metadata": {},
   "outputs": [],
   "source": []
  },
  {
   "cell_type": "code",
   "execution_count": null,
   "metadata": {},
   "outputs": [],
   "source": []
  },
  {
   "cell_type": "markdown",
   "metadata": {},
   "source": [
    "## Demo"
   ]
  },
  {
   "cell_type": "code",
   "execution_count": null,
   "metadata": {},
   "outputs": [],
   "source": [
    "# don't forget package os\n",
    "app_id = os.environ[\"<your app id name>\"]\n",
    "app_key = os.environ[\"<your app key name>\"]\n",
    "url_append = f'?app_id={app_id}&app_key={app_key}' "
   ]
  },
  {
   "cell_type": "code",
   "execution_count": null,
   "metadata": {},
   "outputs": [],
   "source": [
    "print(url_append)"
   ]
  },
  {
   "cell_type": "code",
   "execution_count": 27,
   "metadata": {},
   "outputs": [],
   "source": [
    "# URL\n",
    "url = \"https://api.tfl.gov.uk/AirQuality\""
   ]
  },
  {
   "cell_type": "code",
   "execution_count": 28,
   "metadata": {},
   "outputs": [],
   "source": [
    "# We send the request to the API\n",
    "# NOTE: if you don't have your APP_KEY, run this without the url_append\n",
    "# res = requests.get(url+url_append)\n",
    "res = requests.get(url)"
   ]
  },
  {
   "cell_type": "code",
   "execution_count": 4,
   "metadata": {},
   "outputs": [
    {
     "data": {
      "text/plain": [
       "200"
      ]
     },
     "execution_count": 4,
     "metadata": {},
     "output_type": "execute_result"
    }
   ],
   "source": [
    "# We can check if the request was successful\n",
    "res.status_code"
   ]
  },
  {
   "cell_type": "code",
   "execution_count": 65,
   "metadata": {},
   "outputs": [
    {
     "data": {
      "text/plain": [
       "{'$id': '1',\n",
       " '$type': 'Tfl.Api.Presentation.Entities.LondonAirForecast, Tfl.Api.Presentation.Entities',\n",
       " 'updatePeriod': 'hourly',\n",
       " 'updateFrequency': '1',\n",
       " 'forecastURL': 'http://londonair.org.uk/forecast',\n",
       " 'disclaimerText': 'This forecast is intended to provide information on expected pollution levels in areas of significant public exposure. It may not apply in very specific locations close to unusually strong or short-lived local sources of pollution.',\n",
       " 'currentForecast': [{'$id': '2',\n",
       "   '$type': 'Tfl.Api.Presentation.Entities.CurrentForecast, Tfl.Api.Presentation.Entities',\n",
       "   'forecastType': 'Current',\n",
       "   'forecastID': '33381',\n",
       "   'forecastBand': 'Low',\n",
       "   'forecastSummary': 'Low air pollution forecast valid from Wednesday 15 September to end of Wednesday 15 September GMT',\n",
       "   'nO2Band': 'Low',\n",
       "   'o3Band': 'Low',\n",
       "   'pM10Band': 'Low',\n",
       "   'pM25Band': 'Low',\n",
       "   'sO2Band': 'Low',\n",
       "   'forecastText': 'The North Sea air flow that started to affect Greater London on Tuesday evening will continue during Wednesday. With this feed of maritime air, there&#39;ll be little imported pollution whilst there should be sufficient breeze to disperse local emissions.&lt;br/&gt;&lt;br/&gt;Air pollution is expected to remain &#39;Low&#39; during the forecast period for the following pollutants.&lt;br/&gt;&lt;br/&gt;Nitrogen Dioxide&lt;br/&gt;Sulphur Dioxide&lt;br/&gt;Ozone&lt;br/&gt;PM10 Particulates&lt;br/&gt;PM2.5 Particulates&lt;br/&gt;'},\n",
       "  {'$id': '3',\n",
       "   '$type': 'Tfl.Api.Presentation.Entities.CurrentForecast, Tfl.Api.Presentation.Entities',\n",
       "   'forecastType': 'Future',\n",
       "   'forecastID': '33393',\n",
       "   'forecastBand': 'Low',\n",
       "   'forecastSummary': 'Low air pollution forecast valid from Thursday 16 September to end of Thursday 16 September GMT',\n",
       "   'nO2Band': 'Low',\n",
       "   'o3Band': 'Low',\n",
       "   'pM10Band': 'Low',\n",
       "   'pM25Band': 'Low',\n",
       "   'sO2Band': 'Low',\n",
       "   'forecastText': 'Settled weather for Thursday, with some sunny spells by late morning and temperatures reaching the low 20s.&lt;br/&gt;&lt;br/&gt;Although winds will be light for much of the day, there should be enough air movement to disperse local emissions. The incoming air, having a maritime path from the Atlantic, will be relatively &#39;clean&#39; too.&lt;br/&gt;&lt;br/&gt;Air pollution is expected to remain &#39;Low&#39; during the forecast period for the following pollutants.&lt;br/&gt;&lt;br/&gt;Nitrogen Dioxide&lt;br/&gt;Sulphur Dioxide&lt;br/&gt;Ozone&lt;br/&gt;PM10 Particulates&lt;br/&gt;PM2.5 Particulates&lt;br/&gt;'}]}"
      ]
     },
     "execution_count": 65,
     "metadata": {},
     "output_type": "execute_result"
    }
   ],
   "source": [
    "# We can export the information that was returned using method .json()\n",
    "res.json()\n"
   ]
  },
  {
   "cell_type": "code",
   "execution_count": 280,
   "metadata": {},
   "outputs": [],
   "source": [
    "def get_tfl_search_result(search):\n",
    "    \"\"\"returns api result in json form transport for london api - given the end url for the search\"\"\"\n",
    "    base = \"https://api.tfl.gov.uk/\"\n",
    "    url = base + search\n",
    "    res = requests.get(url)\n",
    "    if res.status_code != 200:\n",
    "        print(\"It's not a 200 - better check it out!\")\n",
    "    return(res.json())\n",
    "    "
   ]
  },
  {
   "cell_type": "markdown",
   "metadata": {},
   "source": [
    "## Task\n",
    "Parse the dictionary and print the AirQuality predictions for tomorrow"
   ]
  },
  {
   "cell_type": "code",
   "execution_count": 281,
   "metadata": {},
   "outputs": [
    {
     "name": "stdout",
     "output_type": "stream",
     "text": [
      "Low air pollution forecast valid from Saturday 18 September to end of Saturday 18 September GMT \n",
      "\n",
      "Partly sunny with showers on Saturday.&lt;br/&gt;&lt;br/&gt;A light south or south easterly breeze is expected. This airflow will have travelled over the near continent and at times will have passed over the Paris region. It&#39;s likely to contain some particulates and as a result both PM10 &amp; PM2.5 particulates may increase during the day. It&#39;s not expected currently that particulate concentrations will reach the &#39;moderate&#39; pollution threshold.&lt;br/&gt;&lt;br/&gt;Air pollution is expected to remain &#39;Low&#39; during the forecast period for the following pollutants.&lt;br/&gt;&lt;br/&gt;Nitrogen Dioxide&lt;br/&gt;Sulphur Dioxide&lt;br/&gt;Ozone&lt;br/&gt;PM10 Particulates&lt;br/&gt;PM2.5 Particulates&lt;br/&gt;\n"
     ]
    }
   ],
   "source": [
    "# url = \"https://api.tfl.gov.uk/AirQuality\"\n",
    "\n",
    "result = get_tfl_search_result(\"/AirQuality\")\n",
    "\n",
    "print(result['currentForecast'][1]['forecastSummary'], '\\n')\n",
    "print(result['currentForecast'][1]['forecastText'])\n"
   ]
  },
  {
   "cell_type": "markdown",
   "metadata": {},
   "source": [
    "## Task\n",
    "What are the different modes of transport which are operated by Transfer for London? How many of modes do they have?\n",
    "\n",
    "Print the list with different modes of transport, plus their count. Example output:\n",
    "```\n",
    "[bus, cable-car,.....]\n",
    "Number of different modes of transport is: xyz\n",
    "```\n",
    "\n",
    "We need to search the documentation for correct request."
   ]
  },
  {
   "cell_type": "code",
   "execution_count": 287,
   "metadata": {},
   "outputs": [
    {
     "name": "stdout",
     "output_type": "stream",
     "text": [
      "['bus', 'cable-car', 'cycle-hire', 'dlr', 'overground', 'replacement-bus', 'river-bus', 'river-tour', 'tflrail', 'tram', 'tube']\n",
      "11 modes of transport operated by Transfer.\n"
     ]
    }
   ],
   "source": [
    "# url = \"https://api.tfl.gov.uk/Line/Meta/Modes\"\n",
    "\n",
    "search = \"/Line/Meta/Modes\"\n",
    "result = get_tfl_search_result(search)\n",
    "\n",
    "# Response was a single layer list - each item in was for a different mode of transportation\n",
    "# Sorted through to find only those run by Transfer:\n",
    "\n",
    "modes = []\n",
    "for i in range(len(response)):\n",
    "# for i,mode in enumerate(response):\n",
    "    if response[i]['isTflService']:\n",
    "        modes.append(response[i]['modeName'])\n",
    "\n",
    "print(modes)\n",
    "print(f'{len(modes)} modes of transport operated by Transfer.')\n"
   ]
  },
  {
   "cell_type": "markdown",
   "metadata": {},
   "source": [
    "## Task\n",
    "How many BikePoints in London are operated by Transfor for London? How many docks are in **all** BikePoints? There is the information for empty and full docks for each BikePoint."
   ]
  },
  {
   "cell_type": "code",
   "execution_count": 288,
   "metadata": {},
   "outputs": [
    {
     "name": "stdout",
     "output_type": "stream",
     "text": [
      "Total number of bike points: 786\n",
      "Total number bike point docks: 20860 \n",
      "\n",
      "empty docks: 11778, filled docks: 8104, broken docks: 978\n"
     ]
    }
   ],
   "source": [
    "# sum ALL docks for ALL bikePoints (want both empty and full docks)\n",
    "\n",
    "# url = \"https://api.tfl.gov.uk/BikePoint/\"\n",
    "search = \"/BikePoint/\"\n",
    "result = get_tfl_search_result(search)\n",
    "\n",
    "total_docks_for_bike_points = []\n",
    "\n",
    "all_bike_points = []\n",
    "total_empty = []\n",
    "total_filled = []\n",
    "\n",
    "for i in range(len(result)):\n",
    "    all_bike_points.append([result[i][\"id\"]])\n",
    "   \n",
    "    for j in range (len(result[i][\"additionalProperties\"])):\n",
    "        \n",
    "        if result[i][\"additionalProperties\"][j][\"key\"] == \"NbBikes\":\n",
    "            try:\n",
    "                total_filled.append(int(result[i][\"additionalProperties\"][j][\"value\"]))\n",
    "            except TypeError:\n",
    "                total_filled.append(0)\n",
    "                print('bike point data issues')\n",
    "\n",
    "        elif result[i][\"additionalProperties\"][j][\"key\"] == \"NbEmptyDocks\":\n",
    "            try:\n",
    "                total_empty.append(int(result[i][\"additionalProperties\"][j][\"value\"]))\n",
    "            except:\n",
    "                total_empty.append(0)\n",
    "                print('empty issues')\n",
    "                                   \n",
    "        elif result[i][\"additionalProperties\"][j][\"key\"] == \"NbDocks\":\n",
    "            try:\n",
    "                total_docks_for_bike_points.append(int(result[i][\"additionalProperties\"][j][\"value\"]))\n",
    "            except TypeError:\n",
    "                total_docks_for_bike_points.append(0)\n",
    "                print('dock data issues')\n",
    "\n",
    "                                   \n",
    "print (\"Total number of bike points:\", len(all_bike_points))\n",
    "print(\"Total number bike point docks:\", sum(total_docks_for_bike_points), '\\n')\n",
    "print(f'empty docks: {sum(total_empty)}, filled docks: {sum(total_filled)}, broken docks: {sum(total_docks_for_bike_points) - sum(total_filled) -  sum(total_empty)}')\n",
    "\n",
    "\n",
    "# checked response length to total_docks_for_bike_points length to ensure all dock info came over - it did\n",
    "# print(len(total_docks_for_bike_points))\n"
   ]
  },
  {
   "cell_type": "markdown",
   "metadata": {},
   "source": [
    "## Task\n",
    "How many tube and bus lines are in London? Print names of all tube lines."
   ]
  },
  {
   "cell_type": "code",
   "execution_count": 271,
   "metadata": {},
   "outputs": [
    {
     "name": "stdout",
     "output_type": "stream",
     "text": [
      "There are 677 bus lines and 11 tube lines. \n",
      "\n",
      "List of Tubes Line:\n",
      "Bakerloo\n",
      "Central\n",
      "Circle\n",
      "District\n",
      "Hammersmith & City\n",
      "Jubilee\n",
      "Metropolitan\n",
      "Northern\n",
      "Piccadilly\n",
      "Victoria\n",
      "Waterloo & City\n"
     ]
    }
   ],
   "source": [
    "# https://api.tfl.gov.uk/Line/Mode/{modes}/Route[?serviceTypes]\n",
    "\n",
    "bus_search = \"/Line/Mode/bus\"\n",
    "tube_search = \"/Line/Mode/tube\"\n",
    "\n",
    "bus_result = get_tfl_search_result(bus_search)\n",
    "tube_result = get_tfl_search_result(tube_search)\n",
    "    \n",
    "print(f'There are {len(bus_result)} bus lines and {len(tube_result)} tube lines. \\n' )\n",
    "print(f'List of Tubes Line:')\n",
    "\n",
    "for i in range(len(tube_result)):\n",
    "    print(tube_result[i][\"name\"])\n"
   ]
  },
  {
   "cell_type": "markdown",
   "metadata": {},
   "source": [
    "## Task\n",
    "How many station has `victoria` line?"
   ]
  },
  {
   "cell_type": "code",
   "execution_count": 273,
   "metadata": {},
   "outputs": [
    {
     "name": "stdout",
     "output_type": "stream",
     "text": [
      "There are 16 stations on the Victoria Line.\n"
     ]
    }
   ],
   "source": [
    "# line id from above problem found id='victora'\n",
    "# had such a hard time finding the right URL for this one and had help locating it\n",
    "\n",
    "search = \"Line/victoria/StopPoints\"\n",
    "result = get_tfl_search_result(search)\n",
    "\n",
    "stops = []\n",
    "# for i, stop in enumerate(response):\n",
    "for i in range(len(result)):\n",
    "    stops.append(result[i][\"commonName\"])\n",
    "\n",
    "\n",
    "print(f'There are {len(stops)} stations on the Victoria Line.')\n"
   ]
  },
  {
   "cell_type": "markdown",
   "metadata": {},
   "source": [
    "## Task\n",
    "Plan the journey from Heathrow Airport to Tower Bridge using Bus and Tube? Which way is faster? Example output:\n",
    "```\n",
    "Planned duration:\n",
    "Bus: x minutes\n",
    "Tube: y minutes\n",
    "```\n",
    "\n",
    "We need to search the documentation for correct requests and parameters we need."
   ]
  },
  {
   "cell_type": "code",
   "execution_count": null,
   "metadata": {},
   "outputs": [],
   "source": [
    "https://api.tfl.gov.uk/Journey/JourneyResults/{from}/to/{to}[?via][&nationalSearch][&date][&time][&timeIs][&journeyPreference][&mode][&accessibilityPreference][&fromName][&toName][&viaName][&maxTransferMinutes][&maxWalkingMinutes][&walkingSpeed][&cyclePreference][&adjustment][&bikeProficiency][&alternativeCycle][&alternativeWalking][&applyHtmlMarkup][&useMultiModalCall][&walkingOptimization][&taxiOnlyTrip][&routeBetweenEntrances]"
   ]
  },
  {
   "cell_type": "code",
   "execution_count": null,
   "metadata": {},
   "outputs": [],
   "source": [
    "\n",
    "\n",
    "# re.get('https://api.tfl.gov.uk/Journey/JourneyResults/51.4700%2C%20-0.4543/to/51.5055%2C%20-0.0754?mode={}'.format(m))\n",
    "# lat long from stations\n",
    "\n",
    "# parse through called match quality (0-1000)(how close locatin is to desired destination - use that ) Heathrow "
   ]
  },
  {
   "cell_type": "code",
   "execution_count": 277,
   "metadata": {},
   "outputs": [],
   "source": [
    "# https://api.tfl.gov.uk/Journey/JourneyResults/{from}/to/{to}[?via][&nationalSearch][&date][&time][&timeIs][&journeyPreference][&mode][&accessibilityPreference][&fromName][&toName][&viaName][&maxTransferMinutes][&maxWalkingMinutes][&walkingSpeed][&cyclePreference][&adjustment][&bikeProficiency][&alternativeCycle][&alternativeWalking][&applyHtmlMarkup][&useMultiModalCall][&walkingOptimization][&taxiOnlyTrip][&routeBetweenEntrances]\n",
    "def get_journey(mode):\n",
    "    search = \"/Journey/JourneyResults/51.4700%2C%20-0.4543/to/51.5055%2C%20-0.0754?mode=\"\n",
    "    result = get_tfl_search_result(search + mode)\n",
    " \n",
    "    print(f'By {mode} it will take {result[\"journeys\"][0][\"duration\"]} minutes. \\n')\n",
    "    print(f'Depart at: {result[\"journeys\"][0][\"startDateTime\"]}')\n",
    "    print(f'Arrive at: {result[\"journeys\"][0][\"arrivalDateTime\"]} \\n')\n",
    "    \n",
    "    instructions = []\n",
    "    for i in range (len(result[\"journeys\"][0][\"legs\"])):\n",
    "        new_step = result[\"journeys\"][0][\"legs\"][i][\"instruction\"][\"summary\"]\n",
    "        instructions.append(new_step)\n",
    "    \n",
    "    print(f'By {mode} there are {len(instructions) - 1} transfers: \\n')\n",
    "    for i in range(len(instructions)):\n",
    "        print(instructions[i])\n"
   ]
  },
  {
   "cell_type": "code",
   "execution_count": 291,
   "metadata": {},
   "outputs": [
    {
     "name": "stdout",
     "output_type": "stream",
     "text": [
      "By bus it will take 102 minutes. \n",
      "\n",
      "Depart at: 2021-09-17T02:30:00\n",
      "Arrive at: 2021-09-17T04:12:00 \n",
      "\n",
      "By bus there are 3 transfers: \n",
      "\n",
      "Walk to Heathrow Central Bus Station\n",
      "N9 bus to Trafalgar Square\n",
      "N15 bus to The Tower Of London\n",
      "Walk to 1 Tower Bridge, Tower Hamlets\n"
     ]
    }
   ],
   "source": [
    "get_journey(\"bus\")"
   ]
  },
  {
   "cell_type": "code",
   "execution_count": 292,
   "metadata": {},
   "outputs": [
    {
     "name": "stdout",
     "output_type": "stream",
     "text": [
      "By tube it will take 319 minutes. \n",
      "\n",
      "Depart at: 2021-09-17T00:11:00\n",
      "Arrive at: 2021-09-17T05:30:00 \n",
      "\n",
      "By tube there are 6 transfers: \n",
      "\n",
      "Walk to Heathrow Terminals 2 & 3 Underground Station\n",
      "Piccadilly line to Acton Town\n",
      "District line to Ealing Broadway\n",
      "Central line to White City\n",
      "Walk to Wood Lane\n",
      "Hammersmith & City line to Aldgate\n",
      "Walk to 1 Tower Bridge, Tower Hamlets\n"
     ]
    }
   ],
   "source": [
    "get_journey(\"tube\")"
   ]
  },
  {
   "cell_type": "code",
   "execution_count": 290,
   "metadata": {},
   "outputs": [
    {
     "name": "stdout",
     "output_type": "stream",
     "text": [
      "By cycle-hire it will take 102 minutes. \n",
      "\n",
      "Depart at: 2021-09-17T02:30:00\n",
      "Arrive at: 2021-09-17T04:12:00 \n",
      "\n",
      "By cycle-hire there are 3 transfers: \n",
      "\n",
      "Walk to Heathrow Central Bus Station\n",
      "N9 bus to Trafalgar Square\n",
      "N15 bus to The Tower Of London\n",
      "Walk to 1 Tower Bridge, Tower Hamlets\n"
     ]
    }
   ],
   "source": [
    "get_journey('cycle-hire')"
   ]
  },
  {
   "cell_type": "code",
   "execution_count": null,
   "metadata": {},
   "outputs": [],
   "source": []
  }
 ],
 "metadata": {
  "kernelspec": {
   "display_name": "Python 3",
   "language": "python",
   "name": "python3"
  },
  "language_info": {
   "codemirror_mode": {
    "name": "ipython",
    "version": 3
   },
   "file_extension": ".py",
   "mimetype": "text/x-python",
   "name": "python",
   "nbconvert_exporter": "python",
   "pygments_lexer": "ipython3",
   "version": "3.8.8"
  }
 },
 "nbformat": 4,
 "nbformat_minor": 4
}
