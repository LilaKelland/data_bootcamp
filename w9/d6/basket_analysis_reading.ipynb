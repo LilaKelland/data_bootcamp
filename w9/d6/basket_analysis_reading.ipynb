{
 "cells": [
  {
   "cell_type": "code",
   "execution_count": null,
   "id": "855ff409-c987-494d-8f66-067fefd876cd",
   "metadata": {},
   "outputs": [],
   "source": [
    "# https://devopedia.org/market-basket-analysis"
   ]
  },
  {
   "cell_type": "code",
   "execution_count": null,
   "id": "c94bfe35-f5f5-4b9f-988a-305c0311f3db",
   "metadata": {},
   "outputs": [],
   "source": [
    "# Example code-snippet showing important methods in python\n",
    "# Source: https://pbpython.com/market-basket-analysis.html\n",
    "# Accessed: 2019-03-16\n",
    " \n",
    "from mlxtend.frequent_patterns import apriori\n",
    "from mlxtend.frequent_patterns import association_rules\n",
    " \n",
    "#basket_sets are the items bought together derived from invoices after approriate transformation and data cleaning.\n",
    " \n",
    "#minimum support taken here as 0.07\n",
    "frequent_itemsets = apriori(basket_sets, min_support=0.07, use_colnames=True)\n",
    " \n",
    "# recommneded rules/items based on association learning\n",
    "rules = association_rules(frequent_itemsets, metric=\"lift\", min_threshold=1)\n",
    " \n",
    "rules.head()"
   ]
  },
  {
   "cell_type": "markdown",
   "id": "f304510f-b6de-4947-a3f0-dfe07585de76",
   "metadata": {},
   "source": [
    "hese are common quantitative measures to identify most important association rules:\n",
    "\n",
    "* Support: Given all transactions, support is the percentage of transactions that contain a given item combination. Often combination that fall below a support threshold are ignored in further analysis. When dataset has thousands of items and millions of transactions, a threshold of 0.01% is reasonable.\n",
    "\n",
    "* Confidence: Given item A is purchased, what's the chance that customer will buy item C? This question is answered by the confidence measure. Thus, rather than looking at just probability of purchasing item C (which support does), confidence looks at conditional probability.\n",
    "\n",
    "* Lift: Suppose data shows that items A and C are occurring together in many transactions. Do A and C have an association or are they occurring together purely by chance? This question is answered by the lift measure.\n",
    "\n",
    "Association rules must satisfy both minimum support and minimum confidence values. To filter the results further to a smaller list, lift is a popular measure."
   ]
  },
  {
   "cell_type": "code",
   "execution_count": null,
   "id": "3ee7f28e-3347-4768-b8ff-ca53c67e8a2f",
   "metadata": {},
   "outputs": [],
   "source": []
  }
 ],
 "metadata": {
  "kernelspec": {
   "display_name": "new_bootcamp",
   "language": "python",
   "name": "new_bootcamp"
  },
  "language_info": {
   "codemirror_mode": {
    "name": "ipython",
    "version": 3
   },
   "file_extension": ".py",
   "mimetype": "text/x-python",
   "name": "python",
   "nbconvert_exporter": "python",
   "pygments_lexer": "ipython3",
   "version": "3.8.11"
  }
 },
 "nbformat": 4,
 "nbformat_minor": 5
}
