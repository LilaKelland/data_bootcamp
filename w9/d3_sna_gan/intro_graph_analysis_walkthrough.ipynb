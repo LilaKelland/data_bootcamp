{
 "cells": [
  {
   "cell_type": "markdown",
   "id": "25ac1feb-83e9-48df-8899-1caf439f1f63",
   "metadata": {},
   "source": [
    "# An Introduction to Graph Theory and Network Analysis (with Python codes)\n",
    "https://www.analyticsvidhya.com/blog/2018/04/introduction-to-graph-theory-network-analysis-python-codes/\n",
    "\n",
    "------------------------\n",
    "graphviz is installed already, but need lib too\n",
    "* !apt install libgraphviz-dev\n",
    "* !pip install pygraphviz\n",
    "\n",
    "------------------------\n",
    "Or \n",
    "* step 0 - avoid conda install graphviz - it installs it as regular graphviz program outside of conda installer - that is why it does not * * work - if you already installed it use: \n",
    "\n",
    "* (optional) conda uninstall graphviz\n",
    "* conda install python-graphviz \n",
    "* conda install -c conda-forge pygraphviz (this is wraper for the program above)\n",
    "* install other necessary packages \n",
    "------------------------------------------\n",
    "\n",
    "Consider that a graph represents the places in a city that people generally visit, and the path that was followed by a visitor of that city. Let us consider V as the places and E as the path to travel from one place to another.\n",
    "\n",
    "* V = {v1, v2, v3, v4, v5} \n",
    "\n",
    "* E = {(v1,v2), (v2,v5), (v5, v5), (v4,v5), (v4,v4)}\n",
    "\n",
    "The edge (u,v) is the same as the edge (v,u) – They are unordered pairs.\n",
    "\n",
    "Formally,\n",
    "\n",
    "* A Graph is a pair of sets. G = (V,E). V is the set of vertices. E is a set of edges. E is made up of pairs of elements from V (unordered pair)\n",
    "* A DiGraph is also a pair of sets. D = (V,A). V is the set of vertices. A is the set of arcs. A is made up of pairs of elements from V (ordered pair)\n",
    "\n",
    "In the case of digraphs, there is a distinction between `(u,v)` and `(v,u)`. Usually the edges are called arcs in such cases to indicate a \n",
    "notion of direction\n",
    "\n",
    "#### Why graphs\n",
    "* Graphs provide a better way of dealing with abstract concepts like relationships and interactions. They also offer an intuitively visual way of thinking about these concepts. Graphs also form a natural basis for analyzing relationships in a Social context\n",
    "* Graph Databases have become common computational tools and alternatives to SQL and NoSQL databases\n",
    "* Graphs are used to model analytics workflows in the form of DAGs (Directed acyclic graphs)\n",
    "* Some Neural Network Frameworks also use DAGs to model the various operations in different layers\n",
    "* Graph Theory concepts are used to study and model Social Networks, Fraud patterns, Power consumption patterns, Virality and Influence in Social Media. Social Network Analysis (SNA) is probably the best known application of Graph Theory for Data Science\n",
    "* It is used in Clustering algorithms – Specifically K-Means\n",
    "* System Dynamics also uses some Graph Theory concepts – Specifically loops\n",
    "* Path Optimization is a subset of the Optimization problem that also uses Graph concepts\n",
    "* From a Computer Science perspective – Graphs offer computational efficiency. The Big O complexity for some algorithms is better for data arranged in the form of Graphs (compared to tabular data)\n",
    "\n",
    "#### Terminology you should know.\n",
    "\n",
    "* The vertices u and v are called the end vertices of the edge (u,v)\n",
    "* If two edges have the same end vertices they are Parallel\n",
    "* An edge of the form (v,v) is a loop\n",
    "* A Graph is simple if it has no parallel edges and loops\n",
    "* A Graph is said to be Empty if it has no edges. Meaning E is empty\n",
    "* A Graph is a Null Graph if it has no vertices. Meaning V and E is empty\n",
    "* A Graph with only 1 Vertex is a Trivial graph\n",
    "* Edges are Adjacent if they have a common vertex. Vertices are Adjacent if they have a common edge\n",
    "* The degree of the vertex v, written as d(v), is the number of edges with v as an end vertex. By convention, we count a loop twice and parallel edges contribute separately\n",
    "* Isolated Vertices are vertices with degree 1. d(1) vertices are isolated\n",
    "* A Graph is Complete if its edge set contains every possible edge between ALL of the vertices\n",
    "* A Walk in a Graph G = (V,E) is a finite, alternating sequence of the form  ViEiViEi  consisting of vertices and edges of the graph G\n",
    "* A Walk is Open if the initial and final vertices are different. A Walk is Closed if the initial and final vertices are the same\n",
    "* A Walk is a Trail if ANY edge is traversed atmost once\n",
    "* A Trail is a Path if ANY vertex is traversed atmost once (Except for a closed walk)\n",
    "* A Closed Path is a Circuit – Analogous to electrical circuits\n",
    "\n",
    "#### Graph Theory concepts\n",
    "\n",
    "##### 1. **Average Path Length**\n",
    "The average of the shortest path lengths for all possible node pairs. Gives a measure of ‘tightness’ of the Graph and can be used to understand how quickly/easily something flows in this Network.\n",
    "\n",
    "##### 2. **BFS and DFS**\n",
    "Breadth first search and Depth first search are two different algorithms used to search for Nodes in a Graph. They are typically used to figure out if we can reach a Node from a given Node. This is also known as Graph Traversal\n",
    "\n",
    "The aim of the BFS is to traverse the Graph as close as possible to the root Node, while the DFS algorithm aims to move as far as possible away from the root node.\n",
    "\n",
    "##### 3. **Centrality**\n",
    "Centrality aims to find the most important nodes in a network. There may be different notions of “important” and hence there are many centrality measures. There are measures that are characterized by flow along the edges and those that are characterized by Walk Structure.\n",
    "\n",
    "1. Degree Centrality – The first and conceptually the simplest Centrality definition. This is the number of edges connected to a node. In the case of a directed graph, we can have 2 degree centrality measures. Inflow and Outflow Centrality\n",
    "2. Closeness Centrality – Of a node is the average length of the shortest path from the node to all other nodes\n",
    "3. Betweenness Centrality – Number of times a node is present in the shortest path between 2 other nodes\n",
    "\n",
    "These centrality measures have variants and the definitions can be implemented using various algorithms. All in all, this means a large number of definitions and algorithms.\n",
    "\n",
    "##### 4. **Network Density**\n",
    "A measure of how many edges a Graph has. The actual definition will vary depending on type of Graph and the context in which the question is asked. For a complete undirected Graph the Density is 1, while it is 0 for an empty Graph. Graph Density can be greater than 1 in some situations (involving loops).\n",
    "\n",
    "##### 5. **Graph Randomizations**\n",
    "While the definitions of some Graph metrics maybe easy to calculate, it is not easy to understand their relative importance. We use Network/Graph Randomizations in such cases. We calculate the metric for the Graph at hand and for another similar Graph that is randomly generated. This similarity can for example be the same number of density and nodes. Typically we generate a 1000 similar random graphs and calculate the Graph metric for each of them and then compare it with the same metric for the Graph at hand to arrive at some notion of a benchmark.\n",
    "\n",
    "In Data Science when trying to make a claim about a Graph it helps if it is contrasted with some randomly generated Graphs."
   ]
  },
  {
   "cell_type": "code",
   "execution_count": null,
   "id": "a810d8aa-ed4f-4ffd-94b3-c7686df3cd60",
   "metadata": {},
   "outputs": [],
   "source": []
  },
  {
   "cell_type": "code",
   "execution_count": 1,
   "id": "5be41e12-e7ee-4fc2-9410-16f679bc645b",
   "metadata": {},
   "outputs": [],
   "source": [
    "import networkx as nx\n",
    "\n",
    "# Creating a Graph \n",
    "G = nx.Graph() # Right now G is empty\n",
    "\n",
    "# Add a node\n",
    "G.add_node(1) \n",
    "G.add_nodes_from([2,3]) # You can also add a list of nodes by passing a list argument\n",
    "\n",
    "# Add edges \n",
    "G.add_edge(1,2)\n",
    "\n",
    "e = (2,3)\n",
    "G.add_edge(*e) # * unpacks the tuple\n",
    "G.add_edges_from([(1,2), (1,3)]) # Just like nodes we can add edges from a list"
   ]
  },
  {
   "cell_type": "markdown",
   "id": "6c79ef99-a997-468f-9abe-364409ede3b2",
   "metadata": {},
   "source": [
    "Node and Edge attributes can be added along with the creation of Nodes and Edges by passing a tuple containing node and attribute dict.\n",
    "\n",
    "In addition to constructing graphs node-by-node or edge-by-edge, they can also be generated by applying classic graph operations, such as:\n",
    "\n",
    "* subgraph(G, nbunch)      - induced subgraph view of G on nodes in nbunch\n",
    "* union(G1,G2)             - graph union\n",
    "* disjoint_union(G1,G2)    - graph union assuming all nodes are different\n",
    "* cartesian_product(G1,G2) - return Cartesian product graph\n",
    "* compose(G1,G2)           - combine graphs identifying nodes common to both\n",
    "* complement(G)            - graph complement\n",
    "* create_empty_copy(G)     - return an empty copy of the same graph class\n",
    "* convert_to_undirected(G) - return an undirected representation of G\n",
    "* convert_to_directed(G)   - return a directed representation of G\n",
    "\n",
    "Separate classes exist for different types of Graphs. For example the **nx.DiGraph()** class allows you to create a Directed Graph. Specific graphs containing paths can be created directly using a single method. For a full list of Graph creation methods please refer to the full documentation.\n",
    "\n",
    "#### Accessing edges and nodes\n",
    "Nodes and Edges can be accessed together using the **G.nodes()** and **G.edges()** methods. Individual nodes and edges can be accessed using the bracket/subscript notation."
   ]
  },
  {
   "cell_type": "code",
   "execution_count": 2,
   "id": "cc795a48-dbff-4de2-9a0a-f3631c6387d1",
   "metadata": {},
   "outputs": [
    {
     "data": {
      "text/plain": [
       "NodeView((1, 2, 3))"
      ]
     },
     "execution_count": 2,
     "metadata": {},
     "output_type": "execute_result"
    }
   ],
   "source": [
    "G.nodes()"
   ]
  },
  {
   "cell_type": "code",
   "execution_count": 3,
   "id": "6e21a225-c7ea-479a-b19f-30be6b0b3e43",
   "metadata": {},
   "outputs": [
    {
     "data": {
      "text/plain": [
       "EdgeView([(1, 2), (1, 3), (2, 3)])"
      ]
     },
     "execution_count": 3,
     "metadata": {},
     "output_type": "execute_result"
    }
   ],
   "source": [
    "G.edges()"
   ]
  },
  {
   "cell_type": "code",
   "execution_count": 4,
   "id": "d23f1850-bfa8-4d42-8e90-52e4c880d492",
   "metadata": {},
   "outputs": [
    {
     "data": {
      "text/plain": [
       "AtlasView({2: {}, 3: {}})"
      ]
     },
     "execution_count": 4,
     "metadata": {},
     "output_type": "execute_result"
    }
   ],
   "source": [
    "G[1] # same as G.adj[1]"
   ]
  },
  {
   "cell_type": "code",
   "execution_count": 5,
   "id": "2fc5f29f-706b-403f-a7cc-bafa6a4a80f3",
   "metadata": {},
   "outputs": [
    {
     "data": {
      "text/plain": [
       "{}"
      ]
     },
     "execution_count": 5,
     "metadata": {},
     "output_type": "execute_result"
    }
   ],
   "source": [
    "G[1][2]"
   ]
  },
  {
   "cell_type": "markdown",
   "id": "12cc6a78-de5e-41e0-8c02-7c130a6174ca",
   "metadata": {},
   "source": [
    "### Graph Visualization\n",
    "Networkx provides basic functionality for visualizing graphs, but its main goal is to enable graph analysis rather than perform graph visualization."
   ]
  },
  {
   "cell_type": "code",
   "execution_count": 6,
   "id": "bbe9bc79-7b90-401b-9ca1-684bec1e758d",
   "metadata": {},
   "outputs": [
    {
     "data": {
      "image/png": "[encoded data removed]",
      "text/plain": [
       "<Figure size 432x288 with 1 Axes>"
      ]
     },
     "metadata": {},
     "output_type": "display_data"
    }
   ],
   "source": [
    "%matplotlib inline\n",
    "import matplotlib.pyplot as plt\n",
    "nx.draw(G)"
   ]
  },
  {
   "cell_type": "code",
   "execution_count": 1,
   "id": "f29443b6-d58c-49e5-b4c6-c66f63e274a6",
   "metadata": {},
   "outputs": [
    {
     "name": "stdout",
     "output_type": "stream",
     "text": [
      "strict graph \"\" {\n",
      "\t1 -- 2;\n",
      "\t2 -- 3;\n",
      "\t3 -- 1;\n",
      "}\n",
      "\n"
     ]
    }
   ],
   "source": [
    "import pygraphviz as pgv\n",
    "d={'1': {'2': None}, '2': {'1': None, '3': None}, '3': {'1': None}}\n",
    "A = pgv.AGraph(data=d)\n",
    "print(A) # This is the 'string' or simple representation of the Graph"
   ]
  },
  {
   "cell_type": "code",
   "execution_count": 2,
   "id": "89eb745a-1610-436f-ba9f-dc3a5246d99c",
   "metadata": {},
   "outputs": [
    {
     "ename": "NameError",
     "evalue": "name 'Image' is not defined",
     "output_type": "error",
     "traceback": [
      "\u001b[0;31m---------------------------------------------------------------------------\u001b[0m",
      "\u001b[0;31mNameError\u001b[0m                                 Traceback (most recent call last)",
      "\u001b[0;32m<ipython-input-2-831d75c71912>\u001b[0m in \u001b[0;36m<module>\u001b[0;34m\u001b[0m\n\u001b[1;32m     17\u001b[0m \u001b[0mB\u001b[0m\u001b[0;34m.\u001b[0m\u001b[0mdraw\u001b[0m\u001b[0;34m(\u001b[0m\u001b[0;34m'star.png'\u001b[0m\u001b[0;34m,\u001b[0m\u001b[0mprog\u001b[0m\u001b[0;34m=\u001b[0m\u001b[0;34m\"circo\"\u001b[0m\u001b[0;34m)\u001b[0m \u001b[0;31m# This creates a .png file in the local directory. Displayed below.\u001b[0m\u001b[0;34m\u001b[0m\u001b[0;34m\u001b[0m\u001b[0m\n\u001b[1;32m     18\u001b[0m \u001b[0;34m\u001b[0m\u001b[0m\n\u001b[0;32m---> 19\u001b[0;31m \u001b[0mImage\u001b[0m\u001b[0;34m(\u001b[0m\u001b[0;34m'images/star.png'\u001b[0m\u001b[0;34m,\u001b[0m \u001b[0mwidth\u001b[0m\u001b[0;34m=\u001b[0m\u001b[0;36m650\u001b[0m\u001b[0;34m)\u001b[0m \u001b[0;31m# The Graph visualization we created above.\u001b[0m\u001b[0;34m\u001b[0m\u001b[0;34m\u001b[0m\u001b[0m\n\u001b[0m",
      "\u001b[0;31mNameError\u001b[0m: name 'Image' is not defined"
     ]
    }
   ],
   "source": [
    "# Let us create another Graph where we can individually control the colour of each node\n",
    "B = pgv.AGraph()\n",
    "\n",
    "# Setting node attributes that are common for all nodes \n",
    "B.node_attr['style']='filled'\n",
    "B.node_attr['shape']='circle'\n",
    "B.node_attr['fixedsize']='true'\n",
    "B.node_attr['fontcolor']='#FFFFFF'\n",
    "\n",
    "# Creating and setting node attributes that vary for each node (using a for loop)\n",
    "for i in range(16):\n",
    " B.add_edge(0,i)\n",
    " n=B.get_node(i)\n",
    " n.attr['fillcolor']=\"#%2x0000\"%(i*16)\n",
    " n.attr['height']=\"%s\"%(i/16.0+0.5)\n",
    " n.attr['width']=\"%s\"%(i/16.0+0.5)\n",
    "B.draw('star.png',prog=\"circo\") # This creates a .png file in the local directory. Displayed below.\n",
    "\n",
    "Image('images/star.png', width=650) # The Graph visualization we created above."
   ]
  },
  {
   "cell_type": "markdown",
   "id": "0e2e863c-4c58-4a53-a79e-2cbdef3bf6a7",
   "metadata": {},
   "source": [
    "Usually, visualization is thought of as a separate task from Graph analysis. A graph once analyzed is exported as a Dotfile. This Dotfile is then visualized separately to illustrate a specific point we are trying to make.\n",
    "\n",
    "### Analysis on a Dataset\n",
    "\n",
    "We will be looking to take a generic dataset (not one that is specifically intended to be used for Graphs) and do some manipulation (in pandas) so that it can be ingested into a Graph in the form of a edgelist. And edgelist is a list of tuples that contain the vertices defining every edge\n",
    "\n",
    "The dataset we will be looking at comes from the Airlines Industry. It has some basic information on the Airline routes. There is a Source of a journey and a destination. There are also a few columns indicating arrival and departure times for each journey. As you can imagine this dataset lends itself beautifully to be analysed as a Graph. Imagine a few cities (nodes) connected by airline routes (edges). If you are an airline carrier, you can then proceed to ask a few questions like\n",
    "\n",
    "* What is the shortest way to get from A to B? In terms of distance and in terms of time\n",
    "* Is there a way to go from C to D?\n",
    "* Which airports have the heaviest traffic?\n",
    "* Which airport in “in between” most other airports? So that it can be converted into a local hub"
   ]
  },
  {
   "cell_type": "code",
   "execution_count": 1,
   "id": "0df7edd5-2c70-4099-8452-9ddc21c33524",
   "metadata": {},
   "outputs": [
    {
     "name": "stdout",
     "output_type": "stream",
     "text": [
      "(100, 16)\n"
     ]
    },
    {
     "data": {
      "text/plain": [
       "year                int64\n",
       "month               int64\n",
       "day                 int64\n",
       "dep_time          float64\n",
       "sched_dep_time      int64\n",
       "dep_delay         float64\n",
       "arr_time          float64\n",
       "sched_arr_time      int64\n",
       "arr_delay         float64\n",
       "carrier            object\n",
       "flight              int64\n",
       "tailnum            object\n",
       "origin             object\n",
       "dest               object\n",
       "air_time          float64\n",
       "distance            int64\n",
       "dtype: object"
      ]
     },
     "execution_count": 1,
     "metadata": {},
     "output_type": "execute_result"
    }
   ],
   "source": [
    "import pandas as pd \n",
    "import numpy as np\n",
    "\n",
    "data = pd.read_csv('https://bitbucket.org/dipolemoment/analyticsvidhya/raw/4ff55e7b4b7bd5d7f6d1aebd9e6fcc954d2106ec/Airlines.csv/')\n",
    "print(data.shape)\n",
    "data.dtypes"
   ]
  },
  {
   "cell_type": "markdown",
   "id": "d04e313c-9aee-43af-ba63-95dbaf73c8dc",
   "metadata": {},
   "source": [
    "1. We notice that origin and destination look like good choices for Nodes. Everything can then be imagined as either node or edge attributes. A single edge can be thought of as a journey. And such a journey will have various times, a flight number, an airplane tail number etc associated with it\n",
    "2. We notice that the year, month, day and time information is spread over many columns. We want to create one datetime column containing all of this information. We also need to keep scheduled and actual time of arrival and departure separate. So we should finally have 4 datetime columns (Scheduled and actual times of arrival and departure)\n",
    "3. Additionally, the time columns are not in a proper format. 4:30 pm is represented as 1630 instead of 16:30. There is no delimiter to split that column. One approach is to use pandas string methods and regular expressions\n",
    "4. We should also note that sched_dep_time and sched_arr_time are int64 dtype and dep_time and arr_time are float64 dtype\n",
    "5. An additional complication is NaN values\n"
   ]
  },
  {
   "cell_type": "code",
   "execution_count": 2,
   "id": "6ab02f87-b05f-40e8-91f8-b3cc7171682e",
   "metadata": {},
   "outputs": [
    {
     "name": "stderr",
     "output_type": "stream",
     "text": [
      "/var/folders/q4/f3xj1m3j2h3fl1lc7921wysh0000gn/T/ipykernel_6067/3093572283.py:2: FutureWarning: The default value of regex will change from True to False in a future version.\n",
      "  data['std'] = data.sched_dep_time.astype(str).str.replace('(\\d{2}$)', '') + ':' + data.sched_dep_time.astype(str).str.extract('(\\d{2}$)', expand=False) + ':00'\n"
     ]
    }
   ],
   "source": [
    "# converting sched_dep_time to 'std' - Scheduled time of departure\n",
    "data['std'] = data.sched_dep_time.astype(str).str.replace('(\\d{2}$)', '') + ':' + data.sched_dep_time.astype(str).str.extract('(\\d{2}$)', expand=False) + ':00'"
   ]
  },
  {
   "cell_type": "code",
   "execution_count": 3,
   "id": "5fcd527d-8a75-44ec-8232-42ac7b1b67ee",
   "metadata": {},
   "outputs": [
    {
     "name": "stderr",
     "output_type": "stream",
     "text": [
      "/var/folders/q4/f3xj1m3j2h3fl1lc7921wysh0000gn/T/ipykernel_6067/4019421568.py:2: FutureWarning: The default value of regex will change from True to False in a future version.\n",
      "  data['sta'] = data.sched_arr_time.astype(str).str.replace('(\\d{2}$)', '') + ':' + data.sched_arr_time.astype(str).str.extract('(\\d{2}$)', expand=False) + ':00'\n",
      "/var/folders/q4/f3xj1m3j2h3fl1lc7921wysh0000gn/T/ipykernel_6067/4019421568.py:5: FutureWarning: The default value of regex will change from True to False in a future version.\n",
      "  data['atd'] = data.dep_time.fillna(0).astype(np.int64).astype(str).str.replace('(\\d{2}$)', '') + ':' + data.dep_time.fillna(0).astype(np.int64).astype(str).str.extract('(\\d{2}$)', expand=False) + ':00'\n"
     ]
    }
   ],
   "source": [
    "# converting sched_arr_time to 'sta' - Scheduled time of arrival\n",
    "data['sta'] = data.sched_arr_time.astype(str).str.replace('(\\d{2}$)', '') + ':' + data.sched_arr_time.astype(str).str.extract('(\\d{2}$)', expand=False) + ':00'\n",
    "\n",
    "# converting dep_time to 'atd' - Actual time of departure\n",
    "data['atd'] = data.dep_time.fillna(0).astype(np.int64).astype(str).str.replace('(\\d{2}$)', '') + ':' + data.dep_time.fillna(0).astype(np.int64).astype(str).str.extract('(\\d{2}$)', expand=False) + ':00'"
   ]
  },
  {
   "cell_type": "code",
   "execution_count": 4,
   "id": "909eff74-2012-4fe5-994d-9b7291d3054c",
   "metadata": {},
   "outputs": [
    {
     "name": "stderr",
     "output_type": "stream",
     "text": [
      "/var/folders/q4/f3xj1m3j2h3fl1lc7921wysh0000gn/T/ipykernel_6067/707532253.py:2: FutureWarning: The default value of regex will change from True to False in a future version.\n",
      "  data['ata'] = data.arr_time.fillna(0).astype(np.int64).astype(str).str.replace('(\\d{2}$)', '') + ':' + data.arr_time.fillna(0).astype(np.int64).astype(str).str.extract('(\\d{2}$)', expand=False) + ':00'\n"
     ]
    }
   ],
   "source": [
    "# converting arr_time to 'ata' - Actual time of arrival\n",
    "data['ata'] = data.arr_time.fillna(0).astype(np.int64).astype(str).str.replace('(\\d{2}$)', '') + ':' + data.arr_time.fillna(0).astype(np.int64).astype(str).str.extract('(\\d{2}$)', expand=False) + ':00'"
   ]
  },
  {
   "cell_type": "markdown",
   "id": "0a5ef8a0-20ac-454e-984a-d3799875d05a",
   "metadata": {},
   "source": [
    "We now have time columns in the format we wanted. Finally we may want to combine the year, month and day columns into a date column. This is not an absolutely necessary step. But we can easily obtain the year, month and day (and other) information once it is converted into datetime format."
   ]
  },
  {
   "cell_type": "code",
   "execution_count": 5,
   "id": "5ff74559-3f5c-48c5-957a-885ccb8060d7",
   "metadata": {},
   "outputs": [],
   "source": [
    "data['date'] = pd.to_datetime(data[['year', 'month', 'day']])"
   ]
  },
  {
   "cell_type": "code",
   "execution_count": 6,
   "id": "651375b3-1ba9-409b-9f92-3687e51c259a",
   "metadata": {},
   "outputs": [],
   "source": [
    "# finally we drop the columns we don't need\n",
    "data = data.drop(columns = ['year', 'month', 'day'])"
   ]
  },
  {
   "cell_type": "markdown",
   "id": "d2800075-b308-4456-bbff-5a7bc34e8b54",
   "metadata": {},
   "source": [
    "Now import the dataset using the networkx function that ingests a pandas dataframe directly. Just like Graph creation there are multiple ways Data can be ingested into a Graph from multiple formats."
   ]
  },
  {
   "cell_type": "code",
   "execution_count": 1,
   "id": "192a8d3c-e304-40e6-b7fe-42d0206d94c6",
   "metadata": {},
   "outputs": [
    {
     "ename": "NameError",
     "evalue": "name 'data' is not defined",
     "output_type": "error",
     "traceback": [
      "\u001b[0;31m---------------------------------------------------------------------------\u001b[0m",
      "\u001b[0;31mNameError\u001b[0m                                 Traceback (most recent call last)",
      "\u001b[0;32m/var/folders/q4/f3xj1m3j2h3fl1lc7921wysh0000gn/T/ipykernel_6078/1288233848.py\u001b[0m in \u001b[0;36m<module>\u001b[0;34m\u001b[0m\n\u001b[1;32m      1\u001b[0m \u001b[0;32mimport\u001b[0m \u001b[0mnetworkx\u001b[0m \u001b[0;32mas\u001b[0m \u001b[0mnx\u001b[0m\u001b[0;34m\u001b[0m\u001b[0;34m\u001b[0m\u001b[0m\n\u001b[0;32m----> 2\u001b[0;31m \u001b[0mFG\u001b[0m \u001b[0;34m=\u001b[0m \u001b[0mnx\u001b[0m\u001b[0;34m.\u001b[0m\u001b[0mfrom_pandas_edgelist\u001b[0m\u001b[0;34m(\u001b[0m\u001b[0mdata\u001b[0m\u001b[0;34m,\u001b[0m \u001b[0msource\u001b[0m\u001b[0;34m=\u001b[0m\u001b[0;34m'origin'\u001b[0m\u001b[0;34m,\u001b[0m \u001b[0mtarget\u001b[0m\u001b[0;34m=\u001b[0m\u001b[0;34m'dest'\u001b[0m\u001b[0;34m,\u001b[0m \u001b[0medge_attr\u001b[0m\u001b[0;34m=\u001b[0m\u001b[0;32mTrue\u001b[0m\u001b[0;34m,\u001b[0m\u001b[0;34m)\u001b[0m\u001b[0;34m\u001b[0m\u001b[0;34m\u001b[0m\u001b[0m\n\u001b[0m",
      "\u001b[0;31mNameError\u001b[0m: name 'data' is not defined"
     ]
    }
   ],
   "source": [
    "import networkx as nx\n",
    "FG = nx.from_pandas_edgelist(data, source='origin', target='dest', edge_attr=True,)"
   ]
  },
  {
   "cell_type": "code",
   "execution_count": null,
   "id": "d9b487f0-ebe9-4133-b269-c0a0bc5e4f3f",
   "metadata": {},
   "outputs": [],
   "source": [
    "FG.nodes()"
   ]
  },
  {
   "cell_type": "code",
   "execution_count": null,
   "id": "a53e0881-afa6-4fc8-8bd3-b36edb248f6a",
   "metadata": {},
   "outputs": [],
   "source": [
    "FG.edges()\n"
   ]
  },
  {
   "cell_type": "code",
   "execution_count": null,
   "id": "102324b6-2f98-4997-8f76-a99e549434a2",
   "metadata": {},
   "outputs": [],
   "source": [
    "nx.draw_networkx(FG, with_labels=True) # Quick view of the Graph. As expected we see 3 very busy airports"
   ]
  },
  {
   "cell_type": "code",
   "execution_count": null,
   "id": "2606c24b-a082-4d65-9e7f-7a4b2c3953a4",
   "metadata": {},
   "outputs": [],
   "source": [
    "nx.algorithms.degree_centrality(FG) # Notice the 3 airports from which all of our 100 rows of data originates\n",
    "nx.density(FG) # Average edge density of the Graphs"
   ]
  },
  {
   "cell_type": "code",
   "execution_count": null,
   "id": "c044ee42-a5c1-469e-b8e0-e6700a0d391b",
   "metadata": {},
   "outputs": [],
   "source": [
    "nx.average_shortest_path_length(FG) # Average shortest path length for ALL paths in the Graph"
   ]
  },
  {
   "cell_type": "code",
   "execution_count": null,
   "id": "afbed59e-17f8-4c5f-be18-16ec33869006",
   "metadata": {},
   "outputs": [],
   "source": [
    "nx.average_degree_connectivity(FG) # For a node of degree k - What is the average of its neighbours' degree?\n"
   ]
  },
  {
   "cell_type": "markdown",
   "id": "be17c007-c25a-4c67-a311-bd640d851c32",
   "metadata": {},
   "source": [
    "Let us say we want to calculate the shortest possible route between 2 such airports. Right off the bat we can think of a couple of ways of doing it\n",
    "\n",
    "There is the shortest path by distance\n",
    "There is the shortest path by flight time\n",
    "What we can do is to calculate the shortest path algorithm by weighing the paths with either the distance or airtime. Please note that this is an approximate solution – The actual problem to solve is to calculate the shortest path factoring in the availability of a flight when you reach your transfer airport + wait time for the transfer. This is a more complete approach and this is how humans normally plan their travel. For the purposes of this article we will just assume that is flight is readily available when you reach an airport and calculate the shortest path using the airtime as the weight\n",
    "\n",
    "Let us take the example of JAX and DFW airports:"
   ]
  },
  {
   "cell_type": "code",
   "execution_count": null,
   "id": "8c87ce2c-8dce-4c2c-9b4a-8b79332c2a73",
   "metadata": {},
   "outputs": [],
   "source": [
    "# Let us find all the paths available\n",
    "for path in nx.all_simple_paths(FG, source='JAX', target='DFW'):\n",
    "    print(path)"
   ]
  },
  {
   "cell_type": "code",
   "execution_count": null,
   "id": "4ca24ab1-33e5-4c4c-a1e1-21c711de57d3",
   "metadata": {},
   "outputs": [],
   "source": [
    "# Let us find the dijkstra path from JAX to DFW.\n",
    "# You can read more in-depth on how dijkstra works from this resource - https://courses.csail.mit.edu/6.006/fall11/lectures/lecture16.pdf\n",
    "dijpath = nx.dijkstra_path(FG, source='JAX', target='DFW')\n",
    "dijpath"
   ]
  },
  {
   "cell_type": "code",
   "execution_count": null,
   "id": "d15ed639-e7ea-4bef-bfbd-366d99b319d9",
   "metadata": {},
   "outputs": [],
   "source": [
    "# Let us try to find the dijkstra path weighted by airtime (approximate case)\n",
    "shortpath = nx.dijkstra_path(FG, source='JAX', target='DFW', weight='air_time')\n",
    "shortpath"
   ]
  },
  {
   "cell_type": "code",
   "execution_count": null,
   "id": "694013ae-5bf4-4546-b351-5b5df8ef0b58",
   "metadata": {},
   "outputs": [],
   "source": []
  },
  {
   "cell_type": "code",
   "execution_count": null,
   "id": "c1b72125-92d3-4305-87d4-ac5b89a34481",
   "metadata": {},
   "outputs": [],
   "source": []
  }
 ],
 "metadata": {
  "kernelspec": {
   "display_name": "new_bootcamp",
   "language": "python",
   "name": "new_bootcamp"
  },
  "language_info": {
   "codemirror_mode": {
    "name": "ipython",
    "version": 3
   },
   "file_extension": ".py",
   "mimetype": "text/x-python",
   "name": "python",
   "nbconvert_exporter": "python",
   "pygments_lexer": "ipython3",
   "version": "3.8.11"
  }
 },
 "nbformat": 4,
 "nbformat_minor": 5
}
