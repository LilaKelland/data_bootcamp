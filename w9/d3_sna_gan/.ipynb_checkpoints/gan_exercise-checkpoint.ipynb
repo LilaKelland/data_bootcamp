{
 "cells": [
  {
   "cell_type": "markdown",
   "id": "2d2479df-4c75-43df-8623-fb95cf4b1f8b",
   "metadata": {},
   "source": [
    "The goal is to build two networks, one generator and one discriminator, to create pictures which will contain letters. This is a complex problem, so whenever we feel lost, we can consult with the article\n",
    "https://medium.com/ml-everything/generating-letters-using-generative-adversarial-networks-gans-161b0be3c229"
   ]
  },
  {
   "cell_type": "code",
   "execution_count": null,
   "id": "f57225aa-99fb-4669-9a70-71bac2bd7f63",
   "metadata": {},
   "outputs": [],
   "source": []
  }
 ],
 "metadata": {
  "kernelspec": {
   "display_name": "new_bootcamp",
   "language": "python",
   "name": "new_bootcamp"
  },
  "language_info": {
   "codemirror_mode": {
    "name": "ipython",
    "version": 3
   },
   "file_extension": ".py",
   "mimetype": "text/x-python",
   "name": "python",
   "nbconvert_exporter": "python",
   "pygments_lexer": "ipython3",
   "version": "3.8.11"
  }
 },
 "nbformat": 4,
 "nbformat_minor": 5
}
