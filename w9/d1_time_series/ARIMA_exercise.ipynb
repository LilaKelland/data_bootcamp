{
 "cells": [
  {
   "cell_type": "markdown",
   "metadata": {},
   "source": [
    "## Arima Exercise"
   ]
  },
  {
   "cell_type": "code",
   "execution_count": 1,
   "metadata": {
    "ExecuteTime": {
     "end_time": "2020-09-09T12:32:52.566890Z",
     "start_time": "2020-09-09T12:32:52.560424Z"
    }
   },
   "outputs": [],
   "source": [
    "# import libraries\n",
    "import numpy as np\n",
    "import pandas as pd\n",
    "from matplotlib import pyplot as plt\n",
    "from statsmodels.tsa.stattools import adfuller\n",
    "from statsmodels.tsa.seasonal import seasonal_decompose\n",
    "from statsmodels.tsa.arima_model import ARIMA\n",
    "from pandas.plotting import register_matplotlib_converters\n",
    "register_matplotlib_converters()"
   ]
  },
  {
   "cell_type": "code",
   "execution_count": 2,
   "metadata": {
    "ExecuteTime": {
     "end_time": "2020-09-09T12:39:01.764148Z",
     "start_time": "2020-09-09T12:39:01.375044Z"
    }
   },
   "outputs": [],
   "source": [
    "# load data\n",
    "df = pd.read_csv('https://raw.githubusercontent.com/AileenNielsen/TimeSeriesAnalysisWithPython/master/data/AirPassengers.csv',\n",
    "                 parse_dates = ['Month'], \n",
    "                 index_col = ['Month'])\\\n",
    "       .rename(columns={'#Passengers':'Passengers'})"
   ]
  },
  {
   "cell_type": "markdown",
   "metadata": {},
   "source": [
    "**Task:** Print the top 5 rows."
   ]
  },
  {
   "cell_type": "code",
   "execution_count": 3,
   "metadata": {
    "ExecuteTime": {
     "end_time": "2020-09-09T13:19:27.172544Z",
     "start_time": "2020-09-09T13:19:27.128538Z"
    }
   },
   "outputs": [
    {
     "data": {
      "text/html": [
       "<div>\n",
       "<style scoped>\n",
       "    .dataframe tbody tr th:only-of-type {\n",
       "        vertical-align: middle;\n",
       "    }\n",
       "\n",
       "    .dataframe tbody tr th {\n",
       "        vertical-align: top;\n",
       "    }\n",
       "\n",
       "    .dataframe thead th {\n",
       "        text-align: right;\n",
       "    }\n",
       "</style>\n",
       "<table border=\"1\" class=\"dataframe\">\n",
       "  <thead>\n",
       "    <tr style=\"text-align: right;\">\n",
       "      <th></th>\n",
       "      <th>Passengers</th>\n",
       "    </tr>\n",
       "    <tr>\n",
       "      <th>Month</th>\n",
       "      <th></th>\n",
       "    </tr>\n",
       "  </thead>\n",
       "  <tbody>\n",
       "    <tr>\n",
       "      <th>1949-01-01</th>\n",
       "      <td>112</td>\n",
       "    </tr>\n",
       "    <tr>\n",
       "      <th>1949-02-01</th>\n",
       "      <td>118</td>\n",
       "    </tr>\n",
       "    <tr>\n",
       "      <th>1949-03-01</th>\n",
       "      <td>132</td>\n",
       "    </tr>\n",
       "    <tr>\n",
       "      <th>1949-04-01</th>\n",
       "      <td>129</td>\n",
       "    </tr>\n",
       "    <tr>\n",
       "      <th>1949-05-01</th>\n",
       "      <td>121</td>\n",
       "    </tr>\n",
       "  </tbody>\n",
       "</table>\n",
       "</div>"
      ],
      "text/plain": [
       "            Passengers\n",
       "Month                 \n",
       "1949-01-01         112\n",
       "1949-02-01         118\n",
       "1949-03-01         132\n",
       "1949-04-01         129\n",
       "1949-05-01         121"
      ]
     },
     "execution_count": 3,
     "metadata": {},
     "output_type": "execute_result"
    }
   ],
   "source": [
    "df.head()"
   ]
  },
  {
   "cell_type": "markdown",
   "metadata": {},
   "source": [
    "**Task:** Create the function called `plot_timeseries(df)`."
   ]
  },
  {
   "cell_type": "code",
   "execution_count": 6,
   "metadata": {
    "ExecuteTime": {
     "end_time": "2020-09-09T13:20:07.098757Z",
     "start_time": "2020-09-09T13:20:07.090923Z"
    }
   },
   "outputs": [],
   "source": [
    "def plot_timeseries(df):\n",
    "    df.plot()\n",
    "    plt.show()"
   ]
  },
  {
   "cell_type": "code",
   "execution_count": null,
   "metadata": {},
   "outputs": [],
   "source": []
  },
  {
   "cell_type": "markdown",
   "metadata": {},
   "source": [
    "**Task:** Plot the time series from above."
   ]
  },
  {
   "cell_type": "code",
   "execution_count": 8,
   "metadata": {
    "ExecuteTime": {
     "end_time": "2020-09-09T13:20:36.792562Z",
     "start_time": "2020-09-09T13:20:36.102295Z"
    }
   },
   "outputs": [
    {
     "data": {
      "image/png": "[encoded data removed]",
      "text/plain": [
       "<Figure size 432x288 with 1 Axes>"
      ]
     },
     "metadata": {
      "needs_background": "light"
     },
     "output_type": "display_data"
    }
   ],
   "source": [
    "plot_timeseries(df)"
   ]
  },
  {
   "cell_type": "code",
   "execution_count": null,
   "metadata": {},
   "outputs": [],
   "source": [
    "from statsmodels.tsa.stattools import adfuller\n",
    "\n",
    "def ADF_Stationarity_Test(timeseries, significance_level):\n",
    "    X = timeseries.values\n",
    "    result = adfuller(X)\n",
    "    p_value = result[1]\n",
    "    print('p_value', p_value)\n",
    "    if (p_value > significance_level):\n",
    "        print(\"time series is non-stationary\")\n",
    "    else:\n",
    "        print(\"time series is stationary\")"
   ]
  },
  {
   "cell_type": "code",
   "execution_count": 24,
   "metadata": {},
   "outputs": [
    {
     "name": "stdout",
     "output_type": "stream",
     "text": [
      "p_value 0.05421329028382468\n",
      "time series is non-stationary\n"
     ]
    }
   ],
   "source": [
    "df['passengers_diff'] = df['Passengers']- df['Passengers'].shift(1)\n",
    "ADF_Stationarity_Test(df['passengers_diff'].dropna(), 0.05)"
   ]
  },
  {
   "cell_type": "code",
   "execution_count": 28,
   "metadata": {},
   "outputs": [
    {
     "data": {
      "image/png": "[encoded data removed]",
      "text/plain": [
       "<Figure size 432x288 with 1 Axes>"
      ]
     },
     "metadata": {
      "needs_background": "light"
     },
     "output_type": "display_data"
    }
   ],
   "source": [
    "plot_timeseries(df['passengers_diff'])"
   ]
  },
  {
   "cell_type": "code",
   "execution_count": 25,
   "metadata": {},
   "outputs": [
    {
     "name": "stdout",
     "output_type": "stream",
     "text": [
      "p_value 2.732891850014085e-29\n",
      "time series is stationary\n"
     ]
    }
   ],
   "source": [
    "df['passengers_diff2'] = df['passengers_diff']- df['passengers_diff'].shift(1)\n",
    "ADF_Stationarity_Test(df['passengers_diff2'].dropna(), 0.05)"
   ]
  },
  {
   "cell_type": "code",
   "execution_count": 29,
   "metadata": {},
   "outputs": [
    {
     "data": {
      "image/png": "[encoded data removed]",
      "text/plain": [
       "<Figure size 432x288 with 1 Axes>"
      ]
     },
     "metadata": {
      "needs_background": "light"
     },
     "output_type": "display_data"
    }
   ],
   "source": [
    "plot_timeseries(df['passengers_diff2'])"
   ]
  },
  {
   "cell_type": "code",
   "execution_count": null,
   "metadata": {},
   "outputs": [],
   "source": [
    "# d=2"
   ]
  },
  {
   "cell_type": "code",
   "execution_count": null,
   "metadata": {},
   "outputs": [],
   "source": []
  },
  {
   "cell_type": "markdown",
   "metadata": {},
   "source": [
    "**Task:** Compute the rolling mean and the rolling std with an appropriate window size."
   ]
  },
  {
   "cell_type": "code",
   "execution_count": 86,
   "metadata": {
    "ExecuteTime": {
     "end_time": "2020-09-09T13:21:01.020985Z",
     "start_time": "2020-09-09T13:21:01.008972Z"
    }
   },
   "outputs": [],
   "source": []
  },
  {
   "cell_type": "code",
   "execution_count": 90,
   "metadata": {},
   "outputs": [],
   "source": []
  },
  {
   "cell_type": "code",
   "execution_count": 94,
   "metadata": {},
   "outputs": [],
   "source": [
    "rolling_mean = df['Passengers'].rolling(window = 12).mean()\n",
    "rolling_std = df['Passengers'].rolling(window = 12).std()\n",
    "# plot all together "
   ]
  },
  {
   "cell_type": "code",
   "execution_count": null,
   "metadata": {},
   "outputs": [],
   "source": []
  },
  {
   "cell_type": "code",
   "execution_count": 67,
   "metadata": {
    "ExecuteTime": {
     "end_time": "2020-09-09T13:21:21.357917Z",
     "start_time": "2020-09-09T13:21:20.503961Z"
    }
   },
   "outputs": [
    {
     "data": {
      "image/png": "[encoded data removed]",
      "text/plain": [
       "<Figure size 432x288 with 1 Axes>"
      ]
     },
     "metadata": {
      "needs_background": "light"
     },
     "output_type": "display_data"
    }
   ],
   "source": [
    "df['rolling_mean'].plot(style=[':', '--', '-'])\n",
    "plt.ylabel('mean passenger');"
   ]
  },
  {
   "cell_type": "code",
   "execution_count": 97,
   "metadata": {},
   "outputs": [
    {
     "data": {
      "image/png": "[encoded data removed]",
      "text/plain": [
       "<Figure size 432x288 with 1 Axes>"
      ]
     },
     "metadata": {
      "needs_background": "light"
     },
     "output_type": "display_data"
    }
   ],
   "source": [
    "rolling_std.plot(style=[':', '--', '-'])\n",
    "plt.ylabel('rolling std');"
   ]
  },
  {
   "cell_type": "code",
   "execution_count": null,
   "metadata": {},
   "outputs": [],
   "source": []
  },
  {
   "cell_type": "markdown",
   "metadata": {},
   "source": [
    "**Task:** Test the stationarity of all the time series"
   ]
  },
  {
   "cell_type": "code",
   "execution_count": 69,
   "metadata": {
    "ExecuteTime": {
     "end_time": "2020-09-09T13:21:47.229458Z",
     "start_time": "2020-09-09T13:21:43.472346Z"
    }
   },
   "outputs": [
    {
     "name": "stdout",
     "output_type": "stream",
     "text": [
      "p_value 0.9927372598211598\n",
      "time series is non-stationary\n"
     ]
    }
   ],
   "source": [
    "ADF_Stationarity_Test(df['rolling_mean'].dropna(), 0.05)"
   ]
  },
  {
   "cell_type": "code",
   "execution_count": 73,
   "metadata": {},
   "outputs": [
    {
     "name": "stdout",
     "output_type": "stream",
     "text": [
      "p_value 0.9971928003740416\n",
      "time series is non-stationary\n"
     ]
    }
   ],
   "source": [
    "ADF_Stationarity_Test(df['rolling_std'].dropna(), 0.05)"
   ]
  },
  {
   "cell_type": "code",
   "execution_count": null,
   "metadata": {},
   "outputs": [],
   "source": []
  },
  {
   "cell_type": "markdown",
   "metadata": {},
   "source": [
    "**Task:** Perform a log transformation on the original time series. "
   ]
  },
  {
   "cell_type": "code",
   "execution_count": 26,
   "metadata": {},
   "outputs": [],
   "source": [
    "df['passengers_log'] = np.log(df['Passengers'])"
   ]
  },
  {
   "cell_type": "code",
   "execution_count": 74,
   "metadata": {},
   "outputs": [
    {
     "name": "stdout",
     "output_type": "stream",
     "text": [
      "p_value 0.4223667747703909\n",
      "time series is non-stationary\n"
     ]
    }
   ],
   "source": [
    "ADF_Stationarity_Test(df['passengers_log'].dropna(), 0.05)"
   ]
  },
  {
   "cell_type": "code",
   "execution_count": null,
   "metadata": {},
   "outputs": [],
   "source": []
  },
  {
   "cell_type": "code",
   "execution_count": 95,
   "metadata": {
    "ExecuteTime": {
     "end_time": "2020-09-09T13:22:04.098681Z",
     "start_time": "2020-09-09T13:22:04.093021Z"
    }
   },
   "outputs": [
    {
     "data": {
      "image/png": "[encoded data removed]",
      "text/plain": [
       "<Figure size 432x288 with 1 Axes>"
      ]
     },
     "metadata": {
      "needs_background": "light"
     },
     "output_type": "display_data"
    }
   ],
   "source": [
    "rolling_mean.plot(style=[':', '--', '-'])\n",
    "plt.ylabel('rolling std');"
   ]
  },
  {
   "cell_type": "markdown",
   "metadata": {},
   "source": [
    "**Task:** Plot the transformed time series."
   ]
  },
  {
   "cell_type": "code",
   "execution_count": 30,
   "metadata": {},
   "outputs": [
    {
     "data": {
      "image/png": "[encoded data removed]",
      "text/plain": [
       "<Figure size 432x288 with 1 Axes>"
      ]
     },
     "metadata": {
      "needs_background": "light"
     },
     "output_type": "display_data"
    }
   ],
   "source": [
    "plot_timeseries(df['passengers_log'])"
   ]
  },
  {
   "cell_type": "code",
   "execution_count": null,
   "metadata": {},
   "outputs": [],
   "source": []
  },
  {
   "cell_type": "code",
   "execution_count": null,
   "metadata": {
    "ExecuteTime": {
     "end_time": "2020-09-09T13:22:28.135942Z",
     "start_time": "2020-09-09T13:22:27.497106Z"
    }
   },
   "outputs": [],
   "source": []
  },
  {
   "cell_type": "markdown",
   "metadata": {},
   "source": [
    "**Task:** Test the stationarity of the transformed time series. If it isn't stationary, try a different transformation technique. "
   ]
  },
  {
   "cell_type": "code",
   "execution_count": 31,
   "metadata": {},
   "outputs": [
    {
     "name": "stdout",
     "output_type": "stream",
     "text": [
      "p_value 0.4223667747703909\n",
      "time series is non-stationary\n"
     ]
    }
   ],
   "source": [
    "ADF_Stationarity_Test(df['passengers_log'].dropna(), 0.05)"
   ]
  },
  {
   "cell_type": "code",
   "execution_count": null,
   "metadata": {},
   "outputs": [],
   "source": [
    "# Acheive stationarity by \n",
    "#log \n",
    "#calculate rolling mean\n",
    "# subtract rolling\n",
    "# dropna\n",
    "# check stationary\n",
    "\n",
    "# OR\n",
    "# shift\n",
    "# df_log - df_log.shift()"
   ]
  },
  {
   "cell_type": "code",
   "execution_count": 98,
   "metadata": {},
   "outputs": [],
   "source": [
    "df['transformed'] = df['passengers_log'] - rolling_mean"
   ]
  },
  {
   "cell_type": "code",
   "execution_count": 99,
   "metadata": {},
   "outputs": [
    {
     "name": "stdout",
     "output_type": "stream",
     "text": [
      "p_value 0.9921114303164101\n",
      "time series is non-stationary\n"
     ]
    }
   ],
   "source": [
    "ADF_Stationarity_Test(df['transformed'].dropna(), 0.05)"
   ]
  },
  {
   "cell_type": "code",
   "execution_count": 100,
   "metadata": {},
   "outputs": [],
   "source": [
    "# try other way\n",
    "df['transformed'] = df['passengers_log'] - df['passengers_log'].shift()"
   ]
  },
  {
   "cell_type": "code",
   "execution_count": 101,
   "metadata": {},
   "outputs": [
    {
     "name": "stdout",
     "output_type": "stream",
     "text": [
      "p_value 0.0711205481508599\n",
      "time series is non-stationary\n"
     ]
    }
   ],
   "source": [
    "ADF_Stationarity_Test(df['transformed'].dropna(), 0.05)"
   ]
  },
  {
   "cell_type": "code",
   "execution_count": null,
   "metadata": {
    "ExecuteTime": {
     "end_time": "2020-09-09T13:24:02.759385Z",
     "start_time": "2020-09-09T13:24:00.222139Z"
    }
   },
   "outputs": [],
   "source": []
  },
  {
   "cell_type": "code",
   "execution_count": null,
   "metadata": {},
   "outputs": [],
   "source": []
  },
  {
   "cell_type": "markdown",
   "metadata": {},
   "source": [
    "**Task:** Use the stationary time series and find the optimal `(p, d, q)` parameters of ARIMA model."
   ]
  },
  {
   "cell_type": "code",
   "execution_count": 104,
   "metadata": {
    "ExecuteTime": {
     "end_time": "2020-09-09T13:25:12.885968Z",
     "start_time": "2020-09-09T13:25:02.731729Z"
    }
   },
   "outputs": [
    {
     "data": {
      "image/png": "[encoded data removed]",
      "text/plain": [
       "<Figure size 432x288 with 1 Axes>"
      ]
     },
     "metadata": {
      "needs_background": "light"
     },
     "output_type": "display_data"
    }
   ],
   "source": [
    "# Autocorrelation plot\n",
    "from pandas.plotting import autocorrelation_plot\n",
    " \n",
    "# autocorrelation_plot(df['transformed'])\n",
    "autocorrelation_plot(df['Passengers'])\n",
    "plt.show()\n",
    "# q = 38? - BUT SHOULD BE 2"
   ]
  },
  {
   "cell_type": "code",
   "execution_count": 37,
   "metadata": {},
   "outputs": [
    {
     "data": {
      "image/png": "[encoded data removed]",
      "text/plain": [
       "<Figure size 432x288 with 1 Axes>"
      ]
     },
     "metadata": {
      "needs_background": "light"
     },
     "output_type": "display_data"
    }
   ],
   "source": [
    "# partial Autocorrelation plot\n",
    "from matplotlib import pyplot\n",
    "from statsmodels.graphics.tsaplots import plot_pacf\n",
    "# series = read_csv('daily-minimum-temperatures.csv', header=0, index_col=0)\n",
    "plot_pacf(df['Passengers'], lags=20)\n",
    "pyplot.show()\n",
    "\n",
    "p=2"
   ]
  },
  {
   "cell_type": "code",
   "execution_count": 107,
   "metadata": {},
   "outputs": [
    {
     "name": "stderr",
     "output_type": "stream",
     "text": [
      "/Users/lilakelland/opt/anaconda3/lib/python3.8/site-packages/statsmodels/tsa/arima_model.py:472: FutureWarning: \n",
      "statsmodels.tsa.arima_model.ARMA and statsmodels.tsa.arima_model.ARIMA have\n",
      "been deprecated in favor of statsmodels.tsa.arima.model.ARIMA (note the .\n",
      "between arima and model) and\n",
      "statsmodels.tsa.SARIMAX. These will be removed after the 0.12 release.\n",
      "\n",
      "statsmodels.tsa.arima.model.ARIMA makes use of the statespace framework and\n",
      "is both well tested and maintained.\n",
      "\n",
      "To silence this warning and continue using ARMA and ARIMA until they are\n",
      "removed, use:\n",
      "\n",
      "import warnings\n",
      "warnings.filterwarnings('ignore', 'statsmodels.tsa.arima_model.ARMA',\n",
      "                        FutureWarning)\n",
      "warnings.filterwarnings('ignore', 'statsmodels.tsa.arima_model.ARIMA',\n",
      "                        FutureWarning)\n",
      "\n",
      "  warnings.warn(ARIMA_DEPRECATION_WARN, FutureWarning)\n",
      "/Users/lilakelland/opt/anaconda3/lib/python3.8/site-packages/statsmodels/tsa/base/tsa_model.py:524: ValueWarning: No frequency information was provided, so inferred frequency MS will be used.\n",
      "  warnings.warn('No frequency information was'\n",
      "/Users/lilakelland/opt/anaconda3/lib/python3.8/site-packages/statsmodels/tsa/base/tsa_model.py:524: ValueWarning: No frequency information was provided, so inferred frequency MS will be used.\n",
      "  warnings.warn('No frequency information was'\n",
      " This problem is unconstrained.\n"
     ]
    },
    {
     "name": "stdout",
     "output_type": "stream",
     "text": [
      "RUNNING THE L-BFGS-B CODE\n",
      "\n",
      "           * * *\n",
      "\n",
      "Machine precision = 2.220D-16\n",
      " N =            5     M =           12\n",
      "\n",
      "At X0         0 variables are exactly at the bounds\n",
      "\n",
      "At iterate    0    f=  4.66135D+00    |proj g|=  4.80020D-02\n",
      "\n",
      "At iterate    5    f=  4.65907D+00    |proj g|=  3.27020D-02\n",
      "\n",
      "At iterate   10    f=  4.65821D+00    |proj g|=  1.03215D-03\n",
      "\n",
      "At iterate   15    f=  4.65802D+00    |proj g|=  1.51639D-03\n",
      "\n",
      "At iterate   20    f=  4.65768D+00    |proj g|=  1.24672D-02\n",
      "\n",
      "At iterate   25    f=  4.65750D+00    |proj g|=  1.65459D-03\n",
      "\n",
      "At iterate   30    f=  4.65750D+00    |proj g|=  4.89386D-04\n",
      "\n",
      "At iterate   35    f=  4.65749D+00    |proj g|=  4.12115D-05\n",
      "\n",
      "At iterate   40    f=  4.65749D+00    |proj g|=  1.07470D-05\n",
      "\n",
      "At iterate   45    f=  4.65749D+00    |proj g|=  5.77316D-06\n",
      "\n",
      "At iterate   50    f=  4.65749D+00    |proj g|=  3.01981D-06\n",
      "\n",
      "           * * *\n",
      "\n",
      "Tit   = total number of iterations\n",
      "Tnf   = total number of function evaluations\n",
      "Tnint = total number of segments explored during Cauchy searches\n",
      "Skip  = number of BFGS updates skipped\n",
      "Nact  = number of active bounds at final generalized Cauchy point\n",
      "Projg = norm of the final projected gradient\n",
      "F     = final function value\n",
      "\n",
      "           * * *\n",
      "\n",
      "   N    Tit     Tnf  Tnint  Skip  Nact     Projg        F\n",
      "    5     53     81      1     0     0   4.174D-06   4.657D+00\n",
      "  F =   4.6574944729885006     \n",
      "\n",
      "CONVERGENCE: REL_REDUCTION_OF_F_<=_FACTR*EPSMCH             \n",
      "                             ARIMA Model Results                              \n",
      "==============================================================================\n",
      "Dep. Variable:           D.Passengers   No. Observations:                  143\n",
      "Model:                 ARIMA(2, 1, 2)   Log Likelihood                -666.022\n",
      "Method:                       css-mle   S.D. of innovations             24.715\n",
      "Date:                Mon, 08 Nov 2021   AIC                           1344.043\n",
      "Time:                        21:21:45   BIC                           1361.820\n",
      "Sample:                    02-01-1949   HQIC                          1351.267\n",
      "                         - 12-01-1960                                         \n",
      "======================================================================================\n",
      "                         coef    std err          z      P>|z|      [0.025      0.975]\n",
      "--------------------------------------------------------------------------------------\n",
      "const                  2.5311      0.708      3.574      0.000       1.143       3.919\n",
      "ar.L1.D.Passengers     1.6477      0.033     49.933      0.000       1.583       1.712\n",
      "ar.L2.D.Passengers    -0.9094      0.033    -27.880      0.000      -0.973      -0.845\n",
      "ma.L1.D.Passengers    -1.9097      0.065    -29.509      0.000      -2.037      -1.783\n",
      "ma.L2.D.Passengers     0.9996      0.068     14.808      0.000       0.867       1.132\n",
      "                                    Roots                                    \n",
      "=============================================================================\n",
      "                  Real          Imaginary           Modulus         Frequency\n",
      "-----------------------------------------------------------------------------\n",
      "AR.1            0.9059           -0.5281j            1.0486           -0.0840\n",
      "AR.2            0.9059           +0.5281j            1.0486            0.0840\n",
      "MA.1            0.9553           -0.2965j            1.0002           -0.0479\n",
      "MA.2            0.9553           +0.2965j            1.0002            0.0479\n",
      "-----------------------------------------------------------------------------\n"
     ]
    },
    {
     "data": {
      "image/png": "[encoded data removed]",
      "text/plain": [
       "<Figure size 432x288 with 1 Axes>"
      ]
     },
     "metadata": {
      "needs_background": "light"
     },
     "output_type": "display_data"
    },
    {
     "data": {
      "image/png": "[encoded data removed]",
      "text/plain": [
       "<Figure size 432x288 with 1 Axes>"
      ]
     },
     "metadata": {
      "needs_background": "light"
     },
     "output_type": "display_data"
    }
   ],
   "source": [
    "# fit model\n",
    "model = ARIMA(df['Passengers'], order=(2,1,2)) # got this from mentor - but my d is 2??\n",
    "model_fit = model.fit()\n",
    "\n",
    "# summary of fit model\n",
    "print(model_fit.summary())\n",
    "\n",
    "# line plot of residuals\n",
    "residuals = pd.DataFrame(model_fit.resid)\n",
    "residuals.plot()\n",
    "pyplot.show()\n",
    "\n",
    "# density plot of residuals\n",
    "residuals.plot(kind='kde')\n",
    "pyplot.show()\n",
    "\n",
    "# summary stats of residuals\n",
    "# print(residuals.describe())"
   ]
  },
  {
   "cell_type": "code",
   "execution_count": null,
   "metadata": {},
   "outputs": [],
   "source": []
  },
  {
   "cell_type": "markdown",
   "metadata": {},
   "source": [
    "**Task:** Plot the predictions (not transformed to the original scale)."
   ]
  },
  {
   "cell_type": "code",
   "execution_count": 112,
   "metadata": {
    "ExecuteTime": {
     "end_time": "2020-09-09T13:25:36.979824Z",
     "start_time": "2020-09-09T13:25:36.290591Z"
    }
   },
   "outputs": [
    {
     "name": "stderr",
     "output_type": "stream",
     "text": [
      "/Users/lilakelland/opt/anaconda3/lib/python3.8/site-packages/statsmodels/tsa/arima_model.py:472: FutureWarning: \n",
      "statsmodels.tsa.arima_model.ARMA and statsmodels.tsa.arima_model.ARIMA have\n",
      "been deprecated in favor of statsmodels.tsa.arima.model.ARIMA (note the .\n",
      "between arima and model) and\n",
      "statsmodels.tsa.SARIMAX. These will be removed after the 0.12 release.\n",
      "\n",
      "statsmodels.tsa.arima.model.ARIMA makes use of the statespace framework and\n",
      "is both well tested and maintained.\n",
      "\n",
      "To silence this warning and continue using ARMA and ARIMA until they are\n",
      "removed, use:\n",
      "\n",
      "import warnings\n",
      "warnings.filterwarnings('ignore', 'statsmodels.tsa.arima_model.ARMA',\n",
      "                        FutureWarning)\n",
      "warnings.filterwarnings('ignore', 'statsmodels.tsa.arima_model.ARIMA',\n",
      "                        FutureWarning)\n",
      "\n",
      "  warnings.warn(ARIMA_DEPRECATION_WARN, FutureWarning)\n",
      " This problem is unconstrained.\n",
      " This problem is unconstrained.\n"
     ]
    },
    {
     "name": "stdout",
     "output_type": "stream",
     "text": [
      "RUNNING THE L-BFGS-B CODE\n",
      "\n",
      "           * * *\n",
      "\n",
      "Machine precision = 2.220D-16\n",
      " N =            5     M =           12\n",
      "\n",
      "At X0         0 variables are exactly at the bounds\n",
      "\n",
      "At iterate    0    f=  4.33933D+00    |proj g|=  5.85263D-02\n",
      "\n",
      "At iterate    5    f=  4.33229D+00    |proj g|=  6.38492D-02\n",
      "\n",
      "At iterate   10    f=  4.32704D+00    |proj g|=  3.75877D-04\n",
      "\n",
      "At iterate   15    f=  4.32702D+00    |proj g|=  7.68274D-05\n",
      "\n",
      "At iterate   20    f=  4.32702D+00    |proj g|=  7.46070D-06\n",
      "\n",
      "           * * *\n",
      "\n",
      "Tit   = total number of iterations\n",
      "Tnf   = total number of function evaluations\n",
      "Tnint = total number of segments explored during Cauchy searches\n",
      "Skip  = number of BFGS updates skipped\n",
      "Nact  = number of active bounds at final generalized Cauchy point\n",
      "Projg = norm of the final projected gradient\n",
      "F     = final function value\n",
      "\n",
      "           * * *\n",
      "\n",
      "   N    Tit     Tnf  Tnint  Skip  Nact     Projg        F\n",
      "    5     22     32      1     0     0   5.240D-06   4.327D+00\n",
      "  F =   4.3270244997140841     \n",
      "\n",
      "CONVERGENCE: REL_REDUCTION_OF_F_<=_FACTR*EPSMCH             \n",
      "RUNNING THE L-BFGS-B CODE\n",
      "\n",
      "           * * *\n",
      "\n",
      "Machine precision = 2.220D-16\n",
      " N =            5     M =           12\n",
      "\n",
      "At X0         0 variables are exactly at the bounds\n",
      "\n",
      "At iterate    0    f=  4.35063D+00    |proj g|=  5.67954D-02\n",
      "\n",
      "At iterate    5    f=  4.34223D+00    |proj g|=  5.17093D-02\n",
      "\n",
      "At iterate   10    f=  4.33873D+00    |proj g|=  1.79252D-02\n",
      "\n",
      "At iterate   15    f=  4.33683D+00    |proj g|=  2.71880D-03\n",
      "\n",
      "At iterate   20    f=  4.33661D+00    |proj g|=  6.44906D-04\n",
      "\n",
      "At iterate   25    f=  4.33659D+00    |proj g|=  3.00204D-04\n",
      "\n",
      "At iterate   30    f=  4.33659D+00    |proj g|=  1.88471D-04\n",
      "\n",
      "At iterate   35    f=  4.33659D+00    |proj g|=  3.88845D-04\n",
      "\n",
      "At iterate   40    f=  4.33659D+00    |proj g|=  3.45501D-05\n",
      "\n",
      "At iterate   45    f=  4.33659D+00    |proj g|=  1.87406D-05\n",
      "\n",
      "           * * *\n",
      "\n",
      "Tit   = total number of iterations\n",
      "Tnf   = total number of function evaluations\n",
      "Tnint = total number of segments explored during Cauchy searches\n",
      "Skip  = number of BFGS updates skipped\n",
      "Nact  = number of active bounds at final generalized Cauchy point\n",
      "Projg = norm of the final projected gradient\n",
      "F     = final function value\n",
      "\n",
      "           * * *\n",
      "\n",
      "   N    Tit     Tnf  Tnint  Skip  Nact     Projg        F\n",
      "    5     49     75      1     0     0   4.086D-06   4.337D+00\n",
      "  F =   4.3365923168780132     \n",
      "\n",
      "CONVERGENCE: REL_REDUCTION_OF_F_<=_FACTR*EPSMCH             \n",
      "RUNNING THE L-BFGS-B CODE\n",
      "\n",
      "           * * *\n",
      "\n",
      "Machine precision = 2.220D-16\n",
      " N =            5     M =           12\n",
      "\n",
      "At X0         0 variables are exactly at the bounds\n",
      "\n",
      "At iterate    0    f=  4.34580D+00    |proj g|=  5.65946D-02\n",
      "\n",
      "At iterate    5    f=  4.33745D+00    |proj g|=  5.22637D-02\n",
      "\n",
      "At iterate   10    f=  4.33422D+00    |proj g|=  1.59164D-02\n",
      "\n",
      "At iterate   15    f=  4.33258D+00    |proj g|=  2.69464D-03\n",
      "\n",
      "At iterate   20    f=  4.33238D+00    |proj g|=  8.33023D-04\n"
     ]
    },
    {
     "name": "stderr",
     "output_type": "stream",
     "text": [
      " This problem is unconstrained.\n",
      "\n",
      " Bad direction in the line search;\n",
      "   refresh the lbfgs memory and restart the iteration.\n",
      "\n",
      " Line search cannot locate an adequate point after MAXLS\n",
      "  function and gradient evaluations.\n",
      "  Previous x, f and g restored.\n",
      " Possible causes: 1 error in function or gradient evaluation;\n",
      "                  2 rounding error dominate computation.\n"
     ]
    },
    {
     "name": "stdout",
     "output_type": "stream",
     "text": [
      "\n",
      "At iterate   25    f=  4.33238D+00    |proj g|=  5.72165D-04\n",
      "\n",
      "At iterate   30    f=  4.33237D+00    |proj g|=  7.03437D-05\n",
      "  ys=-3.400E-16  -gs= 8.474E-17 BFGS update SKIPPED\n",
      "\n",
      "           * * *\n",
      "\n",
      "Tit   = total number of iterations\n",
      "Tnf   = total number of function evaluations\n",
      "Tnint = total number of segments explored during Cauchy searches\n",
      "Skip  = number of BFGS updates skipped\n",
      "Nact  = number of active bounds at final generalized Cauchy point\n",
      "Projg = norm of the final projected gradient\n",
      "F     = final function value\n",
      "\n",
      "           * * *\n",
      "\n",
      "   N    Tit     Tnf  Tnint  Skip  Nact     Projg        F\n",
      "    5     34     92      2     1     0   6.395D-06   4.332D+00\n",
      "  F =   4.3323745235188866     \n",
      "\n",
      "ABNORMAL_TERMINATION_IN_LNSRCH                              \n",
      "RUNNING THE L-BFGS-B CODE\n",
      "\n",
      "           * * *\n",
      "\n",
      "Machine precision = 2.220D-16\n",
      " N =            5     M =           12\n",
      "\n",
      "At X0         0 variables are exactly at the bounds\n",
      "\n",
      "At iterate    0    f=  4.40393D+00    |proj g|=  2.39280D-02\n",
      "\n"
     ]
    },
    {
     "name": "stderr",
     "output_type": "stream",
     "text": [
      "/Users/lilakelland/opt/anaconda3/lib/python3.8/site-packages/statsmodels/base/model.py:566: ConvergenceWarning: Maximum Likelihood optimization failed to converge. Check mle_retvals\n",
      "  warnings.warn(\"Maximum Likelihood optimization failed to \"\n",
      " This problem is unconstrained.\n",
      " This problem is unconstrained.\n"
     ]
    },
    {
     "name": "stdout",
     "output_type": "stream",
     "text": [
      "At iterate    5    f=  4.39644D+00    |proj g|=  4.59313D-03\n",
      "\n",
      "At iterate   10    f=  4.39372D+00    |proj g|=  6.42308D-02\n",
      "\n",
      "At iterate   15    f=  4.38212D+00    |proj g|=  2.15445D-03\n",
      "\n",
      "At iterate   20    f=  4.38211D+00    |proj g|=  1.77636D-07\n",
      "\n",
      "           * * *\n",
      "\n",
      "Tit   = total number of iterations\n",
      "Tnf   = total number of function evaluations\n",
      "Tnint = total number of segments explored during Cauchy searches\n",
      "Skip  = number of BFGS updates skipped\n",
      "Nact  = number of active bounds at final generalized Cauchy point\n",
      "Projg = norm of the final projected gradient\n",
      "F     = final function value\n",
      "\n",
      "           * * *\n",
      "\n",
      "   N    Tit     Tnf  Tnint  Skip  Nact     Projg        F\n",
      "    5     21     36      1     0     0   8.882D-07   4.382D+00\n",
      "  F =   4.3821099234494847     \n",
      "\n",
      "CONVERGENCE: REL_REDUCTION_OF_F_<=_FACTR*EPSMCH             \n",
      "RUNNING THE L-BFGS-B CODE\n",
      "\n",
      "           * * *\n",
      "\n",
      "Machine precision = 2.220D-16\n",
      " N =            5     M =           12\n",
      "\n",
      "At X0         0 variables are exactly at the bounds\n",
      "\n",
      "At iterate    0    f=  4.42373D+00    |proj g|=  1.86601D-02\n",
      "\n",
      "At iterate    5    f=  4.41727D+00    |proj g|=  4.65112D-03\n",
      "\n",
      "At iterate   10    f=  4.41510D+00    |proj g|=  6.24114D-03\n",
      "\n",
      "At iterate   15    f=  4.41469D+00    |proj g|=  8.46612D-04\n",
      "\n",
      "At iterate   20    f=  4.41466D+00    |proj g|=  1.72307D-04\n",
      "\n",
      "At iterate   25    f=  4.41466D+00    |proj g|=  3.35731D-05\n",
      "\n",
      "At iterate   30    f=  4.41466D+00    |proj g|=  4.89386D-05\n",
      "\n",
      "At iterate   35    f=  4.41466D+00    |proj g|=  3.55271D-07\n",
      "\n",
      "           * * *\n",
      "\n",
      "Tit   = total number of iterations\n",
      "Tnf   = total number of function evaluations\n",
      "Tnint = total number of segments explored during Cauchy searches\n",
      "Skip  = number of BFGS updates skipped\n",
      "Nact  = number of active bounds at final generalized Cauchy point\n",
      "Projg = norm of the final projected gradient\n",
      "F     = final function value\n",
      "\n",
      "           * * *\n",
      "\n",
      "   N    Tit     Tnf  Tnint  Skip  Nact     Projg        F\n",
      "    5     35     48      1     0     0   3.553D-07   4.415D+00\n",
      "  F =   4.4146596949236754     \n",
      "\n",
      "CONVERGENCE: REL_REDUCTION_OF_F_<=_FACTR*EPSMCH             \n",
      "RUNNING THE L-BFGS-B CODE\n",
      "\n",
      "           * * *\n",
      "\n",
      "Machine precision = 2.220D-16\n",
      " N =            5     M =           12\n",
      "\n",
      "At X0         0 variables are exactly at the bounds\n",
      "\n",
      "At iterate    0    f=  4.42386D+00    |proj g|=  2.26535D-02\n",
      "\n",
      "At iterate    5    f=  4.41689D+00    |proj g|=  3.59854D-03\n",
      "\n",
      "At iterate   10    f=  4.41504D+00    |proj g|=  5.31220D-03\n",
      "\n",
      "At iterate   15    f=  4.41490D+00    |proj g|=  5.00400D-04\n",
      "\n",
      "At iterate   20    f=  4.41489D+00    |proj g|=  5.30509D-04\n",
      "\n",
      "At iterate   25    f=  4.41489D+00    |proj g|=  4.43201D-05\n",
      "\n",
      "At iterate   30    f=  4.41489D+00    |proj g|=  3.73035D-06\n",
      "\n",
      "At iterate   35    f=  4.41489D+00    |proj g|=  1.77636D-07\n",
      "\n",
      "           * * *\n",
      "\n",
      "Tit   = total number of iterations\n",
      "Tnf   = total number of function evaluations\n",
      "Tnint = total number of segments explored during Cauchy searches\n",
      "Skip  = number of BFGS updates skipped\n",
      "Nact  = number of active bounds at final generalized Cauchy point\n",
      "Projg = norm of the final projected gradient\n",
      "F     = final function value\n",
      "\n",
      "           * * *\n",
      "\n",
      "   N    Tit     Tnf  Tnint  Skip  Nact     Projg        F\n",
      "    5     38     49      1     0     0   1.776D-07   4.415D+00\n",
      "  F =   4.4148869885487390     \n",
      "\n",
      "CONVERGENCE: REL_REDUCTION_OF_F_<=_FACTR*EPSMCH             \n"
     ]
    },
    {
     "name": "stderr",
     "output_type": "stream",
     "text": [
      " This problem is unconstrained.\n",
      " This problem is unconstrained.\n"
     ]
    },
    {
     "name": "stdout",
     "output_type": "stream",
     "text": [
      "RUNNING THE L-BFGS-B CODE\n",
      "\n",
      "           * * *\n",
      "\n",
      "Machine precision = 2.220D-16\n",
      " N =            5     M =           12\n",
      "\n",
      "At X0         0 variables are exactly at the bounds\n",
      "\n",
      "At iterate    0    f=  4.42684D+00    |proj g|=  1.86192D-02\n",
      "\n",
      "At iterate    5    f=  4.41985D+00    |proj g|=  4.57971D-03\n",
      "\n",
      "At iterate   10    f=  4.41796D+00    |proj g|=  2.04610D-03\n",
      "\n",
      "At iterate   15    f=  4.41784D+00    |proj g|=  3.66729D-04\n",
      "\n",
      "At iterate   20    f=  4.41783D+00    |proj g|=  4.65405D-05\n",
      "\n",
      "At iterate   25    f=  4.41783D+00    |proj g|=  7.90479D-06\n",
      "\n",
      "At iterate   30    f=  4.41783D+00    |proj g|=  5.77316D-06\n",
      "\n",
      "           * * *\n",
      "\n",
      "Tit   = total number of iterations\n",
      "Tnf   = total number of function evaluations\n",
      "Tnint = total number of segments explored during Cauchy searches\n",
      "Skip  = number of BFGS updates skipped\n",
      "Nact  = number of active bounds at final generalized Cauchy point\n",
      "Projg = norm of the final projected gradient\n",
      "F     = final function value\n",
      "\n",
      "           * * *\n",
      "\n",
      "   N    Tit     Tnf  Tnint  Skip  Nact     Projg        F\n",
      "    5     33     60      1     0     0   1.776D-07   4.418D+00\n",
      "  F =   4.4178333638599385     \n",
      "\n",
      "CONVERGENCE: REL_REDUCTION_OF_F_<=_FACTR*EPSMCH             \n",
      "RUNNING THE L-BFGS-B CODE\n",
      "\n",
      "           * * *\n",
      "\n",
      "Machine precision = 2.220D-16\n",
      " N =            5     M =           12\n",
      "\n",
      "At X0         0 variables are exactly at the bounds\n",
      "\n",
      "At iterate    0    f=  4.45613D+00    |proj g|=  1.21778D-02\n"
     ]
    },
    {
     "name": "stderr",
     "output_type": "stream",
     "text": [
      "\n",
      " Warning:  more than 10 function and gradient\n",
      "   evaluations in the last line search.  Termination\n",
      "   may possibly be caused by a bad search direction.\n",
      " This problem is unconstrained.\n"
     ]
    },
    {
     "name": "stdout",
     "output_type": "stream",
     "text": [
      "\n",
      "At iterate    5    f=  4.44998D+00    |proj g|=  2.30429D-03\n",
      "\n",
      "At iterate   10    f=  4.44805D+00    |proj g|=  3.98970D-03\n",
      "\n",
      "At iterate   15    f=  4.44795D+00    |proj g|=  4.33964D-04\n",
      "\n",
      "At iterate   20    f=  4.44794D+00    |proj g|=  8.89955D-05\n",
      "\n",
      "At iterate   25    f=  4.44794D+00    |proj g|=  2.62901D-05\n",
      "\n",
      "At iterate   30    f=  4.44794D+00    |proj g|=  1.15463D-06\n",
      "\n",
      "           * * *\n",
      "\n",
      "Tit   = total number of iterations\n",
      "Tnf   = total number of function evaluations\n",
      "Tnint = total number of segments explored during Cauchy searches\n",
      "Skip  = number of BFGS updates skipped\n",
      "Nact  = number of active bounds at final generalized Cauchy point\n",
      "Projg = norm of the final projected gradient\n",
      "F     = final function value\n",
      "\n",
      "           * * *\n",
      "\n",
      "   N    Tit     Tnf  Tnint  Skip  Nact     Projg        F\n",
      "    5     33     46      1     0     0   1.776D-07   4.448D+00\n",
      "  F =   4.4479351569303098     \n",
      "\n",
      "CONVERGENCE: REL_REDUCTION_OF_F_<=_FACTR*EPSMCH             \n",
      "RUNNING THE L-BFGS-B CODE\n",
      "\n",
      "           * * *\n",
      "\n",
      "Machine precision = 2.220D-16\n",
      " N =            5     M =           12\n",
      "\n",
      "At X0         0 variables are exactly at the bounds\n",
      "\n",
      "At iterate    0    f=  4.47709D+00    |proj g|=  7.62030D-03\n",
      "\n",
      "At iterate    5    f=  4.47244D+00    |proj g|=  5.58487D-03\n",
      "\n",
      "At iterate   10    f=  4.47028D+00    |proj g|=  9.12248D-04\n",
      "\n",
      "At iterate   15    f=  4.47021D+00    |proj g|=  9.55680D-05\n",
      "\n",
      "At iterate   20    f=  4.47021D+00    |proj g|=  2.59348D-05\n"
     ]
    },
    {
     "name": "stderr",
     "output_type": "stream",
     "text": [
      " This problem is unconstrained.\n",
      " This problem is unconstrained.\n"
     ]
    },
    {
     "name": "stdout",
     "output_type": "stream",
     "text": [
      "\n",
      "At iterate   25    f=  4.47021D+00    |proj g|=  1.10134D-05\n",
      "\n",
      "At iterate   30    f=  4.47021D+00    |proj g|=  7.28306D-06\n",
      "\n",
      "At iterate   35    f=  4.47021D+00    |proj g|=  8.88178D-08\n",
      "\n",
      "           * * *\n",
      "\n",
      "Tit   = total number of iterations\n",
      "Tnf   = total number of function evaluations\n",
      "Tnint = total number of segments explored during Cauchy searches\n",
      "Skip  = number of BFGS updates skipped\n",
      "Nact  = number of active bounds at final generalized Cauchy point\n",
      "Projg = norm of the final projected gradient\n",
      "F     = final function value\n",
      "\n",
      "           * * *\n",
      "\n",
      "   N    Tit     Tnf  Tnint  Skip  Nact     Projg        F\n",
      "    5     36     49      1     0     0   1.776D-07   4.470D+00\n",
      "  F =   4.4702067980893752     \n",
      "\n",
      "CONVERGENCE: REL_REDUCTION_OF_F_<=_FACTR*EPSMCH             \n",
      "RUNNING THE L-BFGS-B CODE\n",
      "\n",
      "           * * *\n",
      "\n",
      "Machine precision = 2.220D-16\n",
      " N =            5     M =           12\n",
      "\n",
      "At X0         0 variables are exactly at the bounds\n",
      "\n",
      "At iterate    0    f=  4.47591D+00    |proj g|=  7.09770D-03\n",
      "\n",
      "At iterate    5    f=  4.47165D+00    |proj g|=  4.95479D-03\n",
      "\n",
      "At iterate   10    f=  4.46960D+00    |proj g|=  7.04947D-04\n",
      "\n",
      "At iterate   15    f=  4.46955D+00    |proj g|=  8.49543D-04\n",
      "\n",
      "At iterate   20    f=  4.46954D+00    |proj g|=  2.74447D-05\n",
      "\n",
      "At iterate   25    f=  4.46954D+00    |proj g|=  1.52767D-05\n",
      "\n",
      "At iterate   30    f=  4.46954D+00    |proj g|=  2.64677D-05\n",
      "\n",
      "At iterate   35    f=  4.46954D+00    |proj g|=  1.31450D-05\n",
      "\n",
      "           * * *\n",
      "\n",
      "Tit   = total number of iterations\n",
      "Tnf   = total number of function evaluations\n",
      "Tnint = total number of segments explored during Cauchy searches\n",
      "Skip  = number of BFGS updates skipped\n",
      "Nact  = number of active bounds at final generalized Cauchy point\n",
      "Projg = norm of the final projected gradient\n",
      "F     = final function value\n",
      "\n",
      "           * * *\n",
      "\n",
      "   N    Tit     Tnf  Tnint  Skip  Nact     Projg        F\n",
      "    5     39     49      1     0     0   4.441D-07   4.470D+00\n",
      "  F =   4.4695438537885179     \n",
      "\n",
      "CONVERGENCE: REL_REDUCTION_OF_F_<=_FACTR*EPSMCH             \n",
      "RUNNING THE L-BFGS-B CODE\n",
      "\n",
      "           * * *\n",
      "\n",
      "Machine precision = 2.220D-16\n",
      " N =            5     M =           12\n",
      "\n",
      "At X0         0 variables are exactly at the bounds\n",
      "\n",
      "At iterate    0    f=  4.48408D+00    |proj g|=  9.04077D-03\n",
      "\n",
      "At iterate    5    f=  4.47908D+00    |proj g|=  5.11742D-03\n",
      "\n",
      "At iterate   10    f=  4.47684D+00    |proj g|=  7.37810D-04\n",
      "\n",
      "At iterate   15    f=  4.47678D+00    |proj g|=  3.95151D-04\n",
      "\n",
      "At iterate   20    f=  4.47677D+00    |proj g|=  1.00719D-04\n",
      "\n",
      "At iterate   25    f=  4.47677D+00    |proj g|=  2.16716D-05\n",
      "\n",
      "At iterate   30    f=  4.47677D+00    |proj g|=  1.73195D-05\n",
      "\n",
      "At iterate   35    f=  4.47677D+00    |proj g|=  1.83853D-05\n"
     ]
    },
    {
     "name": "stderr",
     "output_type": "stream",
     "text": [
      " This problem is unconstrained.\n",
      "\n",
      " Warning:  more than 10 function and gradient\n",
      "   evaluations in the last line search.  Termination\n",
      "   may possibly be caused by a bad search direction.\n",
      " This problem is unconstrained.\n"
     ]
    },
    {
     "name": "stdout",
     "output_type": "stream",
     "text": [
      "\n",
      "At iterate   40    f=  4.47677D+00    |proj g|=  1.77636D-06\n",
      "\n",
      "           * * *\n",
      "\n",
      "Tit   = total number of iterations\n",
      "Tnf   = total number of function evaluations\n",
      "Tnint = total number of segments explored during Cauchy searches\n",
      "Skip  = number of BFGS updates skipped\n",
      "Nact  = number of active bounds at final generalized Cauchy point\n",
      "Projg = norm of the final projected gradient\n",
      "F     = final function value\n",
      "\n",
      "           * * *\n",
      "\n",
      "   N    Tit     Tnf  Tnint  Skip  Nact     Projg        F\n",
      "    5     40     63      1     0     0   1.776D-06   4.477D+00\n",
      "  F =   4.4767708954183885     \n",
      "\n",
      "CONVERGENCE: REL_REDUCTION_OF_F_<=_FACTR*EPSMCH             \n",
      "RUNNING THE L-BFGS-B CODE\n",
      "\n",
      "           * * *\n",
      "\n",
      "Machine precision = 2.220D-16\n",
      " N =            5     M =           12\n",
      "\n",
      "At X0         0 variables are exactly at the bounds\n",
      "\n",
      "At iterate    0    f=  4.48558D+00    |proj g|=  1.13810D-02\n",
      "\n",
      "At iterate    5    f=  4.48026D+00    |proj g|=  5.08571D-03\n",
      "\n",
      "At iterate   10    f=  4.47784D+00    |proj g|=  4.87788D-04\n",
      "\n",
      "At iterate   15    f=  4.47776D+00    |proj g|=  3.70282D-04\n",
      "\n",
      "At iterate   20    f=  4.47776D+00    |proj g|=  6.48370D-05\n",
      "\n",
      "At iterate   25    f=  4.47776D+00    |proj g|=  2.13163D-06\n",
      "\n",
      "At iterate   30    f=  4.47776D+00    |proj g|=  8.10907D-05\n",
      "\n",
      "At iterate   35    f=  4.47776D+00    |proj g|=  3.55271D-07\n",
      "\n",
      "           * * *\n",
      "\n",
      "Tit   = total number of iterations\n",
      "Tnf   = total number of function evaluations\n",
      "Tnint = total number of segments explored during Cauchy searches\n",
      "Skip  = number of BFGS updates skipped\n",
      "Nact  = number of active bounds at final generalized Cauchy point\n",
      "Projg = norm of the final projected gradient\n",
      "F     = final function value\n",
      "\n",
      "           * * *\n",
      "\n",
      "   N    Tit     Tnf  Tnint  Skip  Nact     Projg        F\n",
      "    5     37     47      1     0     0   0.000D+00   4.478D+00\n",
      "  F =   4.4777555464908074     \n",
      "\n",
      "CONVERGENCE: NORM_OF_PROJECTED_GRADIENT_<=_PGTOL            \n",
      "RUNNING THE L-BFGS-B CODE\n",
      "\n",
      "           * * *\n",
      "\n",
      "Machine precision = 2.220D-16\n",
      " N =            5     M =           12\n",
      "\n",
      "At X0         0 variables are exactly at the bounds\n",
      "\n",
      "At iterate    0    f=  4.41855D+00    |proj g|=  5.53963D-02\n",
      "\n",
      "At iterate    5    f=  4.41464D+00    |proj g|=  2.40445D-02\n",
      "\n",
      "At iterate   10    f=  4.41046D+00    |proj g|=  1.48379D-03\n",
      "\n",
      "At iterate   15    f=  4.41039D+00    |proj g|=  8.84626D-05\n",
      "\n",
      "At iterate   20    f=  4.41038D+00    |proj g|=  2.38032D-05\n",
      "\n",
      "At iterate   25    f=  4.41038D+00    |proj g|=  1.42109D-06\n",
      "\n",
      "At iterate   30    f=  4.41038D+00    |proj g|=  5.32907D-07\n",
      "\n",
      "           * * *\n",
      "\n",
      "Tit   = total number of iterations\n",
      "Tnf   = total number of function evaluations\n",
      "Tnint = total number of segments explored during Cauchy searches\n",
      "Skip  = number of BFGS updates skipped\n",
      "Nact  = number of active bounds at final generalized Cauchy point\n",
      "Projg = norm of the final projected gradient\n",
      "F     = final function value\n",
      "\n",
      "           * * *\n",
      "\n",
      "   N    Tit     Tnf  Tnint  Skip  Nact     Projg        F\n",
      "    5     34     49      1     0     0   6.217D-07   4.410D+00\n",
      "  F =   4.4103849780792581     \n",
      "\n",
      "CONVERGENCE: REL_REDUCTION_OF_F_<=_FACTR*EPSMCH             \n",
      "RUNNING THE L-BFGS-B CODE\n",
      "\n",
      "           * * *\n",
      "\n",
      "Machine precision = 2.220D-16\n",
      " N =            5     M =           12\n",
      "\n",
      "At X0         0 variables are exactly at the bounds\n",
      "\n",
      "At iterate    0    f=  4.43083D+00    |proj g|=  5.15231D-02\n",
      "\n",
      "At iterate    5    f=  4.42753D+00    |proj g|=  3.23998D-02\n"
     ]
    },
    {
     "name": "stderr",
     "output_type": "stream",
     "text": [
      " This problem is unconstrained.\n",
      " This problem is unconstrained.\n"
     ]
    },
    {
     "name": "stdout",
     "output_type": "stream",
     "text": [
      "\n",
      "At iterate   10    f=  4.42626D+00    |proj g|=  3.56248D-04\n",
      "\n",
      "At iterate   15    f=  4.42625D+00    |proj g|=  1.77636D-07\n",
      "\n",
      "           * * *\n",
      "\n",
      "Tit   = total number of iterations\n",
      "Tnf   = total number of function evaluations\n",
      "Tnint = total number of segments explored during Cauchy searches\n",
      "Skip  = number of BFGS updates skipped\n",
      "Nact  = number of active bounds at final generalized Cauchy point\n",
      "Projg = norm of the final projected gradient\n",
      "F     = final function value\n",
      "\n",
      "           * * *\n",
      "\n",
      "   N    Tit     Tnf  Tnint  Skip  Nact     Projg        F\n",
      "    5     17     22      1     0     0   8.882D-08   4.426D+00\n",
      "  F =   4.4262540147345506     \n",
      "\n",
      "CONVERGENCE: REL_REDUCTION_OF_F_<=_FACTR*EPSMCH             \n",
      "RUNNING THE L-BFGS-B CODE\n",
      "\n",
      "           * * *\n",
      "\n",
      "Machine precision = 2.220D-16\n",
      " N =            5     M =           12\n",
      "\n",
      "At X0         0 variables are exactly at the bounds\n",
      "\n",
      "At iterate    0    f=  4.42620D+00    |proj g|=  5.18269D-02\n",
      "\n",
      "At iterate    5    f=  4.42293D+00    |proj g|=  3.10966D-02\n",
      "\n",
      "At iterate   10    f=  4.42160D+00    |proj g|=  2.15739D-04\n",
      "\n",
      "At iterate   15    f=  4.42160D+00    |proj g|=  4.44089D-07\n",
      "\n",
      "           * * *\n",
      "\n",
      "Tit   = total number of iterations\n",
      "Tnf   = total number of function evaluations\n",
      "Tnint = total number of segments explored during Cauchy searches\n",
      "Skip  = number of BFGS updates skipped\n",
      "Nact  = number of active bounds at final generalized Cauchy point\n",
      "Projg = norm of the final projected gradient\n",
      "F     = final function value\n",
      "\n",
      "           * * *\n",
      "\n",
      "   N    Tit     Tnf  Tnint  Skip  Nact     Projg        F\n",
      "    5     16     19      1     0     0   3.553D-07   4.422D+00\n",
      "  F =   4.4215995948812754     \n",
      "\n",
      "CONVERGENCE: REL_REDUCTION_OF_F_<=_FACTR*EPSMCH             \n",
      "RUNNING THE L-BFGS-B CODE\n",
      "\n",
      "           * * *\n",
      "\n",
      "Machine precision = 2.220D-16\n",
      " N =            5     M =           12\n",
      "\n",
      "At X0         0 variables are exactly at the bounds\n",
      "\n",
      "At iterate    0    f=  4.50213D+00    |proj g|=  1.87772D-02\n"
     ]
    },
    {
     "name": "stderr",
     "output_type": "stream",
     "text": [
      " This problem is unconstrained.\n",
      " This problem is unconstrained.\n"
     ]
    },
    {
     "name": "stdout",
     "output_type": "stream",
     "text": [
      "\n",
      "At iterate    5    f=  4.49626D+00    |proj g|=  6.20926D-03\n",
      "\n",
      "At iterate   10    f=  4.49437D+00    |proj g|=  2.45892D-03\n",
      "\n",
      "At iterate   15    f=  4.49420D+00    |proj g|=  7.42695D-04\n",
      "\n",
      "At iterate   20    f=  4.49418D+00    |proj g|=  1.10667D-04\n",
      "\n",
      "At iterate   25    f=  4.49418D+00    |proj g|=  1.44773D-05\n",
      "\n",
      "At iterate   30    f=  4.49418D+00    |proj g|=  4.44089D-07\n",
      "\n",
      "           * * *\n",
      "\n",
      "Tit   = total number of iterations\n",
      "Tnf   = total number of function evaluations\n",
      "Tnint = total number of segments explored during Cauchy searches\n",
      "Skip  = number of BFGS updates skipped\n",
      "Nact  = number of active bounds at final generalized Cauchy point\n",
      "Projg = norm of the final projected gradient\n",
      "F     = final function value\n",
      "\n",
      "           * * *\n",
      "\n",
      "   N    Tit     Tnf  Tnint  Skip  Nact     Projg        F\n",
      "    5     34     45      1     0     0   8.882D-08   4.494D+00\n",
      "  F =   4.4941797544715998     \n",
      "\n",
      "CONVERGENCE: REL_REDUCTION_OF_F_<=_FACTR*EPSMCH             \n",
      "RUNNING THE L-BFGS-B CODE\n",
      "\n",
      "           * * *\n",
      "\n",
      "Machine precision = 2.220D-16\n",
      " N =            5     M =           12\n",
      "\n",
      "At X0         0 variables are exactly at the bounds\n",
      "\n",
      "At iterate    0    f=  4.50382D+00    |proj g|=  1.64442D-02\n",
      "\n",
      "At iterate    5    f=  4.49814D+00    |proj g|=  3.90310D-03\n",
      "\n",
      "At iterate   10    f=  4.49626D+00    |proj g|=  6.20535D-03\n",
      "\n",
      "At iterate   15    f=  4.49586D+00    |proj g|=  7.33102D-04\n"
     ]
    },
    {
     "name": "stderr",
     "output_type": "stream",
     "text": [
      " This problem is unconstrained.\n",
      " This problem is unconstrained.\n"
     ]
    },
    {
     "name": "stdout",
     "output_type": "stream",
     "text": [
      "\n",
      "At iterate   20    f=  4.49583D+00    |proj g|=  1.14220D-04\n",
      "\n",
      "At iterate   25    f=  4.49583D+00    |proj g|=  2.02505D-05\n",
      "\n",
      "At iterate   30    f=  4.49583D+00    |proj g|=  3.55271D-06\n",
      "\n",
      "           * * *\n",
      "\n",
      "Tit   = total number of iterations\n",
      "Tnf   = total number of function evaluations\n",
      "Tnint = total number of segments explored during Cauchy searches\n",
      "Skip  = number of BFGS updates skipped\n",
      "Nact  = number of active bounds at final generalized Cauchy point\n",
      "Projg = norm of the final projected gradient\n",
      "F     = final function value\n",
      "\n",
      "           * * *\n",
      "\n",
      "   N    Tit     Tnf  Tnint  Skip  Nact     Projg        F\n",
      "    5     33     41      1     0     0   1.599D-06   4.496D+00\n",
      "  F =   4.4958288254077221     \n",
      "\n",
      "CONVERGENCE: REL_REDUCTION_OF_F_<=_FACTR*EPSMCH             \n",
      "RUNNING THE L-BFGS-B CODE\n",
      "\n",
      "           * * *\n",
      "\n",
      "Machine precision = 2.220D-16\n",
      " N =            5     M =           12\n",
      "\n",
      "At X0         0 variables are exactly at the bounds\n",
      "\n",
      "At iterate    0    f=  4.50807D+00    |proj g|=  2.04551D-02\n",
      "\n",
      "At iterate    5    f=  4.50195D+00    |proj g|=  3.04876D-03\n",
      "\n",
      "At iterate   10    f=  4.50051D+00    |proj g|=  5.35110D-03\n",
      "\n",
      "At iterate   15    f=  4.50037D+00    |proj g|=  1.20890D-03\n",
      "\n",
      "At iterate   20    f=  4.50035D+00    |proj g|=  6.13731D-05\n",
      "\n",
      "At iterate   25    f=  4.50035D+00    |proj g|=  1.66089D-05\n",
      "\n",
      "At iterate   30    f=  4.50035D+00    |proj g|=  3.55271D-07\n",
      "\n",
      "           * * *\n",
      "\n",
      "Tit   = total number of iterations\n",
      "Tnf   = total number of function evaluations\n",
      "Tnint = total number of segments explored during Cauchy searches\n",
      "Skip  = number of BFGS updates skipped\n",
      "Nact  = number of active bounds at final generalized Cauchy point\n",
      "Projg = norm of the final projected gradient\n",
      "F     = final function value\n",
      "\n",
      "           * * *\n",
      "\n",
      "   N    Tit     Tnf  Tnint  Skip  Nact     Projg        F\n",
      "    5     32     50      1     0     0   8.882D-07   4.500D+00\n",
      "  F =   4.5003507521876376     \n",
      "\n",
      "CONVERGENCE: REL_REDUCTION_OF_F_<=_FACTR*EPSMCH             \n",
      "RUNNING THE L-BFGS-B CODE\n",
      "\n",
      "           * * *\n",
      "\n",
      "Machine precision = 2.220D-16\n",
      " N =            5     M =           12\n",
      "\n",
      "At X0         0 variables are exactly at the bounds\n",
      "\n",
      "At iterate    0    f=  4.50842D+00    |proj g|=  1.81467D-02\n",
      "\n",
      "At iterate    5    f=  4.50216D+00    |proj g|=  4.05347D-03\n",
      "\n",
      "At iterate   10    f=  4.50064D+00    |proj g|=  2.44933D-03\n",
      "\n",
      "At iterate   15    f=  4.50048D+00    |proj g|=  1.10045D-04\n",
      "\n",
      "At iterate   20    f=  4.50047D+00    |proj g|=  2.89546D-05\n",
      "\n",
      "At iterate   25    f=  4.50047D+00    |proj g|=  9.85878D-06\n",
      "\n",
      "At iterate   30    f=  4.50047D+00    |proj g|=  4.13003D-05\n",
      "\n",
      "At iterate   35    f=  4.50047D+00    |proj g|=  3.55271D-07\n",
      "\n",
      "           * * *\n",
      "\n",
      "Tit   = total number of iterations\n",
      "Tnf   = total number of function evaluations\n",
      "Tnint = total number of segments explored during Cauchy searches\n",
      "Skip  = number of BFGS updates skipped\n",
      "Nact  = number of active bounds at final generalized Cauchy point\n",
      "Projg = norm of the final projected gradient\n",
      "F     = final function value\n",
      "\n",
      "           * * *\n",
      "\n",
      "   N    Tit     Tnf  Tnint  Skip  Nact     Projg        F\n",
      "    5     39     51      1     0     0   1.776D-07   4.500D+00\n",
      "  F =   4.5004689497013217     \n",
      "\n",
      "CONVERGENCE: REL_REDUCTION_OF_F_<=_FACTR*EPSMCH             \n"
     ]
    },
    {
     "name": "stderr",
     "output_type": "stream",
     "text": [
      "\n",
      " Warning:  more than 10 function and gradient\n",
      "   evaluations in the last line search.  Termination\n",
      "   may possibly be caused by a bad search direction.\n",
      " This problem is unconstrained.\n",
      " This problem is unconstrained.\n",
      "\n",
      " Warning:  more than 10 function and gradient\n",
      "   evaluations in the last line search.  Termination\n",
      "   may possibly be caused by a bad search direction.\n",
      " This problem is unconstrained.\n"
     ]
    },
    {
     "name": "stdout",
     "output_type": "stream",
     "text": [
      "RUNNING THE L-BFGS-B CODE\n",
      "\n",
      "           * * *\n",
      "\n",
      "Machine precision = 2.220D-16\n",
      " N =            5     M =           12\n",
      "\n",
      "At X0         0 variables are exactly at the bounds\n",
      "\n",
      "At iterate    0    f=  4.52505D+00    |proj g|=  1.41542D-02\n",
      "\n",
      "At iterate    5    f=  4.51956D+00    |proj g|=  4.12399D-03\n",
      "\n",
      "At iterate   10    f=  4.51755D+00    |proj g|=  6.81233D-03\n",
      "\n",
      "At iterate   15    f=  4.51724D+00    |proj g|=  7.09743D-04\n",
      "\n",
      "At iterate   20    f=  4.51722D+00    |proj g|=  1.67866D-04\n",
      "\n",
      "At iterate   25    f=  4.51722D+00    |proj g|=  7.10543D-05\n",
      "\n",
      "           * * *\n",
      "\n",
      "Tit   = total number of iterations\n",
      "Tnf   = total number of function evaluations\n",
      "Tnint = total number of segments explored during Cauchy searches\n",
      "Skip  = number of BFGS updates skipped\n",
      "Nact  = number of active bounds at final generalized Cauchy point\n",
      "Projg = norm of the final projected gradient\n",
      "F     = final function value\n",
      "\n",
      "           * * *\n",
      "\n",
      "   N    Tit     Tnf  Tnint  Skip  Nact     Projg        F\n",
      "    5     27     43      1     0     0   5.507D-06   4.517D+00\n",
      "  F =   4.5172200002466880     \n",
      "\n",
      "CONVERGENCE: REL_REDUCTION_OF_F_<=_FACTR*EPSMCH             \n",
      "RUNNING THE L-BFGS-B CODE\n",
      "\n",
      "           * * *\n",
      "\n",
      "Machine precision = 2.220D-16\n",
      " N =            5     M =           12\n",
      "\n",
      "At X0         0 variables are exactly at the bounds\n",
      "\n",
      "At iterate    0    f=  4.54748D+00    |proj g|=  1.02665D-02\n",
      "\n",
      "At iterate    5    f=  4.54211D+00    |proj g|=  2.09956D-03\n",
      "\n",
      "At iterate   10    f=  4.54035D+00    |proj g|=  5.65770D-04\n",
      "\n",
      "At iterate   15    f=  4.54032D+00    |proj g|=  1.23901D-04\n",
      "\n",
      "At iterate   20    f=  4.54032D+00    |proj g|=  2.84217D-05\n",
      "\n",
      "At iterate   25    f=  4.54032D+00    |proj g|=  1.59872D-06\n",
      "\n",
      "           * * *\n",
      "\n",
      "Tit   = total number of iterations\n",
      "Tnf   = total number of function evaluations\n",
      "Tnint = total number of segments explored during Cauchy searches\n",
      "Skip  = number of BFGS updates skipped\n",
      "Nact  = number of active bounds at final generalized Cauchy point\n",
      "Projg = norm of the final projected gradient\n",
      "F     = final function value\n",
      "\n",
      "           * * *\n",
      "\n",
      "   N    Tit     Tnf  Tnint  Skip  Nact     Projg        F\n",
      "    5     27     34      1     0     0   1.243D-06   4.540D+00\n",
      "  F =   4.5403206613530109     \n",
      "\n",
      "CONVERGENCE: REL_REDUCTION_OF_F_<=_FACTR*EPSMCH             \n",
      "RUNNING THE L-BFGS-B CODE\n",
      "\n",
      "           * * *\n",
      "\n",
      "Machine precision = 2.220D-16\n",
      " N =            5     M =           12\n",
      "\n",
      "At X0         0 variables are exactly at the bounds\n",
      "\n",
      "At iterate    0    f=  4.54782D+00    |proj g|=  8.62714D-03\n",
      "\n",
      "At iterate    5    f=  4.54293D+00    |proj g|=  2.42020D-03\n",
      "\n",
      "At iterate   10    f=  4.54108D+00    |proj g|=  4.58744D-04\n",
      "\n",
      "At iterate   15    f=  4.54103D+00    |proj g|=  8.91731D-05\n",
      "\n",
      "At iterate   20    f=  4.54103D+00    |proj g|=  4.94715D-05\n",
      "\n",
      "At iterate   25    f=  4.54103D+00    |proj g|=  2.48690D-05\n"
     ]
    },
    {
     "name": "stderr",
     "output_type": "stream",
     "text": [
      " This problem is unconstrained.\n"
     ]
    },
    {
     "name": "stdout",
     "output_type": "stream",
     "text": [
      "\n",
      "At iterate   30    f=  4.54103D+00    |proj g|=  6.12843D-06\n",
      "\n",
      "At iterate   35    f=  4.54103D+00    |proj g|=  2.66454D-07\n",
      "\n",
      "           * * *\n",
      "\n",
      "Tit   = total number of iterations\n",
      "Tnf   = total number of function evaluations\n",
      "Tnint = total number of segments explored during Cauchy searches\n",
      "Skip  = number of BFGS updates skipped\n",
      "Nact  = number of active bounds at final generalized Cauchy point\n",
      "Projg = norm of the final projected gradient\n",
      "F     = final function value\n",
      "\n",
      "           * * *\n",
      "\n",
      "   N    Tit     Tnf  Tnint  Skip  Nact     Projg        F\n",
      "    5     38     49      1     0     0   8.882D-08   4.541D+00\n",
      "  F =   4.5410303201612621     \n",
      "\n",
      "CONVERGENCE: REL_REDUCTION_OF_F_<=_FACTR*EPSMCH             \n",
      "RUNNING THE L-BFGS-B CODE\n",
      "\n",
      "           * * *\n",
      "\n",
      "Machine precision = 2.220D-16\n",
      " N =            5     M =           12\n",
      "\n",
      "At X0         0 variables are exactly at the bounds\n",
      "\n",
      "At iterate    0    f=  4.52083D+00    |proj g|=  6.42161D-02\n",
      "\n",
      "At iterate    5    f=  4.51718D+00    |proj g|=  2.33277D-02\n",
      "\n",
      "At iterate   10    f=  4.51514D+00    |proj g|=  1.81055D-03\n",
      "\n",
      "At iterate   15    f=  4.51497D+00    |proj g|=  6.50413D-04\n",
      "\n",
      "At iterate   20    f=  4.51495D+00    |proj g|=  3.47189D-04\n",
      "\n",
      "At iterate   25    f=  4.51495D+00    |proj g|=  1.44773D-05\n",
      "\n",
      "           * * *\n",
      "\n",
      "Tit   = total number of iterations\n",
      "Tnf   = total number of function evaluations\n",
      "Tnint = total number of segments explored during Cauchy searches\n",
      "Skip  = number of BFGS updates skipped\n",
      "Nact  = number of active bounds at final generalized Cauchy point\n",
      "Projg = norm of the final projected gradient\n",
      "F     = final function value\n",
      "\n",
      "           * * *\n",
      "\n",
      "   N    Tit     Tnf  Tnint  Skip  Nact     Projg        F\n",
      "    5     29     38      1     0     0   6.217D-07   4.515D+00\n",
      "  F =   4.5149481430822203     \n",
      "\n",
      "CONVERGENCE: REL_REDUCTION_OF_F_<=_FACTR*EPSMCH             \n"
     ]
    },
    {
     "name": "stderr",
     "output_type": "stream",
     "text": [
      " This problem is unconstrained.\n",
      " This problem is unconstrained.\n"
     ]
    },
    {
     "name": "stdout",
     "output_type": "stream",
     "text": [
      "RUNNING THE L-BFGS-B CODE\n",
      "\n",
      "           * * *\n",
      "\n",
      "Machine precision = 2.220D-16\n",
      " N =            5     M =           12\n",
      "\n",
      "At X0         0 variables are exactly at the bounds\n",
      "\n",
      "At iterate    0    f=  4.57705D+00    |proj g|=  1.38213D-02\n",
      "\n",
      "At iterate    5    f=  4.57209D+00    |proj g|=  3.97646D-03\n",
      "\n",
      "At iterate   10    f=  4.56978D+00    |proj g|=  2.34825D-03\n",
      "\n",
      "At iterate   15    f=  4.56966D+00    |proj g|=  3.65663D-04\n",
      "\n",
      "At iterate   20    f=  4.56965D+00    |proj g|=  1.70530D-05\n",
      "\n",
      "At iterate   25    f=  4.56965D+00    |proj g|=  2.67342D-05\n",
      "\n",
      "At iterate   30    f=  4.56965D+00    |proj g|=  1.59872D-06\n",
      "\n",
      "At iterate   35    f=  4.56965D+00    |proj g|=  8.88178D-08\n",
      "\n",
      "           * * *\n",
      "\n",
      "Tit   = total number of iterations\n",
      "Tnf   = total number of function evaluations\n",
      "Tnint = total number of segments explored during Cauchy searches\n",
      "Skip  = number of BFGS updates skipped\n",
      "Nact  = number of active bounds at final generalized Cauchy point\n",
      "Projg = norm of the final projected gradient\n",
      "F     = final function value\n",
      "\n",
      "           * * *\n",
      "\n",
      "   N    Tit     Tnf  Tnint  Skip  Nact     Projg        F\n",
      "    5     35     62      2     0     0   8.882D-08   4.570D+00\n",
      "  F =   4.5696533120284526     \n",
      "\n",
      "CONVERGENCE: REL_REDUCTION_OF_F_<=_FACTR*EPSMCH             \n"
     ]
    },
    {
     "name": "stderr",
     "output_type": "stream",
     "text": [
      "\n",
      " Bad direction in the line search;\n",
      "   refresh the lbfgs memory and restart the iteration.\n",
      " This problem is unconstrained.\n"
     ]
    },
    {
     "name": "stdout",
     "output_type": "stream",
     "text": [
      "RUNNING THE L-BFGS-B CODE\n",
      "\n",
      "           * * *\n",
      "\n",
      "Machine precision = 2.220D-16\n",
      " N =            5     M =           12\n",
      "\n",
      "At X0         0 variables are exactly at the bounds\n",
      "\n",
      "At iterate    0    f=  4.51540D+00    |proj g|=  6.21599D-02\n",
      "\n",
      "At iterate    5    f=  4.51226D+00    |proj g|=  1.48632D-02\n",
      "\n",
      "At iterate   10    f=  4.51030D+00    |proj g|=  9.76996D-04\n",
      "\n",
      "At iterate   15    f=  4.51028D+00    |proj g|=  4.44089D-07\n",
      "\n",
      "           * * *\n",
      "\n",
      "Tit   = total number of iterations\n",
      "Tnf   = total number of function evaluations\n",
      "Tnint = total number of segments explored during Cauchy searches\n",
      "Skip  = number of BFGS updates skipped\n",
      "Nact  = number of active bounds at final generalized Cauchy point\n",
      "Projg = norm of the final projected gradient\n",
      "F     = final function value\n",
      "\n",
      "           * * *\n",
      "\n",
      "   N    Tit     Tnf  Tnint  Skip  Nact     Projg        F\n",
      "    5     17     23      1     0     0   7.105D-07   4.510D+00\n",
      "  F =   4.5102755695077503     \n",
      "\n",
      "CONVERGENCE: REL_REDUCTION_OF_F_<=_FACTR*EPSMCH             \n",
      "RUNNING THE L-BFGS-B CODE\n",
      "\n",
      "           * * *\n",
      "\n",
      "Machine precision = 2.220D-16\n",
      " N =            5     M =           12\n",
      "\n",
      "At X0         0 variables are exactly at the bounds\n",
      "\n",
      "At iterate    0    f=  4.52170D+00    |proj g|=  6.01311D-02\n",
      "\n",
      "At iterate    5    f=  4.51850D+00    |proj g|=  2.95409D-02\n",
      "\n",
      "At iterate   10    f=  4.51728D+00    |proj g|=  2.34257D-03\n",
      "\n",
      "At iterate   15    f=  4.51693D+00    |proj g|=  1.02585D-04\n",
      "\n",
      "At iterate   20    f=  4.51693D+00    |proj g|=  4.26326D-06\n",
      "\n",
      "           * * *\n",
      "\n",
      "Tit   = total number of iterations\n",
      "Tnf   = total number of function evaluations\n",
      "Tnint = total number of segments explored during Cauchy searches\n",
      "Skip  = number of BFGS updates skipped\n",
      "Nact  = number of active bounds at final generalized Cauchy point\n",
      "Projg = norm of the final projected gradient\n",
      "F     = final function value\n",
      "\n",
      "           * * *\n",
      "\n",
      "   N    Tit     Tnf  Tnint  Skip  Nact     Projg        F\n",
      "    5     24     32      1     0     0   7.994D-07   4.517D+00\n",
      "  F =   4.5169277534227446     \n",
      "\n",
      "CONVERGENCE: REL_REDUCTION_OF_F_<=_FACTR*EPSMCH             \n",
      "RUNNING THE L-BFGS-B CODE\n",
      "\n",
      "           * * *\n",
      "\n",
      "Machine precision = 2.220D-16\n",
      " N =            5     M =           12\n",
      "\n",
      "At X0         0 variables are exactly at the bounds\n",
      "\n",
      "At iterate    0    f=  4.51969D+00    |proj g|=  5.63244D-02\n",
      "\n",
      "At iterate    5    f=  4.51659D+00    |proj g|=  3.24960D-02\n",
      "\n",
      "At iterate   10    f=  4.51562D+00    |proj g|=  6.18439D-03\n",
      "\n",
      "At iterate   15    f=  4.51515D+00    |proj g|=  2.61204D-03\n",
      "\n",
      "At iterate   20    f=  4.51510D+00    |proj g|=  1.09246D-05\n",
      "\n",
      "At iterate   25    f=  4.51510D+00    |proj g|=  2.04281D-06\n",
      "\n",
      "At iterate   30    f=  4.51510D+00    |proj g|=  2.04281D-06\n",
      "\n",
      "           * * *\n",
      "\n",
      "Tit   = total number of iterations\n",
      "Tnf   = total number of function evaluations\n",
      "Tnint = total number of segments explored during Cauchy searches\n",
      "Skip  = number of BFGS updates skipped\n",
      "Nact  = number of active bounds at final generalized Cauchy point\n",
      "Projg = norm of the final projected gradient\n",
      "F     = final function value\n",
      "\n",
      "           * * *\n",
      "\n",
      "   N    Tit     Tnf  Tnint  Skip  Nact     Projg        F\n",
      "    5     32     46      1     0     0   4.441D-07   4.515D+00\n",
      "  F =   4.5150951916539164     \n",
      "\n",
      "CONVERGENCE: REL_REDUCTION_OF_F_<=_FACTR*EPSMCH             \n",
      "RUNNING THE L-BFGS-B CODE\n",
      "\n",
      "           * * *\n",
      "\n",
      "Machine precision = 2.220D-16\n",
      " N =            5     M =           12\n",
      "\n",
      "At X0         0 variables are exactly at the bounds\n",
      "\n",
      "At iterate    0    f=  4.52483D+00    |proj g|=  6.20916D-02\n",
      "\n",
      "At iterate    5    f=  4.52141D+00    |proj g|=  2.72484D-02\n",
      "\n",
      "At iterate   10    f=  4.52021D+00    |proj g|=  2.85523D-03\n"
     ]
    },
    {
     "name": "stderr",
     "output_type": "stream",
     "text": [
      " This problem is unconstrained.\n",
      " This problem is unconstrained.\n",
      " This problem is unconstrained.\n"
     ]
    },
    {
     "name": "stdout",
     "output_type": "stream",
     "text": [
      "\n",
      "At iterate   15    f=  4.51985D+00    |proj g|=  6.37268D-04\n",
      "\n",
      "At iterate   20    f=  4.51984D+00    |proj g|=  9.53015D-05\n",
      "\n",
      "At iterate   25    f=  4.51984D+00    |proj g|=  6.21725D-07\n",
      "\n",
      "           * * *\n",
      "\n",
      "Tit   = total number of iterations\n",
      "Tnf   = total number of function evaluations\n",
      "Tnint = total number of segments explored during Cauchy searches\n",
      "Skip  = number of BFGS updates skipped\n",
      "Nact  = number of active bounds at final generalized Cauchy point\n",
      "Projg = norm of the final projected gradient\n",
      "F     = final function value\n",
      "\n",
      "           * * *\n",
      "\n",
      "   N    Tit     Tnf  Tnint  Skip  Nact     Projg        F\n",
      "    5     29     44      1     0     0   1.954D-06   4.520D+00\n",
      "  F =   4.5198441019980446     \n",
      "\n",
      "CONVERGENCE: REL_REDUCTION_OF_F_<=_FACTR*EPSMCH             \n",
      "RUNNING THE L-BFGS-B CODE\n",
      "\n",
      "           * * *\n",
      "\n",
      "Machine precision = 2.220D-16\n",
      " N =            5     M =           12\n",
      "\n",
      "At X0         0 variables are exactly at the bounds\n",
      "\n",
      "At iterate    0    f=  4.53195D+00    |proj g|=  5.70025D-02\n",
      "\n",
      "At iterate    5    f=  4.52884D+00    |proj g|=  3.26989D-02\n",
      "\n",
      "At iterate   10    f=  4.52793D+00    |proj g|=  5.50173D-03\n",
      "\n",
      "At iterate   15    f=  4.52741D+00    |proj g|=  2.18900D-03\n",
      "\n",
      "At iterate   20    f=  4.52740D+00    |proj g|=  2.64677D-05\n",
      "\n",
      "At iterate   25    f=  4.52740D+00    |proj g|=  7.99361D-07\n"
     ]
    },
    {
     "name": "stderr",
     "output_type": "stream",
     "text": [
      " This problem is unconstrained.\n",
      "\n",
      " Bad direction in the line search;\n",
      "   refresh the lbfgs memory and restart the iteration.\n",
      "\n",
      " Line search cannot locate an adequate point after MAXLS\n",
      "  function and gradient evaluations.\n",
      "  Previous x, f and g restored.\n",
      " Possible causes: 1 error in function or gradient evaluation;\n",
      "                  2 rounding error dominate computation.\n",
      "/Users/lilakelland/opt/anaconda3/lib/python3.8/site-packages/statsmodels/base/model.py:566: ConvergenceWarning: Maximum Likelihood optimization failed to converge. Check mle_retvals\n",
      "  warnings.warn(\"Maximum Likelihood optimization failed to \"\n"
     ]
    },
    {
     "name": "stdout",
     "output_type": "stream",
     "text": [
      "\n",
      "           * * *\n",
      "\n",
      "Tit   = total number of iterations\n",
      "Tnf   = total number of function evaluations\n",
      "Tnint = total number of segments explored during Cauchy searches\n",
      "Skip  = number of BFGS updates skipped\n",
      "Nact  = number of active bounds at final generalized Cauchy point\n",
      "Projg = norm of the final projected gradient\n",
      "F     = final function value\n",
      "\n",
      "           * * *\n",
      "\n",
      "   N    Tit     Tnf  Tnint  Skip  Nact     Projg        F\n",
      "    5     27     76      2     0     0   4.441D-07   4.527D+00\n",
      "  F =   4.5274023082191404     \n",
      "\n",
      "ABNORMAL_TERMINATION_IN_LNSRCH                              \n",
      "RUNNING THE L-BFGS-B CODE\n",
      "\n",
      "           * * *\n",
      "\n",
      "Machine precision = 2.220D-16\n",
      " N =            5     M =           12\n",
      "\n",
      "At X0         0 variables are exactly at the bounds\n",
      "\n",
      "At iterate    0    f=  4.53644D+00    |proj g|=  6.15665D-02\n",
      "\n",
      "At iterate    5    f=  4.53293D+00    |proj g|=  2.99544D-02\n",
      "\n",
      "At iterate   10    f=  4.53197D+00    |proj g|=  5.24256D-03\n",
      "\n",
      "At iterate   15    f=  4.53139D+00    |proj g|=  2.09974D-03\n",
      "\n",
      "At iterate   20    f=  4.53134D+00    |proj g|=  5.06262D-05\n",
      "\n",
      "At iterate   25    f=  4.53134D+00    |proj g|=  3.90799D-06\n",
      "\n",
      "At iterate   30    f=  4.53134D+00    |proj g|=  1.24345D-06\n",
      "\n",
      "           * * *\n",
      "\n",
      "Tit   = total number of iterations\n",
      "Tnf   = total number of function evaluations\n",
      "Tnint = total number of segments explored during Cauchy searches\n",
      "Skip  = number of BFGS updates skipped\n",
      "Nact  = number of active bounds at final generalized Cauchy point\n",
      "Projg = norm of the final projected gradient\n",
      "F     = final function value\n",
      "\n",
      "           * * *\n",
      "\n",
      "   N    Tit     Tnf  Tnint  Skip  Nact     Projg        F\n",
      "    5     33     43      1     0     0   5.329D-07   4.531D+00\n",
      "  F =   4.5313421416156290     \n",
      "\n",
      "CONVERGENCE: REL_REDUCTION_OF_F_<=_FACTR*EPSMCH             \n"
     ]
    },
    {
     "name": "stderr",
     "output_type": "stream",
     "text": [
      " This problem is unconstrained.\n",
      " This problem is unconstrained.\n"
     ]
    },
    {
     "name": "stdout",
     "output_type": "stream",
     "text": [
      "RUNNING THE L-BFGS-B CODE\n",
      "\n",
      "           * * *\n",
      "\n",
      "Machine precision = 2.220D-16\n",
      " N =            5     M =           12\n",
      "\n",
      "At X0         0 variables are exactly at the bounds\n",
      "\n",
      "At iterate    0    f=  4.53227D+00    |proj g|=  6.14357D-02\n",
      "\n",
      "At iterate    5    f=  4.52882D+00    |proj g|=  2.99817D-02\n",
      "\n",
      "At iterate   10    f=  4.52786D+00    |proj g|=  4.71259D-03\n",
      "\n",
      "At iterate   15    f=  4.52729D+00    |proj g|=  1.42784D-03\n",
      "\n",
      "At iterate   20    f=  4.52721D+00    |proj g|=  3.31468D-04\n",
      "\n",
      "At iterate   25    f=  4.52721D+00    |proj g|=  1.77636D-06\n",
      "\n",
      "At iterate   30    f=  4.52721D+00    |proj g|=  9.76996D-07\n",
      "  ys=-1.519E-12  -gs= 1.510E-13 BFGS update SKIPPED\n",
      "\n",
      "At iterate   35    f=  4.52721D+00    |proj g|=  7.10543D-07\n",
      "\n",
      "           * * *\n",
      "\n",
      "Tit   = total number of iterations\n",
      "Tnf   = total number of function evaluations\n",
      "Tnint = total number of segments explored during Cauchy searches\n",
      "Skip  = number of BFGS updates skipped\n",
      "Nact  = number of active bounds at final generalized Cauchy point\n",
      "Projg = norm of the final projected gradient\n",
      "F     = final function value\n",
      "\n",
      "           * * *\n",
      "\n",
      "   N    Tit     Tnf  Tnint  Skip  Nact     Projg        F\n",
      "    5     37     61      1     1     0   2.132D-06   4.527D+00\n",
      "  F =   4.5272085431885385     \n",
      "\n",
      "CONVERGENCE: REL_REDUCTION_OF_F_<=_FACTR*EPSMCH             \n"
     ]
    },
    {
     "name": "stderr",
     "output_type": "stream",
     "text": [
      " This problem is unconstrained.\n",
      " This problem is unconstrained.\n"
     ]
    },
    {
     "name": "stdout",
     "output_type": "stream",
     "text": [
      "RUNNING THE L-BFGS-B CODE\n",
      "\n",
      "           * * *\n",
      "\n",
      "Machine precision = 2.220D-16\n",
      " N =            5     M =           12\n",
      "\n",
      "At X0         0 variables are exactly at the bounds\n",
      "\n",
      "At iterate    0    f=  4.54056D+00    |proj g|=  6.05350D-02\n",
      "\n",
      "At iterate    5    f=  4.53732D+00    |proj g|=  3.20473D-02\n",
      "\n",
      "At iterate   10    f=  4.53633D+00    |proj g|=  2.09726D-03\n",
      "\n",
      "At iterate   15    f=  4.53594D+00    |proj g|=  1.55786D-03\n",
      "\n",
      "At iterate   20    f=  4.53592D+00    |proj g|=  6.37712D-05\n",
      "\n",
      "At iterate   25    f=  4.53592D+00    |proj g|=  4.44089D-07\n",
      "  ys=-1.225E-11  -gs= 4.998E-12 BFGS update SKIPPED\n",
      "\n",
      "           * * *\n",
      "\n",
      "Tit   = total number of iterations\n",
      "Tnf   = total number of function evaluations\n",
      "Tnint = total number of segments explored during Cauchy searches\n",
      "Skip  = number of BFGS updates skipped\n",
      "Nact  = number of active bounds at final generalized Cauchy point\n",
      "Projg = norm of the final projected gradient\n",
      "F     = final function value\n",
      "\n",
      "           * * *\n",
      "\n",
      "   N    Tit     Tnf  Tnint  Skip  Nact     Projg        F\n",
      "    5     27     39      1     1     0   6.217D-07   4.536D+00\n",
      "  F =   4.5359160010069370     \n",
      "\n",
      "CONVERGENCE: REL_REDUCTION_OF_F_<=_FACTR*EPSMCH             \n",
      "RUNNING THE L-BFGS-B CODE\n",
      "\n",
      "           * * *\n",
      "\n",
      "Machine precision = 2.220D-16\n",
      " N =            5     M =           12\n",
      "\n",
      "At X0         0 variables are exactly at the bounds\n",
      "\n",
      "At iterate    0    f=  4.58666D+00    |proj g|=  5.23940D-02\n",
      "\n",
      "At iterate    5    f=  4.58405D+00    |proj g|=  2.25215D-02\n",
      "\n",
      "At iterate   10    f=  4.58224D+00    |proj g|=  4.39737D-04\n",
      "\n",
      "At iterate   15    f=  4.58223D+00    |proj g|=  3.89910D-05\n"
     ]
    },
    {
     "name": "stderr",
     "output_type": "stream",
     "text": [
      "\n",
      " Bad direction in the line search;\n",
      "   refresh the lbfgs memory and restart the iteration.\n",
      "\n",
      " Line search cannot locate an adequate point after MAXLS\n",
      "  function and gradient evaluations.\n",
      "  Previous x, f and g restored.\n",
      " Possible causes: 1 error in function or gradient evaluation;\n",
      "                  2 rounding error dominate computation.\n",
      "/Users/lilakelland/opt/anaconda3/lib/python3.8/site-packages/statsmodels/base/model.py:566: ConvergenceWarning: Maximum Likelihood optimization failed to converge. Check mle_retvals\n",
      "  warnings.warn(\"Maximum Likelihood optimization failed to \"\n",
      " This problem is unconstrained.\n"
     ]
    },
    {
     "name": "stdout",
     "output_type": "stream",
     "text": [
      "\n",
      "           * * *\n",
      "\n",
      "Tit   = total number of iterations\n",
      "Tnf   = total number of function evaluations\n",
      "Tnint = total number of segments explored during Cauchy searches\n",
      "Skip  = number of BFGS updates skipped\n",
      "Nact  = number of active bounds at final generalized Cauchy point\n",
      "Projg = norm of the final projected gradient\n",
      "F     = final function value\n",
      "\n",
      "           * * *\n",
      "\n",
      "   N    Tit     Tnf  Tnint  Skip  Nact     Projg        F\n",
      "    5     19     61      2     0     0   3.197D-06   4.582D+00\n",
      "  F =   4.5822320209196841     \n",
      "\n",
      "ABNORMAL_TERMINATION_IN_LNSRCH                              \n",
      "RUNNING THE L-BFGS-B CODE\n",
      "\n",
      "           * * *\n",
      "\n",
      "Machine precision = 2.220D-16\n",
      " N =            5     M =           12\n",
      "\n",
      "At X0         0 variables are exactly at the bounds\n",
      "\n",
      "At iterate    0    f=  4.59400D+00    |proj g|=  4.01762D-02\n",
      "\n",
      "At iterate    5    f=  4.59019D+00    |proj g|=  6.90941D-03\n",
      "\n",
      "At iterate   10    f=  4.58833D+00    |proj g|=  4.02380D-03\n",
      "\n",
      "At iterate   15    f=  4.58804D+00    |proj g|=  3.64331D-04\n",
      "\n",
      "At iterate   20    f=  4.58802D+00    |proj g|=  6.92868D-04\n",
      "\n",
      "At iterate   25    f=  4.58802D+00    |proj g|=  8.52651D-06\n",
      "\n",
      "At iterate   30    f=  4.58802D+00    |proj g|=  4.61853D-06\n",
      "\n",
      "           * * *\n",
      "\n",
      "Tit   = total number of iterations\n",
      "Tnf   = total number of function evaluations\n",
      "Tnint = total number of segments explored during Cauchy searches\n",
      "Skip  = number of BFGS updates skipped\n",
      "Nact  = number of active bounds at final generalized Cauchy point\n",
      "Projg = norm of the final projected gradient\n",
      "F     = final function value\n",
      "\n",
      "           * * *\n",
      "\n",
      "   N    Tit     Tnf  Tnint  Skip  Nact     Projg        F\n",
      "    5     31     91      2     0     0   4.619D-06   4.588D+00\n",
      "  F =   4.5880189275932217     \n",
      "\n",
      "ABNORMAL_TERMINATION_IN_LNSRCH                              \n",
      "RUNNING THE L-BFGS-B CODE\n",
      "\n",
      "           * * *\n",
      "\n",
      "Machine precision = 2.220D-16\n",
      " N =            5     M =           12\n",
      "\n",
      "At X0         0 variables are exactly at the bounds\n",
      "\n",
      "At iterate    0    f=  4.60350D+00    |proj g|=  5.47430D-02\n",
      "\n",
      "At iterate    5    f=  4.60072D+00    |proj g|=  3.87150D-02\n",
      "\n",
      "At iterate   10    f=  4.59849D+00    |proj g|=  9.02034D-04\n",
      "\n",
      "At iterate   15    f=  4.59843D+00    |proj g|=  7.10543D-07\n"
     ]
    },
    {
     "name": "stderr",
     "output_type": "stream",
     "text": [
      "\n",
      " Bad direction in the line search;\n",
      "   refresh the lbfgs memory and restart the iteration.\n",
      "\n",
      " Line search cannot locate an adequate point after MAXLS\n",
      "  function and gradient evaluations.\n",
      "  Previous x, f and g restored.\n",
      " Possible causes: 1 error in function or gradient evaluation;\n",
      "                  2 rounding error dominate computation.\n",
      "/Users/lilakelland/opt/anaconda3/lib/python3.8/site-packages/statsmodels/base/model.py:566: ConvergenceWarning: Maximum Likelihood optimization failed to converge. Check mle_retvals\n",
      "  warnings.warn(\"Maximum Likelihood optimization failed to \"\n",
      " This problem is unconstrained.\n",
      "\n",
      " Bad direction in the line search;\n",
      "   refresh the lbfgs memory and restart the iteration.\n"
     ]
    },
    {
     "name": "stdout",
     "output_type": "stream",
     "text": [
      "\n",
      "           * * *\n",
      "\n",
      "Tit   = total number of iterations\n",
      "Tnf   = total number of function evaluations\n",
      "Tnint = total number of segments explored during Cauchy searches\n",
      "Skip  = number of BFGS updates skipped\n",
      "Nact  = number of active bounds at final generalized Cauchy point\n",
      "Projg = norm of the final projected gradient\n",
      "F     = final function value\n",
      "\n",
      "           * * *\n",
      "\n",
      "   N    Tit     Tnf  Tnint  Skip  Nact     Projg        F\n",
      "    5     18     51      2     0     0   1.421D-06   4.598D+00\n",
      "  F =   4.5984252862998378     \n",
      "\n",
      "CONVERGENCE: REL_REDUCTION_OF_F_<=_FACTR*EPSMCH             \n",
      "RUNNING THE L-BFGS-B CODE\n",
      "\n",
      "           * * *\n",
      "\n",
      "Machine precision = 2.220D-16\n",
      " N =            5     M =           12\n",
      "\n",
      "At X0         0 variables are exactly at the bounds\n",
      "\n",
      "At iterate    0    f=  4.59912D+00    |proj g|=  5.46257D-02\n",
      "\n",
      "At iterate    5    f=  4.59659D+00    |proj g|=  3.71205D-02\n",
      "\n",
      "At iterate   10    f=  4.59442D+00    |proj g|=  7.75024D-04\n",
      "\n",
      "At iterate   15    f=  4.59438D+00    |proj g|=  8.88178D-07\n",
      "\n",
      "           * * *\n",
      "\n",
      "Tit   = total number of iterations\n",
      "Tnf   = total number of function evaluations\n",
      "Tnint = total number of segments explored during Cauchy searches\n",
      "Skip  = number of BFGS updates skipped\n",
      "Nact  = number of active bounds at final generalized Cauchy point\n",
      "Projg = norm of the final projected gradient\n",
      "F     = final function value\n",
      "\n",
      "           * * *\n",
      "\n",
      "   N    Tit     Tnf  Tnint  Skip  Nact     Projg        F\n",
      "    5     18     27      1     0     0   1.510D-06   4.594D+00\n",
      "  F =   4.5943786073566395     \n",
      "\n",
      "CONVERGENCE: REL_REDUCTION_OF_F_<=_FACTR*EPSMCH             \n",
      "RUNNING THE L-BFGS-B CODE\n",
      "\n",
      "           * * *\n",
      "\n",
      "Machine precision = 2.220D-16\n",
      " N =            5     M =           12\n",
      "\n",
      "At X0         0 variables are exactly at the bounds\n",
      "\n",
      "At iterate    0    f=  4.59502D+00    |proj g|=  5.50185D-02\n"
     ]
    },
    {
     "name": "stderr",
     "output_type": "stream",
     "text": [
      " This problem is unconstrained.\n",
      " This problem is unconstrained.\n"
     ]
    },
    {
     "name": "stdout",
     "output_type": "stream",
     "text": [
      "\n",
      "At iterate    5    f=  4.59257D+00    |proj g|=  3.81736D-02\n",
      "\n",
      "At iterate   10    f=  4.59061D+00    |proj g|=  7.50244D-04\n",
      "\n",
      "At iterate   15    f=  4.59056D+00    |proj g|=  4.35207D-06\n",
      "\n",
      "At iterate   20    f=  4.59056D+00    |proj g|=  4.44089D-07\n",
      "\n",
      "           * * *\n",
      "\n",
      "Tit   = total number of iterations\n",
      "Tnf   = total number of function evaluations\n",
      "Tnint = total number of segments explored during Cauchy searches\n",
      "Skip  = number of BFGS updates skipped\n",
      "Nact  = number of active bounds at final generalized Cauchy point\n",
      "Projg = norm of the final projected gradient\n",
      "F     = final function value\n",
      "\n",
      "           * * *\n",
      "\n",
      "   N    Tit     Tnf  Tnint  Skip  Nact     Projg        F\n",
      "    5     20     29      1     0     0   4.441D-07   4.591D+00\n",
      "  F =   4.5905615181675117     \n",
      "\n",
      "CONVERGENCE: REL_REDUCTION_OF_F_<=_FACTR*EPSMCH             \n",
      "RUNNING THE L-BFGS-B CODE\n",
      "\n",
      "           * * *\n",
      "\n",
      "Machine precision = 2.220D-16\n",
      " N =            5     M =           12\n",
      "\n",
      "At X0         0 variables are exactly at the bounds\n",
      "\n",
      "At iterate    0    f=  4.60887D+00    |proj g|=  5.17727D-02\n",
      "\n",
      "At iterate    5    f=  4.60643D+00    |proj g|=  7.58860D-03\n",
      "\n",
      "At iterate   10    f=  4.60567D+00    |proj g|=  1.19744D-03\n",
      "\n",
      "At iterate   15    f=  4.60566D+00    |proj g|=  2.18492D-05\n",
      "\n",
      "At iterate   20    f=  4.60566D+00    |proj g|=  3.01981D-06\n",
      "\n",
      "At iterate   25    f=  4.60566D+00    |proj g|=  1.15463D-06\n",
      "\n",
      "           * * *\n",
      "\n",
      "Tit   = total number of iterations\n",
      "Tnf   = total number of function evaluations\n",
      "Tnint = total number of segments explored during Cauchy searches\n",
      "Skip  = number of BFGS updates skipped\n",
      "Nact  = number of active bounds at final generalized Cauchy point\n",
      "Projg = norm of the final projected gradient\n",
      "F     = final function value\n",
      "\n",
      "           * * *\n",
      "\n",
      "   N    Tit     Tnf  Tnint  Skip  Nact     Projg        F\n",
      "    5     29     38      1     0     0   5.329D-07   4.606D+00\n",
      "  F =   4.6056595894226833     \n",
      "\n",
      "CONVERGENCE: REL_REDUCTION_OF_F_<=_FACTR*EPSMCH             \n"
     ]
    },
    {
     "name": "stderr",
     "output_type": "stream",
     "text": [
      " This problem is unconstrained.\n",
      " This problem is unconstrained.\n"
     ]
    },
    {
     "name": "stdout",
     "output_type": "stream",
     "text": [
      "RUNNING THE L-BFGS-B CODE\n",
      "\n",
      "           * * *\n",
      "\n",
      "Machine precision = 2.220D-16\n",
      " N =            5     M =           12\n",
      "\n",
      "At X0         0 variables are exactly at the bounds\n",
      "\n",
      "At iterate    0    f=  4.60478D+00    |proj g|=  5.08648D-02\n",
      "\n",
      "At iterate    5    f=  4.60239D+00    |proj g|=  6.09468D-03\n",
      "\n",
      "At iterate   10    f=  4.60173D+00    |proj g|=  1.02176D-03\n",
      "\n",
      "At iterate   15    f=  4.60173D+00    |proj g|=  2.36255D-05\n",
      "\n",
      "At iterate   20    f=  4.60173D+00    |proj g|=  8.26006D-06\n",
      "\n",
      "           * * *\n",
      "\n",
      "Tit   = total number of iterations\n",
      "Tnf   = total number of function evaluations\n",
      "Tnint = total number of segments explored during Cauchy searches\n",
      "Skip  = number of BFGS updates skipped\n",
      "Nact  = number of active bounds at final generalized Cauchy point\n",
      "Projg = norm of the final projected gradient\n",
      "F     = final function value\n",
      "\n",
      "           * * *\n",
      "\n",
      "   N    Tit     Tnf  Tnint  Skip  Nact     Projg        F\n",
      "    5     21     63      2     0     0   8.260D-06   4.602D+00\n",
      "  F =   4.6017264758750285     \n",
      "\n",
      "ABNORMAL_TERMINATION_IN_LNSRCH                              \n",
      "RUNNING THE L-BFGS-B CODE\n",
      "\n",
      "           * * *\n",
      "\n",
      "Machine precision = 2.220D-16\n",
      " N =            5     M =           12\n",
      "\n",
      "At X0         0 variables are exactly at the bounds\n",
      "\n",
      "At iterate    0    f=  4.61826D+00    |proj g|=  5.19028D-02\n",
      "\n",
      "At iterate    5    f=  4.61590D+00    |proj g|=  2.96586D-02\n"
     ]
    },
    {
     "name": "stderr",
     "output_type": "stream",
     "text": [
      "\n",
      " Bad direction in the line search;\n",
      "   refresh the lbfgs memory and restart the iteration.\n",
      "\n",
      " Line search cannot locate an adequate point after MAXLS\n",
      "  function and gradient evaluations.\n",
      "  Previous x, f and g restored.\n",
      " Possible causes: 1 error in function or gradient evaluation;\n",
      "                  2 rounding error dominate computation.\n",
      "/Users/lilakelland/opt/anaconda3/lib/python3.8/site-packages/statsmodels/base/model.py:566: ConvergenceWarning: Maximum Likelihood optimization failed to converge. Check mle_retvals\n",
      "  warnings.warn(\"Maximum Likelihood optimization failed to \"\n",
      " This problem is unconstrained.\n"
     ]
    },
    {
     "name": "stdout",
     "output_type": "stream",
     "text": [
      "\n",
      "At iterate   10    f=  4.61493D+00    |proj g|=  4.92406D-04\n",
      "\n",
      "At iterate   15    f=  4.61491D+00    |proj g|=  1.83498D-04\n",
      "\n",
      "At iterate   20    f=  4.61491D+00    |proj g|=  1.86517D-06\n",
      "\n",
      "           * * *\n",
      "\n",
      "Tit   = total number of iterations\n",
      "Tnf   = total number of function evaluations\n",
      "Tnint = total number of segments explored during Cauchy searches\n",
      "Skip  = number of BFGS updates skipped\n",
      "Nact  = number of active bounds at final generalized Cauchy point\n",
      "Projg = norm of the final projected gradient\n",
      "F     = final function value\n",
      "\n",
      "           * * *\n",
      "\n",
      "   N    Tit     Tnf  Tnint  Skip  Nact     Projg        F\n",
      "    5     23     27      1     0     0   2.487D-06   4.615D+00\n",
      "  F =   4.6149092935017313     \n",
      "\n",
      "CONVERGENCE: REL_REDUCTION_OF_F_<=_FACTR*EPSMCH             \n",
      "RUNNING THE L-BFGS-B CODE\n",
      "\n",
      "           * * *\n",
      "\n",
      "Machine precision = 2.220D-16\n",
      " N =            5     M =           12\n",
      "\n",
      "At X0         0 variables are exactly at the bounds\n",
      "\n",
      "At iterate    0    f=  4.61538D+00    |proj g|=  4.85492D-02\n",
      "\n",
      "At iterate    5    f=  4.61321D+00    |proj g|=  2.96487D-02\n",
      "\n",
      "At iterate   10    f=  4.61221D+00    |proj g|=  4.30944D-04\n",
      "\n",
      "At iterate   15    f=  4.61220D+00    |proj g|=  7.04503D-04\n",
      "\n",
      "At iterate   20    f=  4.61220D+00    |proj g|=  9.18376D-05\n",
      "\n",
      "At iterate   25    f=  4.61220D+00    |proj g|=  7.10543D-07\n",
      "\n",
      "           * * *\n",
      "\n",
      "Tit   = total number of iterations\n",
      "Tnf   = total number of function evaluations\n",
      "Tnint = total number of segments explored during Cauchy searches\n",
      "Skip  = number of BFGS updates skipped\n",
      "Nact  = number of active bounds at final generalized Cauchy point\n",
      "Projg = norm of the final projected gradient\n",
      "F     = final function value\n",
      "\n",
      "           * * *\n",
      "\n",
      "   N    Tit     Tnf  Tnint  Skip  Nact     Projg        F\n",
      "    5     28     33      1     0     0   5.329D-07   4.612D+00\n",
      "  F =   4.6121951928228437     \n",
      "\n",
      "CONVERGENCE: REL_REDUCTION_OF_F_<=_FACTR*EPSMCH             \n"
     ]
    },
    {
     "name": "stderr",
     "output_type": "stream",
     "text": [
      " This problem is unconstrained.\n",
      " This problem is unconstrained.\n"
     ]
    },
    {
     "name": "stdout",
     "output_type": "stream",
     "text": [
      "RUNNING THE L-BFGS-B CODE\n",
      "\n",
      "           * * *\n",
      "\n",
      "Machine precision = 2.220D-16\n",
      " N =            5     M =           12\n",
      "\n",
      "At X0         0 variables are exactly at the bounds\n",
      "\n",
      "At iterate    0    f=  4.61156D+00    |proj g|=  4.59388D-02\n",
      "\n",
      "At iterate    5    f=  4.60964D+00    |proj g|=  2.68501D-02\n",
      "\n",
      "At iterate   10    f=  4.60863D+00    |proj g|=  2.96208D-04\n",
      "\n",
      "At iterate   15    f=  4.60862D+00    |proj g|=  1.22569D-05\n",
      "\n",
      "At iterate   20    f=  4.60862D+00    |proj g|=  7.10543D-07\n",
      "\n",
      "           * * *\n",
      "\n",
      "Tit   = total number of iterations\n",
      "Tnf   = total number of function evaluations\n",
      "Tnint = total number of segments explored during Cauchy searches\n",
      "Skip  = number of BFGS updates skipped\n",
      "Nact  = number of active bounds at final generalized Cauchy point\n",
      "Projg = norm of the final projected gradient\n",
      "F     = final function value\n",
      "\n",
      "           * * *\n",
      "\n",
      "   N    Tit     Tnf  Tnint  Skip  Nact     Projg        F\n",
      "    5     20     26      1     0     0   7.105D-07   4.609D+00\n",
      "  F =   4.6086226965612118     \n",
      "\n",
      "CONVERGENCE: REL_REDUCTION_OF_F_<=_FACTR*EPSMCH             \n",
      "RUNNING THE L-BFGS-B CODE\n",
      "\n",
      "           * * *\n",
      "\n",
      "Machine precision = 2.220D-16\n",
      " N =            5     M =           12\n",
      "\n",
      "At X0         0 variables are exactly at the bounds\n",
      "\n",
      "At iterate    0    f=  4.61360D+00    |proj g|=  3.78380D-02\n",
      "\n",
      "At iterate    5    f=  4.61210D+00    |proj g|=  2.12865D-02\n",
      "\n",
      "At iterate   10    f=  4.61140D+00    |proj g|=  5.02265D-04\n",
      "\n",
      "At iterate   15    f=  4.61139D+00    |proj g|=  5.68434D-06\n",
      "\n",
      "At iterate   20    f=  4.61139D+00    |proj g|=  3.01981D-06\n",
      "\n",
      "           * * *\n",
      "\n",
      "Tit   = total number of iterations\n",
      "Tnf   = total number of function evaluations\n",
      "Tnint = total number of segments explored during Cauchy searches\n",
      "Skip  = number of BFGS updates skipped\n",
      "Nact  = number of active bounds at final generalized Cauchy point\n",
      "Projg = norm of the final projected gradient\n",
      "F     = final function value\n",
      "\n",
      "           * * *\n",
      "\n",
      "   N    Tit     Tnf  Tnint  Skip  Nact     Projg        F\n",
      "    5     23     32      1     0     0   8.882D-07   4.611D+00\n",
      "  F =   4.6113926759401291     \n",
      "\n",
      "CONVERGENCE: REL_REDUCTION_OF_F_<=_FACTR*EPSMCH             \n"
     ]
    },
    {
     "name": "stderr",
     "output_type": "stream",
     "text": [
      " This problem is unconstrained.\n",
      " This problem is unconstrained.\n"
     ]
    },
    {
     "name": "stdout",
     "output_type": "stream",
     "text": [
      "RUNNING THE L-BFGS-B CODE\n",
      "\n",
      "           * * *\n",
      "\n",
      "Machine precision = 2.220D-16\n",
      " N =            5     M =           12\n",
      "\n",
      "At X0         0 variables are exactly at the bounds\n",
      "\n",
      "At iterate    0    f=  4.61556D+00    |proj g|=  4.43269D-02\n",
      "\n",
      "At iterate    5    f=  4.61364D+00    |proj g|=  3.19818D-02\n",
      "\n",
      "At iterate   10    f=  4.61279D+00    |proj g|=  4.48619D-04\n",
      "\n",
      "At iterate   15    f=  4.61278D+00    |proj g|=  2.08722D-05\n",
      "\n",
      "At iterate   20    f=  4.61278D+00    |proj g|=  1.12799D-05\n",
      "\n",
      "At iterate   25    f=  4.61278D+00    |proj g|=  3.55271D-07\n",
      "\n",
      "           * * *\n",
      "\n",
      "Tit   = total number of iterations\n",
      "Tnf   = total number of function evaluations\n",
      "Tnint = total number of segments explored during Cauchy searches\n",
      "Skip  = number of BFGS updates skipped\n",
      "Nact  = number of active bounds at final generalized Cauchy point\n",
      "Projg = norm of the final projected gradient\n",
      "F     = final function value\n",
      "\n",
      "           * * *\n",
      "\n",
      "   N    Tit     Tnf  Tnint  Skip  Nact     Projg        F\n",
      "    5     25     35      1     0     0   3.553D-07   4.613D+00\n",
      "  F =   4.6127785766844616     \n",
      "\n",
      "CONVERGENCE: REL_REDUCTION_OF_F_<=_FACTR*EPSMCH             \n",
      "RUNNING THE L-BFGS-B CODE\n",
      "\n",
      "           * * *\n",
      "\n",
      "Machine precision = 2.220D-16\n",
      " N =            5     M =           12\n",
      "\n",
      "At X0         0 variables are exactly at the bounds\n",
      "\n",
      "At iterate    0    f=  4.64527D+00    |proj g|=  6.25914D-02\n",
      "\n",
      "At iterate    5    f=  4.64224D+00    |proj g|=  4.30495D-02\n",
      "\n",
      "At iterate   10    f=  4.63927D+00    |proj g|=  1.26574D-03\n",
      "\n",
      "At iterate   15    f=  4.63858D+00    |proj g|=  5.86020D-04\n"
     ]
    },
    {
     "name": "stderr",
     "output_type": "stream",
     "text": [
      " This problem is unconstrained.\n"
     ]
    },
    {
     "name": "stdout",
     "output_type": "stream",
     "text": [
      "\n",
      "At iterate   20    f=  4.63847D+00    |proj g|=  2.33324D-04\n",
      "\n",
      "At iterate   25    f=  4.63847D+00    |proj g|=  7.81597D-05\n",
      "\n",
      "At iterate   30    f=  4.63847D+00    |proj g|=  8.80185D-05\n",
      "\n",
      "At iterate   35    f=  4.63847D+00    |proj g|=  2.92211D-05\n",
      "\n",
      "At iterate   40    f=  4.63847D+00    |proj g|=  6.92779D-06\n",
      "\n",
      "At iterate   45    f=  4.63847D+00    |proj g|=  3.46390D-06\n",
      "\n",
      "           * * *\n",
      "\n",
      "Tit   = total number of iterations\n",
      "Tnf   = total number of function evaluations\n",
      "Tnint = total number of segments explored during Cauchy searches\n",
      "Skip  = number of BFGS updates skipped\n",
      "Nact  = number of active bounds at final generalized Cauchy point\n",
      "Projg = norm of the final projected gradient\n",
      "F     = final function value\n",
      "\n",
      "           * * *\n",
      "\n",
      "   N    Tit     Tnf  Tnint  Skip  Nact     Projg        F\n",
      "    5     48     83      1     0     0   2.487D-06   4.638D+00\n",
      "  F =   4.6384652054094069     \n",
      "\n",
      "CONVERGENCE: REL_REDUCTION_OF_F_<=_FACTR*EPSMCH             \n",
      "RUNNING THE L-BFGS-B CODE\n",
      "\n",
      "           * * *\n",
      "\n",
      "Machine precision = 2.220D-16\n",
      " N =            5     M =           12\n",
      "\n",
      "At X0         0 variables are exactly at the bounds\n",
      "\n",
      "At iterate    0    f=  4.64145D+00    |proj g|=  6.21072D-02\n"
     ]
    },
    {
     "name": "stderr",
     "output_type": "stream",
     "text": [
      " This problem is unconstrained.\n",
      "\n",
      " Warning:  more than 10 function and gradient\n",
      "   evaluations in the last line search.  Termination\n",
      "   may possibly be caused by a bad search direction.\n"
     ]
    },
    {
     "name": "stdout",
     "output_type": "stream",
     "text": [
      "\n",
      "At iterate    5    f=  4.63842D+00    |proj g|=  4.35482D-02\n",
      "\n",
      "At iterate   10    f=  4.63554D+00    |proj g|=  1.35536D-03\n",
      "\n",
      "At iterate   15    f=  4.63484D+00    |proj g|=  2.06342D-03\n",
      "\n",
      "At iterate   20    f=  4.63470D+00    |proj g|=  3.61577D-04\n",
      "\n",
      "At iterate   25    f=  4.63469D+00    |proj g|=  6.64446D-04\n",
      "\n",
      "At iterate   30    f=  4.63469D+00    |proj g|=  9.96536D-05\n",
      "\n",
      "           * * *\n",
      "\n",
      "Tit   = total number of iterations\n",
      "Tnf   = total number of function evaluations\n",
      "Tnint = total number of segments explored during Cauchy searches\n",
      "Skip  = number of BFGS updates skipped\n",
      "Nact  = number of active bounds at final generalized Cauchy point\n",
      "Projg = norm of the final projected gradient\n",
      "F     = final function value\n",
      "\n",
      "           * * *\n",
      "\n",
      "   N    Tit     Tnf  Tnint  Skip  Nact     Projg        F\n",
      "    5     33     60      1     0     0   3.553D-05   4.635D+00\n",
      "  F =   4.6346895912075903     \n",
      "\n",
      "CONVERGENCE: REL_REDUCTION_OF_F_<=_FACTR*EPSMCH             \n",
      "RUNNING THE L-BFGS-B CODE\n",
      "\n",
      "           * * *\n",
      "\n",
      "Machine precision = 2.220D-16\n",
      " N =            5     M =           12\n",
      "\n",
      "At X0         0 variables are exactly at the bounds\n",
      "\n",
      "At iterate    0    f=  4.65115D+00    |proj g|=  6.30085D-02\n"
     ]
    },
    {
     "name": "stderr",
     "output_type": "stream",
     "text": [
      " This problem is unconstrained.\n"
     ]
    },
    {
     "name": "stdout",
     "output_type": "stream",
     "text": [
      "\n",
      "At iterate    5    f=  4.64813D+00    |proj g|=  4.23128D-02\n",
      "\n",
      "At iterate   10    f=  4.64634D+00    |proj g|=  6.21991D-04\n",
      "\n",
      "At iterate   15    f=  4.64610D+00    |proj g|=  4.63452D-03\n",
      "\n",
      "At iterate   20    f=  4.64601D+00    |proj g|=  3.19211D-04\n",
      "\n",
      "At iterate   25    f=  4.64600D+00    |proj g|=  1.51879D-04\n",
      "\n",
      "At iterate   30    f=  4.64600D+00    |proj g|=  1.12799D-05\n",
      "\n",
      "At iterate   35    f=  4.64600D+00    |proj g|=  3.80140D-05\n",
      "\n",
      "At iterate   40    f=  4.64600D+00    |proj g|=  1.20792D-05\n",
      "\n",
      "           * * *\n",
      "\n",
      "Tit   = total number of iterations\n",
      "Tnf   = total number of function evaluations\n",
      "Tnint = total number of segments explored during Cauchy searches\n",
      "Skip  = number of BFGS updates skipped\n",
      "Nact  = number of active bounds at final generalized Cauchy point\n",
      "Projg = norm of the final projected gradient\n",
      "F     = final function value\n",
      "\n",
      "           * * *\n",
      "\n",
      "   N    Tit     Tnf  Tnint  Skip  Nact     Projg        F\n",
      "    5     41     65      1     0     0   1.208D-05   4.646D+00\n",
      "  F =   4.6460038428448698     \n",
      "\n",
      "CONVERGENCE: REL_REDUCTION_OF_F_<=_FACTR*EPSMCH             \n",
      "RUNNING THE L-BFGS-B CODE\n",
      "\n",
      "           * * *\n",
      "\n",
      "Machine precision = 2.220D-16\n",
      " N =            5     M =           12\n",
      "\n",
      "At X0         0 variables are exactly at the bounds\n",
      "\n",
      "At iterate    0    f=  4.64742D+00    |proj g|=  6.07018D-02\n"
     ]
    },
    {
     "name": "stderr",
     "output_type": "stream",
     "text": [
      " This problem is unconstrained.\n",
      "\n",
      " Bad direction in the line search;\n",
      "   refresh the lbfgs memory and restart the iteration.\n"
     ]
    },
    {
     "name": "stdout",
     "output_type": "stream",
     "text": [
      "\n",
      "At iterate    5    f=  4.64457D+00    |proj g|=  4.30538D-02\n",
      "\n",
      "At iterate   10    f=  4.64278D+00    |proj g|=  7.74936D-04\n",
      "\n",
      "At iterate   15    f=  4.64240D+00    |proj g|=  3.42091D-03\n",
      "\n",
      "At iterate   20    f=  4.64233D+00    |proj g|=  4.53948D-04\n",
      "\n",
      "At iterate   25    f=  4.64232D+00    |proj g|=  1.73106D-04\n",
      "\n",
      "At iterate   30    f=  4.64232D+00    |proj g|=  1.58362D-04\n",
      "\n",
      "At iterate   35    f=  4.64232D+00    |proj g|=  4.08562D-05\n",
      "\n",
      "At iterate   40    f=  4.64232D+00    |proj g|=  2.50466D-05\n",
      "\n",
      "At iterate   45    f=  4.64232D+00    |proj g|=  6.48370D-06\n",
      "\n",
      "At iterate   50    f=  4.64232D+00    |proj g|=  4.44089D-06\n",
      "\n",
      "At iterate   55    f=  4.64232D+00    |proj g|=  2.66454D-06\n",
      "\n",
      "           * * *\n",
      "\n",
      "Tit   = total number of iterations\n",
      "Tnf   = total number of function evaluations\n",
      "Tnint = total number of segments explored during Cauchy searches\n",
      "Skip  = number of BFGS updates skipped\n",
      "Nact  = number of active bounds at final generalized Cauchy point\n",
      "Projg = norm of the final projected gradient\n",
      "F     = final function value\n",
      "\n",
      "           * * *\n",
      "\n",
      "   N    Tit     Tnf  Tnint  Skip  Nact     Projg        F\n",
      "    5     55    113      2     0     0   2.665D-06   4.642D+00\n",
      "  F =   4.6423246719754134     \n",
      "\n",
      "CONVERGENCE: REL_REDUCTION_OF_F_<=_FACTR*EPSMCH             \n",
      "RUNNING THE L-BFGS-B CODE\n",
      "\n",
      "           * * *\n",
      "\n",
      "Machine precision = 2.220D-16\n",
      " N =            5     M =           12\n",
      "\n",
      "At X0         0 variables are exactly at the bounds\n",
      "\n",
      "At iterate    0    f=  4.64827D+00    |proj g|=  6.38698D-02\n",
      "\n",
      "At iterate    5    f=  4.64566D+00    |proj g|=  3.83032D-02\n",
      "\n",
      "At iterate   10    f=  4.64365D+00    |proj g|=  6.63114D-04\n",
      "\n",
      "At iterate   15    f=  4.64364D+00    |proj g|=  2.94520D-04\n",
      "\n",
      "At iterate   20    f=  4.64364D+00    |proj g|=  2.65299D-04\n",
      "\n",
      "At iterate   25    f=  4.64364D+00    |proj g|=  9.16600D-05\n",
      "\n",
      "At iterate   30    f=  4.64364D+00    |proj g|=  1.68754D-06\n",
      "\n",
      "           * * *\n",
      "\n",
      "Tit   = total number of iterations\n",
      "Tnf   = total number of function evaluations\n",
      "Tnint = total number of segments explored during Cauchy searches\n",
      "Skip  = number of BFGS updates skipped\n",
      "Nact  = number of active bounds at final generalized Cauchy point\n",
      "Projg = norm of the final projected gradient\n",
      "F     = final function value\n",
      "\n",
      "           * * *\n",
      "\n",
      "   N    Tit     Tnf  Tnint  Skip  Nact     Projg        F\n",
      "    5     32     40      1     0     0   7.994D-07   4.644D+00\n",
      "  F =   4.6436423272870933     \n",
      "\n",
      "CONVERGENCE: REL_REDUCTION_OF_F_<=_FACTR*EPSMCH             \n"
     ]
    },
    {
     "name": "stderr",
     "output_type": "stream",
     "text": [
      "\n",
      " Warning:  more than 10 function and gradient\n",
      "   evaluations in the last line search.  Termination\n",
      "   may possibly be caused by a bad search direction.\n",
      " This problem is unconstrained.\n"
     ]
    },
    {
     "data": {
      "image/png": "[encoded data removed]",
      "text/plain": [
       "<Figure size 432x288 with 1 Axes>"
      ]
     },
     "metadata": {
      "needs_background": "light"
     },
     "output_type": "display_data"
    }
   ],
   "source": [
    "from sklearn.metrics import mean_squared_error\n",
    "from math import sqrt\n",
    "# split into train and test sets\n",
    "X = df['Passengers'].values\n",
    "size = int(len(X) * 0.66)\n",
    "train, test = X[0:size], X[size:len(X)]\n",
    "history = [x for x in train]\n",
    "predictions = list()\n",
    "\n",
    "# walk-forward validation\n",
    "for t in range(len(test)):\n",
    "\tmodel = ARIMA(history, order=(2,1,2))\n",
    "\tmodel_fit = model.fit()\n",
    "\toutput = model_fit.forecast()\n",
    "\tyhat = output[0]\n",
    "\tpredictions.append(yhat)\n",
    "\tobs = test[t]\n",
    "\thistory.append(obs)\n",
    "# \tprint('predicted=%f, expected=%f' % (yhat, obs))\n",
    "\n",
    "# evaluate forecasts\n",
    "rmse = np.sqrt(mean_squared_error(test, predictions))\n",
    "# print('Test RMSE: %.3f' % rmse)\n",
    "\n",
    "# plot forecasts against actual outcomes\n",
    "pyplot.plot(test)\n",
    "pyplot.plot(predictions, color='red')\n",
    "pyplot.show()"
   ]
  },
  {
   "cell_type": "code",
   "execution_count": null,
   "metadata": {},
   "outputs": [],
   "source": []
  },
  {
   "cell_type": "markdown",
   "metadata": {},
   "source": [
    "**Task:** Plot the predictions (transformed to the original scale)."
   ]
  },
  {
   "cell_type": "code",
   "execution_count": null,
   "metadata": {
    "ExecuteTime": {
     "end_time": "2020-09-09T13:26:20.899525Z",
     "start_time": "2020-09-09T13:26:20.210987Z"
    }
   },
   "outputs": [],
   "source": [
    "# ??"
   ]
  },
  {
   "cell_type": "code",
   "execution_count": null,
   "metadata": {},
   "outputs": [],
   "source": []
  },
  {
   "cell_type": "markdown",
   "metadata": {},
   "source": [
    "**Task:** Plot the predictions for the next 10 years. How accurate do you think your model is predicting that far in the future? "
   ]
  },
  {
   "cell_type": "code",
   "execution_count": null,
   "metadata": {
    "ExecuteTime": {
     "end_time": "2020-09-09T13:26:42.759650Z",
     "start_time": "2020-09-09T13:26:41.667912Z"
    }
   },
   "outputs": [],
   "source": []
  },
  {
   "cell_type": "code",
   "execution_count": null,
   "metadata": {},
   "outputs": [],
   "source": []
  }
 ],
 "metadata": {
  "kernelspec": {
   "display_name": "Python 3 (ipykernel)",
   "language": "python",
   "name": "python3"
  },
  "language_info": {
   "codemirror_mode": {
    "name": "ipython",
    "version": 3
   },
   "file_extension": ".py",
   "mimetype": "text/x-python",
   "name": "python",
   "nbconvert_exporter": "python",
   "pygments_lexer": "ipython3",
   "version": "3.8.11"
  },
  "toc": {
   "base_numbering": 1,
   "nav_menu": {},
   "number_sections": true,
   "sideBar": true,
   "skip_h1_title": false,
   "title_cell": "Table of Contents",
   "title_sidebar": "Contents",
   "toc_cell": false,
   "toc_position": {},
   "toc_section_display": true,
   "toc_window_display": false
  },
  "varInspector": {
   "cols": {
    "lenName": 16,
    "lenType": 16,
    "lenVar": 40
   },
   "kernels_config": {
    "python": {
     "delete_cmd_postfix": "",
     "delete_cmd_prefix": "del ",
     "library": "var_list.py",
     "varRefreshCmd": "print(var_dic_list())"
    },
    "r": {
     "delete_cmd_postfix": ") ",
     "delete_cmd_prefix": "rm(",
     "library": "var_list.r",
     "varRefreshCmd": "cat(var_dic_list()) "
    }
   },
   "types_to_exclude": [
    "module",
    "function",
    "builtin_function_or_method",
    "instance",
    "_Feature"
   ],
   "window_display": false
  }
 },
 "nbformat": 4,
 "nbformat_minor": 4
}
