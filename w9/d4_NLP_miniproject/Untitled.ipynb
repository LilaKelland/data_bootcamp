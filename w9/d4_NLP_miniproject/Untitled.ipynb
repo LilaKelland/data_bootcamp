{
 "cells": [
  {
   "cell_type": "code",
   "execution_count": null,
   "id": "484c0b66-f265-4eb0-a6c8-2bdfd3b2f23e",
   "metadata": {},
   "outputs": [],
   "source": [
    "basic_auth_username:basic_auth_password https://api.ravelry.com/current_user.json\n",
    "basic_auth_username = 'upsidedown'\n",
    "basic \n",
    "\n"
   ]
  }
 ],
 "metadata": {
  "kernelspec": {
   "display_name": "new_bootcamp",
   "language": "python",
   "name": "new_bootcamp"
  },
  "language_info": {
   "codemirror_mode": {
    "name": "ipython",
    "version": 3
   },
   "file_extension": ".py",
   "mimetype": "text/x-python",
   "name": "python",
   "nbconvert_exporter": "python",
   "pygments_lexer": "ipython3",
   "version": "3.8.11"
  }
 },
 "nbformat": 4,
 "nbformat_minor": 5
}
