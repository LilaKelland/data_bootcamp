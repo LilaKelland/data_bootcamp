{
 "cells": [
  {
   "cell_type": "markdown",
   "metadata": {},
   "source": [
    "## Identifying Duplicate Questions"
   ]
  },
  {
   "cell_type": "markdown",
   "metadata": {},
   "source": [
    "Over 100 million people visit Quora every month, so it's no surprise that many people ask similar (or the same) questions. Various questions with the same intent can cause people to spend extra time searching for the best answer to their question, and make writers to answer multiple versions of the same question. Quora uses random forest to identify duplicated questions to provide a better experience to active seekers and writers, and offer more value to both of these groups in the long term.\n",
    "\n",
    "We are going to build the similar model during this project!"
   ]
  },
  {
   "cell_type": "code",
   "execution_count": 1,
   "metadata": {},
   "outputs": [],
   "source": [
    "import pandas as pd\n",
    "import numpy as np\n",
    "\n",
    "import matplotlib.pyplot as plt\n",
    "import seaborn as sns\n",
    "\n",
    "from matplotlib import rcParams"
   ]
  },
  {
   "cell_type": "markdown",
   "metadata": {},
   "source": [
    "### Punctuation"
   ]
  },
  {
   "cell_type": "code",
   "execution_count": 2,
   "metadata": {},
   "outputs": [
    {
     "name": "stdout",
     "output_type": "stream",
     "text": [
      "!\"#$%&'()*+,-./:;<=>?@[\\]^_`{|}~\n"
     ]
    }
   ],
   "source": [
    "import string\n",
    "\n",
    "punctuations = string.punctuation\n",
    "\n",
    "print(punctuations)"
   ]
  },
  {
   "cell_type": "code",
   "execution_count": 3,
   "metadata": {},
   "outputs": [],
   "source": [
    "# yeah - I'm going to get rid of them all! (except &?)"
   ]
  },
  {
   "cell_type": "markdown",
   "metadata": {},
   "source": [
    "### Cleaning\n",
    "\n",
    "- Tokenization\n",
    "- Stopwords cleaning\n",
    "- Removing punctuation\n",
    "- Normalizing\n",
    "- Stemming"
   ]
  },
  {
   "cell_type": "code",
   "execution_count": 4,
   "metadata": {},
   "outputs": [
    {
     "ename": "ModuleNotFoundError",
     "evalue": "No module named 'nltk'",
     "output_type": "error",
     "traceback": [
      "\u001b[0;31m---------------------------------------------------------------------------\u001b[0m",
      "\u001b[0;31mModuleNotFoundError\u001b[0m                       Traceback (most recent call last)",
      "\u001b[0;32m/tmp/ipykernel_33/291087018.py\u001b[0m in \u001b[0;36m<module>\u001b[0;34m\u001b[0m\n\u001b[1;32m      4\u001b[0m \u001b[0;34m\u001b[0m\u001b[0m\n\u001b[1;32m      5\u001b[0m \u001b[0;31m# for stopword removal\u001b[0m\u001b[0;34m\u001b[0m\u001b[0;34m\u001b[0m\u001b[0m\n\u001b[0;32m----> 6\u001b[0;31m \u001b[0;32mimport\u001b[0m \u001b[0mnltk\u001b[0m\u001b[0;34m\u001b[0m\u001b[0;34m\u001b[0m\u001b[0m\n\u001b[0m\u001b[1;32m      7\u001b[0m \u001b[0mnltk\u001b[0m\u001b[0;34m.\u001b[0m\u001b[0mdownload\u001b[0m\u001b[0;34m(\u001b[0m\u001b[0;34m'stopwords'\u001b[0m\u001b[0;34m)\u001b[0m\u001b[0;34m\u001b[0m\u001b[0;34m\u001b[0m\u001b[0m\n\u001b[1;32m      8\u001b[0m \u001b[0;32mfrom\u001b[0m \u001b[0mnltk\u001b[0m\u001b[0;34m.\u001b[0m\u001b[0mcorpus\u001b[0m \u001b[0;32mimport\u001b[0m \u001b[0mstopwords\u001b[0m\u001b[0;34m\u001b[0m\u001b[0;34m\u001b[0m\u001b[0m\n",
      "\u001b[0;31mModuleNotFoundError\u001b[0m: No module named 'nltk'"
     ]
    }
   ],
   "source": [
    "# Import ALL the libraries\n",
    "import pandas as pd\n",
    "import numpy as np\n",
    "\n",
    "# for stopword removal \n",
    "import nltk\n",
    "nltk.download('stopwords')\n",
    "from nltk.corpus import stopwords\n",
    "\n",
    "# for punctuation removal\n",
    "import string\n",
    "\n",
    "# for tokenizing into words\n",
    "import re\n",
    "from nltk.tokenize import word_tokenize\n",
    "\n",
    "# for stemming\n",
    "nltk.download('punkt')\n",
    "from nltk.stem import PorterStemmer\n",
    "\n",
    "# for lematizing\n",
    "nltk.download('wordnet')\n",
    "from nltk.stem import WordNetLemmatizer \n",
    "\n",
    "# FEATURE ENGINEERING\n",
    "\n",
    "# Bag of words count vectorizer\n",
    "from sklearn.feature_extraction.text import CountVectorizer\n",
    "\n",
    "# TF-IDF vectorizer\n",
    "from sklearn.feature_extraction.text import TfidfVectorizer"
   ]
  },
  {
   "cell_type": "code",
   "execution_count": 35,
   "metadata": {},
   "outputs": [],
   "source": [
    "# read fresh data\n",
    "\n",
    "df = pd.read_csv(\"data/train.csv\")\n",
    "df = df[0:4000]"
   ]
  },
  {
   "cell_type": "markdown",
   "metadata": {},
   "source": [
    "#### Clean data"
   ]
  },
  {
   "cell_type": "code",
   "execution_count": 36,
   "metadata": {},
   "outputs": [],
   "source": [
    "def rename_df(df):\n",
    "    q = df[['question1', 'question2', 'is_duplicate']]\n",
    "    q.columns = ['q1', 'q2', 'label']\n",
    "    return q\n",
    "\n",
    "def drop_long_short_questions(q):\n",
    "    q['q1_length'] = q.q1.map(lambda x: len(x))\n",
    "    q['q2_length'] = q.q2.map(lambda x: len(x))\n",
    "    \n",
    "    to_drop = q[(q['q2_length'] < 10) | (q['q1_length'] < 10)].index.tolist()\n",
    "    q = q.drop(to_drop)\n",
    "\n",
    "    # drop anything > 500\n",
    "    to_drop = q[(q['q2_length'] > 500) | (q['q1_length'] > 500)].index.tolist()\n",
    "    q = q.drop(to_drop)\n",
    "\n",
    "    # truncate the rest ( most in first part?)\n",
    "    q = q.drop(columns=['q2_length','q1_length'])\n",
    "    return q"
   ]
  },
  {
   "cell_type": "code",
   "execution_count": 37,
   "metadata": {},
   "outputs": [
    {
     "name": "stderr",
     "output_type": "stream",
     "text": [
      "/var/folders/q4/f3xj1m3j2h3fl1lc7921wysh0000gn/T/ipykernel_10465/1496117259.py:7: SettingWithCopyWarning: \n",
      "A value is trying to be set on a copy of a slice from a DataFrame.\n",
      "Try using .loc[row_indexer,col_indexer] = value instead\n",
      "\n",
      "See the caveats in the documentation: https://pandas.pydata.org/pandas-docs/stable/user_guide/indexing.html#returning-a-view-versus-a-copy\n",
      "  q['q1_length'] = q.q1.map(lambda x: len(x))\n",
      "/var/folders/q4/f3xj1m3j2h3fl1lc7921wysh0000gn/T/ipykernel_10465/1496117259.py:8: SettingWithCopyWarning: \n",
      "A value is trying to be set on a copy of a slice from a DataFrame.\n",
      "Try using .loc[row_indexer,col_indexer] = value instead\n",
      "\n",
      "See the caveats in the documentation: https://pandas.pydata.org/pandas-docs/stable/user_guide/indexing.html#returning-a-view-versus-a-copy\n",
      "  q['q2_length'] = q.q2.map(lambda x: len(x))\n"
     ]
    }
   ],
   "source": [
    "# strip out bad data before training \n",
    "\n",
    "df = df.dropna()\n",
    "q = rename_df(df)\n",
    "q = drop_long_short_questions(q)\n"
   ]
  },
  {
   "cell_type": "code",
   "execution_count": 38,
   "metadata": {},
   "outputs": [
    {
     "data": {
      "text/plain": [
       "(3999, 3)"
      ]
     },
     "execution_count": 38,
     "metadata": {},
     "output_type": "execute_result"
    }
   ],
   "source": [
    "q.shape"
   ]
  },
  {
   "cell_type": "code",
   "execution_count": null,
   "metadata": {},
   "outputs": [],
   "source": []
  },
  {
   "cell_type": "code",
   "execution_count": 39,
   "metadata": {},
   "outputs": [],
   "source": [
    "# Encompassing function to clean all \n",
    "# replace $? contractions?\n",
    "lemmatizer = WordNetLemmatizer() \n",
    "def clean_questions(text):\n",
    "    text = str(text).strip()  #remove extra spaces at beginning and end\n",
    "    text = \"\".join([lemmatizer.lemmatize(word.lower()) for word in text if word not in string.punctuation])   # punctuation\n",
    "    text = ' '.join( [w for w in text.split() if len(w)>2] )  # remove words 1 letter or less\n",
    "#     text = [word for word in text if word not in stopwords] # move to tokenizer \n",
    "    return text"
   ]
  },
  {
   "cell_type": "code",
   "execution_count": 7,
   "metadata": {},
   "outputs": [],
   "source": [
    "# # test out function\n",
    "# text = q.iloc[3]['q1']\n",
    "# clean_text = clean_questions(text)\n",
    "# print(clean_text)"
   ]
  },
  {
   "cell_type": "code",
   "execution_count": 40,
   "metadata": {},
   "outputs": [],
   "source": [
    "def clean_q1_q2(q):\n",
    "    \n",
    "    q['cleaned_q1'] = q['q1'].apply(lambda x: clean_questions(x))\n",
    "    q['cleaned_q2'] = q['q2'].apply(lambda x: clean_questions(x))\n",
    "    return q"
   ]
  },
  {
   "cell_type": "code",
   "execution_count": 41,
   "metadata": {},
   "outputs": [
    {
     "data": {
      "text/html": [
       "<div>\n",
       "<style scoped>\n",
       "    .dataframe tbody tr th:only-of-type {\n",
       "        vertical-align: middle;\n",
       "    }\n",
       "\n",
       "    .dataframe tbody tr th {\n",
       "        vertical-align: top;\n",
       "    }\n",
       "\n",
       "    .dataframe thead th {\n",
       "        text-align: right;\n",
       "    }\n",
       "</style>\n",
       "<table border=\"1\" class=\"dataframe\">\n",
       "  <thead>\n",
       "    <tr style=\"text-align: right;\">\n",
       "      <th></th>\n",
       "      <th>q1</th>\n",
       "      <th>q2</th>\n",
       "      <th>label</th>\n",
       "      <th>cleaned_q1</th>\n",
       "      <th>cleaned_q2</th>\n",
       "    </tr>\n",
       "  </thead>\n",
       "  <tbody>\n",
       "    <tr>\n",
       "      <th>0</th>\n",
       "      <td>What is the step by step guide to invest in sh...</td>\n",
       "      <td>What is the step by step guide to invest in sh...</td>\n",
       "      <td>0</td>\n",
       "      <td>what the step step guide invest share market i...</td>\n",
       "      <td>what the step step guide invest share market</td>\n",
       "    </tr>\n",
       "    <tr>\n",
       "      <th>1</th>\n",
       "      <td>What is the story of Kohinoor (Koh-i-Noor) Dia...</td>\n",
       "      <td>What would happen if the Indian government sto...</td>\n",
       "      <td>0</td>\n",
       "      <td>what the story kohinoor kohinoor diamond</td>\n",
       "      <td>what would happen the indian government stole ...</td>\n",
       "    </tr>\n",
       "    <tr>\n",
       "      <th>2</th>\n",
       "      <td>How can I increase the speed of my internet co...</td>\n",
       "      <td>How can Internet speed be increased by hacking...</td>\n",
       "      <td>0</td>\n",
       "      <td>how can increase the speed internet connection...</td>\n",
       "      <td>how can internet speed increased hacking throu...</td>\n",
       "    </tr>\n",
       "    <tr>\n",
       "      <th>3</th>\n",
       "      <td>Why am I mentally very lonely? How can I solve...</td>\n",
       "      <td>Find the remainder when [math]23^{24}[/math] i...</td>\n",
       "      <td>0</td>\n",
       "      <td>why mentally very lonely how can solve</td>\n",
       "      <td>find the remainder when math2324math divided 2423</td>\n",
       "    </tr>\n",
       "    <tr>\n",
       "      <th>4</th>\n",
       "      <td>Which one dissolve in water quikly sugar, salt...</td>\n",
       "      <td>Which fish would survive in salt water?</td>\n",
       "      <td>0</td>\n",
       "      <td>which one dissolve water quikly sugar salt met...</td>\n",
       "      <td>which fish would survive salt water</td>\n",
       "    </tr>\n",
       "  </tbody>\n",
       "</table>\n",
       "</div>"
      ],
      "text/plain": [
       "                                                  q1  \\\n",
       "0  What is the step by step guide to invest in sh...   \n",
       "1  What is the story of Kohinoor (Koh-i-Noor) Dia...   \n",
       "2  How can I increase the speed of my internet co...   \n",
       "3  Why am I mentally very lonely? How can I solve...   \n",
       "4  Which one dissolve in water quikly sugar, salt...   \n",
       "\n",
       "                                                  q2  label  \\\n",
       "0  What is the step by step guide to invest in sh...      0   \n",
       "1  What would happen if the Indian government sto...      0   \n",
       "2  How can Internet speed be increased by hacking...      0   \n",
       "3  Find the remainder when [math]23^{24}[/math] i...      0   \n",
       "4            Which fish would survive in salt water?      0   \n",
       "\n",
       "                                          cleaned_q1  \\\n",
       "0  what the step step guide invest share market i...   \n",
       "1           what the story kohinoor kohinoor diamond   \n",
       "2  how can increase the speed internet connection...   \n",
       "3             why mentally very lonely how can solve   \n",
       "4  which one dissolve water quikly sugar salt met...   \n",
       "\n",
       "                                          cleaned_q2  \n",
       "0       what the step step guide invest share market  \n",
       "1  what would happen the indian government stole ...  \n",
       "2  how can internet speed increased hacking throu...  \n",
       "3  find the remainder when math2324math divided 2423  \n",
       "4                which fish would survive salt water  "
      ]
     },
     "execution_count": 41,
     "metadata": {},
     "output_type": "execute_result"
    }
   ],
   "source": [
    "q = clean_q1_q2(q)\n",
    "q.head()"
   ]
  },
  {
   "cell_type": "code",
   "execution_count": 103,
   "metadata": {},
   "outputs": [],
   "source": [
    "def find_overlapping_words(q):\n",
    "    q['q1_words'] = q['cleaned_q1'].apply(lambda x: list(set(x.split())))\n",
    "    q['q2_words'] = q['cleaned_q2'].apply(lambda x: list(set(x.split())))\n",
    "#     q['overlap_words'] = q.apply(set(set(q['cleaned_q1'].split()) & set(q['cleaned_q2'].split()))\n",
    "    return q\n"
   ]
  },
  {
   "cell_type": "code",
   "execution_count": 104,
   "metadata": {},
   "outputs": [
    {
     "data": {
      "text/plain": [
       "{'guide', 'invest', 'market', 'share', 'step', 'the', 'what'}"
      ]
     },
     "execution_count": 104,
     "metadata": {},
     "output_type": "execute_result"
    }
   ],
   "source": [
    "q['q2_words'][0]"
   ]
  },
  {
   "cell_type": "code",
   "execution_count": 113,
   "metadata": {},
   "outputs": [
    {
     "data": {
      "text/plain": [
       "'how can increase the speed internet connection while using vpn'"
      ]
     },
     "execution_count": 113,
     "metadata": {},
     "output_type": "execute_result"
    }
   ],
   "source": [
    "q = find_overlapping_words(q)\n",
    "q['overlap_words'] = q['q2_words'] + q['q1_words']\n",
    "q['overlap_words'] = q['overlap_words'].apply(lambda x: set(x))\n",
    "q.head()\n",
    "# cols = ['q1_words', 'q2_words']\n",
    "# q['combined'] = q[cols].apply(lambda row: ''.join(row.values.astype(str)), axis=1)\n",
    "\n",
    "q['combined'][2]\n",
    "q['cleaned_q1'][2]"
   ]
  },
  {
   "cell_type": "code",
   "execution_count": 107,
   "metadata": {},
   "outputs": [
    {
     "data": {
      "text/plain": [
       "['the',\n",
       " 'invest',\n",
       " 'guide',\n",
       " 'market',\n",
       " 'what',\n",
       " 'step',\n",
       " 'share',\n",
       " 'the',\n",
       " 'invest',\n",
       " 'guide',\n",
       " 'market',\n",
       " 'what',\n",
       " 'step',\n",
       " 'india',\n",
       " 'share']"
      ]
     },
     "execution_count": 107,
     "metadata": {},
     "output_type": "execute_result"
    }
   ],
   "source": [
    "q.combined[0] # make this back into string!! "
   ]
  },
  {
   "cell_type": "code",
   "execution_count": 114,
   "metadata": {},
   "outputs": [],
   "source": [
    "q['questions'] = q['cleaned_q1'] + q['cleaned_q2']"
   ]
  },
  {
   "cell_type": "code",
   "execution_count": 116,
   "metadata": {},
   "outputs": [
    {
     "data": {
      "text/plain": [
       "'what the step step guide invest share market indiawhat the step step guide invest share market'"
      ]
     },
     "execution_count": 116,
     "metadata": {},
     "output_type": "execute_result"
    }
   ],
   "source": [
    "q['questions'][0]"
   ]
  },
  {
   "cell_type": "code",
   "execution_count": null,
   "metadata": {},
   "outputs": [],
   "source": []
  },
  {
   "cell_type": "code",
   "execution_count": 10,
   "metadata": {},
   "outputs": [],
   "source": [
    "# # Generate duplicate pair word cloud\n",
    "# word_cloud = WordCloud(background_color='black', max_words=len(dup_str), stopwords=stop_words, width=600, height=400)\n",
    "# word_cloud.generate(dup_str)\n",
    "\n",
    "# print('Word cloud for duplicate pairs')\n",
    "# plt.figure(figsize=(15,8))\n",
    "# plt.imshow(word_cloud, interpolation='bilinear')\n",
    "# plt.axis('off')\n",
    "\n",
    "# plt.show()"
   ]
  },
  {
   "cell_type": "markdown",
   "metadata": {},
   "source": [
    "### Feature Engineering\n",
    "\n",
    "- tf-idf\n",
    "- word2vec\n",
    "- word count\n",
    "- number of the same words in both questions\n",
    "- ...."
   ]
  },
  {
   "cell_type": "code",
   "execution_count": 11,
   "metadata": {},
   "outputs": [],
   "source": [
    "# # preprocessing ( after strip out bad data above)\n",
    "# q = rename_df(df)\n",
    "# q = clean_q1_q2(q)"
   ]
  },
  {
   "cell_type": "code",
   "execution_count": null,
   "metadata": {},
   "outputs": [],
   "source": [
    "df word_count(q):\n",
    "    pass"
   ]
  },
  {
   "cell_type": "code",
   "execution_count": 54,
   "metadata": {},
   "outputs": [],
   "source": [
    "def same_words_both_questions(q):\n",
    "    q['q1_words'] = q.cleaned_q1.map(lambda x: set(x))\n",
    "    q['q2_words'] = q.cleaned_q2.map(lambda x: set(x))\n",
    "#     q2_words = set(q.q2)\n",
    "#     q['same_words'] = set(q1_words & q2_words)\n",
    "#     q['ratio_same_words_q1'] = len(q1_words & q2_words)/len(q1_words)\n",
    "#     q['ratio_same_words_q2'] = len(q1_words & q2_words)/len(q2_words)\n",
    "    return q\n",
    "    \n",
    "    "
   ]
  },
  {
   "cell_type": "code",
   "execution_count": 55,
   "metadata": {},
   "outputs": [],
   "source": [
    "    q['q1_length'] = q.q1.map(lambda x: len(x))\n",
    "    q['q2_length'] = q.q2.map(lambda x: len(x))"
   ]
  },
  {
   "cell_type": "code",
   "execution_count": 56,
   "metadata": {},
   "outputs": [
    {
     "data": {
      "text/html": [
       "<div>\n",
       "<style scoped>\n",
       "    .dataframe tbody tr th:only-of-type {\n",
       "        vertical-align: middle;\n",
       "    }\n",
       "\n",
       "    .dataframe tbody tr th {\n",
       "        vertical-align: top;\n",
       "    }\n",
       "\n",
       "    .dataframe thead th {\n",
       "        text-align: right;\n",
       "    }\n",
       "</style>\n",
       "<table border=\"1\" class=\"dataframe\">\n",
       "  <thead>\n",
       "    <tr style=\"text-align: right;\">\n",
       "      <th></th>\n",
       "      <th>q1</th>\n",
       "      <th>q2</th>\n",
       "      <th>label</th>\n",
       "      <th>cleaned_q1</th>\n",
       "      <th>cleaned_q2</th>\n",
       "      <th>q1_words</th>\n",
       "      <th>q2_words</th>\n",
       "      <th>q1_length</th>\n",
       "      <th>q2_length</th>\n",
       "    </tr>\n",
       "  </thead>\n",
       "  <tbody>\n",
       "    <tr>\n",
       "      <th>0</th>\n",
       "      <td>What is the step by step guide to invest in sh...</td>\n",
       "      <td>What is the step by step guide to invest in sh...</td>\n",
       "      <td>0</td>\n",
       "      <td>what the step step guide invest share market i...</td>\n",
       "      <td>what the step step guide invest share market</td>\n",
       "      <td>{r, p, v, g, m, t, k, a, n,  , e, s, h, w, d, ...</td>\n",
       "      <td>{r, p, v, g, m, t, k, a, n,  , e, s, h, w, d, ...</td>\n",
       "      <td>66</td>\n",
       "      <td>57</td>\n",
       "    </tr>\n",
       "    <tr>\n",
       "      <th>1</th>\n",
       "      <td>What is the story of Kohinoor (Koh-i-Noor) Dia...</td>\n",
       "      <td>What would happen if the Indian government sto...</td>\n",
       "      <td>0</td>\n",
       "      <td>what the story kohinoor kohinoor diamond</td>\n",
       "      <td>what would happen the indian government stole ...</td>\n",
       "      <td>{r, y, m, t, k, a, n,  , o, e, s, h, w, i, d}</td>\n",
       "      <td>{b, t, k, e, w, p, v,  , u, r, c, s, h, l, g, ...</td>\n",
       "      <td>51</td>\n",
       "      <td>88</td>\n",
       "    </tr>\n",
       "    <tr>\n",
       "      <th>2</th>\n",
       "      <td>How can I increase the speed of my internet co...</td>\n",
       "      <td>How can Internet speed be increased by hacking...</td>\n",
       "      <td>0</td>\n",
       "      <td>how can increase the speed internet connection...</td>\n",
       "      <td>how can internet speed increased hacking throu...</td>\n",
       "      <td>{r, p, v, g, t, c, a, n, o,  , u, e, s, h, w, ...</td>\n",
       "      <td>{r, p, g, t, k, c, a, n, o,  , u, e, s, h, w, ...</td>\n",
       "      <td>73</td>\n",
       "      <td>59</td>\n",
       "    </tr>\n",
       "    <tr>\n",
       "      <th>3</th>\n",
       "      <td>Why am I mentally very lonely? How can I solve...</td>\n",
       "      <td>Find the remainder when [math]23^{24}[/math] i...</td>\n",
       "      <td>0</td>\n",
       "      <td>why mentally very lonely how can solve</td>\n",
       "      <td>find the remainder when math2324math divided 2423</td>\n",
       "      <td>{r, v, y, m, t, c, a, n,  , o, e, s, h, w, l}</td>\n",
       "      <td>{r, 3, v, m, t, 2, a, n,  , f, e, 4, h, w, i, d}</td>\n",
       "      <td>50</td>\n",
       "      <td>65</td>\n",
       "    </tr>\n",
       "    <tr>\n",
       "      <th>4</th>\n",
       "      <td>Which one dissolve in water quikly sugar, salt...</td>\n",
       "      <td>Which fish would survive in salt water?</td>\n",
       "      <td>0</td>\n",
       "      <td>which one dissolve water quikly sugar salt met...</td>\n",
       "      <td>which fish would survive salt water</td>\n",
       "      <td>{b, t, k, e, w, v, y,  , u, r, c, s, h, l, g, ...</td>\n",
       "      <td>{r, v, t, c, a,  , f, o, s, e, d, h, w, l, i, u}</td>\n",
       "      <td>76</td>\n",
       "      <td>39</td>\n",
       "    </tr>\n",
       "  </tbody>\n",
       "</table>\n",
       "</div>"
      ],
      "text/plain": [
       "                                                  q1  \\\n",
       "0  What is the step by step guide to invest in sh...   \n",
       "1  What is the story of Kohinoor (Koh-i-Noor) Dia...   \n",
       "2  How can I increase the speed of my internet co...   \n",
       "3  Why am I mentally very lonely? How can I solve...   \n",
       "4  Which one dissolve in water quikly sugar, salt...   \n",
       "\n",
       "                                                  q2  label  \\\n",
       "0  What is the step by step guide to invest in sh...      0   \n",
       "1  What would happen if the Indian government sto...      0   \n",
       "2  How can Internet speed be increased by hacking...      0   \n",
       "3  Find the remainder when [math]23^{24}[/math] i...      0   \n",
       "4            Which fish would survive in salt water?      0   \n",
       "\n",
       "                                          cleaned_q1  \\\n",
       "0  what the step step guide invest share market i...   \n",
       "1           what the story kohinoor kohinoor diamond   \n",
       "2  how can increase the speed internet connection...   \n",
       "3             why mentally very lonely how can solve   \n",
       "4  which one dissolve water quikly sugar salt met...   \n",
       "\n",
       "                                          cleaned_q2  \\\n",
       "0       what the step step guide invest share market   \n",
       "1  what would happen the indian government stole ...   \n",
       "2  how can internet speed increased hacking throu...   \n",
       "3  find the remainder when math2324math divided 2423   \n",
       "4                which fish would survive salt water   \n",
       "\n",
       "                                            q1_words  \\\n",
       "0  {r, p, v, g, m, t, k, a, n,  , e, s, h, w, d, ...   \n",
       "1      {r, y, m, t, k, a, n,  , o, e, s, h, w, i, d}   \n",
       "2  {r, p, v, g, t, c, a, n, o,  , u, e, s, h, w, ...   \n",
       "3      {r, v, y, m, t, c, a, n,  , o, e, s, h, w, l}   \n",
       "4  {b, t, k, e, w, v, y,  , u, r, c, s, h, l, g, ...   \n",
       "\n",
       "                                            q2_words  q1_length  q2_length  \n",
       "0  {r, p, v, g, m, t, k, a, n,  , e, s, h, w, d, ...         66         57  \n",
       "1  {b, t, k, e, w, p, v,  , u, r, c, s, h, l, g, ...         51         88  \n",
       "2  {r, p, g, t, k, c, a, n, o,  , u, e, s, h, w, ...         73         59  \n",
       "3   {r, 3, v, m, t, 2, a, n,  , f, e, 4, h, w, i, d}         50         65  \n",
       "4   {r, v, t, c, a,  , f, o, s, e, d, h, w, l, i, u}         76         39  "
      ]
     },
     "execution_count": 56,
     "metadata": {},
     "output_type": "execute_result"
    }
   ],
   "source": [
    "q= same_words_both_questions(q)\n",
    "q.head()"
   ]
  },
  {
   "cell_type": "code",
   "execution_count": 30,
   "metadata": {},
   "outputs": [],
   "source": [
    "# TfIDF vectorizer\n",
    "def to_tfidf(q):\n",
    "    # stopwords = nltk.corpus.stopwords.words('english')\n",
    "    tfidf_vect = TfidfVectorizer(use_idf=True, max_features = 3000, max_df = 0.8, stop_words=nltk.corpus.stopwords.words('english'))\n",
    "    # X_tfidf = tfidf_vect.fit_transform(q[['cleaned_q1', 'cleaned_q2']])\n",
    "\n",
    "    # Make one giant list of all question\n",
    "    questions = list(list(q['cleaned_q1']) + list(q['cleaned_q2']))\n",
    "\n",
    "    tfidf_vect.fit(questions)\n",
    "\n",
    "    q1_tfidf_vect = tfidf_vect.transform(q['cleaned_q1'].values)\n",
    "    q2_tfidf_vect = tfidf_vect.transform(q['cleaned_q2'].values)\n",
    "\n",
    "    idf = dict(zip(tfidf_vect.get_feature_names_out(), tfidf_vect.idf_))\n",
    "\n",
    "    # convert to df\n",
    "    q1_tfidf_df = pd.DataFrame.sparse.from_spmatrix(q1_tfidf_vect)\n",
    "    q2_tfidf_df = pd.DataFrame.sparse.from_spmatrix(q2_tfidf_vect)\n",
    "\n",
    "    # need to df_tfidf_vectorizer_data = pd.DataFrame(tfidf_vectorizer_data.toarray()) to have in dataframe\n",
    "\n",
    "    tfidf_X = np.hstack((q1_tfidf_df, q2_tfidf_df))\n",
    "    return(tfidf_X)"
   ]
  },
  {
   "cell_type": "code",
   "execution_count": 13,
   "metadata": {},
   "outputs": [
    {
     "name": "stderr",
     "output_type": "stream",
     "text": [
      "/Users/lilakelland/opt/anaconda3/lib/python3.8/site-packages/sklearn/utils/deprecation.py:87: FutureWarning: Function get_feature_names is deprecated; get_feature_names is deprecated in 1.0 and will be removed in 1.2. Please use get_feature_names_out instead.\n",
      "  warnings.warn(msg, category=FutureWarning)\n"
     ]
    },
    {
     "data": {
      "text/plain": [
       "(3999, 6000)"
      ]
     },
     "execution_count": 13,
     "metadata": {},
     "output_type": "execute_result"
    }
   ],
   "source": [
    "tfidf_X = to_tfidf(q)\n",
    "tfidf_X.shape"
   ]
  },
  {
   "cell_type": "code",
   "execution_count": 165,
   "metadata": {},
   "outputs": [],
   "source": [
    "\n",
    "# # try bag of words - NO BAG OF WORDS\n",
    "\n",
    "# count_vect = CountVectorizer(stop_words=nltk.corpus.stopwords.words('english'))\n",
    "# X_count = tfidf_vect.fit_transform(q[['cleaned_q1', 'cleaned_q2']])"
   ]
  },
  {
   "cell_type": "code",
   "execution_count": null,
   "metadata": {},
   "outputs": [],
   "source": [
    "# WORD TO VEC\n",
    "import gensim\n",
    "from gensim.models import KeyedVectors\n",
    "from gensim import models\n",
    "\n",
    "w2v_model = gensim.models.Word2Vec(X_train,\n",
    "                                   size=100, # can change this if more complicated - can increase, less, decrease\n",
    "                                   window=5,\n",
    "                                   min_count=2) # on"
   ]
  },
  {
   "cell_type": "code",
   "execution_count": null,
   "metadata": {},
   "outputs": [],
   "source": [
    "# pad with zeros - 150 "
   ]
  },
  {
   "cell_type": "code",
   "execution_count": null,
   "metadata": {},
   "outputs": [],
   "source": [
    "# bigrams"
   ]
  },
  {
   "cell_type": "markdown",
   "metadata": {},
   "source": [
    "### Modeling\n",
    "\n",
    "Different modeling techniques can be used:\n",
    "\n",
    "- logistic regression\n",
    "- XGBoost\n",
    "- LSTMs\n",
    "- etc"
   ]
  },
  {
   "cell_type": "code",
   "execution_count": 22,
   "metadata": {},
   "outputs": [],
   "source": [
    "from sklearn.metrics import roc_auc_score, recall_score, accuracy_score, precision_score, confusion_matrix, ConfusionMatrixDisplay\n",
    "import matplotlib.pyplot as plt\n",
    "\n",
    "from sklearn.model_selection import train_test_split\n",
    "\n",
    "from sklearn.naive_bayes import BernoulliNB\n",
    "from sklearn.linear_model import LogisticRegression\n",
    "from sklearn.ensemble import RandomForestClassifier\n",
    "from sklearn.svm import LinearSVC\n",
    "# import xgboost as xgb\n",
    "# xg_reg = xgb.XGBRegressor(\n",
    "\n",
    "from sklearn.pipeline import Pipeline\n"
   ]
  },
  {
   "cell_type": "code",
   "execution_count": 26,
   "metadata": {},
   "outputs": [],
   "source": [
    "def plot_confusion(y_test, y_pred):\n",
    "    cm = confusion_matrix(y_test, y_pred, labels=clf.classes_)\n",
    "    disp = ConfusionMatrixDisplay(confusion_matrix=cm,\n",
    "                                   display_labels=clf.classes_)\n",
    "    disp.plot()\n",
    "\n",
    "    plt.show()"
   ]
  },
  {
   "cell_type": "code",
   "execution_count": 16,
   "metadata": {},
   "outputs": [],
   "source": [
    "X_train, X_test, y_train, y_test = train_test_split(tfidf_X, q['label'], \n",
    "                                                    test_size = 0.2, random_state = 88, stratify=q['label'])\n"
   ]
  },
  {
   "cell_type": "code",
   "execution_count": null,
   "metadata": {},
   "outputs": [],
   "source": [
    "# #build pipeline\n",
    "# nlp_pipeline = Pipeline([\n",
    "#     ('preprocessing', tfidf),\n",
    "#     ('model', BernoulliNB())\n",
    "# ], verbose = True)"
   ]
  },
  {
   "cell_type": "code",
   "execution_count": 169,
   "metadata": {},
   "outputs": [],
   "source": [
    "\n"
   ]
  },
  {
   "cell_type": "code",
   "execution_count": 170,
   "metadata": {},
   "outputs": [],
   "source": [
    "# %%time\n",
    "# #fit pipeline\n",
    "# nlp_pipeline.fit(X_train, y_train)\n",
    "\n",
    "# train_accuracy = nlp_pipeline.score(X_train,y_train)\n",
    "# test_accuracy = nlp_pipeline.score(X_test,y_test)"
   ]
  },
  {
   "cell_type": "code",
   "execution_count": 171,
   "metadata": {},
   "outputs": [],
   "source": [
    "# # predict\n",
    "# nlp_pipeline.predict(X_test)"
   ]
  },
  {
   "cell_type": "markdown",
   "metadata": {},
   "source": [
    "#### Baseline Model (Log Regression)"
   ]
  },
  {
   "cell_type": "code",
   "execution_count": 27,
   "metadata": {},
   "outputs": [
    {
     "name": "stdout",
     "output_type": "stream",
     "text": [
      "Test set accuracy: 0.6675\n",
      "Test set recall: 0.5960929811963085\n",
      "Precision: 0.6675\n"
     ]
    },
    {
     "data": {
      "image/png": "[encoded data removed]",
      "text/plain": [
       "<Figure size 432x288 with 2 Axes>"
      ]
     },
     "metadata": {
      "needs_background": "light"
     },
     "output_type": "display_data"
    }
   ],
   "source": [
    "clf = LogisticRegression()\n",
    "clf.fit(X_train, y_train)\n",
    "y_pred = clf.predict(X_test)\n",
    "\n",
    "acc = accuracy_score(y_test, y_pred)\n",
    "recall = recall_score(y_test, y_pred, average='macro')\n",
    "precision =  precision_score(y_test, y_pred, average='micro')\n",
    "\n",
    "print(f'Test set accuracy: {acc}')\n",
    "print(f'Test set recall: {recall}')\n",
    "print(f'Precision: {precision}')\n",
    "\n",
    "plot_confusion(y_test, y_pred)"
   ]
  },
  {
   "cell_type": "markdown",
   "metadata": {},
   "source": [
    "### Niave Bayes"
   ]
  },
  {
   "cell_type": "code",
   "execution_count": 28,
   "metadata": {},
   "outputs": [
    {
     "name": "stdout",
     "output_type": "stream",
     "text": [
      "Test set accuracy: 0.64125\n",
      "Test set recall: 0.5952086491662012\n",
      "Precision: 0.64125\n"
     ]
    },
    {
     "data": {
      "image/png": "[encoded data removed]",
      "text/plain": [
       "<Figure size 432x288 with 2 Axes>"
      ]
     },
     "metadata": {
      "needs_background": "light"
     },
     "output_type": "display_data"
    }
   ],
   "source": [
    "clf = BernoulliNB()\n",
    "clf.fit(X_train, y_train)\n",
    "y_pred = clf.predict(X_test)\n",
    "\n",
    "acc = accuracy_score(y_test, y_pred)\n",
    "recall = recall_score(y_test, y_pred, average='macro')\n",
    "precision =  precision_score(y_test, y_pred, average='micro')\n",
    "\n",
    "print(f'Test set accuracy: {acc}')\n",
    "print(f'Test set recall: {recall}')\n",
    "print(f'Precision: {precision}')\n",
    "\n",
    "plot_confusion(y_test, y_pred)"
   ]
  },
  {
   "cell_type": "markdown",
   "metadata": {},
   "source": [
    "### Random Forest"
   ]
  },
  {
   "cell_type": "code",
   "execution_count": 29,
   "metadata": {},
   "outputs": [
    {
     "name": "stdout",
     "output_type": "stream",
     "text": [
      "Test set accuracy: 0.6875\n",
      "Test set recall: 0.6219314343466581\n",
      "Precision: 0.6875\n"
     ]
    },
    {
     "data": {
      "image/png": "[encoded data removed]",
      "text/plain": [
       "<Figure size 432x288 with 2 Axes>"
      ]
     },
     "metadata": {
      "needs_background": "light"
     },
     "output_type": "display_data"
    }
   ],
   "source": [
    "clf = RandomForestClassifier()\n",
    "clf.fit(X_train, y_train)\n",
    "y_pred = clf.predict(X_test)\n",
    "\n",
    "acc = accuracy_score(y_test, y_pred)\n",
    "recall = recall_score(y_test, y_pred, average='macro')\n",
    "precision =  precision_score(y_test, y_pred, average='micro')\n",
    "\n",
    "print(f'Test set accuracy: {acc}')\n",
    "print(f'Test set recall: {recall}')\n",
    "print(f'Precision: {precision}')\n",
    "\n",
    "plot_confusion(y_test, y_pred)"
   ]
  },
  {
   "cell_type": "code",
   "execution_count": null,
   "metadata": {},
   "outputs": [],
   "source": []
  },
  {
   "cell_type": "markdown",
   "metadata": {},
   "source": [
    "## Deep Learning"
   ]
  },
  {
   "cell_type": "code",
   "execution_count": 117,
   "metadata": {},
   "outputs": [
    {
     "ename": "ModuleNotFoundError",
     "evalue": "No module named 'keras'",
     "output_type": "error",
     "traceback": [
      "\u001b[0;31m---------------------------------------------------------------------------\u001b[0m",
      "\u001b[0;31mModuleNotFoundError\u001b[0m                       Traceback (most recent call last)",
      "\u001b[0;32m/var/folders/q4/f3xj1m3j2h3fl1lc7921wysh0000gn/T/ipykernel_10465/606835985.py\u001b[0m in \u001b[0;36m<module>\u001b[0;34m\u001b[0m\n\u001b[1;32m      1\u001b[0m \u001b[0;31m## Deep Learning\u001b[0m\u001b[0;34m\u001b[0m\u001b[0;34m\u001b[0m\u001b[0;34m\u001b[0m\u001b[0m\n\u001b[0;32m----> 2\u001b[0;31m \u001b[0;32mfrom\u001b[0m \u001b[0mkeras\u001b[0m\u001b[0;34m.\u001b[0m\u001b[0mmodels\u001b[0m \u001b[0;32mimport\u001b[0m \u001b[0mSequential\u001b[0m\u001b[0;34m\u001b[0m\u001b[0;34m\u001b[0m\u001b[0m\n\u001b[0m\u001b[1;32m      3\u001b[0m \u001b[0;32mfrom\u001b[0m \u001b[0mkeras\u001b[0m \u001b[0;32mimport\u001b[0m \u001b[0mlayers\u001b[0m\u001b[0;34m\u001b[0m\u001b[0;34m\u001b[0m\u001b[0m\n\u001b[1;32m      4\u001b[0m \u001b[0;34m\u001b[0m\u001b[0m\n\u001b[1;32m      5\u001b[0m \u001b[0minput_dim\u001b[0m \u001b[0;34m=\u001b[0m \u001b[0mX_train\u001b[0m\u001b[0;34m.\u001b[0m\u001b[0mshape\u001b[0m\u001b[0;34m[\u001b[0m\u001b[0;36m1\u001b[0m\u001b[0;34m]\u001b[0m  \u001b[0;31m# Number of features\u001b[0m\u001b[0;34m\u001b[0m\u001b[0;34m\u001b[0m\u001b[0m\n",
      "\u001b[0;31mModuleNotFoundError\u001b[0m: No module named 'keras'"
     ]
    }
   ],
   "source": [
    "\n",
    "from keras.models import Sequential\n",
    "from keras import layers\n",
    "\n",
    "input_dim = X_train.shape[1]  # Number of features\n",
    "\n",
    "model = Sequential()\n",
    "model.add(layers.Dense(10, input_dim=input_dim, activation='relu'))\n",
    "model.add(layers.Dense(1, activation='sigmoid'))"
   ]
  },
  {
   "cell_type": "code",
   "execution_count": null,
   "metadata": {},
   "outputs": [],
   "source": [
    "model.compile(loss='binary_crossentropy', \n",
    "              optimizer='adam', \n",
    "              metrics=['accuracy'])\n",
    "model.summary()"
   ]
  },
  {
   "cell_type": "code",
   "execution_count": null,
   "metadata": {},
   "outputs": [],
   "source": [
    "history = model.fit(X_train, y_train,\n",
    "                    epochs=100,\n",
    "                    verbose=False,\n",
    "                    validation_data=(X_test, y_test),\n",
    "                    batch_size=10)"
   ]
  },
  {
   "cell_type": "code",
   "execution_count": null,
   "metadata": {},
   "outputs": [],
   "source": [
    "from keras.backend import clear_session\n",
    "clear_session()"
   ]
  },
  {
   "cell_type": "code",
   "execution_count": null,
   "metadata": {},
   "outputs": [],
   "source": [
    "loss, accuracy = model.evaluate(X_train, y_train, verbose=False)\n",
    "print(\"Training Accuracy: {:.4f}\".format(accuracy))\n",
    "loss, accuracy = model.evaluate(X_test, y_test, verbose=False)\n",
    "print(\"Testing Accuracy:  {:.4f}\".format(accuracy))"
   ]
  },
  {
   "cell_type": "code",
   "execution_count": null,
   "metadata": {},
   "outputs": [],
   "source": [
    "# Visulalize\n",
    "import matplotlib.pyplot as plt\n",
    "plt.style.use('ggplot')\n",
    "\n",
    "def plot_history(history):\n",
    "    acc = history.history['accuracy']\n",
    "    val_acc = history.history['val_accuracy']\n",
    "    loss = history.history['loss']\n",
    "    val_loss = history.history['val_loss']\n",
    "    x = range(1, len(acc) + 1)\n",
    "\n",
    "    plt.figure(figsize=(12, 5))\n",
    "    plt.subplot(1, 2, 1)\n",
    "    plt.plot(x, acc, 'b', label='Training acc')\n",
    "    plt.plot(x, val_acc, 'r', label='Validation acc')\n",
    "    plt.title('Training and validation accuracy')\n",
    "    plt.legend()\n",
    "    plt.subplot(1, 2, 2)\n",
    "    plt.plot(x, loss, 'b', label='Training loss')\n",
    "    plt.plot(x, val_loss, 'r', label='Validation loss')\n",
    "    plt.title('Training and validation loss')\n",
    "    plt.legend()\n",
    "    \n",
    "plot_history(history)"
   ]
  },
  {
   "cell_type": "markdown",
   "metadata": {},
   "source": [
    "## Word embedding"
   ]
  },
  {
   "cell_type": "code",
   "execution_count": null,
   "metadata": {},
   "outputs": [],
   "source": [
    "from keras.preprocessing.text import Tokenizer\n",
    "\n",
    "tokenizer = Tokenizer(num_words=5000)\n",
    "tokenizer.fit_on_texts(sentences_train)\n",
    "\n",
    "X_train = tokenizer.texts_to_sequences(sentences_train)\n",
    "X_test = tokenizer.texts_to_sequences(sentences_test)\n",
    "\n",
    "vocab_size = len(tokenizer.word_index) + 1  # Adding 1 because of reserved 0 index\n",
    "\n",
    "print(sentences_train[2])\n",
    "print(X_train[2])"
   ]
  },
  {
   "cell_type": "code",
   "execution_count": null,
   "metadata": {},
   "outputs": [],
   "source": [
    "from keras.preprocessing.sequence import pad_sequences\n",
    "# as diff sequences has different lengths, doesn't matter if prepad or post pad\n",
    "\n",
    "maxlen = 100\n",
    "\n",
    "X_train = pad_sequences(X_train, padding='post', maxlen=maxlen)\n",
    "X_test = pad_sequences(X_test, padding='post', maxlen=maxlen)\n",
    "\n",
    "print(X_train[0, :])\n",
    "# represents the index in the vocab"
   ]
  },
  {
   "cell_type": "code",
   "execution_count": null,
   "metadata": {},
   "outputs": [],
   "source": [
    "from keras.models import Sequential\n",
    "from keras import layers\n",
    "\n",
    "embedding_dim = 50\n",
    "\n",
    "model = Sequential()\n",
    "model.add(layers.Embedding(input_dim=vocab_size, \n",
    "                           output_dim=embedding_dim, \n",
    "                           input_length=maxlen))\n",
    "model.add(layers.Flatten())\n",
    "model.add(layers.Dense(10, activation='relu'))\n",
    "model.add(layers.Dense(1, activation='sigmoid'))\n",
    "model.compile(optimizer='adam',\n",
    "              loss='binary_crossentropy',\n",
    "              metrics=['accuracy'])\n",
    "model.summary()"
   ]
  },
  {
   "cell_type": "code",
   "execution_count": null,
   "metadata": {},
   "outputs": [],
   "source": [
    "history = model.fit(X_train, y_train,\n",
    "                    epochs=20,\n",
    "                    verbose=False,\n",
    "                    validation_data=(X_test, y_test),\n",
    "                    batch_size=10)\n",
    "loss, accuracy = model.evaluate(X_train, y_train, verbose=False)\n",
    "print(\"Training Accuracy: {:.4f}\".format(accuracy))\n",
    "loss, accuracy = model.evaluate(X_test, y_test, verbose=False)\n",
    "print(\"Testing Accuracy:  {:.4f}\".format(accuracy))\n",
    "plot_history(history)"
   ]
  }
 ],
 "metadata": {
  "kernelspec": {
   "display_name": "Python 3 (ipykernel)",
   "language": "python",
   "name": "python3"
  },
  "language_info": {
   "codemirror_mode": {
    "name": "ipython",
    "version": 3
   },
   "file_extension": ".py",
   "mimetype": "text/x-python",
   "name": "python",
   "nbconvert_exporter": "python",
   "pygments_lexer": "ipython3",
   "version": "3.9.7"
  }
 },
 "nbformat": 4,
 "nbformat_minor": 4
}
