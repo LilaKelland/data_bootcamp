{
  "nbformat": 4,
  "nbformat_minor": 0,
  "metadata": {
    "kernelspec": {
      "display_name": "Python 3 (ipykernel)",
      "language": "python",
      "name": "python3"
    },
    "language_info": {
      "codemirror_mode": {
        "name": "ipython",
        "version": 3
      },
      "file_extension": ".py",
      "mimetype": "text/x-python",
      "name": "python",
      "nbconvert_exporter": "python",
      "pygments_lexer": "ipython3",
      "version": "3.9.7"
    },
    "colab": {
      "name": "2.0_cleaning_and_modelling.ipynb",
      "provenance": [],
      "machine_shape": "hm"
    },
    "accelerator": "TPU"
  },
  "cells": [
    {
      "cell_type": "markdown",
      "metadata": {
        "id": "vQFHrepYuDNM"
      },
      "source": [
        "## Identifying Duplicate Questions"
      ]
    },
    {
      "cell_type": "markdown",
      "metadata": {
        "id": "WQJAybinuDNP"
      },
      "source": [
        "Over 100 million people visit Quora every month, so it's no surprise that many people ask similar (or the same) questions. Various questions with the same intent can cause people to spend extra time searching for the best answer to their question, and make writers to answer multiple versions of the same question. Quora uses random forest to identify duplicated questions to provide a better experience to active seekers and writers, and offer more value to both of these groups in the long term.\n",
        "\n",
        "We are going to build the similar model during this project!"
      ]
    },
    {
      "cell_type": "code",
      "metadata": {
        "id": "OLqmFIu264r1"
      },
      "source": [
        "# https://www.kaggle.com/ratul6/quora-question-pairs-analysis-using-lstm"
      ],
      "execution_count": null,
      "outputs": []
    },
    {
      "cell_type": "code",
      "metadata": {
        "id": "gHXcY-UOuDNQ"
      },
      "source": [
        "import pandas as pd\n",
        "import numpy as np\n",
        "\n",
        "import matplotlib.pyplot as plt\n",
        "import seaborn as sns\n",
        "\n",
        "from matplotlib import rcParams"
      ],
      "execution_count": 1,
      "outputs": []
    },
    {
      "cell_type": "markdown",
      "metadata": {
        "id": "i8jaHIX9uDNR"
      },
      "source": [
        "### Punctuation"
      ]
    },
    {
      "cell_type": "code",
      "metadata": {
        "colab": {
          "base_uri": "https://localhost:8080/"
        },
        "id": "rg-_hbgeuDNS",
        "outputId": "4af7c970-d280-448d-f0c2-2b5e17e38674"
      },
      "source": [
        "import string\n",
        "\n",
        "punctuations = string.punctuation\n",
        "\n",
        "print(punctuations)"
      ],
      "execution_count": 2,
      "outputs": [
        {
          "output_type": "stream",
          "name": "stdout",
          "text": [
            "!\"#$%&'()*+,-./:;<=>?@[\\]^_`{|}~\n"
          ]
        }
      ]
    },
    {
      "cell_type": "code",
      "metadata": {
        "id": "x4doPYe5uDNT"
      },
      "source": [
        "# yeah - I'm going to get rid of them all! (except &?)"
      ],
      "execution_count": 3,
      "outputs": []
    },
    {
      "cell_type": "markdown",
      "metadata": {
        "id": "aBf8Ns4auDNT"
      },
      "source": [
        "### Cleaning\n",
        "\n",
        "- Tokenization\n",
        "- Stopwords cleaning\n",
        "- Removing punctuation\n",
        "- Normalizing\n",
        "- Stemming"
      ]
    },
    {
      "cell_type": "code",
      "metadata": {
        "colab": {
          "base_uri": "https://localhost:8080/"
        },
        "id": "Yd_ig2nauDNT",
        "outputId": "8de7c8ed-4240-4deb-eb27-efcc6c583512"
      },
      "source": [
        "# Import ALL the libraries\n",
        "import pandas as pd\n",
        "import numpy as np\n",
        "\n",
        "# for stopword removal \n",
        "import nltk\n",
        "nltk.download('stopwords')\n",
        "from nltk.corpus import stopwords\n",
        "\n",
        "# for punctuation removal\n",
        "import string\n",
        "\n",
        "# for tokenizing into words\n",
        "import re\n",
        "from nltk.tokenize import word_tokenize\n",
        "\n",
        "# for stemming\n",
        "nltk.download('punkt')\n",
        "from nltk.stem import PorterStemmer\n",
        "\n",
        "# for lematizing\n",
        "nltk.download('wordnet')\n",
        "from nltk.stem import WordNetLemmatizer \n",
        "\n",
        "# FEATURE ENGINEERING\n",
        "\n",
        "# Bag of words count vectorizer\n",
        "from sklearn.feature_extraction.text import CountVectorizer\n",
        "\n",
        "# TF-IDF vectorizer\n",
        "from sklearn.feature_extraction.text import TfidfVectorizer"
      ],
      "execution_count": 3,
      "outputs": [
        {
          "output_type": "stream",
          "name": "stdout",
          "text": [
            "[nltk_data] Downloading package stopwords to /root/nltk_data...\n",
            "[nltk_data]   Package stopwords is already up-to-date!\n",
            "[nltk_data] Downloading package punkt to /root/nltk_data...\n",
            "[nltk_data]   Package punkt is already up-to-date!\n",
            "[nltk_data] Downloading package wordnet to /root/nltk_data...\n",
            "[nltk_data]   Package wordnet is already up-to-date!\n"
          ]
        }
      ]
    },
    {
      "cell_type": "code",
      "metadata": {
        "colab": {
          "base_uri": "https://localhost:8080/"
        },
        "id": "EznzWowNuDNU",
        "outputId": "f635e096-6772-4265-966f-226081ae1353"
      },
      "source": [
        "# read fresh data\n",
        "from google.colab import drive\n",
        "drive.mount('/content/drive')\n",
        "# path = /content/train.csv\n"
      ],
      "execution_count": 4,
      "outputs": [
        {
          "output_type": "stream",
          "name": "stdout",
          "text": [
            "Drive already mounted at /content/drive; to attempt to forcibly remount, call drive.mount(\"/content/drive\", force_remount=True).\n"
          ]
        }
      ]
    },
    {
      "cell_type": "code",
      "metadata": {
        "colab": {
          "base_uri": "https://localhost:8080/"
        },
        "id": "dYPh4_6UvLhn",
        "outputId": "8e0be163-f153-44ec-d63b-cd755e680459"
      },
      "source": [
        "# df = pd.read_csv(\"drive/MyDrive/ColabNotebooks/train.csv\")\n",
        "df = pd.read_csv('/content/drive/My Drive/Colab Notebooks/train.csv')\n",
        "# df = pd.read_csv('train.csv')\n",
        "# df = df[0:80000]\n",
        "df.shape\n"
      ],
      "execution_count": 4,
      "outputs": [
        {
          "output_type": "execute_result",
          "data": {
            "text/plain": [
              "(404290, 6)"
            ]
          },
          "metadata": {},
          "execution_count": 4
        }
      ]
    },
    {
      "cell_type": "code",
      "metadata": {
        "id": "x5t2HJQ5C3Sg"
      },
      "source": [
        "# q = df.copy()\n",
        "# q['label'] = df.is_duplicate"
      ],
      "execution_count": 12,
      "outputs": []
    },
    {
      "cell_type": "markdown",
      "metadata": {
        "id": "H8rRKtGvuDNV"
      },
      "source": [
        "#### Clean data"
      ]
    },
    {
      "cell_type": "code",
      "metadata": {
        "id": "HF-tjf47uDNV"
      },
      "source": [
        "def rename_df(df):\n",
        "    q = df[['question1', 'question2', 'is_duplicate']]\n",
        "    q.columns = ['q1', 'q2', 'label']\n",
        "    return q\n",
        "\n",
        "def drop_long_short_questions(q):\n",
        "    q['q1_length'] = q.q1.map(lambda x: len(x))\n",
        "    q['q2_length'] = q.q2.map(lambda x: len(x))\n",
        "    \n",
        "    to_drop = q[(q['q2_length'] < 10) | (q['q1_length'] < 10)].index.tolist()\n",
        "    q = q.drop(to_drop)\n",
        "\n",
        "    # drop anything > 500\n",
        "    to_drop = q[(q['q2_length'] > 500) | (q['q1_length'] > 500)].index.tolist()\n",
        "    q = q.drop(to_drop)\n",
        "\n",
        "    # truncate the rest ( most in first part?)\n",
        "    q = q.drop(columns=['q2_length','q1_length'])\n",
        "    return q"
      ],
      "execution_count": 6,
      "outputs": []
    },
    {
      "cell_type": "code",
      "metadata": {
        "colab": {
          "base_uri": "https://localhost:8080/"
        },
        "id": "QG-hPUBmuDNW",
        "outputId": "185ef444-4864-499b-ce56-eb7d35bd7ee5"
      },
      "source": [
        "# strip out bad data before training \n",
        "\n",
        "df = df.dropna()\n",
        "q = rename_df(df)\n",
        "q = drop_long_short_questions(q)\n"
      ],
      "execution_count": 7,
      "outputs": [
        {
          "output_type": "stream",
          "name": "stderr",
          "text": [
            "/usr/local/lib/python3.7/dist-packages/ipykernel_launcher.py:7: SettingWithCopyWarning: \n",
            "A value is trying to be set on a copy of a slice from a DataFrame.\n",
            "Try using .loc[row_indexer,col_indexer] = value instead\n",
            "\n",
            "See the caveats in the documentation: https://pandas.pydata.org/pandas-docs/stable/user_guide/indexing.html#returning-a-view-versus-a-copy\n",
            "  import sys\n",
            "/usr/local/lib/python3.7/dist-packages/ipykernel_launcher.py:8: SettingWithCopyWarning: \n",
            "A value is trying to be set on a copy of a slice from a DataFrame.\n",
            "Try using .loc[row_indexer,col_indexer] = value instead\n",
            "\n",
            "See the caveats in the documentation: https://pandas.pydata.org/pandas-docs/stable/user_guide/indexing.html#returning-a-view-versus-a-copy\n",
            "  \n"
          ]
        }
      ]
    },
    {
      "cell_type": "code",
      "metadata": {
        "colab": {
          "base_uri": "https://localhost:8080/"
        },
        "id": "yfXzovdDuDNW",
        "outputId": "05fbcdde-93e1-4b2a-f721-a124f0419967"
      },
      "source": [
        "q.shape"
      ],
      "execution_count": 8,
      "outputs": [
        {
          "output_type": "execute_result",
          "data": {
            "text/plain": [
              "(79974, 3)"
            ]
          },
          "metadata": {},
          "execution_count": 8
        }
      ]
    },
    {
      "cell_type": "code",
      "metadata": {
        "id": "3dCn6b2zuDNW"
      },
      "source": [
        ""
      ],
      "execution_count": 11,
      "outputs": []
    },
    {
      "cell_type": "code",
      "metadata": {
        "id": "59aIWMMUuDNX"
      },
      "source": [
        "# Encompassing function to clean all \n",
        "# replace $? contractions?\n",
        "\n",
        "lemmatizer = WordNetLemmatizer() \n",
        "def clean_questions(text):\n",
        "    text = str(text).strip()  #remove extra spaces at beginning and end\n",
        "    # text = [word for word in text if word not in stopwords] # move to tokenizer \n",
        "    text = \"\".join([lemmatizer.lemmatize(word.lower()) for word in text if word not in string.punctuation])   # punctuation\n",
        "    text = ' '.join( [w for w in text.split() if len(w)>2] )  # remove words 1 letter or less\n",
        "\n",
        "    return text"
      ],
      "execution_count": 9,
      "outputs": []
    },
    {
      "cell_type": "code",
      "metadata": {
        "colab": {
          "base_uri": "https://localhost:8080/"
        },
        "id": "WCoaOvx0uDNX",
        "outputId": "657fb836-fca3-4e15-82bb-9526752f852c"
      },
      "source": [
        "# # test out function\n",
        "\n",
        "text = q.iloc[3]['q1']\n",
        "clean_text = clean_questions(text)\n",
        "print(clean_text)"
      ],
      "execution_count": 10,
      "outputs": [
        {
          "output_type": "stream",
          "name": "stdout",
          "text": [
            "why mentally very lonely how can solve\n"
          ]
        }
      ]
    },
    {
      "cell_type": "code",
      "metadata": {
        "id": "URl5BJ0GuDNX"
      },
      "source": [
        "def clean_q1_q2(q):\n",
        "    \n",
        "    q['cleaned_q1'] = q['q1'].apply(lambda x: clean_questions(x))\n",
        "    q['cleaned_q2'] = q['q2'].apply(lambda x: clean_questions(x))\n",
        "    return q"
      ],
      "execution_count": 11,
      "outputs": []
    },
    {
      "cell_type": "code",
      "metadata": {
        "colab": {
          "base_uri": "https://localhost:8080/",
          "height": 203
        },
        "id": "yfX5hRq-uDNX",
        "outputId": "ee4083d9-bd33-4924-f34e-1f6aeb373eb1"
      },
      "source": [
        "q = clean_q1_q2(q)\n",
        "q.head()"
      ],
      "execution_count": 12,
      "outputs": [
        {
          "output_type": "execute_result",
          "data": {
            "text/html": [
              "<div>\n",
              "<style scoped>\n",
              "    .dataframe tbody tr th:only-of-type {\n",
              "        vertical-align: middle;\n",
              "    }\n",
              "\n",
              "    .dataframe tbody tr th {\n",
              "        vertical-align: top;\n",
              "    }\n",
              "\n",
              "    .dataframe thead th {\n",
              "        text-align: right;\n",
              "    }\n",
              "</style>\n",
              "<table border=\"1\" class=\"dataframe\">\n",
              "  <thead>\n",
              "    <tr style=\"text-align: right;\">\n",
              "      <th></th>\n",
              "      <th>q1</th>\n",
              "      <th>q2</th>\n",
              "      <th>label</th>\n",
              "      <th>cleaned_q1</th>\n",
              "      <th>cleaned_q2</th>\n",
              "    </tr>\n",
              "  </thead>\n",
              "  <tbody>\n",
              "    <tr>\n",
              "      <th>0</th>\n",
              "      <td>What is the step by step guide to invest in sh...</td>\n",
              "      <td>What is the step by step guide to invest in sh...</td>\n",
              "      <td>0</td>\n",
              "      <td>what the step step guide invest share market i...</td>\n",
              "      <td>what the step step guide invest share market</td>\n",
              "    </tr>\n",
              "    <tr>\n",
              "      <th>1</th>\n",
              "      <td>What is the story of Kohinoor (Koh-i-Noor) Dia...</td>\n",
              "      <td>What would happen if the Indian government sto...</td>\n",
              "      <td>0</td>\n",
              "      <td>what the story kohinoor kohinoor diamond</td>\n",
              "      <td>what would happen the indian government stole ...</td>\n",
              "    </tr>\n",
              "    <tr>\n",
              "      <th>2</th>\n",
              "      <td>How can I increase the speed of my internet co...</td>\n",
              "      <td>How can Internet speed be increased by hacking...</td>\n",
              "      <td>0</td>\n",
              "      <td>how can increase the speed internet connection...</td>\n",
              "      <td>how can internet speed increased hacking throu...</td>\n",
              "    </tr>\n",
              "    <tr>\n",
              "      <th>3</th>\n",
              "      <td>Why am I mentally very lonely? How can I solve...</td>\n",
              "      <td>Find the remainder when [math]23^{24}[/math] i...</td>\n",
              "      <td>0</td>\n",
              "      <td>why mentally very lonely how can solve</td>\n",
              "      <td>find the remainder when math2324math divided 2423</td>\n",
              "    </tr>\n",
              "    <tr>\n",
              "      <th>4</th>\n",
              "      <td>Which one dissolve in water quikly sugar, salt...</td>\n",
              "      <td>Which fish would survive in salt water?</td>\n",
              "      <td>0</td>\n",
              "      <td>which one dissolve water quikly sugar salt met...</td>\n",
              "      <td>which fish would survive salt water</td>\n",
              "    </tr>\n",
              "  </tbody>\n",
              "</table>\n",
              "</div>"
            ],
            "text/plain": [
              "                                                  q1  ...                                         cleaned_q2\n",
              "0  What is the step by step guide to invest in sh...  ...       what the step step guide invest share market\n",
              "1  What is the story of Kohinoor (Koh-i-Noor) Dia...  ...  what would happen the indian government stole ...\n",
              "2  How can I increase the speed of my internet co...  ...  how can internet speed increased hacking throu...\n",
              "3  Why am I mentally very lonely? How can I solve...  ...  find the remainder when math2324math divided 2423\n",
              "4  Which one dissolve in water quikly sugar, salt...  ...                which fish would survive salt water\n",
              "\n",
              "[5 rows x 5 columns]"
            ]
          },
          "metadata": {},
          "execution_count": 12
        }
      ]
    },
    {
      "cell_type": "code",
      "metadata": {
        "id": "r7ShgCmczjCJ"
      },
      "source": [
        "# save cleaned data\n",
        "\n",
        "q_clean = q.copy()\n",
        "# q = q_clean.copy()"
      ],
      "execution_count": 13,
      "outputs": []
    },
    {
      "cell_type": "code",
      "metadata": {
        "id": "Gx7O_lcOuDNY"
      },
      "source": [
        "def find_overlapping_words(q):\n",
        "    q['q1_words'] = q['cleaned_q1'].apply(lambda x: list(set(x.split())))\n",
        "    q['q2_words'] = q['cleaned_q2'].apply(lambda x: list(set(x.split())))\n",
        "#     q['overlap_words'] = q.apply(set(set(q['cleaned_q1'].split()) & set(q['cleaned_q2'].split()))\n",
        "    return q\n",
        "q = find_overlapping_words(q)"
      ],
      "execution_count": 14,
      "outputs": []
    },
    {
      "cell_type": "code",
      "metadata": {
        "colab": {
          "base_uri": "https://localhost:8080/",
          "height": 287
        },
        "id": "d07nx4UhlGm1",
        "outputId": "24171ed5-0384-4f7e-fe56-8dca7426c8ff"
      },
      "source": [
        "q.head()"
      ],
      "execution_count": 15,
      "outputs": [
        {
          "output_type": "execute_result",
          "data": {
            "text/html": [
              "<div>\n",
              "<style scoped>\n",
              "    .dataframe tbody tr th:only-of-type {\n",
              "        vertical-align: middle;\n",
              "    }\n",
              "\n",
              "    .dataframe tbody tr th {\n",
              "        vertical-align: top;\n",
              "    }\n",
              "\n",
              "    .dataframe thead th {\n",
              "        text-align: right;\n",
              "    }\n",
              "</style>\n",
              "<table border=\"1\" class=\"dataframe\">\n",
              "  <thead>\n",
              "    <tr style=\"text-align: right;\">\n",
              "      <th></th>\n",
              "      <th>q1</th>\n",
              "      <th>q2</th>\n",
              "      <th>label</th>\n",
              "      <th>cleaned_q1</th>\n",
              "      <th>cleaned_q2</th>\n",
              "      <th>q1_words</th>\n",
              "      <th>q2_words</th>\n",
              "    </tr>\n",
              "  </thead>\n",
              "  <tbody>\n",
              "    <tr>\n",
              "      <th>0</th>\n",
              "      <td>What is the step by step guide to invest in sh...</td>\n",
              "      <td>What is the step by step guide to invest in sh...</td>\n",
              "      <td>0</td>\n",
              "      <td>what the step step guide invest share market i...</td>\n",
              "      <td>what the step step guide invest share market</td>\n",
              "      <td>[share, invest, market, step, the, what, guide...</td>\n",
              "      <td>[share, invest, market, step, the, what, guide]</td>\n",
              "    </tr>\n",
              "    <tr>\n",
              "      <th>1</th>\n",
              "      <td>What is the story of Kohinoor (Koh-i-Noor) Dia...</td>\n",
              "      <td>What would happen if the Indian government sto...</td>\n",
              "      <td>0</td>\n",
              "      <td>what the story kohinoor kohinoor diamond</td>\n",
              "      <td>what would happen the indian government stole ...</td>\n",
              "      <td>[diamond, story, kohinoor, the, what]</td>\n",
              "      <td>[back, would, diamond, kohinoor, stole, the, w...</td>\n",
              "    </tr>\n",
              "    <tr>\n",
              "      <th>2</th>\n",
              "      <td>How can I increase the speed of my internet co...</td>\n",
              "      <td>How can Internet speed be increased by hacking...</td>\n",
              "      <td>0</td>\n",
              "      <td>how can increase the speed internet connection...</td>\n",
              "      <td>how can internet speed increased hacking throu...</td>\n",
              "      <td>[can, speed, connection, the, internet, while,...</td>\n",
              "      <td>[can, speed, through, increased, internet, hac...</td>\n",
              "    </tr>\n",
              "    <tr>\n",
              "      <th>3</th>\n",
              "      <td>Why am I mentally very lonely? How can I solve...</td>\n",
              "      <td>Find the remainder when [math]23^{24}[/math] i...</td>\n",
              "      <td>0</td>\n",
              "      <td>why mentally very lonely how can solve</td>\n",
              "      <td>find the remainder when math2324math divided 2423</td>\n",
              "      <td>[can, why, lonely, mentally, solve, how, very]</td>\n",
              "      <td>[2423, remainder, find, the, divided, math2324...</td>\n",
              "    </tr>\n",
              "    <tr>\n",
              "      <th>4</th>\n",
              "      <td>Which one dissolve in water quikly sugar, salt...</td>\n",
              "      <td>Which fish would survive in salt water?</td>\n",
              "      <td>0</td>\n",
              "      <td>which one dissolve water quikly sugar salt met...</td>\n",
              "      <td>which fish would survive salt water</td>\n",
              "      <td>[sugar, salt, and, dissolve, one, oxide, quikl...</td>\n",
              "      <td>[salt, would, fish, survive, which, water]</td>\n",
              "    </tr>\n",
              "  </tbody>\n",
              "</table>\n",
              "</div>"
            ],
            "text/plain": [
              "                                                  q1  ...                                           q2_words\n",
              "0  What is the step by step guide to invest in sh...  ...    [share, invest, market, step, the, what, guide]\n",
              "1  What is the story of Kohinoor (Koh-i-Noor) Dia...  ...  [back, would, diamond, kohinoor, stole, the, w...\n",
              "2  How can I increase the speed of my internet co...  ...  [can, speed, through, increased, internet, hac...\n",
              "3  Why am I mentally very lonely? How can I solve...  ...  [2423, remainder, find, the, divided, math2324...\n",
              "4  Which one dissolve in water quikly sugar, salt...  ...         [salt, would, fish, survive, which, water]\n",
              "\n",
              "[5 rows x 7 columns]"
            ]
          },
          "metadata": {},
          "execution_count": 15
        }
      ]
    },
    {
      "cell_type": "code",
      "metadata": {
        "colab": {
          "base_uri": "https://localhost:8080/"
        },
        "id": "RF0XbjvupgN9",
        "outputId": "34557639-9545-4086-bbb4-a0c73f143155"
      },
      "source": [
        "# overlap words\n",
        "q['overlap_words'] =0\n",
        "for index, row in q.iterrows():\n",
        "  q['overlap_words'][index] = list(set(q['q1_words'][index]) & set(q['q2_words'][index]))\n"
      ],
      "execution_count": 16,
      "outputs": [
        {
          "output_type": "stream",
          "name": "stderr",
          "text": [
            "/usr/local/lib/python3.7/dist-packages/ipykernel_launcher.py:4: SettingWithCopyWarning: \n",
            "A value is trying to be set on a copy of a slice from a DataFrame\n",
            "\n",
            "See the caveats in the documentation: https://pandas.pydata.org/pandas-docs/stable/user_guide/indexing.html#returning-a-view-versus-a-copy\n",
            "  after removing the cwd from sys.path.\n",
            "/usr/local/lib/python3.7/dist-packages/pandas/core/indexing.py:670: SettingWithCopyWarning: \n",
            "A value is trying to be set on a copy of a slice from a DataFrame\n",
            "\n",
            "See the caveats in the documentation: https://pandas.pydata.org/pandas-docs/stable/user_guide/indexing.html#returning-a-view-versus-a-copy\n",
            "  iloc._setitem_with_indexer(indexer, value)\n"
          ]
        }
      ]
    },
    {
      "cell_type": "code",
      "metadata": {
        "colab": {
          "base_uri": "https://localhost:8080/"
        },
        "id": "UIdlpN_Z4GJq",
        "outputId": "d6693cbd-9416-44b4-ce80-387cdc846ebc"
      },
      "source": [
        "q['q1_overlap_ratio'] = q.q1_words\n",
        "q['q2_overlap_ratio'] = q.q2_words\n",
        "\n",
        "for index, row in q.iterrows():\n",
        "  q['q1_overlap_ratio'][index] = len(q.overlap_words[index])/(len(q.q1_words[index])+0.000001)\n",
        "  q['q2_overlap_ratio'][index] = len(q.overlap_words[index])/(len(q.q2_words[index])+0.000001)\n",
        " "
      ],
      "execution_count": 17,
      "outputs": [
        {
          "output_type": "stream",
          "name": "stderr",
          "text": [
            "/usr/local/lib/python3.7/dist-packages/ipykernel_launcher.py:5: SettingWithCopyWarning: \n",
            "A value is trying to be set on a copy of a slice from a DataFrame\n",
            "\n",
            "See the caveats in the documentation: https://pandas.pydata.org/pandas-docs/stable/user_guide/indexing.html#returning-a-view-versus-a-copy\n",
            "  \"\"\"\n",
            "/usr/local/lib/python3.7/dist-packages/ipykernel_launcher.py:6: SettingWithCopyWarning: \n",
            "A value is trying to be set on a copy of a slice from a DataFrame\n",
            "\n",
            "See the caveats in the documentation: https://pandas.pydata.org/pandas-docs/stable/user_guide/indexing.html#returning-a-view-versus-a-copy\n",
            "  \n"
          ]
        }
      ]
    },
    {
      "cell_type": "code",
      "metadata": {
        "id": "pDz1WN1Xp-Pd"
      },
      "source": [
        "# q.head()"
      ],
      "execution_count": 18,
      "outputs": []
    },
    {
      "cell_type": "code",
      "metadata": {
        "id": "TgNqDHuxuDNZ"
      },
      "source": [
        "q['questions'] = q['cleaned_q1'] +\"','\"+ q['cleaned_q2']"
      ],
      "execution_count": 19,
      "outputs": []
    },
    {
      "cell_type": "code",
      "metadata": {
        "colab": {
          "base_uri": "https://localhost:8080/"
        },
        "id": "au3kAtKjGpaK",
        "outputId": "d9b76e52-756e-4bfb-818f-f6d02263332f"
      },
      "source": [
        "q.q1_overlap_ratio.max(), q.q1_overlap_ratio.min(), q.q2_overlap_ratio.max(), q.q2_overlap_ratio.min()\n",
        "q.isna().sum()\n",
        "q.q1_overlap_ratio.dtype\n",
        "q.q2_overlap_ratio.dtype\n",
        "q.q1_overlap_ratio= pd.to_numeric(q.q1_overlap_ratio)\n",
        "q.q2_overlap_ratio= pd.to_numeric(q.q2_overlap_ratio)\n",
        "q.q2_overlap_ratio.dtype"
      ],
      "execution_count": 20,
      "outputs": [
        {
          "output_type": "execute_result",
          "data": {
            "text/plain": [
              "dtype('float64')"
            ]
          },
          "metadata": {},
          "execution_count": 20
        }
      ]
    },
    {
      "cell_type": "code",
      "metadata": {
        "id": "UZpAlDrSuDNd"
      },
      "source": [
        "# # Generate duplicate pair word cloud\n",
        "# word_cloud = WordCloud(background_color='black', max_words=len(dup_str), stopwords=stop_words, width=600, height=400)\n",
        "# word_cloud.generate(dup_str)\n",
        "\n",
        "# print('Word cloud for duplicate pairs')\n",
        "# plt.figure(figsize=(15,8))\n",
        "# plt.imshow(word_cloud, interpolation='bilinear')\n",
        "# plt.axis('off')\n",
        "\n",
        "# plt.show()"
      ],
      "execution_count": 23,
      "outputs": []
    },
    {
      "cell_type": "markdown",
      "metadata": {
        "id": "rDXQxp6vuDNd"
      },
      "source": [
        "### Feature Engineering\n",
        "\n",
        "- tf-idf\n",
        "- word2vec\n",
        "- word count\n",
        "- number of the same words in both questions\n",
        "- ...."
      ]
    },
    {
      "cell_type": "code",
      "metadata": {
        "id": "_lCwBnhFuDNe"
      },
      "source": [
        "# # preprocessing ( after strip out bad data above)\n",
        "# q = rename_df(df)\n",
        "# q = clean_q1_q2(q)"
      ],
      "execution_count": 24,
      "outputs": []
    },
    {
      "cell_type": "code",
      "metadata": {
        "id": "SZA9Rt7suDNe"
      },
      "source": [
        "# def word_count(q):\n",
        "#     pass"
      ],
      "execution_count": 25,
      "outputs": []
    },
    {
      "cell_type": "code",
      "metadata": {
        "id": "mnPfqvVYuDNe"
      },
      "source": [
        "# def same_words_both_questions(q):\n",
        "#     q['q1_words'] = q.cleaned_q1.map(lambda x: set(x.split()))\n",
        "#     q['q2_words'] = q.cleaned_q2.map(lambda x: set(x.split()))\n",
        "# #     q2_words = set(q.q2)\n",
        "# #     q['same_words'] = set(q1_words & q2_words)\n",
        "# #     q['ratio_same_words_q1'] = len(q1_words & q2_words)/len(q1_words)\n",
        "# #     q['ratio_same_words_q2'] = len(q1_words & q2_words)/len(q2_words)\n",
        "#     return q\n",
        "    "
      ],
      "execution_count": 26,
      "outputs": []
    },
    {
      "cell_type": "code",
      "metadata": {
        "id": "aavGAD7TuDNe"
      },
      "source": [
        "q['q1_char_length'] = q.q1.map(lambda x: len(x))\n",
        "q['q2_char_length'] = q.q2.map(lambda x: len(x))\n",
        "\n",
        "q['q1_word_count'] =  q.cleaned_q1\n",
        "q['q2_word_count'] = q.cleaned_q2\n",
        "q['q1_word_count'] = q['q1_word_count'].str.split().apply(len)\n",
        "q['q2_word_count'] = q['q2_word_count'].str.split().apply(len)\n",
        "\n",
        "q['q1_word_count'] = pd.to_numeric(q['q1_word_count'])\n",
        "q['q2_word_count'] = pd.to_numeric(q['q2_word_count'])\n",
        "\n",
        "# word count didn't do much if anything dropped score"
      ],
      "execution_count": 21,
      "outputs": []
    },
    {
      "cell_type": "code",
      "metadata": {
        "id": "9ObzN9G3uDNf"
      },
      "source": [
        "\n",
        "# q.head()"
      ],
      "execution_count": 22,
      "outputs": []
    },
    {
      "cell_type": "code",
      "metadata": {
        "id": "634eaItauDNf"
      },
      "source": [
        "# TfIDF vectorizer\n",
        "def to_tfidf(q):\n",
        "    # stopwords = nltk.corpus.stopwords.words('english')\n",
        "    tfidf_vect = TfidfVectorizer(use_idf=True, max_features = 3000, max_df = 0.8, stop_words=nltk.corpus.stopwords.words('english'))\n",
        "    # X_tfidf = tfidf_vect.fit_transform(q[['cleaned_q1', 'cleaned_q2']])\n",
        "\n",
        "    # Make one giant list of all question\n",
        "    questions = list(list(q['cleaned_q1']) + list(q['cleaned_q2']))\n",
        "\n",
        "    tfidf_vect.fit(questions)\n",
        "\n",
        "    q1_tfidf_vect = tfidf_vect.transform(q['cleaned_q1'].values)\n",
        "    q2_tfidf_vect = tfidf_vect.transform(q['cleaned_q2'].values)\n",
        "\n",
        "    idf = dict(zip(tfidf_vect.get_feature_names(), tfidf_vect.idf_))\n",
        "\n",
        "    # convert to df\n",
        "    q1_tfidf_df = pd.DataFrame.sparse.from_spmatrix(q1_tfidf_vect)\n",
        "    q2_tfidf_df = pd.DataFrame.sparse.from_spmatrix(q2_tfidf_vect)\n",
        "\n",
        "    # need to df_tfidf_vectorizer_data = pd.DataFrame(tfidf_vectorizer_data.toarray()) to have in dataframe\n",
        "\n",
        "    tfidf_X = np.hstack((q1_tfidf_df, q2_tfidf_df))\n",
        "    return(tfidf_X)"
      ],
      "execution_count": 23,
      "outputs": []
    },
    {
      "cell_type": "code",
      "metadata": {
        "colab": {
          "base_uri": "https://localhost:8080/"
        },
        "id": "44bB29NfuDNf",
        "outputId": "9fe893d1-a7df-4149-b368-6ef657bd929e"
      },
      "source": [
        "tfidf_X = to_tfidf(q)\n",
        "tfidf_X.shape"
      ],
      "execution_count": 24,
      "outputs": [
        {
          "output_type": "execute_result",
          "data": {
            "text/plain": [
              "(79974, 6000)"
            ]
          },
          "metadata": {},
          "execution_count": 24
        }
      ]
    },
    {
      "cell_type": "code",
      "metadata": {
        "colab": {
          "base_uri": "https://localhost:8080/"
        },
        "id": "aWKHDHoV-RVk",
        "outputId": "45bda88a-46cf-48ca-e881-5f76e934bfe8"
      },
      "source": [
        "type(tfidf_X)"
      ],
      "execution_count": 28,
      "outputs": [
        {
          "output_type": "execute_result",
          "data": {
            "text/plain": [
              "numpy.ndarray"
            ]
          },
          "metadata": {},
          "execution_count": 28
        }
      ]
    },
    {
      "cell_type": "code",
      "metadata": {
        "id": "e46COijhuDNf"
      },
      "source": [
        "\n",
        "# # try bag of words - NO BAG OF WORDS (want to encompass word importance)\n",
        "\n",
        "# count_vect = CountVectorizer(stop_words=nltk.corpus.stopwords.words('english'))\n",
        "# X_count = tfidf_vect.fit_transform(q[['cleaned_q1', 'cleaned_q2']])"
      ],
      "execution_count": 32,
      "outputs": []
    },
    {
      "cell_type": "code",
      "metadata": {
        "id": "RrnKkI6uECSW"
      },
      "source": [
        "# q.head()"
      ],
      "execution_count": 25,
      "outputs": []
    },
    {
      "cell_type": "code",
      "metadata": {
        "colab": {
          "base_uri": "https://localhost:8080/"
        },
        "id": "vg2GjxFH-LYV",
        "outputId": "f33da74c-95bb-4d5f-db96-7414745e21b6"
      },
      "source": [
        "# q_to_add = q[['q1_overlap_ratio', 'q2_overlap_ratio', 'q1_word_count', 'q2_word_count']].to_numpy()\n",
        "q_to_add = q[['q1_overlap_ratio', 'q2_overlap_ratio']].to_numpy()\n",
        "q_to_add.shape\n",
        "type(q_to_add)"
      ],
      "execution_count": 26,
      "outputs": [
        {
          "output_type": "execute_result",
          "data": {
            "text/plain": [
              "numpy.ndarray"
            ]
          },
          "metadata": {},
          "execution_count": 26
        }
      ]
    },
    {
      "cell_type": "code",
      "metadata": {
        "id": "0LY5pvnOEPpa"
      },
      "source": [
        ""
      ],
      "execution_count": 35,
      "outputs": []
    },
    {
      "cell_type": "code",
      "metadata": {
        "colab": {
          "base_uri": "https://localhost:8080/"
        },
        "id": "fLYsflR6uDNg",
        "outputId": "d0a3cd65-3084-4768-9e11-595c8bfc550d"
      },
      "source": [
        "X = np.concatenate((tfidf_X, q_to_add), axis=1) \n",
        "X.shape\n"
      ],
      "execution_count": 27,
      "outputs": [
        {
          "output_type": "execute_result",
          "data": {
            "text/plain": [
              "(79974, 6002)"
            ]
          },
          "metadata": {},
          "execution_count": 27
        }
      ]
    },
    {
      "cell_type": "code",
      "metadata": {
        "id": "6-XcL27fuDNg"
      },
      "source": [
        "X_df = pd.DataFrame(X)\n",
        "X_df.to_csv('/content/drive/My Drive/Colab Notebooks/X_df.csv')"
      ],
      "execution_count": 35,
      "outputs": []
    },
    {
      "cell_type": "code",
      "metadata": {
        "id": "dbPYlc3TB8jn"
      },
      "source": [
        "import pandas as pd\n",
        "import numpy as np\n",
        "X_df = pd.read_csv('/content/drive/My Drive/Colab Notebooks/X_df.csv')"
      ],
      "execution_count": 2,
      "outputs": []
    },
    {
      "cell_type": "code",
      "metadata": {
        "id": "HCMOvUoQCKqH"
      },
      "source": [
        "X = X_df.to_numpy()"
      ],
      "execution_count": 3,
      "outputs": []
    },
    {
      "cell_type": "code",
      "metadata": {
        "id": "SNABjakAuDNg"
      },
      "source": [
        "# bigrams"
      ],
      "execution_count": 37,
      "outputs": []
    },
    {
      "cell_type": "markdown",
      "metadata": {
        "id": "LSbyXI7_uDNh"
      },
      "source": [
        "### Modeling\n",
        "\n",
        "Different modeling techniques can be used:\n",
        "\n",
        "- logistic regression\n",
        "- XGBoost\n",
        "- LSTMs\n",
        "- etc"
      ]
    },
    {
      "cell_type": "code",
      "metadata": {
        "id": "YT4e7fgiuDNh"
      },
      "source": [
        "from sklearn.metrics import roc_auc_score, recall_score, accuracy_score, precision_score, confusion_matrix, ConfusionMatrixDisplay\n",
        "import matplotlib.pyplot as plt\n",
        "\n",
        "from sklearn.model_selection import train_test_split\n",
        "\n",
        "from sklearn.naive_bayes import BernoulliNB\n",
        "from sklearn.linear_model import LogisticRegression\n",
        "from sklearn.ensemble import RandomForestClassifier\n",
        "from sklearn.svm import SVC\n",
        "# import xgboost as xgb\n",
        "# xg_reg = xgb.XGBRegressor(\n",
        "\n",
        "from sklearn.pipeline import Pipeline\n"
      ],
      "execution_count": 28,
      "outputs": []
    },
    {
      "cell_type": "code",
      "metadata": {
        "id": "JlocgsaMuDNh"
      },
      "source": [
        "def plot_confusion(y_test, y_pred):\n",
        "    cm = confusion_matrix(y_test, y_pred, labels=clf.classes_)\n",
        "    disp = ConfusionMatrixDisplay(confusion_matrix=cm,\n",
        "                                   display_labels=clf.classes_)\n",
        "    disp.plot()\n",
        "\n",
        "    plt.show()"
      ],
      "execution_count": 29,
      "outputs": []
    },
    {
      "cell_type": "code",
      "metadata": {
        "id": "xOn0NYq2uDNh"
      },
      "source": [
        "X_train, X_test, y_train, y_test = train_test_split(X, q['label'], \n",
        "                                                    test_size = 0.2, random_state = 88, stratify=q['label'])\n"
      ],
      "execution_count": 30,
      "outputs": []
    },
    {
      "cell_type": "code",
      "metadata": {
        "id": "xzZoUS-suDNh"
      },
      "source": [
        "# #build pipeline\n",
        "# nlp_pipeline = Pipeline([\n",
        "#     ('preprocessing', tfidf),\n",
        "#     ('model', BernoulliNB())\n",
        "# ], verbose = True)"
      ],
      "execution_count": null,
      "outputs": []
    },
    {
      "cell_type": "code",
      "metadata": {
        "id": "BiLP8zZYxfuI"
      },
      "source": [
        "# X = q[[]]"
      ],
      "execution_count": null,
      "outputs": []
    },
    {
      "cell_type": "code",
      "metadata": {
        "id": "TIjIgLOouDNh"
      },
      "source": [
        "\n",
        "# WORD TO VEC\n",
        "import gensim\n",
        "from gensim.models import KeyedVectors\n",
        "from gensim import models\n",
        "\n",
        "# ('/content/drive/My Drive/Colab Notebooks/train.csv')\n",
        "word2vec_path = '/content/drive/My Drive/Colab Notebooks/GoogleNews-vectors-negative300.bin.gz'\n",
        "model = models.KeyedVectors.load_word2vec_format(word2vec_path, binary=True)\n"
      ],
      "execution_count": 69,
      "outputs": []
    },
    {
      "cell_type": "code",
      "metadata": {
        "id": "jgvs6FrAV9_K"
      },
      "source": [
        "# w2v_model = gensim.models.Word2Vec(X_train,\n",
        "#                                    size=100, # can change this if more complicated - can increase, less, decrease\n",
        "#                                    window=5,\n",
        "#                                    min_count=2) # on\n",
        "\n",
        "# sentences = MyCorpus()\n",
        "# model = gensim.models.Word2Vec(sentences=sentences, vector_size = 200)\n",
        "\n",
        "# # more_sentences = [\n",
        "# #     ['Advanced', 'users', 'can', 'load', 'a', 'model',\n",
        "# #      'and', 'continue', 'training', 'it', 'with', 'more', 'sentences'],\n",
        "# # ]\n",
        "# # model.build_vocab(more_sentences, update=True)\n",
        "# # model.train(more_sentences, total_examples=model.corpus_count, epochs=model.epochs)"
      ],
      "execution_count": 72,
      "outputs": []
    },
    {
      "cell_type": "code",
      "metadata": {
        "id": "a8TRfMGZd7El"
      },
      "source": [
        "# Doc2Vec"
      ],
      "execution_count": null,
      "outputs": []
    },
    {
      "cell_type": "code",
      "metadata": {
        "id": "ydVbA49Sd2H0"
      },
      "source": [
        "# from gensim.models.doc2vec import Doc2Vec, TaggedDocument\n",
        "# from nltk.tokenize import word_tokenize\n",
        "\n",
        "# ## Exapmple document (list of sentences)\n",
        "# doc = [\"I love data science\",\n",
        "#         \"I love coding in python\",\n",
        "#         \"I love building NLP tool\",\n",
        "#         \"This is a good phone\",\n",
        "#         \"This is a good TV\",\n",
        "#         \"This is a good laptop\"]\n",
        "\n",
        "# # Tokenization of each document\n",
        "# tokenized_doc = []\n",
        "# for d in doc:\n",
        "#     tokenized_doc.append(word_tokenize(d.lower()))\n",
        "# tokenized_doc"
      ],
      "execution_count": 1,
      "outputs": []
    },
    {
      "cell_type": "code",
      "metadata": {
        "id": "nkg4csOiuDNi"
      },
      "source": [
        "# %%time\n",
        "# #fit pipeline\n",
        "# nlp_pipeline.fit(X_train, y_train)\n",
        "\n",
        "# train_accuracy = nlp_pipeline.score(X_train,y_train)\n",
        "# test_accuracy = nlp_pipeline.score(X_test,y_test)"
      ],
      "execution_count": null,
      "outputs": []
    },
    {
      "cell_type": "code",
      "metadata": {
        "id": "zT3xMiGSuDNi"
      },
      "source": [
        "# # predict\n",
        "# nlp_pipeline.predict(X_test)"
      ],
      "execution_count": null,
      "outputs": []
    },
    {
      "cell_type": "code",
      "metadata": {
        "id": "y3IOnYL5iGJY"
      },
      "source": [
        "# cosine similarity (Sergei's code)\n",
        "# from sklearn.metrics.pairwise import cosine_similarity  \n",
        "# final_df['cosine_sim'] = 0\n",
        "# final_corpus = []\n",
        "# for i in range(len(final_df)):\n",
        "#     try:\n",
        "#         corpus  = [final_df['question1_clean_tostring'].iloc[i], final_df['question2_clean_tostring'].iloc[i]]\n",
        "#         final_corpus.append(corpus)\n",
        "#     # Initialize an instance of tf-idf Vectorizer   \n",
        "#         tfidf_vectorizer = TfidfVectorizer()    \n",
        "#     # Generate the tf-idf vectors for the corpus   \n",
        "#         tfidf_matrix = tfidf_vectorizer.fit_transform(corpus)    \n",
        "#     # compute and print the cosine similarity matrix   \n",
        "#         cosine_sim = cosine_similarity(tfidf_matrix, tfidf_matrix)\n",
        "#         final_df['cosine_sim'].iloc[i] = cosine_sim[0][1]\n",
        "#     except:\n",
        "#         print('ValueError')\n",
        "\n",
        "# 1 coef\n",
        "# coef 1"
      ],
      "execution_count": null,
      "outputs": []
    },
    {
      "cell_type": "markdown",
      "metadata": {
        "id": "4oXpCgu1uDNi"
      },
      "source": [
        "#### Baseline Model (Log Regression)"
      ]
    },
    {
      "cell_type": "code",
      "metadata": {
        "colab": {
          "base_uri": "https://localhost:8080/",
          "height": 464
        },
        "id": "z8aK-UHEuDNi",
        "outputId": "f77de8e3-8e3c-4a1b-ca48-8e7d1ae019cb"
      },
      "source": [
        "clf = LogisticRegression()\n",
        "clf.fit(X_train, y_train)\n",
        "y_pred = clf.predict(X_test)\n",
        "\n",
        "acc = accuracy_score(y_test, y_pred)\n",
        "recall = recall_score(y_test, y_pred, average='macro')\n",
        "precision =  precision_score(y_test, y_pred, average='micro')\n",
        "\n",
        "print(f'Test set accuracy: {acc}')\n",
        "print(f'Test set recall: {recall}')\n",
        "print(f'Precision: {precision}')\n",
        "\n",
        "plot_confusion(y_test, y_pred)"
      ],
      "execution_count": 39,
      "outputs": [
        {
          "output_type": "stream",
          "name": "stderr",
          "text": [
            "/usr/local/lib/python3.7/dist-packages/sklearn/linear_model/_logistic.py:940: ConvergenceWarning: lbfgs failed to converge (status=1):\n",
            "STOP: TOTAL NO. of ITERATIONS REACHED LIMIT.\n",
            "\n",
            "Increase the number of iterations (max_iter) or scale the data as shown in:\n",
            "    https://scikit-learn.org/stable/modules/preprocessing.html\n",
            "Please also refer to the documentation for alternative solver options:\n",
            "    https://scikit-learn.org/stable/modules/linear_model.html#logistic-regression\n",
            "  extra_warning_msg=_LOGISTIC_SOLVER_CONVERGENCE_MSG)\n"
          ]
        },
        {
          "output_type": "stream",
          "name": "stdout",
          "text": [
            "Test set accuracy: 0.7567989996874023\n",
            "Test set recall: 0.7291528726637975\n",
            "Precision: 0.7567989996874023\n"
          ]
        },
        {
          "output_type": "display_data",
          "data": {
            "image/png": "[encoded data removed]",
            "text/plain": [
              "<Figure size 432x288 with 2 Axes>"
            ]
          },
          "metadata": {
            "needs_background": "light"
          }
        }
      ]
    },
    {
      "cell_type": "markdown",
      "metadata": {
        "id": "IiRxQ6ejuDNi"
      },
      "source": [
        "### Niave Bayes"
      ]
    },
    {
      "cell_type": "code",
      "metadata": {
        "colab": {
          "base_uri": "https://localhost:8080/",
          "height": 333
        },
        "id": "KWNfyds6uDNj",
        "outputId": "2b32b9ca-75fe-4852-c416-eccc4a989135"
      },
      "source": [
        "clf = BernoulliNB()\n",
        "clf.fit(X_train, y_train)\n",
        "y_pred = clf.predict(X_test)\n",
        "\n",
        "acc = accuracy_score(y_test, y_pred)\n",
        "recall = recall_score(y_test, y_pred, average='macro')\n",
        "precision =  precision_score(y_test, y_pred, average='micro')\n",
        "\n",
        "print(f'Test set accuracy: {acc}')\n",
        "print(f'Test set recall: {recall}')\n",
        "print(f'Precision: {precision}')\n",
        "\n",
        "plot_confusion(y_test, y_pred)"
      ],
      "execution_count": 173,
      "outputs": [
        {
          "output_type": "stream",
          "name": "stdout",
          "text": [
            "Test set accuracy: 0.7104276069017255\n",
            "Test set recall: 0.6854835607509591\n",
            "Precision: 0.7104276069017255\n"
          ]
        },
        {
          "output_type": "display_data",
          "data": {
            "image/png": "[encoded data removed]",
            "text/plain": [
              "<Figure size 432x288 with 2 Axes>"
            ]
          },
          "metadata": {}
        }
      ]
    },
    {
      "cell_type": "code",
      "metadata": {
        "id": "biEdm4A2fZ_X"
      },
      "source": [
        "## SVM"
      ],
      "execution_count": 76,
      "outputs": []
    },
    {
      "cell_type": "code",
      "metadata": {
        "colab": {
          "base_uri": "https://localhost:8080/",
          "height": 337
        },
        "id": "6UgDtD4lfSud",
        "outputId": "6467c91d-9a7b-4640-a8cd-a8219919944f"
      },
      "source": [
        "clf = SVC(kernel = 'rbf')\n",
        "clf.fit(X_train, y_train)\n",
        "y_pred = clf.predict(X_test)\n",
        "\n",
        "acc = accuracy_score(y_test, y_pred)\n",
        "recall = recall_score(y_test, y_pred, average='macro')\n",
        "precision =  precision_score(y_test, y_pred, average='micro')\n",
        "\n",
        "print(f'Test set accuracy: {acc}')\n",
        "print(f'Test set recall: {recall}')\n",
        "print(f'Precision: {precision}')\n",
        "\n",
        "plot_confusion(y_test, y_pred)"
      ],
      "execution_count": 180,
      "outputs": [
        {
          "output_type": "stream",
          "name": "stdout",
          "text": [
            "Test set accuracy: 0.6864216054013503\n",
            "Test set recall: 0.6478510637161143\n",
            "Precision: 0.6864216054013503\n"
          ]
        },
        {
          "output_type": "display_data",
          "data": {
            "image/png": "[encoded data removed]",
            "text/plain": [
              "<Figure size 432x288 with 2 Axes>"
            ]
          },
          "metadata": {}
        }
      ]
    },
    {
      "cell_type": "markdown",
      "metadata": {
        "id": "beRU_k7wuDNj"
      },
      "source": [
        "### Random Forest"
      ]
    },
    {
      "cell_type": "code",
      "metadata": {
        "id": "nfU5TsGbMyB_"
      },
      "source": [
        "clf = RandomForestClassifier()\n",
        "clf.fit(X_train, y_train)\n",
        "y_pred = clf.predict(X_test)\n",
        "\n",
        "acc = accuracy_score(y_test, y_pred)\n",
        "recall = recall_score(y_test, y_pred, average='macro')\n",
        "precision =  precision_score(y_test, y_pred, average='micro')\n",
        "\n",
        "print(f'Test set accuracy: {acc}')\n",
        "print(f'Test set recall: {recall}')\n",
        "print(f'Precision: {precision}')\n",
        "\n",
        "plot_confusion(y_test, y_pred)"
      ],
      "execution_count": null,
      "outputs": []
    },
    {
      "cell_type": "code",
      "metadata": {
        "colab": {
          "base_uri": "https://localhost:8080/",
          "height": 330
        },
        "id": "mnUxPk8-uDNj",
        "outputId": "99887052-5f97-43f4-fe35-4f4af95637f8"
      },
      "source": [
        "clf = RandomForestClassifier()\n",
        "clf.fit(X_train, y_train)\n",
        "y_pred = clf.predict(X_test)\n",
        "\n",
        "acc = accuracy_score(y_test, y_pred)\n",
        "recall = recall_score(y_test, y_pred, average='macro')\n",
        "precision =  precision_score(y_test, y_pred, average='micro')\n",
        "\n",
        "print(f'Test set accuracy: {acc}')\n",
        "print(f'Test set recall: {recall}')\n",
        "print(f'Precision: {precision}')\n",
        "\n",
        "plot_confusion(y_test, y_pred)"
      ],
      "execution_count": 95,
      "outputs": [
        {
          "output_type": "stream",
          "name": "stdout",
          "text": [
            "Test set accuracy: 0.7561890472618155\n",
            "Test set recall: 0.7266071943752872\n",
            "Precision: 0.7561890472618155\n"
          ]
        },
        {
          "output_type": "display_data",
          "data": {
            "image/png": "[encoded data removed]",
            "text/plain": [
              "<Figure size 432x288 with 2 Axes>"
            ]
          },
          "metadata": {
            "needs_background": "light"
          }
        }
      ]
    },
    {
      "cell_type": "code",
      "metadata": {
        "id": "YOrlQ0jYuDNj"
      },
      "source": [
        ""
      ],
      "execution_count": null,
      "outputs": []
    },
    {
      "cell_type": "markdown",
      "metadata": {
        "id": "-kJK1paxuDNj"
      },
      "source": [
        "## Deep Learning (MLP)"
      ]
    },
    {
      "cell_type": "code",
      "metadata": {
        "id": "awmYM4MpuDNj"
      },
      "source": [
        "\n",
        "from keras.models import Sequential\n",
        "from keras import layers\n",
        "\n",
        "input_dim = X_train.shape[1]  # Number of features\n",
        "\n",
        "model = Sequential()\n",
        "model.add(layers.Dense(1000, input_dim=input_dim, activation='relu'))\n",
        "model.add(layers.Dense(100, input_dim=input_dim, activation='relu'))\n",
        "model.add(layers.Dense(1, activation='sigmoid'))"
      ],
      "execution_count": null,
      "outputs": []
    },
    {
      "cell_type": "code",
      "metadata": {
        "id": "7n0OwHCoDJIy"
      },
      "source": [
        "# X_train.shape, X_test.shape, y_train.shape, y_test.shape\n",
        "# type(X_train)\n",
        "# type(y_train)\n",
        "# y_train.to_numpy()\n",
        "# y_test.to_numpy()"
      ],
      "execution_count": 141,
      "outputs": []
    },
    {
      "cell_type": "code",
      "metadata": {
        "colab": {
          "base_uri": "https://localhost:8080/"
        },
        "id": "LOfgtErwuDNj",
        "outputId": "fa947279-1f9f-4366-b4b0-d0801335d6cc"
      },
      "source": [
        "model.compile(loss='binary_crossentropy', \n",
        "              optimizer='adam', \n",
        "              metrics=['accuracy'])\n",
        "model.summary()"
      ],
      "execution_count": 176,
      "outputs": [
        {
          "output_type": "stream",
          "name": "stdout",
          "text": [
            "Model: \"sequential_1\"\n",
            "_________________________________________________________________\n",
            " Layer (type)                Output Shape              Param #   \n",
            "=================================================================\n",
            " dense_4 (Dense)             (None, 1000)              6005000   \n",
            "                                                                 \n",
            " dense_5 (Dense)             (None, 100)               100100    \n",
            "                                                                 \n",
            " dense_6 (Dense)             (None, 1)                 101       \n",
            "                                                                 \n",
            "=================================================================\n",
            "Total params: 6,105,201\n",
            "Trainable params: 6,105,201\n",
            "Non-trainable params: 0\n",
            "_________________________________________________________________\n"
          ]
        }
      ]
    },
    {
      "cell_type": "code",
      "metadata": {
        "colab": {
          "base_uri": "https://localhost:8080/"
        },
        "id": "XTQnnn2JuDNk",
        "outputId": "be084e26-4623-4abb-ef71-8d4ab7e2096c"
      },
      "source": [
        "history = model.fit(X_train, y_train,\n",
        "                    epochs=4,\n",
        "                    verbose=1,\n",
        "                    validation_data=(X_test, y_test),\n",
        "                    batch_size=10)"
      ],
      "execution_count": 177,
      "outputs": [
        {
          "output_type": "stream",
          "name": "stdout",
          "text": [
            "Epoch 1/4\n",
            "1600/1600 [==============================] - 21s 12ms/step - loss: 0.5294 - accuracy: 0.7123 - val_loss: 0.4846 - val_accuracy: 0.7417\n",
            "Epoch 2/4\n",
            "1600/1600 [==============================] - 17s 11ms/step - loss: 0.4089 - accuracy: 0.7937 - val_loss: 0.4851 - val_accuracy: 0.7417\n",
            "Epoch 3/4\n",
            "1600/1600 [==============================] - 17s 11ms/step - loss: 0.3303 - accuracy: 0.8401 - val_loss: 0.5430 - val_accuracy: 0.7432\n",
            "Epoch 4/4\n",
            "1600/1600 [==============================] - 18s 11ms/step - loss: 0.2447 - accuracy: 0.8866 - val_loss: 0.7226 - val_accuracy: 0.7312\n"
          ]
        }
      ]
    },
    {
      "cell_type": "code",
      "metadata": {
        "id": "bQr0Zu1-uDNk"
      },
      "source": [
        "from keras.backend import clear_session\n",
        "clear_session()"
      ],
      "execution_count": 148,
      "outputs": []
    },
    {
      "cell_type": "code",
      "metadata": {
        "colab": {
          "base_uri": "https://localhost:8080/"
        },
        "id": "yyDUTIW4uDNk",
        "outputId": "fdb00e41-aa3d-40c5-e007-d4bb7975a831"
      },
      "source": [
        "loss, accuracy = model.evaluate(X_train, y_train, verbose=False)\n",
        "print(\"Training Accuracy: {:.4f}\".format(accuracy))\n",
        "loss, accuracy = model.evaluate(X_test, y_test, verbose=False)\n",
        "print(\"Testing Accuracy:  {:.4f}\".format(accuracy))"
      ],
      "execution_count": 147,
      "outputs": [
        {
          "output_type": "stream",
          "name": "stdout",
          "text": [
            "Training Accuracy: 0.8990\n",
            "Testing Accuracy:  0.7329\n"
          ]
        }
      ]
    },
    {
      "cell_type": "code",
      "metadata": {
        "colab": {
          "base_uri": "https://localhost:8080/",
          "height": 337
        },
        "id": "LCOTXkMfuDNk",
        "outputId": "dd92ac93-6049-470b-8477-532863cd3909"
      },
      "source": [
        "# Visulalize\n",
        "import matplotlib.pyplot as plt\n",
        "plt.style.use('ggplot')\n",
        "\n",
        "def plot_history(history):\n",
        "    acc = history.history['accuracy']\n",
        "    val_acc = history.history['val_accuracy']\n",
        "    loss = history.history['loss']\n",
        "    val_loss = history.history['val_loss']\n",
        "    x = range(1, len(acc) + 1)\n",
        "\n",
        "    plt.figure(figsize=(12, 5))\n",
        "    plt.subplot(1, 2, 1)\n",
        "    plt.plot(x, acc, 'b', label='Training acc')\n",
        "    plt.plot(x, val_acc, 'r', label='Validation acc')\n",
        "    plt.title('Training and validation accuracy')\n",
        "    plt.legend()\n",
        "    plt.subplot(1, 2, 2)\n",
        "    plt.plot(x, loss, 'b', label='Training loss')\n",
        "    plt.plot(x, val_loss, 'r', label='Validation loss')\n",
        "    plt.title('Training and validation loss')\n",
        "    plt.legend()\n",
        "    \n",
        "plot_history(history)"
      ],
      "execution_count": 152,
      "outputs": [
        {
          "output_type": "display_data",
          "data": {
            "image/png": "[encoded data removed]",
            "text/plain": [
              "<Figure size 864x360 with 2 Axes>"
            ]
          },
          "metadata": {}
        }
      ]
    },
    {
      "cell_type": "code",
      "metadata": {
        "colab": {
          "base_uri": "https://localhost:8080/",
          "height": 790
        },
        "id": "-rGZBbHjJIjA",
        "outputId": "dfa4ea9d-89bc-483b-8018-3182e7aadabd"
      },
      "source": [
        "# TRY A DIFFERENT ONE\n",
        "\n",
        "clear_session()\n",
        "\n",
        "input_dim = X_train.shape[1]  # Number of features\n",
        "\n",
        "model = Sequential()\n",
        "model.add(layers.Dense(1000, input_dim=input_dim, activation='relu'))\n",
        "model.add(layers.Dense(500, input_dim=input_dim, activation='relu'))\n",
        "model.add(layers.Dense(100, input_dim=input_dim, activation='relu'))\n",
        "model.add(layers.Dense(1, activation='sigmoid'))\n",
        "\n",
        "model.compile(loss='binary_crossentropy', \n",
        "              optimizer='adam', \n",
        "              metrics=['accuracy'])\n",
        "model.summary()\n",
        "\n",
        "history = model.fit(X_train, y_train,\n",
        "                    epochs=4,\n",
        "                    verbose=1,\n",
        "                    validation_data=(X_test, y_test),\n",
        "                    batch_size=10)\n",
        "\n",
        "loss, accuracy = model.evaluate(X_train, y_train, verbose=False)\n",
        "print(\"Training Accuracy: {:.4f}\".format(accuracy))\n",
        "loss, accuracy = model.evaluate(X_test, y_test, verbose=False)\n",
        "print(\"Testing Accuracy:  {:.4f}\".format(accuracy))\n",
        "\n",
        "plot_history(history)"
      ],
      "execution_count": 154,
      "outputs": [
        {
          "output_type": "stream",
          "name": "stdout",
          "text": [
            "Model: \"sequential\"\n",
            "_________________________________________________________________\n",
            " Layer (type)                Output Shape              Param #   \n",
            "=================================================================\n",
            " dense (Dense)               (None, 1000)              6003000   \n",
            "                                                                 \n",
            " dense_1 (Dense)             (None, 1000)              1001000   \n",
            "                                                                 \n",
            " dense_2 (Dense)             (None, 100)               100100    \n",
            "                                                                 \n",
            " dense_3 (Dense)             (None, 1)                 101       \n",
            "                                                                 \n",
            "=================================================================\n",
            "Total params: 7,104,201\n",
            "Trainable params: 7,104,201\n",
            "Non-trainable params: 0\n",
            "_________________________________________________________________\n",
            "Epoch 1/4\n",
            "1600/1600 [==============================] - 27s 16ms/step - loss: 0.5173 - accuracy: 0.7154 - val_loss: 0.4759 - val_accuracy: 0.7424\n",
            "Epoch 2/4\n",
            "1600/1600 [==============================] - 25s 15ms/step - loss: 0.3732 - accuracy: 0.8174 - val_loss: 0.5118 - val_accuracy: 0.7472\n",
            "Epoch 3/4\n",
            "1600/1600 [==============================] - 26s 16ms/step - loss: 0.2080 - accuracy: 0.9082 - val_loss: 0.7234 - val_accuracy: 0.7344\n",
            "Epoch 4/4\n",
            "1600/1600 [==============================] - 26s 16ms/step - loss: 0.0833 - accuracy: 0.9664 - val_loss: 0.9424 - val_accuracy: 0.7302\n",
            "Training Accuracy: 0.9854\n",
            "Testing Accuracy:  0.7302\n"
          ]
        },
        {
          "output_type": "display_data",
          "data": {
            "image/png": "[encoded data removed]",
            "text/plain": [
              "<Figure size 864x360 with 2 Axes>"
            ]
          },
          "metadata": {}
        }
      ]
    },
    {
      "cell_type": "code",
      "metadata": {
        "id": "OHWV99itJHVe"
      },
      "source": [
        ""
      ],
      "execution_count": null,
      "outputs": []
    },
    {
      "cell_type": "code",
      "metadata": {
        "id": "B-ZJpT3uJGYn"
      },
      "source": [
        ""
      ],
      "execution_count": null,
      "outputs": []
    },
    {
      "cell_type": "markdown",
      "metadata": {
        "id": "qzGcL5DwuDNl"
      },
      "source": [
        "## Word embedding"
      ]
    },
    {
      "cell_type": "code",
      "metadata": {
        "id": "lSjNEuhJ_7yd"
      },
      "source": [
        "X_train, X_test, y_train, y_test = train_test_split(q['questions'], q['label'], \n",
        "                                                    test_size = 0.2, random_state = 88, stratify=q['label'])"
      ],
      "execution_count": 48,
      "outputs": []
    },
    {
      "cell_type": "code",
      "metadata": {
        "id": "i9l1rHyGuDNl"
      },
      "source": [
        "from keras.preprocessing.text import Tokenizer\n",
        "\n",
        "tokenizer = Tokenizer(num_words=3000)\n",
        "tokenizer.fit_on_texts(X_train)\n",
        "tokenizer.fit_on_texts(X_test)\n",
        "\n",
        "# X_train = tokenizer.texts_to_sequences(sentences_train)\n",
        "X_train = tokenizer.texts_to_sequences(X_train)\n",
        "# X_test = tokenizer.texts_to_sequences(sentences_test)\n",
        "X_test = tokenizer.texts_to_sequences(X_test)\n",
        "\n",
        "vocab_size = len(tokenizer.word_index) + 1  # Adding 1 because of reserved 0 index\n",
        "\n",
        "# print(sentences_train[2])\n",
        "# print(X_train[2])"
      ],
      "execution_count": 50,
      "outputs": []
    },
    {
      "cell_type": "code",
      "metadata": {
        "colab": {
          "base_uri": "https://localhost:8080/"
        },
        "id": "BCSDMKSduDNm",
        "outputId": "1b0434df-382e-44d9-c46a-3d358b6cfb3b"
      },
      "source": [
        "from keras.preprocessing.sequence import pad_sequences\n",
        "# as diff sequences has different lengths, doesn't matter if prepad or post pad\n",
        "\n",
        "maxlen = 100\n",
        "\n",
        "X_train = pad_sequences(X_train, padding='post', maxlen=maxlen)\n",
        "X_test = pad_sequences(X_test, padding='post', maxlen=maxlen)\n",
        "\n",
        "print(X_train[0, :])\n",
        "# represents the index in the vocab"
      ],
      "execution_count": 51,
      "outputs": [
        {
          "output_type": "stream",
          "name": "stdout",
          "text": [
            "[  2   3   1 732 863 864 904 849   1 905   4   3   1 732 863 864 904 849\n",
            "   1 905 782   0   0   0   0   0   0   0   0   0   0   0   0   0   0   0\n",
            "   0   0   0   0   0   0   0   0   0   0   0   0   0   0   0   0   0   0\n",
            "   0   0   0   0   0   0   0   0   0   0   0   0   0   0   0   0   0   0\n",
            "   0   0   0   0   0   0   0   0   0   0   0   0   0   0   0   0   0   0\n",
            "   0   0   0   0   0   0   0   0   0   0]\n"
          ]
        }
      ]
    },
    {
      "cell_type": "code",
      "metadata": {
        "colab": {
          "base_uri": "https://localhost:8080/"
        },
        "id": "Qr-DV766uDNm",
        "outputId": "e5f0aace-add4-4ba2-eda8-2d103c14218e"
      },
      "source": [
        "from keras.models import Sequential\n",
        "from keras import layers\n",
        "\n",
        "embedding_dim = 100\n",
        "\n",
        "model = Sequential()\n",
        "model.add(layers.Embedding(input_dim=vocab_size, \n",
        "                           output_dim=embedding_dim, \n",
        "                           input_length=maxlen))\n",
        "model.add(layers.Flatten())\n",
        "model.add(layers.Dense(10, activation='relu'))\n",
        "model.add(layers.Dense(1, activation='sigmoid'))\n",
        "model.compile(optimizer='adam',\n",
        "              loss='binary_crossentropy',\n",
        "              metrics=['accuracy'])\n",
        "model.summary()"
      ],
      "execution_count": 56,
      "outputs": [
        {
          "output_type": "stream",
          "name": "stdout",
          "text": [
            "Model: \"sequential_3\"\n",
            "_________________________________________________________________\n",
            " Layer (type)                Output Shape              Param #   \n",
            "=================================================================\n",
            " embedding_2 (Embedding)     (None, 100, 100)          2945700   \n",
            "                                                                 \n",
            " flatten_2 (Flatten)         (None, 10000)             0         \n",
            "                                                                 \n",
            " dense_6 (Dense)             (None, 10)                100010    \n",
            "                                                                 \n",
            " dense_7 (Dense)             (None, 1)                 11        \n",
            "                                                                 \n",
            "=================================================================\n",
            "Total params: 3,045,721\n",
            "Trainable params: 3,045,721\n",
            "Non-trainable params: 0\n",
            "_________________________________________________________________\n"
          ]
        }
      ]
    },
    {
      "cell_type": "code",
      "metadata": {
        "colab": {
          "base_uri": "https://localhost:8080/",
          "height": 370
        },
        "id": "Ag8zVA4YuDNm",
        "outputId": "e567e1f6-65f2-4098-8fe1-1271e70e917b"
      },
      "source": [
        "history = model.fit(X_train, y_train,\n",
        "                    epochs=3,\n",
        "                    verbose=False,\n",
        "                    validation_data=(X_test, y_test),\n",
        "                    batch_size=10)\n",
        "loss, accuracy = model.evaluate(X_train, y_train, verbose=False)\n",
        "print(\"Training Accuracy: {:.4f}\".format(accuracy))\n",
        "loss, accuracy = model.evaluate(X_test, y_test, verbose=False)\n",
        "print(\"Testing Accuracy:  {:.4f}\".format(accuracy))\n",
        "plot_history(history)"
      ],
      "execution_count": 61,
      "outputs": [
        {
          "output_type": "stream",
          "name": "stdout",
          "text": [
            "Training Accuracy: 0.9976\n",
            "Testing Accuracy:  0.6209\n"
          ]
        },
        {
          "output_type": "display_data",
          "data": {
            "image/png": "[encoded data removed]",
            "text/plain": [
              "<Figure size 864x360 with 2 Axes>"
            ]
          },
          "metadata": {}
        }
      ]
    },
    {
      "cell_type": "code",
      "metadata": {
        "id": "LmvvLPGwA3-T"
      },
      "source": [
        "## LSTM"
      ],
      "execution_count": null,
      "outputs": []
    },
    {
      "cell_type": "markdown",
      "metadata": {
        "id": "wVzJqBRNhMzL"
      },
      "source": [
        "## LSTM\n",
        "from https://www.analyticsvidhya.com/blog/2021/06/lstm-for-text-classification/"
      ]
    },
    {
      "cell_type": "code",
      "metadata": {
        "id": "Tx3gSmanhQxv"
      },
      "source": [
        "embedding_vector_features=45\n",
        "\n",
        "model=Sequential()\n",
        "\n",
        "model.add(Embedding(voc_size,embedding_vector_features,input_length=sent_length))\n",
        "\n",
        "model.add(LSTM(128,input_shape=(embedded_docs.shape),activation='relu',return_sequences=True))\n",
        "\n",
        "model.add(Dropout(0.2))\n",
        "\n",
        "model.add(LSTM(128,activation='relu'))\n",
        "\n",
        "model.add(Dropout(0.2))\n",
        "\n",
        "# for units in [128,128,64,32]:\n",
        "\n",
        "# model.add(Dense(units,activation='relu'))\n",
        "\n",
        "# model.add(Dropout(0.2))\n",
        "\n",
        "model.add(Dense(32,activation='relu'))\n",
        "\n",
        "model.add(Dropout(0.2))\n",
        "\n",
        "model.add(Dense(4,activation='softmax'))\n",
        "\n",
        "model.compile(loss='sparse_categorical_crossentropy',optimizer='adam',metrics=['accuracy'])\n",
        "\n",
        "print(model.summary())"
      ],
      "execution_count": null,
      "outputs": []
    },
    {
      "cell_type": "code",
      "metadata": {
        "id": "5G7U-HuxhcrU"
      },
      "source": [
        "results = model.evaluate(X_test,y_test)\n",
        "y_pred = model.predict(embedded_docs_pred)"
      ],
      "execution_count": null,
      "outputs": []
    },
    {
      "cell_type": "code",
      "metadata": {
        "id": "wBdtgsS2CoQo"
      },
      "source": [
        "model = Sequential()\n",
        "\n",
        "model.add(LSTM(128, activation='relu',\n",
        "               input_shape=(1000, 1), return_sequences=True))\n",
        "model.add(Dropout(0.2))\n",
        "model.add(LSTM(128, activation='relu'))\n",
        "model.add(Dropout(0.2))\n",
        "model.add(Dense(32, activation='relu'))\n",
        "model.add(Dropout(0.2))\n",
        "model.add(Dense(1, activation='sigmoid'))\n",
        "\n",
        "opt = tf.keras.optimizers.Adam(lr=1e-3, decay=1e-5)\n",
        "\n",
        "model.compile(optimizer='rmsprop',\n",
        "              loss='binary_crossentropy',\n",
        "              metrics=['accuracy'])\n",
        "\n",
        "model.fit(x_train, y_train, epochs=3, validation_data=(x_test, y_test))"
      ],
      "execution_count": null,
      "outputs": []
    }
  ]
}