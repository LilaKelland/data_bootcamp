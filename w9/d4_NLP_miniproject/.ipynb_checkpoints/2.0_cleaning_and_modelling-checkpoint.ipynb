{
 "cells": [
  {
   "cell_type": "markdown",
   "metadata": {},
   "source": [
    "## Identifying Duplicate Questions"
   ]
  },
  {
   "cell_type": "markdown",
   "metadata": {},
   "source": [
    "Over 100 million people visit Quora every month, so it's no surprise that many people ask similar (or the same) questions. Various questions with the same intent can cause people to spend extra time searching for the best answer to their question, and make writers to answer multiple versions of the same question. Quora uses random forest to identify duplicated questions to provide a better experience to active seekers and writers, and offer more value to both of these groups in the long term.\n",
    "\n",
    "We are going to build the similar model during this project!"
   ]
  },
  {
   "cell_type": "code",
   "execution_count": 61,
   "metadata": {},
   "outputs": [],
   "source": [
    "import pandas as pd\n",
    "import numpy as np\n",
    "\n",
    "import matplotlib.pyplot as plt\n",
    "import seaborn as sns\n",
    "\n",
    "from matplotlib import rcParams"
   ]
  },
  {
   "cell_type": "code",
   "execution_count": 2,
   "metadata": {},
   "outputs": [],
   "source": [
    "df = pd.read_csv(\"data/train.csv\")"
   ]
  },
  {
   "cell_type": "markdown",
   "metadata": {},
   "source": [
    "### Exploration"
   ]
  },
  {
   "cell_type": "code",
   "execution_count": 12,
   "metadata": {},
   "outputs": [
    {
     "name": "stdout",
     "output_type": "stream",
     "text": [
      "(404290, 6)\n"
     ]
    },
    {
     "data": {
      "text/html": [
       "<div>\n",
       "<style scoped>\n",
       "    .dataframe tbody tr th:only-of-type {\n",
       "        vertical-align: middle;\n",
       "    }\n",
       "\n",
       "    .dataframe tbody tr th {\n",
       "        vertical-align: top;\n",
       "    }\n",
       "\n",
       "    .dataframe thead th {\n",
       "        text-align: right;\n",
       "    }\n",
       "</style>\n",
       "<table border=\"1\" class=\"dataframe\">\n",
       "  <thead>\n",
       "    <tr style=\"text-align: right;\">\n",
       "      <th></th>\n",
       "      <th>id</th>\n",
       "      <th>qid1</th>\n",
       "      <th>qid2</th>\n",
       "      <th>question1</th>\n",
       "      <th>question2</th>\n",
       "      <th>is_duplicate</th>\n",
       "    </tr>\n",
       "  </thead>\n",
       "  <tbody>\n",
       "    <tr>\n",
       "      <th>0</th>\n",
       "      <td>0</td>\n",
       "      <td>1</td>\n",
       "      <td>2</td>\n",
       "      <td>What is the step by step guide to invest in sh...</td>\n",
       "      <td>What is the step by step guide to invest in sh...</td>\n",
       "      <td>0</td>\n",
       "    </tr>\n",
       "    <tr>\n",
       "      <th>1</th>\n",
       "      <td>1</td>\n",
       "      <td>3</td>\n",
       "      <td>4</td>\n",
       "      <td>What is the story of Kohinoor (Koh-i-Noor) Dia...</td>\n",
       "      <td>What would happen if the Indian government sto...</td>\n",
       "      <td>0</td>\n",
       "    </tr>\n",
       "    <tr>\n",
       "      <th>2</th>\n",
       "      <td>2</td>\n",
       "      <td>5</td>\n",
       "      <td>6</td>\n",
       "      <td>How can I increase the speed of my internet co...</td>\n",
       "      <td>How can Internet speed be increased by hacking...</td>\n",
       "      <td>0</td>\n",
       "    </tr>\n",
       "    <tr>\n",
       "      <th>3</th>\n",
       "      <td>3</td>\n",
       "      <td>7</td>\n",
       "      <td>8</td>\n",
       "      <td>Why am I mentally very lonely? How can I solve...</td>\n",
       "      <td>Find the remainder when [math]23^{24}[/math] i...</td>\n",
       "      <td>0</td>\n",
       "    </tr>\n",
       "    <tr>\n",
       "      <th>4</th>\n",
       "      <td>4</td>\n",
       "      <td>9</td>\n",
       "      <td>10</td>\n",
       "      <td>Which one dissolve in water quikly sugar, salt...</td>\n",
       "      <td>Which fish would survive in salt water?</td>\n",
       "      <td>0</td>\n",
       "    </tr>\n",
       "  </tbody>\n",
       "</table>\n",
       "</div>"
      ],
      "text/plain": [
       "   id  qid1  qid2                                          question1  \\\n",
       "0   0     1     2  What is the step by step guide to invest in sh...   \n",
       "1   1     3     4  What is the story of Kohinoor (Koh-i-Noor) Dia...   \n",
       "2   2     5     6  How can I increase the speed of my internet co...   \n",
       "3   3     7     8  Why am I mentally very lonely? How can I solve...   \n",
       "4   4     9    10  Which one dissolve in water quikly sugar, salt...   \n",
       "\n",
       "                                           question2  is_duplicate  \n",
       "0  What is the step by step guide to invest in sh...             0  \n",
       "1  What would happen if the Indian government sto...             0  \n",
       "2  How can Internet speed be increased by hacking...             0  \n",
       "3  Find the remainder when [math]23^{24}[/math] i...             0  \n",
       "4            Which fish would survive in salt water?             0  "
      ]
     },
     "execution_count": 12,
     "metadata": {},
     "output_type": "execute_result"
    }
   ],
   "source": [
    "print(df.shape)\n",
    "df.head()"
   ]
  },
  {
   "cell_type": "code",
   "execution_count": 13,
   "metadata": {},
   "outputs": [
    {
     "name": "stdout",
     "output_type": "stream",
     "text": [
      "(404290, 3)\n"
     ]
    },
    {
     "data": {
      "text/html": [
       "<div>\n",
       "<style scoped>\n",
       "    .dataframe tbody tr th:only-of-type {\n",
       "        vertical-align: middle;\n",
       "    }\n",
       "\n",
       "    .dataframe tbody tr th {\n",
       "        vertical-align: top;\n",
       "    }\n",
       "\n",
       "    .dataframe thead th {\n",
       "        text-align: right;\n",
       "    }\n",
       "</style>\n",
       "<table border=\"1\" class=\"dataframe\">\n",
       "  <thead>\n",
       "    <tr style=\"text-align: right;\">\n",
       "      <th></th>\n",
       "      <th>q1</th>\n",
       "      <th>q2</th>\n",
       "      <th>label</th>\n",
       "    </tr>\n",
       "  </thead>\n",
       "  <tbody>\n",
       "    <tr>\n",
       "      <th>0</th>\n",
       "      <td>What is the step by step guide to invest in sh...</td>\n",
       "      <td>What is the step by step guide to invest in sh...</td>\n",
       "      <td>0</td>\n",
       "    </tr>\n",
       "    <tr>\n",
       "      <th>1</th>\n",
       "      <td>What is the story of Kohinoor (Koh-i-Noor) Dia...</td>\n",
       "      <td>What would happen if the Indian government sto...</td>\n",
       "      <td>0</td>\n",
       "    </tr>\n",
       "    <tr>\n",
       "      <th>2</th>\n",
       "      <td>How can I increase the speed of my internet co...</td>\n",
       "      <td>How can Internet speed be increased by hacking...</td>\n",
       "      <td>0</td>\n",
       "    </tr>\n",
       "    <tr>\n",
       "      <th>3</th>\n",
       "      <td>Why am I mentally very lonely? How can I solve...</td>\n",
       "      <td>Find the remainder when [math]23^{24}[/math] i...</td>\n",
       "      <td>0</td>\n",
       "    </tr>\n",
       "    <tr>\n",
       "      <th>4</th>\n",
       "      <td>Which one dissolve in water quikly sugar, salt...</td>\n",
       "      <td>Which fish would survive in salt water?</td>\n",
       "      <td>0</td>\n",
       "    </tr>\n",
       "  </tbody>\n",
       "</table>\n",
       "</div>"
      ],
      "text/plain": [
       "                                                  q1  \\\n",
       "0  What is the step by step guide to invest in sh...   \n",
       "1  What is the story of Kohinoor (Koh-i-Noor) Dia...   \n",
       "2  How can I increase the speed of my internet co...   \n",
       "3  Why am I mentally very lonely? How can I solve...   \n",
       "4  Which one dissolve in water quikly sugar, salt...   \n",
       "\n",
       "                                                  q2  label  \n",
       "0  What is the step by step guide to invest in sh...      0  \n",
       "1  What would happen if the Indian government sto...      0  \n",
       "2  How can Internet speed be increased by hacking...      0  \n",
       "3  Find the remainder when [math]23^{24}[/math] i...      0  \n",
       "4            Which fish would survive in salt water?      0  "
      ]
     },
     "execution_count": 13,
     "metadata": {},
     "output_type": "execute_result"
    }
   ],
   "source": [
    "# remove id's - (may need to put order back in somehow later?)\n",
    "q=df[['question1', 'question2', 'is_duplicate']]\n",
    "q.columns = ['q1', 'q2', 'label']\n",
    "print(q.shape)\n",
    "q.head()"
   ]
  },
  {
   "cell_type": "code",
   "execution_count": 16,
   "metadata": {},
   "outputs": [
    {
     "data": {
      "text/plain": [
       "q1       object\n",
       "q2       object\n",
       "label     int64\n",
       "dtype: object"
      ]
     },
     "execution_count": 16,
     "metadata": {},
     "output_type": "execute_result"
    }
   ],
   "source": [
    "q.dtypes\n"
   ]
  },
  {
   "cell_type": "markdown",
   "metadata": {},
   "source": [
    "### Missing Values"
   ]
  },
  {
   "cell_type": "code",
   "execution_count": 19,
   "metadata": {},
   "outputs": [
    {
     "data": {
      "text/plain": [
       "q1       1\n",
       "q2       2\n",
       "label    0\n",
       "dtype: int64"
      ]
     },
     "execution_count": 19,
     "metadata": {},
     "output_type": "execute_result"
    }
   ],
   "source": [
    "q.isnull().sum()"
   ]
  },
  {
   "cell_type": "code",
   "execution_count": 21,
   "metadata": {},
   "outputs": [
    {
     "data": {
      "text/html": [
       "<div>\n",
       "<style scoped>\n",
       "    .dataframe tbody tr th:only-of-type {\n",
       "        vertical-align: middle;\n",
       "    }\n",
       "\n",
       "    .dataframe tbody tr th {\n",
       "        vertical-align: top;\n",
       "    }\n",
       "\n",
       "    .dataframe thead th {\n",
       "        text-align: right;\n",
       "    }\n",
       "</style>\n",
       "<table border=\"1\" class=\"dataframe\">\n",
       "  <thead>\n",
       "    <tr style=\"text-align: right;\">\n",
       "      <th></th>\n",
       "      <th>q1</th>\n",
       "      <th>q2</th>\n",
       "      <th>label</th>\n",
       "    </tr>\n",
       "  </thead>\n",
       "  <tbody>\n",
       "    <tr>\n",
       "      <th>363362</th>\n",
       "      <td>NaN</td>\n",
       "      <td>My Chinese name is Haichao Yu. What English na...</td>\n",
       "      <td>0</td>\n",
       "    </tr>\n",
       "  </tbody>\n",
       "</table>\n",
       "</div>"
      ],
      "text/plain": [
       "         q1                                                 q2  label\n",
       "363362  NaN  My Chinese name is Haichao Yu. What English na...      0"
      ]
     },
     "execution_count": 21,
     "metadata": {},
     "output_type": "execute_result"
    }
   ],
   "source": [
    "q.iloc[q[q['q1'].isnull()].index.tolist()]"
   ]
  },
  {
   "cell_type": "code",
   "execution_count": 22,
   "metadata": {},
   "outputs": [
    {
     "data": {
      "text/html": [
       "<div>\n",
       "<style scoped>\n",
       "    .dataframe tbody tr th:only-of-type {\n",
       "        vertical-align: middle;\n",
       "    }\n",
       "\n",
       "    .dataframe tbody tr th {\n",
       "        vertical-align: top;\n",
       "    }\n",
       "\n",
       "    .dataframe thead th {\n",
       "        text-align: right;\n",
       "    }\n",
       "</style>\n",
       "<table border=\"1\" class=\"dataframe\">\n",
       "  <thead>\n",
       "    <tr style=\"text-align: right;\">\n",
       "      <th></th>\n",
       "      <th>q1</th>\n",
       "      <th>q2</th>\n",
       "      <th>label</th>\n",
       "    </tr>\n",
       "  </thead>\n",
       "  <tbody>\n",
       "    <tr>\n",
       "      <th>105780</th>\n",
       "      <td>How can I develop android app?</td>\n",
       "      <td>NaN</td>\n",
       "      <td>0</td>\n",
       "    </tr>\n",
       "    <tr>\n",
       "      <th>201841</th>\n",
       "      <td>How can I create an Android app?</td>\n",
       "      <td>NaN</td>\n",
       "      <td>0</td>\n",
       "    </tr>\n",
       "  </tbody>\n",
       "</table>\n",
       "</div>"
      ],
      "text/plain": [
       "                                      q1   q2  label\n",
       "105780    How can I develop android app?  NaN      0\n",
       "201841  How can I create an Android app?  NaN      0"
      ]
     },
     "execution_count": 22,
     "metadata": {},
     "output_type": "execute_result"
    }
   ],
   "source": [
    "q.iloc[q[q['q2'].isnull()].index.tolist()]"
   ]
  },
  {
   "cell_type": "code",
   "execution_count": 134,
   "metadata": {},
   "outputs": [
    {
     "data": {
      "text/plain": [
       "['What is the step by step guide to invest in share market?',\n",
       " 'What would happen if the Indian government stole the Kohinoor (Koh-i-Noor) diamond back?',\n",
       " 'How can Internet speed be increased by hacking through DNS?',\n",
       " 'Find the remainder when [math]23^{24}[/math] is divided by 24,23?',\n",
       " 'Which fish would survive in salt water?',\n",
       " \"I'm a triple Capricorn (Sun, Moon and ascendant in Capricorn) What does this say about me?\",\n",
       " 'What keeps childern active and far from phone and video games?',\n",
       " 'What should I do to be a great geologist?',\n",
       " 'When do you use \"&\" instead of \"and\"?',\n",
       " 'How do I hack Motorola DCX3400 for free internet?',\n",
       " 'What are some of the things technicians can tell about the durability and reliability of Laptops and its components?',\n",
       " 'How can I see all my Youtube comments?',\n",
       " 'How can you make physics easy to learn?',\n",
       " 'What was your first sexual experience?',\n",
       " 'What are the laws to change your status from a student visa to a green card in the US? How do they compare to the immigration laws in Japan?',\n",
       " 'How will a Trump presidency affect the students presently in US or planning to study in US?',\n",
       " 'What does manipulation means?',\n",
       " 'How do guys feel after rejecting a girl?',\n",
       " 'Why do people ask Quora questions which can be answered easily by Google?',\n",
       " 'Which is the best digital marketing institute in Pune?',\n",
       " 'Why are rockets and boosters painted white?',\n",
       " 'What can I do to avoid being jealous of someone?',\n",
       " 'Which question should I ask on Quora?',\n",
       " 'Where can I find a conversion chart for CC to horsepower?',\n",
       " 'How many times a day do a clock’s hands overlap?']"
      ]
     },
     "execution_count": 134,
     "metadata": {},
     "output_type": "execute_result"
    }
   ],
   "source": [
    "df.iloc[0:25]['question2'].tolist()"
   ]
  },
  {
   "cell_type": "markdown",
   "metadata": {},
   "source": [
    "### Word Counts"
   ]
  },
  {
   "cell_type": "code",
   "execution_count": 89,
   "metadata": {},
   "outputs": [
    {
     "name": "stdout",
     "output_type": "stream",
     "text": [
      "max lengths:  623 1169\n",
      "min lengths:  1 1\n"
     ]
    }
   ],
   "source": [
    "# Find lengths min and max of questions\n",
    "q = q.dropna()\n",
    "q['q1_length'] = q.q1.map(lambda x: len(x))\n",
    "q['q2_length'] = q.q2.map(lambda x: len(x))\n",
    "\n",
    "print(\"max lengths: \",max(q1_length), max(q2_length))\n",
    "print(\"min lengths: \", min(q1_length), min(q2_length))"
   ]
  },
  {
   "cell_type": "code",
   "execution_count": 66,
   "metadata": {},
   "outputs": [
    {
     "data": {
      "image/png": "[encoded data removed]",
      "text/plain": [
       "<Figure size 360x360 with 1 Axes>"
      ]
     },
     "metadata": {},
     "output_type": "display_data"
    }
   ],
   "source": [
    "\n",
    "sns.set(rc={'figure.figsize':(18,15)})\n",
    "\n",
    "sns.displot(x=q1_length, bins=1000, kde=True);"
   ]
  },
  {
   "cell_type": "code",
   "execution_count": 67,
   "metadata": {},
   "outputs": [
    {
     "data": {
      "image/png": "[encoded data removed]",
      "text/plain": [
       "<Figure size 360x360 with 1 Axes>"
      ]
     },
     "metadata": {},
     "output_type": "display_data"
    }
   ],
   "source": [
    "\n",
    "sns.displot(x=q2_length, bins=1000, kde=True);"
   ]
  },
  {
   "cell_type": "code",
   "execution_count": 79,
   "metadata": {},
   "outputs": [
    {
     "data": {
      "image/png": "[encoded data removed]",
      "text/plain": [
       "<Figure size 720x432 with 1 Axes>"
      ]
     },
     "metadata": {},
     "output_type": "display_data"
    }
   ],
   "source": [
    "# ax.set_title('Iris flower')\n",
    "\n",
    "# # set the x-label\n",
    "# ax.set_xlabel('sepal length (cm)')\n",
    "\n",
    "# # set the y-label\n",
    "# ax.set_ylabel('sepal width (cm)')\n",
    "\n",
    "# # set the x-range \n",
    "# ax.set_xlim(4,8)\n",
    "\n",
    "# # set the y-range\n",
    "# ax.set_ylim(1.5,4.7)\n",
    "\n",
    "bins = 1000\n",
    "# rcParams['figure.figsize'] = 18,8\n",
    "fig, ax = plt.subplots(figsize = (10,6))\n",
    "ax.xticks= range(1,1200, 25)\n",
    "# plt.hist(x=q1_length, bins=bins);\n",
    "ax.hist(x=q1_length, bins=bins);\n",
    "plt.show()"
   ]
  },
  {
   "cell_type": "code",
   "execution_count": 82,
   "metadata": {},
   "outputs": [
    {
     "data": {
      "image/png": "[encoded data removed]",
      "text/plain": [
       "<Figure size 720x432 with 1 Axes>"
      ]
     },
     "metadata": {},
     "output_type": "display_data"
    }
   ],
   "source": [
    "bins = 1000\n",
    "# rcParams['figure.figsize'] = 18,8\n",
    "fig, ax = plt.subplots(figsize = (10,6))\n",
    "ax.xticks= range(1,1200, 25)\n",
    "# plt.hist(x=q1_length, bins=bins);\n",
    "ax.hist(x=q1_length, bins=bins, range=(5,175));\n",
    "plt.show()"
   ]
  },
  {
   "cell_type": "code",
   "execution_count": 73,
   "metadata": {},
   "outputs": [
    {
     "data": {
      "image/png": "[encoded data removed]",
      "text/plain": [
       "<Figure size 1296x1080 with 1 Axes>"
      ]
     },
     "metadata": {},
     "output_type": "display_data"
    }
   ],
   "source": [
    "xticks= range(1,1200, 25)\n",
    "plt.hist(x=q2_length, bins=bins);\n",
    "plt.show()"
   ]
  },
  {
   "cell_type": "code",
   "execution_count": 83,
   "metadata": {},
   "outputs": [
    {
     "data": {
      "image/png": "[encoded data removed]",
      "text/plain": [
       "<Figure size 1296x1080 with 1 Axes>"
      ]
     },
     "metadata": {},
     "output_type": "display_data"
    }
   ],
   "source": [
    "xticks= range(1,1200, 25)\n",
    "plt.hist(x=q2_length, bins=bins, density = True, range = (3,175));\n",
    "plt.show()"
   ]
  },
  {
   "cell_type": "code",
   "execution_count": 88,
   "metadata": {},
   "outputs": [
    {
     "data": {
      "text/plain": [
       "73"
      ]
     },
     "execution_count": 88,
     "metadata": {},
     "output_type": "execute_result"
    }
   ],
   "source": [
    "# looks like 150 is a good number of words preprocessing for sentence encoding \n",
    "# do I check this after processing? maybe reduced\n",
    "len(q.iloc[2]['q1'])"
   ]
  },
  {
   "cell_type": "code",
   "execution_count": 107,
   "metadata": {},
   "outputs": [
    {
     "data": {
      "text/plain": [
       "['.',\n",
       " '?',\n",
       " 'deleted',\n",
       " '?',\n",
       " 'deleted',\n",
       " 'HH',\n",
       " 'What?',\n",
       " 'deleted',\n",
       " 'deleted',\n",
       " 'Na',\n",
       " \"I'm \",\n",
       " 'grammar',\n",
       " 'How long?',\n",
       " 'What?',\n",
       " 'lol ?',\n",
       " 'Is?',\n",
       " 'Deleted.',\n",
       " 'How I am?',\n",
       " 'Who Am I?',\n",
       " '?',\n",
       " 'ok ?',\n",
       " '?',\n",
       " 'What?',\n",
       " 'i',\n",
       " 'What',\n",
       " 'o',\n",
       " '?',\n",
       " 'deleted',\n",
       " 'Deleted.',\n",
       " 'o',\n",
       " 'A',\n",
       " 'Who is?',\n",
       " 'Nana',\n",
       " '111',\n",
       " 'Hh ',\n",
       " \"I'm \",\n",
       " 'spam',\n",
       " '[removed]',\n",
       " 'Am I fat?',\n",
       " 'Which',\n",
       " '?',\n",
       " '‘',\n",
       " 'deleted',\n",
       " 'I',\n",
       " 'Deleted.',\n",
       " '?',\n",
       " 'Can?',\n",
       " 'Easy PHP?',\n",
       " '?',\n",
       " 'Aaas',\n",
       " 'Marriage',\n",
       " 'deleted',\n",
       " 'sss',\n",
       " 'deleted',\n",
       " 'lol ?',\n",
       " 'Yf v. B.?',\n",
       " '?',\n",
       " 'hi',\n",
       " 'Why?',\n",
       " 'delete',\n",
       " 'Ok',\n",
       " '?',\n",
       " 'civil',\n",
       " '…..',\n",
       " 'What?',\n",
       " 'Cloning?',\n",
       " 'Why?',\n",
       " 'Error',\n",
       " 'My',\n",
       " 'How',\n",
       " 'Life:',\n",
       " 'My',\n",
       " 'lol ?',\n",
       " 'Who is',\n",
       " 'Deleted.',\n",
       " 'Q?',\n",
       " 'Deleted.',\n",
       " 'H',\n",
       " 'deleted',\n",
       " 'no',\n",
       " '?']"
      ]
     },
     "execution_count": 107,
     "metadata": {},
     "output_type": "execute_result"
    }
   ],
   "source": [
    "# q['q1'][(q['q1_length'] < 10) and (q['q1_length'].split() >2)].tolist()\n",
    "q['q1'][(q['q1_length'] < 10)].tolist()"
   ]
  },
  {
   "cell_type": "code",
   "execution_count": 119,
   "metadata": {},
   "outputs": [
    {
     "data": {
      "text/html": [
       "<div>\n",
       "<style scoped>\n",
       "    .dataframe tbody tr th:only-of-type {\n",
       "        vertical-align: middle;\n",
       "    }\n",
       "\n",
       "    .dataframe tbody tr th {\n",
       "        vertical-align: top;\n",
       "    }\n",
       "\n",
       "    .dataframe thead th {\n",
       "        text-align: right;\n",
       "    }\n",
       "</style>\n",
       "<table border=\"1\" class=\"dataframe\">\n",
       "  <thead>\n",
       "    <tr style=\"text-align: right;\">\n",
       "      <th></th>\n",
       "      <th>q1</th>\n",
       "      <th>q2</th>\n",
       "      <th>label</th>\n",
       "      <th>q1_length</th>\n",
       "      <th>q2_length</th>\n",
       "    </tr>\n",
       "  </thead>\n",
       "  <tbody>\n",
       "    <tr>\n",
       "      <th>175282</th>\n",
       "      <td>Hh</td>\n",
       "      <td>HH</td>\n",
       "      <td>1</td>\n",
       "      <td>3</td>\n",
       "      <td>2</td>\n",
       "    </tr>\n",
       "    <tr>\n",
       "      <th>328745</th>\n",
       "      <td>lol ?</td>\n",
       "      <td>lol</td>\n",
       "      <td>1</td>\n",
       "      <td>5</td>\n",
       "      <td>3</td>\n",
       "    </tr>\n",
       "  </tbody>\n",
       "</table>\n",
       "</div>"
      ],
      "text/plain": [
       "           q1   q2  label  q1_length  q2_length\n",
       "175282    Hh    HH      1          3          2\n",
       "328745  lol ?  lol      1          5          3"
      ]
     },
     "execution_count": 119,
     "metadata": {},
     "output_type": "execute_result"
    }
   ],
   "source": [
    "q[(q['q1_length'] < 10)& (q['label'] == 1)]"
   ]
  },
  {
   "cell_type": "code",
   "execution_count": 115,
   "metadata": {},
   "outputs": [
    {
     "data": {
      "text/plain": [
       "['Big data?',\n",
       " '…………..',\n",
       " 'What?',\n",
       " '?',\n",
       " 'What?',\n",
       " 'Hh',\n",
       " 'Does?',\n",
       " 'null ',\n",
       " 'Delete',\n",
       " 'Deleted.',\n",
       " 'HH',\n",
       " 'Why',\n",
       " '[removed]',\n",
       " 'o',\n",
       " 'Null ',\n",
       " 'Edit',\n",
       " '????',\n",
       " 'deleted',\n",
       " 'Spam',\n",
       " 'Hh ',\n",
       " 'What?',\n",
       " 'Deleted.',\n",
       " 'lol',\n",
       " 'Spam',\n",
       " '…………..',\n",
       " 'What is']"
      ]
     },
     "execution_count": 115,
     "metadata": {},
     "output_type": "execute_result"
    }
   ],
   "source": [
    "q['q2'][q['q2_length'] < 10].tolist()"
   ]
  },
  {
   "cell_type": "code",
   "execution_count": 116,
   "metadata": {},
   "outputs": [
    {
     "data": {
      "text/html": [
       "<div>\n",
       "<style scoped>\n",
       "    .dataframe tbody tr th:only-of-type {\n",
       "        vertical-align: middle;\n",
       "    }\n",
       "\n",
       "    .dataframe tbody tr th {\n",
       "        vertical-align: top;\n",
       "    }\n",
       "\n",
       "    .dataframe thead th {\n",
       "        text-align: right;\n",
       "    }\n",
       "</style>\n",
       "<table border=\"1\" class=\"dataframe\">\n",
       "  <thead>\n",
       "    <tr style=\"text-align: right;\">\n",
       "      <th></th>\n",
       "      <th>q1</th>\n",
       "      <th>q2</th>\n",
       "      <th>label</th>\n",
       "      <th>q1_length</th>\n",
       "      <th>q2_length</th>\n",
       "    </tr>\n",
       "  </thead>\n",
       "  <tbody>\n",
       "    <tr>\n",
       "      <th>16479</th>\n",
       "      <td>What is big data science?</td>\n",
       "      <td>Big data?</td>\n",
       "      <td>1</td>\n",
       "      <td>25</td>\n",
       "      <td>9</td>\n",
       "    </tr>\n",
       "    <tr>\n",
       "      <th>20072</th>\n",
       "      <td>How could I solve this?</td>\n",
       "      <td>…………..</td>\n",
       "      <td>0</td>\n",
       "      <td>23</td>\n",
       "      <td>6</td>\n",
       "    </tr>\n",
       "    <tr>\n",
       "      <th>46596</th>\n",
       "      <td>How To Edit DNA?</td>\n",
       "      <td>What?</td>\n",
       "      <td>0</td>\n",
       "      <td>16</td>\n",
       "      <td>5</td>\n",
       "    </tr>\n",
       "    <tr>\n",
       "      <th>47056</th>\n",
       "      <td>Is there anywhere in the world offering pain m...</td>\n",
       "      <td>?</td>\n",
       "      <td>0</td>\n",
       "      <td>117</td>\n",
       "      <td>1</td>\n",
       "    </tr>\n",
       "    <tr>\n",
       "      <th>51909</th>\n",
       "      <td>What should yellow taxis do to face competitio...</td>\n",
       "      <td>What?</td>\n",
       "      <td>0</td>\n",
       "      <td>66</td>\n",
       "      <td>5</td>\n",
       "    </tr>\n",
       "    <tr>\n",
       "      <th>109009</th>\n",
       "      <td>How do I make a box that I can put my phone in...</td>\n",
       "      <td>Hh</td>\n",
       "      <td>0</td>\n",
       "      <td>113</td>\n",
       "      <td>2</td>\n",
       "    </tr>\n",
       "    <tr>\n",
       "      <th>130637</th>\n",
       "      <td>Does the Quran surah 23: 5-6 prove that Allah ...</td>\n",
       "      <td>Does?</td>\n",
       "      <td>0</td>\n",
       "      <td>85</td>\n",
       "      <td>5</td>\n",
       "    </tr>\n",
       "    <tr>\n",
       "      <th>141281</th>\n",
       "      <td>Deleted.</td>\n",
       "      <td>null</td>\n",
       "      <td>0</td>\n",
       "      <td>8</td>\n",
       "      <td>5</td>\n",
       "    </tr>\n",
       "    <tr>\n",
       "      <th>144506</th>\n",
       "      <td>How beautiful do you think you are?</td>\n",
       "      <td>Delete</td>\n",
       "      <td>0</td>\n",
       "      <td>35</td>\n",
       "      <td>6</td>\n",
       "    </tr>\n",
       "    <tr>\n",
       "      <th>145000</th>\n",
       "      <td>Me and my girlfriend wish to go out and do 'st...</td>\n",
       "      <td>Deleted.</td>\n",
       "      <td>0</td>\n",
       "      <td>134</td>\n",
       "      <td>8</td>\n",
       "    </tr>\n",
       "    <tr>\n",
       "      <th>175282</th>\n",
       "      <td>Hh</td>\n",
       "      <td>HH</td>\n",
       "      <td>1</td>\n",
       "      <td>3</td>\n",
       "      <td>2</td>\n",
       "    </tr>\n",
       "    <tr>\n",
       "      <th>181695</th>\n",
       "      <td>Why does the page reload every time I try to c...</td>\n",
       "      <td>Why</td>\n",
       "      <td>0</td>\n",
       "      <td>53</td>\n",
       "      <td>3</td>\n",
       "    </tr>\n",
       "    <tr>\n",
       "      <th>193246</th>\n",
       "      <td>What was it like to be in the game industry du...</td>\n",
       "      <td>[removed]</td>\n",
       "      <td>0</td>\n",
       "      <td>173</td>\n",
       "      <td>9</td>\n",
       "    </tr>\n",
       "    <tr>\n",
       "      <th>198913</th>\n",
       "      <td>What is this?</td>\n",
       "      <td>o</td>\n",
       "      <td>0</td>\n",
       "      <td>13</td>\n",
       "      <td>1</td>\n",
       "    </tr>\n",
       "    <tr>\n",
       "      <th>205947</th>\n",
       "      <td>Deleted.</td>\n",
       "      <td>Null</td>\n",
       "      <td>0</td>\n",
       "      <td>8</td>\n",
       "      <td>5</td>\n",
       "    </tr>\n",
       "    <tr>\n",
       "      <th>208199</th>\n",
       "      <td>Happiness! We offer a seat or help others beca...</td>\n",
       "      <td>Edit</td>\n",
       "      <td>0</td>\n",
       "      <td>143</td>\n",
       "      <td>4</td>\n",
       "    </tr>\n",
       "    <tr>\n",
       "      <th>226925</th>\n",
       "      <td>Which in the best bike desert storm or Himalay...</td>\n",
       "      <td>????</td>\n",
       "      <td>0</td>\n",
       "      <td>80</td>\n",
       "      <td>4</td>\n",
       "    </tr>\n",
       "    <tr>\n",
       "      <th>231313</th>\n",
       "      <td>From where to download episode2 season 3 of Th...</td>\n",
       "      <td>deleted</td>\n",
       "      <td>0</td>\n",
       "      <td>54</td>\n",
       "      <td>7</td>\n",
       "    </tr>\n",
       "    <tr>\n",
       "      <th>236655</th>\n",
       "      <td>Why was spam is called spam?</td>\n",
       "      <td>Spam</td>\n",
       "      <td>0</td>\n",
       "      <td>28</td>\n",
       "      <td>4</td>\n",
       "    </tr>\n",
       "    <tr>\n",
       "      <th>289307</th>\n",
       "      <td>How do I make a box that I can put my phone in...</td>\n",
       "      <td>Hh</td>\n",
       "      <td>0</td>\n",
       "      <td>113</td>\n",
       "      <td>3</td>\n",
       "    </tr>\n",
       "    <tr>\n",
       "      <th>306878</th>\n",
       "      <td>Is the electric field in the cavity of a hollo...</td>\n",
       "      <td>What?</td>\n",
       "      <td>0</td>\n",
       "      <td>71</td>\n",
       "      <td>5</td>\n",
       "    </tr>\n",
       "    <tr>\n",
       "      <th>322261</th>\n",
       "      <td>Am I cursed with bad luck?</td>\n",
       "      <td>Deleted.</td>\n",
       "      <td>0</td>\n",
       "      <td>26</td>\n",
       "      <td>8</td>\n",
       "    </tr>\n",
       "    <tr>\n",
       "      <th>328745</th>\n",
       "      <td>lol ?</td>\n",
       "      <td>lol</td>\n",
       "      <td>1</td>\n",
       "      <td>5</td>\n",
       "      <td>3</td>\n",
       "    </tr>\n",
       "    <tr>\n",
       "      <th>361480</th>\n",
       "      <td>As a 13 year old, how do I get out of my unliv...</td>\n",
       "      <td>Spam</td>\n",
       "      <td>0</td>\n",
       "      <td>57</td>\n",
       "      <td>4</td>\n",
       "    </tr>\n",
       "    <tr>\n",
       "      <th>384293</th>\n",
       "      <td>How do I solve this?</td>\n",
       "      <td>…………..</td>\n",
       "      <td>0</td>\n",
       "      <td>20</td>\n",
       "      <td>6</td>\n",
       "    </tr>\n",
       "    <tr>\n",
       "      <th>400153</th>\n",
       "      <td>What is #?</td>\n",
       "      <td>What is</td>\n",
       "      <td>0</td>\n",
       "      <td>10</td>\n",
       "      <td>7</td>\n",
       "    </tr>\n",
       "  </tbody>\n",
       "</table>\n",
       "</div>"
      ],
      "text/plain": [
       "                                                       q1         q2  label  \\\n",
       "16479                           What is big data science?  Big data?      1   \n",
       "20072                             How could I solve this?     …………..      0   \n",
       "46596                                    How To Edit DNA?      What?      0   \n",
       "47056   Is there anywhere in the world offering pain m...          ?      0   \n",
       "51909   What should yellow taxis do to face competitio...      What?      0   \n",
       "109009  How do I make a box that I can put my phone in...         Hh      0   \n",
       "130637  Does the Quran surah 23: 5-6 prove that Allah ...      Does?      0   \n",
       "141281                                           Deleted.      null       0   \n",
       "144506                How beautiful do you think you are?     Delete      0   \n",
       "145000  Me and my girlfriend wish to go out and do 'st...   Deleted.      0   \n",
       "175282                                                Hh          HH      1   \n",
       "181695  Why does the page reload every time I try to c...        Why      0   \n",
       "193246  What was it like to be in the game industry du...  [removed]      0   \n",
       "198913                                      What is this?          o      0   \n",
       "205947                                           Deleted.      Null       0   \n",
       "208199  Happiness! We offer a seat or help others beca...       Edit      0   \n",
       "226925  Which in the best bike desert storm or Himalay...       ????      0   \n",
       "231313  From where to download episode2 season 3 of Th...    deleted      0   \n",
       "236655                       Why was spam is called spam?       Spam      0   \n",
       "289307  How do I make a box that I can put my phone in...        Hh       0   \n",
       "306878  Is the electric field in the cavity of a hollo...      What?      0   \n",
       "322261                         Am I cursed with bad luck?   Deleted.      0   \n",
       "328745                                              lol ?        lol      1   \n",
       "361480  As a 13 year old, how do I get out of my unliv...       Spam      0   \n",
       "384293                               How do I solve this?     …………..      0   \n",
       "400153                                         What is #?    What is      0   \n",
       "\n",
       "        q1_length  q2_length  \n",
       "16479          25          9  \n",
       "20072          23          6  \n",
       "46596          16          5  \n",
       "47056         117          1  \n",
       "51909          66          5  \n",
       "109009        113          2  \n",
       "130637         85          5  \n",
       "141281          8          5  \n",
       "144506         35          6  \n",
       "145000        134          8  \n",
       "175282          3          2  \n",
       "181695         53          3  \n",
       "193246        173          9  \n",
       "198913         13          1  \n",
       "205947          8          5  \n",
       "208199        143          4  \n",
       "226925         80          4  \n",
       "231313         54          7  \n",
       "236655         28          4  \n",
       "289307        113          3  \n",
       "306878         71          5  \n",
       "322261         26          8  \n",
       "328745          5          3  \n",
       "361480         57          4  \n",
       "384293         20          6  \n",
       "400153         10          7  "
      ]
     },
     "execution_count": 116,
     "metadata": {},
     "output_type": "execute_result"
    }
   ],
   "source": [
    "q[q['q2_length'] < 10]"
   ]
  },
  {
   "cell_type": "code",
   "execution_count": 123,
   "metadata": {},
   "outputs": [
    {
     "data": {
      "text/plain": [
       "183"
      ]
     },
     "execution_count": 123,
     "metadata": {},
     "output_type": "execute_result"
    }
   ],
   "source": [
    "q['q2'][(q['q2_length'] > 300)].count()"
   ]
  },
  {
   "cell_type": "code",
   "execution_count": 126,
   "metadata": {},
   "outputs": [
    {
     "data": {
      "text/plain": [
       "['I have been married almost 15 years. We have two children, 11 and 8. My childhood was horrible, seven years of sexual, physical, and mental/emotional abuse followed by instability and low self esteem issues as a teen. My husband met me after I began dealing with my childhood and knew all about my issues. He knew what would end our marriage, yet he did it and lied about it multiple times. I was pregnant and did not leave. We tried to make it work. We had another child. We have been through MANY \"situations\" in our marriage and as parents. For the past 6-8 years we have just been living as parents. Not lovers. In the past I tried everything to make our marriage work. I finally decided to be done with it. Now he says he loves me and wants to make it work. But he is manipulative and can be so mean. He uses my children to cause me pain and stress. He knows that they are the only reason I stay. We are in counciling, but I really have no \"love\" feelings for him. I told him I want a divorce, but he won\\'t give me one. He has said he will make my life miserable until the 18 months of separation are up and divorce is granted. Any advice? I\\'m ready to run away...',\n",
       " \"Heartbreak? Heartbreak? She's my girlfriend for two months, I chose her over my girlfriend for 2 years. I like her so much to the point that I can't let her go even if she wants to end our relationship because of the other people around us most especially her family. I do the things for her that I'm not used to for a girl and I am willing to sacrifice everything just to have a little time with her. A little and limited time that I'm asking from her but she don't wanna give it to me. She's scared that someone might see us, that she's still having an affair with me. I love her and I want to be with her at least once a week even if just for a limited time. I'm not sure if I'm doing the right thing, all of my friends told me to stop it and just let it go 2 months is just 2 months not a deep relationship. But they don't feel what I feel, in this span of time I learned a lot, I learned how to love, to be loved, to sacrifice a good life, and to sacrifice a better clear future. My mind tells me to stop, but my heart tells me to hold, don't give up, stay with her and give her the unconditional love. Should I follow my mind or follow my heart?\",\n",
       " \"Heartbreak? Heartbreak? She's my girlfriend for two months, I chose her over my girlfriend for 2 years. I like her so much to the point that I can't let her go even if she wants to end our relationship because of the other people around us most especially her family. I do the things for her that I'm not used to for a girl and I am willing to sacrifice everything just to have a little time with her. A little and limited time that I'm asking from her but she don't wanna give it to me. She's scared that someone might see us, that she's still having an affair with me. I love her and I want to be with her at least once a week even if just for a limited time. I'm not sure if I'm doing the right thing, all of my friends told me to stop it and just let it go 2 months is just 2 months not a deep relationship. But they don't feel what I feel, in this span of time I learned a lot, I learned how to love, to be loved, to sacrifice a good life, and to sacrifice a better clear future. My mind tells me to stop, but my heart tells me to hold, don't give up, stay with her and give her the unconditional love. Should I follow my mind or follow my heart?\",\n",
       " 'For a start-up that does not have cash to pay salary to an early stage employee, could it structure a convertible note in lieu of sweat equity? And, what are the tax implications of this for the employee and for the company?  For example, if the market rate of this early stage employee is $120k then every month a convertible note of $10k can be issued to the employee. The convertible note will have the same terms as for the angel investors that are providing early stage financing at the same time.',\n",
       " \"Heartbreak? Heartbreak? She's my girlfriend for two months, I chose her over my girlfriend for 2 years. I like her so much to the point that I can't let her go even if she wants to end our relationship because of the other people around us most especially her family. I do the things for her that I'm not used to for a girl and I am willing to sacrifice everything just to have a little time with her. A little and limited time that I'm asking from her but she don't wanna give it to me. She's scared that someone might see us, that she's still having an affair with me. I love her and I want to be with her at least once a week even if just for a limited time. I'm not sure if I'm doing the right thing, all of my friends told me to stop it and just let it go 2 months is just 2 months not a deep relationship. But they don't feel what I feel, in this span of time I learned a lot, I learned how to love, to be loved, to sacrifice a good life, and to sacrifice a better clear future. My mind tells me to stop, but my heart tells me to hold, don't give up, stay with her and give her the unconditional love. Should I follow my mind or follow my heart?\",\n",
       " \"Heartbreak? Heartbreak? She's my girlfriend for two months, I chose her over my girlfriend for 2 years. I like her so much to the point that I can't let her go even if she wants to end our relationship because of the other people around us most especially her family. I do the things for her that I'm not used to for a girl and I am willing to sacrifice everything just to have a little time with her. A little and limited time that I'm asking from her but she don't wanna give it to me. She's scared that someone might see us, that she's still having an affair with me. I love her and I want to be with her at least once a week even if just for a limited time. I'm not sure if I'm doing the right thing, all of my friends told me to stop it and just let it go 2 months is just 2 months not a deep relationship. But they don't feel what I feel, in this span of time I learned a lot, I learned how to love, to be loved, to sacrifice a good life, and to sacrifice a better clear future. My mind tells me to stop, but my heart tells me to hold, don't give up, stay with her and give her the unconditional love. Should I follow my mind or follow my heart?\",\n",
       " \"Heartbreak? Heartbreak? She's my girlfriend for two months, I chose her over my girlfriend for 2 years. I like her so much to the point that I can't let her go even if she wants to end our relationship because of the other people around us most especially her family. I do the things for her that I'm not used to for a girl and I am willing to sacrifice everything just to have a little time with her. A little and limited time that I'm asking from her but she don't wanna give it to me. She's scared that someone might see us, that she's still having an affair with me. I love her and I want to be with her at least once a week even if just for a limited time. I'm not sure if I'm doing the right thing, all of my friends told me to stop it and just let it go 2 months is just 2 months not a deep relationship. But they don't feel what I feel, in this span of time I learned a lot, I learned how to love, to be loved, to sacrifice a good life, and to sacrifice a better clear future. My mind tells me to stop, but my heart tells me to hold, don't give up, stay with her and give her the unconditional love. Should I follow my mind or follow my heart?\",\n",
       " 'Hey guys. I am a Programmer Analyst Trainee at Cognizant Technology Solutions in the Advanced Java Domain. I joined Cognizant on 24th Dec 2015. I got an offer from Oracle Financial Services Software too as Associate Consutant. Should i join the latter or not. I am really confused pls i need a definitive direction to think. I feel coz i got a good domain (Advanced Java) in cognizant and i am quite good at Java programming i should not leave cognizant coz i am not sure what domain OFSS might put me in. ',\n",
       " \"How do you read a non-fiction book effectively? (I don't mean for the purpose of studying because one is forced by examinations to remember facts.) There are times when I finish a non-fiction and I realise I can't talk much about it because the tiny details are lost on me. The most I can do is choke up one or two ideas that I feel for and the whole sharing just ends there. Is there a way to structure your mind as you read along so as to grasp, understand and remember the important parts of a book in the best way possible?\",\n",
       " \"Heartbreak? Heartbreak? She's my girlfriend for two months, I chose her over my girlfriend for 2 years. I like her so much to the point that I can't let her go even if she wants to end our relationship because of the other people around us most especially her family. I do the things for her that I'm not used to for a girl and I am willing to sacrifice everything just to have a little time with her. A little and limited time that I'm asking from her but she don't wanna give it to me. She's scared that someone might see us, that she's still having an affair with me. I love her and I want to be with her at least once a week even if just for a limited time. I'm not sure if I'm doing the right thing, all of my friends told me to stop it and just let it go 2 months is just 2 months not a deep relationship. But they don't feel what I feel, in this span of time I learned a lot, I learned how to love, to be loved, to sacrifice a good life, and to sacrifice a better clear future. My mind tells me to stop, but my heart tells me to hold, don't give up, stay with her and give her the unconditional love. Should I follow my mind or follow my heart?\",\n",
       " \"Heartbreak? Heartbreak? She's my girlfriend for two months, I chose her over my girlfriend for 2 years. I like her so much to the point that I can't let her go even if she wants to end our relationship because of the other people around us most especially her family. I do the things for her that I'm not used to for a girl and I am willing to sacrifice everything just to have a little time with her. A little and limited time that I'm asking from her but she don't wanna give it to me. She's scared that someone might see us, that she's still having an affair with me. I love her and I want to be with her at least once a week even if just for a limited time. I'm not sure if I'm doing the right thing, all of my friends told me to stop it and just let it go 2 months is just 2 months not a deep relationship. But they don't feel what I feel, in this span of time I learned a lot, I learned how to love, to be loved, to sacrifice a good life, and to sacrifice a better clear future. My mind tells me to stop, but my heart tells me to hold, don't give up, stay with her and give her the unconditional love. Should I follow my mind or follow my heart?\",\n",
       " 'I have been married almost 15 years. We have two children, 11 and 8. My childhood was horrible, seven years of sexual, physical, and mental/emotional abuse followed by instability and low self esteem issues as a teen. My husband met me after I began dealing with my childhood and knew all about my issues. He knew what would end our marriage, yet he did it and lied about it multiple times. I was pregnant and did not leave. We tried to make it work. We had another child. We have been through MANY \"situations\" in our marriage and as parents. For the past 6-8 years we have just been living as parents. Not lovers. In the past I tried everything to make our marriage work. I finally decided to be done with it. Now he says he loves me and wants to make it work. But he is manipulative and can be so mean. He uses my children to cause me pain and stress. He knows that they are the only reason I stay. We are in counciling, but I really have no \"love\" feelings for him. I told him I want a divorce, but he won\\'t give me one. He has said he will make my life miserable until the 18 months of separation are up and divorce is granted. Any advice? I\\'m ready to run away...',\n",
       " \"I love a guy, he loves me too. We guys are in a serious relationship and ready  to  get marry,  but my family will never support this relationship and will never give permission as the guy is not of my caste. I also tried to ask my elder sister but she said it's impossible. My dad forcing me to see some other guys for marriage. Also dad has already surrounded with lot of tensions. He wants me to get settled in life as early as possible. My family always supported me immensely . I love my family a lot. On the other hand I am very much attached with that guy. What should I do?\",\n",
       " \"Heartbreak? Heartbreak? She's my girlfriend for two months, I chose her over my girlfriend for 2 years. I like her so much to the point that I can't let her go even if she wants to end our relationship because of the other people around us most especially her family. I do the things for her that I'm not used to for a girl and I am willing to sacrifice everything just to have a little time with her. A little and limited time that I'm asking from her but she don't wanna give it to me. She's scared that someone might see us, that she's still having an affair with me. I love her and I want to be with her at least once a week even if just for a limited time. I'm not sure if I'm doing the right thing, all of my friends told me to stop it and just let it go 2 months is just 2 months not a deep relationship. But they don't feel what I feel, in this span of time I learned a lot, I learned how to love, to be loved, to sacrifice a good life, and to sacrifice a better clear future. My mind tells me to stop, but my heart tells me to hold, don't give up, stay with her and give her the unconditional love. Should I follow my mind or follow my heart?\",\n",
       " 'Regarding Google Plus Profile  Privacy Settings:  Here\\'s the scenario: An individual finds my Google Plus page. They go to my profile. They take a screen shot of it. The screen shot includes a portion which reads, \"Other Names\" below which is a name, below which are the words, \"Visible Only To You\" below which are \"Google Contact Details\" below which appear again, Visible Only To You.\" The screen shot was then printed and presented to a third party as evidence of my so-called \"other name.\" I logged in and saw the name, this time with the privacy settings set to Public but this profile defaults to \"only you\" so it had been changed. These changes to my profile were not made by me. Does the screenshot that was taken then printed mean the party taking it was actually logged in as me. Or is there another explanation?',\n",
       " \"Heartbreak? Heartbreak? She's my girlfriend for two months, I chose her over my girlfriend for 2 years. I like her so much to the point that I can't let her go even if she wants to end our relationship because of the other people around us most especially her family. I do the things for her that I'm not used to for a girl and I am willing to sacrifice everything just to have a little time with her. A little and limited time that I'm asking from her but she don't wanna give it to me. She's scared that someone might see us, that she's still having an affair with me. I love her and I want to be with her at least once a week even if just for a limited time. I'm not sure if I'm doing the right thing, all of my friends told me to stop it and just let it go 2 months is just 2 months not a deep relationship. But they don't feel what I feel, in this span of time I learned a lot, I learned how to love, to be loved, to sacrifice a good life, and to sacrifice a better clear future. My mind tells me to stop, but my heart tells me to hold, don't give up, stay with her and give her the unconditional love. Should I follow my mind or follow my heart?\",\n",
       " 'This question is stirred up by the recent Romney drama overseas. Firstly, other than the obvious Palestinian and British opinions, how does the world see our presidential elections of this year differently than we do in the states? We blame President Obama for our problems and many see Romney as a way out. Is this a fog, do international perspectives recognize the problem as bigger than a \"leader\" so to speak? Rather than seeing the leader as a solution, do they see things more intelligently? And also, is it common practice around the world to blame the elected official for problems? For example, the EU is having a hard time at the moment - I haven\\'t heard Any reports about citizens pointing fingers at their leaders.',\n",
       " \"I'm 33 and diagnosed with depression. I don't like my work and I have realised that I made the wrong choices concerning my studies. I too realised (under professional psychologist surveillance) that I am a High Potential Adult with a IQ of 147 and a high emotional level. I'm married, I have two wonderful childrens and a house to pay for. I feel that I'm living a wrong life in the sense that the situation I am in, does not fit me at all other than the fact that I deeply love my family. Did someone ever succeed at changing their life with a similar kind of situation?\",\n",
       " \"Heartbreak? Heartbreak? She's my girlfriend for two months, I chose her over my girlfriend for 2 years. I like her so much to the point that I can't let her go even if she wants to end our relationship because of the other people around us most especially her family. I do the things for her that I'm not used to for a girl and I am willing to sacrifice everything just to have a little time with her. A little and limited time that I'm asking from her but she don't wanna give it to me. She's scared that someone might see us, that she's still having an affair with me. I love her and I want to be with her at least once a week even if just for a limited time. I'm not sure if I'm doing the right thing, all of my friends told me to stop it and just let it go 2 months is just 2 months not a deep relationship. But they don't feel what I feel, in this span of time I learned a lot, I learned how to love, to be loved, to sacrifice a good life, and to sacrifice a better clear future. My mind tells me to stop, but my heart tells me to hold, don't give up, stay with her and give her the unconditional love. Should I follow my mind or follow my heart?\",\n",
       " \"I am 27 years old and all my friends are way ahead of me in career and life. I am still not able to get anything. I always seek motivation everytime.. its a hard feeling to even express. My dreams are big. But ofcourse there is a time limit for that, I badly want to achieve it, but may be I have no good and expertise people around me to guide me.. I really don't feel like going out and hanging out because I think I will myself not enjoy anything unless I achieve my goal first.  How can I achieve my goals, what makes a person persevere nice if he doesn't have any good friends and mentor in life? Can any one answer me please\",\n",
       " \"Wifi problem... My Mtnl wifi router is frustrating me from the last one week. I use it to connect my galaxy ace plus to the internet. The porblem is that router is responding slowly while i surf the internet though i'm getting full speed of 2mbps. I also use my phone's wifi in my college and there the phone works fine and responds quickly. I tried to connect some other phone to connect with my router and the router is giving quick reply to that phone. I'm unable to find where the problem is. I tried to contact mtnl for the same but they are not entertaining me. Please help me out...\",\n",
       " \"I'm 33 and diagnosed with depression. I don't like my work and I have realised that I made the wrong choices concerning my studies. I too realised (under professional psychologist surveillance) that I am a High Potential Adult with a IQ of 147 and a high emotional level. I'm married, I have two wonderful childrens and a house to pay for. I feel that I'm living a wrong life in the sense that the situation I am in, does not fit me at all other than the fact that I deeply love my family. Did someone ever succeed at changing their life with a similar kind of situation?\",\n",
       " \"I am 27 years old and all my friends are way ahead of me in career and life. I am still not able to get anything. I always seek motivation everytime.. its a hard feeling to even express. My dreams are big. But ofcourse there is a time limit for that, I badly want to achieve it, but may be I have no good and expertise people around me to guide me.. I really don't feel like going out and hanging out because I think I will myself not enjoy anything unless I achieve my goal first.  How can I achieve my goals, what makes a person persevere nice if he doesn't have any good friends and mentor in life? Can any one answer me please\",\n",
       " \"Heartbreak? Heartbreak? She's my girlfriend for two months, I chose her over my girlfriend for 2 years. I like her so much to the point that I can't let her go even if she wants to end our relationship because of the other people around us most especially her family. I do the things for her that I'm not used to for a girl and I am willing to sacrifice everything just to have a little time with her. A little and limited time that I'm asking from her but she don't wanna give it to me. She's scared that someone might see us, that she's still having an affair with me. I love her and I want to be with her at least once a week even if just for a limited time. I'm not sure if I'm doing the right thing, all of my friends told me to stop it and just let it go 2 months is just 2 months not a deep relationship. But they don't feel what I feel, in this span of time I learned a lot, I learned how to love, to be loved, to sacrifice a good life, and to sacrifice a better clear future. My mind tells me to stop, but my heart tells me to hold, don't give up, stay with her and give her the unconditional love. Should I follow my mind or follow my heart?\",\n",
       " 'I have been married almost 15 years. We have two children, 11 and 8. My childhood was horrible, seven years of sexual, physical, and mental/emotional abuse followed by instability and low self esteem issues as a teen. My husband met me after I began dealing with my childhood and knew all about my issues. He knew what would end our marriage, yet he did it and lied about it multiple times. I was pregnant and did not leave. We tried to make it work. We had another child. We have been through MANY \"situations\" in our marriage and as parents. For the past 6-8 years we have just been living as parents. Not lovers. In the past I tried everything to make our marriage work. I finally decided to be done with it. Now he says he loves me and wants to make it work. But he is manipulative and can be so mean. He uses my children to cause me pain and stress. He knows that they are the only reason I stay. We are in counciling, but I really have no \"love\" feelings for him. I told him I want a divorce, but he won\\'t give me one. He has said he will make my life miserable until the 18 months of separation are up and divorce is granted. Any advice? I\\'m ready to run away...',\n",
       " 'Hey guys, I am planning to start-up a small  budget  e-commerce business in  India. I have finally decided to go with magento platform. I have been searching on Google about magento and I found that:    1. It is very difficult to customize even for a developer. Is it really that hard to bring some changes in the theme (like some javascript animation etc etc) 2. it is resource hungry and it needs too much of space and bandwidth on server. Is it really true? and if it is then please suggest any server host.  3. any other better alternat',\n",
       " \"Wifi problem... My Mtnl wifi router is frustrating me from the last one week. I use it to connect my galaxy ace plus to the internet. The porblem is that router is responding slowly while i surf the internet though i'm getting full speed of 2mbps. I also use my phone's wifi in my college and there the phone works fine and responds quickly. I tried to connect some other phone to connect with my router and the router is giving quick reply to that phone. I'm unable to find where the problem is. I tried to contact mtnl for the same but they are not entertaining me. Please help me out...\",\n",
       " \"Heartbreak? Heartbreak? She's my girlfriend for two months, I chose her over my girlfriend for 2 years. I like her so much to the point that I can't let her go even if she wants to end our relationship because of the other people around us most especially her family. I do the things for her that I'm not used to for a girl and I am willing to sacrifice everything just to have a little time with her. A little and limited time that I'm asking from her but she don't wanna give it to me. She's scared that someone might see us, that she's still having an affair with me. I love her and I want to be with her at least once a week even if just for a limited time. I'm not sure if I'm doing the right thing, all of my friends told me to stop it and just let it go 2 months is just 2 months not a deep relationship. But they don't feel what I feel, in this span of time I learned a lot, I learned how to love, to be loved, to sacrifice a good life, and to sacrifice a better clear future. My mind tells me to stop, but my heart tells me to hold, don't give up, stay with her and give her the unconditional love. Should I follow my mind or follow my heart?\",\n",
       " 'For high SERP rankings, even with a .com website registration, assuming same SEO-optimized content, would it matter a big difference if website was hosted in India? (as opposed to in the U.S.)? --- for the purpose of search engine rankings?  Or are there any other extremely low-cost (non-US) web-hosting options for multiple websites domains to be used for a massive reverse SEO program? Any ideas or thoughts would be helpful - more for the purpose of setting multiple domains with as many keywords in the url itself.',\n",
       " \"Heartbreak? Heartbreak? She's my girlfriend for two months, I chose her over my girlfriend for 2 years. I like her so much to the point that I can't let her go even if she wants to end our relationship because of the other people around us most especially her family. I do the things for her that I'm not used to for a girl and I am willing to sacrifice everything just to have a little time with her. A little and limited time that I'm asking from her but she don't wanna give it to me. She's scared that someone might see us, that she's still having an affair with me. I love her and I want to be with her at least once a week even if just for a limited time. I'm not sure if I'm doing the right thing, all of my friends told me to stop it and just let it go 2 months is just 2 months not a deep relationship. But they don't feel what I feel, in this span of time I learned a lot, I learned how to love, to be loved, to sacrifice a good life, and to sacrifice a better clear future. My mind tells me to stop, but my heart tells me to hold, don't give up, stay with her and give her the unconditional love. Should I follow my mind or follow my heart?\",\n",
       " 'Brain Teasers: Two women set out to the market to sell some oranges. Each  had 30 oranges. The first lady sold oranges at 2 for a rupee and second lady sold oranges at 3 for rupee. At last, the first and second lady made Rs 15 and Rs 10 respectively. So the total amount is Rs 25. The next day, when they sold their 30 oranges together to make business profitable, they pooled their sixty oranges and sold at rate of 5 for Rs 2. After they sold all oranges, they found they had only Rs 24. They could not understand where the one rupee went. Where did it go?',\n",
       " \"Whole fight card for UFC on Fuel TV 9, 6th April in Stockholm, Sweden? I've been looking around for the card for this upcoming event, but I can't find more than three fights. More isn't listed at UFC's site so I presume that the card isn't finished yet? But are there any rumors or any other things that indicate which fighters may participate?  I had the best seats in the house money can buy last year and planning to buy the same again tomorrow when the pre sale starts (in exactly 13h from now). But I don't want to pay $375 USD if the only good fight is the main event (Alexander Gustafsson FTW!)... All information/rumours/indications is appreciated ASAP so I can decide how much money I'm willing to pay for the tickets?\"]"
      ]
     },
     "execution_count": 126,
     "metadata": {},
     "output_type": "execute_result"
    }
   ],
   "source": [
    "q['q2'][(q['q2_length'] > 500)].tolist()"
   ]
  },
  {
   "cell_type": "code",
   "execution_count": 131,
   "metadata": {},
   "outputs": [],
   "source": [
    "to_drop = q[(q['q2_length'] > 500)].index.tolist()\n",
    "q = q.drop(to_drop)"
   ]
  },
  {
   "cell_type": "code",
   "execution_count": 132,
   "metadata": {},
   "outputs": [
    {
     "data": {
      "text/plain": [
       "['I have a question in a Cisco Exam, It said who could be identified as a Cisco internal SME (Subject Matter Expert)? The options i have are:  1. The Cisco service industry consultant.  2. The engineer which was assigned to the customer.  3. The channel partner program manager.  4. The compensation analyst in the region. I was confused about the answers between 1 and 3. Is there anyone could direct me somehow and tell me why a little bit. Many Thanks!!!   : )',\n",
       " \"Xperia zr screen cracked - I went to the nearest authorized service centre in salt lake and they asked me to pay 11000 bucks (too high for a 2 year old mobile) as the repairment cost of my damaged screen. So I'm confused from where I'll get my mobile repaired. Either I can purchase the material from eBay or visit a local store as an alternative. It's really difficult to trust a local store regarding material and the cost. Please provide an approximation of the price and advise me for the same.\",\n",
       " \"I'm a fourth year student who will now be giving my GRE exam and mostly be going abroad for studies. I am in the IT field, and confused about which specialization to follow in MS. I am good at programming though I don't wanna go into that. Designing interests me more and I have done designing and documentation for quite a few programs recently. What is the best post graduate course that will cater these interests?\",\n",
       " 'Can I succeed? I am an engineering student and I have failed my first year examination. I think the reason for my failure was that i had neglected my studies and not that I am dumb. But my neighbours and my cousins really think that I am not talented enough to pursue engineering and they said these things before me so i am confused and really can i succeed as an engineer or should i quit it. Kindly help.',\n",
       " 'I was working on a task for last 10 days, now that I have simplified my task and talked my senior about this. I and my senior both believe that if the senior do the task he can finish it in 3-4 hours as he has experience of such thing while how much time I could take I am not sure. Shall I talk my boss about this and tell him that please let him do  this task for 4-5 hours or a day? as I have already spent more time on  this. my senior is confident that he can do it in 3-4 hours.',\n",
       " \"How do I promote my new business on Twitter if I still don't have Twitter followers howeverI find people wanting my service when I perform a Twitter search? Should I twit from my personal account or my 0 follower biz account? I just did my personal account public so people can see my replies / mentions to their questions I pulled when I search Twitter but they will also see that I am only twitting about the business that is a little creepy cheeky\",\n",
       " \"I'm getting to the end of my tether, my partner no longer wants sex and we've tried counselling without improvement. I feel desparate and can't see a way of making things better. I've contemplated medication to kill my need for sensual contact and looked at hypnotherapy. I'm male 42 and my partner is female 43, sex stopped (pretty much) about 2 and a half years ago once we'd been together for less than 6 months\",\n",
       " 'My present roommate at first asked about sharing the room next year also to which I said yes(he refused another person in doing so).But of late I realized that sharing the room with tim further would cause problems because he mostly remains away and added to that has some addictions seeing this I now refused to be with him and this now (unexpectedly) fills me with guilt and remorse although he is perfectly as before what should I do plz help?',\n",
       " \"I have this friend I have been friends with her since we were both 12 years old. We went to middle school and high school together. She moved to Korea a few years ago and we email each other. But her letters to me are very short. She asks me stuff about how I am doing a such. I answer her questions and such. When I ask her questions she seems like to give me short answers or not answer my questions. I wonder why she does this? It seems like she is hiding something. Don't know?\",\n",
       " \"I am 23 years old and want to move out of my mom's house. I am Hindu and grew up in a conservative household, so moving out before marriage is unacceptable. Also, my family is telling me I should not move because my mom will be all alone. I want to move to another city that is a few hours away and explore what it's like to live alone. How can I do this without upsetting my family, if possible? Is this a bad idea? Should I just stay with my mom?\",\n",
       " \"Survivors: Do you ever think about what you would do, should you relapse, or be diagnosed with another disease? What would your reaction would be? I've had two bone marrow transplants for Leukemia and Aplastic Anemia, and I'm 16 and 12 years post-transplant , and I wonder sometimes... how many times would I endure this? To what extent would I endure this? Do you have a contingency plan, should another diagnosis occur?\",\n",
       " 'Help! please! romeo and juliet both felt pressure when they fell in love, only to discover their love was \"forbidden\" by their society. have you ever found yourself facing that kind of pressure? pressure from parents or friends to not date a certain group of people? how can you maturely handle the situation? what are real options and solutions? Explore the possibilities in at least a one paragraph response.',\n",
       " \"Computer Vision: Easiest way to implement viola jones face detection in java.? I have studied the algorithm i know the working still dont know how to start it with java. I want some code with documentation for reference or some idea how to do training and all that stuff. Provide me some useful links if possible. I have already googled a lot but it seems little bit confusing that's y i m askin here.. thanks in advance.\",\n",
       " 'I am building a digital stethoscope as a part of  final year project. We acquire the heart beat through diaphragm and and after amplifying it, the signal is fed to the sound card of laptop through the 3.5mm jack. The signal is then processed in MATLAB and then displayed on the screen. The problem I encountered was the input signal to the sound  card is too noisy. Ambient noise is preventing the accurate acquisition. How to filter out the noise?']"
      ]
     },
     "execution_count": 132,
     "metadata": {},
     "output_type": "execute_result"
    }
   ],
   "source": [
    "q['q2'][(q['q2_length'] > 400)].tolist()"
   ]
  },
  {
   "cell_type": "markdown",
   "metadata": {},
   "source": [
    "### Punctuation"
   ]
  },
  {
   "cell_type": "code",
   "execution_count": 84,
   "metadata": {},
   "outputs": [
    {
     "name": "stdout",
     "output_type": "stream",
     "text": [
      "!\"#$%&'()*+,-./:;<=>?@[\\]^_`{|}~\n"
     ]
    }
   ],
   "source": [
    "import string\n",
    "\n",
    "punctuations = string.punctuation\n",
    "\n",
    "print(punctuations)"
   ]
  },
  {
   "cell_type": "code",
   "execution_count": null,
   "metadata": {},
   "outputs": [],
   "source": [
    "# yeah - I'm going to get rid of them all! (except &?)"
   ]
  },
  {
   "cell_type": "code",
   "execution_count": null,
   "metadata": {},
   "outputs": [],
   "source": []
  },
  {
   "cell_type": "code",
   "execution_count": null,
   "metadata": {},
   "outputs": [],
   "source": []
  },
  {
   "cell_type": "markdown",
   "metadata": {},
   "source": [
    "### Cleaning\n",
    "\n",
    "- Tokenization\n",
    "- Stopwords cleaning\n",
    "- Removing punctuation\n",
    "- Normalizing\n",
    "- Stemming"
   ]
  },
  {
   "cell_type": "code",
   "execution_count": 136,
   "metadata": {},
   "outputs": [
    {
     "name": "stderr",
     "output_type": "stream",
     "text": [
      "[nltk_data] Downloading package stopwords to\n",
      "[nltk_data]     /Users/lilakelland/nltk_data...\n",
      "[nltk_data]   Package stopwords is already up-to-date!\n",
      "[nltk_data] Downloading package punkt to\n",
      "[nltk_data]     /Users/lilakelland/nltk_data...\n",
      "[nltk_data]   Package punkt is already up-to-date!\n"
     ]
    }
   ],
   "source": [
    "# Import ALL the libraries\n",
    "import pandas as pd\n",
    "import numpy as np\n",
    "\n",
    "# for stopword removal \n",
    "import nltk\n",
    "nltk.download('stopwords')\n",
    "from nltk.corpus import stopwords\n",
    "\n",
    "# for punctuation removal\n",
    "import string\n",
    "\n",
    "# for tokenizing into words\n",
    "import re\n",
    "from nltk.tokenize import word_tokenize\n",
    "\n",
    "# for stemming\n",
    "nltk.download('punkt')\n",
    "from nltk.stem import PorterStemmer\n",
    "\n",
    "# for lematizing\n",
    "from nltk.stem import WordNetLemmatizer \n",
    "\n",
    "# FEATURE ENGINEERING\n",
    "\n",
    "# Bag of words count vectorizer\n",
    "from sklearn.feature_extraction.text import CountVectorizer\n",
    "\n",
    "# TF-IDF vectorizer\n",
    "from sklearn.feature_extraction.text import TfidfVectorizer"
   ]
  },
  {
   "cell_type": "code",
   "execution_count": null,
   "metadata": {},
   "outputs": [],
   "source": [
    "# read fresh data\n",
    "\n",
    "df = pd.read_csv(\"data/train.csv\")"
   ]
  },
  {
   "cell_type": "markdown",
   "metadata": {},
   "source": [
    "#### Clean data"
   ]
  },
  {
   "cell_type": "code",
   "execution_count": null,
   "metadata": {},
   "outputs": [],
   "source": [
    "# drop columns and rename to q\n",
    "\n",
    "q= df[['question1', 'question2', 'is_duplicate']]\n",
    "q.columns = ['q1', 'q2', 'label']"
   ]
  },
  {
   "cell_type": "code",
   "execution_count": null,
   "metadata": {},
   "outputs": [],
   "source": [
    "# drop null values\n",
    "\n",
    "q.dropna()"
   ]
  },
  {
   "cell_type": "code",
   "execution_count": null,
   "metadata": {},
   "outputs": [],
   "source": [
    "# remove q with < 10 characters in either q1 or q2\n",
    "\n",
    "to_drop = q[(q['q2_length'] < 10) | (q['q1_length'] > 10)].index.tolist()\n",
    "q = q.drop(to_drop)\n",
    "\n",
    "# drop anything > 500\n",
    "\n",
    "to_drop = q[(q['q2_length'] > 500) | (q['q1_length'] > 500)].index.tolist()\n",
    "q = q.drop(to_drop)\n",
    "\n",
    "# truncate the rest ( most in first part?)"
   ]
  },
  {
   "cell_type": "code",
   "execution_count": null,
   "metadata": {},
   "outputs": [],
   "source": [
    "# remove punctuation\n",
    "\n",
    "punctuations = string.punctuation\n",
    "def remove_punct(text):\n",
    "    text = \"\".join([char for char in text if char not in string.punctuation])\n",
    "    return text\n"
   ]
  },
  {
   "cell_type": "code",
   "execution_count": null,
   "metadata": {},
   "outputs": [],
   "source": [
    "# tokenize into words\n",
    "\n",
    "def tokenize(text):\n",
    "    tokens = text.split()\n",
    "    #tokens2 = re.split('\\W+', text)\n",
    "    #tokens3 = re.findall(r'\\S+', text)\n",
    "    return tokens"
   ]
  },
  {
   "cell_type": "code",
   "execution_count": null,
   "metadata": {},
   "outputs": [],
   "source": [
    "#  Stop words\n",
    "\n",
    "stopwords = nltk.corpus.stopwords.words('english')\n",
    "\n",
    "def remove_stopwords(tokenized_text):    \n",
    "    text = [word for word in tokenized_text if word not in stopwords]\n",
    "    return text"
   ]
  },
  {
   "cell_type": "code",
   "execution_count": null,
   "metadata": {},
   "outputs": [],
   "source": [
    "# stemming OR lemmatizing\n",
    "\n",
    "lemmatizer = WordNetLemmatizer() \n",
    "# ps = PorterStemmer() \n",
    "   \n",
    "sentence=\"Programmers have programed by learning how to programatically program\"\n",
    "words = tokenize(sentence) \n",
    "   \n",
    "for w in words: \n",
    "#     print(w, \" : \", ps.stem(w)) \n",
    "    lemmatizer.lemmatize(w)"
   ]
  },
  {
   "cell_type": "code",
   "execution_count": null,
   "metadata": {},
   "outputs": [],
   "source": [
    "# *** .apply "
   ]
  },
  {
   "cell_type": "code",
   "execution_count": null,
   "metadata": {},
   "outputs": [],
   "source": []
  },
  {
   "cell_type": "code",
   "execution_count": null,
   "metadata": {},
   "outputs": [],
   "source": [
    "# Encompassing function to clean all \n",
    "\n",
    "def clean_text(text):\n",
    "    text = \"\".join([word.lower() for word in text if word not in string.punctuation]) \n",
    "    tokens = re.split('\\W+', text)\n",
    "    text = [word for word in tokens if word not in stopwords]\n",
    "    #lememtization\n",
    "    #stemming\n",
    "    return text"
   ]
  },
  {
   "cell_type": "markdown",
   "metadata": {},
   "source": [
    "### Feature Engineering\n",
    "\n",
    "- tf-idf\n",
    "- word2vec\n",
    "- word count\n",
    "- number of the same words in both questions\n",
    "- ...."
   ]
  },
  {
   "cell_type": "code",
   "execution_count": null,
   "metadata": {},
   "outputs": [],
   "source": [
    "def create_doc_term_matrix(message_list,vectorizer):\n",
    "    doc_term_matrix = vectorizer.fit_transform(message_list)\n",
    "    return pd.DataFrame(doc_term_matrix.toarray(),\n",
    "                    columns = vectorizer.get_feature_names())"
   ]
  },
  {
   "cell_type": "code",
   "execution_count": null,
   "metadata": {},
   "outputs": [],
   "source": [
    "# TfIDF vectorizer\n",
    "tfidf_vect = TfidfVectorizer(analyzer=clean_text)\n",
    "X_tfidf = tfidf_vect.fit_transform(q[['q1', 'q2']])"
   ]
  },
  {
   "cell_type": "code",
   "execution_count": null,
   "metadata": {},
   "outputs": [],
   "source": [
    "# try bag of words\n",
    "count_vect = CountVectorizer()\n",
    "X_tfidf = tfidf_vect.fit_transform(q[['q1', 'q2']])"
   ]
  },
  {
   "cell_type": "code",
   "execution_count": null,
   "metadata": {},
   "outputs": [],
   "source": [
    "# continuous bag of words(cbow) or skipgram??context of words (order) - these are the below right?\n",
    "# glove word embedding \n",
    "# word2vec word embedding (gensim)\n",
    "w2v_model = gensim.models.Word2Vec(X_train,\n",
    "                                   size=100, # can change this if more complicated - can increase, less, decrease\n",
    "                                   window=5,\n",
    "                                   min_count=2) # on"
   ]
  },
  {
   "cell_type": "code",
   "execution_count": null,
   "metadata": {},
   "outputs": [],
   "source": [
    "# pad with zeros - 150 "
   ]
  },
  {
   "cell_type": "code",
   "execution_count": null,
   "metadata": {},
   "outputs": [],
   "source": [
    "# bigrams"
   ]
  },
  {
   "cell_type": "markdown",
   "metadata": {},
   "source": [
    "### Modeling\n",
    "\n",
    "Different modeling techniques can be used:\n",
    "\n",
    "- logistic regression\n",
    "- XGBoost\n",
    "- LSTMs\n",
    "- etc"
   ]
  },
  {
   "cell_type": "code",
   "execution_count": null,
   "metadata": {},
   "outputs": [],
   "source": [
    "from sklearn.metrics import roc_auc_score, accuracy_score, confusion_matrix, ConfusionMatrixDisplay\n",
    "from sklearn.model_selection import train_test_split\n",
    "\n",
    "from sklearn.naive_bayes import BernoulliNB\n",
    "from sklearn.linear_model import LogisticRegression\n",
    "from sklearn.ensemble import RandomForestClassifier\n",
    "from sklearn.svm import LinearSVC\n",
    "# import xgboost as xgb\n",
    "# xg_reg = xgb.XGBRegressor(\n",
    "\n",
    "from sklearn.pipeline import Pipeline\n"
   ]
  },
  {
   "cell_type": "code",
   "execution_count": null,
   "metadata": {},
   "outputs": [],
   "source": [
    "# Initialise Model Object\n",
    "classifier = LinearSVC()"
   ]
  },
  {
   "cell_type": "code",
   "execution_count": null,
   "metadata": {},
   "outputs": [],
   "source": [
    "#build pipeline\n",
    "nlp_pipeline = Pipeline([\n",
    "    ('preprocessing', tfidf),\n",
    "    ('model', BernoulliNB())\n",
    "], verbose = True)"
   ]
  },
  {
   "cell_type": "code",
   "execution_count": null,
   "metadata": {},
   "outputs": [],
   "source": [
    "from sklearn.model_selection import train_test_split\n",
    "\n",
    "X_train, X_test, y_train, y_test = train_test_split( reviews['review'], reviews['label'], \n",
    "                                                    test_size = 0.2, random_state = 42)\n"
   ]
  },
  {
   "cell_type": "code",
   "execution_count": null,
   "metadata": {},
   "outputs": [],
   "source": [
    "%%time\n",
    "#fit pipeline\n",
    "nlp_pipeline.fit(X_train, y_train)\n",
    "\n",
    "train_accuracy = nlp_pipeline.score(X_train,y_train)\n",
    "test_accuracy = nlp_pipeline.score(X_test,y_test)"
   ]
  },
  {
   "cell_type": "code",
   "execution_count": null,
   "metadata": {},
   "outputs": [],
   "source": [
    "# predict\n",
    "nlp_pipeline.predict(['Welcome to the terrible world of data science'])"
   ]
  },
  {
   "cell_type": "code",
   "execution_count": null,
   "metadata": {},
   "outputs": [],
   "source": []
  }
 ],
 "metadata": {
  "kernelspec": {
   "display_name": "new_bootcamp",
   "language": "python",
   "name": "new_bootcamp"
  },
  "language_info": {
   "codemirror_mode": {
    "name": "ipython",
    "version": 3
   },
   "file_extension": ".py",
   "mimetype": "text/x-python",
   "name": "python",
   "nbconvert_exporter": "python",
   "pygments_lexer": "ipython3",
   "version": "3.8.11"
  }
 },
 "nbformat": 4,
 "nbformat_minor": 4
}
