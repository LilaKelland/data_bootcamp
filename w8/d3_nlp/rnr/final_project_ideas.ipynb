{
 "cells": [
  {
   "cell_type": "markdown",
   "id": "9fe6834d-8a1c-4565-bfd9-0cc39338d26c",
   "metadata": {},
   "source": [
    "* Shoe wear patterns and preemptive physio\n",
    "* Scrumping identifier apples - inaturalist not great, picture this might be better, but I dont think I could do better \n",
    "\n",
    "* white cat deterent (spray cat, not ours or skunk) - combine with racoon backyard with lazer identifier \n",
    "\n",
    "* Recommender system for seeds soil type climate s \n",
    "\n",
    "* inaturalist for knitting patterns - contact ravelry\n",
    "\n",
    "* multimodal transportation? google maps and uber... combine\n",
    "\n"
   ]
  },
  {
   "cell_type": "code",
   "execution_count": null,
   "id": "b38b5cb4-bb01-4c45-88f9-3004ae068eea",
   "metadata": {},
   "outputs": [],
   "source": [
    "Next steps:\n",
    "    Contact seed companies (use scrap or use postal code ) see if there is groupings of purchases? - anticipate supply and demand\n",
    "    contact ravelry\n",
    "    look into google maps and other multimodal?\n",
    "    buy camera"
   ]
  },
  {
   "cell_type": "code",
   "execution_count": null,
   "id": "adeb8241-1d9d-4ec4-835d-ebb329a8f653",
   "metadata": {},
   "outputs": [],
   "source": [
    "ravlery pattern suggester - or recommender (patterns like)\n",
    "# WEB SCRAPING IMAGES (sept 2019 - researh more)\n",
    "https://towardsdatascience.com/image-scraping-with-python-a96feda8af2d"
   ]
  },
  {
   "cell_type": "code",
   "execution_count": null,
   "id": "7d5f5840-af1c-431b-b33b-8e9a77354c97",
   "metadata": {},
   "outputs": [],
   "source": [
    "Other:\n",
    "use nasa?\n",
    "Predict infill\n",
    "Predict weather\n",
    "Fabric sewing patterns Instagram recommended \n",
    "cat identifyer "
   ]
  }
 ],
 "metadata": {
  "kernelspec": {
   "display_name": "bootcamp_env",
   "language": "python",
   "name": "bootcamp_env"
  },
  "language_info": {
   "codemirror_mode": {
    "name": "ipython",
    "version": 3
   },
   "file_extension": ".py",
   "mimetype": "text/x-python",
   "name": "python",
   "nbconvert_exporter": "python",
   "pygments_lexer": "ipython3",
   "version": "3.8.5"
  }
 },
 "nbformat": 4,
 "nbformat_minor": 5
}
