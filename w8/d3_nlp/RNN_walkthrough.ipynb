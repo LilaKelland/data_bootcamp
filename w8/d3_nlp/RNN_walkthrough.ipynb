{
 "cells": [
  {
   "cell_type": "markdown",
   "id": "4a7bb45b",
   "metadata": {},
   "source": [
    "## Training a Keras model to generate colours\n",
    "\n",
    "apply RNn to process character sequences"
   ]
  },
  {
   "cell_type": "code",
   "execution_count": 1,
   "id": "16f28f59",
   "metadata": {},
   "outputs": [],
   "source": [
    "# https://heartbeat.comet.ml/how-to-train-a-keras-model-to-generate-colors-3bc79e54971b"
   ]
  },
  {
   "cell_type": "markdown",
   "id": "53965f26",
   "metadata": {},
   "source": [
    "There are two general options for language modeling: word-level models and character-level models. Each has its advantages and disadvantages. Let’s go through them now\n",
    "\n",
    "### Word-level Language Model\n",
    "The word-level language model can handle relatively long and clean sentences. By “clean”, I mean the words in the text datasets are free from typos and have few words outside of English vocabulary. The word-level language model encodes each unique word into a corresponding integer, and there’s a predefined fixed-sized vocabulary dictionary to look up the word to integer mapping. One major benefit of the word-level language model is its ability to leverage pre-trained word embeddings such as Word2Vec or GloVe. These embeddings represent words as vectors with useful properties. Words close in context are close in Euclidean distance and can be used to understand analogies like \"man is to women, as king is to queen\". Using these ideas, you can train a word-level model with relatively small labeled training sets\n",
    "\n",
    "### Character Level Language Model\n",
    "But there’s an even simpler language model, one that splits a text string into characters and associates a unique integer to every single character. There are some reasons you might choose to use the character-level language model over the more popular word-level model:\n",
    "\n",
    "* Your text datasets contain a noticeable amount of out-of-vocabulary words or infrequent words. In our case, some legitimate color names could be “aquatone”, “chartreuse” and “fuchsia”. For me, I have to check a dictionary to find out their meanings, and traditional word-level embeddings may not contain them.\n",
    "* The majority of the text strings are short, bounded-length strings. If you’re looking for a specific length limit, I’ve been dealing with a Yelp review generation model with character level encode character length of 60 and still get decent results. You can find that blog post here: How to generate realistic yelp restaurant reviews with Keras. Usually, the character-level language generation model can create text with more variety since its imagination is not constrained by a pre-defined dictionary of vocabulary.\n",
    "You may also be aware of the limitation that came with adopting character-level language: - Long sequences may not capture long-range dependencies as well as word-level language models. - Character-level models are also more computationally expensive to train — given the same text data sets, these model sequences are longer and, as a result, require extended training time.\n",
    "\n",
    "Fortunately, these limitations won’t pose a threat to our color generation task. We’re limiting our color names to 25 characters in length and we only have 18,606 training samples."
   ]
  },
  {
   "cell_type": "code",
   "execution_count": 2,
   "id": "794fed81",
   "metadata": {},
   "outputs": [],
   "source": [
    "import tensorflow as tf\n",
    "from tensorflow.python import keras\n",
    "from tensorflow.python.keras import preprocessing\n",
    "from tensorflow.python.keras.preprocessing.text import Tokenizer\n",
    "from tensorflow.python.keras.models import Sequential\n",
    "from tensorflow.python.keras.layers import Dense, Dropout, LSTM, Reshape\n",
    "\n",
    "import numpy as np\n",
    "import pandas as pd"
   ]
  },
  {
   "cell_type": "code",
   "execution_count": 4,
   "id": "5ab005eb",
   "metadata": {},
   "outputs": [
    {
     "data": {
      "text/html": [
       "<div>\n",
       "<style scoped>\n",
       "    .dataframe tbody tr th:only-of-type {\n",
       "        vertical-align: middle;\n",
       "    }\n",
       "\n",
       "    .dataframe tbody tr th {\n",
       "        vertical-align: top;\n",
       "    }\n",
       "\n",
       "    .dataframe thead th {\n",
       "        text-align: right;\n",
       "    }\n",
       "</style>\n",
       "<table border=\"1\" class=\"dataframe\">\n",
       "  <thead>\n",
       "    <tr style=\"text-align: right;\">\n",
       "      <th></th>\n",
       "      <th>name</th>\n",
       "      <th>red</th>\n",
       "      <th>green</th>\n",
       "      <th>blue</th>\n",
       "    </tr>\n",
       "  </thead>\n",
       "  <tbody>\n",
       "    <tr>\n",
       "      <th>0</th>\n",
       "      <td>18th Century Green</td>\n",
       "      <td>165</td>\n",
       "      <td>147</td>\n",
       "      <td>68</td>\n",
       "    </tr>\n",
       "    <tr>\n",
       "      <th>1</th>\n",
       "      <td>1975 Earth Red</td>\n",
       "      <td>123</td>\n",
       "      <td>70</td>\n",
       "      <td>59</td>\n",
       "    </tr>\n",
       "    <tr>\n",
       "      <th>2</th>\n",
       "      <td>1989 Miami Hotline</td>\n",
       "      <td>221</td>\n",
       "      <td>51</td>\n",
       "      <td>102</td>\n",
       "    </tr>\n",
       "    <tr>\n",
       "      <th>3</th>\n",
       "      <td>20000 Leagues Under the Sea</td>\n",
       "      <td>25</td>\n",
       "      <td>25</td>\n",
       "      <td>112</td>\n",
       "    </tr>\n",
       "    <tr>\n",
       "      <th>4</th>\n",
       "      <td>3AM in Shibuya</td>\n",
       "      <td>34</td>\n",
       "      <td>85</td>\n",
       "      <td>119</td>\n",
       "    </tr>\n",
       "  </tbody>\n",
       "</table>\n",
       "</div>"
      ],
      "text/plain": [
       "                          name  red  green  blue\n",
       "0           18th Century Green  165    147    68\n",
       "1               1975 Earth Red  123     70    59\n",
       "2           1989 Miami Hotline  221     51   102\n",
       "3  20000 Leagues Under the Sea   25     25   112\n",
       "4               3AM in Shibuya   34     85   119"
      ]
     },
     "execution_count": 4,
     "metadata": {},
     "output_type": "execute_result"
    }
   ],
   "source": [
    "# Now, we can load the data into a Pandas data-frame and create separate series with color names.\n",
    "\n",
    "data = pd.read_csv(\"data/colors.csv\")\n",
    "names = data[\"name\"]\n",
    "data.head()"
   ]
  },
  {
   "cell_type": "code",
   "execution_count": 11,
   "id": "a871e722",
   "metadata": {},
   "outputs": [
    {
     "data": {
      "text/plain": [
       "(18606, 4)"
      ]
     },
     "execution_count": 11,
     "metadata": {},
     "output_type": "execute_result"
    }
   ],
   "source": [
    "data.shape"
   ]
  },
  {
   "cell_type": "code",
   "execution_count": null,
   "id": "7852c5a3",
   "metadata": {},
   "outputs": [],
   "source": []
  },
  {
   "cell_type": "markdown",
   "id": "e9cbb4bc",
   "metadata": {},
   "source": [
    "### Data Preparation\n",
    "We mentioned that we’re limiting our color names to 25 characters. To arrive at this number, we checked the distribution of the length of color names across all training samples and visualize it to make sure the length limit we pick makes sense."
   ]
  },
  {
   "cell_type": "code",
   "execution_count": 9,
   "id": "8412abe7",
   "metadata": {},
   "outputs": [
    {
     "data": {
      "image/png": "[encoded data removed]",
      "text/plain": [
       "<Figure size 432x288 with 1 Axes>"
      ]
     },
     "metadata": {
      "needs_background": "light"
     },
     "output_type": "display_data"
    }
   ],
   "source": [
    "h = sorted(names.str.len().values)\n",
    "import numpy as np\n",
    "import scipy.stats as stats\n",
    "import pylab as plt\n",
    "\n",
    "fit = stats.norm.pdf(h, np.mean(h), np.std(h))  #this is a fitting indeed\n",
    "plt.plot(h,fit,'-o')\n",
    "plt.hist(h, density=True, stacked=True)      #use this to draw histogram of your data\n",
    "plt.xlabel('Chars')\n",
    "plt.ylabel('Probability density')\n",
    "plt.show()"
   ]
  },
  {
   "cell_type": "code",
   "execution_count": 10,
   "id": "fe8a293e",
   "metadata": {},
   "outputs": [
    {
     "name": "stdout",
     "output_type": "stream",
     "text": [
      "(18606, 25)\n"
     ]
    }
   ],
   "source": [
    "# See majority have strings <25, max length 30.  Could choose 30, but would need to be trained for longer.  \n",
    "# Transform string to list 25 integer values with text tokenization utility\n",
    "\n",
    "maxlen = 25\n",
    "t = Tokenizer(char_level=True)\n",
    "t.fit_on_texts(names)\n",
    "tokenized = t.texts_to_sequences(names)\n",
    "padded_names = preprocessing.sequence.pad_sequences(tokenized, maxlen=maxlen)\n",
    "print(padded_names.shape)\n",
    "\n",
    "# If a string has less than 25 characters, it will be padded with the value 0 from the beginning of the sequence."
   ]
  },
  {
   "cell_type": "markdown",
   "id": "74e4344c",
   "metadata": {},
   "source": [
    "### One-hot Encoding\n",
    "We can view the character to integer mapping by inspecting the t.word_index property of the instance of Keras’ Tokenizer.\n",
    "\n"
   ]
  },
  {
   "cell_type": "code",
   "execution_count": 12,
   "id": "864cfe44",
   "metadata": {},
   "outputs": [
    {
     "name": "stdout",
     "output_type": "stream",
     "text": [
      "{'e': 1, 'a': 2, ' ': 3, 'r': 4, 'i': 5, 'l': 6, 'n': 7, 'o': 8, 's': 9, 't': 10, 'c': 11, 'u': 12, 'd': 13, 'g': 14, 'p': 15, 'h': 16, 'b': 17, 'm': 18, 'y': 19, 'w': 20, 'k': 21, 'f': 22, 'v': 23, 'z': 24, 'j': 25, 'q': 26, 'x': 27, \"'\": 28, '-': 29, 'ō': 30, 'è': 31, 'é': 32, 'ā': 33, 'á': 34, 'ó': 35, 'ū': 36, '0': 37, '8': 38, '.': 39, 'ē': 40, 'ī': 41, 'ǎ': 42, '!': 43, 'í': 44, '&': 45, 'ǜ': 46, '9': 47, '2': 48, 'à': 49, 'ǐ': 50, '’': 51, '6': 52, 'ú': 53, '1': 54, '3': 55, 'â': 56, '4': 57, 'ǔ': 58, 'ì': 59, '7': 60, '5': 61, 'ê': 62, 'ö': 63, 'ł': 64, 'š': 65, 'ü': 66, '₂': 67, 'ò': 68, 'ñ': 69, 'ě': 70, 'ń': 71, 'ä': 72, 'œ': 73, 'ß': 74, '%': 75, 'ı': 76, 'ż': 77, '/': 78, 'î': 79, 'ë': 80, '(': 81, ')': 82, 'å': 83, '$': 84, 'я': 85, 'ő': 86, 'ğ': 87, 'ç': 88, 'ù': 89}\n"
     ]
    }
   ],
   "source": [
    "print(t.word_index)"
   ]
  },
  {
   "cell_type": "markdown",
   "id": "edc81059",
   "metadata": {},
   "source": [
    "We can see that all of the most frequent characters (letters) are in the top 25. Therefore, this number should be sufficient.\n",
    "\n",
    "However, the integer values have no natural ordered relationship between each other and our model may not be able to harness any benefit from it. What’s worse, our model will initially assume such an ordering relationship among those characters (i.e. “a” is 2 and “e” is 1 but that should not signify a relationship), which can lead to an unwanted result. We will use one-hot encoding to represent the input sequence.\n",
    "\n",
    "Each integer will be represented by a boolean array where only one element in the array will have a value of 1. The max integer value will determine the length of the boolean array in the character dictionary.\n",
    "\n",
    "In our case, the max integer value is 'ù': 89, so the length of a one-hot boolean array will be 90 (considering the lowest value starts with 0, which is the padding).\n",
    "\n",
    "For example, instead of using the integer value 2 to represent character ‘a’, we’re going to use one-hot array [0, 0, 1, 0 …….. 0].\n",
    "\n",
    "One-hot encoding is also accessible in Keras.\n",
    "\n"
   ]
  },
  {
   "cell_type": "code",
   "execution_count": 14,
   "id": "999b31e6",
   "metadata": {},
   "outputs": [
    {
     "data": {
      "text/plain": [
       "(18606, 25, 90)"
      ]
     },
     "execution_count": 14,
     "metadata": {},
     "output_type": "execute_result"
    }
   ],
   "source": [
    "from tensorflow.python.keras.utils import np_utils\n",
    "one_hot_names = np_utils.to_categorical(padded_names)\n",
    "one_hot_names.shape"
   ]
  },
  {
   "cell_type": "markdown",
   "id": "25d58586",
   "metadata": {},
   "source": [
    "The resulting one-hot-names has the shape (18606, 25, 90), which stands for (# of training samples, max sequence length, # of unique tokens).\n",
    "### Data Normalization\n",
    "Remember we’re predicting 3 color channel values, each value ranging between 0–255. There is no golden rule for data normalization. Data normalization is purely practical because in practice it could take a model forever to converge if the training data values are spread out too much. A common normalization technique is to scale values to [-1, 1]. In our model, we’re using a ReLu activation function in the last layer. Since ReLu outputs non-negative numbers, we’ll normalize the values to [0, 1]."
   ]
  },
  {
   "cell_type": "code",
   "execution_count": 15,
   "id": "61d6dbcb",
   "metadata": {},
   "outputs": [],
   "source": [
    "# The RGB values are between 0 - 255\n",
    "# scale them to be between 0 - 1\n",
    "def norm(value):\n",
    "    return value / 255.0\n",
    "\n",
    "normalized_values = np.column_stack([norm(data[\"red\"]), norm(data[\"green\"]), norm(data[\"blue\"])])"
   ]
  },
  {
   "cell_type": "code",
   "execution_count": 16,
   "id": "b993cbc2",
   "metadata": {},
   "outputs": [
    {
     "data": {
      "text/plain": [
       "array([[0.64705882, 0.57647059, 0.26666667],\n",
       "       [0.48235294, 0.2745098 , 0.23137255],\n",
       "       [0.86666667, 0.2       , 0.4       ],\n",
       "       ...,\n",
       "       [0.80392157, 0.83529412, 0.83529412],\n",
       "       [0.        , 0.5372549 , 0.58823529],\n",
       "       [0.14117647, 0.54509804, 0.8       ]])"
      ]
     },
     "execution_count": 16,
     "metadata": {},
     "output_type": "execute_result"
    }
   ],
   "source": [
    "normalized_values"
   ]
  },
  {
   "cell_type": "markdown",
   "id": "ca5cd4e8",
   "metadata": {},
   "source": [
    "### Building the Model\n",
    "To build our model we’re going to use two types of neural networks: a feed-forward neural network and a recurrent neural network. The feed-forward neural network is by far the most common type of neural network. In this neural network, the information comes into the input units and flows in one direction through hidden layers until each reaches the output units.\n",
    "\n",
    "In recurrent neural networks, information can flow around in cycles. These networks can remember information for a long time. Recurrent networks are a very natural way to model sequential data. In our specific model, we’re using one of the most powerful recurrent networks named long short term memory (LSTM).\n",
    "\n",
    "The easiest way to build a deep learning model in Keras is to use its sequential API, and we simply connect each of the neural network layers by calling its model.add() function like connecting LEGO bricks.\n",
    "\n"
   ]
  },
  {
   "cell_type": "code",
   "execution_count": 17,
   "id": "dd7477e3",
   "metadata": {},
   "outputs": [
    {
     "name": "stderr",
     "output_type": "stream",
     "text": [
      "2021-11-03 23:44:11.861225: I tensorflow/core/platform/cpu_feature_guard.cc:142] This TensorFlow binary is optimized with oneAPI Deep Neural Network Library (oneDNN) to use the following CPU instructions in performance-critical operations:  SSE4.1 SSE4.2 AVX AVX2 FMA\n",
      "To enable them in other operations, rebuild TensorFlow with the appropriate compiler flags.\n"
     ]
    }
   ],
   "source": [
    "model = Sequential()\n",
    "model.add(LSTM(256, return_sequences=True, input_shape=(maxlen, 90)))\n",
    "model.add(LSTM(128))\n",
    "model.add(Dense(128, activation='relu'))\n",
    "model.add(Dense(3, activation='sigmoid'))\n",
    "model.compile(optimizer='adam', loss='mse', metrics=['acc'])"
   ]
  },
  {
   "cell_type": "code",
   "execution_count": 18,
   "id": "541e67d4",
   "metadata": {},
   "outputs": [
    {
     "name": "stderr",
     "output_type": "stream",
     "text": [
      "2021-11-03 23:44:41.671820: I tensorflow/compiler/mlir/mlir_graph_optimization_pass.cc:185] None of the MLIR Optimization Passes are enabled (registered 2)\n"
     ]
    },
    {
     "name": "stdout",
     "output_type": "stream",
     "text": [
      "Epoch 1/40\n",
      "466/466 [==============================] - 61s 124ms/step - loss: 0.0685 - acc: 0.5818 - val_loss: 0.0631 - val_acc: 0.6279\n",
      "Epoch 2/40\n",
      "466/466 [==============================] - 61s 131ms/step - loss: 0.0643 - acc: 0.6198 - val_loss: 0.0607 - val_acc: 0.6139\n",
      "Epoch 3/40\n",
      "466/466 [==============================] - 67s 144ms/step - loss: 0.0615 - acc: 0.6325 - val_loss: 0.0600 - val_acc: 0.6274\n",
      "Epoch 4/40\n",
      "466/466 [==============================] - 68s 146ms/step - loss: 0.0592 - acc: 0.6322 - val_loss: 0.0583 - val_acc: 0.6018\n",
      "Epoch 5/40\n",
      "466/466 [==============================] - 67s 143ms/step - loss: 0.0568 - acc: 0.6369 - val_loss: 0.0579 - val_acc: 0.6061\n",
      "Epoch 6/40\n",
      "466/466 [==============================] - 75s 161ms/step - loss: 0.0546 - acc: 0.6406 - val_loss: 0.0563 - val_acc: 0.6136\n",
      "Epoch 7/40\n",
      "466/466 [==============================] - 75s 160ms/step - loss: 0.0525 - acc: 0.6402 - val_loss: 0.0554 - val_acc: 0.6051\n",
      "Epoch 8/40\n",
      "466/466 [==============================] - 69s 148ms/step - loss: 0.0504 - acc: 0.6472 - val_loss: 0.0571 - val_acc: 0.5693\n",
      "Epoch 9/40\n",
      "466/466 [==============================] - 61s 131ms/step - loss: 0.0486 - acc: 0.6495 - val_loss: 0.0548 - val_acc: 0.6051\n",
      "Epoch 10/40\n",
      "466/466 [==============================] - 67s 144ms/step - loss: 0.0461 - acc: 0.6566 - val_loss: 0.0553 - val_acc: 0.6279\n",
      "Epoch 11/40\n",
      "466/466 [==============================] - 71s 153ms/step - loss: 0.0439 - acc: 0.6623 - val_loss: 0.0565 - val_acc: 0.6107\n",
      "Epoch 12/40\n",
      "466/466 [==============================] - 68s 147ms/step - loss: 0.0412 - acc: 0.6684 - val_loss: 0.0573 - val_acc: 0.5903\n",
      "Epoch 13/40\n",
      "466/466 [==============================] - 74s 159ms/step - loss: 0.0382 - acc: 0.6747 - val_loss: 0.0576 - val_acc: 0.5978\n",
      "Epoch 14/40\n",
      "466/466 [==============================] - 67s 144ms/step - loss: 0.0351 - acc: 0.6797 - val_loss: 0.0591 - val_acc: 0.6126\n",
      "Epoch 15/40\n",
      "466/466 [==============================] - 61s 131ms/step - loss: 0.0317 - acc: 0.6899 - val_loss: 0.0622 - val_acc: 0.5879\n",
      "Epoch 16/40\n",
      "466/466 [==============================] - 63s 136ms/step - loss: 0.0283 - acc: 0.6943 - val_loss: 0.0609 - val_acc: 0.5825\n",
      "Epoch 17/40\n",
      "466/466 [==============================] - 64s 137ms/step - loss: 0.0247 - acc: 0.7031 - val_loss: 0.0641 - val_acc: 0.6040\n",
      "Epoch 18/40\n",
      "466/466 [==============================] - 70s 149ms/step - loss: 0.0218 - acc: 0.7087 - val_loss: 0.0642 - val_acc: 0.5935\n",
      "Epoch 19/40\n",
      "466/466 [==============================] - 62s 133ms/step - loss: 0.0184 - acc: 0.7174 - val_loss: 0.0651 - val_acc: 0.5970\n",
      "Epoch 20/40\n",
      "466/466 [==============================] - 68s 145ms/step - loss: 0.0159 - acc: 0.7265 - val_loss: 0.0675 - val_acc: 0.5997\n",
      "Epoch 21/40\n",
      "466/466 [==============================] - 63s 134ms/step - loss: 0.0141 - acc: 0.7366 - val_loss: 0.0676 - val_acc: 0.6026\n",
      "Epoch 22/40\n",
      "466/466 [==============================] - 62s 133ms/step - loss: 0.0122 - acc: 0.7438 - val_loss: 0.0675 - val_acc: 0.5860\n",
      "Epoch 23/40\n",
      "466/466 [==============================] - 63s 135ms/step - loss: 0.0109 - acc: 0.7542 - val_loss: 0.0683 - val_acc: 0.5868\n",
      "Epoch 24/40\n",
      "466/466 [==============================] - 61s 131ms/step - loss: 0.0096 - acc: 0.7581 - val_loss: 0.0692 - val_acc: 0.5973\n",
      "Epoch 25/40\n",
      "466/466 [==============================] - 62s 132ms/step - loss: 0.0086 - acc: 0.7672 - val_loss: 0.0683 - val_acc: 0.5822\n",
      "Epoch 26/40\n",
      "466/466 [==============================] - 61s 130ms/step - loss: 0.0077 - acc: 0.7703 - val_loss: 0.0689 - val_acc: 0.5892\n",
      "Epoch 27/40\n",
      "466/466 [==============================] - 62s 133ms/step - loss: 0.0070 - acc: 0.7812 - val_loss: 0.0679 - val_acc: 0.5870\n",
      "Epoch 28/40\n",
      "466/466 [==============================] - 60s 128ms/step - loss: 0.0064 - acc: 0.7829 - val_loss: 0.0682 - val_acc: 0.5833\n",
      "Epoch 29/40\n",
      "466/466 [==============================] - 60s 130ms/step - loss: 0.0060 - acc: 0.7898 - val_loss: 0.0686 - val_acc: 0.5785\n",
      "Epoch 30/40\n",
      "466/466 [==============================] - 62s 134ms/step - loss: 0.0055 - acc: 0.7958 - val_loss: 0.0692 - val_acc: 0.5725\n",
      "Epoch 31/40\n",
      "466/466 [==============================] - 59s 127ms/step - loss: 0.0053 - acc: 0.7984 - val_loss: 0.0695 - val_acc: 0.5709\n",
      "Epoch 32/40\n",
      "466/466 [==============================] - 62s 132ms/step - loss: 0.0048 - acc: 0.8077 - val_loss: 0.0682 - val_acc: 0.5699\n",
      "Epoch 33/40\n",
      "466/466 [==============================] - 62s 133ms/step - loss: 0.0045 - acc: 0.8113 - val_loss: 0.0700 - val_acc: 0.5828\n",
      "Epoch 34/40\n",
      "466/466 [==============================] - 67s 144ms/step - loss: 0.0045 - acc: 0.8135 - val_loss: 0.0690 - val_acc: 0.5744\n",
      "Epoch 35/40\n",
      "466/466 [==============================] - 68s 146ms/step - loss: 0.0041 - acc: 0.8179 - val_loss: 0.0699 - val_acc: 0.5664\n",
      "Epoch 36/40\n",
      "466/466 [==============================] - 68s 146ms/step - loss: 0.0040 - acc: 0.8238 - val_loss: 0.0684 - val_acc: 0.5755\n",
      "Epoch 37/40\n",
      "466/466 [==============================] - 66s 141ms/step - loss: 0.0037 - acc: 0.8257 - val_loss: 0.0693 - val_acc: 0.5752\n",
      "Epoch 38/40\n",
      "466/466 [==============================] - 68s 146ms/step - loss: 0.0037 - acc: 0.8353 - val_loss: 0.0681 - val_acc: 0.5639\n",
      "Epoch 39/40\n",
      "466/466 [==============================] - 69s 148ms/step - loss: 0.0035 - acc: 0.8323 - val_loss: 0.0668 - val_acc: 0.5849\n",
      "Epoch 40/40\n",
      "466/466 [==============================] - 70s 150ms/step - loss: 0.0034 - acc: 0.8374 - val_loss: 0.0679 - val_acc: 0.5836\n"
     ]
    }
   ],
   "source": [
    "# training a model by calling model.fit() function cannot be any easier\n",
    "history = model.fit(one_hot_names, normalized_values,\n",
    "                    epochs=40,\n",
    "                    batch_size=32,\n",
    "                    validation_split=0.2)"
   ]
  },
  {
   "cell_type": "markdown",
   "id": "0bdac6e8",
   "metadata": {},
   "source": [
    "### Generate Colors\n",
    "Let’s define some functions to generate and show the color predicted.\n",
    "\n",
    "For a color name input, we need to transform it into the same one-hot representation. To achieve this, we tokenize characters to integers with the same tokenizer with which we processed the training data, pad it to the max sequence length of 25, then apply the one-hot encoding to the integer sequence.\n",
    "\n",
    "And for the output RGB values, we need to scale it back to 0–255, so we can display them correctly."
   ]
  },
  {
   "cell_type": "code",
   "execution_count": 19,
   "id": "4aee2485",
   "metadata": {},
   "outputs": [],
   "source": [
    "# plot a color image\n",
    "def plot_rgb(rgb):\n",
    "    data = [[rgb]]\n",
    "    plt.figure(figsize=(2,2))\n",
    "    plt.imshow(data, interpolation='nearest')\n",
    "    plt.show()\n",
    "\n",
    "def scale(n):\n",
    "    return int(n * 255) \n",
    "\n",
    "def predict(name):\n",
    "    name = name.lower()\n",
    "    tokenized = t.texts_to_sequences([name])\n",
    "    padded = preprocessing.sequence.pad_sequences(tokenized, maxlen=maxlen)\n",
    "    one_hot = np_utils.to_categorical(padded, num_classes=90)\n",
    "    pred = model.predict(np.array(one_hot))[0]\n",
    "    r, g, b = scale(pred[0]), scale(pred[1]), scale(pred[2])\n",
    "    print(name + ',', 'R,G,B:', r,g,b)\n",
    "    plot_rgb(pred)"
   ]
  },
  {
   "cell_type": "code",
   "execution_count": 20,
   "id": "c2c88e86",
   "metadata": {},
   "outputs": [
    {
     "name": "stdout",
     "output_type": "stream",
     "text": [
      "forest, R,G,B: 29 81 25\n"
     ]
    },
    {
     "data": {
      "image/png": "[encoded data removed]",
      "text/plain": [
       "<Figure size 144x144 with 1 Axes>"
      ]
     },
     "metadata": {
      "needs_background": "light"
     },
     "output_type": "display_data"
    },
    {
     "name": "stdout",
     "output_type": "stream",
     "text": [
      "ocean, R,G,B: 23 82 145\n"
     ]
    },
    {
     "data": {
      "image/png": "[encoded data removed]",
      "text/plain": [
       "<Figure size 144x144 with 1 Axes>"
      ]
     },
     "metadata": {
      "needs_background": "light"
     },
     "output_type": "display_data"
    }
   ],
   "source": [
    "# Let’s give the predict() function a try.\n",
    "\n",
    "predict(\"forest\")\n",
    "predict(\"ocean\")"
   ]
  },
  {
   "cell_type": "markdown",
   "id": "9f3b289c",
   "metadata": {},
   "source": [
    "Conclusion\n",
    "\n",
    "In this post, we talked about how to build a Keras model that can take any color name and come up with an RGB color value. More specifically, we looked at how to apply the one-hot encoding to character-level language models, building a neural network model with a feed-forward neural network and recurrent neural network.\n",
    "\n",
    "Here’s a diagram to summarize what we have built in the post, starting from the bottom and showing every step of the data flow."
   ]
  },
  {
   "cell_type": "code",
   "execution_count": null,
   "id": "455adc87",
   "metadata": {},
   "outputs": [],
   "source": []
  }
 ],
 "metadata": {
  "kernelspec": {
   "display_name": "Python 3 (ipykernel)",
   "language": "python",
   "name": "python3"
  },
  "language_info": {
   "codemirror_mode": {
    "name": "ipython",
    "version": 3
   },
   "file_extension": ".py",
   "mimetype": "text/x-python",
   "name": "python",
   "nbconvert_exporter": "python",
   "pygments_lexer": "ipython3",
   "version": "3.8.11"
  }
 },
 "nbformat": 4,
 "nbformat_minor": 5
}
