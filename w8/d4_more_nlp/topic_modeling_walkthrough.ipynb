{
 "cells": [
  {
   "cell_type": "code",
   "execution_count": 1,
   "id": "81071fcc-01f1-4a95-bf5d-51b43bcc925b",
   "metadata": {},
   "outputs": [],
   "source": [
    "# https://www.linkedin.com/pulse/nlp-a-complete-guide-topic-modeling-latent-dirichlet-sahil-m/\n",
    "\n",
    "# Extract topics from unstructured data\n",
    "# - cluster of words by topic\n",
    "# - cluster of document by topic"
   ]
  },
  {
   "cell_type": "markdown",
   "id": "4e1963ea-b7f6-41ec-8674-28de1e20bedc",
   "metadata": {},
   "source": [
    "One of the primary applications of natural language processing is to automatically extract what topics people are discussing from large volumes of text. Some examples of large text could be feeds from social media, customer reviews of hotels, movies, etc, user feedbacks, news stories, e-mails of customer complaints etc.\n",
    "\n",
    "Topic modelling unsupervised learning (PCA k-Means, Topic modelling)"
   ]
  },
  {
   "cell_type": "markdown",
   "id": "2128a74f-8207-45d3-b321-ec59b16f8cfa",
   "metadata": {},
   "source": [
    " Topic modeling Use Cases:\n",
    "\n",
    "* Document categorization\n",
    "* Document summarization\n",
    "* Dimension reduction- Doc words matrix is reduced to doc topic matrix"
   ]
  },
  {
   "cell_type": "code",
   "execution_count": 1,
   "id": "4eca6778-1dc9-4dc7-a408-74e9b015b543",
   "metadata": {},
   "outputs": [
    {
     "name": "stderr",
     "output_type": "stream",
     "text": [
      "[nltk_data] Downloading package stopwords to\n",
      "[nltk_data]     /Users/lilakelland/nltk_data...\n",
      "[nltk_data]   Package stopwords is already up-to-date!\n"
     ]
    }
   ],
   "source": [
    "import re\n",
    "import nltk\n",
    "import spacy\n",
    "import gensim\n",
    "import pyLDAvis\n",
    "import nlp\n",
    "nltk.download('stopwords')\n",
    "import pandas as pd\n",
    "import numpy as np\n",
    "\n",
    "# Gensim\n",
    "import gensim\n",
    "import gensim.corpora as corpora\n",
    "from gensim.utils import simple_preprocess\n",
    "from gensim.models import CoherenceModel\n",
    "\n",
    "# spacy for Lemmatization\n",
    "import spacy\n",
    "\n",
    "# Plotting tools\n",
    "import pyLDAvis\n",
    "import pyLDAvis.gensim_models # don't skip this\n",
    "import matplotlib.pyplot as plt\n",
    "%matplotlib inline"
   ]
  },
  {
   "cell_type": "code",
   "execution_count": 2,
   "id": "ea2d2698-a3de-4092-a5b9-5365abc64a95",
   "metadata": {},
   "outputs": [
    {
     "name": "stderr",
     "output_type": "stream",
     "text": [
      "/Users/lilakelland/opt/anaconda3/envs/bootcamp_env/lib/python3.8/site-packages/ipykernel/ipkernel.py:287: DeprecationWarning: `should_run_async` will not call `transform_cell` automatically in the future. Please pass the result to `transformed_cell` argument and any exception that happen during thetransform in `preprocessing_exc_tuple` in IPython 7.17 and above.\n",
      "  and should_run_async(code)\n"
     ]
    },
    {
     "data": {
      "text/html": [
       "<div>\n",
       "<style scoped>\n",
       "    .dataframe tbody tr th:only-of-type {\n",
       "        vertical-align: middle;\n",
       "    }\n",
       "\n",
       "    .dataframe tbody tr th {\n",
       "        vertical-align: top;\n",
       "    }\n",
       "\n",
       "    .dataframe thead th {\n",
       "        text-align: right;\n",
       "    }\n",
       "</style>\n",
       "<table border=\"1\" class=\"dataframe\">\n",
       "  <thead>\n",
       "    <tr style=\"text-align: right;\">\n",
       "      <th></th>\n",
       "      <th>category</th>\n",
       "      <th>text</th>\n",
       "    </tr>\n",
       "  </thead>\n",
       "  <tbody>\n",
       "    <tr>\n",
       "      <th>0</th>\n",
       "      <td>tech</td>\n",
       "      <td>tv future in the hands of viewers with home th...</td>\n",
       "    </tr>\n",
       "    <tr>\n",
       "      <th>1</th>\n",
       "      <td>business</td>\n",
       "      <td>worldcom boss  left books alone  former worldc...</td>\n",
       "    </tr>\n",
       "    <tr>\n",
       "      <th>2</th>\n",
       "      <td>sport</td>\n",
       "      <td>tigers wary of farrell  gamble  leicester say ...</td>\n",
       "    </tr>\n",
       "    <tr>\n",
       "      <th>3</th>\n",
       "      <td>sport</td>\n",
       "      <td>yeading face newcastle in fa cup premiership s...</td>\n",
       "    </tr>\n",
       "    <tr>\n",
       "      <th>4</th>\n",
       "      <td>entertainment</td>\n",
       "      <td>ocean s twelve raids box office ocean s twelve...</td>\n",
       "    </tr>\n",
       "  </tbody>\n",
       "</table>\n",
       "</div>"
      ],
      "text/plain": [
       "        category                                               text\n",
       "0           tech  tv future in the hands of viewers with home th...\n",
       "1       business  worldcom boss  left books alone  former worldc...\n",
       "2          sport  tigers wary of farrell  gamble  leicester say ...\n",
       "3          sport  yeading face newcastle in fa cup premiership s...\n",
       "4  entertainment  ocean s twelve raids box office ocean s twelve..."
      ]
     },
     "execution_count": 2,
     "metadata": {},
     "output_type": "execute_result"
    }
   ],
   "source": [
    "df = pd.read_csv('data/bbc-text.csv')\n",
    "df.head()"
   ]
  },
  {
   "cell_type": "code",
   "execution_count": 3,
   "id": "0026514e-749f-4858-8883-7681f5f0f823",
   "metadata": {},
   "outputs": [
    {
     "name": "stderr",
     "output_type": "stream",
     "text": [
      "/Users/lilakelland/opt/anaconda3/envs/bootcamp_env/lib/python3.8/site-packages/ipykernel/ipkernel.py:287: DeprecationWarning: `should_run_async` will not call `transform_cell` automatically in the future. Please pass the result to `transformed_cell` argument and any exception that happen during thetransform in `preprocessing_exc_tuple` in IPython 7.17 and above.\n",
      "  and should_run_async(code)\n",
      "<>:10: DeprecationWarning: invalid escape sequence \\s\n",
      "<>:10: DeprecationWarning: invalid escape sequence \\s\n",
      "<ipython-input-3-c2866e16f0d7>:10: DeprecationWarning: invalid escape sequence \\s\n",
      "  data = [re.sub('\\s+', ' ',i) for i in data]\n"
     ]
    }
   ],
   "source": [
    "# preprocessing data\n",
    "# remove emails, newline characters, stop words tokenization\n",
    "\n",
    "data = df.text.values.tolist()\n",
    "\n",
    "# remove emails\n",
    "data = [re.sub(r'\\S*@\\S*\\s?', \"\",i)for i in data]\n",
    "\n",
    "# remove new line characters\n",
    "data = [re.sub('\\s+', ' ',i) for i in data]\n",
    "\n",
    "# remove distracting single quotes\n",
    "data = [re.sub(\"\\'\", \"\", i) for i in data]"
   ]
  },
  {
   "cell_type": "code",
   "execution_count": 4,
   "id": "a37b06d7-a88e-4e3e-8ae9-80137cbe340e",
   "metadata": {},
   "outputs": [
    {
     "name": "stderr",
     "output_type": "stream",
     "text": [
      "/Users/lilakelland/opt/anaconda3/envs/bootcamp_env/lib/python3.8/site-packages/ipykernel/ipkernel.py:287: DeprecationWarning: `should_run_async` will not call `transform_cell` automatically in the future. Please pass the result to `transformed_cell` argument and any exception that happen during thetransform in `preprocessing_exc_tuple` in IPython 7.17 and above.\n",
      "  and should_run_async(code)\n"
     ]
    }
   ],
   "source": [
    "# data\n"
   ]
  },
  {
   "cell_type": "code",
   "execution_count": 5,
   "id": "0f8930ab-ccc9-41c1-b6cd-22f5adec19fc",
   "metadata": {},
   "outputs": [
    {
     "name": "stderr",
     "output_type": "stream",
     "text": [
      "/Users/lilakelland/opt/anaconda3/envs/bootcamp_env/lib/python3.8/site-packages/ipykernel/ipkernel.py:287: DeprecationWarning: `should_run_async` will not call `transform_cell` automatically in the future. Please pass the result to `transformed_cell` argument and any exception that happen during thetransform in `preprocessing_exc_tuple` in IPython 7.17 and above.\n",
      "  and should_run_async(code)\n"
     ]
    },
    {
     "name": "stdout",
     "output_type": "stream",
     "text": [
      "[['tv', 'future', 'in', 'the', 'hands', 'of', 'viewers', 'with', 'home', 'theatre', 'systems', 'plasma', 'high', 'definition', 'tvs', 'and', 'digital', 'video', 'recorders', 'moving', 'into', 'the', 'living', 'room', 'the', 'way', 'people', 'watch', 'tv', 'will', 'be', 'radically', 'different', 'in', 'five', 'years', 'time', 'that', 'is', 'according', 'to', 'an', 'expert', 'panel', 'which', 'gathered', 'at', 'the', 'annual', 'consumer', 'electronics', 'show', 'in', 'las', 'vegas', 'to', 'discuss', 'how', 'these', 'new', 'technologies', 'will', 'impact', 'one', 'of', 'our', 'favourite', 'pastimes', 'with', 'the', 'us', 'leading', 'the', 'trend', 'programmes', 'and', 'other', 'content', 'will', 'be', 'delivered', 'to', 'viewers', 'via', 'home', 'networks', 'through', 'cable', 'satellite', 'telecoms', 'companies', 'and', 'broadband', 'service', 'providers', 'to', 'front', 'rooms', 'and', 'portable', 'devices', 'one', 'of', 'the', 'most', 'talked', 'about', 'technologies', 'of', 'ces', 'has', 'been', 'digital', 'and', 'personal', 'video', 'recorders', 'dvr', 'and', 'pvr', 'these', 'set', 'top', 'boxes', 'like', 'the', 'us', 'tivo', 'and', 'the', 'uk', 'sky', 'system', 'allow', 'people', 'to', 'record', 'store', 'play', 'pause', 'and', 'forward', 'wind', 'tv', 'programmes', 'when', 'they', 'want', 'essentially', 'the', 'technology', 'allows', 'for', 'much', 'more', 'personalised', 'tv', 'they', 'are', 'also', 'being', 'built', 'in', 'to', 'high', 'definition', 'tv', 'sets', 'which', 'are', 'big', 'business', 'in', 'japan', 'and', 'the', 'us', 'but', 'slower', 'to', 'take', 'off', 'in', 'europe', 'because', 'of', 'the', 'lack', 'of', 'high', 'definition', 'programming', 'not', 'only', 'can', 'people', 'forward', 'wind', 'through', 'adverts', 'they', 'can', 'also', 'forget', 'about', 'abiding', 'by', 'network', 'and', 'channel', 'schedules', 'putting', 'together', 'their', 'own', 'la', 'carte', 'entertainment', 'but', 'some', 'us', 'networks', 'and', 'cable', 'and', 'satellite', 'companies', 'are', 'worried', 'about', 'what', 'it', 'means', 'for', 'them', 'in', 'terms', 'of', 'advertising', 'revenues', 'as', 'well', 'as', 'brand', 'identity', 'and', 'viewer', 'loyalty', 'to', 'channels', 'although', 'the', 'us', 'leads', 'in', 'this', 'technology', 'at', 'the', 'moment', 'it', 'is', 'also', 'concern', 'that', 'is', 'being', 'raised', 'in', 'europe', 'particularly', 'with', 'the', 'growing', 'uptake', 'of', 'services', 'like', 'sky', 'what', 'happens', 'here', 'today', 'we', 'will', 'see', 'in', 'nine', 'months', 'to', 'years', 'time', 'in', 'the', 'uk', 'adam', 'hume', 'the', 'bbc', 'broadcast', 'futurologist', 'told', 'the', 'bbc', 'news', 'website', 'for', 'the', 'likes', 'of', 'the', 'bbc', 'there', 'are', 'no', 'issues', 'of', 'lost', 'advertising', 'revenue', 'yet', 'it', 'is', 'more', 'pressing', 'issue', 'at', 'the', 'moment', 'for', 'commercial', 'uk', 'broadcasters', 'but', 'brand', 'loyalty', 'is', 'important', 'for', 'everyone', 'we', 'will', 'be', 'talking', 'more', 'about', 'content', 'brands', 'rather', 'than', 'network', 'brands', 'said', 'tim', 'hanlon', 'from', 'brand', 'communications', 'firm', 'starcom', 'mediavest', 'the', 'reality', 'is', 'that', 'with', 'broadband', 'connections', 'anybody', 'can', 'be', 'the', 'producer', 'of', 'content', 'he', 'added', 'the', 'challenge', 'now', 'is', 'that', 'it', 'is', 'hard', 'to', 'promote', 'programme', 'with', 'so', 'much', 'choice', 'what', 'this', 'means', 'said', 'stacey', 'jolna', 'senior', 'vice', 'president', 'of', 'tv', 'guide', 'tv', 'group', 'is', 'that', 'the', 'way', 'people', 'find', 'the', 'content', 'they', 'want', 'to', 'watch', 'has', 'to', 'be', 'simplified', 'for', 'tv', 'viewers', 'it', 'means', 'that', 'networks', 'in', 'us', 'terms', 'or', 'channels', 'could', 'take', 'leaf', 'out', 'of', 'google', 'book', 'and', 'be', 'the', 'search', 'engine', 'of', 'the', 'future', 'instead', 'of', 'the', 'scheduler', 'to', 'help', 'people', 'find', 'what', 'they', 'want', 'to', 'watch', 'this', 'kind', 'of', 'channel', 'model', 'might', 'work', 'for', 'the', 'younger', 'ipod', 'generation', 'which', 'is', 'used', 'to', 'taking', 'control', 'of', 'their', 'gadgets', 'and', 'what', 'they', 'play', 'on', 'them', 'but', 'it', 'might', 'not', 'suit', 'everyone', 'the', 'panel', 'recognised', 'older', 'generations', 'are', 'more', 'comfortable', 'with', 'familiar', 'schedules', 'and', 'channel', 'brands', 'because', 'they', 'know', 'what', 'they', 'are', 'getting', 'they', 'perhaps', 'do', 'not', 'want', 'so', 'much', 'of', 'the', 'choice', 'put', 'into', 'their', 'hands', 'mr', 'hanlon', 'suggested', 'on', 'the', 'other', 'end', 'you', 'have', 'the', 'kids', 'just', 'out', 'of', 'diapers', 'who', 'are', 'pushing', 'buttons', 'already', 'everything', 'is', 'possible', 'and', 'available', 'to', 'them', 'said', 'mr', 'hanlon', 'ultimately', 'the', 'consumer', 'will', 'tell', 'the', 'market', 'they', 'want', 'of', 'the', 'new', 'gadgets', 'and', 'technologies', 'being', 'showcased', 'at', 'ces', 'many', 'of', 'them', 'are', 'about', 'enhancing', 'the', 'tv', 'watching', 'experience', 'high', 'definition', 'tv', 'sets', 'are', 'everywhere', 'and', 'many', 'new', 'models', 'of', 'lcd', 'liquid', 'crystal', 'display', 'tvs', 'have', 'been', 'launched', 'with', 'dvr', 'capability', 'built', 'into', 'them', 'instead', 'of', 'being', 'external', 'boxes', 'one', 'such', 'example', 'launched', 'at', 'the', 'show', 'is', 'humax', 'inch', 'lcd', 'tv', 'with', 'an', 'hour', 'tivo', 'dvr', 'and', 'dvd', 'recorder', 'one', 'of', 'the', 'us', 'biggest', 'satellite', 'tv', 'companies', 'directtv', 'has', 'even', 'launched', 'its', 'own', 'branded', 'dvr', 'at', 'the', 'show', 'with', 'hours', 'of', 'recording', 'capability', 'instant', 'replay', 'and', 'search', 'function', 'the', 'set', 'can', 'pause', 'and', 'rewind', 'tv', 'for', 'up', 'to', 'hours', 'and', 'microsoft', 'chief', 'bill', 'gates', 'announced', 'in', 'his', 'pre', 'show', 'keynote', 'speech', 'partnership', 'with', 'tivo', 'called', 'tivotogo', 'which', 'means', 'people', 'can', 'play', 'recorded', 'programmes', 'on', 'windows', 'pcs', 'and', 'mobile', 'devices', 'all', 'these', 'reflect', 'the', 'increasing', 'trend', 'of', 'freeing', 'up', 'multimedia', 'so', 'that', 'people', 'can', 'watch', 'what', 'they', 'want', 'when', 'they', 'want']]\n"
     ]
    }
   ],
   "source": [
    "# need to break up and tokenize into words!\n",
    "\n",
    "def sent_to_words(sentences):\n",
    "    for sentence in sentences:\n",
    "        yield(gensim.utils.simple_preprocess(str(sentence), deacc=True))\n",
    "        \n",
    "data_words = list(sent_to_words(data))\n",
    "\n",
    "print(data_words[:1])"
   ]
  },
  {
   "cell_type": "markdown",
   "id": "acb02d37-d2b3-4dcb-8b93-7ee7c5407645",
   "metadata": {},
   "source": [
    "### Remove Stopwords and Lemmatize Tokens:"
   ]
  },
  {
   "cell_type": "code",
   "execution_count": 6,
   "id": "7fce5b4b-d85c-4cc7-961b-02d4ef815273",
   "metadata": {},
   "outputs": [
    {
     "name": "stderr",
     "output_type": "stream",
     "text": [
      "/Users/lilakelland/opt/anaconda3/envs/bootcamp_env/lib/python3.8/site-packages/ipykernel/ipkernel.py:287: DeprecationWarning: `should_run_async` will not call `transform_cell` automatically in the future. Please pass the result to `transformed_cell` argument and any exception that happen during thetransform in `preprocessing_exc_tuple` in IPython 7.17 and above.\n",
      "  and should_run_async(code)\n"
     ]
    }
   ],
   "source": [
    "#NLTK Stop works\n",
    "from nltk.corpus import stopwords\n",
    "stop_words = stopwords.words(\"english\")\n",
    "\n",
    "def remove_stopwords(texts):\n",
    "    return[[word for word in simple_preprocess(str(doc)) if word not in stop_words] for doc in texts]\n",
    "\n",
    "# Spacy Lematization\n",
    "import spacy\n",
    "import en_core_web_sm\n",
    "nlp = en_core_web_sm.load()\n",
    "\n",
    "def lemmatization(texts, allowed_postags=['NOUN']):\n",
    "    texts_out =[]\n",
    "    for sent in texts:\n",
    "        doc = nlp(\" \".join(sent))\n",
    "        texts_out.append([token.lemma_ for token in doc if token.pos_ in allowed_postags])\n",
    "    return texts_out"
   ]
  },
  {
   "cell_type": "code",
   "execution_count": 7,
   "id": "314fe194-ecad-40f9-836d-abe88b6f0522",
   "metadata": {},
   "outputs": [
    {
     "name": "stderr",
     "output_type": "stream",
     "text": [
      "/Users/lilakelland/opt/anaconda3/envs/bootcamp_env/lib/python3.8/site-packages/ipykernel/ipkernel.py:287: DeprecationWarning: `should_run_async` will not call `transform_cell` automatically in the future. Please pass the result to `transformed_cell` argument and any exception that happen during thetransform in `preprocessing_exc_tuple` in IPython 7.17 and above.\n",
      "  and should_run_async(code)\n"
     ]
    }
   ],
   "source": [
    "# remove stop words\n",
    "data_words_nostops = remove_stopwords(data_words)\n",
    "\n",
    "# do lemmatization keeping only noun\n",
    "data_lemmatized = lemmatization(data_words_nostops, allowed_postags=[\"NOUN\"])"
   ]
  },
  {
   "cell_type": "code",
   "execution_count": 8,
   "id": "10d93220-71c9-49e9-b79e-3904b9476fd7",
   "metadata": {},
   "outputs": [
    {
     "name": "stdout",
     "output_type": "stream",
     "text": [
      "[['hand', 'viewer', 'home', 'theatre', 'system', 'definition', 'tvs', 'video', 'recorder', 'living', 'room', 'way', 'people', 'tv', 'year', 'time', 'panel', 'consumer', 'electronic', 'show', 'vegas', 'technology', 'trend', 'programme', 'content', 'viewer', 'home', 'network', 'cable', 'satellite', 'telecom', 'company', 'service', 'provider', 'room', 'device', 'technology', 'video', 'recorder', 'pvr', 'box', 'sky', 'system', 'people', 'record', 'store', 'pause', 'wind', 'tv', 'programme', 'technology', 'tv', 'definition', 'tv', 'business', 'japan', 'europe', 'definition', 'programming', 'people', 'wind', 'advert', 'network', 'channel', 'schedule', 'carte', 'entertainment', 'cable', 'satellite', 'company', 'term', 'advertising', 'revenue', 'brand', 'identity', 'viewer', 'loyalty', 'channel', 'technology', 'moment', 'concern', 'europe', 'uptake', 'service', 'sky', 'today', 'month', 'year', 'time', 'adam', 'bbc', 'broadcast', 'futurologist', 'news', 'website', 'issue', 'advertising', 'revenue', 'issue', 'moment', 'broadcaster', 'brand', 'loyalty', 'content', 'brand', 'network', 'brand', 'tim', 'hanlon', 'brand', 'communication', 'firm', 'reality', 'broadband', 'connection', 'producer', 'content', 'challenge', 'promote', 'programme', 'choice', 'stacey', 'vice', 'president', 'tv', 'guide', 'tv', 'group', 'way', 'people', 'content', 'watch', 'tv', 'viewer', 'network', 'term', 'channel', 'leaf', 'book', 'search', 'engine', 'future', 'help', 'people', 'watch', 'kind', 'channel', 'model', 'generation', 'control', 'gadget', 'play', 'panel', 'generation', 'schedule', 'channel', 'brand', 'choice', 'hand', 'mr', 'hanlon', 'end', 'kid', 'diaper', 'button', 'hanlon', 'consumer', 'tell', 'market', 'gadget', 'technology', 'ce', 'tv', 'watching', 'experience', 'definition', 'tv', 'set', 'model', 'liquid', 'crystal', 'display', 'tvs', 'capability', 'box', 'example', 'show', 'humax', 'inch', 'tv', 'hour', 'tivo', 'dvr', 'dvd', 'recorder', 'satellite', 'tv', 'company', 'directtv', 'dvr', 'show', 'hour', 'recording', 'capability', 'instant', 'replay', 'search', 'function', 'pause', 'rewind', 'tv', 'hour', 'bill', 'gate', 'speech', 'partnership', 'tivo', 'tivotogo', 'people', 'programme', 'mobile', 'device', 'trend', 'freeing', 'multimedia', 'people'], ['worldcom', 'boss', 'book', 'boss', 'bernie', 'ebber', 'fraud', 'accounting', 'decision', 'witness', 'juror', 'myer', 'comment', 'defence', 'lawyer', 'mr', 'worldcom', 'problem', 'phone', 'company', 'prosecutor', 'loss', 'firm', 'share', 'myer', 'fraud', 'prosecutor', 'monday', 'defence', 'lawyer', 'reid', 'distance', 'client', 'allegation', 'examination', 'myer', 'mr', 'ebber', 'accounting', 'decision', 'mr', 'myer', 'mr', 'ebber', 'accounting', 'entry', 'worldcom', 'book', 'witness', 'myer', 'accounting', 'entry', 'worldcom', 'officer', 'scott', 'sullivan', 'defence', 'lawyer', 'paint', 'sullivan', 'fraud', 'trial', 'mastermind', 'worldcom', 'accounting', 'house', 'card', 'ebber', 'team', 'portray', 'boss', 'admission', 'graduate', 'economist', 'ability', 'ebber', 'worldcom', 'bn', 'telecom', 'investor', 'darling', 'worldcom', 'problem', 'competition', 'telecom', 'boom', 'firm', 'shareholder', 'worker', 'job', 'ebber', 'trial', 'month', 'ceo', 'jail', 'sentence', 'innocence']]\n"
     ]
    },
    {
     "name": "stderr",
     "output_type": "stream",
     "text": [
      "/Users/lilakelland/opt/anaconda3/envs/bootcamp_env/lib/python3.8/site-packages/ipykernel/ipkernel.py:287: DeprecationWarning: `should_run_async` will not call `transform_cell` automatically in the future. Please pass the result to `transformed_cell` argument and any exception that happen during thetransform in `preprocessing_exc_tuple` in IPython 7.17 and above.\n",
      "  and should_run_async(code)\n"
     ]
    }
   ],
   "source": [
    "print(data_lemmatized[:2])"
   ]
  },
  {
   "cell_type": "markdown",
   "id": "a54013c4-d4ed-46f0-84cf-7dc4e6938d0d",
   "metadata": {},
   "source": [
    "### 5. LDA model- Latent Dirichlet Allocation:\n",
    "\n",
    "We are ready to apply LDA for our topic model exercise. Lets understand LDA in detail:\n",
    "\n",
    "Latent Dirichlet Allocation (LDA) is an unsupervised Generative probabilistic machine learning technique used for extracting:\n",
    "\n",
    "* number of topics in data(corpus)\n",
    "* distribution of topics in each text(document)\n",
    "* distribution of words(terms) in each topic\n",
    "\n",
    "A topic is defined as a repeating pattern of co-occurring terms in a corpus.\n",
    "\n",
    "The two main inputs to the LDA topic model are the dictionary and the corpus.\n",
    "\n",
    "* Dictionary: Unique ids for each unique word\n",
    "Eg:{‘able’: 0, ‘add’: 1, ‘sun’: 2, ‘great: 3, ‘away’: 4, ‘allow’: 5}\n",
    "\n",
    "* Corpus: For each document number of times a particular word appeared(Document Term Matrix)\n",
    "\n",
    "#### LDA Input:\n",
    "\n",
    "1. M no. of documents\n",
    "\n",
    "2. Each of these documents have N no. of words\n",
    "\n",
    "3. Hyperparameters- alpha and beta\n",
    "\n",
    "4. All of which needs to pass through LDA\n",
    "\n",
    "#### LDA Output:\n",
    "\n",
    "K no. of topics (cluster of words)\n",
    "Document to topic distribution and Topic-term distribution\n",
    "\n",
    "K: Number of topics\n",
    "\n",
    "N: Number of words in the document\n",
    "\n",
    "M: Number of documents to analyze\n",
    "\n",
    "α : Per-document topic distribution\n",
    "\n",
    "High α means every document is likely to contain a mixture of most of the topics and not just any single topic specifically.\n",
    "\n",
    "Low α means A document is more likely to be represented by just few of the topic.\n",
    "\n",
    "β : Per topic word distribution\n",
    "\n",
    "High β means each topic is likely to contain a mixture of most of the words not just any word specifically.\n",
    "\n",
    "Low β means topic may contain a mixture of just a few of words."
   ]
  },
  {
   "cell_type": "markdown",
   "id": "6361fcbd-6ea7-4640-98c0-8e32bffc62df",
   "metadata": {},
   "source": [
    "Step1: It assigns a random topic to each word.\n",
    "\n",
    "Step2: It iterates to each word ‘w’ for each document and tries to adjust current topic-word assignment with a new assignment. A new topic ‘k’ is being assigned to the word ‘w’ with probability ‘P’ which is product of 2 probabilities; P1 and P2. So for every topic assigned to a word, there are 2 probabilities calculated.\n",
    "\n",
    "Step3: p1=proportion of (topic ‘t’/document ‘d’) i.e proportion of words in document ‘d’ that are currently assigned to topic ‘t’.\n",
    "\n",
    "p2= proportion of (word ‘w’/topic ‘t’) i.e proportion of assignments to topic ‘t’ that come from word ‘w’ across all docs.\n",
    "\n",
    "LDA computes p1*p2, based upon which it finds optimal topic ‘k’ for each word ‘w’.\n",
    "\n",
    "Step4: This is being repeated many times until a steady stage is achieved where doc topic and topic term distributions are fairly good. This is where LDA converges.\n",
    "\n",
    "Note: LDA takes the assumption that all existing topic term distributions are correct except the current term/word. So it tries to update the term-topic assignment with a new topic having probability p1*p2."
   ]
  },
  {
   "cell_type": "code",
   "execution_count": 9,
   "id": "255e6bca-d7a1-4428-bbe5-de1149fa9837",
   "metadata": {},
   "outputs": [
    {
     "name": "stderr",
     "output_type": "stream",
     "text": [
      "/Users/lilakelland/opt/anaconda3/envs/bootcamp_env/lib/python3.8/site-packages/ipykernel/ipkernel.py:287: DeprecationWarning: `should_run_async` will not call `transform_cell` automatically in the future. Please pass the result to `transformed_cell` argument and any exception that happen during thetransform in `preprocessing_exc_tuple` in IPython 7.17 and above.\n",
      "  and should_run_async(code)\n"
     ]
    },
    {
     "name": "stdout",
     "output_type": "stream",
     "text": [
      "Dictionary(15662 unique tokens: ['adam', 'advert', 'advertising', 'bbc', 'bill']...)\n"
     ]
    }
   ],
   "source": [
    "# Create Dictionary\n",
    "id2word = corpora.Dictionary(data_lemmatized)\n",
    "print(id2word)\n",
    "\n",
    "# create corpus\n",
    "texts = data_lemmatized\n",
    "\n",
    "# Term Document frequency\n",
    "corpus = [id2word.doc2bow(text) for text in texts]"
   ]
  },
  {
   "cell_type": "markdown",
   "id": "a854c377-01c0-42c5-a83b-6daaa51e858a",
   "metadata": {},
   "source": [
    "## Create a base model \n",
    "and choose k\n",
    "\n",
    "Apart from that, alpha and eta are hyperparameters that affect the sparsity of the topics. Chunk size is the number of documents to be used in each training chunk. Controls how many documents are processed at a time in the training algorithm. Increasing chunk size will speed up training.\n",
    "\n",
    "update_every determines how often the model parameters should be updated and passes essentially controls how often we repeat a particular loop over each document."
   ]
  },
  {
   "cell_type": "code",
   "execution_count": 10,
   "id": "13cc75b1-3ecc-4436-827a-5287a6e1d33a",
   "metadata": {},
   "outputs": [
    {
     "name": "stderr",
     "output_type": "stream",
     "text": [
      "/Users/lilakelland/opt/anaconda3/envs/bootcamp_env/lib/python3.8/site-packages/ipykernel/ipkernel.py:287: DeprecationWarning: `should_run_async` will not call `transform_cell` automatically in the future. Please pass the result to `transformed_cell` argument and any exception that happen during thetransform in `preprocessing_exc_tuple` in IPython 7.17 and above.\n",
      "  and should_run_async(code)\n"
     ]
    }
   ],
   "source": [
    "# baseline model\n",
    "\n",
    "lda_model = gensim.models.ldamodel.LdaModel(corpus=corpus, \n",
    "                                            id2word=id2word,\n",
    "                                            num_topics=5,\n",
    "                                            random_state=100,\n",
    "                                            chunksize=200,\n",
    "                                            passes=10,\n",
    "                                            per_word_topics=True)"
   ]
  },
  {
   "cell_type": "markdown",
   "id": "38964c3b-f5de-481f-b99b-a502e939d357",
   "metadata": {},
   "source": [
    "We created 5 topics. You can see the keywords for each topic and the weightage(importance) of each keyword using lda_model.print_topics() as shown below"
   ]
  },
  {
   "cell_type": "code",
   "execution_count": 13,
   "id": "05da6e10-6c4b-4510-8014-e324a7a5fec0",
   "metadata": {},
   "outputs": [
    {
     "name": "stderr",
     "output_type": "stream",
     "text": [
      "/Users/lilakelland/opt/anaconda3/envs/bootcamp_env/lib/python3.8/site-packages/ipykernel/ipkernel.py:287: DeprecationWarning: `should_run_async` will not call `transform_cell` automatically in the future. Please pass the result to `transformed_cell` argument and any exception that happen during thetransform in `preprocessing_exc_tuple` in IPython 7.17 and above.\n",
      "  and should_run_async(code)\n"
     ]
    },
    {
     "data": {
      "text/plain": [
       "[(0,\n",
       "  '0.020*\"people\" + 0.018*\"music\" + 0.017*\"game\" + 0.015*\"phone\" + 0.014*\"technology\" + 0.011*\"network\" + 0.010*\"tv\" + 0.009*\"service\" + 0.007*\"video\" + 0.007*\"time\"'),\n",
       " (1,\n",
       "  '0.038*\"film\" + 0.016*\"award\" + 0.014*\"year\" + 0.011*\"star\" + 0.010*\"cinema\" + 0.008*\"tv\" + 0.008*\"director\" + 0.007*\"dance\" + 0.007*\"number\" + 0.007*\"chart\"'),\n",
       " (2,\n",
       "  '0.028*\"mr\" + 0.014*\"government\" + 0.013*\"party\" + 0.012*\"people\" + 0.010*\"blair\" + 0.009*\"minister\" + 0.009*\"election\" + 0.007*\"year\" + 0.007*\"labour\" + 0.006*\"plan\"'),\n",
       " (3,\n",
       "  '0.016*\"year\" + 0.014*\"sale\" + 0.012*\"company\" + 0.012*\"firm\" + 0.009*\"attack\" + 0.007*\"market\" + 0.007*\"site\" + 0.007*\"price\" + 0.007*\"month\" + 0.006*\"bank\"'),\n",
       " (4,\n",
       "  '0.015*\"game\" + 0.013*\"year\" + 0.012*\"player\" + 0.012*\"time\" + 0.009*\"team\" + 0.008*\"world\" + 0.008*\"england\" + 0.008*\"club\" + 0.007*\"side\" + 0.007*\"match\"')]"
      ]
     },
     "execution_count": 13,
     "metadata": {},
     "output_type": "execute_result"
    }
   ],
   "source": [
    "import pprint\n",
    "pprint(lda_model.print_topics())\n",
    "doc_lda = lda_model[corpus]"
   ]
  },
  {
   "cell_type": "markdown",
   "id": "a45134ed-ddd9-4144-8242-24a0adbc5ff8",
   "metadata": {},
   "source": [
    "#### 7.How good a given topic is - Topic Coherence "
   ]
  },
  {
   "cell_type": "code",
   "execution_count": 16,
   "id": "423d8852-34a7-48a4-9537-21294a97f851",
   "metadata": {},
   "outputs": [
    {
     "name": "stderr",
     "output_type": "stream",
     "text": [
      "/Users/lilakelland/opt/anaconda3/envs/bootcamp_env/lib/python3.8/site-packages/ipykernel/ipkernel.py:287: DeprecationWarning: `should_run_async` will not call `transform_cell` automatically in the future. Please pass the result to `transformed_cell` argument and any exception that happen during thetransform in `preprocessing_exc_tuple` in IPython 7.17 and above.\n",
      "  and should_run_async(code)\n"
     ]
    },
    {
     "name": "stdout",
     "output_type": "stream",
     "text": [
      "\n",
      "Coherence Score:  0.5321836458699624\n"
     ]
    }
   ],
   "source": [
    "coherence_model_lda = CoherenceModel(model=lda_model,\n",
    "                                     texts=data_lemmatized, dictionary=id2word, coherence='c_v')\n",
    "coherence_lda = coherence_model_lda.get_coherence()\n",
    "print('\\nCoherence Score: ', coherence_lda)"
   ]
  },
  {
   "cell_type": "markdown",
   "id": "2fc5d4ad-afc1-47d9-bd47-a0c23f1c3513",
   "metadata": {},
   "source": [
    "Topic coherence measures the average similarity between top words having the highest weights in a topic i.e relative distance between the top words.\n",
    "\n",
    "Let's see if we can improve the coherence further."
   ]
  },
  {
   "cell_type": "markdown",
   "id": "89fece01-c9eb-474a-8f21-739b5bbc52f8",
   "metadata": {},
   "source": [
    "#### 8. Model improvement\n",
    "\n",
    "How to find the optimal number of topics for LDA?\n",
    "\n",
    "The approach to finding the optimal number of topics is to build many LDA models with different values of a number of topics (k) and pick the one that gives the highest coherence value. Choosing a ‘k’ that marks the end of the rapid growth of topic coherence usually offers meaningful and interpretable topics. Picking an even higher value can sometimes provide more granular sub-topics. If you see the same keywords being repeated in multiple topics, it’s probably a sign that the ‘k’ is too large."
   ]
  },
  {
   "cell_type": "code",
   "execution_count": 17,
   "id": "a508770a-5678-4a13-8604-f2aaed34c07c",
   "metadata": {},
   "outputs": [
    {
     "name": "stderr",
     "output_type": "stream",
     "text": [
      "/Users/lilakelland/opt/anaconda3/envs/bootcamp_env/lib/python3.8/site-packages/ipykernel/ipkernel.py:287: DeprecationWarning: `should_run_async` will not call `transform_cell` automatically in the future. Please pass the result to `transformed_cell` argument and any exception that happen during thetransform in `preprocessing_exc_tuple` in IPython 7.17 and above.\n",
      "  and should_run_async(code)\n"
     ]
    }
   ],
   "source": [
    "def compute_coherence_values(dictionary, corpus, texts, limit, start=2, step=1):\n",
    "    \"\"\" compute c_v coherence for varius numener of topics using gensim dic and corpus, limit = \n",
    "    max number of topics - returns model list - list of lda topic models and corresponding \n",
    "    coherence values \"\"\"\n",
    "    coherence_values = []\n",
    "    model_list=[]\n",
    "    for num_topics in range(start, limit, step):\n",
    "        model = gensim.models.ldamodel.LdaModel(corpus=corpus, num_topics=num_topics,\n",
    "                                                random_state=100,\n",
    "                                                chunksize=200,\n",
    "                                                passes=10,\n",
    "                                                per_word_topics=True,\n",
    "                                                id2word=id2word)\n",
    "        model_list.append(model)\n",
    "        coherencemodel=CoherenceModel(model=model, texts=texts,\n",
    "                                      dictionary=dictionary, \n",
    "                                      coherence='c_v')\n",
    "        coherence_values.append(coherencemodel.get_coherence())\n",
    "    return model_list, coherence_values"
   ]
  },
  {
   "cell_type": "code",
   "execution_count": 18,
   "id": "6b6f0e1b-ec12-4d07-a7ae-c515632fad52",
   "metadata": {},
   "outputs": [
    {
     "name": "stderr",
     "output_type": "stream",
     "text": [
      "/Users/lilakelland/opt/anaconda3/envs/bootcamp_env/lib/python3.8/site-packages/ipykernel/ipkernel.py:287: DeprecationWarning: `should_run_async` will not call `transform_cell` automatically in the future. Please pass the result to `transformed_cell` argument and any exception that happen during thetransform in `preprocessing_exc_tuple` in IPython 7.17 and above.\n",
      "  and should_run_async(code)\n"
     ]
    }
   ],
   "source": [
    "model_list, coherence_values = compute_coherence_values(dictionary=id2word, corpus=corpus, \n",
    "                                                        texts=data_lemmatized,\n",
    "                                                        start=2,\n",
    "                                                        limit=8,\n",
    "                                                        step=1)"
   ]
  },
  {
   "cell_type": "code",
   "execution_count": 19,
   "id": "4641df59-3d9b-4bc7-8c13-029e2d6a7d19",
   "metadata": {},
   "outputs": [
    {
     "name": "stderr",
     "output_type": "stream",
     "text": [
      "/Users/lilakelland/opt/anaconda3/envs/bootcamp_env/lib/python3.8/site-packages/ipykernel/ipkernel.py:287: DeprecationWarning: `should_run_async` will not call `transform_cell` automatically in the future. Please pass the result to `transformed_cell` argument and any exception that happen during thetransform in `preprocessing_exc_tuple` in IPython 7.17 and above.\n",
      "  and should_run_async(code)\n"
     ]
    },
    {
     "data": {
      "image/png": "[encoded data removed]",
      "text/plain": [
       "<Figure size 432x288 with 1 Axes>"
      ]
     },
     "metadata": {
      "needs_background": "light"
     },
     "output_type": "display_data"
    }
   ],
   "source": [
    "# show plot\n",
    "limit=8; start=2; step=1;\n",
    "x=range(start, limit, step)\n",
    "plt.plot(x, coherence_values)\n",
    "plt.xlabel(\"Num Topics\")\n",
    "plt.ylabel(\"Coherence score\")\n",
    "plt.legend((\"coherence_values\"), loc=\"best\")\n",
    "plt.show()"
   ]
  },
  {
   "cell_type": "code",
   "execution_count": 21,
   "id": "5689afc5-d98d-4e99-9662-44cee5dd2968",
   "metadata": {},
   "outputs": [
    {
     "name": "stdout",
     "output_type": "stream",
     "text": [
      "Num Topics= 2  has Coherence Value of 0.2601\n",
      "Num Topics= 3  has Coherence Value of 0.4692\n",
      "Num Topics= 4  has Coherence Value of 0.537\n",
      "Num Topics= 5  has Coherence Value of 0.5322\n",
      "Num Topics= 6  has Coherence Value of 0.5358\n",
      "Num Topics= 7  has Coherence Value of 0.5146\n"
     ]
    },
    {
     "name": "stderr",
     "output_type": "stream",
     "text": [
      "/Users/lilakelland/opt/anaconda3/envs/bootcamp_env/lib/python3.8/site-packages/ipykernel/ipkernel.py:287: DeprecationWarning: `should_run_async` will not call `transform_cell` automatically in the future. Please pass the result to `transformed_cell` argument and any exception that happen during thetransform in `preprocessing_exc_tuple` in IPython 7.17 and above.\n",
      "  and should_run_async(code)\n"
     ]
    }
   ],
   "source": [
    "# Print the coherence scores\n",
    "for m, cv in zip(x, coherence_values):\n",
    "    print(\"Num Topics=\", m ,\" has Coherence Value of\", round(cv,4))"
   ]
  },
  {
   "cell_type": "markdown",
   "id": "fbedfc08-4432-49b5-b74b-b972027c2bb0",
   "metadata": {},
   "source": [
    "Have you seen the Magic above? (Note mine looks different than web reference)\n",
    "\n",
    "In this problem, we already knew that the dataset had 5 sets of articles. So we started with taking no. of topics in the base model as 5 and got topic coherence as 0.49. When we tried to create multiple LDA models for different values of ‘k’ above, we are again getting 5 as the best no. of topics to get the maximum topic coherence before the curve starts decreasing. :)\n",
    "\n",
    "#### Other hyperparameters:\n",
    "\n",
    "1. Hyperparameter alpha: Document-Topic Density\n",
    "2. Hyperparameter beta: Word-Topic Density\n",
    "\n",
    "High α means every document is likely to contain a mixture of most of the topics and not just any single topic specifically.\n",
    "\n",
    "Low α means A document is more likely to be represented by just a few of the topics.\n",
    "\n",
    "β : Per topic word distribution\n",
    "\n",
    "High β means each topic is likely to contain a mixture of most of the words not just any word specifically.\n",
    "\n",
    "Low β means the topic may contain a mixture of just a few words."
   ]
  },
  {
   "cell_type": "code",
   "execution_count": 22,
   "id": "236912a3-0ec5-4807-a043-fe624f572fbe",
   "metadata": {},
   "outputs": [
    {
     "name": "stderr",
     "output_type": "stream",
     "text": [
      "/Users/lilakelland/opt/anaconda3/envs/bootcamp_env/lib/python3.8/site-packages/ipykernel/ipkernel.py:287: DeprecationWarning: `should_run_async` will not call `transform_cell` automatically in the future. Please pass the result to `transformed_cell` argument and any exception that happen during thetransform in `preprocessing_exc_tuple` in IPython 7.17 and above.\n",
      "  and should_run_async(code)\n"
     ]
    }
   ],
   "source": [
    "def compute_coherence_values(corpus, dictionary, k, a, b):\n",
    "    model = gensim.models.ldamodel.LdaModel(corpus=corpus, \n",
    "                                            num_topics=5,\n",
    "                                            random_state=100,\n",
    "                                            chunksize=200,\n",
    "                                            passes=10,\n",
    "                                            alpha=a,\n",
    "                                            eta=b,\n",
    "                                            per_word_topics=True,\n",
    "                                            id2word=id2word)\n",
    "    \n",
    "    coherence_model_lda = CoherenceModel(model=lda_model, texts=data_lemmatized, \n",
    "                                         dictionary=id2word, coherence='c_v')\n",
    "    return coherence_model_lda.get_coherence()"
   ]
  },
  {
   "cell_type": "code",
   "execution_count": 23,
   "id": "c518a30d-2a38-4c5b-a826-4212ddb32d14",
   "metadata": {},
   "outputs": [
    {
     "name": "stderr",
     "output_type": "stream",
     "text": [
      "/Users/lilakelland/opt/anaconda3/envs/bootcamp_env/lib/python3.8/site-packages/ipykernel/ipkernel.py:287: DeprecationWarning: `should_run_async` will not call `transform_cell` automatically in the future. Please pass the result to `transformed_cell` argument and any exception that happen during thetransform in `preprocessing_exc_tuple` in IPython 7.17 and above.\n",
      "  and should_run_async(code)\n"
     ]
    }
   ],
   "source": [
    "# pip install --upgrade tqdm"
   ]
  },
  {
   "cell_type": "code",
   "execution_count": 50,
   "id": "42d38cd0-e8c0-4f21-8b15-ec8c01a6e5fd",
   "metadata": {},
   "outputs": [
    {
     "name": "stderr",
     "output_type": "stream",
     "text": [
      "/Users/lilakelland/opt/anaconda3/envs/bootcamp_env/lib/python3.8/site-packages/ipykernel/ipkernel.py:287: DeprecationWarning: `should_run_async` will not call `transform_cell` automatically in the future. Please pass the result to `transformed_cell` argument and any exception that happen during thetransform in `preprocessing_exc_tuple` in IPython 7.17 and above.\n",
      "  and should_run_async(code)\n"
     ]
    }
   ],
   "source": [
    "import numpy as np\n",
    "import tqdm\n",
    "grid = {}\n",
    "grid['Validation_Set'] = {}\n",
    "\n",
    "# Topics in range\n",
    "min_topics = 2\n",
    "max_topics = 7\n",
    "step_size = 1\n",
    "topics_range = range(min_topics, max_topics, step_size)\n",
    "\n",
    "# Alpha parameter\n",
    "alpha = list(np.arange(0.01, 1, 0.03))\n",
    "alpha.append('symmetric')\n",
    "alpha.append('asymmetric')\n",
    "\n",
    "# Beta parameter\n",
    "beta = list(np.arange(0.01,1,0.3))\n",
    "beta.append(\"symmetric\")"
   ]
  },
  {
   "cell_type": "code",
   "execution_count": 51,
   "id": "98e47dbb-fc64-484e-8f0d-fcb6e0517412",
   "metadata": {},
   "outputs": [
    {
     "name": "stderr",
     "output_type": "stream",
     "text": [
      "/Users/lilakelland/opt/anaconda3/envs/bootcamp_env/lib/python3.8/site-packages/ipykernel/ipkernel.py:287: DeprecationWarning: `should_run_async` will not call `transform_cell` automatically in the future. Please pass the result to `transformed_cell` argument and any exception that happen during thetransform in `preprocessing_exc_tuple` in IPython 7.17 and above.\n",
      "  and should_run_async(code)\n",
      "\n",
      "  0%|          | 0/540 [00:22<?, ?it/s]\u001b[A\n"
     ]
    },
    {
     "ename": "KeyboardInterrupt",
     "evalue": "",
     "output_type": "error",
     "traceback": [
      "\u001b[0;31m---------------------------------------------------------------------------\u001b[0m",
      "\u001b[0;31mKeyboardInterrupt\u001b[0m                         Traceback (most recent call last)",
      "\u001b[0;32m<ipython-input-51-eaf6428954c1>\u001b[0m in \u001b[0;36m<module>\u001b[0;34m\u001b[0m\n\u001b[1;32m     22\u001b[0m                 \u001b[0;32mfor\u001b[0m \u001b[0mb\u001b[0m \u001b[0;32min\u001b[0m \u001b[0mbeta\u001b[0m\u001b[0;34m:\u001b[0m\u001b[0;34m\u001b[0m\u001b[0;34m\u001b[0m\u001b[0m\n\u001b[1;32m     23\u001b[0m                     \u001b[0;31m#coherence score for said parameters\u001b[0m\u001b[0;34m\u001b[0m\u001b[0;34m\u001b[0m\u001b[0;34m\u001b[0m\u001b[0m\n\u001b[0;32m---> 24\u001b[0;31m                     cv = compute_coherence_values(corpus=corpus_sets[i], dictionary=id2word,\n\u001b[0m\u001b[1;32m     25\u001b[0m                                                   k=k, a=a, b=b)\n\u001b[1;32m     26\u001b[0m                     \u001b[0;31m#save model results\u001b[0m\u001b[0;34m\u001b[0m\u001b[0;34m\u001b[0m\u001b[0;34m\u001b[0m\u001b[0m\n",
      "\u001b[0;32m<ipython-input-22-69923fab00f6>\u001b[0m in \u001b[0;36mcompute_coherence_values\u001b[0;34m(corpus, dictionary, k, a, b)\u001b[0m\n\u001b[1;32m     12\u001b[0m     coherence_model_lda = CoherenceModel(model=lda_model, texts=data_lemmatized, \n\u001b[1;32m     13\u001b[0m                                          dictionary=id2word, coherence='c_v')\n\u001b[0;32m---> 14\u001b[0;31m     \u001b[0;32mreturn\u001b[0m \u001b[0mcoherence_model_lda\u001b[0m\u001b[0;34m.\u001b[0m\u001b[0mget_coherence\u001b[0m\u001b[0;34m(\u001b[0m\u001b[0;34m)\u001b[0m\u001b[0;34m\u001b[0m\u001b[0;34m\u001b[0m\u001b[0m\n\u001b[0m",
      "\u001b[0;32m~/opt/anaconda3/envs/bootcamp_env/lib/python3.8/site-packages/gensim/models/coherencemodel.py\u001b[0m in \u001b[0;36mget_coherence\u001b[0;34m(self)\u001b[0m\n\u001b[1;32m    613\u001b[0m \u001b[0;34m\u001b[0m\u001b[0m\n\u001b[1;32m    614\u001b[0m         \"\"\"\n\u001b[0;32m--> 615\u001b[0;31m         \u001b[0mconfirmed_measures\u001b[0m \u001b[0;34m=\u001b[0m \u001b[0mself\u001b[0m\u001b[0;34m.\u001b[0m\u001b[0mget_coherence_per_topic\u001b[0m\u001b[0;34m(\u001b[0m\u001b[0;34m)\u001b[0m\u001b[0;34m\u001b[0m\u001b[0;34m\u001b[0m\u001b[0m\n\u001b[0m\u001b[1;32m    616\u001b[0m         \u001b[0;32mreturn\u001b[0m \u001b[0mself\u001b[0m\u001b[0;34m.\u001b[0m\u001b[0maggregate_measures\u001b[0m\u001b[0;34m(\u001b[0m\u001b[0mconfirmed_measures\u001b[0m\u001b[0;34m)\u001b[0m\u001b[0;34m\u001b[0m\u001b[0;34m\u001b[0m\u001b[0m\n\u001b[1;32m    617\u001b[0m \u001b[0;34m\u001b[0m\u001b[0m\n",
      "\u001b[0;32m~/opt/anaconda3/envs/bootcamp_env/lib/python3.8/site-packages/gensim/models/coherencemodel.py\u001b[0m in \u001b[0;36mget_coherence_per_topic\u001b[0;34m(self, segmented_topics, with_std, with_support)\u001b[0m\n\u001b[1;32m    573\u001b[0m             \u001b[0msegmented_topics\u001b[0m \u001b[0;34m=\u001b[0m \u001b[0mmeasure\u001b[0m\u001b[0;34m.\u001b[0m\u001b[0mseg\u001b[0m\u001b[0;34m(\u001b[0m\u001b[0mself\u001b[0m\u001b[0;34m.\u001b[0m\u001b[0mtopics\u001b[0m\u001b[0;34m)\u001b[0m\u001b[0;34m\u001b[0m\u001b[0;34m\u001b[0m\u001b[0m\n\u001b[1;32m    574\u001b[0m         \u001b[0;32mif\u001b[0m \u001b[0mself\u001b[0m\u001b[0;34m.\u001b[0m\u001b[0m_accumulator\u001b[0m \u001b[0;32mis\u001b[0m \u001b[0;32mNone\u001b[0m\u001b[0;34m:\u001b[0m\u001b[0;34m\u001b[0m\u001b[0;34m\u001b[0m\u001b[0m\n\u001b[0;32m--> 575\u001b[0;31m             \u001b[0mself\u001b[0m\u001b[0;34m.\u001b[0m\u001b[0mestimate_probabilities\u001b[0m\u001b[0;34m(\u001b[0m\u001b[0msegmented_topics\u001b[0m\u001b[0;34m)\u001b[0m\u001b[0;34m\u001b[0m\u001b[0;34m\u001b[0m\u001b[0m\n\u001b[0m\u001b[1;32m    576\u001b[0m \u001b[0;34m\u001b[0m\u001b[0m\n\u001b[1;32m    577\u001b[0m         \u001b[0mkwargs\u001b[0m \u001b[0;34m=\u001b[0m \u001b[0mdict\u001b[0m\u001b[0;34m(\u001b[0m\u001b[0mwith_std\u001b[0m\u001b[0;34m=\u001b[0m\u001b[0mwith_std\u001b[0m\u001b[0;34m,\u001b[0m \u001b[0mwith_support\u001b[0m\u001b[0;34m=\u001b[0m\u001b[0mwith_support\u001b[0m\u001b[0;34m)\u001b[0m\u001b[0;34m\u001b[0m\u001b[0;34m\u001b[0m\u001b[0m\n",
      "\u001b[0;32m~/opt/anaconda3/envs/bootcamp_env/lib/python3.8/site-packages/gensim/models/coherencemodel.py\u001b[0m in \u001b[0;36mestimate_probabilities\u001b[0;34m(self, segmented_topics)\u001b[0m\n\u001b[1;32m    545\u001b[0m                 \u001b[0mkwargs\u001b[0m\u001b[0;34m[\u001b[0m\u001b[0;34m'model'\u001b[0m\u001b[0;34m]\u001b[0m \u001b[0;34m=\u001b[0m \u001b[0mself\u001b[0m\u001b[0;34m.\u001b[0m\u001b[0mkeyed_vectors\u001b[0m\u001b[0;34m\u001b[0m\u001b[0;34m\u001b[0m\u001b[0m\n\u001b[1;32m    546\u001b[0m \u001b[0;34m\u001b[0m\u001b[0m\n\u001b[0;32m--> 547\u001b[0;31m             \u001b[0mself\u001b[0m\u001b[0;34m.\u001b[0m\u001b[0m_accumulator\u001b[0m \u001b[0;34m=\u001b[0m \u001b[0mself\u001b[0m\u001b[0;34m.\u001b[0m\u001b[0mmeasure\u001b[0m\u001b[0;34m.\u001b[0m\u001b[0mprob\u001b[0m\u001b[0;34m(\u001b[0m\u001b[0;34m**\u001b[0m\u001b[0mkwargs\u001b[0m\u001b[0;34m)\u001b[0m\u001b[0;34m\u001b[0m\u001b[0;34m\u001b[0m\u001b[0m\n\u001b[0m\u001b[1;32m    548\u001b[0m \u001b[0;34m\u001b[0m\u001b[0m\n\u001b[1;32m    549\u001b[0m         \u001b[0;32mreturn\u001b[0m \u001b[0mself\u001b[0m\u001b[0;34m.\u001b[0m\u001b[0m_accumulator\u001b[0m\u001b[0;34m\u001b[0m\u001b[0;34m\u001b[0m\u001b[0m\n",
      "\u001b[0;32m~/opt/anaconda3/envs/bootcamp_env/lib/python3.8/site-packages/gensim/topic_coherence/probability_estimation.py\u001b[0m in \u001b[0;36mp_boolean_sliding_window\u001b[0;34m(texts, segmented_topics, dictionary, window_size, processes)\u001b[0m\n\u001b[1;32m    154\u001b[0m         \u001b[0maccumulator\u001b[0m \u001b[0;34m=\u001b[0m \u001b[0mParallelWordOccurrenceAccumulator\u001b[0m\u001b[0;34m(\u001b[0m\u001b[0mprocesses\u001b[0m\u001b[0;34m,\u001b[0m \u001b[0mtop_ids\u001b[0m\u001b[0;34m,\u001b[0m \u001b[0mdictionary\u001b[0m\u001b[0;34m)\u001b[0m\u001b[0;34m\u001b[0m\u001b[0;34m\u001b[0m\u001b[0m\n\u001b[1;32m    155\u001b[0m     \u001b[0mlogger\u001b[0m\u001b[0;34m.\u001b[0m\u001b[0minfo\u001b[0m\u001b[0;34m(\u001b[0m\u001b[0;34m\"using %s to estimate probabilities from sliding windows\"\u001b[0m\u001b[0;34m,\u001b[0m \u001b[0maccumulator\u001b[0m\u001b[0;34m)\u001b[0m\u001b[0;34m\u001b[0m\u001b[0;34m\u001b[0m\u001b[0m\n\u001b[0;32m--> 156\u001b[0;31m     \u001b[0;32mreturn\u001b[0m \u001b[0maccumulator\u001b[0m\u001b[0;34m.\u001b[0m\u001b[0maccumulate\u001b[0m\u001b[0;34m(\u001b[0m\u001b[0mtexts\u001b[0m\u001b[0;34m,\u001b[0m \u001b[0mwindow_size\u001b[0m\u001b[0;34m)\u001b[0m\u001b[0;34m\u001b[0m\u001b[0;34m\u001b[0m\u001b[0m\n\u001b[0m\u001b[1;32m    157\u001b[0m \u001b[0;34m\u001b[0m\u001b[0m\n\u001b[1;32m    158\u001b[0m \u001b[0;34m\u001b[0m\u001b[0m\n",
      "\u001b[0;32m~/opt/anaconda3/envs/bootcamp_env/lib/python3.8/site-packages/gensim/topic_coherence/text_analysis.py\u001b[0m in \u001b[0;36maccumulate\u001b[0;34m(self, texts, window_size)\u001b[0m\n\u001b[1;32m    441\u001b[0m \u001b[0;34m\u001b[0m\u001b[0m\n\u001b[1;32m    442\u001b[0m     \u001b[0;32mdef\u001b[0m \u001b[0maccumulate\u001b[0m\u001b[0;34m(\u001b[0m\u001b[0mself\u001b[0m\u001b[0;34m,\u001b[0m \u001b[0mtexts\u001b[0m\u001b[0;34m,\u001b[0m \u001b[0mwindow_size\u001b[0m\u001b[0;34m)\u001b[0m\u001b[0;34m:\u001b[0m\u001b[0;34m\u001b[0m\u001b[0;34m\u001b[0m\u001b[0m\n\u001b[0;32m--> 443\u001b[0;31m         \u001b[0mworkers\u001b[0m\u001b[0;34m,\u001b[0m \u001b[0minput_q\u001b[0m\u001b[0;34m,\u001b[0m \u001b[0moutput_q\u001b[0m \u001b[0;34m=\u001b[0m \u001b[0mself\u001b[0m\u001b[0;34m.\u001b[0m\u001b[0mstart_workers\u001b[0m\u001b[0;34m(\u001b[0m\u001b[0mwindow_size\u001b[0m\u001b[0;34m)\u001b[0m\u001b[0;34m\u001b[0m\u001b[0;34m\u001b[0m\u001b[0m\n\u001b[0m\u001b[1;32m    444\u001b[0m         \u001b[0;32mtry\u001b[0m\u001b[0;34m:\u001b[0m\u001b[0;34m\u001b[0m\u001b[0;34m\u001b[0m\u001b[0m\n\u001b[1;32m    445\u001b[0m             \u001b[0mself\u001b[0m\u001b[0;34m.\u001b[0m\u001b[0mqueue_all_texts\u001b[0m\u001b[0;34m(\u001b[0m\u001b[0minput_q\u001b[0m\u001b[0;34m,\u001b[0m \u001b[0mtexts\u001b[0m\u001b[0;34m,\u001b[0m \u001b[0mwindow_size\u001b[0m\u001b[0;34m)\u001b[0m\u001b[0;34m\u001b[0m\u001b[0;34m\u001b[0m\u001b[0m\n",
      "\u001b[0;32m~/opt/anaconda3/envs/bootcamp_env/lib/python3.8/site-packages/gensim/topic_coherence/text_analysis.py\u001b[0m in \u001b[0;36mstart_workers\u001b[0;34m(self, window_size)\u001b[0m\n\u001b[1;32m    475\u001b[0m             \u001b[0maccumulator\u001b[0m \u001b[0;34m=\u001b[0m \u001b[0mPatchedWordOccurrenceAccumulator\u001b[0m\u001b[0;34m(\u001b[0m\u001b[0mself\u001b[0m\u001b[0;34m.\u001b[0m\u001b[0mrelevant_ids\u001b[0m\u001b[0;34m,\u001b[0m \u001b[0mself\u001b[0m\u001b[0;34m.\u001b[0m\u001b[0mdictionary\u001b[0m\u001b[0;34m)\u001b[0m\u001b[0;34m\u001b[0m\u001b[0;34m\u001b[0m\u001b[0m\n\u001b[1;32m    476\u001b[0m             \u001b[0mworker\u001b[0m \u001b[0;34m=\u001b[0m \u001b[0mAccumulatingWorker\u001b[0m\u001b[0;34m(\u001b[0m\u001b[0minput_q\u001b[0m\u001b[0;34m,\u001b[0m \u001b[0moutput_q\u001b[0m\u001b[0;34m,\u001b[0m \u001b[0maccumulator\u001b[0m\u001b[0;34m,\u001b[0m \u001b[0mwindow_size\u001b[0m\u001b[0;34m)\u001b[0m\u001b[0;34m\u001b[0m\u001b[0;34m\u001b[0m\u001b[0m\n\u001b[0;32m--> 477\u001b[0;31m             \u001b[0mworker\u001b[0m\u001b[0;34m.\u001b[0m\u001b[0mstart\u001b[0m\u001b[0;34m(\u001b[0m\u001b[0;34m)\u001b[0m\u001b[0;34m\u001b[0m\u001b[0;34m\u001b[0m\u001b[0m\n\u001b[0m\u001b[1;32m    478\u001b[0m             \u001b[0mworkers\u001b[0m\u001b[0;34m.\u001b[0m\u001b[0mappend\u001b[0m\u001b[0;34m(\u001b[0m\u001b[0mworker\u001b[0m\u001b[0;34m)\u001b[0m\u001b[0;34m\u001b[0m\u001b[0;34m\u001b[0m\u001b[0m\n\u001b[1;32m    479\u001b[0m \u001b[0;34m\u001b[0m\u001b[0m\n",
      "\u001b[0;32m~/opt/anaconda3/envs/bootcamp_env/lib/python3.8/multiprocessing/process.py\u001b[0m in \u001b[0;36mstart\u001b[0;34m(self)\u001b[0m\n\u001b[1;32m    119\u001b[0m                \u001b[0;34m'daemonic processes are not allowed to have children'\u001b[0m\u001b[0;34m\u001b[0m\u001b[0;34m\u001b[0m\u001b[0m\n\u001b[1;32m    120\u001b[0m         \u001b[0m_cleanup\u001b[0m\u001b[0;34m(\u001b[0m\u001b[0;34m)\u001b[0m\u001b[0;34m\u001b[0m\u001b[0;34m\u001b[0m\u001b[0m\n\u001b[0;32m--> 121\u001b[0;31m         \u001b[0mself\u001b[0m\u001b[0;34m.\u001b[0m\u001b[0m_popen\u001b[0m \u001b[0;34m=\u001b[0m \u001b[0mself\u001b[0m\u001b[0;34m.\u001b[0m\u001b[0m_Popen\u001b[0m\u001b[0;34m(\u001b[0m\u001b[0mself\u001b[0m\u001b[0;34m)\u001b[0m\u001b[0;34m\u001b[0m\u001b[0;34m\u001b[0m\u001b[0m\n\u001b[0m\u001b[1;32m    122\u001b[0m         \u001b[0mself\u001b[0m\u001b[0;34m.\u001b[0m\u001b[0m_sentinel\u001b[0m \u001b[0;34m=\u001b[0m \u001b[0mself\u001b[0m\u001b[0;34m.\u001b[0m\u001b[0m_popen\u001b[0m\u001b[0;34m.\u001b[0m\u001b[0msentinel\u001b[0m\u001b[0;34m\u001b[0m\u001b[0;34m\u001b[0m\u001b[0m\n\u001b[1;32m    123\u001b[0m         \u001b[0;31m# Avoid a refcycle if the target function holds an indirect\u001b[0m\u001b[0;34m\u001b[0m\u001b[0;34m\u001b[0m\u001b[0;34m\u001b[0m\u001b[0m\n",
      "\u001b[0;32m~/opt/anaconda3/envs/bootcamp_env/lib/python3.8/multiprocessing/context.py\u001b[0m in \u001b[0;36m_Popen\u001b[0;34m(process_obj)\u001b[0m\n\u001b[1;32m    222\u001b[0m     \u001b[0;34m@\u001b[0m\u001b[0mstaticmethod\u001b[0m\u001b[0;34m\u001b[0m\u001b[0;34m\u001b[0m\u001b[0m\n\u001b[1;32m    223\u001b[0m     \u001b[0;32mdef\u001b[0m \u001b[0m_Popen\u001b[0m\u001b[0;34m(\u001b[0m\u001b[0mprocess_obj\u001b[0m\u001b[0;34m)\u001b[0m\u001b[0;34m:\u001b[0m\u001b[0;34m\u001b[0m\u001b[0;34m\u001b[0m\u001b[0m\n\u001b[0;32m--> 224\u001b[0;31m         \u001b[0;32mreturn\u001b[0m \u001b[0m_default_context\u001b[0m\u001b[0;34m.\u001b[0m\u001b[0mget_context\u001b[0m\u001b[0;34m(\u001b[0m\u001b[0;34m)\u001b[0m\u001b[0;34m.\u001b[0m\u001b[0mProcess\u001b[0m\u001b[0;34m.\u001b[0m\u001b[0m_Popen\u001b[0m\u001b[0;34m(\u001b[0m\u001b[0mprocess_obj\u001b[0m\u001b[0;34m)\u001b[0m\u001b[0;34m\u001b[0m\u001b[0;34m\u001b[0m\u001b[0m\n\u001b[0m\u001b[1;32m    225\u001b[0m \u001b[0;34m\u001b[0m\u001b[0m\n\u001b[1;32m    226\u001b[0m \u001b[0;32mclass\u001b[0m \u001b[0mDefaultContext\u001b[0m\u001b[0;34m(\u001b[0m\u001b[0mBaseContext\u001b[0m\u001b[0;34m)\u001b[0m\u001b[0;34m:\u001b[0m\u001b[0;34m\u001b[0m\u001b[0;34m\u001b[0m\u001b[0m\n",
      "\u001b[0;32m~/opt/anaconda3/envs/bootcamp_env/lib/python3.8/multiprocessing/context.py\u001b[0m in \u001b[0;36m_Popen\u001b[0;34m(process_obj)\u001b[0m\n\u001b[1;32m    282\u001b[0m         \u001b[0;32mdef\u001b[0m \u001b[0m_Popen\u001b[0m\u001b[0;34m(\u001b[0m\u001b[0mprocess_obj\u001b[0m\u001b[0;34m)\u001b[0m\u001b[0;34m:\u001b[0m\u001b[0;34m\u001b[0m\u001b[0;34m\u001b[0m\u001b[0m\n\u001b[1;32m    283\u001b[0m             \u001b[0;32mfrom\u001b[0m \u001b[0;34m.\u001b[0m\u001b[0mpopen_spawn_posix\u001b[0m \u001b[0;32mimport\u001b[0m \u001b[0mPopen\u001b[0m\u001b[0;34m\u001b[0m\u001b[0;34m\u001b[0m\u001b[0m\n\u001b[0;32m--> 284\u001b[0;31m             \u001b[0;32mreturn\u001b[0m \u001b[0mPopen\u001b[0m\u001b[0;34m(\u001b[0m\u001b[0mprocess_obj\u001b[0m\u001b[0;34m)\u001b[0m\u001b[0;34m\u001b[0m\u001b[0;34m\u001b[0m\u001b[0m\n\u001b[0m\u001b[1;32m    285\u001b[0m \u001b[0;34m\u001b[0m\u001b[0m\n\u001b[1;32m    286\u001b[0m     \u001b[0;32mclass\u001b[0m \u001b[0mForkServerProcess\u001b[0m\u001b[0;34m(\u001b[0m\u001b[0mprocess\u001b[0m\u001b[0;34m.\u001b[0m\u001b[0mBaseProcess\u001b[0m\u001b[0;34m)\u001b[0m\u001b[0;34m:\u001b[0m\u001b[0;34m\u001b[0m\u001b[0;34m\u001b[0m\u001b[0m\n",
      "\u001b[0;32m~/opt/anaconda3/envs/bootcamp_env/lib/python3.8/multiprocessing/popen_spawn_posix.py\u001b[0m in \u001b[0;36m__init__\u001b[0;34m(self, process_obj)\u001b[0m\n\u001b[1;32m     30\u001b[0m     \u001b[0;32mdef\u001b[0m \u001b[0m__init__\u001b[0m\u001b[0;34m(\u001b[0m\u001b[0mself\u001b[0m\u001b[0;34m,\u001b[0m \u001b[0mprocess_obj\u001b[0m\u001b[0;34m)\u001b[0m\u001b[0;34m:\u001b[0m\u001b[0;34m\u001b[0m\u001b[0;34m\u001b[0m\u001b[0m\n\u001b[1;32m     31\u001b[0m         \u001b[0mself\u001b[0m\u001b[0;34m.\u001b[0m\u001b[0m_fds\u001b[0m \u001b[0;34m=\u001b[0m \u001b[0;34m[\u001b[0m\u001b[0;34m]\u001b[0m\u001b[0;34m\u001b[0m\u001b[0;34m\u001b[0m\u001b[0m\n\u001b[0;32m---> 32\u001b[0;31m         \u001b[0msuper\u001b[0m\u001b[0;34m(\u001b[0m\u001b[0;34m)\u001b[0m\u001b[0;34m.\u001b[0m\u001b[0m__init__\u001b[0m\u001b[0;34m(\u001b[0m\u001b[0mprocess_obj\u001b[0m\u001b[0;34m)\u001b[0m\u001b[0;34m\u001b[0m\u001b[0;34m\u001b[0m\u001b[0m\n\u001b[0m\u001b[1;32m     33\u001b[0m \u001b[0;34m\u001b[0m\u001b[0m\n\u001b[1;32m     34\u001b[0m     \u001b[0;32mdef\u001b[0m \u001b[0mduplicate_for_child\u001b[0m\u001b[0;34m(\u001b[0m\u001b[0mself\u001b[0m\u001b[0;34m,\u001b[0m \u001b[0mfd\u001b[0m\u001b[0;34m)\u001b[0m\u001b[0;34m:\u001b[0m\u001b[0;34m\u001b[0m\u001b[0;34m\u001b[0m\u001b[0m\n",
      "\u001b[0;32m~/opt/anaconda3/envs/bootcamp_env/lib/python3.8/multiprocessing/popen_fork.py\u001b[0m in \u001b[0;36m__init__\u001b[0;34m(self, process_obj)\u001b[0m\n\u001b[1;32m     17\u001b[0m         \u001b[0mself\u001b[0m\u001b[0;34m.\u001b[0m\u001b[0mreturncode\u001b[0m \u001b[0;34m=\u001b[0m \u001b[0;32mNone\u001b[0m\u001b[0;34m\u001b[0m\u001b[0;34m\u001b[0m\u001b[0m\n\u001b[1;32m     18\u001b[0m         \u001b[0mself\u001b[0m\u001b[0;34m.\u001b[0m\u001b[0mfinalizer\u001b[0m \u001b[0;34m=\u001b[0m \u001b[0;32mNone\u001b[0m\u001b[0;34m\u001b[0m\u001b[0;34m\u001b[0m\u001b[0m\n\u001b[0;32m---> 19\u001b[0;31m         \u001b[0mself\u001b[0m\u001b[0;34m.\u001b[0m\u001b[0m_launch\u001b[0m\u001b[0;34m(\u001b[0m\u001b[0mprocess_obj\u001b[0m\u001b[0;34m)\u001b[0m\u001b[0;34m\u001b[0m\u001b[0;34m\u001b[0m\u001b[0m\n\u001b[0m\u001b[1;32m     20\u001b[0m \u001b[0;34m\u001b[0m\u001b[0m\n\u001b[1;32m     21\u001b[0m     \u001b[0;32mdef\u001b[0m \u001b[0mduplicate_for_child\u001b[0m\u001b[0;34m(\u001b[0m\u001b[0mself\u001b[0m\u001b[0;34m,\u001b[0m \u001b[0mfd\u001b[0m\u001b[0;34m)\u001b[0m\u001b[0;34m:\u001b[0m\u001b[0;34m\u001b[0m\u001b[0;34m\u001b[0m\u001b[0m\n",
      "\u001b[0;32m~/opt/anaconda3/envs/bootcamp_env/lib/python3.8/multiprocessing/popen_spawn_posix.py\u001b[0m in \u001b[0;36m_launch\u001b[0;34m(self, process_obj)\u001b[0m\n\u001b[1;32m     60\u001b[0m             \u001b[0mself\u001b[0m\u001b[0;34m.\u001b[0m\u001b[0msentinel\u001b[0m \u001b[0;34m=\u001b[0m \u001b[0mparent_r\u001b[0m\u001b[0;34m\u001b[0m\u001b[0;34m\u001b[0m\u001b[0m\n\u001b[1;32m     61\u001b[0m             \u001b[0;32mwith\u001b[0m \u001b[0mopen\u001b[0m\u001b[0;34m(\u001b[0m\u001b[0mparent_w\u001b[0m\u001b[0;34m,\u001b[0m \u001b[0;34m'wb'\u001b[0m\u001b[0;34m,\u001b[0m \u001b[0mclosefd\u001b[0m\u001b[0;34m=\u001b[0m\u001b[0;32mFalse\u001b[0m\u001b[0;34m)\u001b[0m \u001b[0;32mas\u001b[0m \u001b[0mf\u001b[0m\u001b[0;34m:\u001b[0m\u001b[0;34m\u001b[0m\u001b[0;34m\u001b[0m\u001b[0m\n\u001b[0;32m---> 62\u001b[0;31m                 \u001b[0mf\u001b[0m\u001b[0;34m.\u001b[0m\u001b[0mwrite\u001b[0m\u001b[0;34m(\u001b[0m\u001b[0mfp\u001b[0m\u001b[0;34m.\u001b[0m\u001b[0mgetbuffer\u001b[0m\u001b[0;34m(\u001b[0m\u001b[0;34m)\u001b[0m\u001b[0;34m)\u001b[0m\u001b[0;34m\u001b[0m\u001b[0;34m\u001b[0m\u001b[0m\n\u001b[0m\u001b[1;32m     63\u001b[0m         \u001b[0;32mfinally\u001b[0m\u001b[0;34m:\u001b[0m\u001b[0;34m\u001b[0m\u001b[0;34m\u001b[0m\u001b[0m\n\u001b[1;32m     64\u001b[0m             \u001b[0mfds_to_close\u001b[0m \u001b[0;34m=\u001b[0m \u001b[0;34m[\u001b[0m\u001b[0;34m]\u001b[0m\u001b[0;34m\u001b[0m\u001b[0;34m\u001b[0m\u001b[0m\n",
      "\u001b[0;31mKeyboardInterrupt\u001b[0m: "
     ]
    }
   ],
   "source": [
    "#  Validation sets\n",
    "num_of_docs = len(corpus)\n",
    "corpus_sets = [gensim.utils.ClippedCorpus(corpus, int(num_of_docs*0.75)), corpus]\n",
    "\n",
    "corpus_title = ['75% Corpus', '100% Corpus']\n",
    "model_results = {'Validation_Set':[],\n",
    "                 'Topics':[],\n",
    "                 'Alpha': [],\n",
    "                 'Beta':[],\n",
    "                 'Coherence':[]\n",
    "                }\n",
    "\n",
    "if 1 == 1:\n",
    "    pbar = tqdm.tqdm(total=540)\n",
    "    \n",
    "    for i in range(len(corpus_sets)):\n",
    "#         iterate through number of topics\n",
    "        for k in topics_range:\n",
    "        # iterate through alpha values\n",
    "            for a in alpha:\n",
    "                # iterate through beta values\n",
    "                for b in beta:\n",
    "                    #coherence score for said parameters\n",
    "                    cv = compute_coherence_values(corpus=corpus_sets[i], dictionary=id2word,\n",
    "                                                  k=k, a=a, b=b)\n",
    "                    #save model results\n",
    "                    model_results['Validation_Set'].append(corpus_title[i])\n",
    "                    model_results['Topics'].append(k)\n",
    "                    models_results['Alpha'].append(a)\n",
    "                    models_results['Beta'].append(b)\n",
    "                    models_results['Coherence'].append(cv)\n",
    "                    \n",
    "                    pbar.updata(1)\n",
    "    pd.DataFrame(model_results).to_csv('data/lda_tuning_results_new.csv', index=False)\n",
    "    pbar.close()"
   ]
  },
  {
   "cell_type": "markdown",
   "id": "9a59ee15-7b91-4c30-af5b-fc198b96e2a8",
   "metadata": {},
   "source": [
    "### 9. Final LDA model"
   ]
  },
  {
   "cell_type": "code",
   "execution_count": null,
   "id": "d4b9b750-d9ef-42aa-ac5a-a125ba2a27af",
   "metadata": {},
   "outputs": [],
   "source": [
    "lda_model_final = gensim.models.ldamodel.LdaModel(corpus=corpus, \n",
    "                                            num_topics=5,\n",
    "                                            random_state=100,\n",
    "                                            chunksize=200,\n",
    "                                            passes=10,\n",
    "                                            alpha=0.01,\n",
    "                                            eta=\"symetric\",\n",
    "                                            per_word_topics=True,\n",
    "                                            id2word=id2word)"
   ]
  },
  {
   "cell_type": "code",
   "execution_count": null,
   "id": "a9be2934-ef54-433e-a52e-05d96cb01e3c",
   "metadata": {},
   "outputs": [],
   "source": [
    "coherence_model_lda = CoherenceModel(model=lda_model_final, texts=data_lemmatized, \n",
    "                                         dictionary=id2word, coherence='c_v')\n",
    "coherence_lda = coherence_model_lda.get_coherence()\n",
    "print(\\nCoherence Score, coherence_lda)"
   ]
  },
  {
   "cell_type": "markdown",
   "id": "1f04f1d8-266a-4497-ad4d-dbf98314583b",
   "metadata": {},
   "source": [
    "### 10 Visualize the topics-keywords\n",
    "\n",
    "pyLDAvis package in python"
   ]
  },
  {
   "cell_type": "code",
   "execution_count": 26,
   "id": "6bf68dbd-024f-4afe-8cd6-34d5db971802",
   "metadata": {},
   "outputs": [
    {
     "name": "stderr",
     "output_type": "stream",
     "text": [
      "/Users/lilakelland/opt/anaconda3/envs/bootcamp_env/lib/python3.8/site-packages/ipykernel/ipkernel.py:287: DeprecationWarning: `should_run_async` will not call `transform_cell` automatically in the future. Please pass the result to `transformed_cell` argument and any exception that happen during thetransform in `preprocessing_exc_tuple` in IPython 7.17 and above.\n",
      "  and should_run_async(code)\n",
      "/Users/lilakelland/opt/anaconda3/envs/bootcamp_env/lib/python3.8/site-packages/pyLDAvis/_prepare.py:246: FutureWarning: In a future version of pandas all arguments of DataFrame.drop except for the argument 'labels' will be keyword-only\n",
      "  default_term_info = default_term_info.sort_values(\n"
     ]
    },
    {
     "data": {
      "text/html": [
       "\n",
       "<link rel=\"stylesheet\" type=\"text/css\" href=\"https://cdn.jsdelivr.net/gh/bmabey/pyLDAvis@3.3.1/pyLDAvis/js/ldavis.v1.0.0.css\">\n",
       "\n",
       "\n",
       "<div id=\"ldavis_el151141405307351825603571758678\"></div>\n",
       "<script type=\"text/javascript\">\n",
       "\n",
       "var ldavis_el151141405307351825603571758678_data = {\"mdsDat\": {\"x\": [0.1068907858850562, 0.20473896454825943, -0.12120101383042817, 0.04695402348023253, -0.23738276008311995], \"y\": [-0.10555287576135862, 0.039519489168134594, -0.212827830397724, 0.15331589025660042, 0.12554532673434754], \"topics\": [1, 2, 3, 4, 5], \"cluster\": [1, 1, 1, 1, 1], \"Freq\": [27.718266667608514, 23.379416329093967, 19.827703274331025, 16.529671045002488, 12.544942683964006]}, \"tinfo\": {\"Term\": [\"film\", \"game\", \"mr\", \"music\", \"party\", \"phone\", \"award\", \"government\", \"technology\", \"blair\", \"player\", \"people\", \"firm\", \"tv\", \"minister\", \"election\", \"company\", \"network\", \"sale\", \"star\", \"club\", \"cinema\", \"labour\", \"team\", \"england\", \"match\", \"video\", \"album\", \"site\", \"bank\", \"party\", \"election\", \"labour\", \"secretary\", \"blair\", \"chancellor\", \"dem\", \"lib\", \"tory\", \"politic\", \"silk\", \"argument\", \"education\", \"immigration\", \"asylum\", \"trust\", \"pension\", \"parliament\", \"brown\", \"employer\", \"conservative\", \"terror\", \"sentence\", \"kennedy\", \"blunkett\", \"fraud\", \"cabinet\", \"common\", \"pupil\", \"seat\", \"cook\", \"minister\", \"police\", \"government\", \"leader\", \"tax\", \"lord\", \"mr\", \"policy\", \"law\", \"issue\", \"age\", \"budget\", \"prisoner\", \"plan\", \"case\", \"campaign\", \"vote\", \"people\", \"country\", \"mp\", \"school\", \"council\", \"britain\", \"year\", \"home\", \"time\", \"child\", \"report\", \"bank\", \"growth\", \"domain\", \"virus\", \"traffic\", \"oil\", \"program\", \"spyware\", \"profit\", \"china\", \"spam\", \"stock\", \"airline\", \"blog\", \"india\", \"economist\", \"shopper\", \"parking\", \"shareholder\", \"investor\", \"export\", \"argonaut\", \"approval\", \"beijing\", \"email\", \"deutsche\", \"icann\", \"purchase\", \"ddo\", \"bankruptcy\", \"price\", \"search\", \"site\", \"mail\", \"exchange\", \"investment\", \"firm\", \"car\", \"deficit\", \"share\", \"company\", \"rate\", \"sale\", \"attack\", \"market\", \"security\", \"business\", \"software\", \"analyst\", \"christmas\", \"december\", \"economy\", \"information\", \"year\", \"figure\", \"month\", \"datum\", \"consumer\", \"computer\", \"people\", \"mr\", \"time\", \"club\", \"match\", \"cup\", \"injury\", \"champion\", \"coach\", \"ball\", \"victory\", \"league\", \"football\", \"rugby\", \"chelsea\", \"roddick\", \"championship\", \"captain\", \"stadium\", \"squad\", \"premiership\", \"striker\", \"friendly\", \"newcastle\", \"robinson\", \"slam\", \"madrid\", \"ferguson\", \"athlete\", \"osprey\", \"seed\", \"final\", \"athletic\", \"season\", \"goal\", \"liverpool\", \"davy\", \"england\", \"side\", \"team\", \"wale\", \"manager\", \"ireland\", \"player\", \"sport\", \"win\", \"minute\", \"game\", \"france\", \"saturday\", \"park\", \"time\", \"world\", \"chance\", \"year\", \"week\", \"nation\", \"way\", \"record\", \"phone\", \"video\", \"album\", \"device\", \"mobile\", \"content\", \"concert\", \"gadget\", \"broadband\", \"apple\", \"definition\", \"download\", \"gaming\", \"rem\", \"gig\", \"handset\", \"telekom\", \"gamer\", \"console\", \"format\", \"projector\", \"chip\", \"brit\", \"fi\", \"nintendo\", \"villager\", \"bunte\", \"xbox\", \"playstation\", \"laptop\", \"camera\", \"technology\", \"band\", \"music\", \"network\", \"image\", \"speed\", \"sony\", \"station\", \"print\", \"tv\", \"game\", \"screen\", \"people\", \"service\", \"computer\", \"radio\", \"medium\", \"way\", \"programme\", \"time\", \"player\", \"world\", \"user\", \"year\", \"industry\", \"mr\", \"number\", \"news\", \"film\", \"award\", \"dance\", \"actor\", \"chart\", \"singer\", \"actress\", \"nomination\", \"oscar\", \"comedy\", \"yukos\", \"festival\", \"presenter\", \"ray\", \"hollywood\", \"academy\", \"aviator\", \"drama\", \"documentary\", \"theatre\", \"snicket\", \"clooney\", \"carrey\", \"zoe\", \"nominee\", \"monster\", \"carpet\", \"angele\", \"lemony\", \"gere\", \"prize\", \"rock\", \"cinema\", \"ceremony\", \"lopez\", \"star\", \"movie\", \"baby\", \"night\", \"song\", \"love\", \"director\", \"show\", \"box\", \"tv\", \"year\", \"series\", \"event\", \"number\", \"london\", \"winner\", \"day\", \"office\", \"week\", \"role\", \"time\", \"man\"], \"Freq\": [1199.0, 1469.0, 2507.0, 852.0, 879.0, 617.0, 504.0, 1042.0, 612.0, 733.0, 859.0, 2115.0, 763.0, 669.0, 685.0, 606.0, 851.0, 540.0, 1023.0, 437.0, 404.0, 336.0, 492.0, 498.0, 472.0, 353.0, 314.0, 307.0, 446.0, 379.0, 878.2504138560404, 605.4776516716728, 491.3145567448789, 284.06193085196213, 731.6902486636696, 238.21415400129746, 230.64640035797112, 225.36859104442655, 213.66643870751167, 186.58504726405704, 175.98629402400255, 178.38749229867307, 174.12936365197265, 169.31579919487748, 166.30062761382425, 163.27927525805498, 155.20778847537125, 147.99619788724286, 143.39284517551653, 148.28173986837047, 118.84462299279902, 117.2045920297858, 111.23437243548594, 109.0272635679038, 99.40913602006576, 99.27848948572402, 101.20055508548235, 95.57938575008022, 93.14863258043813, 94.57456837481513, 126.92224967205915, 665.0444919186414, 217.5111912547511, 957.9509478767008, 370.66661914802336, 401.67033349652934, 267.0785844915391, 1959.443720394795, 320.12567213717944, 384.090934806149, 338.6222454714016, 328.71665466987207, 359.08701947379825, 228.6212809681391, 442.53146784679376, 283.33766832478653, 228.08106817695236, 198.66864169773336, 823.3874374905852, 396.8501467808098, 207.31709889478284, 221.05730446491702, 217.84871387826576, 255.18773866197049, 524.895457934904, 255.14823402780658, 297.2352547325977, 227.22092671355907, 227.22967463544552, 378.29214477775804, 371.7290747657484, 314.0867095013817, 274.79429465048685, 273.63330691515796, 263.61913259082525, 225.6516201727455, 206.9501323823931, 210.39169281834592, 204.83944619785117, 157.8803058164836, 141.21109823211114, 128.09357803862855, 126.99559092072637, 126.42408926027781, 127.06550119431134, 103.85406290023478, 108.89503634020707, 96.06181884541859, 95.06279427794232, 92.24956432120051, 92.19163905999379, 90.27640925683798, 84.2722145775067, 83.37326279462945, 75.76935858910825, 75.12079564366147, 82.95016703256539, 74.66319987185726, 71.8648167112319, 407.87576176471043, 215.79370613638235, 425.20357956900324, 350.7023980319141, 127.30717365910307, 166.4869238769508, 692.9040708975383, 352.11478140088013, 157.01708150721493, 295.6204396467151, 705.7737950986159, 284.78568503874493, 816.6343596771267, 526.6431796648535, 443.10367137056073, 327.02459242647916, 303.97563449008743, 342.9007756014739, 247.4782585555735, 221.2184758070357, 215.89233078945122, 248.98461876498303, 297.92696838105115, 931.0459634352709, 307.76458099253426, 396.61396006435814, 260.8456435007899, 258.5454865451866, 253.28112847288926, 323.489137900456, 315.3170972163278, 281.4966335405121, 403.55771546490854, 352.6216176374185, 333.41461028840143, 241.51184460087856, 234.93073888143599, 206.8514137409566, 190.04155403804378, 181.66571933294216, 164.0329260774325, 160.16036502174398, 152.75699245255572, 149.61983973130404, 124.0823016660037, 101.40724644382446, 100.41257257608088, 102.13022135491453, 93.08426256035267, 91.65548326072485, 89.20017456326408, 89.05675742274975, 86.96749198365018, 86.04386875571855, 80.73267406440064, 80.87510284717949, 79.5482355114469, 78.91065119973904, 75.379968348193, 75.35876836718072, 73.29456861597595, 73.0096759607945, 251.68858406541824, 290.5769169041478, 119.16452598783829, 130.2095932815589, 421.1793970062325, 361.7721961451745, 438.90751707291463, 319.66574712667347, 307.6696574571474, 186.35478084354105, 613.1866834629834, 244.66558301762012, 263.6158045000751, 264.3630497342551, 743.5483785669334, 210.1988234876852, 202.62503231251122, 150.24703166611292, 590.3321097257274, 423.5461219485503, 189.44079628645576, 676.8121717459429, 301.19010110882135, 180.38545101754224, 203.87487792412466, 180.85654091285318, 617.0616371119785, 313.3116959540688, 306.5525742239678, 229.00925000481516, 203.84864139483528, 191.58310919340607, 182.58823866392413, 169.6442512280986, 166.70319293413093, 146.30448627185646, 137.76645019768318, 151.89456034247064, 122.93393740151805, 105.32216469168276, 99.85857087122459, 89.27777783415851, 87.29178145535008, 78.49724526704885, 75.54747932807392, 75.66492039914623, 80.69236651556439, 81.22755514943515, 76.17666762361331, 70.84150912926182, 59.8195368709959, 60.36059560821982, 59.90386841393586, 55.74561201138181, 55.8392362594639, 52.312074473388684, 186.50716646730856, 566.3416039000844, 216.04618960859295, 765.9832728851356, 447.04561917218086, 157.15230075447585, 121.91052096060187, 144.4484610020087, 112.99898249632948, 182.7542592281949, 416.23089190882337, 725.4020977864336, 171.9158642137469, 854.7765234176018, 361.648447702573, 278.28642741410465, 184.3991752993781, 162.695189725213, 291.2488442441785, 214.33077379115826, 306.9581379094576, 242.79708917516393, 262.01327229284516, 196.56177592107971, 293.7854309649081, 181.83282851978828, 231.24357515786792, 196.07711210535584, 182.46851585832584, 1198.826174957945, 503.4795990701881, 232.85485658406384, 203.2129801501808, 210.77292203284046, 163.0511598423481, 139.52224476871623, 124.56602769683002, 121.3379249201496, 99.96210454963759, 98.20658759285521, 96.3001991910095, 90.053557456813, 84.2034426157044, 77.31722347239435, 76.23767896896064, 74.17873183655229, 66.96187873912739, 63.81079906541549, 62.18227994395619, 60.42997474992249, 60.51027991920217, 58.38175076088477, 57.77356574250838, 53.9110362177123, 63.54878878864759, 50.00969912643209, 44.35180902586991, 41.385849732707335, 41.11081849613226, 147.16539646784187, 99.94777002326845, 321.09670603674243, 86.29130301322593, 99.65007513826514, 354.37101213564057, 180.76067163110883, 92.47476774607325, 143.61004910879524, 175.37197017106163, 94.2715047915888, 239.68267936827277, 207.60001125288747, 137.09749710020742, 252.46536190129746, 457.97969586728755, 127.04380645256717, 145.19250089589835, 213.77068073736504, 152.8522886380172, 119.60904931335634, 159.85076406965638, 138.9124538689655, 134.36738035782344, 111.33466782811372, 136.85540123255637, 118.71296010609764], \"Total\": [1199.0, 1469.0, 2507.0, 852.0, 879.0, 617.0, 504.0, 1042.0, 612.0, 733.0, 859.0, 2115.0, 763.0, 669.0, 685.0, 606.0, 851.0, 540.0, 1023.0, 437.0, 404.0, 336.0, 492.0, 498.0, 472.0, 353.0, 314.0, 307.0, 446.0, 379.0, 879.0310740100889, 606.2515465730547, 492.09203782465903, 284.83650253070806, 733.9362984591156, 238.985810332238, 231.41785930426875, 226.1398356133964, 214.43744755508447, 187.37181304959586, 176.76357128995755, 179.17969907045588, 174.9168047125345, 170.0871026085867, 167.07161854561934, 164.0748904336696, 155.981282183091, 148.76977651076544, 144.1730252197426, 149.15515291659787, 119.61606108648279, 117.9885751923286, 112.00833092909272, 109.8014254417381, 100.18047676440241, 100.0611549534335, 102.01598952115434, 96.35125666607226, 93.92456784067834, 95.37998687582113, 128.33451175605063, 685.2782131926217, 222.79606611182388, 1042.246334293286, 397.22480643540956, 432.7984080548533, 282.89689275937457, 2507.5125340830036, 359.04616541738693, 450.66793994179636, 391.05483858099353, 382.074829642263, 435.4254282651899, 257.33867427870086, 599.5635101473144, 341.7403063886747, 265.98616680369923, 217.8774188608426, 2115.3916731487257, 744.4139054500356, 236.25929715331333, 269.49869747743344, 262.60182838824835, 370.59878089883347, 2884.5187199483134, 594.3857946689176, 1612.8775371408512, 341.6831256703952, 482.24466435506315, 379.09587167247344, 372.53869156978936, 314.8795519884058, 275.5907942895525, 274.4440555306334, 264.41419214436775, 226.44799397555897, 207.74113095907379, 211.19789420818591, 205.63543040410522, 158.67264769306408, 142.00593175123788, 128.88802531056515, 127.79543692309328, 127.22820847096848, 127.89756899325506, 104.6618150747346, 109.74585693760038, 96.8573845908155, 95.85803128873177, 93.04324602048281, 93.01544078393695, 91.09211045524854, 85.0854616693222, 84.1817227587908, 76.56395697478466, 75.91287213869506, 83.83104433324269, 75.45877521638586, 72.66565102570121, 423.63851204242906, 221.45100897921768, 446.54415424916795, 369.6316296537062, 130.44506980178048, 172.76204719690352, 763.2190016219134, 377.26769456458084, 163.31116766008623, 327.2817526389403, 851.8193764092573, 318.53012172592287, 1023.3523927795885, 640.126966980174, 579.4124756482188, 410.9640080482209, 378.14358505260765, 444.07160826005327, 294.9928107077837, 258.89314669885664, 259.30684870494053, 327.18425146960465, 442.59089128685684, 2884.5187199483134, 473.6846347698825, 822.8323789992552, 364.73638245930334, 401.49168031094166, 532.1672535119224, 2115.3916731487257, 2507.5125340830036, 1612.8775371408512, 404.32693906620847, 353.38914997855596, 334.1720811852739, 242.2727222673361, 235.69249954790004, 207.61060032019088, 190.81788779135118, 182.43684208444836, 164.7967414169549, 160.93263751183815, 153.51406691591117, 150.3772383024298, 124.83903995510144, 102.16390958070775, 101.175245706041, 102.91153530722677, 93.85278805615742, 92.42573763827238, 89.95742312621748, 89.81397072897107, 87.72935394945438, 86.80578134049644, 81.48906010867726, 81.64950578606702, 80.31161199720792, 79.67799835173737, 76.13623296510502, 76.11967414486367, 74.0509430184317, 73.7679168917716, 257.9430978119793, 303.6597915433535, 122.26398282038357, 134.16421392835994, 472.36064124160276, 404.2618674640828, 498.462020097533, 368.9571520537846, 366.1621634972985, 207.75189168976635, 859.3890626933984, 306.9812097656377, 342.9986354720703, 346.857284425106, 1469.5288304924627, 272.8354368255767, 263.8667560316555, 176.89871253788237, 1612.8775371408512, 1131.4070441668403, 267.70172464994187, 2884.5187199483134, 842.0308222329841, 351.2325352866982, 828.2669863550504, 533.0717433514494, 617.8474061469677, 314.0948902664799, 307.4458123890311, 229.78646788562983, 204.62387477098773, 192.37162582591924, 183.39588621387858, 170.41860127908873, 167.47798674085473, 147.08204825176432, 138.56497107616838, 152.78899506347756, 123.71047775689222, 106.11275467454283, 100.64232019500443, 90.05171444783916, 88.08574430147134, 79.2723757458695, 76.32166666005307, 76.44740245662507, 81.54115209780178, 82.08720870001297, 77.01425150688424, 71.62528714678915, 60.593390795038246, 61.14696837512856, 60.69016891089527, 56.51968811089264, 56.620918631487136, 53.08683688669224, 193.16981234691042, 612.6859221762115, 228.3659278947018, 852.1140203056115, 540.5025116037751, 173.71801815942936, 132.5585067419114, 162.26735769529674, 123.71912236727908, 221.89541268648316, 669.2965412875222, 1469.5288304924627, 227.6340816991596, 2115.3916731487257, 775.5015253139006, 532.1672535119224, 302.23363453706963, 250.74705910115145, 828.2669863550504, 449.0082299774535, 1612.8775371408512, 859.3890626933984, 1131.4070441668403, 438.8442921073118, 2884.5187199483134, 447.31450268845845, 2507.5125340830036, 856.6829564696841, 477.19023455373855, 1199.6248190020196, 504.2700466633534, 233.6590571849828, 203.99650254251034, 211.6537121805624, 163.8416455485871, 140.3046262118231, 125.34971209639703, 122.12052161872548, 100.75068517707284, 99.00244831756619, 97.0833940391116, 90.88096320953242, 85.00406924671799, 78.10377602781365, 77.03082136139088, 74.96092148308755, 67.74827364075465, 64.60577946118146, 62.967415948217884, 61.21202463734124, 61.30441446679508, 59.1637441264336, 58.60684952568768, 54.693934968644164, 64.50337219335199, 50.801443239492585, 45.14133642719685, 42.16791732221199, 41.894714130405454, 150.35207764642348, 101.90862957766083, 336.60038693257576, 91.04727836666895, 107.19245167123064, 437.2919839153967, 238.68928018038716, 105.1048761607681, 196.015087192794, 259.20764587174114, 112.00783370761812, 478.2937945859177, 406.3623712311345, 217.15529571326314, 669.2965412875222, 2884.5187199483134, 224.97910837028599, 316.49158704297247, 856.6829564696841, 399.3655387975042, 224.0970269837626, 710.2658000698502, 443.0217905582847, 842.0308222329841, 246.43207998530977, 1612.8775371408512, 454.47106184061766], \"Category\": [\"Default\", \"Default\", \"Default\", \"Default\", \"Default\", \"Default\", \"Default\", \"Default\", \"Default\", \"Default\", \"Default\", \"Default\", \"Default\", \"Default\", \"Default\", \"Default\", \"Default\", \"Default\", \"Default\", \"Default\", \"Default\", \"Default\", \"Default\", \"Default\", \"Default\", \"Default\", \"Default\", \"Default\", \"Default\", \"Default\", \"Topic1\", \"Topic1\", \"Topic1\", \"Topic1\", \"Topic1\", \"Topic1\", \"Topic1\", \"Topic1\", \"Topic1\", \"Topic1\", \"Topic1\", \"Topic1\", \"Topic1\", \"Topic1\", \"Topic1\", \"Topic1\", \"Topic1\", \"Topic1\", \"Topic1\", \"Topic1\", \"Topic1\", \"Topic1\", \"Topic1\", \"Topic1\", \"Topic1\", \"Topic1\", \"Topic1\", \"Topic1\", \"Topic1\", \"Topic1\", \"Topic1\", \"Topic1\", \"Topic1\", \"Topic1\", \"Topic1\", \"Topic1\", \"Topic1\", \"Topic1\", \"Topic1\", \"Topic1\", \"Topic1\", \"Topic1\", \"Topic1\", \"Topic1\", \"Topic1\", \"Topic1\", \"Topic1\", \"Topic1\", \"Topic1\", \"Topic1\", \"Topic1\", \"Topic1\", \"Topic1\", \"Topic1\", \"Topic1\", \"Topic1\", \"Topic1\", \"Topic1\", \"Topic1\", \"Topic2\", \"Topic2\", \"Topic2\", \"Topic2\", \"Topic2\", \"Topic2\", \"Topic2\", \"Topic2\", \"Topic2\", \"Topic2\", \"Topic2\", \"Topic2\", \"Topic2\", \"Topic2\", \"Topic2\", \"Topic2\", \"Topic2\", \"Topic2\", \"Topic2\", \"Topic2\", \"Topic2\", \"Topic2\", \"Topic2\", \"Topic2\", \"Topic2\", \"Topic2\", \"Topic2\", \"Topic2\", \"Topic2\", \"Topic2\", \"Topic2\", \"Topic2\", \"Topic2\", \"Topic2\", \"Topic2\", \"Topic2\", \"Topic2\", \"Topic2\", \"Topic2\", \"Topic2\", \"Topic2\", \"Topic2\", \"Topic2\", \"Topic2\", \"Topic2\", \"Topic2\", \"Topic2\", \"Topic2\", \"Topic2\", \"Topic2\", \"Topic2\", \"Topic2\", \"Topic2\", \"Topic2\", \"Topic2\", \"Topic2\", \"Topic2\", \"Topic2\", \"Topic2\", \"Topic2\", \"Topic2\", \"Topic2\", \"Topic3\", \"Topic3\", \"Topic3\", \"Topic3\", \"Topic3\", \"Topic3\", \"Topic3\", \"Topic3\", \"Topic3\", \"Topic3\", \"Topic3\", \"Topic3\", \"Topic3\", \"Topic3\", \"Topic3\", \"Topic3\", \"Topic3\", \"Topic3\", \"Topic3\", \"Topic3\", \"Topic3\", \"Topic3\", \"Topic3\", \"Topic3\", \"Topic3\", \"Topic3\", \"Topic3\", \"Topic3\", \"Topic3\", \"Topic3\", \"Topic3\", \"Topic3\", \"Topic3\", \"Topic3\", \"Topic3\", \"Topic3\", \"Topic3\", \"Topic3\", \"Topic3\", \"Topic3\", \"Topic3\", \"Topic3\", \"Topic3\", \"Topic3\", \"Topic3\", \"Topic3\", \"Topic3\", \"Topic3\", \"Topic3\", \"Topic3\", \"Topic3\", \"Topic3\", \"Topic3\", \"Topic3\", \"Topic3\", \"Topic3\", \"Topic4\", \"Topic4\", \"Topic4\", \"Topic4\", \"Topic4\", \"Topic4\", \"Topic4\", \"Topic4\", \"Topic4\", \"Topic4\", \"Topic4\", \"Topic4\", \"Topic4\", \"Topic4\", \"Topic4\", \"Topic4\", \"Topic4\", \"Topic4\", \"Topic4\", \"Topic4\", \"Topic4\", \"Topic4\", \"Topic4\", \"Topic4\", \"Topic4\", \"Topic4\", \"Topic4\", \"Topic4\", \"Topic4\", \"Topic4\", \"Topic4\", \"Topic4\", \"Topic4\", \"Topic4\", \"Topic4\", \"Topic4\", \"Topic4\", \"Topic4\", \"Topic4\", \"Topic4\", \"Topic4\", \"Topic4\", \"Topic4\", \"Topic4\", \"Topic4\", \"Topic4\", \"Topic4\", \"Topic4\", \"Topic4\", \"Topic4\", \"Topic4\", \"Topic4\", \"Topic4\", \"Topic4\", \"Topic4\", \"Topic4\", \"Topic4\", \"Topic4\", \"Topic4\", \"Topic5\", \"Topic5\", \"Topic5\", \"Topic5\", \"Topic5\", \"Topic5\", \"Topic5\", \"Topic5\", \"Topic5\", \"Topic5\", \"Topic5\", \"Topic5\", \"Topic5\", \"Topic5\", \"Topic5\", \"Topic5\", \"Topic5\", \"Topic5\", \"Topic5\", \"Topic5\", \"Topic5\", \"Topic5\", \"Topic5\", \"Topic5\", \"Topic5\", \"Topic5\", \"Topic5\", \"Topic5\", \"Topic5\", \"Topic5\", \"Topic5\", \"Topic5\", \"Topic5\", \"Topic5\", \"Topic5\", \"Topic5\", \"Topic5\", \"Topic5\", \"Topic5\", \"Topic5\", \"Topic5\", \"Topic5\", \"Topic5\", \"Topic5\", \"Topic5\", \"Topic5\", \"Topic5\", \"Topic5\", \"Topic5\", \"Topic5\", \"Topic5\", \"Topic5\", \"Topic5\", \"Topic5\", \"Topic5\", \"Topic5\", \"Topic5\"], \"logprob\": [30.0, 29.0, 28.0, 27.0, 26.0, 25.0, 24.0, 23.0, 22.0, 21.0, 20.0, 19.0, 18.0, 17.0, 16.0, 15.0, 14.0, 13.0, 12.0, 11.0, 10.0, 9.0, 8.0, 7.0, 6.0, 5.0, 4.0, 3.0, 2.0, 1.0, -4.3816, -4.7535, -4.9624, -5.5103, -4.5641, -5.6863, -5.7186, -5.7418, -5.7951, -5.9306, -5.9891, -5.9755, -5.9997, -6.0277, -6.0457, -6.064, -6.1147, -6.1623, -6.1939, -6.1604, -6.3817, -6.3956, -6.4479, -6.4679, -6.5603, -6.5616, -6.5424, -6.5995, -6.6253, -6.6101, -6.3159, -4.6596, -5.7773, -4.2947, -5.2442, -5.1639, -5.572, -3.5791, -5.3908, -5.2086, -5.3346, -5.3643, -5.2759, -5.7274, -5.067, -5.5129, -5.7298, -5.8679, -4.4461, -5.1759, -5.8253, -5.7611, -5.7757, -5.6175, -4.8963, -5.6177, -5.465, -5.7336, -5.7335, -5.0536, -5.0711, -5.2396, -5.3732, -5.3775, -5.4148, -5.5703, -5.6568, -5.6403, -5.667, -5.9274, -6.039, -6.1365, -6.1451, -6.1496, -6.1446, -6.3463, -6.2989, -6.4243, -6.4347, -6.4648, -6.4654, -6.4864, -6.5552, -6.5659, -6.6616, -6.6702, -6.571, -6.6763, -6.7145, -4.9783, -5.6149, -4.9367, -5.1293, -6.1427, -5.8744, -4.4484, -5.1253, -5.9329, -5.3002, -4.43, -5.3375, -4.2841, -4.7227, -4.8955, -5.1992, -5.2723, -5.1518, -5.4779, -5.5901, -5.6145, -5.4719, -5.2924, -4.153, -5.2599, -5.0063, -5.4253, -5.4342, -5.4548, -5.2101, -5.2357, -5.3491, -4.8242, -4.9591, -5.0151, -5.3376, -5.3652, -5.4925, -5.5772, -5.6223, -5.7244, -5.7483, -5.7956, -5.8164, -6.0035, -6.2053, -6.2152, -6.1982, -6.291, -6.3065, -6.3336, -6.3352, -6.359, -6.3696, -6.4333, -6.4316, -6.4481, -6.4562, -6.502, -6.5022, -6.53, -6.5339, -5.2963, -5.1526, -6.044, -5.9553, -4.7814, -4.9335, -4.7402, -5.0572, -5.0955, -5.5968, -4.4058, -5.3246, -5.25, -5.2472, -4.2131, -5.4764, -5.5131, -5.8122, -4.4438, -4.7758, -5.5804, -4.3071, -5.1168, -5.6294, -5.507, -5.6268, -4.2176, -4.8954, -4.9172, -5.2088, -5.3252, -5.3872, -5.4353, -5.5089, -5.5264, -5.6569, -5.717, -5.6194, -5.8309, -5.9855, -6.0388, -6.1508, -6.1733, -6.2795, -6.3178, -6.3163, -6.2519, -6.2453, -6.3095, -6.3821, -6.5512, -6.5422, -6.5498, -6.6218, -6.6201, -6.6853, -5.4141, -4.3034, -5.2671, -4.0014, -4.5399, -5.5854, -5.8393, -5.6696, -5.9152, -5.4344, -4.6113, -4.0558, -5.4956, -3.8917, -4.7519, -5.0139, -5.4255, -5.5507, -4.9684, -5.275, -4.9159, -5.1503, -5.0742, -5.3616, -4.9597, -5.4395, -5.1991, -5.3641, -5.436, -3.2776, -4.1452, -4.9163, -5.0525, -5.0159, -5.2727, -5.4285, -5.5419, -5.5682, -5.7619, -5.7797, -5.7993, -5.8663, -5.9335, -6.0188, -6.0329, -6.0603, -6.1626, -6.2108, -6.2367, -6.2652, -6.2639, -6.2997, -6.3102, -6.3794, -6.2149, -6.4545, -6.5746, -6.6438, -6.6505, -5.3752, -5.7621, -4.595, -5.909, -5.7651, -4.4964, -5.1696, -5.8398, -5.3996, -5.1998, -5.8206, -4.8874, -5.0311, -5.446, -4.8355, -4.2399, -5.5222, -5.3887, -5.0018, -5.3373, -5.5825, -5.2925, -5.4329, -5.4662, -5.6542, -5.4478, -5.59], \"loglift\": [30.0, 29.0, 28.0, 27.0, 26.0, 25.0, 24.0, 23.0, 22.0, 21.0, 20.0, 19.0, 18.0, 17.0, 16.0, 15.0, 14.0, 13.0, 12.0, 11.0, 10.0, 9.0, 8.0, 7.0, 6.0, 5.0, 4.0, 3.0, 2.0, 1.0, 1.2822, 1.2818, 1.2815, 1.2804, 1.28, 1.2798, 1.2797, 1.2797, 1.2795, 1.2789, 1.2787, 1.2786, 1.2786, 1.2785, 1.2785, 1.2782, 1.2781, 1.2779, 1.2777, 1.2772, 1.2766, 1.2764, 1.2761, 1.276, 1.2753, 1.2752, 1.2751, 1.275, 1.2748, 1.2746, 1.272, 1.2531, 1.2591, 1.1987, 1.2139, 1.2084, 1.2255, 1.0364, 1.1683, 1.1232, 1.1391, 1.1327, 1.0903, 1.1648, 0.9794, 1.0957, 1.1293, 1.1908, 0.3395, 0.654, 1.1524, 1.0849, 1.0962, 0.91, -0.4208, 0.4374, -0.4082, 0.8751, 0.5306, 1.4512, 1.4511, 1.4508, 1.4504, 1.4504, 1.4503, 1.4498, 1.4495, 1.4495, 1.4494, 1.4483, 1.4477, 1.4471, 1.447, 1.447, 1.4468, 1.4456, 1.4455, 1.4451, 1.445, 1.4447, 1.4444, 1.4443, 1.4437, 1.4437, 1.4429, 1.4428, 1.4428, 1.4427, 1.4422, 1.4154, 1.4274, 1.4043, 1.4007, 1.429, 1.4163, 1.3567, 1.3843, 1.414, 1.3516, 1.2652, 1.3413, 1.2277, 1.2582, 1.1851, 1.2248, 1.235, 1.1948, 1.2777, 1.296, 1.2701, 1.1802, 1.0575, 0.3225, 1.0221, 0.7235, 1.1181, 1.0132, 0.7109, -0.4245, -0.6202, -0.2923, 1.6162, 1.6159, 1.6158, 1.6149, 1.6149, 1.6144, 1.614, 1.6139, 1.6134, 1.6133, 1.6131, 1.613, 1.612, 1.6107, 1.6105, 1.6105, 1.6099, 1.6097, 1.6096, 1.6096, 1.6094, 1.6093, 1.6088, 1.6086, 1.6085, 1.6084, 1.6081, 1.608, 1.6078, 1.6078, 1.5935, 1.5741, 1.5924, 1.5882, 1.5034, 1.507, 1.4909, 1.4747, 1.444, 1.5094, 1.2805, 1.3912, 1.3549, 1.3465, 0.9368, 1.3573, 1.354, 1.4548, 0.613, 0.6355, 1.2723, 0.1684, 0.59, 0.9517, 0.2163, 0.5371, 1.7987, 1.7975, 1.7971, 1.7966, 1.7962, 1.7959, 1.7956, 1.7955, 1.7954, 1.7947, 1.7942, 1.7941, 1.7937, 1.7925, 1.7922, 1.7914, 1.791, 1.7902, 1.7898, 1.7897, 1.7895, 1.7895, 1.7891, 1.789, 1.7872, 1.7871, 1.787, 1.7862, 1.7861, 1.7853, 1.7649, 1.7214, 1.7446, 1.6935, 1.6102, 1.6998, 1.7163, 1.6837, 1.7094, 1.6059, 1.325, 1.094, 1.5193, 0.8939, 1.0372, 1.1517, 1.3059, 1.3674, 0.7549, 1.0605, 0.1409, 0.536, 0.3372, 0.9968, -0.4843, 0.8998, -0.5836, 0.3255, 0.8387, 2.0752, 2.0743, 2.0724, 2.072, 2.0717, 2.071, 2.0703, 2.0696, 2.0694, 2.068, 2.0678, 2.0678, 2.0667, 2.0664, 2.0657, 2.0655, 2.0654, 2.0642, 2.0635, 2.0633, 2.063, 2.0628, 2.0625, 2.0615, 2.0614, 2.0609, 2.0601, 2.0582, 2.0571, 2.057, 2.0544, 2.0564, 2.0287, 2.0222, 2.0029, 1.8656, 1.7979, 1.9478, 1.7648, 1.6851, 1.9035, 1.3849, 1.4042, 1.6159, 1.1009, 0.2356, 1.5044, 1.2966, 0.6877, 1.1154, 1.448, 0.5845, 0.9161, 0.2406, 1.2813, -0.391, 0.7334]}, \"token.table\": {\"Topic\": [5, 5, 5, 1, 3, 4, 5, 2, 4, 2, 4, 5, 4, 2, 2, 1, 1, 3, 3, 1, 2, 3, 5, 5, 5, 1, 5, 3, 1, 4, 2, 2, 2, 1, 3, 2, 1, 2, 3, 4, 5, 4, 1, 3, 4, 5, 4, 1, 1, 2, 5, 4, 1, 2, 4, 1, 4, 5, 1, 2, 3, 3, 2, 4, 5, 5, 5, 1, 2, 3, 1, 5, 3, 3, 1, 2, 3, 4, 5, 1, 5, 3, 1, 5, 2, 4, 2, 5, 4, 5, 5, 3, 3, 5, 1, 2, 4, 5, 2, 4, 4, 1, 4, 2, 4, 4, 1, 5, 1, 5, 1, 2, 3, 4, 5, 3, 5, 2, 4, 1, 3, 1, 2, 3, 4, 5, 2, 1, 2, 3, 5, 2, 3, 4, 1, 2, 4, 1, 2, 3, 4, 5, 5, 2, 4, 5, 2, 1, 2, 1, 1, 2, 1, 1, 2, 3, 1, 3, 4, 5, 2, 3, 2, 3, 5, 4, 1, 2, 4, 5, 5, 3, 2, 4, 3, 4, 2, 3, 4, 5, 1, 3, 4, 3, 4, 4, 4, 5, 4, 2, 3, 4, 1, 2, 2, 4, 5, 1, 2, 3, 4, 5, 2, 1, 2, 4, 1, 2, 1, 2, 4, 5, 1, 2, 4, 3, 1, 2, 2, 1, 3, 4, 1, 2, 3, 4, 1, 1, 4, 1, 2, 1, 3, 4, 3, 5, 1, 1, 3, 1, 2, 3, 4, 5, 3, 5, 1, 5, 2, 3, 4, 5, 3, 1, 2, 1, 3, 4, 5, 1, 2, 3, 4, 5, 2, 4, 3, 1, 2, 3, 4, 5, 1, 2, 1, 2, 3, 4, 5, 4, 5, 1, 2, 3, 4, 5, 4, 5, 1, 4, 1, 2, 4, 5, 4, 5, 1, 2, 3, 4, 2, 4, 5, 3, 1, 2, 3, 4, 5, 1, 3, 5, 4, 5, 5, 1, 2, 3, 4, 5, 1, 2, 4, 5, 2, 5, 3, 3, 4, 2, 1, 1, 1, 1, 2, 3, 4, 5, 4, 1, 2, 3, 4, 2, 3, 4, 4, 1, 5, 1, 2, 1, 3, 5, 2, 4, 4, 5, 1, 5, 3, 5, 2, 2, 1, 4, 5, 4, 1, 2, 1, 3, 4, 5, 1, 2, 5, 1, 2, 3, 4, 5, 4, 1, 2, 3, 4, 3, 4, 5, 3, 1, 3, 4, 5, 3, 2, 3, 4, 5, 1, 3, 5, 1, 4, 5, 4, 5, 2, 3, 2, 3, 1, 1, 1, 2, 3, 1, 1, 2, 3, 4, 5, 1, 2, 4, 1, 2, 2, 2, 1, 3, 4, 5, 1, 3, 4, 1, 5, 2, 4, 3, 5, 2, 4, 4, 5, 4, 5, 2, 2, 3, 4, 1, 3, 4, 2, 3, 3, 3, 5, 1, 2, 4, 2, 3, 1, 2, 1, 2, 3, 4, 2, 4, 4, 1, 5, 1, 2, 3, 4, 5, 1, 2, 1, 4, 5, 2, 4, 3, 4, 4, 2, 1, 5, 1, 3, 1, 2, 3, 4, 5, 1, 2, 3, 4, 5, 1, 3, 5, 3, 4, 5, 1, 2, 3, 4, 5, 4, 1, 2, 3, 4, 5, 5, 5], \"Freq\": [0.9866180660783199, 0.9951150998664662, 0.9978288227548308, 0.8610878667617099, 0.007851865046459362, 0.06804949706931446, 0.0628149203716749, 0.99311010228898, 0.9985499480849425, 0.8373085412060269, 0.15932591674770552, 0.9747163793203691, 0.9926432337282103, 0.9880109215848603, 0.9890830944262717, 0.9934161120005452, 0.9935858732024749, 0.9914907707803557, 0.9895900965605651, 0.11091549592879285, 0.8232741740066737, 0.04530351242161961, 0.02030847108555362, 0.9871810342765818, 0.9974814156189584, 0.11417167726495235, 0.8753161923646348, 0.995713778195441, 0.0525472434116053, 0.9458503814088954, 0.997109249257612, 0.9908395367507852, 0.9872426893146474, 0.9973617622357951, 0.0027250321372562706, 0.9937757016819625, 0.9882164988376071, 0.10130998614488917, 0.05525999244266682, 0.2118299710302228, 0.6308849137204462, 0.9868303400079974, 0.6880756579434357, 0.19967685759927153, 0.03238003096204403, 0.08095007740511008, 0.9971459727325578, 0.9918637677335637, 0.8244810171751291, 0.14698268829863026, 0.027559254055993174, 0.9886279948914203, 0.1322249060315117, 0.8039274286715912, 0.06082345677449538, 0.9900408796118803, 0.9680601628590385, 0.0310607538885253, 0.857187434744554, 0.09398985030093794, 0.04511512814445021, 0.9883840587898782, 0.9330244944674013, 0.05301275536746598, 0.013253188841866496, 0.9842240064772501, 0.98033011359209, 0.8281141987335054, 0.13753133335856804, 0.032188184403069114, 0.04393321878212606, 0.9445642038157103, 0.9970618515683427, 0.9886074291255633, 0.17183303566740765, 0.014942003101513708, 0.7060096465465227, 0.0410905085291627, 0.06350351318143325, 0.9958750256725806, 0.9969114069683563, 0.997491386949991, 0.6643582399763448, 0.33364246412908943, 0.9969099176982463, 0.9867554431776799, 0.8536340293977199, 0.14291610446930153, 0.04456322863052633, 0.9536530926932634, 0.9950343793437589, 0.9991913992499151, 0.9970589154925174, 0.9925490811724657, 0.9963544153109531, 0.8288142058661058, 0.14439680923729603, 0.027001029369575682, 0.4754144459855081, 0.5223921580394121, 0.9978413571751719, 0.9948496792079002, 0.9957853821315799, 0.6450943137835715, 0.35368105234466085, 0.9980681879444345, 0.989601302581901, 0.007792136240802371, 0.8301541590094872, 0.16755405044228183, 0.5333054596286639, 0.30493788245769954, 0.1141837885854822, 0.02686677378481934, 0.020150080338614505, 0.9964925819622135, 0.9971794066409289, 0.7155853173740405, 0.2823957382740466, 0.022360657228625205, 0.9689618132404255, 0.2787688777645326, 0.1802142240093948, 0.19710930751027556, 0.11967350813123873, 0.2252677800117435, 0.9939201873463984, 0.03856434972675472, 0.8329899540979019, 0.08869800437153584, 0.03856434972675472, 0.9613549535496421, 0.036739679753489504, 0.9959226991368705, 0.9981943515270386, 0.9926341715205447, 0.9965773968638515, 0.1400812654448197, 0.22162110652464012, 0.07317678045624909, 0.06272295467678494, 0.5017836374142796, 0.9906234478364982, 0.9972067033795888, 0.9948360478243229, 0.9889550891772906, 0.9929821262411767, 0.23839778244108484, 0.7610390747157708, 0.9947586241696946, 0.9979355985479471, 0.985962240732744, 0.9922553603143447, 0.07621295437607542, 0.03175539765669809, 0.8912681608979931, 0.12638566596264342, 0.30964488160847636, 0.10110853277011472, 0.45814803911458235, 0.9735898811122914, 0.022998186168006883, 0.988787514783683, 0.9961199633594859, 0.9888405833991019, 0.9912700224781272, 0.2385553418993541, 0.6502216398672661, 0.09077769647497545, 0.021111092203482663, 0.9994791546555869, 0.985807837475208, 0.9079962612661748, 0.09171679406729039, 0.9942047957067158, 0.9941475780438855, 0.15393894755266171, 0.7696947377633085, 0.04398255644361763, 0.029321704295745085, 0.9893949359876234, 0.9909371479474238, 0.9975436878606743, 0.5062847251187809, 0.4933554109020378, 0.9839493173517536, 0.994256931427519, 0.9786437466163277, 0.9936177922591622, 0.016465795404085135, 0.9583092925177549, 0.026345272646536216, 0.919168500265908, 0.08059515033646793, 0.9985539983309668, 0.9883209947274425, 0.9858678276013111, 0.42901429052832446, 0.04542504252652847, 0.23890207550989045, 0.2624558012643867, 0.021871316772032225, 0.9879747384998526, 0.06907746316209425, 0.023025821054031413, 0.903763476370733, 0.9936085535474821, 0.9903464138516991, 0.11624930487938256, 0.4180503848547027, 0.406872567077839, 0.05812465243969128, 0.11974941428618119, 0.6733080274958867, 0.20786690781752207, 0.9988743170721665, 0.03472985008774277, 0.9608591857608832, 0.9910489368788796, 0.08664181035174016, 0.8952987069679818, 0.014440301725290027, 0.8668860900177504, 0.053700908231188074, 0.010228744424988206, 0.06904402486867038, 0.9927011380907496, 0.9977808260635825, 0.9795271869557426, 0.8520685985552766, 0.14644929037668816, 0.9339799377819727, 0.04783185665190696, 0.017622262977018355, 0.9951653084271913, 0.9723031774776131, 0.9949595982932213, 0.024537070777477132, 0.973303807506593, 0.21784553635238119, 0.27042894167881804, 0.10015886728845112, 0.02754368850432406, 0.3831076673783255, 0.06530310568387465, 0.9329015097696378, 0.9438067608155171, 0.05302285173120882, 0.01785589394774601, 0.09820741671260307, 0.03571178789549202, 0.8392270155440625, 0.9920451963571119, 0.048697131294915194, 0.9495940602508463, 0.3476568989015419, 0.3300540179445018, 0.061610083349640334, 0.2618428542359714, 0.019117212803041694, 0.08466194241347036, 0.8411573633338345, 0.05735163840912508, 0.0027310304004345277, 0.7645675897889374, 0.23472052417899658, 0.9988988060935668, 0.2352968773053461, 0.039880826661923066, 0.051845074660499986, 0.650057474589346, 0.02392849599715384, 0.9704087875519226, 0.029185226693290905, 0.02883030124788749, 0.09802302424281747, 0.7611199529442297, 0.03459636149746499, 0.07495878324450747, 0.9969511144694824, 0.9921961879474593, 0.14219177925678822, 0.4824797979909823, 0.14948366537252095, 0.1908043533616731, 0.034028801873419404, 0.23880418909857531, 0.7583080390674058, 0.8761559967973392, 0.11851385463925361, 0.7812523261090719, 0.12562250266684924, 0.0921231686223561, 0.00039880159576777534, 0.8989407306375189, 0.1009254606198781, 0.2932530151739072, 0.19075681569564837, 0.5124809973912942, 0.0028471166521738564, 0.17021197501380386, 0.8270081829475036, 0.00185013016319352, 0.9916863180153521, 0.24099403481621193, 0.3206268463206993, 0.025147203632996027, 0.38139925510043976, 0.033529604843994705, 0.12243955474914228, 0.14284614720733266, 0.7346373284948537, 0.9902070046377593, 0.9972101084992673, 0.9873123963554278, 0.11672929786311063, 0.2754811429569411, 0.1295695206280528, 0.22878942381169687, 0.24980069742705677, 0.3724421766976095, 0.22120808070524683, 0.09028901253275382, 0.31375431855131947, 0.9984335479839085, 0.99082446091883, 0.9850763175316832, 0.8479428586450447, 0.14697676216514108, 0.9932037804577492, 0.9948257197878513, 0.9988270334911084, 0.9937089747605795, 0.3890532474182325, 0.15269039965502929, 0.0363998785555333, 0.40418046967507754, 0.01749085073447704, 0.998628453986313, 0.7388708493803328, 0.17012376215980574, 0.03002184038114219, 0.06004368076228438, 0.003490851967091302, 0.7132974186089893, 0.28275900933439546, 0.9890337591389441, 0.9784732908640466, 0.0224420479555974, 0.8912502926413481, 0.1058359722511601, 0.9980156404341487, 0.9953937328589295, 0.9903064054514772, 0.9630852446180276, 0.03540754575801572, 0.8247128581182585, 0.17575847795962887, 0.8898779036686505, 0.10880603188961666, 0.01995316624127384, 0.9777051458224181, 0.9943280958710454, 0.9980216474092178, 0.44988039531066776, 0.47660596334892524, 0.07126818143535331, 0.9933634479783567, 0.9901562726139272, 0.9900866756479957, 0.24153499696290878, 0.06948267035919294, 0.6088005402900715, 0.07940876612479193, 0.1036008771201696, 0.8947348478560102, 0.9881879861091856, 0.1144311263179884, 0.26075289439672766, 0.33954153874681803, 0.10129968559297334, 0.18384017015021087, 0.9895134691587666, 0.4707154205709704, 0.32348724937916906, 0.03939908806541162, 0.1658908971175226, 0.9907174231018583, 0.009812711682458026, 0.9812711682458026, 0.993279025892836, 0.4220229769038171, 0.07710035154973582, 0.04463704563405758, 0.45042836958003557, 0.9966513367391097, 0.7983564662226446, 0.04788184436341442, 0.10553549369895424, 0.04788184436341442, 0.07200603928188898, 0.7693276828538664, 0.15917124472838615, 0.8200410690983229, 0.02968474458274472, 0.15213431598656668, 0.7555986287998587, 0.24161584060460597, 0.9753850343498357, 0.022578357276616567, 0.023260944180694992, 0.9769596555891897, 0.9960160733056521, 0.9970632186420072, 0.20196415835583614, 0.79569011785974, 0.9852906077509894, 0.9909977148955906, 0.07556257166785565, 0.11556628608024984, 0.16001485764957668, 0.08445228598172103, 0.5644968589304511, 0.2488712061809023, 0.2849768733988571, 0.4667946976035577, 0.09471961009142918, 0.9044195028084852, 0.9911479687951764, 0.993676632931867, 0.05659972878472513, 0.019686862185991347, 0.4134241059058183, 0.511858416835775, 0.08163025666261221, 0.8954591791474431, 0.02226279727162151, 0.9956802678041337, 0.9948630548370712, 0.9517535857447448, 0.04702782423679915, 0.9939984568723086, 0.9801995662695028, 0.7723979502853859, 0.22744079585662969, 0.32020660394049233, 0.6751344058986284, 0.8874243227057477, 0.10476537143053966, 0.9957607835827808, 0.030175355005981737, 0.0452630325089726, 0.920348327682443, 0.019545170222570466, 0.7980944507549608, 0.18242158874399103, 0.9964324303249327, 0.9909135564982134, 0.9911425351443303, 0.18751772960893018, 0.8095277595312351, 0.056579774137254485, 0.032331299507002566, 0.9133592110728224, 0.9929162694907699, 0.9893569302794041, 0.9288389063322297, 0.07162688083656497, 0.09429003234951303, 0.020061709010534685, 0.8807090255624728, 0.006018512703160406, 0.07507925077927638, 0.9238012161102268, 0.9876740066161511, 0.9916214329165586, 0.984636245053895, 0.18414293283945912, 0.17422277484137377, 0.3658058261793969, 0.19034303158826246, 0.08494135285860573, 0.9979600225610217, 0.9983819816035918, 0.9934487816458172, 0.6215481096013779, 0.3765147202392962, 0.55144843934947, 0.44890637418118007, 0.9976055160818551, 0.9965141417437545, 0.9812424326895152, 0.9978562626118354, 0.9133576165922017, 0.08720499856910469, 0.13280674931287695, 0.8673093832677679, 0.2559561149876891, 0.12677071732880826, 0.24629739366739895, 0.3513359880255544, 0.019317442640580308, 0.21970692178392942, 0.20426805700992356, 0.35746909976736624, 0.059380249130791735, 0.15913906767052186, 0.0962102952817348, 0.7696823622538784, 0.13411132069575155, 0.4596223403153986, 0.004462352818596103, 0.5354823382315324, 0.15821008091019467, 0.15732622570957908, 0.3747546050610198, 0.23157006256129054, 0.07777925765417391, 0.9908051843833072, 0.1820060991004445, 0.3227574824047882, 0.23470119826857316, 0.1019234154962489, 0.15877865407238775, 0.9898745098267603, 0.9896454163532252], \"Term\": [\"academy\", \"actor\", \"actress\", \"age\", \"age\", \"age\", \"age\", \"airline\", \"album\", \"analyst\", \"analyst\", \"angele\", \"apple\", \"approval\", \"argonaut\", \"argument\", \"asylum\", \"athlete\", \"athletic\", \"attack\", \"attack\", \"attack\", \"attack\", \"aviator\", \"award\", \"baby\", \"baby\", \"ball\", \"band\", \"band\", \"bank\", \"bankruptcy\", \"beijing\", \"blair\", \"blair\", \"blog\", \"blunkett\", \"box\", \"box\", \"box\", \"box\", \"brit\", \"britain\", \"britain\", \"britain\", \"britain\", \"broadband\", \"brown\", \"budget\", \"budget\", \"budget\", \"bunte\", \"business\", \"business\", \"business\", \"cabinet\", \"camera\", \"camera\", \"campaign\", \"campaign\", \"campaign\", \"captain\", \"car\", \"car\", \"car\", \"carpet\", \"carrey\", \"case\", \"case\", \"case\", \"ceremony\", \"ceremony\", \"champion\", \"championship\", \"chance\", \"chance\", \"chance\", \"chance\", \"chance\", \"chancellor\", \"chart\", \"chelsea\", \"child\", \"child\", \"china\", \"chip\", \"christmas\", \"christmas\", \"cinema\", \"cinema\", \"clooney\", \"club\", \"coach\", \"comedy\", \"common\", \"company\", \"company\", \"company\", \"computer\", \"computer\", \"concert\", \"conservative\", \"console\", \"consumer\", \"consumer\", \"content\", \"cook\", \"cook\", \"council\", \"council\", \"country\", \"country\", \"country\", \"country\", \"country\", \"cup\", \"dance\", \"datum\", \"datum\", \"davy\", \"davy\", \"day\", \"day\", \"day\", \"day\", \"day\", \"ddo\", \"december\", \"december\", \"december\", \"december\", \"deficit\", \"deficit\", \"definition\", \"dem\", \"deutsche\", \"device\", \"director\", \"director\", \"director\", \"director\", \"director\", \"documentary\", \"domain\", \"download\", \"drama\", \"economist\", \"economy\", \"economy\", \"education\", \"election\", \"email\", \"employer\", \"england\", \"england\", \"england\", \"event\", \"event\", \"event\", \"event\", \"exchange\", \"exchange\", \"export\", \"ferguson\", \"festival\", \"fi\", \"figure\", \"figure\", \"figure\", \"figure\", \"film\", \"final\", \"firm\", \"firm\", \"football\", \"format\", \"france\", \"france\", \"france\", \"france\", \"fraud\", \"friendly\", \"gadget\", \"game\", \"game\", \"gamer\", \"gaming\", \"gere\", \"gig\", \"goal\", \"goal\", \"goal\", \"government\", \"government\", \"growth\", \"handset\", \"hollywood\", \"home\", \"home\", \"home\", \"home\", \"home\", \"icann\", \"image\", \"image\", \"image\", \"immigration\", \"india\", \"industry\", \"industry\", \"industry\", \"industry\", \"information\", \"information\", \"information\", \"injury\", \"investment\", \"investment\", \"investor\", \"ireland\", \"ireland\", \"ireland\", \"issue\", \"issue\", \"issue\", \"issue\", \"kennedy\", \"labour\", \"laptop\", \"law\", \"law\", \"leader\", \"leader\", \"leader\", \"league\", \"lemony\", \"lib\", \"liverpool\", \"liverpool\", \"london\", \"london\", \"london\", \"london\", \"london\", \"lopez\", \"lopez\", \"lord\", \"lord\", \"love\", \"love\", \"love\", \"love\", \"madrid\", \"mail\", \"mail\", \"man\", \"man\", \"man\", \"man\", \"manager\", \"manager\", \"manager\", \"manager\", \"manager\", \"market\", \"market\", \"match\", \"medium\", \"medium\", \"medium\", \"medium\", \"medium\", \"minister\", \"minister\", \"minute\", \"minute\", \"minute\", \"minute\", \"minute\", \"mobile\", \"monster\", \"month\", \"month\", \"month\", \"month\", \"month\", \"movie\", \"movie\", \"mp\", \"mp\", \"mr\", \"mr\", \"mr\", \"mr\", \"music\", \"music\", \"nation\", \"nation\", \"nation\", \"nation\", \"network\", \"network\", \"network\", \"newcastle\", \"news\", \"news\", \"news\", \"news\", \"news\", \"night\", \"night\", \"night\", \"nintendo\", \"nomination\", \"nominee\", \"number\", \"number\", \"number\", \"number\", \"number\", \"office\", \"office\", \"office\", \"office\", \"oil\", \"oscar\", \"osprey\", \"park\", \"park\", \"parking\", \"parliament\", \"party\", \"pension\", \"people\", \"people\", \"people\", \"people\", \"people\", \"phone\", \"plan\", \"plan\", \"plan\", \"plan\", \"player\", \"player\", \"player\", \"playstation\", \"police\", \"police\", \"policy\", \"policy\", \"politic\", \"premiership\", \"presenter\", \"price\", \"price\", \"print\", \"print\", \"prisoner\", \"prisoner\", \"prize\", \"prize\", \"profit\", \"program\", \"programme\", \"programme\", \"programme\", \"projector\", \"pupil\", \"purchase\", \"radio\", \"radio\", \"radio\", \"radio\", \"rate\", \"rate\", \"ray\", \"record\", \"record\", \"record\", \"record\", \"record\", \"rem\", \"report\", \"report\", \"report\", \"report\", \"robinson\", \"rock\", \"rock\", \"roddick\", \"role\", \"role\", \"role\", \"role\", \"rugby\", \"sale\", \"sale\", \"sale\", \"sale\", \"saturday\", \"saturday\", \"saturday\", \"school\", \"school\", \"school\", \"screen\", \"screen\", \"search\", \"search\", \"season\", \"season\", \"seat\", \"secretary\", \"security\", \"security\", \"seed\", \"sentence\", \"series\", \"series\", \"series\", \"series\", \"series\", \"service\", \"service\", \"service\", \"share\", \"share\", \"shareholder\", \"shopper\", \"show\", \"show\", \"show\", \"show\", \"side\", \"side\", \"side\", \"silk\", \"singer\", \"site\", \"site\", \"slam\", \"snicket\", \"software\", \"software\", \"song\", \"song\", \"sony\", \"sony\", \"spam\", \"speed\", \"speed\", \"speed\", \"sport\", \"sport\", \"sport\", \"spyware\", \"squad\", \"stadium\", \"star\", \"star\", \"station\", \"station\", \"station\", \"stock\", \"striker\", \"tax\", \"tax\", \"team\", \"team\", \"team\", \"team\", \"technology\", \"technology\", \"telekom\", \"terror\", \"theatre\", \"time\", \"time\", \"time\", \"time\", \"time\", \"tory\", \"traffic\", \"trust\", \"tv\", \"tv\", \"user\", \"user\", \"victory\", \"video\", \"villager\", \"virus\", \"vote\", \"vote\", \"wale\", \"wale\", \"way\", \"way\", \"way\", \"way\", \"way\", \"week\", \"week\", \"week\", \"week\", \"week\", \"win\", \"win\", \"win\", \"winner\", \"winner\", \"winner\", \"world\", \"world\", \"world\", \"world\", \"world\", \"xbox\", \"year\", \"year\", \"year\", \"year\", \"year\", \"yukos\", \"zoe\"]}, \"R\": 30, \"lambda.step\": 0.01, \"plot.opts\": {\"xlab\": \"PC1\", \"ylab\": \"PC2\"}, \"topic.order\": [3, 4, 5, 1, 2]};\n",
       "\n",
       "function LDAvis_load_lib(url, callback){\n",
       "  var s = document.createElement('script');\n",
       "  s.src = url;\n",
       "  s.async = true;\n",
       "  s.onreadystatechange = s.onload = callback;\n",
       "  s.onerror = function(){console.warn(\"failed to load library \" + url);};\n",
       "  document.getElementsByTagName(\"head\")[0].appendChild(s);\n",
       "}\n",
       "\n",
       "if(typeof(LDAvis) !== \"undefined\"){\n",
       "   // already loaded: just create the visualization\n",
       "   !function(LDAvis){\n",
       "       new LDAvis(\"#\" + \"ldavis_el151141405307351825603571758678\", ldavis_el151141405307351825603571758678_data);\n",
       "   }(LDAvis);\n",
       "}else if(typeof define === \"function\" && define.amd){\n",
       "   // require.js is available: use it to load d3/LDAvis\n",
       "   require.config({paths: {d3: \"https://d3js.org/d3.v5\"}});\n",
       "   require([\"d3\"], function(d3){\n",
       "      window.d3 = d3;\n",
       "      LDAvis_load_lib(\"https://cdn.jsdelivr.net/gh/bmabey/pyLDAvis@3.3.1/pyLDAvis/js/ldavis.v3.0.0.js\", function(){\n",
       "        new LDAvis(\"#\" + \"ldavis_el151141405307351825603571758678\", ldavis_el151141405307351825603571758678_data);\n",
       "      });\n",
       "    });\n",
       "}else{\n",
       "    // require.js not available: dynamically load d3 & LDAvis\n",
       "    LDAvis_load_lib(\"https://d3js.org/d3.v5.js\", function(){\n",
       "         LDAvis_load_lib(\"https://cdn.jsdelivr.net/gh/bmabey/pyLDAvis@3.3.1/pyLDAvis/js/ldavis.v3.0.0.js\", function(){\n",
       "                 new LDAvis(\"#\" + \"ldavis_el151141405307351825603571758678\", ldavis_el151141405307351825603571758678_data);\n",
       "            })\n",
       "         });\n",
       "}\n",
       "</script>"
      ],
      "text/plain": [
       "PreparedData(topic_coordinates=              x         y  topics  cluster       Freq\n",
       "topic                                                \n",
       "2      0.106891 -0.105553       1        1  27.718267\n",
       "3      0.204739  0.039519       2        1  23.379416\n",
       "4     -0.121201 -0.212828       3        1  19.827703\n",
       "0      0.046954  0.153316       4        1  16.529671\n",
       "1     -0.237383  0.125545       5        1  12.544943, topic_info=       Term         Freq        Total Category  logprob  loglift\n",
       "353    film  1199.000000  1199.000000  Default  30.0000  30.0000\n",
       "198    game  1469.000000  1469.000000  Default  29.0000  29.0000\n",
       "74       mr  2507.000000  2507.000000  Default  28.0000  28.0000\n",
       "626   music   852.000000   852.000000  Default  27.0000  27.0000\n",
       "455   party   879.000000   879.000000  Default  26.0000  26.0000\n",
       "..      ...          ...          ...      ...      ...      ...\n",
       "370  office   138.912454   443.021791   Topic5  -5.4329   0.9161\n",
       "229    week   134.367380   842.030822   Topic5  -5.4662   0.2406\n",
       "730    role   111.334668   246.432080   Topic5  -5.6542   1.2813\n",
       "115    time   136.855401  1612.877537   Topic5  -5.4478  -0.3910\n",
       "207     man   118.712960   454.471062   Topic5  -5.5900   0.7334\n",
       "\n",
       "[323 rows x 6 columns], token_table=      Topic      Freq     Term\n",
       "term                          \n",
       "3200      5  0.986618  academy\n",
       "822       5  0.995115    actor\n",
       "1160      5  0.997829  actress\n",
       "711       1  0.861088      age\n",
       "711       3  0.007852      age\n",
       "...     ...       ...      ...\n",
       "132       3  0.234701     year\n",
       "132       4  0.101923     year\n",
       "132       5  0.158779     year\n",
       "2523      5  0.989875    yukos\n",
       "7329      5  0.989645      zoe\n",
       "\n",
       "[526 rows x 3 columns], R=30, lambda_step=0.01, plot_opts={'xlab': 'PC1', 'ylab': 'PC2'}, topic_order=[3, 4, 5, 1, 2])"
      ]
     },
     "execution_count": 26,
     "metadata": {},
     "output_type": "execute_result"
    }
   ],
   "source": [
    "pyLDAvis.enable_notebook()\n",
    "# LDAvis_prepared = pyLDAvis.gensim.prepare(lda_model_final, corpus, id2word)\n",
    "LDAvis_prepared = pyLDAvis.gensim_models.prepare(lda_model, corpus, id2word)\n",
    "LDAvis_prepared"
   ]
  },
  {
   "cell_type": "markdown",
   "id": "0b39393c-6a85-4204-839e-65d26cf8fb89",
   "metadata": {},
   "source": [
    "### 11. Topic distribution across documents"
   ]
  },
  {
   "cell_type": "code",
   "execution_count": 31,
   "id": "81cf5c9d-c550-470a-a409-20ad1fe2327e",
   "metadata": {},
   "outputs": [
    {
     "name": "stderr",
     "output_type": "stream",
     "text": [
      "/Users/lilakelland/opt/anaconda3/envs/bootcamp_env/lib/python3.8/site-packages/ipykernel/ipkernel.py:287: DeprecationWarning: `should_run_async` will not call `transform_cell` automatically in the future. Please pass the result to `transformed_cell` argument and any exception that happen during thetransform in `preprocessing_exc_tuple` in IPython 7.17 and above.\n",
      "  and should_run_async(code)\n"
     ]
    }
   ],
   "source": [
    "def format_topic_sentences(ldamodel=None, corpus=corpus, texts=data):\n",
    "    sent_topics_df = pd.DataFrame()\n",
    "    \n",
    "    for i, row_list in enumerate(ldamodel[corpus]):\n",
    "        row = row_list[0] if ldamodel.per_word_topics else row_list\n",
    "        row = sorted(row, key=lambda x: (x[1]), reverse=True)\n",
    "        \n",
    "        for j, (topic_num, prop_topic) in enumerate(row):\n",
    "            if j == 0:\n",
    "                wp = ldamodel.show_topic(topic_num)\n",
    "                topic_keywords = \", \".join([word for word, prop in wp])\n",
    "                sent_topics_df = sent_topics_df.append(pd.Series([int(topic_num),\n",
    "                                                                  round(prop_topic, 4),\n",
    "                                                                  topic_keywords]), ignore_index=True)\n",
    "            else:\n",
    "                break\n",
    "    \n",
    "    sent_topics_df.columns = ['Dominant_Topic', 'Perc_Contribution', 'Topic_Keywords']\n",
    "    \n",
    "#     add original text to end of output\n",
    "    contents = pd.Series(texts)\n",
    "    sent_topics_df = pd.concat([sent_topics_df, contents], axis=1)\n",
    "    return(sent_topics_df)"
   ]
  },
  {
   "cell_type": "code",
   "execution_count": 32,
   "id": "95d6bd62-9f05-4790-b248-b7934ec88d90",
   "metadata": {},
   "outputs": [
    {
     "name": "stderr",
     "output_type": "stream",
     "text": [
      "/Users/lilakelland/opt/anaconda3/envs/bootcamp_env/lib/python3.8/site-packages/ipykernel/ipkernel.py:287: DeprecationWarning: `should_run_async` will not call `transform_cell` automatically in the future. Please pass the result to `transformed_cell` argument and any exception that happen during thetransform in `preprocessing_exc_tuple` in IPython 7.17 and above.\n",
      "  and should_run_async(code)\n"
     ]
    }
   ],
   "source": [
    "df_topic_sent_keywords = format_topic_sentences(ldamodel= lda_model, corpus=corpus, texts=data)"
   ]
  },
  {
   "cell_type": "code",
   "execution_count": 37,
   "id": "2e7688e0-f2bc-42ee-be1a-ebeef80f3b9f",
   "metadata": {},
   "outputs": [
    {
     "name": "stderr",
     "output_type": "stream",
     "text": [
      "/Users/lilakelland/opt/anaconda3/envs/bootcamp_env/lib/python3.8/site-packages/ipykernel/ipkernel.py:287: DeprecationWarning: `should_run_async` will not call `transform_cell` automatically in the future. Please pass the result to `transformed_cell` argument and any exception that happen during thetransform in `preprocessing_exc_tuple` in IPython 7.17 and above.\n",
      "  and should_run_async(code)\n"
     ]
    },
    {
     "data": {
      "text/html": [
       "<div>\n",
       "<style scoped>\n",
       "    .dataframe tbody tr th:only-of-type {\n",
       "        vertical-align: middle;\n",
       "    }\n",
       "\n",
       "    .dataframe tbody tr th {\n",
       "        vertical-align: top;\n",
       "    }\n",
       "\n",
       "    .dataframe thead th {\n",
       "        text-align: right;\n",
       "    }\n",
       "</style>\n",
       "<table border=\"1\" class=\"dataframe\">\n",
       "  <thead>\n",
       "    <tr style=\"text-align: right;\">\n",
       "      <th></th>\n",
       "      <th>Dominant_Topic</th>\n",
       "      <th>Dum Documents</th>\n",
       "    </tr>\n",
       "  </thead>\n",
       "  <tbody>\n",
       "    <tr>\n",
       "      <th>4</th>\n",
       "      <td>0.0</td>\n",
       "      <td>291</td>\n",
       "    </tr>\n",
       "    <tr>\n",
       "      <th>3</th>\n",
       "      <td>1.0</td>\n",
       "      <td>330</td>\n",
       "    </tr>\n",
       "    <tr>\n",
       "      <th>1</th>\n",
       "      <td>2.0</td>\n",
       "      <td>528</td>\n",
       "    </tr>\n",
       "    <tr>\n",
       "      <th>0</th>\n",
       "      <td>3.0</td>\n",
       "      <td>556</td>\n",
       "    </tr>\n",
       "    <tr>\n",
       "      <th>2</th>\n",
       "      <td>4.0</td>\n",
       "      <td>520</td>\n",
       "    </tr>\n",
       "  </tbody>\n",
       "</table>\n",
       "</div>"
      ],
      "text/plain": [
       "   Dominant_Topic  Dum Documents\n",
       "4             0.0            291\n",
       "3             1.0            330\n",
       "1             2.0            528\n",
       "0             3.0            556\n",
       "2             4.0            520"
      ]
     },
     "execution_count": 37,
     "metadata": {},
     "output_type": "execute_result"
    }
   ],
   "source": [
    "df_topic_distribution = df_topic_sent_keywords['Dominant_Topic'].value_counts().reset_index(name='Num Documents')\n",
    "df_topic_distribution.columns = ['Dominant_Topic', 'Dum Documents']\n",
    "df_topic_distribution.sort_values(\"Dominant_Topic\")\n"
   ]
  },
  {
   "cell_type": "markdown",
   "id": "69aaef0f-be6b-4a3f-9d72-a799582116e9",
   "metadata": {},
   "source": [
    "### 12. Visualize topics-Wordcloud of Top N words in each topic\n",
    "\n",
    "Let's plot a word cloud with the size of the words proportional to the weight of that:"
   ]
  },
  {
   "cell_type": "code",
   "execution_count": 42,
   "id": "2d45c1ce-1068-4883-bf25-1247d4ac0796",
   "metadata": {},
   "outputs": [
    {
     "name": "stderr",
     "output_type": "stream",
     "text": [
      "/Users/lilakelland/opt/anaconda3/envs/bootcamp_env/lib/python3.8/site-packages/ipykernel/ipkernel.py:287: DeprecationWarning: `should_run_async` will not call `transform_cell` automatically in the future. Please pass the result to `transformed_cell` argument and any exception that happen during thetransform in `preprocessing_exc_tuple` in IPython 7.17 and above.\n",
      "  and should_run_async(code)\n"
     ]
    },
    {
     "ename": "ModuleNotFoundError",
     "evalue": "No module named 'wordcloud'",
     "output_type": "error",
     "traceback": [
      "\u001b[0;31m---------------------------------------------------------------------------\u001b[0m",
      "\u001b[0;31mModuleNotFoundError\u001b[0m                       Traceback (most recent call last)",
      "\u001b[0;32m<ipython-input-42-0474e0f2f3ee>\u001b[0m in \u001b[0;36m<module>\u001b[0;34m\u001b[0m\n\u001b[1;32m      1\u001b[0m \u001b[0;31m# Wordcloud of top N words in each topic\u001b[0m\u001b[0;34m\u001b[0m\u001b[0;34m\u001b[0m\u001b[0;34m\u001b[0m\u001b[0m\n\u001b[0;32m----> 2\u001b[0;31m \u001b[0;32mimport\u001b[0m \u001b[0mwordcloud\u001b[0m\u001b[0;34m\u001b[0m\u001b[0;34m\u001b[0m\u001b[0m\n\u001b[0m\u001b[1;32m      3\u001b[0m \u001b[0;32mfrom\u001b[0m \u001b[0mmatplotlib\u001b[0m \u001b[0;32mimport\u001b[0m \u001b[0mpyplot\u001b[0m \u001b[0;32mas\u001b[0m \u001b[0mplt\u001b[0m\u001b[0;34m\u001b[0m\u001b[0;34m\u001b[0m\u001b[0m\n\u001b[1;32m      4\u001b[0m \u001b[0;32mfrom\u001b[0m \u001b[0mwordclout\u001b[0m \u001b[0;32mimport\u001b[0m \u001b[0mWordCloud\u001b[0m\u001b[0;34m,\u001b[0m \u001b[0mSTOPWORDS\u001b[0m\u001b[0;34m\u001b[0m\u001b[0;34m\u001b[0m\u001b[0m\n\u001b[1;32m      5\u001b[0m \u001b[0;32mimport\u001b[0m \u001b[0mmatplotlib\u001b[0m\u001b[0;34m.\u001b[0m\u001b[0mcolors\u001b[0m \u001b[0;32mas\u001b[0m \u001b[0mmcolors\u001b[0m\u001b[0;34m\u001b[0m\u001b[0;34m\u001b[0m\u001b[0m\n",
      "\u001b[0;31mModuleNotFoundError\u001b[0m: No module named 'wordcloud'"
     ]
    }
   ],
   "source": [
    "# Wordcloud of top N words in each topic\n",
    "import wordcloud\n",
    "from matplotlib import pyplot as plt\n",
    "from wordclout import WordCloud, STOPWORDS\n",
    "import matplotlib.colors as mcolors"
   ]
  },
  {
   "cell_type": "code",
   "execution_count": 40,
   "id": "e726388e-17a8-4351-b0f7-7dc4997ef130",
   "metadata": {},
   "outputs": [
    {
     "name": "stderr",
     "output_type": "stream",
     "text": [
      "/Users/lilakelland/opt/anaconda3/envs/bootcamp_env/lib/python3.8/site-packages/ipykernel/ipkernel.py:287: DeprecationWarning: `should_run_async` will not call `transform_cell` automatically in the future. Please pass the result to `transformed_cell` argument and any exception that happen during thetransform in `preprocessing_exc_tuple` in IPython 7.17 and above.\n",
      "  and should_run_async(code)\n"
     ]
    },
    {
     "ename": "ModuleNotFoundError",
     "evalue": "No module named 'wordcloud'",
     "output_type": "error",
     "traceback": [
      "\u001b[0;31m---------------------------------------------------------------------------\u001b[0m",
      "\u001b[0;31mModuleNotFoundError\u001b[0m                       Traceback (most recent call last)",
      "\u001b[0;32m<ipython-input-40-0474e0f2f3ee>\u001b[0m in \u001b[0;36m<module>\u001b[0;34m\u001b[0m\n\u001b[1;32m      1\u001b[0m \u001b[0;31m# Wordcloud of top N words in each topic\u001b[0m\u001b[0;34m\u001b[0m\u001b[0;34m\u001b[0m\u001b[0;34m\u001b[0m\u001b[0m\n\u001b[0;32m----> 2\u001b[0;31m \u001b[0;32mimport\u001b[0m \u001b[0mwordcloud\u001b[0m\u001b[0;34m\u001b[0m\u001b[0;34m\u001b[0m\u001b[0m\n\u001b[0m\u001b[1;32m      3\u001b[0m \u001b[0;32mfrom\u001b[0m \u001b[0mmatplotlib\u001b[0m \u001b[0;32mimport\u001b[0m \u001b[0mpyplot\u001b[0m \u001b[0;32mas\u001b[0m \u001b[0mplt\u001b[0m\u001b[0;34m\u001b[0m\u001b[0;34m\u001b[0m\u001b[0m\n\u001b[1;32m      4\u001b[0m \u001b[0;32mfrom\u001b[0m \u001b[0mwordclout\u001b[0m \u001b[0;32mimport\u001b[0m \u001b[0mWordCloud\u001b[0m\u001b[0;34m,\u001b[0m \u001b[0mSTOPWORDS\u001b[0m\u001b[0;34m\u001b[0m\u001b[0;34m\u001b[0m\u001b[0m\n\u001b[1;32m      5\u001b[0m \u001b[0;32mimport\u001b[0m \u001b[0mmatplotlib\u001b[0m\u001b[0;34m.\u001b[0m\u001b[0mcolors\u001b[0m \u001b[0;32mas\u001b[0m \u001b[0mmcolors\u001b[0m\u001b[0;34m\u001b[0m\u001b[0;34m\u001b[0m\u001b[0m\n",
      "\u001b[0;31mModuleNotFoundError\u001b[0m: No module named 'wordcloud'"
     ]
    }
   ],
   "source": [
    "\n",
    "\n",
    "cols = [color for name, color in mcolors.TABLEAU_COLORS.items()] # more colors mcolors.XKCD_COLORS'\n",
    "\n",
    "cloud = WordCloud(stopwords=stop_words,\n",
    "                  background_color='white',\n",
    "                  width=2500,\n",
    "                  height=2800,\n",
    "                  max_words=15,\n",
    "                  colormap='tab10'\n",
    "                  color_func=lambda *args, **kwargs: cols[i],\n",
    "                  prefer_horizontal=1.0)\n",
    "\n",
    "topics = lda_model.show_topics(formatted=False)\n",
    "topics"
   ]
  },
  {
   "cell_type": "code",
   "execution_count": 45,
   "id": "1d91e56b-a47d-4294-8542-7b2b90886c58",
   "metadata": {},
   "outputs": [
    {
     "name": "stderr",
     "output_type": "stream",
     "text": [
      "/Users/lilakelland/opt/anaconda3/envs/bootcamp_env/lib/python3.8/site-packages/ipykernel/ipkernel.py:287: DeprecationWarning: `should_run_async` will not call `transform_cell` automatically in the future. Please pass the result to `transformed_cell` argument and any exception that happen during thetransform in `preprocessing_exc_tuple` in IPython 7.17 and above.\n",
      "  and should_run_async(code)\n"
     ]
    },
    {
     "ename": "NameError",
     "evalue": "name 'topics' is not defined",
     "output_type": "error",
     "traceback": [
      "\u001b[0;31m---------------------------------------------------------------------------\u001b[0m",
      "\u001b[0;31mNameError\u001b[0m                                 Traceback (most recent call last)",
      "\u001b[0;32m<ipython-input-45-783228f59f57>\u001b[0m in \u001b[0;36m<module>\u001b[0;34m\u001b[0m\n\u001b[1;32m      3\u001b[0m \u001b[0;32mfor\u001b[0m \u001b[0mi\u001b[0m\u001b[0;34m,\u001b[0m \u001b[0max\u001b[0m \u001b[0;32min\u001b[0m \u001b[0menumerate\u001b[0m\u001b[0;34m(\u001b[0m\u001b[0maxes\u001b[0m\u001b[0;34m.\u001b[0m\u001b[0mflatten\u001b[0m\u001b[0;34m(\u001b[0m\u001b[0;34m)\u001b[0m\u001b[0;34m)\u001b[0m\u001b[0;34m:\u001b[0m\u001b[0;34m\u001b[0m\u001b[0;34m\u001b[0m\u001b[0m\n\u001b[1;32m      4\u001b[0m     \u001b[0mfig\u001b[0m\u001b[0;34m.\u001b[0m\u001b[0madd_subplot\u001b[0m\u001b[0;34m(\u001b[0m\u001b[0max\u001b[0m\u001b[0;34m)\u001b[0m\u001b[0;34m\u001b[0m\u001b[0;34m\u001b[0m\u001b[0m\n\u001b[0;32m----> 5\u001b[0;31m     \u001b[0mtopic_words\u001b[0m \u001b[0;34m=\u001b[0m \u001b[0mdict\u001b[0m\u001b[0;34m(\u001b[0m\u001b[0mtopics\u001b[0m\u001b[0;34m[\u001b[0m\u001b[0mi\u001b[0m\u001b[0;34m]\u001b[0m\u001b[0;34m[\u001b[0m\u001b[0;36m1\u001b[0m\u001b[0;34m]\u001b[0m\u001b[0;34m)\u001b[0m\u001b[0;34m\u001b[0m\u001b[0;34m\u001b[0m\u001b[0m\n\u001b[0m\u001b[1;32m      6\u001b[0m     \u001b[0mcloud\u001b[0m\u001b[0;34m.\u001b[0m\u001b[0mgenerate_from_frequencies\u001b[0m\u001b[0;34m(\u001b[0m\u001b[0mtopic_words\u001b[0m\u001b[0;34m,\u001b[0m \u001b[0mmax_font_size\u001b[0m\u001b[0;34m=\u001b[0m\u001b[0;36m300\u001b[0m\u001b[0;34m)\u001b[0m\u001b[0;34m\u001b[0m\u001b[0;34m\u001b[0m\u001b[0m\n\u001b[1;32m      7\u001b[0m     \u001b[0mplt\u001b[0m\u001b[0;34m.\u001b[0m\u001b[0mgca\u001b[0m\u001b[0;34m(\u001b[0m\u001b[0;34m)\u001b[0m\u001b[0;34m.\u001b[0m\u001b[0mimshow\u001b[0m\u001b[0;34m(\u001b[0m\u001b[0mcloud\u001b[0m\u001b[0;34m)\u001b[0m\u001b[0;34m\u001b[0m\u001b[0;34m\u001b[0m\u001b[0m\n",
      "\u001b[0;31mNameError\u001b[0m: name 'topics' is not defined"
     ]
    },
    {
     "data": {
      "image/png": "[encoded data removed]",
      "text/plain": [
       "<Figure size 1440x720 with 6 Axes>"
      ]
     },
     "metadata": {
      "needs_background": "light"
     },
     "output_type": "display_data"
    }
   ],
   "source": [
    "fig, axes = plt.subplots(2,3, figsize=(20,10), sharex=True, sharey=True)\n",
    "\n",
    "for i, ax in enumerate(axes.flatten()):\n",
    "    fig.add_subplot(ax)\n",
    "    topic_words = dict(topics[i][1])\n",
    "    cloud.generate_from_frequencies(topic_words, max_font_size=300)\n",
    "    plt.gca().imshow(cloud)\n",
    "    plt.gca().set_title('Topic ' + str(i), fontdict=dict(size=16))\n",
    "    plt.gca().axis('off')\n",
    "    \n",
    "plt.subplots_adjust(wspace=0, hspace=0)\n",
    "plt.axis('off')\n",
    "plt.margins(x=0, y=0)\n",
    "plt.tight_layout()\n",
    "plt.show()"
   ]
  },
  {
   "cell_type": "code",
   "execution_count": null,
   "id": "4cfba04d-5ef4-4fa8-b0b3-1e83f8e1e790",
   "metadata": {},
   "outputs": [],
   "source": []
  }
 ],
 "metadata": {
  "kernelspec": {
   "display_name": "Python 3 (ipykernel)",
   "language": "python",
   "name": "python3"
  },
  "language_info": {
   "codemirror_mode": {
    "name": "ipython",
    "version": 3
   },
   "file_extension": ".py",
   "mimetype": "text/x-python",
   "name": "python",
   "nbconvert_exporter": "python",
   "pygments_lexer": "ipython3",
   "version": "3.8.11"
  }
 },
 "nbformat": 4,
 "nbformat_minor": 5
}
