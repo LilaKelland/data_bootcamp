{
 "cells": [
  {
   "cell_type": "code",
   "execution_count": 5,
   "id": "993ef6e9-2719-4bbd-942d-96a6d1356fce",
   "metadata": {},
   "outputs": [
    {
     "name": "stdout",
     "output_type": "stream",
     "text": [
      "<class 'twitter.api.Api'>\n"
     ]
    }
   ],
   "source": [
    "\n",
    "import requests as re\n",
    "import os \n",
    "import json\n",
    "import twitter\n",
    "\n",
    "consumer_key = os.environ[\"TWITTER_CONSUMER_KEY\"]\n",
    "consumer_secret = os.environ[\"TWITTER_CONSUMER_SECRET\"]\n",
    "access_token = os.environ[\"TWITTER_ACCESS_TOKEN\"]\n",
    "access_token_secret = os.environ[\"TWITTER_CONSUMER_SECRET\"]\n",
    "\n",
    "\n",
    "api = twitter.Api(consumer_key=consumer_key,\n",
    "                  consumer_secret=consumer_secret,\n",
    "                  access_token_key=access_token,\n",
    "                  access_token_secret=access_token_secret)\n",
    "\n",
    "\n",
    "print(type(api))\n",
    "\n",
    "## FOLLOWING FUNCTION WILL COLLECT REAL-TIME TWEETS IN OUR COMPUTER\n",
    "\n",
    "# data returned will be for any tweet mentioning strings in the list FILTER\n",
    "FILTER = [\":(\"]\n",
    "\n",
    "# Languages to filter tweets by is a list. This will be joined by Twitter\n",
    "# to return data mentioning tweets only in the english language.\n",
    "LANGUAGES = ['en']\n",
    "storage_location = \"data/outputsadface.txt\"\n",
    "_location = [\"-122.75,36.8\",\"-121.75,37.8\"]\n",
    "def main():\n",
    "    with open(storage_location, 'a') as f:\n",
    "        # api.GetStreamFilter will return a generator that yields one status\n",
    "        # message (i.e., Tweet) at a time as a JSON dictionary.\n",
    "        for line in api.GetStreamFilter(track=FILTER, languages=LANGUAGES, locations=_location):\n",
    "            f.write(json.dumps(line))\n",
    "            f.write('\\n')\n",
    "            \n",
    "main()"
   ]
  },
  {
   "cell_type": "code",
   "execution_count": null,
   "id": "022dd098-121f-44f8-ab52-4678ef3332ba",
   "metadata": {},
   "outputs": [],
   "source": [
    "# Load into dataframe with labels"
   ]
  },
  {
   "cell_type": "code",
   "execution_count": 5,
   "id": "23bb8980-00c0-4f80-bffd-babe1acf1017",
   "metadata": {},
   "outputs": [],
   "source": [
    "import pandas as pd\n",
    "import numpy as np\n",
    "import nltk\n",
    "from nltk.corpus import stopwords\n",
    "from sklearn.feature_extraction.text import TfidfVectorizer\n",
    "from sklearn.model_selection import train_test_split\n",
    "from sklearn import naive_bayes\n",
    "from sklearn.metrics import roc_auc_score\n",
    "import ast\n",
    "import json\n"
   ]
  },
  {
   "cell_type": "code",
   "execution_count": 6,
   "id": "9eec8721-1824-4242-8d5c-fbe74ef1e1b8",
   "metadata": {},
   "outputs": [],
   "source": [
    "# read sad data\n",
    "f = open(\"data/outputsadface.txt\", \"r\").readlines()\n",
    "tweets = []\n",
    "for i in range(len(f)):\n",
    "    json_string = f[i]\n",
    "    twit = json.loads(json_string)\n",
    "    tweets.append(json.dumps(twit[\"text\"]))#or any string manipulation here"
   ]
  },
  {
   "cell_type": "code",
   "execution_count": 7,
   "id": "a684833d-64c3-419a-9ccb-8b0fdbb8397b",
   "metadata": {},
   "outputs": [],
   "source": [
    "df = pd.DataFrame(tweets)\n",
    "df.columns = ['tweets']\n",
    "df['sent'] = 0"
   ]
  },
  {
   "cell_type": "code",
   "execution_count": 8,
   "id": "fb91f3f3-e9ea-4b48-a3b8-77eb5b616bcb",
   "metadata": {},
   "outputs": [
    {
     "data": {
      "text/html": [
       "<div>\n",
       "<style scoped>\n",
       "    .dataframe tbody tr th:only-of-type {\n",
       "        vertical-align: middle;\n",
       "    }\n",
       "\n",
       "    .dataframe tbody tr th {\n",
       "        vertical-align: top;\n",
       "    }\n",
       "\n",
       "    .dataframe thead th {\n",
       "        text-align: right;\n",
       "    }\n",
       "</style>\n",
       "<table border=\"1\" class=\"dataframe\">\n",
       "  <thead>\n",
       "    <tr style=\"text-align: right;\">\n",
       "      <th></th>\n",
       "      <th>tweets</th>\n",
       "      <th>sent</th>\n",
       "    </tr>\n",
       "  </thead>\n",
       "  <tbody>\n",
       "    <tr>\n",
       "      <th>0</th>\n",
       "      <td>\"@lennysan Great question\"</td>\n",
       "      <td>0</td>\n",
       "    </tr>\n",
       "    <tr>\n",
       "      <th>1</th>\n",
       "      <td>\"RT @pshobic: ni-ki's shoulders are sunoo's co...</td>\n",
       "      <td>0</td>\n",
       "    </tr>\n",
       "    <tr>\n",
       "      <th>2</th>\n",
       "      <td>\"@RatedEforEnder People will be like \\\"Please ...</td>\n",
       "      <td>0</td>\n",
       "    </tr>\n",
       "    <tr>\n",
       "      <th>3</th>\n",
       "      <td>\"good morning ! let's vote TXT on MAMA and tak...</td>\n",
       "      <td>0</td>\n",
       "    </tr>\n",
       "    <tr>\n",
       "      <th>4</th>\n",
       "      <td>\"all i can say is :(\"</td>\n",
       "      <td>0</td>\n",
       "    </tr>\n",
       "  </tbody>\n",
       "</table>\n",
       "</div>"
      ],
      "text/plain": [
       "                                              tweets  sent\n",
       "0                         \"@lennysan Great question\"     0\n",
       "1  \"RT @pshobic: ni-ki's shoulders are sunoo's co...     0\n",
       "2  \"@RatedEforEnder People will be like \\\"Please ...     0\n",
       "3  \"good morning ! let's vote TXT on MAMA and tak...     0\n",
       "4                              \"all i can say is :(\"     0"
      ]
     },
     "execution_count": 8,
     "metadata": {},
     "output_type": "execute_result"
    }
   ],
   "source": [
    "df.head()\n"
   ]
  },
  {
   "cell_type": "code",
   "execution_count": 9,
   "id": "7d6946b6-4212-468c-bea0-e8f66544a0b5",
   "metadata": {},
   "outputs": [],
   "source": [
    "# read happy data\n",
    "f = open(\"data/outputhappyface.txt\", \"r\").readlines()\n",
    "tweets = []\n",
    "for i in range(len(f)):\n",
    "    json_string = f[i]\n",
    "    twit = json.loads(json_string)\n",
    "    tweets.append(json.dumps(twit[\"text\"]))#or any string manipulation here"
   ]
  },
  {
   "cell_type": "code",
   "execution_count": 10,
   "id": "08a3af70-6bd7-41b6-8c05-087e02238e03",
   "metadata": {},
   "outputs": [],
   "source": [
    "df_h = pd.DataFrame(tweets)\n",
    "df_h.columns = ['tweets']\n",
    "df_h['sent'] = 1"
   ]
  },
  {
   "cell_type": "code",
   "execution_count": 11,
   "id": "44dbe7cd-f454-4045-92ac-f81d5001cf61",
   "metadata": {},
   "outputs": [
    {
     "data": {
      "text/html": [
       "<div>\n",
       "<style scoped>\n",
       "    .dataframe tbody tr th:only-of-type {\n",
       "        vertical-align: middle;\n",
       "    }\n",
       "\n",
       "    .dataframe tbody tr th {\n",
       "        vertical-align: top;\n",
       "    }\n",
       "\n",
       "    .dataframe thead th {\n",
       "        text-align: right;\n",
       "    }\n",
       "</style>\n",
       "<table border=\"1\" class=\"dataframe\">\n",
       "  <thead>\n",
       "    <tr style=\"text-align: right;\">\n",
       "      <th></th>\n",
       "      <th>tweets</th>\n",
       "      <th>sent</th>\n",
       "    </tr>\n",
       "  </thead>\n",
       "  <tbody>\n",
       "    <tr>\n",
       "      <th>0</th>\n",
       "      <td>\"RT @btsinthemoment: YOONGI WEVERSE POST \\n\\n\\...</td>\n",
       "      <td>1</td>\n",
       "    </tr>\n",
       "    <tr>\n",
       "      <th>1</th>\n",
       "      <td>\"How about you go and just fuck yourself :)\"</td>\n",
       "      <td>1</td>\n",
       "    </tr>\n",
       "    <tr>\n",
       "      <th>2</th>\n",
       "      <td>\"RT @rosaaasss_: \\u2014 Enhypen twitter polls ...</td>\n",
       "      <td>1</td>\n",
       "    </tr>\n",
       "    <tr>\n",
       "      <th>3</th>\n",
       "      <td>\"@Nathan_LaMorte my exact technique :)\"</td>\n",
       "      <td>1</td>\n",
       "    </tr>\n",
       "    <tr>\n",
       "      <th>4</th>\n",
       "      <td>\"@cindyaintright @sweetjesus2000 I'm on a pc :)\"</td>\n",
       "      <td>1</td>\n",
       "    </tr>\n",
       "  </tbody>\n",
       "</table>\n",
       "</div>"
      ],
      "text/plain": [
       "                                              tweets  sent\n",
       "0  \"RT @btsinthemoment: YOONGI WEVERSE POST \\n\\n\\...     1\n",
       "1       \"How about you go and just fuck yourself :)\"     1\n",
       "2  \"RT @rosaaasss_: \\u2014 Enhypen twitter polls ...     1\n",
       "3            \"@Nathan_LaMorte my exact technique :)\"     1\n",
       "4   \"@cindyaintright @sweetjesus2000 I'm on a pc :)\"     1"
      ]
     },
     "execution_count": 11,
     "metadata": {},
     "output_type": "execute_result"
    }
   ],
   "source": [
    "df_h.head()"
   ]
  },
  {
   "cell_type": "code",
   "execution_count": 12,
   "id": "e7466285-7388-4418-8f67-ffb3428e6908",
   "metadata": {},
   "outputs": [
    {
     "data": {
      "text/html": [
       "<div>\n",
       "<style scoped>\n",
       "    .dataframe tbody tr th:only-of-type {\n",
       "        vertical-align: middle;\n",
       "    }\n",
       "\n",
       "    .dataframe tbody tr th {\n",
       "        vertical-align: top;\n",
       "    }\n",
       "\n",
       "    .dataframe thead th {\n",
       "        text-align: right;\n",
       "    }\n",
       "</style>\n",
       "<table border=\"1\" class=\"dataframe\">\n",
       "  <thead>\n",
       "    <tr style=\"text-align: right;\">\n",
       "      <th></th>\n",
       "      <th>tweets</th>\n",
       "      <th>sent</th>\n",
       "    </tr>\n",
       "  </thead>\n",
       "  <tbody>\n",
       "    <tr>\n",
       "      <th>0</th>\n",
       "      <td>\"@lennysan Great question\"</td>\n",
       "      <td>0</td>\n",
       "    </tr>\n",
       "    <tr>\n",
       "      <th>1</th>\n",
       "      <td>\"RT @pshobic: ni-ki's shoulders are sunoo's co...</td>\n",
       "      <td>0</td>\n",
       "    </tr>\n",
       "    <tr>\n",
       "      <th>2</th>\n",
       "      <td>\"@RatedEforEnder People will be like \\\"Please ...</td>\n",
       "      <td>0</td>\n",
       "    </tr>\n",
       "    <tr>\n",
       "      <th>3</th>\n",
       "      <td>\"good morning ! let's vote TXT on MAMA and tak...</td>\n",
       "      <td>0</td>\n",
       "    </tr>\n",
       "    <tr>\n",
       "      <th>4</th>\n",
       "      <td>\"all i can say is :(\"</td>\n",
       "      <td>0</td>\n",
       "    </tr>\n",
       "  </tbody>\n",
       "</table>\n",
       "</div>"
      ],
      "text/plain": [
       "                                              tweets  sent\n",
       "0                         \"@lennysan Great question\"     0\n",
       "1  \"RT @pshobic: ni-ki's shoulders are sunoo's co...     0\n",
       "2  \"@RatedEforEnder People will be like \\\"Please ...     0\n",
       "3  \"good morning ! let's vote TXT on MAMA and tak...     0\n",
       "4                              \"all i can say is :(\"     0"
      ]
     },
     "execution_count": 12,
     "metadata": {},
     "output_type": "execute_result"
    }
   ],
   "source": [
    "# combine dataframes\n",
    "df = df.append(df_h)\n",
    "df.head()\n"
   ]
  },
  {
   "cell_type": "code",
   "execution_count": 13,
   "id": "e6fd01ea-5572-42da-baa4-831b31671d20",
   "metadata": {},
   "outputs": [
    {
     "data": {
      "text/plain": [
       "(1218, 2)"
      ]
     },
     "execution_count": 13,
     "metadata": {},
     "output_type": "execute_result"
    }
   ],
   "source": [
    "df.shape"
   ]
  },
  {
   "cell_type": "code",
   "execution_count": null,
   "id": "d19072af-097d-4af0-817b-0b6d2ae534f6",
   "metadata": {},
   "outputs": [],
   "source": []
  },
  {
   "cell_type": "code",
   "execution_count": 14,
   "id": "3bd80fd6-d3c1-4421-afc4-09e1a475bfac",
   "metadata": {},
   "outputs": [],
   "source": [
    "# Clean - remove \", starts with @ any thing shorter than 3 letters, keep ? remove \\n"
   ]
  },
  {
   "cell_type": "code",
   "execution_count": 15,
   "id": "0836c676-eb80-4a6f-9e7d-a0b198c6a373",
   "metadata": {},
   "outputs": [],
   "source": [
    "import pandas as pd\n",
    "import numpy as np\n",
    "import nltk\n",
    "from nltk.corpus import stopwords\n",
    "from sklearn.feature_extraction.text import TfidfVectorizer\n",
    "from sklearn.model_selection import train_test_split\n",
    "from sklearn import naive_bayes\n",
    "from sklearn.metrics import roc_auc_score\n",
    "\n",
    "import re\n",
    "import string\n",
    "\n",
    "from nltk.corpus import stopwords\n",
    "from sklearn.feature_extraction.text import TfidfVectorizer\n",
    "from sklearn import naive_bayes\n",
    "from sklearn.model_selection import train_test_split\n",
    "from sklearn.metrics import roc_auc_score, accuracy_score, confusion_matrix, ConfusionMatrixDisplay"
   ]
  },
  {
   "cell_type": "markdown",
   "id": "c04ba460-3029-437a-8d2f-ba975e4b294f",
   "metadata": {},
   "source": [
    "### Clean data"
   ]
  },
  {
   "cell_type": "code",
   "execution_count": 33,
   "id": "995ca994-89e7-4480-ae0f-7d5c37bd2b74",
   "metadata": {},
   "outputs": [],
   "source": [
    "features = df.tweets.tolist()\n",
    "processed_features = []\n",
    "\n",
    "for sentence in range(0, len(features)):\n",
    "    text= features[sentence]\n",
    "#     print(text)\n",
    "#     words = split \n",
    "    \n",
    "#     text = text.strip('\\\"') - replace with \" \"\n",
    "#     text = text.strip('\\'')\n",
    "    \n",
    "    # anything starts with @  \n",
    "#     text = re.sub(r'(\\s)\\@\\w+', r'\\1', text)\n",
    "    text = ' '.join(word for word in text.split(' ') if not word.endswith('\\\\\"'))\n",
    "    text = text.replace(\"\\'\", \" \") \n",
    "    text = text.replace('\\\"', \" \") \n",
    "    text = ' '.join(word for word in text.split(' ') if not word.startswith('@'))\n",
    "    text = ' '.join(word for word in text.split(' ') if not word.startswith('https'))\n",
    "#     text = ' '.join(word for word in text.split(' ') if not word.contains('\\\\\"'))\n",
    "\n",
    "    # remove \\\\\" and \\\\' \n",
    "    \n",
    "    # Remove all the special characters\n",
    "#     text = \"\".join([word.lower() for word in text if word not in string.punctuation])\n",
    "\n",
    "    # Any words with numbers\n",
    "    \n",
    "    # Anything with less than 2 char\n",
    "    text = ' '.join( [w for w in text.split() if len(w)>2] )\n",
    "\n",
    "    # Substituting multiple spaces with single space\n",
    "    text = text.lower()\n",
    "\n",
    "    # Converting to Lowercase\n",
    "#     text = text.split()\n",
    "    processed_features.append(text)\n"
   ]
  },
  {
   "cell_type": "code",
   "execution_count": 34,
   "id": "61480fd0-8e4e-4cf4-80db-5f59a9055a3e",
   "metadata": {},
   "outputs": [],
   "source": [
    "# df['clean_tweet'] = df.tweets.apply(f)"
   ]
  },
  {
   "cell_type": "code",
   "execution_count": 35,
   "id": "c04903a1-894a-4f3e-bcbb-93b4480e81b0",
   "metadata": {},
   "outputs": [
    {
     "data": {
      "text/plain": [
       "['great question',\n",
       " 'ni-ki shoulders are sunoo comfort place',\n",
       " 'people will like please stop you making and they like you right,\\\\u2026',\n",
       " 'good morning let vote txt mama and take back our place. let this for our boys. \\\\n\\\\nfourth rank 7.05\\\\u2026',\n",
       " 'all can say',\n",
       " 'love',\n",
       " 'it\\\\u2019s been almost two weeks',\n",
       " 'ni-ki shoulders are sunoo comfort place',\n",
       " 'omg arin and soobin wanted that',\n",
       " 'gonna miss friends until next time! &lt;3']"
      ]
     },
     "execution_count": 35,
     "metadata": {},
     "output_type": "execute_result"
    }
   ],
   "source": [
    "processed_features[:10]"
   ]
  },
  {
   "cell_type": "code",
   "execution_count": 36,
   "id": "062d776f-19b2-41f3-bff5-05eb0f6607d2",
   "metadata": {},
   "outputs": [
    {
     "data": {
      "text/plain": [
       "['\"@lennysan Great question\"',\n",
       " '\"RT @pshobic: ni-ki\\'s shoulders are sunoo\\'s comfort place :( https://t.co/9NPfkZ10Lc\"',\n",
       " '\"@RatedEforEnder People will be like \\\\\"Please stop you\\'re making me uncomfortable\\\\\" And they\\'ll be like \\'You\\'re right,\\\\u2026 https://t.co/eOO5y9InhP\"',\n",
       " '\"good morning ! let\\'s vote TXT on MAMA and take back our place. let\\'s do this for our boys. :( \\\\n\\\\nFOURTH RANK - 7.05\\\\u2026 https://t.co/FKv25j8kSt\"',\n",
       " '\"all i can say is :(\"',\n",
       " '\"@onlyforlevi i love u :(\"',\n",
       " '\"@filmrry it\\\\u2019s been almost two weeks :(\"',\n",
       " '\"RT @pshobic: ni-ki\\'s shoulders are sunoo\\'s comfort place :( https://t.co/9NPfkZ10Lc\"',\n",
       " '\"@allkpop omg Arin and Soobin wanted that :(\"',\n",
       " '\"RT @saladserns: gonna miss my friends :( until next time! &lt;3 https://t.co/cVoUL2lwVh\"']"
      ]
     },
     "execution_count": 36,
     "metadata": {},
     "output_type": "execute_result"
    }
   ],
   "source": [
    "features[:10]"
   ]
  },
  {
   "cell_type": "code",
   "execution_count": null,
   "id": "4cc4c6f5-84bb-439e-aff6-27dd233fbe4e",
   "metadata": {},
   "outputs": [],
   "source": [
    "# tokenize (split into words)"
   ]
  },
  {
   "cell_type": "code",
   "execution_count": null,
   "id": "53490d89-4a4f-494f-8d19-d4ee9faa2636",
   "metadata": {},
   "outputs": [],
   "source": [
    "# remove stopwords"
   ]
  },
  {
   "cell_type": "code",
   "execution_count": null,
   "id": "ddbb1fd6-5bf1-47dd-96b6-e31d75b5087b",
   "metadata": {},
   "outputs": [],
   "source": [
    "# dont do stemming or lemmetization\n",
    "# nltk.download('punkt')\n",
    "# from nltk.stem import WordNetLemmatizer  "
   ]
  },
  {
   "cell_type": "markdown",
   "id": "8da700f0-b456-43db-88eb-0301d684bdd7",
   "metadata": {},
   "source": [
    "## Bag of words"
   ]
  },
  {
   "cell_type": "code",
   "execution_count": 49,
   "id": "8ea32c73-8d62-4938-96cf-b9e78d5e7484",
   "metadata": {},
   "outputs": [],
   "source": [
    "# (from lecture)\n",
    "\n",
    "# from sklearn.feature_extraction.text import CountVectorizer\n",
    "# vect = CountVectorizer()\n",
    "# count_vectorizer_input=messages['text_nostop'].apply(lambda x: \" \".join(x) ) # cleaned text\n",
    "\n"
   ]
  },
  {
   "cell_type": "code",
   "execution_count": null,
   "id": "983d1b13-e25c-4c5c-aea0-7e1fd2f3c44f",
   "metadata": {},
   "outputs": [],
   "source": [
    "# X = vect.fit_transform(messages['text_clean'].tolist(),count_vectorizer_input)\n",
    "# X.toarray()\n",
    "# X.shape"
   ]
  },
  {
   "cell_type": "code",
   "execution_count": 161,
   "id": "d1c96469-d29f-4ee4-a6ec-a27856e05eb4",
   "metadata": {},
   "outputs": [],
   "source": [
    "# # create document term matrix (from lecture)\n",
    "# def create_doc_term_matrix(message_list,vectorizer):\n",
    "#     doc_term_matrix = vectorizer.fit_transform(message_list)\n",
    "#     return pd.DataFrame(doc_term_matrix.toarray(),\n",
    "#                     columns = vectorizer.get_feature_names())"
   ]
  },
  {
   "cell_type": "code",
   "execution_count": null,
   "id": "7c8e0e21-38f8-412a-a138-1a7602c91183",
   "metadata": {},
   "outputs": [],
   "source": [
    "# create_doc_term_matrix(messages['text_clean'].tolist(),CountVectorizer())"
   ]
  },
  {
   "cell_type": "markdown",
   "id": "da74740c-6b09-4e0b-9327-10b488005705",
   "metadata": {
    "tags": []
   },
   "source": [
    "## OR TF-IDF"
   ]
  },
  {
   "cell_type": "code",
   "execution_count": null,
   "id": "73f52d13-eed0-4674-a974-e66102778c3a",
   "metadata": {},
   "outputs": [],
   "source": [
    "# (from lecture)"
   ]
  },
  {
   "cell_type": "code",
   "execution_count": null,
   "id": "78babb0f-2b0a-475e-a2b0-cb8734ed2870",
   "metadata": {},
   "outputs": [],
   "source": [
    "\n",
    "# from sklearn.feature_extraction.text import TfidfVectorizer\n",
    "\n",
    "# create_doc_term_matrix(messages['text_clean'].tolist(),TfidfVectorizer())"
   ]
  },
  {
   "cell_type": "code",
   "execution_count": 162,
   "id": "4378775a-4744-444a-bdae-4ac8f170f587",
   "metadata": {},
   "outputs": [],
   "source": [
    "# # clean data\n",
    "# # Define a function to handle all data cleaning\n",
    "# def clean_text(text):\n",
    "#     text = \"\".join([word.lower() for word in text if word not in string.punctuation]) \n",
    "#     tokens = re.split('\\W+', text)\n",
    "#     text = [word for word in tokens if word not in stopwords]\n",
    "#     #lememtization\n",
    "#     #stemming\n",
    "#     return text"
   ]
  },
  {
   "cell_type": "code",
   "execution_count": 48,
   "id": "a22495bd-a3bd-43c7-a614-31f90874d24f",
   "metadata": {},
   "outputs": [],
   "source": [
    "# # Fit a basic TFIDF Vectorizer and view the results\n",
    "# from sklearn.feature_extraction.text import TfidfVectorizer\n",
    "\n",
    "# tfidf_vect = TfidfVectorizer(analyzer=clean_text)\n",
    "# X_tfidf = tfidf_vect.fit_transform(messages['text'])\n",
    "\n",
    "# print(X_tfidf.shape)\n",
    "# # print(tfidf_vect.get_feature_names())"
   ]
  },
  {
   "cell_type": "markdown",
   "id": "a018076d-85ec-4d14-b5a2-c35cda59c47d",
   "metadata": {},
   "source": [
    "## Vectorize"
   ]
  },
  {
   "cell_type": "code",
   "execution_count": null,
   "id": "45b23d17-98e5-4cbe-b7d2-0915a0064682",
   "metadata": {},
   "outputs": [],
   "source": [
    "# can choose different ones \n",
    "vectorizer = TfidfVectorizer(max_features = 2500, min_df = 7, max_df = 0.8, stop_words=stopwords.words('english'))"
   ]
  },
  {
   "cell_type": "code",
   "execution_count": null,
   "id": "e2eb714f-7b90-43a1-b4cf-9075c09ef390",
   "metadata": {},
   "outputs": [],
   "source": [
    "X=vectorizer.fit_transform(processed_features)\n",
    "y = df.sent\n",
    "\n",
    "X_train, X_test, y_train, y_test = train_test_split(X, y, random_state=42, stratify=y)"
   ]
  },
  {
   "cell_type": "code",
   "execution_count": null,
   "id": "448f2a51-9a41-4d5d-8c6d-6895418b48bb",
   "metadata": {},
   "outputs": [],
   "source": []
  },
  {
   "cell_type": "markdown",
   "id": "4dccc334-18e6-4e0a-9994-1c876d372183",
   "metadata": {},
   "source": [
    "## Model (NB)"
   ]
  },
  {
   "cell_type": "code",
   "execution_count": 40,
   "id": "0d4c6060-fb19-468e-a434-05b2ef4e94e0",
   "metadata": {},
   "outputs": [
    {
     "data": {
      "text/plain": [
       "MultinomialNB()"
      ]
     },
     "execution_count": 40,
     "metadata": {},
     "output_type": "execute_result"
    }
   ],
   "source": [
    "clf=naive_bayes.MultinomialNB()\n",
    "clf.fit(X_train, y_train)"
   ]
  },
  {
   "cell_type": "code",
   "execution_count": 41,
   "id": "dae2536c-649c-4854-ade2-c25a335e10f7",
   "metadata": {},
   "outputs": [],
   "source": [
    "y_pred = clf.predict(X_test)"
   ]
  },
  {
   "cell_type": "code",
   "execution_count": 42,
   "id": "6248da9f-bcb8-4ec2-b612-0be4848ef310",
   "metadata": {},
   "outputs": [
    {
     "data": {
      "text/plain": [
       "0.8426229508196721"
      ]
     },
     "execution_count": 42,
     "metadata": {},
     "output_type": "execute_result"
    }
   ],
   "source": [
    "accuracy_score(y_test, y_pred)"
   ]
  },
  {
   "cell_type": "code",
   "execution_count": 43,
   "id": "c7394dbf-f395-419b-9ae2-a7317865c4ec",
   "metadata": {},
   "outputs": [
    {
     "data": {
      "image/png": "[encoded data removed]",
      "text/plain": [
       "<Figure size 432x288 with 2 Axes>"
      ]
     },
     "metadata": {
      "needs_background": "light"
     },
     "output_type": "display_data"
    }
   ],
   "source": [
    "import matplotlib.pyplot as plt\n",
    "cm = confusion_matrix(y_test, y_pred, labels=clf.classes_)\n",
    "disp = ConfusionMatrixDisplay(confusion_matrix=cm,\n",
    "                               display_labels=clf.classes_)\n",
    "disp.plot()\n",
    "\n",
    "plt.show()"
   ]
  },
  {
   "cell_type": "markdown",
   "id": "58ab4db4-8497-4d00-be34-6be2f39a7b00",
   "metadata": {},
   "source": [
    "### Model Logistic Regression"
   ]
  },
  {
   "cell_type": "code",
   "execution_count": 44,
   "id": "acf5e9bc-86af-4b52-a2bf-04399ccc4885",
   "metadata": {},
   "outputs": [
    {
     "name": "stdout",
     "output_type": "stream",
     "text": [
      "Accuracy: 0.839344262295082\n"
     ]
    }
   ],
   "source": [
    "from sklearn.linear_model import LogisticRegression\n",
    "\n",
    "classifier = LogisticRegression()\n",
    "classifier.fit(X_train, y_train)\n",
    "score = classifier.score(X_test, y_test)\n",
    "\n",
    "print(\"Accuracy:\", score)"
   ]
  },
  {
   "cell_type": "code",
   "execution_count": 45,
   "id": "2e397449-a93b-4a6c-ba61-ef9a1e6163e1",
   "metadata": {},
   "outputs": [
    {
     "data": {
      "image/png": "[encoded data removed]",
      "text/plain": [
       "<Figure size 432x288 with 2 Axes>"
      ]
     },
     "metadata": {
      "needs_background": "light"
     },
     "output_type": "display_data"
    }
   ],
   "source": [
    "import matplotlib.pyplot as plt\n",
    "cm = confusion_matrix(y_test, y_pred, labels=clf.classes_)\n",
    "disp = ConfusionMatrixDisplay(confusion_matrix=cm,\n",
    "                               display_labels=clf.classes_)\n",
    "disp.plot()\n",
    "\n",
    "plt.show()"
   ]
  },
  {
   "cell_type": "code",
   "execution_count": null,
   "id": "20950f99-75e0-4594-ba0e-6aa1367aae2b",
   "metadata": {},
   "outputs": [],
   "source": []
  },
  {
   "cell_type": "markdown",
   "id": "3eb3e810-fe3c-4eb5-a052-67de5aa88522",
   "metadata": {},
   "source": [
    "## Random Forest"
   ]
  },
  {
   "cell_type": "code",
   "execution_count": 46,
   "id": "59d0fbfa-3692-40e6-ac04-847e1223bec2",
   "metadata": {},
   "outputs": [
    {
     "name": "stdout",
     "output_type": "stream",
     "text": [
      "Accuracy: 0.819672131147541\n"
     ]
    }
   ],
   "source": [
    "from sklearn.ensemble import RandomForestClassifier\n",
    "\n",
    "classifier = RandomForestClassifier()\n",
    "classifier.fit(X_train, y_train)\n",
    "score = classifier.score(X_test, y_test)\n",
    "\n",
    "print(\"Accuracy:\", score)"
   ]
  },
  {
   "cell_type": "code",
   "execution_count": 47,
   "id": "a337a591-4dec-45e8-8d13-ee57a2d4a0fe",
   "metadata": {},
   "outputs": [
    {
     "data": {
      "image/png": "[encoded data removed]",
      "text/plain": [
       "<Figure size 432x288 with 2 Axes>"
      ]
     },
     "metadata": {
      "needs_background": "light"
     },
     "output_type": "display_data"
    }
   ],
   "source": [
    "import matplotlib.pyplot as plt\n",
    "cm = confusion_matrix(y_test, y_pred, labels=clf.classes_)\n",
    "disp = ConfusionMatrixDisplay(confusion_matrix=cm,\n",
    "                               display_labels=clf.classes_)\n",
    "disp.plot()\n",
    "\n",
    "plt.show()"
   ]
  },
  {
   "cell_type": "markdown",
   "id": "2bae2aef-9bbc-4dd9-9bd6-8a49d36f1ad2",
   "metadata": {},
   "source": [
    "## Deep Learning "
   ]
  },
  {
   "cell_type": "code",
   "execution_count": null,
   "id": "fa447d74-8d23-4fb2-a0f0-cf1bb9745294",
   "metadata": {},
   "outputs": [],
   "source": [
    "# ** NEED WORD EMBEDING!! BRING IN PRETRAINED MODEL! (SEE LECTURE OF GLOVE LIKE WALKTHROGH)\n",
    "\n",
    "from keras.models import Sequential\n",
    "from keras import layers\n",
    "\n",
    "input_dim = X_train.shape[1]  # Number of features\n",
    "\n",
    "model = Sequential()\n",
    "model.add(layers.Dense(10, input_dim=input_dim, activation='relu'))\n",
    "model.add(layers.Dense(1, activation='sigmoid'))"
   ]
  },
  {
   "cell_type": "code",
   "execution_count": null,
   "id": "d7e9b1d9-52eb-4689-aa8d-f8248412e8c8",
   "metadata": {},
   "outputs": [],
   "source": [
    "model.compile(loss='binary_crossentropy', \n",
    "              optimizer='adam', \n",
    "              metrics=['accuracy'])\n",
    "model.summary()"
   ]
  },
  {
   "cell_type": "code",
   "execution_count": null,
   "id": "76317d44-f450-40af-972a-550ec394fcdf",
   "metadata": {},
   "outputs": [],
   "source": [
    "history = model.fit(X_train, y_train,\n",
    "                    epochs=100,\n",
    "                    verbose=False,\n",
    "                    validation_data=(X_test, y_test),\n",
    "                    batch_size=10)"
   ]
  },
  {
   "cell_type": "code",
   "execution_count": null,
   "id": "99a83569-7219-40e4-b5cc-f2a71eb534b3",
   "metadata": {},
   "outputs": [],
   "source": [
    "loss, accuracy = model.evaluate(X_train, y_train, verbose=False)\n",
    "print(\"Training Accuracy: {:.4f}\".format(accuracy))\n",
    "loss, accuracy = model.evaluate(X_test, y_test, verbose=False)\n",
    "print(\"Testing Accuracy:  {:.4f}\".format(accuracy))"
   ]
  },
  {
   "cell_type": "code",
   "execution_count": null,
   "id": "4f2cc3dd-8314-457c-b203-72cd29c26b40",
   "metadata": {},
   "outputs": [],
   "source": [
    "# Visulalize\n",
    "import matplotlib.pyplot as plt\n",
    "plt.style.use('ggplot')\n",
    "\n",
    "def plot_history(history):\n",
    "    acc = history.history['accuracy']\n",
    "    val_acc = history.history['val_accuracy']\n",
    "    loss = history.history['loss']\n",
    "    val_loss = history.history['val_loss']\n",
    "    x = range(1, len(acc) + 1)\n",
    "\n",
    "    plt.figure(figsize=(12, 5))\n",
    "    plt.subplot(1, 2, 1)\n",
    "    plt.plot(x, acc, 'b', label='Training acc')\n",
    "    plt.plot(x, val_acc, 'r', label='Validation acc')\n",
    "    plt.title('Training and validation accuracy')\n",
    "    plt.legend()\n",
    "    plt.subplot(1, 2, 2)\n",
    "    plt.plot(x, loss, 'b', label='Training loss')\n",
    "    plt.plot(x, val_loss, 'r', label='Validation loss')\n",
    "    plt.title('Training and validation loss')\n",
    "    plt.legend()\n",
    "    \n",
    "plot_history(history)"
   ]
  },
  {
   "cell_type": "code",
   "execution_count": null,
   "id": "9acee7a5-37a1-4fb7-abd9-f48242ce73d1",
   "metadata": {},
   "outputs": [],
   "source": []
  },
  {
   "cell_type": "code",
   "execution_count": null,
   "id": "d1d121c3-7542-4ce7-8a9a-06964fd13422",
   "metadata": {},
   "outputs": [],
   "source": [
    "# Use word embedding?? look at NLP with deep learning walkthrough"
   ]
  }
 ],
 "metadata": {
  "kernelspec": {
   "display_name": "bootcamp_env",
   "language": "python",
   "name": "bootcamp_env"
  },
  "language_info": {
   "codemirror_mode": {
    "name": "ipython",
    "version": 3
   },
   "file_extension": ".py",
   "mimetype": "text/x-python",
   "name": "python",
   "nbconvert_exporter": "python",
   "pygments_lexer": "ipython3",
   "version": "3.8.5"
  }
 },
 "nbformat": 4,
 "nbformat_minor": 5
}
