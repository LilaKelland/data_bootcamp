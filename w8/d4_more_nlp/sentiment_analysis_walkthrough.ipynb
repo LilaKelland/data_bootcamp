{
 "cells": [
  {
   "cell_type": "code",
   "execution_count": 1,
   "id": "b00bfe1c-0058-4a25-8a75-2a21e398d54e",
   "metadata": {},
   "outputs": [
    {
     "ename": "AttributeError",
     "evalue": "module 'urllib' has no attribute 'urlretrieve'",
     "output_type": "error",
     "traceback": [
      "\u001b[0;31m---------------------------------------------------------------------------\u001b[0m",
      "\u001b[0;31mAttributeError\u001b[0m                            Traceback (most recent call last)",
      "\u001b[0;32m<ipython-input-1-adc49e1d571e>\u001b[0m in \u001b[0;36m<module>\u001b[0;34m\u001b[0m\n\u001b[1;32m     10\u001b[0m \u001b[0;34m\u001b[0m\u001b[0m\n\u001b[1;32m     11\u001b[0m \u001b[0;31m# download files using urlib\u001b[0m\u001b[0;34m\u001b[0m\u001b[0;34m\u001b[0m\u001b[0;34m\u001b[0m\u001b[0m\n\u001b[0;32m---> 12\u001b[0;31m \u001b[0mtest_data_f\u001b[0m \u001b[0;34m=\u001b[0m \u001b[0murllib\u001b[0m\u001b[0;34m.\u001b[0m\u001b[0murlretrieve\u001b[0m\u001b[0;34m(\u001b[0m\u001b[0mtest_data_url\u001b[0m\u001b[0;34m,\u001b[0m \u001b[0mtest_data_file_name\u001b[0m\u001b[0;34m)\u001b[0m\u001b[0;34m\u001b[0m\u001b[0;34m\u001b[0m\u001b[0m\n\u001b[0m\u001b[1;32m     13\u001b[0m \u001b[0mtrain_data_f\u001b[0m \u001b[0;34m=\u001b[0m \u001b[0murllib\u001b[0m\u001b[0;34m.\u001b[0m\u001b[0murlretrieve\u001b[0m\u001b[0;34m(\u001b[0m\u001b[0mtrain_data_url\u001b[0m\u001b[0;34m,\u001b[0m \u001b[0mtrain_data_file_name\u001b[0m\u001b[0;34m)\u001b[0m\u001b[0;34m\u001b[0m\u001b[0;34m\u001b[0m\u001b[0m\n",
      "\u001b[0;31mAttributeError\u001b[0m: module 'urllib' has no attribute 'urlretrieve'"
     ]
    }
   ],
   "source": [
    "import urllib\n",
    "    \n",
    "# define URLs\n",
    "test_data_url = \"https://dl.dropboxusercontent.com/u/8082731/datasets/UMICH-SI650/testdata.txt\"\n",
    "train_data_url = \"https://dl.dropboxusercontent.com/u/8082731/datasets/UMICH-SI650/training.txt\"\n",
    "    \n",
    "# # define local file names\n",
    "# test_data_file_name = 'test_data.csv'\n",
    "# train_data_file_name = 'train_data.csv'\n",
    "    \n",
    "# # download files using urlib\n",
    "# test_data_f = urllib.urlretrieve(test_data_url, test_data_file_name)\n",
    "# train_data_f = urllib.urlretrieve(train_data_url, train_data_file_name)"
   ]
  },
  {
   "cell_type": "code",
   "execution_count": 27,
   "id": "b46cd57d-2a44-423a-9fa2-83d45932020b",
   "metadata": {},
   "outputs": [],
   "source": [
    "import pandas as pd\n",
    "import numpy as np\n",
    "import nltk\n",
    "from nltk.corpus import stopwords\n",
    "from sklearn.feature_extraction.text import TfidfVectorizer\n",
    "from sklearn.model_selection import train_test_split\n",
    "from sklearn import naive_bayes\n",
    "from sklearn.metrics import roc_auc_score"
   ]
  },
  {
   "cell_type": "code",
   "execution_count": 9,
   "id": "84329716-e870-4cae-b8e8-88611b2edf0f",
   "metadata": {},
   "outputs": [],
   "source": [
    "# df = pd.read_csv(\"data/UMICH_SI650_Sentiment_Classification.txt\", sep='\\t', names=['liked', 'txt'])\n",
    "df = pd.read_csv(\"data/test.txt\", sep='\\t', names=['liked', 'txt'])"
   ]
  },
  {
   "cell_type": "code",
   "execution_count": 10,
   "id": "52651db8-45a9-488d-873b-a6cd44d2bd50",
   "metadata": {},
   "outputs": [
    {
     "data": {
      "text/html": [
       "<div>\n",
       "<style scoped>\n",
       "    .dataframe tbody tr th:only-of-type {\n",
       "        vertical-align: middle;\n",
       "    }\n",
       "\n",
       "    .dataframe tbody tr th {\n",
       "        vertical-align: top;\n",
       "    }\n",
       "\n",
       "    .dataframe thead th {\n",
       "        text-align: right;\n",
       "    }\n",
       "</style>\n",
       "<table border=\"1\" class=\"dataframe\">\n",
       "  <thead>\n",
       "    <tr style=\"text-align: right;\">\n",
       "      <th></th>\n",
       "      <th>liked</th>\n",
       "      <th>txt</th>\n",
       "    </tr>\n",
       "  </thead>\n",
       "  <tbody>\n",
       "    <tr>\n",
       "      <th>0</th>\n",
       "      <td>1</td>\n",
       "      <td>The Da Vinci Code book is just awesome.</td>\n",
       "    </tr>\n",
       "    <tr>\n",
       "      <th>1</th>\n",
       "      <td>1</td>\n",
       "      <td>this was the first clive cussler i've ever rea...</td>\n",
       "    </tr>\n",
       "    <tr>\n",
       "      <th>2</th>\n",
       "      <td>1</td>\n",
       "      <td>i liked the Da Vinci Code a lot.</td>\n",
       "    </tr>\n",
       "    <tr>\n",
       "      <th>3</th>\n",
       "      <td>1</td>\n",
       "      <td>i liked the Da Vinci Code a lot.</td>\n",
       "    </tr>\n",
       "    <tr>\n",
       "      <th>4</th>\n",
       "      <td>1</td>\n",
       "      <td>I liked the Da Vinci Code but it ultimatly did...</td>\n",
       "    </tr>\n",
       "  </tbody>\n",
       "</table>\n",
       "</div>"
      ],
      "text/plain": [
       "   liked                                                txt\n",
       "0      1            The Da Vinci Code book is just awesome.\n",
       "1      1  this was the first clive cussler i've ever rea...\n",
       "2      1                   i liked the Da Vinci Code a lot.\n",
       "3      1                   i liked the Da Vinci Code a lot.\n",
       "4      1  I liked the Da Vinci Code but it ultimatly did..."
      ]
     },
     "execution_count": 10,
     "metadata": {},
     "output_type": "execute_result"
    }
   ],
   "source": [
    "df.head()"
   ]
  },
  {
   "cell_type": "code",
   "execution_count": 11,
   "id": "fb0a3468-529f-4957-b778-322c36a471ec",
   "metadata": {},
   "outputs": [],
   "source": [
    "# tfidf vectorizer\n",
    "stopset = set(stopwords.words('english'))\n",
    "vectorizer = TfidfVectorizer(use_idf=True, lowercase=True, strip_accents='ascii', stop_words=stopset)"
   ]
  },
  {
   "cell_type": "code",
   "execution_count": 12,
   "id": "5f2d9a9f-9f32-4d44-89d7-841ed7c5b644",
   "metadata": {},
   "outputs": [],
   "source": [
    "y=df.liked"
   ]
  },
  {
   "cell_type": "code",
   "execution_count": 17,
   "id": "83257b39-f3f8-4978-a1fb-5324b5ee02da",
   "metadata": {},
   "outputs": [],
   "source": [
    "X=vectorizer.fit_transform(df.txt)"
   ]
  },
  {
   "cell_type": "code",
   "execution_count": 15,
   "id": "713decfd-2b00-4715-af8a-987b2ea12b78",
   "metadata": {},
   "outputs": [
    {
     "name": "stdout",
     "output_type": "stream",
     "text": [
      "(6918,)\n",
      "(6918, 2011)\n"
     ]
    }
   ],
   "source": [
    "print (y.shape)\n",
    "print (x.shape) # 2011 unique words in sparse matrix"
   ]
  },
  {
   "cell_type": "code",
   "execution_count": 23,
   "id": "86345edf-2ccc-4088-85fa-74cd769a65b6",
   "metadata": {},
   "outputs": [],
   "source": [
    "X_train, X_test, y_train, y_test = train_test_split(X, y, random_state=42)"
   ]
  },
  {
   "cell_type": "code",
   "execution_count": 19,
   "id": "c2c84eaa-2114-430a-8464-d08067c57c65",
   "metadata": {},
   "outputs": [
    {
     "data": {
      "text/plain": [
       "MultinomialNB()"
      ]
     },
     "execution_count": 19,
     "metadata": {},
     "output_type": "execute_result"
    }
   ],
   "source": [
    "clf=naive_bayes.MultinomialNB()\n",
    "clf.fit(X_train, y_train)"
   ]
  },
  {
   "cell_type": "code",
   "execution_count": 24,
   "id": "4d746530-71ae-42e8-a065-576502e095c6",
   "metadata": {},
   "outputs": [
    {
     "data": {
      "text/plain": [
       "0.9979292333245913"
      ]
     },
     "execution_count": 24,
     "metadata": {},
     "output_type": "execute_result"
    }
   ],
   "source": [
    "# test model's accuacy by:\n",
    "\n",
    "roc_auc_score(y_test, clf.predict_proba(X_test)[:,1])"
   ]
  },
  {
   "cell_type": "code",
   "execution_count": 29,
   "id": "6090fad3-cc67-4c4e-a6b0-bf833d8151ed",
   "metadata": {},
   "outputs": [
    {
     "name": "stdout",
     "output_type": "stream",
     "text": [
      "[0]\n"
     ]
    }
   ],
   "source": [
    "movie_reviews_array=np.array([\"Jupiter ascending was disapointing and terrible movie.\"])\n",
    "movie_review_vector = vectorizer.transform(movie_reviews_array)\n",
    "print(clf.predict(movie_review_vector))"
   ]
  },
  {
   "cell_type": "code",
   "execution_count": null,
   "id": "2c89ad45-fe15-4588-85e5-2c1f443d6ef6",
   "metadata": {},
   "outputs": [],
   "source": []
  }
 ],
 "metadata": {
  "kernelspec": {
   "display_name": "Python 3 (ipykernel)",
   "language": "python",
   "name": "python3"
  },
  "language_info": {
   "codemirror_mode": {
    "name": "ipython",
    "version": 3
   },
   "file_extension": ".py",
   "mimetype": "text/x-python",
   "name": "python",
   "nbconvert_exporter": "python",
   "pygments_lexer": "ipython3",
   "version": "3.8.11"
  }
 },
 "nbformat": 4,
 "nbformat_minor": 5
}
