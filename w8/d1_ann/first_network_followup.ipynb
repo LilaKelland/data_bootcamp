{
 "cells": [
  {
   "cell_type": "markdown",
   "id": "48367c11-4690-40f9-9d57-2a163ee69d04",
   "metadata": {},
   "source": [
    "## Tutorial\n",
    "Neural Net with Keras"
   ]
  },
  {
   "cell_type": "code",
   "execution_count": 1,
   "id": "a409c5db-608a-4f01-b993-df45177f062e",
   "metadata": {},
   "outputs": [],
   "source": [
    "from tensorflow.keras.datasets import mnist\n",
    "from tensorflow.keras import models\n",
    "from tensorflow.keras import layers\n",
    "from tensorflow.keras.utils import to_categorical"
   ]
  },
  {
   "cell_type": "markdown",
   "id": "02e60c18-5075-40b4-a25c-0964de685fe4",
   "metadata": {},
   "source": [
    "Keras has several datasets we can use to learn and, MNIST is among them.\n",
    "\n",
    "Models and Layers are both modules that will help us build our NN and to_categorical is used for our data encoding"
   ]
  },
  {
   "cell_type": "code",
   "execution_count": 2,
   "id": "5b757159-e7e7-49cf-b4a1-aeb5a53eed28",
   "metadata": {},
   "outputs": [
    {
     "name": "stdout",
     "output_type": "stream",
     "text": [
      "Downloading data from https://storage.googleapis.com/tensorflow/tf-keras-datasets/mnist.npz\n",
      "11493376/11490434 [==============================] - 1s 0us/step\n",
      "11501568/11490434 [==============================] - 1s 0us/step\n"
     ]
    }
   ],
   "source": [
    "# test-train split\n",
    "(train_images, train_labels), (test_images, test_labels) = mnist.load_data()\n",
    "\n",
    "# we haven't split data in python, but loaded train and test samples directly from minst"
   ]
  },
  {
   "cell_type": "code",
   "execution_count": 3,
   "id": "aeeeaea1-8cae-4719-93ec-0b30dfa8d5e5",
   "metadata": {},
   "outputs": [
    {
     "name": "stdout",
     "output_type": "stream",
     "text": [
      "(60000, 28, 28)\n",
      "(60000,)\n"
     ]
    }
   ],
   "source": [
    "# print shape to understand better\n",
    "print(train_images.shape)  #60000 images 28x28 pixels\n",
    "print(train_labels.shape) # labels (labelling images 0-9)"
   ]
  },
  {
   "cell_type": "code",
   "execution_count": 5,
   "id": "ed4e4496-6944-469d-a8dd-40eb881c3b72",
   "metadata": {},
   "outputs": [
    {
     "name": "stderr",
     "output_type": "stream",
     "text": [
      "2021-11-01 21:34:46.559675: I tensorflow/core/platform/cpu_feature_guard.cc:142] This TensorFlow binary is optimized with oneAPI Deep Neural Network Library (oneDNN) to use the following CPU instructions in performance-critical operations:  SSE4.1 SSE4.2 AVX AVX2 FMA\n",
      "To enable them in other operations, rebuild TensorFlow with the appropriate compiler flags.\n"
     ]
    }
   ],
   "source": [
    "# Build network to predict what number is in the picture\n",
    "# This has 3 layers\n",
    "network = models.Sequential()\n",
    "network.add(layers.Dense(784, activation='relu', input_shape=(28 * 28,)))\n",
    "network.add(layers.Dense(784, activation='relu', input_shape=(28 * 28,)))\n",
    "network.add(layers.Dense(10, activation='softmax'))\n",
    "network.compile(optimizer='adam',\n",
    "                loss='categorical_crossentropy',\n",
    "                metrics=['accuracy'])"
   ]
  },
  {
   "cell_type": "code",
   "execution_count": 6,
   "id": "67222ac5-f764-453d-b258-3c4c6bf5496a",
   "metadata": {},
   "outputs": [],
   "source": [
    "# Need to reshape our data before feeding into model (original 60k images 28x28 - reshape so all pixels for each image one row)\n",
    "train_images = train_images.reshape((60000, 28 * 28))\n",
    "train_images = train_images.astype('float32') / 255\n",
    "test_images = test_images.reshape((10000, 28 * 28))\n",
    "test_images = test_images.astype('float32') / 255"
   ]
  },
  {
   "cell_type": "code",
   "execution_count": 7,
   "id": "963c1732-053b-4e22-82ce-b3d93e772f96",
   "metadata": {},
   "outputs": [],
   "source": [
    "# make sure network knows its categorical and not regression\n",
    "train_labels = to_categorical(train_labels)\n",
    "test_labels = to_categorical(test_labels)"
   ]
  },
  {
   "cell_type": "code",
   "execution_count": 9,
   "id": "8c0532f4-69cd-4400-a6ed-a0afe24e09f4",
   "metadata": {},
   "outputs": [
    {
     "name": "stdout",
     "output_type": "stream",
     "text": [
      "Epoch 1/5\n",
      "2143/2143 [==============================] - 10s 5ms/step - loss: 0.0306 - accuracy: 0.9904\n",
      "Epoch 2/5\n",
      "2143/2143 [==============================] - 11s 5ms/step - loss: 0.0277 - accuracy: 0.9915\n",
      "Epoch 3/5\n",
      "2143/2143 [==============================] - 11s 5ms/step - loss: 0.0258 - accuracy: 0.9923\n",
      "Epoch 4/5\n",
      "2143/2143 [==============================] - 11s 5ms/step - loss: 0.0223 - accuracy: 0.9933\n",
      "Epoch 5/5\n",
      "2143/2143 [==============================] - 11s 5ms/step - loss: 0.0210 - accuracy: 0.9943\n"
     ]
    },
    {
     "data": {
      "text/plain": [
       "<keras.callbacks.History at 0x7fc0c8230820>"
      ]
     },
     "execution_count": 9,
     "metadata": {},
     "output_type": "execute_result"
    }
   ],
   "source": [
    "# Now ready to train \n",
    "network.fit(train_images, train_labels, epochs=5, batch_size=28)\n",
    "# run a second time will run with input as output of last"
   ]
  },
  {
   "cell_type": "code",
   "execution_count": 8,
   "id": "3b13497d-75bd-43a1-9af6-ac8b8d25aacd",
   "metadata": {},
   "outputs": [
    {
     "name": "stdout",
     "output_type": "stream",
     "text": [
      "  1/313 [..............................] - ETA: 32s - loss: 0.0355 - accuracy: 0.9688"
     ]
    },
    {
     "name": "stderr",
     "output_type": "stream",
     "text": [
      "2021-10-30 16:07:38.640013: W tensorflow/core/framework/cpu_allocator_impl.cc:80] Allocation of 31360000 exceeds 10% of free system memory.\n"
     ]
    },
    {
     "name": "stdout",
     "output_type": "stream",
     "text": [
      "313/313 [==============================] - 1s 2ms/step - loss: 0.1079 - accuracy: 0.9727\n",
      "test_acc: 0.9726999998092651 test_loss 0.10790610313415527\n"
     ]
    }
   ],
   "source": [
    "# Check performance\n",
    "test_loss, test_acc = network.evaluate(test_images, test_labels)\n",
    "print('test_acc:', test_acc, 'test_loss', test_loss)"
   ]
  },
  {
   "cell_type": "code",
   "execution_count": null,
   "id": "723146a0-33c3-41b4-82f9-71b73afd02ad",
   "metadata": {},
   "outputs": [],
   "source": []
  }
 ],
 "metadata": {
  "kernelspec": {
   "display_name": "Python 3 (ipykernel)",
   "language": "python",
   "name": "python3"
  },
  "language_info": {
   "codemirror_mode": {
    "name": "ipython",
    "version": 3
   },
   "file_extension": ".py",
   "mimetype": "text/x-python",
   "name": "python",
   "nbconvert_exporter": "python",
   "pygments_lexer": "ipython3",
   "version": "3.9.7"
  }
 },
 "nbformat": 4,
 "nbformat_minor": 5
}
