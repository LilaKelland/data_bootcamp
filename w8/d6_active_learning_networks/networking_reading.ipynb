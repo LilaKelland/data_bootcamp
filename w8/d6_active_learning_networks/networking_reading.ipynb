{
 "cells": [
  {
   "cell_type": "code",
   "execution_count": 1,
   "id": "b493f56d-29fd-455f-b8ba-4958b77b0539",
   "metadata": {},
   "outputs": [
    {
     "ename": "ModuleNotFoundError",
     "evalue": "No module named 'networkx'",
     "output_type": "error",
     "traceback": [
      "\u001b[0;31m---------------------------------------------------------------------------\u001b[0m",
      "\u001b[0;31mModuleNotFoundError\u001b[0m                       Traceback (most recent call last)",
      "\u001b[0;32m/var/folders/q4/f3xj1m3j2h3fl1lc7921wysh0000gn/T/ipykernel_23922/261483930.py\u001b[0m in \u001b[0;36m<module>\u001b[0;34m\u001b[0m\n\u001b[1;32m      1\u001b[0m \u001b[0;31m# Undirected graphs\u001b[0m\u001b[0;34m\u001b[0m\u001b[0;34m\u001b[0m\u001b[0;34m\u001b[0m\u001b[0m\n\u001b[1;32m      2\u001b[0m \u001b[0;34m\u001b[0m\u001b[0m\n\u001b[0;32m----> 3\u001b[0;31m \u001b[0;32mimport\u001b[0m \u001b[0mnetworkx\u001b[0m \u001b[0;32mas\u001b[0m \u001b[0mnx\u001b[0m\u001b[0;34m\u001b[0m\u001b[0;34m\u001b[0m\u001b[0m\n\u001b[0m\u001b[1;32m      4\u001b[0m \u001b[0;34m\u001b[0m\u001b[0m\n\u001b[1;32m      5\u001b[0m \u001b[0mG\u001b[0m \u001b[0;34m=\u001b[0m \u001b[0mnx\u001b[0m\u001b[0;34m.\u001b[0m\u001b[0mGraph\u001b[0m\u001b[0;34m(\u001b[0m\u001b[0;34m)\u001b[0m\u001b[0;34m\u001b[0m\u001b[0;34m\u001b[0m\u001b[0m\n",
      "\u001b[0;31mModuleNotFoundError\u001b[0m: No module named 'networkx'"
     ]
    }
   ],
   "source": [
    "# Undirected graphs ( facebook no arrows)\n",
    "\n",
    "import networkx as nx\n",
    "\n",
    "G = nx.Graph()\n",
    "\n",
    "type(G)"
   ]
  },
  {
   "cell_type": "code",
   "execution_count": null,
   "id": "7aeef11c-b80a-4d5c-9b7e-7d915c8900e9",
   "metadata": {},
   "outputs": [],
   "source": [
    "#  Directed (twitter - arrows - directionality with followers)\n",
    "D = nx.DiGraph()\n",
    "\n",
    "type(D)"
   ]
  },
  {
   "cell_type": "code",
   "execution_count": null,
   "id": "25d921b1-2a2c-4693-9ff8-e58dd514f467",
   "metadata": {},
   "outputs": [],
   "source": [
    "# Multi(Di)Graph - eg trips between bike sharing stations\n",
    "M = nx.MultiGraph()\n",
    "type(M)\n",
    "\n",
    "MD = mx.MultiDiGraph()\n",
    "type(MD)\n",
    "\n",
    "# very memory intensive - so can collapse multiple edges to singel edge between nodes\n",
    "# edges can contain weights (eg 3 edges originally)\n",
    "\n",
    "# Self loops - eg bike trips out and back to station"
   ]
  },
  {
   "cell_type": "code",
   "execution_count": null,
   "id": "ab5386b7-14d9-4ce0-968f-5b8303968c08",
   "metadata": {},
   "outputs": [],
   "source": [
    "# # Node link diagrams with too many connections \n",
    "# Matrix plot\n",
    "# nodes rows and columns, cells whether connected \n",
    "\n",
    "# # Directed - symetric\n"
   ]
  },
  {
   "cell_type": "code",
   "execution_count": null,
   "id": "380d7ec0-424d-4b60-9ff8-7989ee554b95",
   "metadata": {},
   "outputs": [],
   "source": [
    "# Arc plot - ordered axes circular"
   ]
  },
  {
   "cell_type": "code",
   "execution_count": null,
   "id": "56ef40df-0ca1-41ff-95f6-31472cbd5018",
   "metadata": {},
   "outputs": [],
   "source": [
    "# Circos - 2 ends of arch plot into circle"
   ]
  },
  {
   "cell_type": "code",
   "execution_count": null,
   "id": "0027630d-5a51-4a85-9145-664d67b8865b",
   "metadata": {},
   "outputs": [],
   "source": [
    "# nxviz\n",
    "import nxviz as nv\n",
    "import matplotlib.pylot as plt\n",
    "ap = nv.ArcPlot(G)\n",
    "ap.draw()\n",
    "plt.show()"
   ]
  }
 ],
 "metadata": {
  "kernelspec": {
   "display_name": "bootcamp_env",
   "language": "python",
   "name": "bootcamp_env"
  },
  "language_info": {
   "codemirror_mode": {
    "name": "ipython",
    "version": 3
   },
   "file_extension": ".py",
   "mimetype": "text/x-python",
   "name": "python",
   "nbconvert_exporter": "python",
   "pygments_lexer": "ipython3",
   "version": "3.8.5"
  }
 },
 "nbformat": 4,
 "nbformat_minor": 5
}
