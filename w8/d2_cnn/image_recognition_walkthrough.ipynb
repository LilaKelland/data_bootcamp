{
 "cells": [
  {
   "cell_type": "code",
   "execution_count": 1,
   "id": "9fe74510",
   "metadata": {},
   "outputs": [],
   "source": [
    "# https://medium.com/nybles/create-your-first-image-recognition-classifier-using-cnn-keras-and-tensorflow-backend-6eaab98d14dd"
   ]
  },
  {
   "cell_type": "code",
   "execution_count": 21,
   "id": "260785fa",
   "metadata": {},
   "outputs": [],
   "source": [
    "from tensorflow.keras.models import Sequential\n",
    "from tensorflow.keras.layers import Convolution2D\n",
    "from tensorflow.keras.layers import MaxPooling2D\n",
    "from tensorflow.keras.layers import Flatten\n",
    "from tensorflow.keras.layers import Dense\n",
    "import pandas as pd\n",
    "# from pathlib import Path\n",
    "# import os.path\n",
    "# import numpy as np"
   ]
  },
  {
   "cell_type": "code",
   "execution_count": 14,
   "id": "89917349",
   "metadata": {},
   "outputs": [],
   "source": [
    "# image_dir = Path('data')"
   ]
  },
  {
   "cell_type": "code",
   "execution_count": 16,
   "id": "969573ba",
   "metadata": {},
   "outputs": [
    {
     "data": {
      "text/plain": [
       "[]"
      ]
     },
     "execution_count": 16,
     "metadata": {},
     "output_type": "execute_result"
    }
   ],
   "source": [
    "# # Create file DataFrame\n",
    "# filepaths = list(image_dir.glob(r'**/*.png'))\n",
    "# filepaths"
   ]
  },
  {
   "cell_type": "code",
   "execution_count": 3,
   "id": "46131c14",
   "metadata": {},
   "outputs": [],
   "source": []
  },
  {
   "cell_type": "code",
   "execution_count": 4,
   "id": "8b1094cb",
   "metadata": {},
   "outputs": [],
   "source": [
    "# Build network\n",
    "# Convolution, pooling, flattening, full connection "
   ]
  },
  {
   "cell_type": "code",
   "execution_count": 22,
   "id": "aa4ef270",
   "metadata": {},
   "outputs": [],
   "source": [
    "# Initialising the CNN\n",
    "classifier = Sequential()\n",
    "\n",
    "# Step 1 - Convolution\n",
    "classifier.add(Convolution2D(32, 3, 3, input_shape = (64, 64, 3), activation = 'relu'))\n",
    "# Step 2 - Pooling\n",
    "classifier.add(MaxPooling2D(pool_size = (2, 2)))\n",
    "# Step 3 - Flattening\n",
    "classifier.add(Flatten())\n",
    "# Step 4 - Full connection\n",
    "classifier.add(Dense(128, activation = 'relu'))\n",
    "classifier.add(Dense(1, activation = 'sigmoid'))\n",
    "\n",
    "# Compiling the CNN\n",
    "classifier.compile(optimizer = 'adam', loss = 'binary_crossentropy', metrics = ['accuracy'])"
   ]
  },
  {
   "cell_type": "markdown",
   "id": "854b9c51",
   "metadata": {},
   "source": [
    "###  Convolution\n",
    "The primary purpose of convolution is to extract features from the input image. Convolution preserves the spatial relationship between pixels by learning image features using small squares of input data.\n",
    "\n",
    "First three parameters refer to:\n",
    "\n",
    "* Filters: The dimensionality of the output space (i.e. the number of output filters in the convolution). We will end up with a convolved feature matrix of 32x32.\n",
    "* Kernel_size: Specifying the height and width of the 2D convolution window. It can be a tuple if we don't want a square.\n",
    "* Strides: Specifying the strides of the convolution along with the height and width. It can be a tuple if we want a different height and width.\n",
    "### Pooling\n",
    "In the case of Max Pooling, we use the parameter pool_size to define a spatial neighborhood (in our case a 2×2 window) and take the largest element from the rectified feature map within that window.\n",
    "\n",
    "### Flattening\n",
    "We convert the matrix into a 1D array which can be the input of the final Neural Network.\n",
    "\n",
    "### Full Connection\n",
    "The full connection is connecting our convolutional network to a Neural Network that does final predictions.\n",
    "\n",
    "### Step 4 - Data Augmentation\n",
    "We need a lot of data to train a network but suppose we have a limited number of images for our network – what do we do? We don’t need to hunt for new images that can be added to our dataset. Why? Because neural networks aren’t smart, to begin with. For instance, a poorly trained neural network would think that the three tennis balls shown below are distinct, unique images.\n",
    "\n",
    "So, to get more data, we just need to make alterations to our existing dataset – minor changes such as flips, translations, or rotations – and our neural network will think these are distinct images anyway. Data augmentation is a way of reducing overfitting of models, where we increase the amount of training data using only the information from our training data. The field of data augmentation is not new and, in fact, there are various data augmentation techniques for specific problems.\n",
    "\n"
   ]
  },
  {
   "cell_type": "code",
   "execution_count": 23,
   "id": "feae7039",
   "metadata": {},
   "outputs": [
    {
     "name": "stdout",
     "output_type": "stream",
     "text": [
      "Found 8000 images belonging to 2 classes.\n",
      "Found 2000 images belonging to 2 classes.\n"
     ]
    }
   ],
   "source": [
    "from tensorflow.keras.preprocessing.image import ImageDataGenerator\n",
    "\n",
    "train_datagen = ImageDataGenerator(rescale = 1./255,\n",
    "                                   shear_range = 0.2,\n",
    "                                   zoom_range = 0.2,\n",
    "                                   horizontal_flip = True)\n",
    "\n",
    "test_datagen = ImageDataGenerator(rescale = 1./255)\n",
    "\n",
    "training_set = train_datagen.flow_from_directory('data/training_set',\n",
    "                                                 target_size = (64, 64),\n",
    "                                                 batch_size = 32,\n",
    "                                                 class_mode = 'binary')\n",
    "\n",
    "test_set = test_datagen.flow_from_directory('data/test_set',\n",
    "                                            target_size = (64, 64),\n",
    "                                            batch_size = 32,\n",
    "                                            class_mode = 'binary')\n",
    "\n",
    "# We apply transformation to the images to extend our train and test samples.\n"
   ]
  },
  {
   "cell_type": "markdown",
   "id": "07703234",
   "metadata": {},
   "source": [
    "### Step 5 - Training"
   ]
  },
  {
   "cell_type": "code",
   "execution_count": 29,
   "id": "927dc039",
   "metadata": {},
   "outputs": [
    {
     "name": "stderr",
     "output_type": "stream",
     "text": [
      "/opt/conda/lib/python3.9/site-packages/keras/engine/training.py:1972: UserWarning: `Model.fit_generator` is deprecated and will be removed in a future version. Please use `Model.fit`, which supports generators.\n",
      "  warnings.warn('`Model.fit_generator` is deprecated and '\n"
     ]
    },
    {
     "name": "stdout",
     "output_type": "stream",
     "text": [
      "Epoch 1/10\n",
      "50/50 [==============================] - 12s 246ms/step - loss: 0.5469 - accuracy: 0.7262 - val_loss: 0.6723 - val_accuracy: 0.6420\n",
      "Epoch 2/10\n",
      "50/50 [==============================] - 12s 244ms/step - loss: 0.5539 - accuracy: 0.7088 - val_loss: 0.5472 - val_accuracy: 0.7285\n",
      "Epoch 3/10\n",
      "50/50 [==============================] - 12s 242ms/step - loss: 0.5505 - accuracy: 0.7194 - val_loss: 0.5691 - val_accuracy: 0.7075\n",
      "Epoch 4/10\n",
      "50/50 [==============================] - 12s 234ms/step - loss: 0.5333 - accuracy: 0.7262 - val_loss: 0.5426 - val_accuracy: 0.7435\n",
      "Epoch 5/10\n",
      "50/50 [==============================] - 11s 232ms/step - loss: 0.5380 - accuracy: 0.7188 - val_loss: 0.5817 - val_accuracy: 0.7085\n",
      "Epoch 6/10\n",
      "50/50 [==============================] - 12s 238ms/step - loss: 0.5088 - accuracy: 0.7500 - val_loss: 0.5757 - val_accuracy: 0.7150\n",
      "Epoch 7/10\n",
      "50/50 [==============================] - 13s 267ms/step - loss: 0.5218 - accuracy: 0.7456 - val_loss: 0.5490 - val_accuracy: 0.7405\n",
      "Epoch 8/10\n",
      "50/50 [==============================] - 12s 245ms/step - loss: 0.5376 - accuracy: 0.7250 - val_loss: 0.5542 - val_accuracy: 0.7360\n",
      "Epoch 9/10\n",
      "50/50 [==============================] - 13s 259ms/step - loss: 0.5140 - accuracy: 0.7406 - val_loss: 0.5803 - val_accuracy: 0.7140\n",
      "Epoch 10/10\n",
      "50/50 [==============================] - 12s 249ms/step - loss: 0.5151 - accuracy: 0.7369 - val_loss: 0.5462 - val_accuracy: 0.7250\n"
     ]
    }
   ],
   "source": [
    "history = classifier.fit_generator(training_set,\n",
    "                         steps_per_epoch = 50,\n",
    "                         epochs = 10,\n",
    "                         validation_data = test_set)"
   ]
  },
  {
   "cell_type": "markdown",
   "id": "7faaaef5",
   "metadata": {},
   "source": [
    "We changed the code slightly – we have changed the steps per epoch and the number of epochs. This reduces the quality of the model but, on the other hand, even those of us, who don't have a GPU in their computers will be able to finish the training withing a reasonable amount time.\n",
    "\n",
    "With an increasing number of epochs, the accuracy will increase, too.\n",
    "\n",
    "** Beware of overfitting with too many epochs"
   ]
  },
  {
   "cell_type": "code",
   "execution_count": 30,
   "id": "1ff778fd",
   "metadata": {},
   "outputs": [
    {
     "data": {
      "image/png": "[encoded data removed]",
      "text/plain": [
       "<Figure size 432x288 with 1 Axes>"
      ]
     },
     "metadata": {
      "needs_background": "light"
     },
     "output_type": "display_data"
    }
   ],
   "source": [
    "# We can check the graph to see how our loss was decreasing during the training.\n",
    "\n",
    "from matplotlib import pyplot as plt\n",
    "\n",
    "# plot history\n",
    "plt.plot(history.history['loss'], label='train')\n",
    "plt.plot(history.history['val_loss'], label='test')\n",
    "plt.legend()\n",
    "plt.show()"
   ]
  },
  {
   "cell_type": "markdown",
   "id": "a1a6d93b",
   "metadata": {},
   "source": [
    "We can see that even though the loss of the training set goes down quite fast, it is not the case with the test set. That means that our model doesn't generalize very well on new data."
   ]
  },
  {
   "cell_type": "markdown",
   "id": "1d433bca",
   "metadata": {},
   "source": [
    "### Step 6 - Testing\n",
    "Now, let's test a random image."
   ]
  },
  {
   "cell_type": "code",
   "execution_count": 31,
   "id": "7f10d1d2",
   "metadata": {},
   "outputs": [
    {
     "name": "stdout",
     "output_type": "stream",
     "text": [
      "dog\n"
     ]
    }
   ],
   "source": [
    "import numpy as np\n",
    "from tensorflow.keras.preprocessing import image\n",
    "\n",
    "# loading an image from the disk\n",
    "test_image = image.load_img('data/random_dog.png', target_size = (64, 64))\n",
    "\n",
    "# converting the image to a numpy array\n",
    "test_image = image.img_to_array(test_image)\n",
    "test_image = np.expand_dims(test_image, axis = 0)\n",
    "result = classifier.predict(test_image)\n",
    "# print(training_set.class_indices)\n",
    "\n",
    "# our cut-off\n",
    "if result[0][0] >= 0.5: # this is probabilty\n",
    "    prediction = 'dog'\n",
    "else:\n",
    "    prediction = 'cat'\n",
    "print(prediction)"
   ]
  },
  {
   "cell_type": "markdown",
   "id": "d4ca4ff0",
   "metadata": {},
   "source": [
    "We can even try it with other images and see what it predicts. Now we can answer many interesting questions such as:\n",
    "\n",
    "Does a tree look like a cat or a dog?\n",
    "Do people look more like a cat or a dog?"
   ]
  },
  {
   "cell_type": "code",
   "execution_count": null,
   "id": "40a678df",
   "metadata": {},
   "outputs": [],
   "source": []
  }
 ],
 "metadata": {
  "kernelspec": {
   "display_name": "Python 3 (ipykernel)",
   "language": "python",
   "name": "python3"
  },
  "language_info": {
   "codemirror_mode": {
    "name": "ipython",
    "version": 3
   },
   "file_extension": ".py",
   "mimetype": "text/x-python",
   "name": "python",
   "nbconvert_exporter": "python",
   "pygments_lexer": "ipython3",
   "version": "3.9.7"
  }
 },
 "nbformat": 4,
 "nbformat_minor": 5
}
