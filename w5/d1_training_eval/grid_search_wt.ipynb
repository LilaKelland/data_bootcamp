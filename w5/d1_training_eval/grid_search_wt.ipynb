{
 "cells": [
  {
   "cell_type": "markdown",
   "id": "1f470ddd-5846-4a10-8b95-9ab84e5d1186",
   "metadata": {},
   "source": [
    "Grid search is the process of performing hyperparameter tuning so as to determine the optimal values for a given model. This is important as the performance of the entire model is based on the specified hyperparameter values.\n",
    "\n",
    "https://chrisalbon.com/code/machine_learning/model_evaluation/cross_validation_parameter_tuning_grid_search/\n",
    "\n",
    "2 Things commonly done at same time -  cross validation and hyperperameter tuning"
   ]
  },
  {
   "cell_type": "code",
   "execution_count": 2,
   "id": "05b48895-7279-4197-9dcd-d7cfa281bd67",
   "metadata": {},
   "outputs": [],
   "source": [
    "import numpy as np\n",
    "# from sklearn.grid_search import GridSearchCV\n",
    "from sklearn.model_selection import GridSearchCV\n",
    "from sklearn import datasets, svm\n",
    "import matplotlib.pyplot as plt"
   ]
  },
  {
   "cell_type": "markdown",
   "id": "0e298c38-5131-4b55-b8b2-0a90f91a18b0",
   "metadata": {},
   "source": [
    "Create Two Datasets\n",
    "\n",
    "In the code below, we load the digits dataset, which contains 64 feature variables. Each feature denotes the darkness of a pixel in an 8 by 8 image of a handwritten digit. We can see these features for the first observation"
   ]
  },
  {
   "cell_type": "code",
   "execution_count": 3,
   "id": "66502875-c93e-4c87-9033-ce7838afbeaa",
   "metadata": {},
   "outputs": [],
   "source": [
    "# Load the digit data\n",
    "digits = datasets.load_digits()"
   ]
  },
  {
   "cell_type": "code",
   "execution_count": 4,
   "id": "91b91186-f1e4-4594-a9b0-09d2f87929de",
   "metadata": {},
   "outputs": [
    {
     "data": {
      "text/plain": [
       "array([[ 0.,  0.,  5., 13.,  9.,  1.,  0.,  0.,  0.,  0., 13., 15., 10.,\n",
       "        15.,  5.,  0.,  0.,  3., 15.,  2.,  0., 11.,  8.,  0.,  0.,  4.,\n",
       "        12.,  0.,  0.,  8.,  8.,  0.,  0.,  5.,  8.,  0.,  0.,  9.,  8.,\n",
       "         0.,  0.,  4., 11.,  0.,  1., 12.,  7.,  0.,  0.,  2., 14.,  5.,\n",
       "        10., 12.,  0.,  0.,  0.,  0.,  6., 13., 10.,  0.,  0.,  0.]])"
      ]
     },
     "execution_count": 4,
     "metadata": {},
     "output_type": "execute_result"
    }
   ],
   "source": [
    "# View the features of the first observation\n",
    "digits.data[0:1]\n"
   ]
  },
  {
   "cell_type": "code",
   "execution_count": 5,
   "id": "2e236d7d-1a82-4b21-bdf4-2e64c5f606bc",
   "metadata": {},
   "outputs": [
    {
     "data": {
      "text/plain": [
       "array([0])"
      ]
     },
     "execution_count": 5,
     "metadata": {},
     "output_type": "execute_result"
    }
   ],
   "source": [
    "# View the target of the first observation\n",
    "digits.target[0:1]"
   ]
  },
  {
   "cell_type": "markdown",
   "id": "5f737cd9-972e-4f73-bb39-832469ee8245",
   "metadata": {},
   "source": [
    "To demonstrate cross validation and parameter tuning, first we are going to divide the digit data into two datasets called data1 and data2\n",
    "\n",
    "* data1 contains the first 1000 rows of the digits data\n",
    "* data2 contains the remaining ~800 rows\n",
    "\n",
    "Note that this split is separate to the cross validation we will conduct and is done purely to demonstrate something at the end of the tutorial. In other words, don’t worry about data2 for now, we will come back to it."
   ]
  },
  {
   "cell_type": "code",
   "execution_count": 6,
   "id": "5f195490-8cf4-4e84-af15-d18cd41e4181",
   "metadata": {},
   "outputs": [],
   "source": [
    "# Create dataset 1\n",
    "data1_features = digits.data[:1000]\n",
    "data1_target = digits.target[:1000]\n",
    "\n",
    "# Create dataset 2\n",
    "data2_features = digits.data[1000:]\n",
    "data2_target = digits.target[1000:]"
   ]
  },
  {
   "cell_type": "markdown",
   "id": "31e9817f-dff9-4454-93b9-4c433a68c21f",
   "metadata": {},
   "source": [
    "Create Parameter Candidates\n",
    "\n",
    "Before looking for which combination of parameter values produces the most accurate model, we must specify the different candidate values we want to try. In the code below we have a number of candidate parameter values, including four different values for C (1, 10, 100, 1000), two values for gamma (0.001, 0.0001), and two kernels (linear, rbf). The grid search will try all combinations of parameter values and select the set of parameters which provides the most accurate model."
   ]
  },
  {
   "cell_type": "code",
   "execution_count": 7,
   "id": "8aeb669d-bc8d-49ff-af14-fcd694766a80",
   "metadata": {},
   "outputs": [],
   "source": [
    "parameter_candidates = [\n",
    "  {'C': [1, 10, 100, 1000], 'kernel': ['linear']},\n",
    "  {'C': [1, 10, 100, 1000], 'gamma': [0.001, 0.0001], 'kernel': ['rbf']},\n",
    "]"
   ]
  },
  {
   "cell_type": "markdown",
   "id": "4f9fccf8-6d53-41ae-a630-fe3f29bc7f84",
   "metadata": {},
   "source": [
    "Conduct Grid Search To Find Parameters Producing Highest Score\n",
    "\n",
    " By default, the GridSearchCV’s cross validation uses 3-fold KFold or StratifiedKFold depending on the situation."
   ]
  },
  {
   "cell_type": "code",
   "execution_count": 8,
   "id": "7f5ccef6-8d55-4ebb-b5ad-179637e2dd9a",
   "metadata": {},
   "outputs": [
    {
     "data": {
      "text/plain": [
       "GridSearchCV(estimator=SVC(), n_jobs=-1,\n",
       "             param_grid=[{'C': [1, 10, 100, 1000], 'kernel': ['linear']},\n",
       "                         {'C': [1, 10, 100, 1000], 'gamma': [0.001, 0.0001],\n",
       "                          'kernel': ['rbf']}])"
      ]
     },
     "execution_count": 8,
     "metadata": {},
     "output_type": "execute_result"
    }
   ],
   "source": [
    "# Create a classifier object with the classifier and parameter candidates\n",
    "clf = GridSearchCV(estimator=svm.SVC(), param_grid=parameter_candidates, n_jobs=-1)\n",
    "\n",
    "# Train the classifier on data1's feature and target data\n",
    "clf.fit(data1_features, data1_target)   "
   ]
  },
  {
   "cell_type": "markdown",
   "id": "9a40c305-c9c8-4a3b-90f5-b1fdede5c100",
   "metadata": {},
   "source": [
    "Look at accuracy score"
   ]
  },
  {
   "cell_type": "code",
   "execution_count": 9,
   "id": "9211c0c6-581d-441d-971f-9974b85623a1",
   "metadata": {},
   "outputs": [
    {
     "name": "stdout",
     "output_type": "stream",
     "text": [
      "Best score for data1: 0.966\n"
     ]
    }
   ],
   "source": [
    "# View the accuracy score\n",
    "print('Best score for data1:', clf.best_score_) "
   ]
  },
  {
   "cell_type": "code",
   "execution_count": 10,
   "id": "e9d2c2fd-e6ba-41d6-98ff-484909b06dcb",
   "metadata": {},
   "outputs": [
    {
     "name": "stdout",
     "output_type": "stream",
     "text": [
      "Best C: 10\n",
      "Best Kernel: rbf\n",
      "Best Gamma: 0.001\n"
     ]
    }
   ],
   "source": [
    "# View the best parameters for the model found using grid search\n",
    "print('Best C:',clf.best_estimator_.C) \n",
    "print('Best Kernel:',clf.best_estimator_.kernel)\n",
    "print('Best Gamma:',clf.best_estimator_.gamma)"
   ]
  },
  {
   "cell_type": "markdown",
   "id": "f8b08790-846a-4d3a-8f65-c7f9795006e8",
   "metadata": {},
   "source": [
    "### Sanity Check Using Second Dataset\n",
    "Now we will use it to prove that those parameters are actually used by the model. First, we apply the classifier we just trained to the second dataset. Then we will train a new support vector classifier from scratch using the parameters found using the grid search. We should get the same results for both models."
   ]
  },
  {
   "cell_type": "code",
   "execution_count": 11,
   "id": "1a7d94ce-3393-4365-b4b4-9ff8f6e230c1",
   "metadata": {},
   "outputs": [
    {
     "data": {
      "text/plain": [
       "0.9698870765370138"
      ]
     },
     "execution_count": 11,
     "metadata": {},
     "output_type": "execute_result"
    }
   ],
   "source": [
    "# Apply the classifier trained using data1 to data2, and view the accuracy score\n",
    "clf.score(data2_features, data2_target)  \n"
   ]
  },
  {
   "cell_type": "code",
   "execution_count": 12,
   "id": "0f9bd9b4-c0ec-4261-9760-a9c247adde8f",
   "metadata": {},
   "outputs": [
    {
     "data": {
      "text/plain": [
       "0.9698870765370138"
      ]
     },
     "execution_count": 12,
     "metadata": {},
     "output_type": "execute_result"
    }
   ],
   "source": [
    "# Train a new classifier using the best parameters found by the grid search\n",
    "svm.SVC(C=10, kernel='rbf', gamma=0.001).fit(data1_features, data1_target).score(data2_features, data2_target)"
   ]
  },
  {
   "cell_type": "code",
   "execution_count": null,
   "id": "10229821-3eff-483d-bf22-cb09dbf0cd01",
   "metadata": {},
   "outputs": [],
   "source": []
  }
 ],
 "metadata": {
  "kernelspec": {
   "display_name": "bootcamp_env",
   "language": "python",
   "name": "bootcamp_env"
  },
  "language_info": {
   "codemirror_mode": {
    "name": "ipython",
    "version": 3
   },
   "file_extension": ".py",
   "mimetype": "text/x-python",
   "name": "python",
   "nbconvert_exporter": "python",
   "pygments_lexer": "ipython3",
   "version": "3.8.5"
  }
 },
 "nbformat": 4,
 "nbformat_minor": 5
}
