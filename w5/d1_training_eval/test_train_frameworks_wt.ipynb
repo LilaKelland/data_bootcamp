{
 "cells": [
  {
   "cell_type": "markdown",
   "id": "3dc6adf7-86e4-4462-8486-10165bef31da",
   "metadata": {},
   "source": [
    "https://medium.com/@julie.yin/understanding-the-data-splitting-functions-in-scikit-learn-9ae4046fbd26"
   ]
  },
  {
   "cell_type": "markdown",
   "id": "68e09714-f01d-4fca-9c26-0bb30fba5175",
   "metadata": {},
   "source": [
    "### Test train split"
   ]
  },
  {
   "cell_type": "code",
   "execution_count": 6,
   "id": "ea9eb191-b700-48ab-a048-ad228ac13ade",
   "metadata": {},
   "outputs": [],
   "source": [
    "import sklearn.model_selection as model_selection"
   ]
  },
  {
   "cell_type": "code",
   "execution_count": 5,
   "id": "76cc67c5-1043-4785-978d-0abeec242407",
   "metadata": {},
   "outputs": [
    {
     "name": "stdout",
     "output_type": "stream",
     "text": [
      "[0, 1, 2, 3, 4, 5, 6, 7, 8, 9]\n",
      "[0, 1, 4, 9, 16, 25, 36, 49, 64, 81]\n"
     ]
    }
   ],
   "source": [
    "# create list\n",
    "X = list(range(10))\n",
    "print(X)\n",
    "\n",
    "# create squares list\n",
    "y = [x*x for x in X]\n",
    "print(y)"
   ]
  },
  {
   "cell_type": "code",
   "execution_count": 7,
   "id": "4f43d636-596a-4a05-b52b-2c178b77b723",
   "metadata": {},
   "outputs": [
    {
     "name": "stdout",
     "output_type": "stream",
     "text": [
      "X_train:  [4, 9, 3, 5, 7, 6, 1]\n",
      "y_train:  [16, 81, 9, 25, 49, 36, 1]\n",
      "X_test:  [8, 2, 0]\n",
      "y_test:  [64, 4, 0]\n"
     ]
    }
   ],
   "source": [
    "# To disable shuffling, set the shuffle parameter as False (default = True).\n",
    "\n",
    "X_train, X_test, y_train, y_test = model_selection.train_test_split(X, y, train_size=0.75,test_size=0.25, random_state=101)\n",
    "print (\"X_train: \", X_train)\n",
    "print (\"y_train: \", y_train)\n",
    "print(\"X_test: \", X_test)\n",
    "print (\"y_test: \", y_test)"
   ]
  },
  {
   "cell_type": "markdown",
   "id": "d21aa809-1c77-4839-a24e-48c64a85749d",
   "metadata": {},
   "source": [
    " Because we only have ten data points, the program automatically rounded the ratio to 7:3. It’s okay to omit the test_size parameter, if you already got the train_size specified, and you don’t mind the annoying warning message\n",
    " "
   ]
  },
  {
   "cell_type": "markdown",
   "id": "448b804e-0d6c-482f-8a17-fc077e82cabe",
   "metadata": {},
   "source": [
    "### Cross Validation"
   ]
  },
  {
   "cell_type": "code",
   "execution_count": 11,
   "id": "d4e8e77b-d861-46c7-a626-6afa1bb65f41",
   "metadata": {},
   "outputs": [
    {
     "ename": "ModuleNotFoundError",
     "evalue": "No module named 'sklearn.model_selection.cross_validate'",
     "output_type": "error",
     "traceback": [
      "\u001b[0;31m---------------------------------------------------------------------------\u001b[0m",
      "\u001b[0;31mModuleNotFoundError\u001b[0m                       Traceback (most recent call last)",
      "\u001b[0;32m<ipython-input-11-a710caa942cf>\u001b[0m in \u001b[0;36m<module>\u001b[0;34m\u001b[0m\n\u001b[0;32m----> 1\u001b[0;31m \u001b[0;32mimport\u001b[0m \u001b[0msklearn\u001b[0m\u001b[0;34m.\u001b[0m\u001b[0mmodel_selection\u001b[0m\u001b[0;34m.\u001b[0m\u001b[0mcross_validate\u001b[0m \u001b[0;32mas\u001b[0m \u001b[0mcross_validation\u001b[0m\u001b[0;34m\u001b[0m\u001b[0;34m\u001b[0m\u001b[0m\n\u001b[0m\u001b[1;32m      2\u001b[0m \u001b[0;34m\u001b[0m\u001b[0m\n\u001b[1;32m      3\u001b[0m \u001b[0mX_train\u001b[0m\u001b[0;34m,\u001b[0m \u001b[0mX_test\u001b[0m\u001b[0;34m,\u001b[0m \u001b[0my_train\u001b[0m\u001b[0;34m,\u001b[0m \u001b[0my_test\u001b[0m \u001b[0;34m=\u001b[0m \u001b[0mcross_validate\u001b[0m\u001b[0;34m.\u001b[0m\u001b[0mtrain_test_split\u001b[0m\u001b[0;34m(\u001b[0m\u001b[0mX\u001b[0m\u001b[0;34m,\u001b[0m \u001b[0my\u001b[0m\u001b[0;34m,\u001b[0m \u001b[0mtrain_size\u001b[0m\u001b[0;34m=\u001b[0m\u001b[0;36m0.75\u001b[0m\u001b[0;34m,\u001b[0m \u001b[0mrandom_state\u001b[0m\u001b[0;34m=\u001b[0m\u001b[0;36m101\u001b[0m\u001b[0;34m)\u001b[0m\u001b[0;34m\u001b[0m\u001b[0;34m\u001b[0m\u001b[0m\n\u001b[1;32m      4\u001b[0m \u001b[0mprint\u001b[0m \u001b[0;34m(\u001b[0m\u001b[0;34m\"X_train: \"\u001b[0m\u001b[0;34m,\u001b[0m \u001b[0mX_train\u001b[0m\u001b[0;34m)\u001b[0m\u001b[0;34m\u001b[0m\u001b[0;34m\u001b[0m\u001b[0m\n\u001b[1;32m      5\u001b[0m \u001b[0mprint\u001b[0m \u001b[0;34m(\u001b[0m\u001b[0;34m\"y_train: \"\u001b[0m\u001b[0;34m,\u001b[0m \u001b[0my_train\u001b[0m\u001b[0;34m)\u001b[0m\u001b[0;34m\u001b[0m\u001b[0;34m\u001b[0m\u001b[0m\n",
      "\u001b[0;31mModuleNotFoundError\u001b[0m: No module named 'sklearn.model_selection.cross_validate'"
     ]
    }
   ],
   "source": [
    "# import sklearn.model_selection.cross_validate as cross_validation\n",
    "\n",
    "# X_train, X_test, y_train, y_test = cross_validate.train_test_split(X, y, train_size=0.75, random_state=101)\n",
    "# print (\"X_train: \", X_train)\n",
    "# print (\"y_train: \", y_train)\n",
    "# print(\"X_test: \", X_test)\n",
    "# print (\"y_test: \", y_test)\n",
    "\n",
    "import sklearn.cross_validation as cross_validation\n",
    "X_train, X_test, y_train, y_test = cross_validation.train_test_split(X, y, train_size=0.75, random_state=101)"
   ]
  },
  {
   "cell_type": "markdown",
   "id": "b4539093-f172-478b-af3a-0d550d7ecb33",
   "metadata": {},
   "source": [
    "will generate exactly the same outputs as above, given that we assigned the same number to Random_state. If you want your results to be stochastic each time, simply leave it as the default value “None”."
   ]
  },
  {
   "cell_type": "code",
   "execution_count": 13,
   "id": "12e975d7-daa1-47c4-8e7c-8e066aeee84f",
   "metadata": {},
   "outputs": [
    {
     "name": "stdout",
     "output_type": "stream",
     "text": [
      "X_test:  [0 1]\n",
      "X_test:  [2 3]\n",
      "X_test:  [4 5]\n",
      "X_test:  [6 7]\n",
      "X_test:  [8 9]\n"
     ]
    }
   ],
   "source": [
    "from sklearn.model_selection import KFold\n",
    "import numpy as np\n",
    "\n",
    "kf = KFold(n_splits=5)\n",
    "X = np.array(X)\n",
    "y = np.array(y)\n",
    "\n",
    "for train_index, test_index in kf.split(X):\n",
    "    X_train, X_test = X[train_index], X[test_index]\n",
    "    y_train, y_test = y[train_index], y[test_index]\n",
    "    print(\"X_test: \", X_test)\n",
    "    \n",
    "#  the data points were not shuffled, default setting of the shuffle parameter here different from that in train_test_split "
   ]
  },
  {
   "cell_type": "code",
   "execution_count": 14,
   "id": "f0e40ece-4b87-418d-b210-ebb274d5f52c",
   "metadata": {},
   "outputs": [
    {
     "name": "stdout",
     "output_type": "stream",
     "text": [
      "X_test:  [3 6]\n",
      "X_test:  [1 9]\n",
      "X_test:  [0 5]\n",
      "X_test:  [2 8]\n",
      "X_test:  [4 7]\n"
     ]
    }
   ],
   "source": [
    "kf = KFold(n_splits=5, shuffle=True)\n",
    "X = np.array(X)\n",
    "y = np.array(y)\n",
    "\n",
    "for train_index, test_index in kf.split(X):\n",
    "    X_train, X_test = X[train_index], X[test_index]\n",
    "    y_train, y_test = y[train_index], y[test_index]\n",
    "    print(\"X_test: \", X_test)\n",
    "    \n",
    "# same mixing effect for the original data sets"
   ]
  },
  {
   "cell_type": "markdown",
   "id": "212764d7-12ba-4cf3-b3ba-9dd74e0b32e8",
   "metadata": {},
   "source": [
    "In addition, scikit-learn provides useful built-in functions to calculate the error metrics of multiple folds of test sets to evaluate machine learning models. For example,\n",
    "model_selection.cross_val_score(model, X, y, cv=kf, scoring=‘neg_mean_absolute_error’)"
   ]
  },
  {
   "cell_type": "code",
   "execution_count": null,
   "id": "fdbb52bf-ea0b-47a4-bd9d-339e412455f4",
   "metadata": {},
   "outputs": [],
   "source": []
  }
 ],
 "metadata": {
  "kernelspec": {
   "display_name": "bootcamp_env",
   "language": "python",
   "name": "bootcamp_env"
  },
  "language_info": {
   "codemirror_mode": {
    "name": "ipython",
    "version": 3
   },
   "file_extension": ".py",
   "mimetype": "text/x-python",
   "name": "python",
   "nbconvert_exporter": "python",
   "pygments_lexer": "ipython3",
   "version": "3.8.5"
  }
 },
 "nbformat": 4,
 "nbformat_minor": 5
}
