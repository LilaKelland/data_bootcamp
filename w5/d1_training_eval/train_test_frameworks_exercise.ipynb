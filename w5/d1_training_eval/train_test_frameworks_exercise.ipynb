{
 "cells": [
  {
   "cell_type": "markdown",
   "metadata": {},
   "source": [
    "## Train Test Frameworks\n",
    "\n",
    "The following exercise is to practice the syntax of the various functions from sklearn that split data into train and test sets. The goal of this exercise is to get familiar with these different splitting methods before engaging with the more complex activities at the end of the day. "
   ]
  },
  {
   "cell_type": "code",
   "execution_count": 1,
   "metadata": {
    "ExecuteTime": {
     "end_time": "2020-04-27T07:17:19.733929Z",
     "start_time": "2020-04-27T07:17:19.730983Z"
    }
   },
   "outputs": [],
   "source": [
    "# import numpy\n",
    "import numpy as np"
   ]
  },
  {
   "cell_type": "code",
   "execution_count": 2,
   "metadata": {
    "ExecuteTime": {
     "end_time": "2020-04-27T07:17:20.442277Z",
     "start_time": "2020-04-27T07:17:20.436036Z"
    }
   },
   "outputs": [],
   "source": [
    "X = np.random.normal(0,1,20).reshape(10,2)\n",
    "y = np.random.normal(0,1,10)"
   ]
  },
  {
   "cell_type": "markdown",
   "metadata": {},
   "source": [
    "* print X"
   ]
  },
  {
   "cell_type": "code",
   "execution_count": 6,
   "metadata": {
    "ExecuteTime": {
     "end_time": "2020-02-25T10:10:05.516072Z",
     "start_time": "2020-02-25T10:10:05.507842Z"
    }
   },
   "outputs": [
    {
     "name": "stdout",
     "output_type": "stream",
     "text": [
      "[[-0.62804471 -0.55674956]\n",
      " [-0.39211274 -1.43042493]\n",
      " [-0.50687807  1.00495688]\n",
      " [ 0.25146922  1.38620468]\n",
      " [-0.47763297  0.22940278]\n",
      " [-1.20251345 -0.36805838]\n",
      " [-0.39847199 -0.74807168]\n",
      " [ 0.46660624 -1.61656935]\n",
      " [ 0.81885512 -0.96850289]\n",
      " [-2.11064717 -0.8031916 ]]\n",
      "(10, 2)\n"
     ]
    }
   ],
   "source": [
    "print(X)\n",
    "print(X.shape)"
   ]
  },
  {
   "cell_type": "markdown",
   "metadata": {},
   "source": [
    "* print y"
   ]
  },
  {
   "cell_type": "code",
   "execution_count": 5,
   "metadata": {
    "ExecuteTime": {
     "end_time": "2020-02-25T10:10:06.238921Z",
     "start_time": "2020-02-25T10:10:06.228202Z"
    }
   },
   "outputs": [
    {
     "name": "stdout",
     "output_type": "stream",
     "text": [
      "[-0.33785899 -0.24363019  1.6318366   0.45589397  1.14942835  0.41984574\n",
      " -1.45249265  0.3762408   0.85493141  0.63568675]\n",
      "(10,)\n"
     ]
    }
   ],
   "source": [
    "print(y)\n",
    "print(y.shape)"
   ]
  },
  {
   "cell_type": "markdown",
   "metadata": {},
   "source": [
    "_____________________________\n",
    "### Holdout split"
   ]
  },
  {
   "cell_type": "markdown",
   "metadata": {},
   "source": [
    "* import the **train_test_split** function from sklearn"
   ]
  },
  {
   "cell_type": "code",
   "execution_count": 10,
   "metadata": {
    "ExecuteTime": {
     "end_time": "2020-04-27T07:19:36.229754Z",
     "start_time": "2020-04-27T07:19:36.224380Z"
    }
   },
   "outputs": [],
   "source": [
    "# import sklearn.model_selection as model_selection\n",
    "from sklearn.model_selection import train_test_split"
   ]
  },
  {
   "cell_type": "markdown",
   "metadata": {},
   "source": [
    "* split the data to train set and test set, use a 70:30 ratio or a 80:20 ratio."
   ]
  },
  {
   "cell_type": "code",
   "execution_count": 11,
   "metadata": {
    "ExecuteTime": {
     "end_time": "2020-04-27T07:19:36.690033Z",
     "start_time": "2020-04-27T07:19:36.679323Z"
    }
   },
   "outputs": [],
   "source": [
    "X_train, X_test, y_train, y_test = train_test_split(X, y, train_size=0.7,test_size=0.30, random_state=101)"
   ]
  },
  {
   "cell_type": "markdown",
   "metadata": {},
   "source": [
    "* print X_train"
   ]
  },
  {
   "cell_type": "code",
   "execution_count": 12,
   "metadata": {
    "ExecuteTime": {
     "end_time": "2020-04-27T07:19:37.410555Z",
     "start_time": "2020-04-27T07:19:37.384346Z"
    }
   },
   "outputs": [
    {
     "name": "stdout",
     "output_type": "stream",
     "text": [
      "[[-0.47763297  0.22940278]\n",
      " [-2.11064717 -0.8031916 ]\n",
      " [ 0.25146922  1.38620468]\n",
      " [-1.20251345 -0.36805838]\n",
      " [ 0.46660624 -1.61656935]\n",
      " [-0.39847199 -0.74807168]\n",
      " [-0.39211274 -1.43042493]]\n"
     ]
    }
   ],
   "source": [
    "print(X_train)"
   ]
  },
  {
   "cell_type": "markdown",
   "metadata": {},
   "source": [
    "* split the data again but now with the parameter shuffle = False"
   ]
  },
  {
   "cell_type": "code",
   "execution_count": 13,
   "metadata": {
    "ExecuteTime": {
     "end_time": "2020-04-27T07:19:38.392368Z",
     "start_time": "2020-04-27T07:19:38.387406Z"
    }
   },
   "outputs": [],
   "source": [
    "X_train, X_test, y_train, y_test = train_test_split(X, y, train_size=0.7,test_size=0.30, random_state=101, shuffle=False)"
   ]
  },
  {
   "cell_type": "markdown",
   "metadata": {},
   "source": [
    "* print X_train"
   ]
  },
  {
   "cell_type": "code",
   "execution_count": 14,
   "metadata": {
    "ExecuteTime": {
     "end_time": "2020-04-27T07:19:56.965372Z",
     "start_time": "2020-04-27T07:19:56.954696Z"
    }
   },
   "outputs": [
    {
     "name": "stdout",
     "output_type": "stream",
     "text": [
      "[[-0.62804471 -0.55674956]\n",
      " [-0.39211274 -1.43042493]\n",
      " [-0.50687807  1.00495688]\n",
      " [ 0.25146922  1.38620468]\n",
      " [-0.47763297  0.22940278]\n",
      " [-1.20251345 -0.36805838]\n",
      " [-0.39847199 -0.74807168]]\n"
     ]
    }
   ],
   "source": [
    "print(X_train)"
   ]
  },
  {
   "cell_type": "markdown",
   "metadata": {},
   "source": [
    "* print the shape of X_train and X_test"
   ]
  },
  {
   "cell_type": "code",
   "execution_count": 15,
   "metadata": {},
   "outputs": [
    {
     "name": "stdout",
     "output_type": "stream",
     "text": [
      "X_train (7, 2)\n",
      "X_test (3, 2)\n"
     ]
    }
   ],
   "source": [
    "print('X_train', X_train.shape)\n",
    "print('X_test', X_test.shape)"
   ]
  },
  {
   "cell_type": "code",
   "execution_count": null,
   "metadata": {},
   "outputs": [],
   "source": []
  },
  {
   "cell_type": "markdown",
   "metadata": {},
   "source": [
    "_________________________________\n",
    "### K-fold split "
   ]
  },
  {
   "cell_type": "markdown",
   "metadata": {},
   "source": [
    "* import the **KFold** function from sklearn"
   ]
  },
  {
   "cell_type": "code",
   "execution_count": 16,
   "metadata": {
    "ExecuteTime": {
     "end_time": "2020-04-27T07:20:20.040524Z",
     "start_time": "2020-04-27T07:20:20.034774Z"
    }
   },
   "outputs": [],
   "source": [
    "from sklearn.model_selection import KFold"
   ]
  },
  {
   "cell_type": "markdown",
   "metadata": {},
   "source": [
    "* instantiate KFold with k=5"
   ]
  },
  {
   "cell_type": "code",
   "execution_count": 17,
   "metadata": {
    "ExecuteTime": {
     "end_time": "2020-04-27T07:21:02.886273Z",
     "start_time": "2020-04-27T07:21:02.882100Z"
    }
   },
   "outputs": [],
   "source": [
    "kf = KFold(n_splits=5)\n",
    "\n"
   ]
  },
  {
   "cell_type": "markdown",
   "metadata": {},
   "source": [
    "* iterate over train_index and test_index in kf.split(X) and print them"
   ]
  },
  {
   "cell_type": "code",
   "execution_count": 19,
   "metadata": {
    "ExecuteTime": {
     "end_time": "2020-04-27T07:21:30.570119Z",
     "start_time": "2020-04-27T07:21:30.560118Z"
    }
   },
   "outputs": [
    {
     "name": "stdout",
     "output_type": "stream",
     "text": [
      "X_test:  [[ 0.81885512 -0.96850289]\n",
      " [-2.11064717 -0.8031916 ]]\n"
     ]
    }
   ],
   "source": [
    "for train_index, test_index in kf.split(X):\n",
    "    X_train, X_test = X[train_index], X[test_index]\n",
    "    y_train, y_test = y[train_index], y[test_index]\n",
    "print(\"X_test: \", X_test)"
   ]
  },
  {
   "cell_type": "markdown",
   "metadata": {},
   "source": [
    "* instantiate KFold with k=5 and shuffle=True"
   ]
  },
  {
   "cell_type": "code",
   "execution_count": 21,
   "metadata": {
    "ExecuteTime": {
     "end_time": "2020-04-27T07:21:52.693825Z",
     "start_time": "2020-04-27T07:21:52.687089Z"
    }
   },
   "outputs": [],
   "source": [
    "kf = KFold(n_splits=5, shuffle= True)"
   ]
  },
  {
   "cell_type": "markdown",
   "metadata": {},
   "source": [
    "* iterate over train_index and test_index in kf.split(X) and print them"
   ]
  },
  {
   "cell_type": "code",
   "execution_count": 23,
   "metadata": {
    "ExecuteTime": {
     "end_time": "2020-02-25T10:19:37.219179Z",
     "start_time": "2020-02-25T10:19:37.210814Z"
    }
   },
   "outputs": [
    {
     "name": "stdout",
     "output_type": "stream",
     "text": [
      "X_train:  [[-0.62804471 -0.55674956]\n",
      " [-0.39211274 -1.43042493]\n",
      " [ 0.25146922  1.38620468]\n",
      " [-0.47763297  0.22940278]\n",
      " [-1.20251345 -0.36805838]\n",
      " [ 0.46660624 -1.61656935]\n",
      " [ 0.81885512 -0.96850289]\n",
      " [-2.11064717 -0.8031916 ]]\n",
      "X_test:  [[-0.50687807  1.00495688]\n",
      " [-0.39847199 -0.74807168]]\n"
     ]
    }
   ],
   "source": [
    "for train_index, test_index in kf.split(X):\n",
    "    X_train, X_test = X[train_index], X[test_index]\n",
    "print(\"X_train: \", X_train)\n",
    "print(\"X_test: \", X_test)"
   ]
  },
  {
   "cell_type": "code",
   "execution_count": null,
   "metadata": {},
   "outputs": [],
   "source": []
  },
  {
   "cell_type": "markdown",
   "metadata": {
    "ExecuteTime": {
     "end_time": "2020-02-25T10:20:50.997776Z",
     "start_time": "2020-02-25T10:20:50.991967Z"
    }
   },
   "source": [
    "_______________________________________\n",
    "### Leave-One-Out split\n",
    "This is a similar technique to the Leave-p-out in the previous readings, with p=1. Each observation is used as test set separately.\n",
    "- This is a popular method for tiny datasets.\n",
    "- It takes a lot of time with bigger datasets and can lead to overfitting on a final model."
   ]
  },
  {
   "cell_type": "code",
   "execution_count": 24,
   "metadata": {},
   "outputs": [],
   "source": [
    "# Note: LeaveOneOut() is equivalent to KFold(n_splits=n) and LeavePOut(p=1) where n is the number of samples.\n"
   ]
  },
  {
   "cell_type": "markdown",
   "metadata": {},
   "source": [
    "* import the **LeaveOneOut** function from sklearn"
   ]
  },
  {
   "cell_type": "code",
   "execution_count": null,
   "metadata": {
    "ExecuteTime": {
     "end_time": "2020-04-27T07:22:57.562338Z",
     "start_time": "2020-04-27T07:22:57.557038Z"
    }
   },
   "outputs": [],
   "source": [
    "from sklearn.model_selection import LeaveOneOut"
   ]
  },
  {
   "cell_type": "markdown",
   "metadata": {},
   "source": [
    "* instantiate LeaveOneOut"
   ]
  },
  {
   "cell_type": "code",
   "execution_count": 26,
   "metadata": {
    "ExecuteTime": {
     "end_time": "2020-04-27T07:22:58.073776Z",
     "start_time": "2020-04-27T07:22:58.069381Z"
    }
   },
   "outputs": [
    {
     "data": {
      "text/plain": [
       "10"
      ]
     },
     "execution_count": 26,
     "metadata": {},
     "output_type": "execute_result"
    }
   ],
   "source": [
    "loo = LeaveOneOut()\n"
   ]
  },
  {
   "cell_type": "markdown",
   "metadata": {},
   "source": [
    "* iterate over train_index and test_index in loo.split(X) and print them"
   ]
  },
  {
   "cell_type": "code",
   "execution_count": 27,
   "metadata": {
    "ExecuteTime": {
     "end_time": "2020-04-27T07:23:15.893291Z",
     "start_time": "2020-04-27T07:23:15.882373Z"
    }
   },
   "outputs": [
    {
     "name": "stdout",
     "output_type": "stream",
     "text": [
      "TRAIN: [0 1 3 4 5 7 8 9] TEST: [0]\n",
      "[[-0.62804471 -0.55674956]\n",
      " [-0.39211274 -1.43042493]\n",
      " [ 0.25146922  1.38620468]\n",
      " [-0.47763297  0.22940278]\n",
      " [-1.20251345 -0.36805838]\n",
      " [ 0.46660624 -1.61656935]\n",
      " [ 0.81885512 -0.96850289]\n",
      " [-2.11064717 -0.8031916 ]] [[-0.62804471 -0.55674956]] [-0.33785899 -0.24363019  0.45589397  1.14942835  0.41984574  0.3762408\n",
      "  0.85493141  0.63568675] [-0.33785899]\n",
      "TRAIN: [0 1 3 4 5 7 8 9] TEST: [1]\n",
      "[[-0.62804471 -0.55674956]\n",
      " [-0.39211274 -1.43042493]\n",
      " [ 0.25146922  1.38620468]\n",
      " [-0.47763297  0.22940278]\n",
      " [-1.20251345 -0.36805838]\n",
      " [ 0.46660624 -1.61656935]\n",
      " [ 0.81885512 -0.96850289]\n",
      " [-2.11064717 -0.8031916 ]] [[-0.39211274 -1.43042493]] [-0.33785899 -0.24363019  0.45589397  1.14942835  0.41984574  0.3762408\n",
      "  0.85493141  0.63568675] [-0.24363019]\n",
      "TRAIN: [0 1 3 4 5 7 8 9] TEST: [2]\n",
      "[[-0.62804471 -0.55674956]\n",
      " [-0.39211274 -1.43042493]\n",
      " [ 0.25146922  1.38620468]\n",
      " [-0.47763297  0.22940278]\n",
      " [-1.20251345 -0.36805838]\n",
      " [ 0.46660624 -1.61656935]\n",
      " [ 0.81885512 -0.96850289]\n",
      " [-2.11064717 -0.8031916 ]] [[-0.50687807  1.00495688]] [-0.33785899 -0.24363019  0.45589397  1.14942835  0.41984574  0.3762408\n",
      "  0.85493141  0.63568675] [1.6318366]\n",
      "TRAIN: [0 1 3 4 5 7 8 9] TEST: [3]\n",
      "[[-0.62804471 -0.55674956]\n",
      " [-0.39211274 -1.43042493]\n",
      " [ 0.25146922  1.38620468]\n",
      " [-0.47763297  0.22940278]\n",
      " [-1.20251345 -0.36805838]\n",
      " [ 0.46660624 -1.61656935]\n",
      " [ 0.81885512 -0.96850289]\n",
      " [-2.11064717 -0.8031916 ]] [[0.25146922 1.38620468]] [-0.33785899 -0.24363019  0.45589397  1.14942835  0.41984574  0.3762408\n",
      "  0.85493141  0.63568675] [0.45589397]\n",
      "TRAIN: [0 1 3 4 5 7 8 9] TEST: [4]\n",
      "[[-0.62804471 -0.55674956]\n",
      " [-0.39211274 -1.43042493]\n",
      " [ 0.25146922  1.38620468]\n",
      " [-0.47763297  0.22940278]\n",
      " [-1.20251345 -0.36805838]\n",
      " [ 0.46660624 -1.61656935]\n",
      " [ 0.81885512 -0.96850289]\n",
      " [-2.11064717 -0.8031916 ]] [[-0.47763297  0.22940278]] [-0.33785899 -0.24363019  0.45589397  1.14942835  0.41984574  0.3762408\n",
      "  0.85493141  0.63568675] [1.14942835]\n",
      "TRAIN: [0 1 3 4 5 7 8 9] TEST: [5]\n",
      "[[-0.62804471 -0.55674956]\n",
      " [-0.39211274 -1.43042493]\n",
      " [ 0.25146922  1.38620468]\n",
      " [-0.47763297  0.22940278]\n",
      " [-1.20251345 -0.36805838]\n",
      " [ 0.46660624 -1.61656935]\n",
      " [ 0.81885512 -0.96850289]\n",
      " [-2.11064717 -0.8031916 ]] [[-1.20251345 -0.36805838]] [-0.33785899 -0.24363019  0.45589397  1.14942835  0.41984574  0.3762408\n",
      "  0.85493141  0.63568675] [0.41984574]\n",
      "TRAIN: [0 1 3 4 5 7 8 9] TEST: [6]\n",
      "[[-0.62804471 -0.55674956]\n",
      " [-0.39211274 -1.43042493]\n",
      " [ 0.25146922  1.38620468]\n",
      " [-0.47763297  0.22940278]\n",
      " [-1.20251345 -0.36805838]\n",
      " [ 0.46660624 -1.61656935]\n",
      " [ 0.81885512 -0.96850289]\n",
      " [-2.11064717 -0.8031916 ]] [[-0.39847199 -0.74807168]] [-0.33785899 -0.24363019  0.45589397  1.14942835  0.41984574  0.3762408\n",
      "  0.85493141  0.63568675] [-1.45249265]\n",
      "TRAIN: [0 1 3 4 5 7 8 9] TEST: [7]\n",
      "[[-0.62804471 -0.55674956]\n",
      " [-0.39211274 -1.43042493]\n",
      " [ 0.25146922  1.38620468]\n",
      " [-0.47763297  0.22940278]\n",
      " [-1.20251345 -0.36805838]\n",
      " [ 0.46660624 -1.61656935]\n",
      " [ 0.81885512 -0.96850289]\n",
      " [-2.11064717 -0.8031916 ]] [[ 0.46660624 -1.61656935]] [-0.33785899 -0.24363019  0.45589397  1.14942835  0.41984574  0.3762408\n",
      "  0.85493141  0.63568675] [0.3762408]\n",
      "TRAIN: [0 1 3 4 5 7 8 9] TEST: [8]\n",
      "[[-0.62804471 -0.55674956]\n",
      " [-0.39211274 -1.43042493]\n",
      " [ 0.25146922  1.38620468]\n",
      " [-0.47763297  0.22940278]\n",
      " [-1.20251345 -0.36805838]\n",
      " [ 0.46660624 -1.61656935]\n",
      " [ 0.81885512 -0.96850289]\n",
      " [-2.11064717 -0.8031916 ]] [[ 0.81885512 -0.96850289]] [-0.33785899 -0.24363019  0.45589397  1.14942835  0.41984574  0.3762408\n",
      "  0.85493141  0.63568675] [0.85493141]\n",
      "TRAIN: [0 1 3 4 5 7 8 9] TEST: [9]\n",
      "[[-0.62804471 -0.55674956]\n",
      " [-0.39211274 -1.43042493]\n",
      " [ 0.25146922  1.38620468]\n",
      " [-0.47763297  0.22940278]\n",
      " [-1.20251345 -0.36805838]\n",
      " [ 0.46660624 -1.61656935]\n",
      " [ 0.81885512 -0.96850289]\n",
      " [-2.11064717 -0.8031916 ]] [[-2.11064717 -0.8031916 ]] [-0.33785899 -0.24363019  0.45589397  1.14942835  0.41984574  0.3762408\n",
      "  0.85493141  0.63568675] [0.63568675]\n"
     ]
    }
   ],
   "source": [
    "for train_tindex, test_index in loo.split(X):\n",
    "    print(\"TRAIN:\", train_index, \"TEST:\", test_index)\n",
    "    X_train, X_test = X[train_index], X[test_index]\n",
    "    y_train, y_test = y[train_index], y[test_index]\n",
    "    print(X_train, X_test, y_train, y_test)"
   ]
  },
  {
   "cell_type": "code",
   "execution_count": null,
   "metadata": {},
   "outputs": [],
   "source": []
  },
  {
   "cell_type": "markdown",
   "metadata": {
    "ExecuteTime": {
     "end_time": "2020-04-27T07:23:32.091854Z",
     "start_time": "2020-04-27T07:23:32.084557Z"
    }
   },
   "source": [
    "* print the number of splits"
   ]
  },
  {
   "cell_type": "code",
   "execution_count": 28,
   "metadata": {
    "ExecuteTime": {
     "end_time": "2020-04-27T07:23:44.088113Z",
     "start_time": "2020-04-27T07:23:44.079901Z"
    }
   },
   "outputs": [
    {
     "data": {
      "text/plain": [
       "10"
      ]
     },
     "execution_count": 28,
     "metadata": {},
     "output_type": "execute_result"
    }
   ],
   "source": [
    "loo.get_n_splits(X)"
   ]
  },
  {
   "cell_type": "code",
   "execution_count": null,
   "metadata": {},
   "outputs": [],
   "source": []
  }
 ],
 "metadata": {
  "kernelspec": {
   "display_name": "Python 3 (ipykernel)",
   "language": "python",
   "name": "python3"
  },
  "language_info": {
   "codemirror_mode": {
    "name": "ipython",
    "version": 3
   },
   "file_extension": ".py",
   "mimetype": "text/x-python",
   "name": "python",
   "nbconvert_exporter": "python",
   "pygments_lexer": "ipython3",
   "version": "3.8.11"
  },
  "toc": {
   "base_numbering": 1,
   "nav_menu": {},
   "number_sections": true,
   "sideBar": true,
   "skip_h1_title": false,
   "title_cell": "Table of Contents",
   "title_sidebar": "Contents",
   "toc_cell": false,
   "toc_position": {},
   "toc_section_display": true,
   "toc_window_display": false
  },
  "varInspector": {
   "cols": {
    "lenName": 16,
    "lenType": 16,
    "lenVar": 40
   },
   "kernels_config": {
    "python": {
     "delete_cmd_postfix": "",
     "delete_cmd_prefix": "del ",
     "library": "var_list.py",
     "varRefreshCmd": "print(var_dic_list())"
    },
    "r": {
     "delete_cmd_postfix": ") ",
     "delete_cmd_prefix": "rm(",
     "library": "var_list.r",
     "varRefreshCmd": "cat(var_dic_list()) "
    }
   },
   "types_to_exclude": [
    "module",
    "function",
    "builtin_function_or_method",
    "instance",
    "_Feature"
   ],
   "window_display": false
  }
 },
 "nbformat": 4,
 "nbformat_minor": 4
}
