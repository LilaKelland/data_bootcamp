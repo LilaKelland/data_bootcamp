{
 "cells": [
  {
   "cell_type": "markdown",
   "metadata": {},
   "source": [
    "## Logistic Regression Challenge"
   ]
  },
  {
   "cell_type": "code",
   "execution_count": 144,
   "metadata": {},
   "outputs": [],
   "source": [
    "#import the required packages here\n",
    "#import the required packages here\n",
    "import pandas as pd\n",
    "import numpy as np\n",
    "\n",
    "import statsmodels.api as sm\n",
    "\n",
    "import matplotlib.pyplot as plt \n",
    "plt.rc(\"font\", size=14)\n",
    "\n",
    "import seaborn as sns\n",
    "sns.set(style=\"white\")\n",
    "sns.set(style=\"whitegrid\", color_codes=True)\n",
    "\n",
    "from sklearn.preprocessing import StandardScaler\n",
    "from sklearn.model_selection import train_test_split\n",
    "from sklearn.linear_model import LogisticRegression\n",
    "from sklearn.metrics import classification_report, accuracy_score, plot_roc_curve, plot_precision_recall_curve, plot_confusion_matrix\n",
    "from sklearn.metrics import log_loss, roc_auc_score, recall_score, precision_score, average_precision_score,f1_score"
   ]
  },
  {
   "cell_type": "markdown",
   "metadata": {},
   "source": [
    "### Task 1: Download the data and load them into Python.\n",
    "You can find the data [**here**](https://drive.google.com/file/d/0Bz9_0VdXvv9bX0MzUEhVdmpCc3c/view?usp=sharing&resourcekey=0-BirYbvtYO-hSEt09wpEBRw).\n",
    "\n",
    "**Note**\n",
    "- Features and response variables are in different files.\n",
    "- Be careful about number of spaces between the values in the file."
   ]
  },
  {
   "cell_type": "code",
   "execution_count": 184,
   "metadata": {},
   "outputs": [
    {
     "data": {
      "text/html": [
       "<div>\n",
       "<style scoped>\n",
       "    .dataframe tbody tr th:only-of-type {\n",
       "        vertical-align: middle;\n",
       "    }\n",
       "\n",
       "    .dataframe tbody tr th {\n",
       "        vertical-align: top;\n",
       "    }\n",
       "\n",
       "    .dataframe thead th {\n",
       "        text-align: right;\n",
       "    }\n",
       "</style>\n",
       "<table border=\"1\" class=\"dataframe\">\n",
       "  <thead>\n",
       "    <tr style=\"text-align: right;\">\n",
       "      <th></th>\n",
       "      <th>tBodyAcc-mean()-X</th>\n",
       "      <th>tBodyAcc-mean()-Y</th>\n",
       "      <th>tBodyAcc-mean()-Z</th>\n",
       "      <th>tBodyAcc-std()-X</th>\n",
       "      <th>tBodyAcc-std()-Y</th>\n",
       "      <th>tBodyAcc-std()-Z</th>\n",
       "      <th>tBodyAcc-mad()-X</th>\n",
       "      <th>tBodyAcc-mad()-Y</th>\n",
       "      <th>tBodyAcc-mad()-Z</th>\n",
       "      <th>tBodyAcc-max()-X</th>\n",
       "      <th>...</th>\n",
       "      <th>fBodyBodyGyroJerkMag-meanFreq()</th>\n",
       "      <th>fBodyBodyGyroJerkMag-skewness()</th>\n",
       "      <th>fBodyBodyGyroJerkMag-kurtosis()</th>\n",
       "      <th>angle(tBodyAccMean,gravity)</th>\n",
       "      <th>angle(tBodyAccJerkMean),gravityMean)</th>\n",
       "      <th>angle(tBodyGyroMean,gravityMean)</th>\n",
       "      <th>angle(tBodyGyroJerkMean,gravityMean)</th>\n",
       "      <th>angle(X,gravityMean)</th>\n",
       "      <th>angle(Y,gravityMean)</th>\n",
       "      <th>angle(Z,gravityMean)</th>\n",
       "    </tr>\n",
       "  </thead>\n",
       "  <tbody>\n",
       "    <tr>\n",
       "      <th>0</th>\n",
       "      <td>0.278419</td>\n",
       "      <td>-0.016411</td>\n",
       "      <td>-0.123520</td>\n",
       "      <td>-0.998245</td>\n",
       "      <td>-0.975300</td>\n",
       "      <td>-0.960322</td>\n",
       "      <td>-0.998807</td>\n",
       "      <td>-0.974914</td>\n",
       "      <td>-0.957686</td>\n",
       "      <td>-0.943068</td>\n",
       "      <td>...</td>\n",
       "      <td>0.158075</td>\n",
       "      <td>-0.595051</td>\n",
       "      <td>-0.861499</td>\n",
       "      <td>0.053477</td>\n",
       "      <td>-0.007435</td>\n",
       "      <td>-0.732626</td>\n",
       "      <td>0.703511</td>\n",
       "      <td>-0.844788</td>\n",
       "      <td>0.180289</td>\n",
       "      <td>-0.054317</td>\n",
       "    </tr>\n",
       "    <tr>\n",
       "      <th>1</th>\n",
       "      <td>0.279653</td>\n",
       "      <td>-0.019467</td>\n",
       "      <td>-0.113462</td>\n",
       "      <td>-0.995380</td>\n",
       "      <td>-0.967187</td>\n",
       "      <td>-0.978944</td>\n",
       "      <td>-0.996520</td>\n",
       "      <td>-0.963668</td>\n",
       "      <td>-0.977469</td>\n",
       "      <td>-0.938692</td>\n",
       "      <td>...</td>\n",
       "      <td>0.414503</td>\n",
       "      <td>-0.390748</td>\n",
       "      <td>-0.760104</td>\n",
       "      <td>-0.118559</td>\n",
       "      <td>0.177899</td>\n",
       "      <td>0.100699</td>\n",
       "      <td>0.808529</td>\n",
       "      <td>-0.848933</td>\n",
       "      <td>0.180637</td>\n",
       "      <td>-0.049118</td>\n",
       "    </tr>\n",
       "    <tr>\n",
       "      <th>2</th>\n",
       "      <td>0.279174</td>\n",
       "      <td>-0.026201</td>\n",
       "      <td>-0.123283</td>\n",
       "      <td>-0.996091</td>\n",
       "      <td>-0.983403</td>\n",
       "      <td>-0.990675</td>\n",
       "      <td>-0.997099</td>\n",
       "      <td>-0.982750</td>\n",
       "      <td>-0.989302</td>\n",
       "      <td>-0.938692</td>\n",
       "      <td>...</td>\n",
       "      <td>0.404573</td>\n",
       "      <td>-0.117290</td>\n",
       "      <td>-0.482845</td>\n",
       "      <td>-0.036788</td>\n",
       "      <td>-0.012892</td>\n",
       "      <td>0.640011</td>\n",
       "      <td>-0.485366</td>\n",
       "      <td>-0.848649</td>\n",
       "      <td>0.181935</td>\n",
       "      <td>-0.047663</td>\n",
       "    </tr>\n",
       "    <tr>\n",
       "      <th>3</th>\n",
       "      <td>0.276629</td>\n",
       "      <td>-0.016570</td>\n",
       "      <td>-0.115362</td>\n",
       "      <td>-0.998139</td>\n",
       "      <td>-0.980817</td>\n",
       "      <td>-0.990482</td>\n",
       "      <td>-0.998321</td>\n",
       "      <td>-0.979672</td>\n",
       "      <td>-0.990441</td>\n",
       "      <td>-0.942469</td>\n",
       "      <td>...</td>\n",
       "      <td>0.087753</td>\n",
       "      <td>-0.351471</td>\n",
       "      <td>-0.699205</td>\n",
       "      <td>0.123320</td>\n",
       "      <td>0.122542</td>\n",
       "      <td>0.693578</td>\n",
       "      <td>-0.615971</td>\n",
       "      <td>-0.847865</td>\n",
       "      <td>0.185151</td>\n",
       "      <td>-0.043892</td>\n",
       "    </tr>\n",
       "    <tr>\n",
       "      <th>4</th>\n",
       "      <td>0.277199</td>\n",
       "      <td>-0.010098</td>\n",
       "      <td>-0.105137</td>\n",
       "      <td>-0.997335</td>\n",
       "      <td>-0.990487</td>\n",
       "      <td>-0.995420</td>\n",
       "      <td>-0.997627</td>\n",
       "      <td>-0.990218</td>\n",
       "      <td>-0.995549</td>\n",
       "      <td>-0.942469</td>\n",
       "      <td>...</td>\n",
       "      <td>0.019953</td>\n",
       "      <td>-0.545410</td>\n",
       "      <td>-0.844619</td>\n",
       "      <td>0.082632</td>\n",
       "      <td>-0.143439</td>\n",
       "      <td>0.275041</td>\n",
       "      <td>-0.368224</td>\n",
       "      <td>-0.849632</td>\n",
       "      <td>0.184823</td>\n",
       "      <td>-0.042126</td>\n",
       "    </tr>\n",
       "  </tbody>\n",
       "</table>\n",
       "<p>5 rows × 561 columns</p>\n",
       "</div>"
      ],
      "text/plain": [
       "   tBodyAcc-mean()-X  tBodyAcc-mean()-Y  tBodyAcc-mean()-Z  tBodyAcc-std()-X  \\\n",
       "0           0.278419          -0.016411          -0.123520         -0.998245   \n",
       "1           0.279653          -0.019467          -0.113462         -0.995380   \n",
       "2           0.279174          -0.026201          -0.123283         -0.996091   \n",
       "3           0.276629          -0.016570          -0.115362         -0.998139   \n",
       "4           0.277199          -0.010098          -0.105137         -0.997335   \n",
       "\n",
       "   tBodyAcc-std()-Y  tBodyAcc-std()-Z  tBodyAcc-mad()-X  tBodyAcc-mad()-Y  \\\n",
       "0         -0.975300         -0.960322         -0.998807         -0.974914   \n",
       "1         -0.967187         -0.978944         -0.996520         -0.963668   \n",
       "2         -0.983403         -0.990675         -0.997099         -0.982750   \n",
       "3         -0.980817         -0.990482         -0.998321         -0.979672   \n",
       "4         -0.990487         -0.995420         -0.997627         -0.990218   \n",
       "\n",
       "   tBodyAcc-mad()-Z  tBodyAcc-max()-X  ...  fBodyBodyGyroJerkMag-meanFreq()  \\\n",
       "0         -0.957686         -0.943068  ...                         0.158075   \n",
       "1         -0.977469         -0.938692  ...                         0.414503   \n",
       "2         -0.989302         -0.938692  ...                         0.404573   \n",
       "3         -0.990441         -0.942469  ...                         0.087753   \n",
       "4         -0.995549         -0.942469  ...                         0.019953   \n",
       "\n",
       "   fBodyBodyGyroJerkMag-skewness()  fBodyBodyGyroJerkMag-kurtosis()  \\\n",
       "0                        -0.595051                        -0.861499   \n",
       "1                        -0.390748                        -0.760104   \n",
       "2                        -0.117290                        -0.482845   \n",
       "3                        -0.351471                        -0.699205   \n",
       "4                        -0.545410                        -0.844619   \n",
       "\n",
       "   angle(tBodyAccMean,gravity)  angle(tBodyAccJerkMean),gravityMean)  \\\n",
       "0                     0.053477                             -0.007435   \n",
       "1                    -0.118559                              0.177899   \n",
       "2                    -0.036788                             -0.012892   \n",
       "3                     0.123320                              0.122542   \n",
       "4                     0.082632                             -0.143439   \n",
       "\n",
       "   angle(tBodyGyroMean,gravityMean)  angle(tBodyGyroJerkMean,gravityMean)  \\\n",
       "0                         -0.732626                              0.703511   \n",
       "1                          0.100699                              0.808529   \n",
       "2                          0.640011                             -0.485366   \n",
       "3                          0.693578                             -0.615971   \n",
       "4                          0.275041                             -0.368224   \n",
       "\n",
       "   angle(X,gravityMean)  angle(Y,gravityMean)  angle(Z,gravityMean)  \n",
       "0             -0.844788              0.180289             -0.054317  \n",
       "1             -0.848933              0.180637             -0.049118  \n",
       "2             -0.848649              0.181935             -0.047663  \n",
       "3             -0.847865              0.185151             -0.043892  \n",
       "4             -0.849632              0.184823             -0.042126  \n",
       "\n",
       "[5 rows x 561 columns]"
      ]
     },
     "execution_count": 184,
     "metadata": {},
     "output_type": "execute_result"
    }
   ],
   "source": [
    "# LOAD DATA\n",
    "\n",
    "# get labels\n",
    "activity_labels = pd.read_csv('Smartphone_Sensor_Data/activity_labels.txt', sep=\" \", header=None)\n",
    "features_labels = pd.read_csv('Smartphone_Sensor_Data/features.txt', sep=\" \", header=None)\n",
    "# print(features_labels[1].values.size)\n",
    "\n",
    "feature_columns = features_labels[1].values\n",
    "activity_columns = activity_labels[1].values # these are the labels of the y categories\n",
    "\n",
    "# # get data and assign labels ( can't do for y yet)\n",
    "X_train = pd.read_csv('Smartphone_Sensor_Data/train/X_train.txt', sep='\\s+')\n",
    "y_train =  pd.read_csv('Smartphone_Sensor_Data/train/y_train.txt', sep='\\s+', header=None)\n",
    "X_train.columns = feature_columns\n",
    "\n",
    "# y_train.columns = activity_columns\n",
    "\n",
    "# # tab # end of row parameter - error bad line = true - will skip\n",
    " \n",
    "X_train.head()\n"
   ]
  },
  {
   "cell_type": "code",
   "execution_count": 185,
   "metadata": {},
   "outputs": [
    {
     "data": {
      "text/plain": [
       "array(['WALKING', 'WALKING_UPSTAIRS', 'WALKING_DOWNSTAIRS', 'SITTING',\n",
       "       'STANDING', 'LAYING'], dtype=object)"
      ]
     },
     "execution_count": 185,
     "metadata": {},
     "output_type": "execute_result"
    }
   ],
   "source": [
    "activity_label_columns = activity_labels[1].values \n",
    "activity_label_columns"
   ]
  },
  {
   "cell_type": "code",
   "execution_count": null,
   "metadata": {},
   "outputs": [],
   "source": [
    "# ### OKAY SO I GUESS WE TEST/TRAIN SPLIT ON THE original \"TRAIN\" since there's no test"
   ]
  },
  {
   "cell_type": "code",
   "execution_count": 110,
   "metadata": {},
   "outputs": [
    {
     "name": "stdout",
     "output_type": "stream",
     "text": [
      "<class 'pandas.core.frame.DataFrame'>\n",
      "RangeIndex: 7351 entries, 0 to 7350\n",
      "Columns: 561 entries, tBodyAcc-mean()-X to angle(Z,gravityMean)\n",
      "dtypes: float64(561)\n",
      "memory usage: 31.5 MB\n"
     ]
    }
   ],
   "source": [
    "X_train.info()"
   ]
  },
  {
   "cell_type": "markdown",
   "metadata": {},
   "source": [
    "### Task 2: Create a binary target variable: categories 1,2,3 --> 1, categories 4,5,6 --> 0 \n",
    "This will represent a binary variable indicating if person is walking or not."
   ]
  },
  {
   "cell_type": "code",
   "execution_count": 64,
   "metadata": {},
   "outputs": [
    {
     "data": {
      "text/html": [
       "<div>\n",
       "<style scoped>\n",
       "    .dataframe tbody tr th:only-of-type {\n",
       "        vertical-align: middle;\n",
       "    }\n",
       "\n",
       "    .dataframe tbody tr th {\n",
       "        vertical-align: top;\n",
       "    }\n",
       "\n",
       "    .dataframe thead th {\n",
       "        text-align: right;\n",
       "    }\n",
       "</style>\n",
       "<table border=\"1\" class=\"dataframe\">\n",
       "  <thead>\n",
       "    <tr style=\"text-align: right;\">\n",
       "      <th></th>\n",
       "      <th>0</th>\n",
       "    </tr>\n",
       "  </thead>\n",
       "  <tbody>\n",
       "    <tr>\n",
       "      <th>0</th>\n",
       "      <td>5</td>\n",
       "    </tr>\n",
       "    <tr>\n",
       "      <th>1</th>\n",
       "      <td>5</td>\n",
       "    </tr>\n",
       "    <tr>\n",
       "      <th>2</th>\n",
       "      <td>5</td>\n",
       "    </tr>\n",
       "    <tr>\n",
       "      <th>3</th>\n",
       "      <td>5</td>\n",
       "    </tr>\n",
       "    <tr>\n",
       "      <th>4</th>\n",
       "      <td>5</td>\n",
       "    </tr>\n",
       "  </tbody>\n",
       "</table>\n",
       "</div>"
      ],
      "text/plain": [
       "   0\n",
       "0  5\n",
       "1  5\n",
       "2  5\n",
       "3  5\n",
       "4  5"
      ]
     },
     "execution_count": 64,
     "metadata": {},
     "output_type": "execute_result"
    }
   ],
   "source": [
    "y_train.head()"
   ]
  },
  {
   "cell_type": "code",
   "execution_count": 76,
   "metadata": {},
   "outputs": [
    {
     "data": {
      "text/plain": [
       "Int64Index([0], dtype='int64')"
      ]
     },
     "execution_count": 76,
     "metadata": {},
     "output_type": "execute_result"
    }
   ],
   "source": [
    "y_train_binary = y_train.copy()\n",
    "y_train_binary= y_train_binary.replace({2:1, 3:1, 6:0, 5:0, 4:0})\n",
    "\n",
    "y_train_binary.columns"
   ]
  },
  {
   "cell_type": "code",
   "execution_count": null,
   "metadata": {},
   "outputs": [],
   "source": [
    "# ##### CHECK NULL VALUES"
   ]
  },
  {
   "cell_type": "code",
   "execution_count": null,
   "metadata": {},
   "outputs": [],
   "source": []
  },
  {
   "cell_type": "code",
   "execution_count": 136,
   "metadata": {},
   "outputs": [
    {
     "data": {
      "text/plain": [
       "(7351, 562)"
      ]
     },
     "execution_count": 136,
     "metadata": {},
     "output_type": "execute_result"
    }
   ],
   "source": [
    "# COMBINE TO STRATIFY y AND TRAIN/SPLIT\n",
    "df = pd.concat([X_train, y_train_binary], axis = 1)\n",
    "df = df.dropna()\n",
    "\n",
    "random_seed = 88\n",
    "df_train, df_test = train_test_split(df, test_size=0.2, random_state=random_seed, stratify=df[0])\n",
    "df_train.head()\n",
    "df.shape"
   ]
  },
  {
   "cell_type": "code",
   "execution_count": 121,
   "metadata": {},
   "outputs": [],
   "source": [
    "# df_train['tGravityAcc-min()-Y'].isnull().values.any()\n",
    "# df_train['tGravityAcc-min()-Y'].isnull().sum()\n",
    "# df_train = df_train.dropna()"
   ]
  },
  {
   "cell_type": "code",
   "execution_count": 153,
   "metadata": {},
   "outputs": [],
   "source": [
    "y_train_b = df_train[0].to_numpy()\n",
    "X_train_b = df_train['tGravityAcc-min()-Y'].to_numpy()\n",
    "\n",
    "y_test_b = df_test[0].to_numpy()\n",
    "X_test_b = df_test['tGravityAcc-min()-Y'].to_numpy()"
   ]
  },
  {
   "cell_type": "markdown",
   "metadata": {},
   "source": [
    "### Task 3\n",
    "\n",
    "+ Create a Univariate Binary Logistic Regression with feature number 54, which represents `tGravityAcc-min()-Y`: gravity acceleration signals in direction of Y.\n",
    "+ Compare the results of the Logistic regressions from different Python packages (sklearn, statsmodel).\n",
    "+ Plot the **fit** of predicted probabilities to the original values."
   ]
  },
  {
   "cell_type": "code",
   "execution_count": 154,
   "metadata": {},
   "outputs": [
    {
     "data": {
      "text/plain": [
       "(5880,)"
      ]
     },
     "execution_count": 154,
     "metadata": {},
     "output_type": "execute_result"
    }
   ],
   "source": [
    "X_train_b.shape"
   ]
  },
  {
   "cell_type": "code",
   "execution_count": 155,
   "metadata": {},
   "outputs": [
    {
     "data": {
      "text/plain": [
       "(5880,)"
      ]
     },
     "execution_count": 155,
     "metadata": {},
     "output_type": "execute_result"
    }
   ],
   "source": [
    "y_train_b.shape"
   ]
  },
  {
   "cell_type": "code",
   "execution_count": 206,
   "metadata": {},
   "outputs": [
    {
     "data": {
      "text/plain": [
       "0.7593473827328348"
      ]
     },
     "execution_count": 206,
     "metadata": {},
     "output_type": "execute_result"
    }
   ],
   "source": [
    "# # sklearn\n",
    "X_train_b= X_train_b.reshape(-1, 1) ## need to reshape in order to have a 2d array rather than a serries for sklearn\n",
    "X_test_b = X_test_b.reshape(-1,1)\n",
    "\n",
    "clf = LogisticRegression(penalty='none') \n",
    "clf.fit(X_train_b, y_train_b)\n",
    "\n",
    "y_sk = clf.predict(X_test_b)\n",
    "\n",
    "accuracy_score(y_test, y_sk)"
   ]
  },
  {
   "cell_type": "code",
   "execution_count": 157,
   "metadata": {},
   "outputs": [
    {
     "data": {
      "image/png": "[encoded data removed]",
      "text/plain": [
       "<Figure size 432x288 with 1 Axes>"
      ]
     },
     "metadata": {},
     "output_type": "display_data"
    }
   ],
   "source": [
    "from sklearn.metrics import roc_auc_score\n",
    "from sklearn.metrics import roc_curve\n",
    "logit_roc_auc = roc_auc_score(y_test_b, clf.predict(X_test_b))\n",
    "fpr, tpr, thresholds = roc_curve(y_test_b, clf.predict_proba(X_test_b)[:,1])\n",
    "plt.figure()\n",
    "plt.plot(fpr, tpr, label='Logistic Regression (area = %0.2f)' % logit_roc_auc)\n",
    "plt.plot([0, 1], [0, 1],'r--')\n",
    "plt.xlim([0.0, 1.0])\n",
    "plt.ylim([0.0, 1.05])\n",
    "plt.xlabel('False Positive Rate')\n",
    "plt.ylabel('True Positive Rate')\n",
    "plt.title('Receiver operating characteristic')\n",
    "plt.legend(loc=\"lower right\")\n",
    "plt.savefig('Log_ROC')\n",
    "plt.show()"
   ]
  },
  {
   "cell_type": "code",
   "execution_count": 213,
   "metadata": {},
   "outputs": [
    {
     "name": "stdout",
     "output_type": "stream",
     "text": [
      "Optimization terminated successfully.\n",
      "         Current function value: 0.496443\n",
      "         Iterations 7\n",
      "Optimization terminated successfully.\n",
      "         Current function value: 0.496443\n",
      "         Iterations 7\n"
     ]
    },
    {
     "data": {
      "text/html": [
       "<table class=\"simpletable\">\n",
       "<caption>Logit Regression Results</caption>\n",
       "<tr>\n",
       "  <th>Dep. Variable:</th>           <td>y</td>        <th>  No. Observations:  </th>  <td>  5880</td> \n",
       "</tr>\n",
       "<tr>\n",
       "  <th>Model:</th>                 <td>Logit</td>      <th>  Df Residuals:      </th>  <td>  5879</td> \n",
       "</tr>\n",
       "<tr>\n",
       "  <th>Method:</th>                 <td>MLE</td>       <th>  Df Model:          </th>  <td>     0</td> \n",
       "</tr>\n",
       "<tr>\n",
       "  <th>Date:</th>            <td>Tue, 12 Oct 2021</td> <th>  Pseudo R-squ.:     </th>  <td>0.2779</td> \n",
       "</tr>\n",
       "<tr>\n",
       "  <th>Time:</th>                <td>22:10:12</td>     <th>  Log-Likelihood:    </th> <td> -2919.1</td>\n",
       "</tr>\n",
       "<tr>\n",
       "  <th>converged:</th>             <td>True</td>       <th>  LL-Null:           </th> <td> -4042.3</td>\n",
       "</tr>\n",
       "<tr>\n",
       "  <th>Covariance Type:</th>     <td>nonrobust</td>    <th>  LLR p-value:       </th>  <td>   nan</td> \n",
       "</tr>\n",
       "</table>\n",
       "<table class=\"simpletable\">\n",
       "<tr>\n",
       "   <td></td>     <th>coef</th>     <th>std err</th>      <th>z</th>      <th>P>|z|</th>  <th>[0.025</th>    <th>0.975]</th>  \n",
       "</tr>\n",
       "<tr>\n",
       "  <th>x1</th> <td>   -5.0826</td> <td>    0.144</td> <td>  -35.408</td> <td> 0.000</td> <td>   -5.364</td> <td>   -4.801</td>\n",
       "</tr>\n",
       "</table>"
      ],
      "text/plain": [
       "<class 'statsmodels.iolib.summary.Summary'>\n",
       "\"\"\"\n",
       "                           Logit Regression Results                           \n",
       "==============================================================================\n",
       "Dep. Variable:                      y   No. Observations:                 5880\n",
       "Model:                          Logit   Df Residuals:                     5879\n",
       "Method:                           MLE   Df Model:                            0\n",
       "Date:                Tue, 12 Oct 2021   Pseudo R-squ.:                  0.2779\n",
       "Time:                        22:10:12   Log-Likelihood:                -2919.1\n",
       "converged:                       True   LL-Null:                       -4042.3\n",
       "Covariance Type:            nonrobust   LLR p-value:                       nan\n",
       "==============================================================================\n",
       "                 coef    std err          z      P>|z|      [0.025      0.975]\n",
       "------------------------------------------------------------------------------\n",
       "x1            -5.0826      0.144    -35.408      0.000      -5.364      -4.801\n",
       "==============================================================================\n",
       "\"\"\""
      ]
     },
     "execution_count": 213,
     "metadata": {},
     "output_type": "execute_result"
    }
   ],
   "source": [
    "# statsmodel\n",
    "\n",
    "# import statsmodels.discrete.discrete_model as sm\n",
    "\n",
    "import statsmodels.api as sm\n",
    "\n",
    "logit = sm.Logit(y_train_b, X_train_b)\n",
    "logit.fit()\n",
    "\n",
    "# print(logit.summary)\n",
    "y_pred_sm= logit.predict(X_test_b.T) # previous valueerror fix\n",
    "sm.Logit(y_train_b,X_train_b).fit().summary()"
   ]
  },
  {
   "cell_type": "code",
   "execution_count": null,
   "metadata": {},
   "outputs": [],
   "source": [
    "## PROB NEED TO PROCESS THIS ONE - plot with above?"
   ]
  },
  {
   "cell_type": "code",
   "execution_count": null,
   "metadata": {},
   "outputs": [],
   "source": []
  },
  {
   "cell_type": "markdown",
   "metadata": {},
   "source": [
    "### Task 4\n",
    "- Try to fit a Binary Logistic Regression with all the features? How many are significant?"
   ]
  },
  {
   "cell_type": "code",
   "execution_count": 187,
   "metadata": {},
   "outputs": [
    {
     "data": {
      "text/plain": [
       "array([0, 1])"
      ]
     },
     "execution_count": 187,
     "metadata": {},
     "output_type": "execute_result"
    }
   ],
   "source": [
    "y = df_train[0]\n",
    "x = df_train.drop([0], axis=1)\n",
    "\n",
    "# OKAY PROB SCALE FIRST... NEED TO ALSO SCALE TEST X THEN "
   ]
  },
  {
   "cell_type": "code",
   "execution_count": 188,
   "metadata": {},
   "outputs": [],
   "source": [
    "y_train_all_b = df_train[0].to_numpy()\n",
    "X_train_all_b = df_train.drop([0], axis=1).to_numpy()\n",
    "\n",
    "y_test_all_b  = df_test[0].to_numpy()\n",
    "X_test_all_b  = df_train.drop([0], axis=1).to_numpy()"
   ]
  },
  {
   "cell_type": "code",
   "execution_count": 189,
   "metadata": {},
   "outputs": [],
   "source": [
    "clf = LogisticRegression( max_iter= 500) \n",
    "clf.fit(X_train_all_b , y_train_all_b )\n",
    "\n",
    "y_pred = clf.predict(X_test_all_b )"
   ]
  },
  {
   "cell_type": "code",
   "execution_count": 177,
   "metadata": {},
   "outputs": [
    {
     "data": {
      "text/html": [
       "<div>\n",
       "<style scoped>\n",
       "    .dataframe tbody tr th:only-of-type {\n",
       "        vertical-align: middle;\n",
       "    }\n",
       "\n",
       "    .dataframe tbody tr th {\n",
       "        vertical-align: top;\n",
       "    }\n",
       "\n",
       "    .dataframe thead th {\n",
       "        text-align: right;\n",
       "    }\n",
       "</style>\n",
       "<table border=\"1\" class=\"dataframe\">\n",
       "  <thead>\n",
       "    <tr style=\"text-align: right;\">\n",
       "      <th></th>\n",
       "      <th>features</th>\n",
       "      <th>coefficients</th>\n",
       "    </tr>\n",
       "  </thead>\n",
       "  <tbody>\n",
       "    <tr>\n",
       "      <th>0</th>\n",
       "      <td>tBodyAcc-mean()-X</td>\n",
       "      <td>0.481996</td>\n",
       "    </tr>\n",
       "    <tr>\n",
       "      <th>1</th>\n",
       "      <td>tBodyAcc-mean()-Y</td>\n",
       "      <td>-0.024188</td>\n",
       "    </tr>\n",
       "  </tbody>\n",
       "</table>\n",
       "</div>"
      ],
      "text/plain": [
       "            features  coefficients\n",
       "0  tBodyAcc-mean()-X      0.481996\n",
       "1  tBodyAcc-mean()-Y     -0.024188"
      ]
     },
     "execution_count": 177,
     "metadata": {},
     "output_type": "execute_result"
    }
   ],
   "source": [
    "# print(\"Model weights: %s\"%(clf.coef_)) # these are weights\n",
    "# print(\"Model intercept: %s\"%(clf.intercept_)) # this is the bias term\n",
    "data = {'features': x.columns, 'coefficients':clf.coef_[0]}\n",
    "feature_weights = pd.DataFrame(data)\n",
    "feature_weights.head(2)"
   ]
  },
  {
   "cell_type": "code",
   "execution_count": 181,
   "metadata": {},
   "outputs": [
    {
     "data": {
      "text/html": [
       "<div>\n",
       "<style scoped>\n",
       "    .dataframe tbody tr th:only-of-type {\n",
       "        vertical-align: middle;\n",
       "    }\n",
       "\n",
       "    .dataframe tbody tr th {\n",
       "        vertical-align: top;\n",
       "    }\n",
       "\n",
       "    .dataframe thead th {\n",
       "        text-align: right;\n",
       "    }\n",
       "</style>\n",
       "<table border=\"1\" class=\"dataframe\">\n",
       "  <thead>\n",
       "    <tr style=\"text-align: right;\">\n",
       "      <th></th>\n",
       "      <th>features</th>\n",
       "      <th>coefficients</th>\n",
       "      <th>abs_coef</th>\n",
       "    </tr>\n",
       "  </thead>\n",
       "  <tbody>\n",
       "    <tr>\n",
       "      <th>247</th>\n",
       "      <td>tBodyGyroMag-entropy()</td>\n",
       "      <td>1.698134</td>\n",
       "      <td>1.698134</td>\n",
       "    </tr>\n",
       "    <tr>\n",
       "      <th>119</th>\n",
       "      <td>tBodyAccJerk-correlation()-Y,Z</td>\n",
       "      <td>-1.498814</td>\n",
       "      <td>1.498814</td>\n",
       "    </tr>\n",
       "    <tr>\n",
       "      <th>94</th>\n",
       "      <td>tBodyAccJerk-min()-Z</td>\n",
       "      <td>1.414978</td>\n",
       "      <td>1.414978</td>\n",
       "    </tr>\n",
       "    <tr>\n",
       "      <th>537</th>\n",
       "      <td>fBodyBodyGyroMag-maxInds</td>\n",
       "      <td>1.320175</td>\n",
       "      <td>1.320175</td>\n",
       "    </tr>\n",
       "    <tr>\n",
       "      <th>63</th>\n",
       "      <td>tGravityAcc-entropy()-Y</td>\n",
       "      <td>-1.319964</td>\n",
       "      <td>1.319964</td>\n",
       "    </tr>\n",
       "    <tr>\n",
       "      <th>183</th>\n",
       "      <td>tBodyGyroJerk-entropy()-Y</td>\n",
       "      <td>1.275956</td>\n",
       "      <td>1.275956</td>\n",
       "    </tr>\n",
       "    <tr>\n",
       "      <th>246</th>\n",
       "      <td>tBodyGyroMag-iqr()</td>\n",
       "      <td>-1.156675</td>\n",
       "      <td>1.156675</td>\n",
       "    </tr>\n",
       "    <tr>\n",
       "      <th>538</th>\n",
       "      <td>fBodyBodyGyroMag-meanFreq()</td>\n",
       "      <td>1.138058</td>\n",
       "      <td>1.138058</td>\n",
       "    </tr>\n",
       "    <tr>\n",
       "      <th>108</th>\n",
       "      <td>tBodyAccJerk-arCoeff()-X,4</td>\n",
       "      <td>-1.093173</td>\n",
       "      <td>1.093173</td>\n",
       "    </tr>\n",
       "    <tr>\n",
       "      <th>432</th>\n",
       "      <td>fBodyGyro-max()-X</td>\n",
       "      <td>0.996663</td>\n",
       "      <td>0.996663</td>\n",
       "    </tr>\n",
       "    <tr>\n",
       "      <th>38</th>\n",
       "      <td>tBodyAcc-correlation()-X,Z</td>\n",
       "      <td>-0.944125</td>\n",
       "      <td>0.944125</td>\n",
       "    </tr>\n",
       "    <tr>\n",
       "      <th>145</th>\n",
       "      <td>tBodyGyro-arCoeff()-X,1</td>\n",
       "      <td>0.935423</td>\n",
       "      <td>0.935423</td>\n",
       "    </tr>\n",
       "    <tr>\n",
       "      <th>554</th>\n",
       "      <td>angle(tBodyAccMean,gravity)</td>\n",
       "      <td>-0.929255</td>\n",
       "      <td>0.929255</td>\n",
       "    </tr>\n",
       "    <tr>\n",
       "      <th>182</th>\n",
       "      <td>tBodyGyroJerk-entropy()-X</td>\n",
       "      <td>0.877526</td>\n",
       "      <td>0.877526</td>\n",
       "    </tr>\n",
       "    <tr>\n",
       "      <th>160</th>\n",
       "      <td>tBodyGyroJerk-mean()-X</td>\n",
       "      <td>0.869700</td>\n",
       "      <td>0.869700</td>\n",
       "    </tr>\n",
       "    <tr>\n",
       "      <th>189</th>\n",
       "      <td>tBodyGyroJerk-arCoeff()-Y,1</td>\n",
       "      <td>0.848211</td>\n",
       "      <td>0.848211</td>\n",
       "    </tr>\n",
       "    <tr>\n",
       "      <th>150</th>\n",
       "      <td>tBodyGyro-arCoeff()-Y,2</td>\n",
       "      <td>-0.831677</td>\n",
       "      <td>0.831677</td>\n",
       "    </tr>\n",
       "    <tr>\n",
       "      <th>148</th>\n",
       "      <td>tBodyGyro-arCoeff()-X,4</td>\n",
       "      <td>0.831181</td>\n",
       "      <td>0.831181</td>\n",
       "    </tr>\n",
       "    <tr>\n",
       "      <th>446</th>\n",
       "      <td>fBodyGyro-entropy()-Y</td>\n",
       "      <td>0.831113</td>\n",
       "      <td>0.831113</td>\n",
       "    </tr>\n",
       "    <tr>\n",
       "      <th>64</th>\n",
       "      <td>tGravityAcc-entropy()-Z</td>\n",
       "      <td>-0.813520</td>\n",
       "      <td>0.813520</td>\n",
       "    </tr>\n",
       "  </tbody>\n",
       "</table>\n",
       "</div>"
      ],
      "text/plain": [
       "                           features  coefficients  abs_coef\n",
       "247          tBodyGyroMag-entropy()      1.698134  1.698134\n",
       "119  tBodyAccJerk-correlation()-Y,Z     -1.498814  1.498814\n",
       "94             tBodyAccJerk-min()-Z      1.414978  1.414978\n",
       "537        fBodyBodyGyroMag-maxInds      1.320175  1.320175\n",
       "63          tGravityAcc-entropy()-Y     -1.319964  1.319964\n",
       "183       tBodyGyroJerk-entropy()-Y      1.275956  1.275956\n",
       "246              tBodyGyroMag-iqr()     -1.156675  1.156675\n",
       "538     fBodyBodyGyroMag-meanFreq()      1.138058  1.138058\n",
       "108      tBodyAccJerk-arCoeff()-X,4     -1.093173  1.093173\n",
       "432               fBodyGyro-max()-X      0.996663  0.996663\n",
       "38       tBodyAcc-correlation()-X,Z     -0.944125  0.944125\n",
       "145         tBodyGyro-arCoeff()-X,1      0.935423  0.935423\n",
       "554     angle(tBodyAccMean,gravity)     -0.929255  0.929255\n",
       "182       tBodyGyroJerk-entropy()-X      0.877526  0.877526\n",
       "160          tBodyGyroJerk-mean()-X      0.869700  0.869700\n",
       "189     tBodyGyroJerk-arCoeff()-Y,1      0.848211  0.848211\n",
       "150         tBodyGyro-arCoeff()-Y,2     -0.831677  0.831677\n",
       "148         tBodyGyro-arCoeff()-X,4      0.831181  0.831181\n",
       "446           fBodyGyro-entropy()-Y      0.831113  0.831113\n",
       "64          tGravityAcc-entropy()-Z     -0.813520  0.813520"
      ]
     },
     "execution_count": 181,
     "metadata": {},
     "output_type": "execute_result"
    }
   ],
   "source": [
    "feature_weights['abs_coef'] = feature_weights['coefficients'].abs()\n",
    "feature_weights.sort_values('abs_coef', ascending=False).head(20)"
   ]
  },
  {
   "cell_type": "raw",
   "metadata": {},
   "source": []
  },
  {
   "cell_type": "code",
   "execution_count": null,
   "metadata": {},
   "outputs": [],
   "source": []
  },
  {
   "cell_type": "code",
   "execution_count": null,
   "metadata": {},
   "outputs": [],
   "source": []
  },
  {
   "cell_type": "markdown",
   "metadata": {},
   "source": [
    "### Task 5\n",
    "Now, let's fit Multinomial Logistic regression to predict all categories. Firstly, we can start with **Univariate** model for these features number separately:\n",
    "+ 4\n",
    "+ 54\n",
    "- 19\n",
    "\n",
    "Check the contingency matrix to see the effect of particular features!! (each feature can be good in predicting different categories)"
   ]
  },
  {
   "cell_type": "code",
   "execution_count": null,
   "metadata": {},
   "outputs": [],
   "source": [
    "# RE-GET Y AND SPLIT DATA\n",
    "# start fresh"
   ]
  },
  {
   "cell_type": "code",
   "execution_count": 192,
   "metadata": {},
   "outputs": [],
   "source": [
    "# get labels\n",
    "activity_labels = pd.read_csv('Smartphone_Sensor_Data/activity_labels.txt', sep=\" \", header=None)\n",
    "features_labels = pd.read_csv('Smartphone_Sensor_Data/features.txt', sep=\" \", header=None)\n",
    "# print(features_labels[1].values.size)\n",
    "\n",
    "feature_columns = features_labels[1].values\n",
    "activity_columns = activity_labels[1].values # these are the labels of the y categories\n",
    "\n",
    "# # get data and assign labels ( can't do for y yet)\n",
    "X_train = pd.read_csv('Smartphone_Sensor_Data/train/X_train.txt', sep='\\s+')\n",
    "y_train =  pd.read_csv('Smartphone_Sensor_Data/train/y_train.txt', sep='\\s+', header=None)\n",
    "X_train.columns = feature_columns"
   ]
  },
  {
   "cell_type": "code",
   "execution_count": 193,
   "metadata": {},
   "outputs": [
    {
     "data": {
      "text/plain": [
       "(7351, 562)"
      ]
     },
     "execution_count": 193,
     "metadata": {},
     "output_type": "execute_result"
    }
   ],
   "source": [
    "# COMBINE TO STRATIFY y AND TRAIN/SPLIT\n",
    "df = pd.concat([X_train, y_train_binary], axis = 1)\n",
    "df = df.dropna()\n",
    "\n",
    "random_seed = 88\n",
    "df_train, df_test = train_test_split(df, test_size=0.2, random_state=random_seed, stratify=df[0])\n",
    "df_train.head()\n",
    "df.shape"
   ]
  },
  {
   "cell_type": "code",
   "execution_count": 204,
   "metadata": {},
   "outputs": [],
   "source": [
    "# variable 4\n",
    "xtr_4 = df_train.iloc[:,4].to_numpy()\n",
    "xts_4 = df_train.iloc[:,4].to_numpy()\n",
    "\n",
    "# variable 54\n",
    "xtr_54 = df_train.iloc[:,54].to_numpy()\n",
    "xts_54 = df_train.iloc[:,54].to_numpy()\n",
    "\n",
    "# var 19\n",
    "xtr_54 = df_train.iloc[:,19].to_numpy()\n",
    "xts_54 = df_train.iloc[:,19].to_numpy()"
   ]
  },
  {
   "cell_type": "code",
   "execution_count": null,
   "metadata": {},
   "outputs": [],
   "source": []
  },
  {
   "cell_type": "code",
   "execution_count": null,
   "metadata": {},
   "outputs": [],
   "source": [
    "# WHAT IS A CONTINGENCY MATRIX? confusion? 5 x 2?"
   ]
  },
  {
   "cell_type": "code",
   "execution_count": null,
   "metadata": {},
   "outputs": [],
   "source": []
  },
  {
   "cell_type": "markdown",
   "metadata": {},
   "source": [
    "### Task 6\n",
    "\n",
    "Fit the Multinomial Logistic Regression model again. Now, try to choose **all** the important features we have in the dataset. Compare with your peers on who will get the best predictions with the smallest number of features?"
   ]
  },
  {
   "cell_type": "code",
   "execution_count": null,
   "metadata": {},
   "outputs": [],
   "source": []
  },
  {
   "cell_type": "code",
   "execution_count": 132,
   "metadata": {},
   "outputs": [],
   "source": []
  },
  {
   "cell_type": "code",
   "execution_count": 182,
   "metadata": {},
   "outputs": [],
   "source": []
  },
  {
   "cell_type": "code",
   "execution_count": null,
   "metadata": {},
   "outputs": [],
   "source": []
  },
  {
   "cell_type": "code",
   "execution_count": null,
   "metadata": {},
   "outputs": [],
   "source": []
  },
  {
   "cell_type": "markdown",
   "metadata": {},
   "source": [
    "### Task 7 (Stretch)\n",
    "Create your own function for Stepwise selection. Use either sklearn or statsmodel."
   ]
  },
  {
   "cell_type": "code",
   "execution_count": null,
   "metadata": {},
   "outputs": [],
   "source": []
  },
  {
   "cell_type": "code",
   "execution_count": null,
   "metadata": {},
   "outputs": [],
   "source": []
  },
  {
   "cell_type": "code",
   "execution_count": null,
   "metadata": {},
   "outputs": [],
   "source": []
  },
  {
   "cell_type": "code",
   "execution_count": null,
   "metadata": {},
   "outputs": [],
   "source": []
  },
  {
   "cell_type": "code",
   "execution_count": null,
   "metadata": {},
   "outputs": [],
   "source": []
  }
 ],
 "metadata": {
  "kernelspec": {
   "display_name": "Python 3 (ipykernel)",
   "language": "python",
   "name": "python3"
  },
  "language_info": {
   "codemirror_mode": {
    "name": "ipython",
    "version": 3
   },
   "file_extension": ".py",
   "mimetype": "text/x-python",
   "name": "python",
   "nbconvert_exporter": "python",
   "pygments_lexer": "ipython3",
   "version": "3.8.11"
  }
 },
 "nbformat": 4,
 "nbformat_minor": 4
}
