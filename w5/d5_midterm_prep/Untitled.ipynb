{
 "cells": [
  {
   "cell_type": "markdown",
   "id": "898c3e35-8da7-44f4-b555-54860544cd08",
   "metadata": {},
   "source": [
    "## Midterm Project\n",
    "\n",
    "Features that may impact delays\n",
    "- weather \n",
    "- carrier (note are we taking into accoutn alaska?, hawaii?)\n",
    "https://www.transportation.gov/briefing-room/air-travel-consumer-report-january-2020-numbers\n",
    "https://www.transportation.gov/briefing-room/air-travel-consumer-report-december-2019-full-year-2019-numbers (jet blue was only ontime 66.7% of time!)\n",
    "\n",
    "- FIND reasons why delays are happening (encode delay columns)\n",
    "- look at differences between years?\n",
    "- popular / busy routes? - encode these - \n",
    "- all routes?\n",
    "\n",
    "use niave bayes??for second part for comarison\n",
    "\n",
    "pickle- save trained model have file of them - with notes "
   ]
  },
  {
   "cell_type": "markdown",
   "id": "24250edb-6686-4c28-aa04-0eb970d5802d",
   "metadata": {},
   "source": [
    "Problem statement \n",
    "source: \n",
    "These delays not only cause inconveniences to the airlines but also to the passengers. The result is an increase in travel time which increases the expenses associated with food and lodging and ultimately causes stress among passengers. The airlines are victims of extra costs associated to their crews, aircraft repositioning, fuel consumption while trying to reduce elapse times, and many others which together tamper their reputation and often result in a loss of demand by passengers. "
   ]
  }
 ],
 "metadata": {
  "kernelspec": {
   "display_name": "bootcamp_env",
   "language": "python",
   "name": "bootcamp_env"
  },
  "language_info": {
   "codemirror_mode": {
    "name": "ipython",
    "version": 3
   },
   "file_extension": ".py",
   "mimetype": "text/x-python",
   "name": "python",
   "nbconvert_exporter": "python",
   "pygments_lexer": "ipython3",
   "version": "3.8.5"
  }
 },
 "nbformat": 4,
 "nbformat_minor": 5
}
