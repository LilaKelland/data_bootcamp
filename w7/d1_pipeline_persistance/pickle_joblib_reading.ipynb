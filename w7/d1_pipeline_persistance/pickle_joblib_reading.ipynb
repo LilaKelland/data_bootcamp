{
 "cells": [
  {
   "cell_type": "code",
   "execution_count": 1,
   "id": "8d791004-99fe-4431-870d-480310e7fa7b",
   "metadata": {},
   "outputs": [],
   "source": [
    "import pickle"
   ]
  },
  {
   "cell_type": "code",
   "execution_count": 2,
   "id": "74a7264d-0a51-44c4-99b3-599e0c6ec409",
   "metadata": {},
   "outputs": [],
   "source": [
    "# pickle a list\n",
    "mylist = ['a', 'b', 'c', 'd']\n",
    "with open('datafile.txt', 'wb') as fh:\n",
    "   pickle.dump(mylist, fh)"
   ]
  },
  {
   "cell_type": "code",
   "execution_count": 3,
   "id": "ab87f102-2a36-461b-9d89-077058ce630c",
   "metadata": {},
   "outputs": [
    {
     "name": "stdout",
     "output_type": "stream",
     "text": [
      "['a', 'b', 'c', 'd']\n"
     ]
    }
   ],
   "source": [
    "# unpickle the list\n",
    "pickle_off = open (\"datafile.txt\", \"rb\")\n",
    "emp = pickle.load(pickle_off)\n",
    "print(emp)"
   ]
  },
  {
   "cell_type": "code",
   "execution_count": 4,
   "id": "42b89967-ada8-46a6-bea4-19e87106d5c4",
   "metadata": {},
   "outputs": [],
   "source": [
    "EmpID = {1:\"Zack\",2:\"53050\",3:\"IT\",4:\"38\",5:\"Flipkart\"}\n",
    "pickling_on = open(\"EmpID.pickle\",\"wb\")\n",
    "pickle.dump(EmpID, pickling_on)\n",
    "pickling_on.close()"
   ]
  },
  {
   "cell_type": "code",
   "execution_count": 5,
   "id": "1e56f325-1992-4c02-a059-1bfef76b1801",
   "metadata": {},
   "outputs": [
    {
     "name": "stdout",
     "output_type": "stream",
     "text": [
      "{1: 'Zack', 2: '53050', 3: 'IT', 4: '38', 5: 'Flipkart'}\n"
     ]
    }
   ],
   "source": [
    "# unpickle dict\n",
    "import pickle\n",
    "pickle_off = open(\"EmpID.pickle\", 'rb')\n",
    "EmpID = pickle.load(pickle_off)\n",
    "print(EmpID)"
   ]
  },
  {
   "cell_type": "markdown",
   "id": "615dd6fc-92a1-4226-a3f7-25c86bf23e66",
   "metadata": {},
   "source": [
    "### joblib"
   ]
  },
  {
   "cell_type": "code",
   "execution_count": 6,
   "id": "61624bd2-d952-4db2-8ee3-7d405e1fba07",
   "metadata": {},
   "outputs": [],
   "source": [
    "# create temporary directory\n",
    "from tempfile import mkdtemp\n",
    "savedir = mkdtemp()\n",
    "import os\n",
    "filename = os.path.join(savedir, 'test.joblib')"
   ]
  },
  {
   "cell_type": "code",
   "execution_count": 7,
   "id": "f9f9d4a4-0e68-4712-b193-7d154fb62c23",
   "metadata": {},
   "outputs": [],
   "source": [
    "#  create object to be persisted\n",
    "import numpy as np\n",
    "to_persist = [('a', [1, 2, 3]), ('b', np.arange(10))]"
   ]
  },
  {
   "cell_type": "code",
   "execution_count": 8,
   "id": "0407bba4-b0bd-4d8a-b856-316ce0f58671",
   "metadata": {},
   "outputs": [
    {
     "data": {
      "text/plain": [
       "['/var/folders/q4/f3xj1m3j2h3fl1lc7921wysh0000gn/T/tmp64bf2uhy/test.joblib']"
      ]
     },
     "execution_count": 8,
     "metadata": {},
     "output_type": "execute_result"
    }
   ],
   "source": [
    "# save to filename\n",
    "import joblib\n",
    "joblib.dump(to_persist, filename)  "
   ]
  },
  {
   "cell_type": "code",
   "execution_count": 9,
   "id": "d2abc3f7-773b-4441-bb14-7527e0c1b667",
   "metadata": {},
   "outputs": [
    {
     "data": {
      "text/plain": [
       "[('a', [1, 2, 3]), ('b', array([0, 1, 2, 3, 4, 5, 6, 7, 8, 9]))]"
      ]
     },
     "execution_count": 9,
     "metadata": {},
     "output_type": "execute_result"
    }
   ],
   "source": [
    "# reload\n",
    "joblib.load(filename)"
   ]
  },
  {
   "cell_type": "code",
   "execution_count": 10,
   "id": "19484944-e7d6-48f7-a1b9-b6ae2a94e1dd",
   "metadata": {},
   "outputs": [],
   "source": [
    "# Instead of filenames, joblib.dump() and joblib.load() functions also accept file objects\n",
    "with open(filename, 'wb') as fo:  # doctest: +ELLIPSIS\n",
    "    joblib.dump(to_persist, fo)\n",
    "with open(filename, 'rb') as fo:  # doctest: +ELLIPSIS\n",
    "    joblib.load(fo)"
   ]
  },
  {
   "cell_type": "code",
   "execution_count": 12,
   "id": "710df4f3-0b68-424b-8e04-10f1744f0072",
   "metadata": {},
   "outputs": [
    {
     "data": {
      "text/plain": [
       "['/var/folders/q4/f3xj1m3j2h3fl1lc7921wysh0000gn/T/tmp64bf2uhy/test.joblib.compressed']"
      ]
     },
     "execution_count": 12,
     "metadata": {},
     "output_type": "execute_result"
    }
   ],
   "source": [
    "# compress = true, save space\n",
    "joblib.dump(to_persist, filename + '.compressed', compress=True)  # doctest: +ELLIPSIS"
   ]
  },
  {
   "cell_type": "code",
   "execution_count": 13,
   "id": "5a2c754e-9eca-4d3e-9562-d60aa30f5d30",
   "metadata": {},
   "outputs": [
    {
     "data": {
      "text/plain": [
       "['/var/folders/q4/f3xj1m3j2h3fl1lc7921wysh0000gn/T/tmp64bf2uhy/test.joblib.z']"
      ]
     },
     "execution_count": 13,
     "metadata": {},
     "output_type": "execute_result"
    }
   ],
   "source": [
    "# If the filename extension corresponds to one of the supported compression methods, the compressor will be used automatically:\n",
    "joblib.dump(to_persist, filename + '.z')  # doctest: +ELLIPSIS"
   ]
  },
  {
   "cell_type": "markdown",
   "id": "41fb48c8-fdbc-4787-b3c9-8e9b1134749a",
   "metadata": {},
   "source": [
    "By default, joblib.dump() uses the zlib compression method as it gives the best tradeoff between speed and disk space. The other supported compression methods are ‘gzip’, ‘bz2’, ‘lzma’ and ‘xz’:"
   ]
  },
  {
   "cell_type": "code",
   "execution_count": 14,
   "id": "90a07828-8a38-4ac6-b72a-8cb33e07a113",
   "metadata": {},
   "outputs": [],
   "source": [
    "# (filename + '.gz') or + '.bz2' Note LZ4 only python versions >3"
   ]
  },
  {
   "cell_type": "code",
   "execution_count": null,
   "id": "f9dd2fe2-7894-4099-9b7b-529cc1a8845b",
   "metadata": {},
   "outputs": [],
   "source": [
    "# There's more here https://joblib.readthedocs.io/en/latest/persistence.html"
   ]
  }
 ],
 "metadata": {
  "kernelspec": {
   "display_name": "bootcamp_env",
   "language": "python",
   "name": "bootcamp_env"
  },
  "language_info": {
   "codemirror_mode": {
    "name": "ipython",
    "version": 3
   },
   "file_extension": ".py",
   "mimetype": "text/x-python",
   "name": "python",
   "nbconvert_exporter": "python",
   "pygments_lexer": "ipython3",
   "version": "3.8.5"
  }
 },
 "nbformat": 4,
 "nbformat_minor": 5
}
