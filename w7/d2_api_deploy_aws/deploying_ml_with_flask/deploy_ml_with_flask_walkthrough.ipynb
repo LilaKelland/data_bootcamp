{
 "cells": [
  {
   "cell_type": "markdown",
   "id": "cd4fdc90-a182-48d5-bd2c-cc25bbb8f3a4",
   "metadata": {},
   "source": [
    "Let's start with the import of packages we are going to need"
   ]
  },
  {
   "cell_type": "code",
   "execution_count": 1,
   "id": "2d85388b-c30a-44a0-8ab0-ed0f3b99653a",
   "metadata": {},
   "outputs": [],
   "source": [
    "import pandas as pd\n",
    "from sklearn.datasets import load_wine\n",
    "\n",
    "from sklearn.model_selection import GridSearchCV\n",
    "from sklearn.pipeline import Pipeline, FeatureUnion\n",
    "\n",
    "from sklearn.preprocessing import StandardScaler\n",
    "from sklearn.decomposition import PCA\n",
    "from sklearn.feature_selection import SelectKBest\n",
    "\n",
    "from sklearn.ensemble import RandomForestClassifier\n",
    "\n",
    "import pickle"
   ]
  },
  {
   "cell_type": "code",
   "execution_count": 2,
   "id": "4839b256-9c12-495c-b286-8957ca1f50a4",
   "metadata": {},
   "outputs": [
    {
     "data": {
      "text/html": [
       "<div>\n",
       "<style scoped>\n",
       "    .dataframe tbody tr th:only-of-type {\n",
       "        vertical-align: middle;\n",
       "    }\n",
       "\n",
       "    .dataframe tbody tr th {\n",
       "        vertical-align: top;\n",
       "    }\n",
       "\n",
       "    .dataframe thead th {\n",
       "        text-align: right;\n",
       "    }\n",
       "</style>\n",
       "<table border=\"1\" class=\"dataframe\">\n",
       "  <thead>\n",
       "    <tr style=\"text-align: right;\">\n",
       "      <th></th>\n",
       "      <th>alcohol</th>\n",
       "      <th>malic_acid</th>\n",
       "      <th>ash</th>\n",
       "      <th>alcalinity_of_ash</th>\n",
       "      <th>magnesium</th>\n",
       "      <th>total_phenols</th>\n",
       "      <th>flavanoids</th>\n",
       "      <th>nonflavanoid_phenols</th>\n",
       "      <th>proanthocyanins</th>\n",
       "      <th>color_intensity</th>\n",
       "      <th>hue</th>\n",
       "      <th>od280/od315_of_diluted_wines</th>\n",
       "      <th>proline</th>\n",
       "    </tr>\n",
       "  </thead>\n",
       "  <tbody>\n",
       "    <tr>\n",
       "      <th>0</th>\n",
       "      <td>14.23</td>\n",
       "      <td>1.71</td>\n",
       "      <td>2.43</td>\n",
       "      <td>15.6</td>\n",
       "      <td>127.0</td>\n",
       "      <td>2.80</td>\n",
       "      <td>3.06</td>\n",
       "      <td>0.28</td>\n",
       "      <td>2.29</td>\n",
       "      <td>5.64</td>\n",
       "      <td>1.04</td>\n",
       "      <td>3.92</td>\n",
       "      <td>1065.0</td>\n",
       "    </tr>\n",
       "    <tr>\n",
       "      <th>1</th>\n",
       "      <td>13.20</td>\n",
       "      <td>1.78</td>\n",
       "      <td>2.14</td>\n",
       "      <td>11.2</td>\n",
       "      <td>100.0</td>\n",
       "      <td>2.65</td>\n",
       "      <td>2.76</td>\n",
       "      <td>0.26</td>\n",
       "      <td>1.28</td>\n",
       "      <td>4.38</td>\n",
       "      <td>1.05</td>\n",
       "      <td>3.40</td>\n",
       "      <td>1050.0</td>\n",
       "    </tr>\n",
       "    <tr>\n",
       "      <th>2</th>\n",
       "      <td>13.16</td>\n",
       "      <td>2.36</td>\n",
       "      <td>2.67</td>\n",
       "      <td>18.6</td>\n",
       "      <td>101.0</td>\n",
       "      <td>2.80</td>\n",
       "      <td>3.24</td>\n",
       "      <td>0.30</td>\n",
       "      <td>2.81</td>\n",
       "      <td>5.68</td>\n",
       "      <td>1.03</td>\n",
       "      <td>3.17</td>\n",
       "      <td>1185.0</td>\n",
       "    </tr>\n",
       "    <tr>\n",
       "      <th>3</th>\n",
       "      <td>14.37</td>\n",
       "      <td>1.95</td>\n",
       "      <td>2.50</td>\n",
       "      <td>16.8</td>\n",
       "      <td>113.0</td>\n",
       "      <td>3.85</td>\n",
       "      <td>3.49</td>\n",
       "      <td>0.24</td>\n",
       "      <td>2.18</td>\n",
       "      <td>7.80</td>\n",
       "      <td>0.86</td>\n",
       "      <td>3.45</td>\n",
       "      <td>1480.0</td>\n",
       "    </tr>\n",
       "    <tr>\n",
       "      <th>4</th>\n",
       "      <td>13.24</td>\n",
       "      <td>2.59</td>\n",
       "      <td>2.87</td>\n",
       "      <td>21.0</td>\n",
       "      <td>118.0</td>\n",
       "      <td>2.80</td>\n",
       "      <td>2.69</td>\n",
       "      <td>0.39</td>\n",
       "      <td>1.82</td>\n",
       "      <td>4.32</td>\n",
       "      <td>1.04</td>\n",
       "      <td>2.93</td>\n",
       "      <td>735.0</td>\n",
       "    </tr>\n",
       "  </tbody>\n",
       "</table>\n",
       "</div>"
      ],
      "text/plain": [
       "   alcohol  malic_acid   ash  alcalinity_of_ash  magnesium  total_phenols  \\\n",
       "0    14.23        1.71  2.43               15.6      127.0           2.80   \n",
       "1    13.20        1.78  2.14               11.2      100.0           2.65   \n",
       "2    13.16        2.36  2.67               18.6      101.0           2.80   \n",
       "3    14.37        1.95  2.50               16.8      113.0           3.85   \n",
       "4    13.24        2.59  2.87               21.0      118.0           2.80   \n",
       "\n",
       "   flavanoids  nonflavanoid_phenols  proanthocyanins  color_intensity   hue  \\\n",
       "0        3.06                  0.28             2.29             5.64  1.04   \n",
       "1        2.76                  0.26             1.28             4.38  1.05   \n",
       "2        3.24                  0.30             2.81             5.68  1.03   \n",
       "3        3.49                  0.24             2.18             7.80  0.86   \n",
       "4        2.69                  0.39             1.82             4.32  1.04   \n",
       "\n",
       "   od280/od315_of_diluted_wines  proline  \n",
       "0                          3.92   1065.0  \n",
       "1                          3.40   1050.0  \n",
       "2                          3.17   1185.0  \n",
       "3                          3.45   1480.0  \n",
       "4                          2.93    735.0  "
      ]
     },
     "execution_count": 2,
     "metadata": {},
     "output_type": "execute_result"
    }
   ],
   "source": [
    "# load dataset\n",
    "\n",
    "data = load_wine()\n",
    "df = pd.DataFrame(data['data'])\n",
    "df.columns = data['feature_names']\n",
    "y = data['target']\n",
    "df.head()"
   ]
  },
  {
   "cell_type": "markdown",
   "id": "fc607978-4cb8-44d2-b0ca-418a5d7d00fe",
   "metadata": {},
   "source": [
    "During the model creation, we will work on following tasks:\n",
    "\n",
    "* Filter own columns for PCA\n",
    "* Scaling\n",
    "* PCA\n",
    "* SelectKBest\n",
    "* Random Forest Regressor\n",
    "\n",
    "and put them all to one pipeline."
   ]
  },
  {
   "cell_type": "markdown",
   "id": "03e5ac6a-bff7-4815-829c-0ddf06999948",
   "metadata": {},
   "source": [
    "### Filter Own Columns\n",
    "Firstly, we will create our own class to keep only features we want in our pipeline. We don't want to run PCA on all features but only on the sample so we create own class that filters the features in the original dataframe. We can put our own classes into the pipelines, as long as they have following methods:\n",
    "\n",
    "* .fit()\n",
    "* .transform()\n",
    "* .fit_transform()"
   ]
  },
  {
   "cell_type": "code",
   "execution_count": 3,
   "id": "a9ba204c-ec0a-4d5c-ac8f-3b270e069c87",
   "metadata": {},
   "outputs": [],
   "source": [
    "# own class that can be inserted to pipeline as any other sklearn object.\n",
    "class RawFeats:\n",
    "    def __init__(self, feats):\n",
    "        self.feats = feats\n",
    "\n",
    "    def fit(self, X, y=None):\n",
    "        pass\n",
    "\n",
    "\n",
    "    def transform(self, X, y=None):\n",
    "        return X[self.feats]\n",
    "\n",
    "    def fit_transform(self, X, y=None):\n",
    "        self.fit(X)\n",
    "        return self.transform(X)\n",
    "\n",
    "\n",
    "# features we want to keep for PCA\n",
    "feats = ['alcohol','malic_acid','ash','alcalinity_of_ash','magnesium',\n",
    "         'total_phenols','flavanoids','nonflavanoid_phenols']\n",
    "# creating class object with indexes we want to keep.\n",
    "raw_feats = RawFeats(feats)"
   ]
  },
  {
   "cell_type": "code",
   "execution_count": 4,
   "id": "272281a1-43af-41a0-a0d2-193c775028be",
   "metadata": {},
   "outputs": [],
   "source": [
    "# Scaling and PCA \n",
    "sc = StandardScaler()\n",
    "pca = PCA(n_components=2)"
   ]
  },
  {
   "cell_type": "code",
   "execution_count": 5,
   "id": "baaa9470-8113-487e-b975-7fe3497911d8",
   "metadata": {},
   "outputs": [],
   "source": [
    "# SelectKBest\n",
    "selection = SelectKBest(k=4)"
   ]
  },
  {
   "cell_type": "code",
   "execution_count": 6,
   "id": "daf540b2-ce5e-42c2-a4d5-1acca130032d",
   "metadata": {},
   "outputs": [],
   "source": [
    "# Random Forest\n",
    "rf = RandomForestClassifier()"
   ]
  },
  {
   "cell_type": "markdown",
   "id": "cf100288-c9f6-4123-8259-77e643d9d047",
   "metadata": {},
   "source": [
    "#### Combining Everything Into One Pipeline\n",
    "As in the tutorial yesterday we will apply two different feature extraction techniques:\n",
    "\n",
    "* PCA\n",
    "* SelectKBest\n",
    "\n",
    "and combine them with FeatureUnion. The small difference is that we will use only sample of features for PCA"
   ]
  },
  {
   "cell_type": "code",
   "execution_count": 7,
   "id": "aafc16dc-938c-458b-ba2d-a39e97299de6",
   "metadata": {},
   "outputs": [],
   "source": [
    "PCA_pipeline = Pipeline([\n",
    "    (\"rawFeats\", raw_feats),\n",
    "    (\"scaler\", sc),\n",
    "    (\"pca\", pca)\n",
    "])\n",
    "\n",
    "kbest_pipeline = Pipeline([(\"kBest\", selection)])"
   ]
  },
  {
   "cell_type": "code",
   "execution_count": 8,
   "id": "d7932190-291d-48a9-9af4-3e165e73df58",
   "metadata": {},
   "outputs": [],
   "source": [
    "# Now, we will combine these ouputs with FeatureUnion:\n",
    "\n",
    "all_features = FeatureUnion([\n",
    "    (\"pcaPipeline\", PCA_pipeline), \n",
    "    (\"kBestPipeline\", kbest_pipeline)\n",
    "])"
   ]
  },
  {
   "cell_type": "code",
   "execution_count": 10,
   "id": "9f4e6b4f-fab3-494c-8d29-d454d2841a66",
   "metadata": {},
   "outputs": [],
   "source": [
    "# Now, we will create the main pipeline which ends with Regressor.\n",
    "\n",
    "main_pipeline = Pipeline([\n",
    "    (\"features\", all_features),\n",
    "    (\"rf\", rf)\n",
    "])"
   ]
  },
  {
   "cell_type": "code",
   "execution_count": 11,
   "id": "8ab6cbec-b1d0-4664-9037-bfc72825f180",
   "metadata": {},
   "outputs": [
    {
     "name": "stdout",
     "output_type": "stream",
     "text": [
      "Fitting 5 folds for each of 81 candidates, totalling 405 fits\n"
     ]
    },
    {
     "data": {
      "text/plain": [
       "GridSearchCV(estimator=Pipeline(steps=[('features',\n",
       "                                        FeatureUnion(transformer_list=[('pcaPipeline',\n",
       "                                                                        Pipeline(steps=[('rawFeats',\n",
       "                                                                                         <__main__.RawFeats object at 0x7fbc10c97310>),\n",
       "                                                                                        ('scaler',\n",
       "                                                                                         StandardScaler()),\n",
       "                                                                                        ('pca',\n",
       "                                                                                         PCA(n_components=2))])),\n",
       "                                                                       ('kBestPipeline',\n",
       "                                                                        Pipeline(steps=[('kBest',\n",
       "                                                                                         SelectKBest(k=4))]))])),\n",
       "                                       ('rf', RandomForestClassifier())]),\n",
       "             n_jobs=-1,\n",
       "             param_grid={'features__kBestPipeline__kBest__k': [1, 2, 3],\n",
       "                         'features__pcaPipeline__pca__n_components': [1, 2, 3],\n",
       "                         'rf__max_depth': [2, 4, 6],\n",
       "                         'rf__n_estimators': [2, 5, 10]},\n",
       "             verbose=10)"
      ]
     },
     "execution_count": 11,
     "metadata": {},
     "output_type": "execute_result"
    }
   ],
   "source": [
    "# Let's apply grid search to tune the parameters properly:\n",
    "\n",
    "# set up our parameters grid\n",
    "param_grid = {\"features__pcaPipeline__pca__n_components\": [1, 2, 3],\n",
    "                  \"features__kBestPipeline__kBest__k\": [1, 2, 3],\n",
    "                  \"rf__n_estimators\":[2, 5, 10],\n",
    "                  \"rf__max_depth\":[2, 4, 6]\n",
    "             }\n",
    "\n",
    "# create a Grid Search object\n",
    "grid_search = GridSearchCV(main_pipeline, param_grid, n_jobs = -1, verbose=10, refit=True)    \n",
    "\n",
    "# fit the model and tune parameters\n",
    "grid_search.fit(df, y)"
   ]
  },
  {
   "cell_type": "code",
   "execution_count": 12,
   "id": "6857b7dd-5a1f-4320-ae0b-100470680d7b",
   "metadata": {},
   "outputs": [
    {
     "name": "stdout",
     "output_type": "stream",
     "text": [
      "{'features__kBestPipeline__kBest__k': 3, 'features__pcaPipeline__pca__n_components': 1, 'rf__max_depth': 2, 'rf__n_estimators': 5}\n"
     ]
    }
   ],
   "source": [
    "# We were able to call the pipeline on the original dataset without any transformations. We can check the best combination of parameters:\n",
    "\n",
    "print(grid_search.best_params_)"
   ]
  },
  {
   "cell_type": "code",
   "execution_count": 15,
   "id": "9a332e08-d023-433a-a2ba-461c695c3ae9",
   "metadata": {},
   "outputs": [],
   "source": [
    "# We will use pickle to store the model onto our disk.\n",
    "\n",
    "pickle.dump( grid_search, open( \"saved_models/model.p\", \"wb\" ) )"
   ]
  },
  {
   "cell_type": "code",
   "execution_count": null,
   "id": "2af3e782-c352-491c-8a67-f0d7c1077892",
   "metadata": {},
   "outputs": [],
   "source": []
  }
 ],
 "metadata": {
  "kernelspec": {
   "display_name": "bootcamp_env",
   "language": "python",
   "name": "bootcamp_env"
  },
  "language_info": {
   "codemirror_mode": {
    "name": "ipython",
    "version": 3
   },
   "file_extension": ".py",
   "mimetype": "text/x-python",
   "name": "python",
   "nbconvert_exporter": "python",
   "pygments_lexer": "ipython3",
   "version": "3.8.5"
  }
 },
 "nbformat": 4,
 "nbformat_minor": 5
}
