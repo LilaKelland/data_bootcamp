{
 "cells": [
  {
   "cell_type": "code",
   "execution_count": null,
   "id": "d483b7ed-16eb-41ae-a897-6e0e4e2f840a",
   "metadata": {},
   "outputs": [],
   "source": [
    "# https://realpython.com/introduction-to-mongodb-and-python/"
   ]
  },
  {
   "cell_type": "code",
   "execution_count": 1,
   "id": "728baa0f-7246-4bf4-ab21-8a4869668cdc",
   "metadata": {},
   "outputs": [],
   "source": [
    "import pymongo"
   ]
  },
  {
   "cell_type": "code",
   "execution_count": 2,
   "id": "311930eb-f596-45c0-92bf-27bff87c905d",
   "metadata": {},
   "outputs": [
    {
     "data": {
      "text/plain": [
       "MongoClient(host=['localhost:27017'], document_class=dict, tz_aware=False, connect=True)"
      ]
     },
     "execution_count": 2,
     "metadata": {},
     "output_type": "execute_result"
    }
   ],
   "source": [
    "# establish connection \n",
    "from pymongo import MongoClient\n",
    "client = MongoClient()\n",
    "client\n",
    "# (establishes a connection to the default host (localhost) and port (27017))"
   ]
  },
  {
   "cell_type": "code",
   "execution_count": 3,
   "id": "8ecc9548-a0be-4cd4-8de3-e9de165af99e",
   "metadata": {},
   "outputs": [],
   "source": [
    "# OR can provide custom host and port:\n",
    "client = MongoClient(host=\"localhost\", port=27017)"
   ]
  },
  {
   "cell_type": "code",
   "execution_count": 4,
   "id": "f8cceab8-08b6-4af8-a456-58306b072eea",
   "metadata": {},
   "outputs": [],
   "source": [
    "# OR use MongoDB URI format\n",
    "client = MongoClient(\"mongodb://localhost:27017\")"
   ]
  },
  {
   "cell_type": "code",
   "execution_count": 5,
   "id": "e89f442a-ef77-4056-bfc8-88d8948d9ca5",
   "metadata": {},
   "outputs": [],
   "source": [
    "# define db you want to use (use dot notation)\n",
    "db = client.rptutorials"
   ]
  },
  {
   "cell_type": "markdown",
   "id": "0adb74ba-f490-4989-8c19-f981778e9e35",
   "metadata": {},
   "source": [
    "If db doesn't exisit in above then it creates it for you."
   ]
  },
  {
   "cell_type": "code",
   "execution_count": 6,
   "id": "30fd7b39-1e21-4cac-a74c-a59b5fa5c0d1",
   "metadata": {},
   "outputs": [],
   "source": [
    "# OR you can call by this:\n",
    "db = client[\"rptutorials\"]"
   ]
  },
  {
   "cell_type": "markdown",
   "id": "4715df22-db05-4df9-b11b-fd96091c649d",
   "metadata": {},
   "source": [
    "Create documents and insert"
   ]
  },
  {
   "cell_type": "code",
   "execution_count": 7,
   "id": "5e6646e7-0114-4aad-99c1-58b32e96a394",
   "metadata": {},
   "outputs": [],
   "source": [
    "# create dictionaries to create documents\n",
    "tutorial1 = {\n",
    "     \"title\": \"Working With JSON Data in Python\",\n",
    "     \"author\": \"Lucas\",\n",
    "     \"contributors\": [\n",
    "         \"Aldren\",\n",
    "         \"Dan\",\n",
    "         \"Joanna\"\n",
    "     ],\n",
    "     \"url\": \"https://realpython.com/python-json/\"\n",
    " }"
   ]
  },
  {
   "cell_type": "code",
   "execution_count": 8,
   "id": "540f053b-b585-44e6-b4bf-2dfeb50c7f72",
   "metadata": {},
   "outputs": [
    {
     "data": {
      "text/plain": [
       "Collection(Database(MongoClient(host=['localhost:27017'], document_class=dict, tz_aware=False, connect=True), 'rptutorials'), 'tutorial')"
      ]
     },
     "execution_count": 8,
     "metadata": {},
     "output_type": "execute_result"
    }
   ],
   "source": [
    "# Specify which collection you want to use by using dot notation on db\n",
    "tutorial = db.tutorial\n",
    "tutorial"
   ]
  },
  {
   "cell_type": "markdown",
   "id": "975bdd00-2d79-4555-b870-4126f489abc8",
   "metadata": {},
   "source": [
    "In this case tutorial is an instance of Collection and represents a physical collection of documents in your database. You can insert documents into tutorial by calling .insert_one() on it with a document as an argument:"
   ]
  },
  {
   "cell_type": "code",
   "execution_count": 9,
   "id": "a97ed701-f349-4114-96c3-383d305729aa",
   "metadata": {},
   "outputs": [
    {
     "data": {
      "text/plain": [
       "<pymongo.results.InsertOneResult at 0x7faf2a4c3300>"
      ]
     },
     "execution_count": 9,
     "metadata": {},
     "output_type": "execute_result"
    }
   ],
   "source": [
    "result = tutorial.insert_one(tutorial1)\n",
    "result"
   ]
  },
  {
   "cell_type": "code",
   "execution_count": 10,
   "id": "67d5a052-c22a-4fa6-91e2-fd2a9732202e",
   "metadata": {},
   "outputs": [
    {
     "name": "stdout",
     "output_type": "stream",
     "text": [
      "One tutorial: 61787f0fd505378347f2bc95\n"
     ]
    }
   ],
   "source": [
    "print(f\"One tutorial: {result.inserted_id}\")"
   ]
  },
  {
   "cell_type": "markdown",
   "id": "e5b99601-3865-485d-89f2-0b0e8a1e8ebc",
   "metadata": {},
   "source": [
    "If you have many documents to add to the database, then you can use .insert_many() to insert them in one go:"
   ]
  },
  {
   "cell_type": "code",
   "execution_count": 11,
   "id": "3a4ba518-25f1-48c8-9213-1a2d8a3b4f0a",
   "metadata": {},
   "outputs": [
    {
     "name": "stdout",
     "output_type": "stream",
     "text": [
      "Multiple tutorials: [ObjectId('61787fbed505378347f2bc96'), ObjectId('61787fbed505378347f2bc97')]\n"
     ]
    }
   ],
   "source": [
    "tutorial2 = {\n",
    "     \"title\": \"Python's Requests Library (Guide)\",\n",
    "     \"author\": \"Alex\",\n",
    "     \"contributors\": [\n",
    "         \"Aldren\",\n",
    "         \"Brad\",\n",
    "         \"Joanna\"\n",
    "     ],\n",
    "     \"url\": \"https://realpython.com/python-requests/\"\n",
    " }\n",
    "\n",
    "tutorial3 = {\n",
    "     \"title\": \"Object-Oriented Programming (OOP) in Python 3\",\n",
    "     \"author\": \"David\",\n",
    "     \"contributors\": [\n",
    "        \"Aldren\",\n",
    "         \"Joanna\",\n",
    "         \"Jacob\"\n",
    "     ],\n",
    "     \"url\": \"https://realpython.com/python3-object-oriented-programming/\"\n",
    " }\n",
    "\n",
    "new_result = tutorial.insert_many([tutorial2, tutorial3])\n",
    "print(f\"Multiple tutorials: {new_result.inserted_ids}\")"
   ]
  },
  {
   "cell_type": "markdown",
   "id": "a2cdda07-b49f-459f-939c-1eb8909960da",
   "metadata": {},
   "source": [
    "#### Retreive Documents"
   ]
  },
  {
   "cell_type": "code",
   "execution_count": 12,
   "id": "5e5f9f46-e7b3-4f94-bee6-fa9009925ba5",
   "metadata": {},
   "outputs": [
    {
     "name": "stdout",
     "output_type": "stream",
     "text": [
      "{'_id': ObjectId('617873e96b58f3ff3bbdf292'),\n",
      " 'author': 'Jon',\n",
      " 'contributors': ['Aldren', 'Geir Arne', 'Joanna', 'Jason'],\n",
      " 'title': 'Reading and Writing CSV Files in Python',\n",
      " 'url': 'https://realpython.com/python-csv/'}\n",
      "{'_id': ObjectId('61787f0fd505378347f2bc95'),\n",
      " 'author': 'Lucas',\n",
      " 'contributors': ['Aldren', 'Dan', 'Joanna'],\n",
      " 'title': 'Working With JSON Data in Python',\n",
      " 'url': 'https://realpython.com/python-json/'}\n",
      "{'_id': ObjectId('61787fbed505378347f2bc96'),\n",
      " 'author': 'Alex',\n",
      " 'contributors': ['Aldren', 'Brad', 'Joanna'],\n",
      " 'title': \"Python's Requests Library (Guide)\",\n",
      " 'url': 'https://realpython.com/python-requests/'}\n",
      "{'_id': ObjectId('61787fbed505378347f2bc97'),\n",
      " 'author': 'David',\n",
      " 'contributors': ['Aldren', 'Joanna', 'Jacob'],\n",
      " 'title': 'Object-Oriented Programming (OOP) in Python 3',\n",
      " 'url': 'https://realpython.com/python3-object-oriented-programming/'}\n"
     ]
    }
   ],
   "source": [
    "# you can use .find(). Without arguments, .find() returns a Cursor object that yields the documents in the collection on demand:\n",
    "\n",
    "import pprint\n",
    "\n",
    "for doc in tutorial.find():\n",
    "    pprint.pprint(doc)"
   ]
  },
  {
   "cell_type": "code",
   "execution_count": 13,
   "id": "6e08023d-57da-4362-b2e2-a2ebb0c808e1",
   "metadata": {},
   "outputs": [
    {
     "name": "stdout",
     "output_type": "stream",
     "text": [
      "{'_id': ObjectId('617873e96b58f3ff3bbdf292'),\n",
      " 'author': 'Jon',\n",
      " 'contributors': ['Aldren', 'Geir Arne', 'Joanna', 'Jason'],\n",
      " 'title': 'Reading and Writing CSV Files in Python',\n",
      " 'url': 'https://realpython.com/python-csv/'}\n"
     ]
    }
   ],
   "source": [
    "# You can also use .find_one() to retrieve a single document. In this case, you can use a dictionary that contains fields to match.\n",
    "\n",
    "import pprint\n",
    "\n",
    "jon_tutorial = tutorial.find_one({\"author\": \"Jon\"})\n",
    "\n",
    "pprint.pprint(jon_tutorial)"
   ]
  },
  {
   "cell_type": "markdown",
   "id": "c9dd4979-b6f7-4d2d-b70c-277859478e2e",
   "metadata": {},
   "source": [
    "#### Close Connections \n",
    "Establishing a connection to a MongoDB database is typically an expensive operation. If you have an application that constantly retrieves and manipulates data in a MongoDB database, then you probably don’t want to be opening and closing the connection all the time since this might affect your application’s performance.\n",
    "\n",
    "In this kind of situation, you should keep your connection alive and only close it before exiting the application to clear all the acquired resources. You can close the connection by calling .close() on the MongoClient instance:"
   ]
  },
  {
   "cell_type": "code",
   "execution_count": 14,
   "id": "3cb68da4-eefe-482b-bbe6-268cea0a6513",
   "metadata": {},
   "outputs": [],
   "source": [
    "client.close()"
   ]
  },
  {
   "cell_type": "markdown",
   "id": "cbc98cf0-23b1-44a3-8577-8f5e1d2a86a1",
   "metadata": {},
   "source": [
    "Another situation is when you have an application that occasionally uses a MongoDB database. In this case, you might want to open the connection when needed and close it immediately after use for freeing the acquired resources. A consistent approach to this problem would be to use the with statement. Yes, MongoClient implements the context manager protocol:"
   ]
  },
  {
   "cell_type": "code",
   "execution_count": 15,
   "id": "2e6efd17-9672-40f6-be31-ded5c917cb4e",
   "metadata": {},
   "outputs": [
    {
     "name": "stdout",
     "output_type": "stream",
     "text": [
      "{'_id': ObjectId('617873e96b58f3ff3bbdf292'),\n",
      " 'author': 'Jon',\n",
      " 'contributors': ['Aldren', 'Geir Arne', 'Joanna', 'Jason'],\n",
      " 'title': 'Reading and Writing CSV Files in Python',\n",
      " 'url': 'https://realpython.com/python-csv/'}\n",
      "{'_id': ObjectId('61787f0fd505378347f2bc95'),\n",
      " 'author': 'Lucas',\n",
      " 'contributors': ['Aldren', 'Dan', 'Joanna'],\n",
      " 'title': 'Working With JSON Data in Python',\n",
      " 'url': 'https://realpython.com/python-json/'}\n",
      "{'_id': ObjectId('61787fbed505378347f2bc96'),\n",
      " 'author': 'Alex',\n",
      " 'contributors': ['Aldren', 'Brad', 'Joanna'],\n",
      " 'title': \"Python's Requests Library (Guide)\",\n",
      " 'url': 'https://realpython.com/python-requests/'}\n",
      "{'_id': ObjectId('61787fbed505378347f2bc97'),\n",
      " 'author': 'David',\n",
      " 'contributors': ['Aldren', 'Joanna', 'Jacob'],\n",
      " 'title': 'Object-Oriented Programming (OOP) in Python 3',\n",
      " 'url': 'https://realpython.com/python3-object-oriented-programming/'}\n"
     ]
    }
   ],
   "source": [
    "import pprint\n",
    "from pymongo import MongoClient\n",
    "\n",
    "with MongoClient() as client:\n",
    "    db = client.rptutorials\n",
    "    for doc in db.tutorial.find():\n",
    "        pprint.pprint(doc)"
   ]
  },
  {
   "cell_type": "markdown",
   "id": "6b60f1e7-9087-4913-935d-e859bad548f7",
   "metadata": {},
   "source": [
    "If you use the with statement to handle your MongoDB client, then at the end of the with code block, the client’s .__exit__() method gets called, which at the same time closes the connection by calling .close()."
   ]
  },
  {
   "cell_type": "markdown",
   "id": "66c85638-d24d-4505-85e5-896b0f0d528e",
   "metadata": {},
   "source": [
    "## MongoEngine (ODM - object-document-mapper)"
   ]
  },
  {
   "cell_type": "code",
   "execution_count": 16,
   "id": "32276b35-0795-4b01-970d-664889593a17",
   "metadata": {},
   "outputs": [
    {
     "data": {
      "text/plain": [
       "MongoClient(host=['localhost:27017'], document_class=dict, tz_aware=False, connect=True, read_preference=Primary())"
      ]
     },
     "execution_count": 16,
     "metadata": {},
     "output_type": "execute_result"
    }
   ],
   "source": [
    "from mongoengine import connect\n",
    "connect(db=\"rptutorials\", host=\"localhost\", port=27017)\n",
    "\n",
    "# Here first set the database name db to \"rptutorials\", which is the name of the database you want to work in."
   ]
  },
  {
   "cell_type": "markdown",
   "id": "484ad94d-58e4-4f8d-8cce-c899d4cf7d0e",
   "metadata": {},
   "source": [
    "Similar to ORMs, ODMs like MongoEngine provide a base or model class for you to define a document schema. In ORMs, that class is equivalent to a table, and its instances are equivalent to rows. In MongoEngine, the class is equivalent to a collection, and its instances are equivalent to documents.\n",
    "\n",
    "To create a model, you need to subclass Document and provide the required fields as class attributes."
   ]
  },
  {
   "cell_type": "code",
   "execution_count": 17,
   "id": "19ddd823-df74-437f-b176-e46b590bcf86",
   "metadata": {},
   "outputs": [],
   "source": [
    "from mongoengine import Document, ListField, StringField, URLField\n",
    "\n",
    "class Tutorial(Document):\n",
    "    title = StringField(required=True, max_length=70)\n",
    "    author = StringField(required=True, max_length=20)\n",
    "    contributors = ListField(StringField(max_length=20))\n",
    "    url = URLField(required=True)\n",
    "    "
   ]
  },
  {
   "cell_type": "markdown",
   "id": "32a352fe-6993-4e9a-bed4-0ead331c6b70",
   "metadata": {},
   "source": [
    "With this model, you tell MongoEngine that you expect a Tutorial document to have a .title, an .author, a list of .contributors, and a .url. The base class, Document, uses that information along with the field types to validate the input data for you.\n",
    "\n",
    "There are a few general parameters that you can use to validate fields. Here are some of the more commonly used parameters:\n",
    "\n",
    "* **db_field** specifies a different field name.\n",
    "* **required** ensures that the field is provided.\n",
    "* **default** provides a default value for a given field if no value is given.\n",
    "* **unique** ensures that no other document in the collection has the same value for this field.\n",
    "\n",
    "To save a document to your database, you need to call .save() on a document object. If the document already exists, then all the changes will be applied to the existing document. If the document doesn’t exist, then it’ll be created."
   ]
  },
  {
   "cell_type": "code",
   "execution_count": 18,
   "id": "44557465-1be2-427d-a825-a66e17610f55",
   "metadata": {},
   "outputs": [
    {
     "data": {
      "text/plain": [
       "<Tutorial: Tutorial object>"
      ]
     },
     "execution_count": 18,
     "metadata": {},
     "output_type": "execute_result"
    }
   ],
   "source": [
    "tutorial1 = Tutorial(\n",
    "    title=\"Beautiful Soup: Build a Web Scraper With Python\",\n",
    "    author=\"Martin\",\n",
    "    contributors=[\"Aldren\", \"Geir Arne\", \"Jaya\", \"Joanna\", \"Mike\"],\n",
    "    url=\"https://realpython.com/beautiful-soup-web-scraper-python/\"\n",
    ")\n",
    "\n",
    "tutorial1.save()  # Insert the new tutorial"
   ]
  },
  {
   "cell_type": "code",
   "execution_count": 20,
   "id": "256d336d-4b9b-4c86-a988-8ac9e3f21f3d",
   "metadata": {},
   "outputs": [],
   "source": [
    "# .save() insterst new document into collection by default, pymongo performs data validation when you call it.\n",
    "\n",
    "# try to make mistake (no title)\n",
    "tutorial2 = Tutorial()\n",
    "tutorial2.author = \"Alex\"\n",
    "tutorial2.contributors = [\"Aldren\", \"Jon\", \"Joanna\"]\n",
    "tutorial2.url = \"https://realpython.com/convert-python-string-to-int/\"\n",
    "tutorial2.save()\n",
    "\n",
    "# will raise validation error"
   ]
  },
  {
   "cell_type": "markdown",
   "id": "f021abe8-9991-407e-8167-090ef72a2499",
   "metadata": {},
   "source": [
    "Each Document subclass has an .objects attribute that you can use to access the documents in the associated collection. For example, here’s how you can print the .title of all your current tutorials:"
   ]
  },
  {
   "cell_type": "code",
   "execution_count": 21,
   "id": "054b6b8b-b5ad-4056-953c-9f00a8c5a66f",
   "metadata": {},
   "outputs": [
    {
     "name": "stdout",
     "output_type": "stream",
     "text": [
      "Reading and Writing CSV Files in Python\n",
      "Working With JSON Data in Python\n",
      "Python's Requests Library (Guide)\n",
      "Object-Oriented Programming (OOP) in Python 3\n",
      "Beautiful Soup: Build a Web Scraper With Python\n"
     ]
    }
   ],
   "source": [
    "for doc in Tutorial.objects:\n",
    "    print(doc.title)"
   ]
  },
  {
   "cell_type": "code",
   "execution_count": 22,
   "id": "b7effdff-054e-4c5c-9f28-1dfcb863013b",
   "metadata": {},
   "outputs": [
    {
     "name": "stdout",
     "output_type": "stream",
     "text": [
      "Python's Requests Library (Guide)\n"
     ]
    }
   ],
   "source": [
    "for doc in Tutorial.objects(author=\"Alex\"):\n",
    "    print(doc.title)"
   ]
  },
  {
   "cell_type": "code",
   "execution_count": null,
   "id": "5d9d0de5-310e-43ce-bb8a-eac8c3e93494",
   "metadata": {},
   "outputs": [],
   "source": []
  }
 ],
 "metadata": {
  "kernelspec": {
   "display_name": "bootcamp_env",
   "language": "python",
   "name": "bootcamp_env"
  },
  "language_info": {
   "codemirror_mode": {
    "name": "ipython",
    "version": 3
   },
   "file_extension": ".py",
   "mimetype": "text/x-python",
   "name": "python",
   "nbconvert_exporter": "python",
   "pygments_lexer": "ipython3",
   "version": "3.8.5"
  }
 },
 "nbformat": 4,
 "nbformat_minor": 5
}
