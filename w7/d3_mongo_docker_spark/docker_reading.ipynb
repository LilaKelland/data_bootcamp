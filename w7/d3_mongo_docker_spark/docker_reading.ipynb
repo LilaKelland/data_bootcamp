{
 "cells": [
  {
   "cell_type": "code",
   "execution_count": 1,
   "id": "b3b01a57-6a7c-48bf-9cef-d3d230949a2e",
   "metadata": {},
   "outputs": [],
   "source": [
    "# GOOD LINK _ GO BACK AND RE READ\n",
    "# https://unsupervisedpandas.com/data-science/docker-for-data-science/\n",
    "# dockerfiles\n",
    "\n",
    "# THIS ONE IS GOLD ( creating dockerfiles)\n",
    "# https://towardsdatascience.com/docker-made-easy-for-data-scientists-b32efbc23165"
   ]
  },
  {
   "cell_type": "code",
   "execution_count": 2,
   "id": "4c596613-62d0-4567-a84b-5f64b523db83",
   "metadata": {},
   "outputs": [],
   "source": [
    "# REmoving docker images, containers and volumes:\n",
    "# https://linuxize.com/post/how-to-remove-docker-images-containers-volumes-and-networks/"
   ]
  },
  {
   "cell_type": "markdown",
   "id": "93808137-a32a-4668-bb00-8b7165ec04ac",
   "metadata": {},
   "source": [
    "##### docker walkthrough\n",
    "docker pull jupyter/datascience-notebook\n",
    "\n",
    "docker run -p 8888:8888 jupyter/datascience-notebook but if want to access files - need this flag\n",
    "\n",
    "-v \\<host_directory>:\\<container_directory>\n",
    "\n",
    "docker run  --rm  -p 8888:8888  -v ~/lhl_exercises/docker/:/home/jovyan/work/ jupyter/datascience-notebook\n",
    "\n",
    "* note change the first 8888 if not working (I'm the host) there maybe something running here already\n",
    "\n",
    "It is necessary to specify /home/jovyan/work/ as the container directory because it was specified that way in the Docker file when the image was created.\n"
   ]
  },
  {
   "cell_type": "code",
   "execution_count": 3,
   "id": "9ae566ee-3874-4c9c-b1dd-566434a8b9f7",
   "metadata": {},
   "outputs": [],
   "source": [
    "# create pyspark container\n",
    "# https://hub.docker.com/r/jupyter/pyspark-notebook/\n",
    "# docker pull jupyter/pyspark-notebook\n",
    "# docker run  --rm  -p 8888:8888  -v ~/Desktop/docker/:/home/jovyan/work/ jupyter/pyspark-notebook\n",
    "\n",
    "# *** note I have something running on 8888 so I need to run this instead\n",
    "# docker run  --rm  -p 8899:8888  -v ~/Desktop/docker/:/home/jovyan/work/ jupyter/pyspark-notebook\n",
    "# THEN - change url to be 8899 then use token\n",
    "\n",
    "# MOVE FILES TO DOCKER CONTAINER\n",
    "# docker cp a.txt CONTAINER_ID:/home/juvyan/work\n",
    "\n",
    "# get docker id use:\n",
    "# docker ps"
   ]
  },
  {
   "cell_type": "code",
   "execution_count": null,
   "id": "8bd2cd66-4b64-471d-8ea1-ee0b8a436f0b",
   "metadata": {},
   "outputs": [],
   "source": []
  },
  {
   "cell_type": "markdown",
   "id": "f44e709a-9577-4490-aaaa-a05c68925aeb",
   "metadata": {},
   "source": [
    "### Docker made easy for data scientists\n",
    "https://towardsdatascience.com/docker-made-easy-for-data-scientists-b32efbc23165\n",
    "\n",
    "#### Installation\n",
    "* sudo apt update\n",
    "* sudo apt install docker.io\n",
    "\n",
    "check if docker is running or not\n",
    "* sudo service docker status\n",
    "\n",
    "if don't see active type then \n",
    "* sudo service docker start"
   ]
  },
  {
   "cell_type": "markdown",
   "id": "fbafc739-eda8-4c98-b577-495b8625c157",
   "metadata": {},
   "source": [
    "* Docker Image — In very simple terms docker image is just like an ISO image file used to install any OS. You can view all docker images(publicly available on DockerHub)\n",
    "* Docker Container — When a Docker Image runs it becomes a Docker Container. You can run the same image again and a different docker container will be created.\n",
    "* Dockerfile — A Dockerfile contains all the code to set up a docker container from downloading the docker image to setting the environment."
   ]
  },
  {
   "cell_type": "code",
   "execution_count": null,
   "id": "0a840a4b-645d-4d0e-b123-d318ed98294b",
   "metadata": {},
   "outputs": [],
   "source": [
    "eg build a flask app and a requirements.txt file by:\n",
    "\n",
    "pip3 list > requirements.txt\n",
    "\n",
    "remember to set to 0.0.0.0 as running inside Docker"
   ]
  }
 ],
 "metadata": {
  "kernelspec": {
   "display_name": "bootcamp_env",
   "language": "python",
   "name": "bootcamp_env"
  },
  "language_info": {
   "codemirror_mode": {
    "name": "ipython",
    "version": 3
   },
   "file_extension": ".py",
   "mimetype": "text/x-python",
   "name": "python",
   "nbconvert_exporter": "python",
   "pygments_lexer": "ipython3",
   "version": "3.8.5"
  }
 },
 "nbformat": 4,
 "nbformat_minor": 5
}
