{
 "cells": [
  {
   "cell_type": "markdown",
   "id": "53b13ae3-da02-49c8-883f-f6ff6edc6175",
   "metadata": {},
   "source": [
    "## supervised classification evaluation metrics"
   ]
  },
  {
   "cell_type": "code",
   "execution_count": null,
   "id": "ea20fb62-f65a-47cd-ad2a-406f1e9b2bf2",
   "metadata": {},
   "outputs": [],
   "source": [
    "Supervised Regression \n",
    "\n",
    "R2\n",
    "adjust r2\n",
    "MSE\n",
    "RMSE\n",
    "MAE"
   ]
  },
  {
   "cell_type": "code",
   "execution_count": null,
   "id": "0656c312-0922-43e5-81db-af845d21183a",
   "metadata": {},
   "outputs": [],
   "source": [
    "Supervised Classification \n",
    "\n",
    "Accuacy?\n",
    "Precision (minimize false +) spam TP/(TP + FP)\n",
    "Recall  (minimize false neg) cancer TP/(TP + FN) : TPR or senstivity \n",
    "\n",
    "F1 - harmonic accruacy btwn precision and recall \n",
    "\n",
    "(see in confusion matrix -  aka error matrix)\n",
    "Specficity = TN/(TN + FP)\n",
    "FPR = 1-specifity \n",
    "    = FP/(TN+FP)\n"
   ]
  }
 ],
 "metadata": {
  "kernelspec": {
   "display_name": "bootcamp_env",
   "language": "python",
   "name": "bootcamp_env"
  },
  "language_info": {
   "codemirror_mode": {
    "name": "ipython",
    "version": 3
   },
   "file_extension": ".py",
   "mimetype": "text/x-python",
   "name": "python",
   "nbconvert_exporter": "python",
   "pygments_lexer": "ipython3",
   "version": "3.8.5"
  }
 },
 "nbformat": 4,
 "nbformat_minor": 5
}
