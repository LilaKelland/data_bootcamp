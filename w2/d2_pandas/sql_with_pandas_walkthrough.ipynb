{
 "cells": [
  {
   "cell_type": "code",
   "execution_count": 1,
   "id": "38cd8b31-24b7-417c-a0ad-63b3f6990637",
   "metadata": {},
   "outputs": [],
   "source": [
    "# import sqlite3\n",
    "import sqlite3 as sqlite\n",
    "\n",
    "# import pandas\n",
    "import pandas as pd\n",
    "\n",
    "# import sqlalchemy\n",
    "from sqlalchemy import create_engine"
   ]
  },
  {
   "cell_type": "markdown",
   "id": "16e09522-74fd-4160-878b-0be1867dad29",
   "metadata": {},
   "source": [
    "For demonstration purposes, we'll create a database, population.db, and insert one table with the name, Population, which represents the population in different countries."
   ]
  },
  {
   "cell_type": "code",
   "execution_count": 2,
   "id": "c802adab-d8f9-416d-a7fd-7a8dfb3b1064",
   "metadata": {},
   "outputs": [],
   "source": [
    "with sqlite.connect('population.db') as con:\n",
    "    cur = con.cursor()    \n",
    "    cur.execute(\"CREATE TABLE IF NOT EXISTS Population(id INTEGER PRIMARY KEY, country TEXT, population INT)\")\n",
    "    cur.execute(\"INSERT INTO Population VALUES(NULL,'Germany',81197537)\")\n",
    "    cur.execute(\"INSERT INTO Population VALUES(NULL,'France', 66415161)\")\n",
    "    cur.execute(\"INSERT INTO Population VALUES(NULL,'Spain', 46439864)\")\n",
    "    cur.execute(\"INSERT INTO Population VALUES(NULL,'Italy', 60795612)\")\n",
    "    cur.execute(\"INSERT INTO Population VALUES(NULL,'Spain', 46439864)\")"
   ]
  },
  {
   "cell_type": "markdown",
   "id": "aad7a892-d287-4e0e-9e75-7ba5f5b4411a",
   "metadata": {},
   "source": [
    "### Connection with SQLAlchemy"
   ]
  },
  {
   "cell_type": "code",
   "execution_count": 3,
   "id": "685a7b9e-74f7-4231-920b-a439d5b93f45",
   "metadata": {},
   "outputs": [],
   "source": [
    "connection = create_engine('sqlite:///population.db')"
   ]
  },
  {
   "cell_type": "markdown",
   "id": "4ad92951-ec79-4847-83e5-ac0c10d5ab13",
   "metadata": {},
   "source": [
    "Pandas allows us to query SQL tables with three methods:\n",
    "\n",
    "* read_sql_query()\n",
    "* read_sql_table()\n",
    "* read_sql()\n",
    "\n",
    "### read_sql_query()"
   ]
  },
  {
   "cell_type": "code",
   "execution_count": 4,
   "id": "8217bebc-a5b7-4ed3-82c0-82a5c52d30bb",
   "metadata": {},
   "outputs": [
    {
     "data": {
      "text/html": [
       "<div>\n",
       "<style scoped>\n",
       "    .dataframe tbody tr th:only-of-type {\n",
       "        vertical-align: middle;\n",
       "    }\n",
       "\n",
       "    .dataframe tbody tr th {\n",
       "        vertical-align: top;\n",
       "    }\n",
       "\n",
       "    .dataframe thead th {\n",
       "        text-align: right;\n",
       "    }\n",
       "</style>\n",
       "<table border=\"1\" class=\"dataframe\">\n",
       "  <thead>\n",
       "    <tr style=\"text-align: right;\">\n",
       "      <th></th>\n",
       "      <th>id</th>\n",
       "      <th>country</th>\n",
       "      <th>population</th>\n",
       "    </tr>\n",
       "  </thead>\n",
       "  <tbody>\n",
       "    <tr>\n",
       "      <th>0</th>\n",
       "      <td>1</td>\n",
       "      <td>Germany</td>\n",
       "      <td>81197537</td>\n",
       "    </tr>\n",
       "    <tr>\n",
       "      <th>1</th>\n",
       "      <td>2</td>\n",
       "      <td>France</td>\n",
       "      <td>66415161</td>\n",
       "    </tr>\n",
       "    <tr>\n",
       "      <th>2</th>\n",
       "      <td>3</td>\n",
       "      <td>Spain</td>\n",
       "      <td>46439864</td>\n",
       "    </tr>\n",
       "    <tr>\n",
       "      <th>3</th>\n",
       "      <td>4</td>\n",
       "      <td>Italy</td>\n",
       "      <td>60795612</td>\n",
       "    </tr>\n",
       "    <tr>\n",
       "      <th>4</th>\n",
       "      <td>5</td>\n",
       "      <td>Spain</td>\n",
       "      <td>46439864</td>\n",
       "    </tr>\n",
       "  </tbody>\n",
       "</table>\n",
       "</div>"
      ],
      "text/plain": [
       "   id  country  population\n",
       "0   1  Germany    81197537\n",
       "1   2   France    66415161\n",
       "2   3    Spain    46439864\n",
       "3   4    Italy    60795612\n",
       "4   5    Spain    46439864"
      ]
     },
     "execution_count": 4,
     "metadata": {},
     "output_type": "execute_result"
    }
   ],
   "source": [
    "# create SQL query\n",
    "sql = 'SELECT * FROM Population'\n",
    "\n",
    "with create_engine('sqlite:///population.db').connect() as con:\n",
    "    df = pd.read_sql_query(sql, con)\n",
    "df"
   ]
  },
  {
   "cell_type": "markdown",
   "id": "a1efed42-b5bb-4a56-a740-0c5855a973b3",
   "metadata": {},
   "source": [
    "###  read_sql_table()\n",
    "Another way to load data from the database and into the data-frame is the read_sql_table() method. Compared to the read_sql_query() method, the first argument is the table name instead of the SQL query. The second argument stays the same."
   ]
  },
  {
   "cell_type": "code",
   "execution_count": 6,
   "id": "4f6dd54d-9f4b-4b43-b52d-9263a985a1fd",
   "metadata": {},
   "outputs": [
    {
     "data": {
      "text/html": [
       "<div>\n",
       "<style scoped>\n",
       "    .dataframe tbody tr th:only-of-type {\n",
       "        vertical-align: middle;\n",
       "    }\n",
       "\n",
       "    .dataframe tbody tr th {\n",
       "        vertical-align: top;\n",
       "    }\n",
       "\n",
       "    .dataframe thead th {\n",
       "        text-align: right;\n",
       "    }\n",
       "</style>\n",
       "<table border=\"1\" class=\"dataframe\">\n",
       "  <thead>\n",
       "    <tr style=\"text-align: right;\">\n",
       "      <th></th>\n",
       "      <th>id</th>\n",
       "      <th>country</th>\n",
       "      <th>population</th>\n",
       "    </tr>\n",
       "  </thead>\n",
       "  <tbody>\n",
       "    <tr>\n",
       "      <th>0</th>\n",
       "      <td>1</td>\n",
       "      <td>Germany</td>\n",
       "      <td>81197537</td>\n",
       "    </tr>\n",
       "    <tr>\n",
       "      <th>1</th>\n",
       "      <td>2</td>\n",
       "      <td>France</td>\n",
       "      <td>66415161</td>\n",
       "    </tr>\n",
       "    <tr>\n",
       "      <th>2</th>\n",
       "      <td>3</td>\n",
       "      <td>Spain</td>\n",
       "      <td>46439864</td>\n",
       "    </tr>\n",
       "    <tr>\n",
       "      <th>3</th>\n",
       "      <td>4</td>\n",
       "      <td>Italy</td>\n",
       "      <td>60795612</td>\n",
       "    </tr>\n",
       "    <tr>\n",
       "      <th>4</th>\n",
       "      <td>5</td>\n",
       "      <td>Spain</td>\n",
       "      <td>46439864</td>\n",
       "    </tr>\n",
       "  </tbody>\n",
       "</table>\n",
       "</div>"
      ],
      "text/plain": [
       "   id  country  population\n",
       "0   1  Germany    81197537\n",
       "1   2   France    66415161\n",
       "2   3    Spain    46439864\n",
       "3   4    Italy    60795612\n",
       "4   5    Spain    46439864"
      ]
     },
     "execution_count": 6,
     "metadata": {},
     "output_type": "execute_result"
    }
   ],
   "source": [
    "# table name\n",
    "table = 'Population'\n",
    "\n",
    "with create_engine('sqlite:///population.db').connect() as con:\n",
    "    df = pd.read_sql_table(table, con)\n",
    "df"
   ]
  },
  {
   "cell_type": "markdown",
   "id": "e8bc322b-d73d-48ee-a3ce-601ee91af527",
   "metadata": {},
   "source": [
    "### read_sql()\n",
    "This function is a combination of the two mentioned above. Depending on the type of the first argument (SQL query or table name), this function internally calls read_sql_query() instead of read_sql_table()"
   ]
  },
  {
   "cell_type": "markdown",
   "id": "91c5baa5-bd5b-42d0-8852-9bff2e7d9f19",
   "metadata": {},
   "source": [
    "#### with SQL query"
   ]
  },
  {
   "cell_type": "code",
   "execution_count": 7,
   "id": "23834ad1-e3a0-4f7e-a9f5-2b7025a14582",
   "metadata": {},
   "outputs": [
    {
     "data": {
      "text/html": [
       "<div>\n",
       "<style scoped>\n",
       "    .dataframe tbody tr th:only-of-type {\n",
       "        vertical-align: middle;\n",
       "    }\n",
       "\n",
       "    .dataframe tbody tr th {\n",
       "        vertical-align: top;\n",
       "    }\n",
       "\n",
       "    .dataframe thead th {\n",
       "        text-align: right;\n",
       "    }\n",
       "</style>\n",
       "<table border=\"1\" class=\"dataframe\">\n",
       "  <thead>\n",
       "    <tr style=\"text-align: right;\">\n",
       "      <th></th>\n",
       "      <th>id</th>\n",
       "      <th>country</th>\n",
       "      <th>population</th>\n",
       "    </tr>\n",
       "  </thead>\n",
       "  <tbody>\n",
       "    <tr>\n",
       "      <th>0</th>\n",
       "      <td>1</td>\n",
       "      <td>Germany</td>\n",
       "      <td>81197537</td>\n",
       "    </tr>\n",
       "    <tr>\n",
       "      <th>1</th>\n",
       "      <td>2</td>\n",
       "      <td>France</td>\n",
       "      <td>66415161</td>\n",
       "    </tr>\n",
       "    <tr>\n",
       "      <th>2</th>\n",
       "      <td>3</td>\n",
       "      <td>Spain</td>\n",
       "      <td>46439864</td>\n",
       "    </tr>\n",
       "    <tr>\n",
       "      <th>3</th>\n",
       "      <td>4</td>\n",
       "      <td>Italy</td>\n",
       "      <td>60795612</td>\n",
       "    </tr>\n",
       "    <tr>\n",
       "      <th>4</th>\n",
       "      <td>5</td>\n",
       "      <td>Spain</td>\n",
       "      <td>46439864</td>\n",
       "    </tr>\n",
       "  </tbody>\n",
       "</table>\n",
       "</div>"
      ],
      "text/plain": [
       "   id  country  population\n",
       "0   1  Germany    81197537\n",
       "1   2   France    66415161\n",
       "2   3    Spain    46439864\n",
       "3   4    Italy    60795612\n",
       "4   5    Spain    46439864"
      ]
     },
     "execution_count": 7,
     "metadata": {},
     "output_type": "execute_result"
    }
   ],
   "source": [
    "# create SQL query\n",
    "sql = 'SELECT * FROM Population'\n",
    "\n",
    "with create_engine('sqlite:///population.db').connect() as con:\n",
    "    df = pd.read_sql(sql, con)\n",
    "df"
   ]
  },
  {
   "cell_type": "markdown",
   "id": "f61ae46f-f84c-4b7f-a86c-705cbfccd4a9",
   "metadata": {},
   "source": [
    "#### with table name"
   ]
  },
  {
   "cell_type": "code",
   "execution_count": null,
   "id": "bdf53064-0b0b-4126-bb37-abfecfc64b97",
   "metadata": {},
   "outputs": [],
   "source": [
    "# table name\n",
    "table = 'Population'\n",
    "\n",
    "with create_engine('sqlite:///population.db').connect() as con:\n",
    "    df = pd.read_sql(table, con)\n",
    "df"
   ]
  }
 ],
 "metadata": {
  "kernelspec": {
   "display_name": "Python 3 (ipykernel)",
   "language": "python",
   "name": "python3"
  },
  "language_info": {
   "codemirror_mode": {
    "name": "ipython",
    "version": 3
   },
   "file_extension": ".py",
   "mimetype": "text/x-python",
   "name": "python",
   "nbconvert_exporter": "python",
   "pygments_lexer": "ipython3",
   "version": "3.8.11"
  }
 },
 "nbformat": 4,
 "nbformat_minor": 5
}
