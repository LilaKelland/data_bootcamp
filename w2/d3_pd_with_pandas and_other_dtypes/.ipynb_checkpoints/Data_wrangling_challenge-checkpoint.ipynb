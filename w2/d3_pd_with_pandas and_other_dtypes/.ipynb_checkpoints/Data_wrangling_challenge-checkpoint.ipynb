{
 "cells": [
  {
   "cell_type": "markdown",
   "metadata": {},
   "source": [
    "# Data Wrangling Challenge\n",
    "### Pull and manipulate the API data\n",
    "\n",
    "The point of this exercise is to try data enrichment with data from external APIs. We are going to take data about car crashes in Monroe County, Indiana from 2003 to 2015 and try to figure out the weather during the accident and how many bars there are in the area. We will work with two different APIs during this challenge:\n",
    "\n",
    "- Foursquare API\n",
    "- Visual Crossing API\n",
    "\n",
    "We will try to find correlations between the severity of crash and weather/number of bars in the area. To indicate the severity of a crash, we will use column `Injury Type`."
   ]
  },
  {
   "cell_type": "markdown",
   "metadata": {},
   "source": [
    "## Data\n",
    "\n",
    "The data for this exercise can be found [here](https://drive.google.com/file/d/1_KF9oIJV8cB8i3ngA4JPOLWIE_ETE6CJ/view?usp=sharing).\n",
    "\n",
    "Just run the cells below to get your data ready. Little help from us.\n"
   ]
  },
  {
   "cell_type": "code",
   "execution_count": 41,
   "metadata": {},
   "outputs": [],
   "source": [
    "import pandas as pd\n",
    "import os\n",
    "import pprint"
   ]
  },
  {
   "cell_type": "code",
   "execution_count": 4,
   "metadata": {},
   "outputs": [
    {
     "name": "stdout",
     "output_type": "stream",
     "text": [
      "(49005, 13)\n"
     ]
    },
    {
     "data": {
      "text/html": [
       "<div>\n",
       "<style scoped>\n",
       "    .dataframe tbody tr th:only-of-type {\n",
       "        vertical-align: middle;\n",
       "    }\n",
       "\n",
       "    .dataframe tbody tr th {\n",
       "        vertical-align: top;\n",
       "    }\n",
       "\n",
       "    .dataframe thead th {\n",
       "        text-align: right;\n",
       "    }\n",
       "</style>\n",
       "<table border=\"1\" class=\"dataframe\">\n",
       "  <thead>\n",
       "    <tr style=\"text-align: right;\">\n",
       "      <th></th>\n",
       "      <th>Master Record Number</th>\n",
       "      <th>Year</th>\n",
       "      <th>Month</th>\n",
       "      <th>Day</th>\n",
       "      <th>Weekend?</th>\n",
       "      <th>Hour</th>\n",
       "      <th>Collision Type</th>\n",
       "      <th>Injury Type</th>\n",
       "      <th>Primary Factor</th>\n",
       "      <th>Reported_Location</th>\n",
       "      <th>Latitude</th>\n",
       "      <th>Longitude</th>\n",
       "      <th>ll</th>\n",
       "    </tr>\n",
       "  </thead>\n",
       "  <tbody>\n",
       "    <tr>\n",
       "      <th>0</th>\n",
       "      <td>902363382</td>\n",
       "      <td>2015</td>\n",
       "      <td>1</td>\n",
       "      <td>5</td>\n",
       "      <td>Weekday</td>\n",
       "      <td>0.0</td>\n",
       "      <td>2-Car</td>\n",
       "      <td>No injury/unknown</td>\n",
       "      <td>OTHER (DRIVER) - EXPLAIN IN NARRATIVE</td>\n",
       "      <td>1ST &amp; FESS</td>\n",
       "      <td>39.159207</td>\n",
       "      <td>-86.525874</td>\n",
       "      <td>39.15920668,-86.52587356</td>\n",
       "    </tr>\n",
       "    <tr>\n",
       "      <th>1</th>\n",
       "      <td>902364268</td>\n",
       "      <td>2015</td>\n",
       "      <td>1</td>\n",
       "      <td>6</td>\n",
       "      <td>Weekday</td>\n",
       "      <td>1500.0</td>\n",
       "      <td>2-Car</td>\n",
       "      <td>No injury/unknown</td>\n",
       "      <td>FOLLOWING TOO CLOSELY</td>\n",
       "      <td>2ND &amp; COLLEGE</td>\n",
       "      <td>39.161440</td>\n",
       "      <td>-86.534848</td>\n",
       "      <td>39.16144,-86.534848</td>\n",
       "    </tr>\n",
       "    <tr>\n",
       "      <th>2</th>\n",
       "      <td>902364412</td>\n",
       "      <td>2015</td>\n",
       "      <td>1</td>\n",
       "      <td>6</td>\n",
       "      <td>Weekend</td>\n",
       "      <td>2300.0</td>\n",
       "      <td>2-Car</td>\n",
       "      <td>Non-incapacitating</td>\n",
       "      <td>DISREGARD SIGNAL/REG SIGN</td>\n",
       "      <td>BASSWOOD &amp; BLOOMFIELD</td>\n",
       "      <td>39.149780</td>\n",
       "      <td>-86.568890</td>\n",
       "      <td>39.14978027,-86.56889006</td>\n",
       "    </tr>\n",
       "    <tr>\n",
       "      <th>3</th>\n",
       "      <td>902364551</td>\n",
       "      <td>2015</td>\n",
       "      <td>1</td>\n",
       "      <td>7</td>\n",
       "      <td>Weekend</td>\n",
       "      <td>900.0</td>\n",
       "      <td>2-Car</td>\n",
       "      <td>Non-incapacitating</td>\n",
       "      <td>FAILURE TO YIELD RIGHT OF WAY</td>\n",
       "      <td>GATES &amp; JACOBS</td>\n",
       "      <td>39.165655</td>\n",
       "      <td>-86.575956</td>\n",
       "      <td>39.165655,-86.57595635</td>\n",
       "    </tr>\n",
       "    <tr>\n",
       "      <th>4</th>\n",
       "      <td>902364615</td>\n",
       "      <td>2015</td>\n",
       "      <td>1</td>\n",
       "      <td>7</td>\n",
       "      <td>Weekend</td>\n",
       "      <td>1100.0</td>\n",
       "      <td>2-Car</td>\n",
       "      <td>No injury/unknown</td>\n",
       "      <td>FAILURE TO YIELD RIGHT OF WAY</td>\n",
       "      <td>W 3RD</td>\n",
       "      <td>39.164848</td>\n",
       "      <td>-86.579625</td>\n",
       "      <td>39.164848,-86.57962482</td>\n",
       "    </tr>\n",
       "    <tr>\n",
       "      <th>5</th>\n",
       "      <td>902364664</td>\n",
       "      <td>2015</td>\n",
       "      <td>1</td>\n",
       "      <td>6</td>\n",
       "      <td>Weekday</td>\n",
       "      <td>1800.0</td>\n",
       "      <td>2-Car</td>\n",
       "      <td>No injury/unknown</td>\n",
       "      <td>FAILURE TO YIELD RIGHT OF WAY</td>\n",
       "      <td>BURKS &amp; WALNUT</td>\n",
       "      <td>39.126670</td>\n",
       "      <td>-86.531370</td>\n",
       "      <td>39.12666969,-86.53136998</td>\n",
       "    </tr>\n",
       "    <tr>\n",
       "      <th>6</th>\n",
       "      <td>902364682</td>\n",
       "      <td>2015</td>\n",
       "      <td>1</td>\n",
       "      <td>6</td>\n",
       "      <td>Weekday</td>\n",
       "      <td>1200.0</td>\n",
       "      <td>2-Car</td>\n",
       "      <td>No injury/unknown</td>\n",
       "      <td>DRIVER DISTRACTED - EXPLAIN IN NARRATIVE</td>\n",
       "      <td>SOUTH CURRY PIKE LOT 71</td>\n",
       "      <td>39.150825</td>\n",
       "      <td>-86.584899</td>\n",
       "      <td>39.150825,-86.584899</td>\n",
       "    </tr>\n",
       "    <tr>\n",
       "      <th>7</th>\n",
       "      <td>902364683</td>\n",
       "      <td>2015</td>\n",
       "      <td>1</td>\n",
       "      <td>6</td>\n",
       "      <td>Weekday</td>\n",
       "      <td>1400.0</td>\n",
       "      <td>1-Car</td>\n",
       "      <td>Incapacitating</td>\n",
       "      <td>ENGINE FAILURE OR DEFECTIVE</td>\n",
       "      <td>NORTH LOUDEN RD</td>\n",
       "      <td>39.199272</td>\n",
       "      <td>-86.637024</td>\n",
       "      <td>39.19927216,-86.63702393</td>\n",
       "    </tr>\n",
       "    <tr>\n",
       "      <th>8</th>\n",
       "      <td>902364714</td>\n",
       "      <td>2015</td>\n",
       "      <td>1</td>\n",
       "      <td>7</td>\n",
       "      <td>Weekend</td>\n",
       "      <td>1400.0</td>\n",
       "      <td>2-Car</td>\n",
       "      <td>No injury/unknown</td>\n",
       "      <td>FOLLOWING TOO CLOSELY</td>\n",
       "      <td>LIBERTY &amp; W 3RD</td>\n",
       "      <td>39.164610</td>\n",
       "      <td>-86.579130</td>\n",
       "      <td>39.16461021,-86.57913007</td>\n",
       "    </tr>\n",
       "    <tr>\n",
       "      <th>9</th>\n",
       "      <td>902364756</td>\n",
       "      <td>2015</td>\n",
       "      <td>1</td>\n",
       "      <td>7</td>\n",
       "      <td>Weekend</td>\n",
       "      <td>1600.0</td>\n",
       "      <td>1-Car</td>\n",
       "      <td>No injury/unknown</td>\n",
       "      <td>RAN OFF ROAD RIGHT</td>\n",
       "      <td>PATTERSON &amp; W 3RD</td>\n",
       "      <td>39.163440</td>\n",
       "      <td>-86.551280</td>\n",
       "      <td>39.16344009,-86.55128002</td>\n",
       "    </tr>\n",
       "    <tr>\n",
       "      <th>10</th>\n",
       "      <td>902364761</td>\n",
       "      <td>2015</td>\n",
       "      <td>1</td>\n",
       "      <td>7</td>\n",
       "      <td>Weekend</td>\n",
       "      <td>1500.0</td>\n",
       "      <td>2-Car</td>\n",
       "      <td>No injury/unknown</td>\n",
       "      <td>UNSAFE BACKING</td>\n",
       "      <td>S LIBERTY</td>\n",
       "      <td>39.145264</td>\n",
       "      <td>-86.577616</td>\n",
       "      <td>39.145264,-86.577616</td>\n",
       "    </tr>\n",
       "    <tr>\n",
       "      <th>11</th>\n",
       "      <td>902364764</td>\n",
       "      <td>2015</td>\n",
       "      <td>1</td>\n",
       "      <td>7</td>\n",
       "      <td>Weekend</td>\n",
       "      <td>1600.0</td>\n",
       "      <td>2-Car</td>\n",
       "      <td>No injury/unknown</td>\n",
       "      <td>FAILURE TO YIELD RIGHT OF WAY</td>\n",
       "      <td>E WINSLOW &amp; S HIGHLAND</td>\n",
       "      <td>39.136048</td>\n",
       "      <td>-86.518496</td>\n",
       "      <td>39.136048,-86.518496</td>\n",
       "    </tr>\n",
       "    <tr>\n",
       "      <th>12</th>\n",
       "      <td>902364822</td>\n",
       "      <td>2015</td>\n",
       "      <td>1</td>\n",
       "      <td>7</td>\n",
       "      <td>Weekend</td>\n",
       "      <td>1700.0</td>\n",
       "      <td>1-Car</td>\n",
       "      <td>No injury/unknown</td>\n",
       "      <td>UNSAFE BACKING</td>\n",
       "      <td>E KIRKWOOD</td>\n",
       "      <td>39.166640</td>\n",
       "      <td>-86.530701</td>\n",
       "      <td>39.16664,-86.53070106</td>\n",
       "    </tr>\n",
       "    <tr>\n",
       "      <th>13</th>\n",
       "      <td>902365038</td>\n",
       "      <td>2015</td>\n",
       "      <td>1</td>\n",
       "      <td>7</td>\n",
       "      <td>Weekend</td>\n",
       "      <td>1800.0</td>\n",
       "      <td>1-Car</td>\n",
       "      <td>No injury/unknown</td>\n",
       "      <td>RAN OFF ROAD RIGHT</td>\n",
       "      <td>HEATHERWOOD &amp; LEONARD SPRINGS</td>\n",
       "      <td>39.126790</td>\n",
       "      <td>-86.582580</td>\n",
       "      <td>39.12678972,-86.58258006</td>\n",
       "    </tr>\n",
       "    <tr>\n",
       "      <th>14</th>\n",
       "      <td>902365063</td>\n",
       "      <td>2015</td>\n",
       "      <td>1</td>\n",
       "      <td>1</td>\n",
       "      <td>Weekend</td>\n",
       "      <td>1300.0</td>\n",
       "      <td>3+ Cars</td>\n",
       "      <td>Incapacitating</td>\n",
       "      <td>DISREGARD SIGNAL/REG SIGN</td>\n",
       "      <td>ROGERS &amp; W PATTERSON</td>\n",
       "      <td>39.153790</td>\n",
       "      <td>-86.538750</td>\n",
       "      <td>39.15379018,-86.53875008</td>\n",
       "    </tr>\n",
       "  </tbody>\n",
       "</table>\n",
       "</div>"
      ],
      "text/plain": [
       "    Master Record Number  Year  Month  Day Weekend?    Hour Collision Type  \\\n",
       "0              902363382  2015      1    5  Weekday     0.0          2-Car   \n",
       "1              902364268  2015      1    6  Weekday  1500.0          2-Car   \n",
       "2              902364412  2015      1    6  Weekend  2300.0          2-Car   \n",
       "3              902364551  2015      1    7  Weekend   900.0          2-Car   \n",
       "4              902364615  2015      1    7  Weekend  1100.0          2-Car   \n",
       "5              902364664  2015      1    6  Weekday  1800.0          2-Car   \n",
       "6              902364682  2015      1    6  Weekday  1200.0          2-Car   \n",
       "7              902364683  2015      1    6  Weekday  1400.0          1-Car   \n",
       "8              902364714  2015      1    7  Weekend  1400.0          2-Car   \n",
       "9              902364756  2015      1    7  Weekend  1600.0          1-Car   \n",
       "10             902364761  2015      1    7  Weekend  1500.0          2-Car   \n",
       "11             902364764  2015      1    7  Weekend  1600.0          2-Car   \n",
       "12             902364822  2015      1    7  Weekend  1700.0          1-Car   \n",
       "13             902365038  2015      1    7  Weekend  1800.0          1-Car   \n",
       "14             902365063  2015      1    1  Weekend  1300.0        3+ Cars   \n",
       "\n",
       "           Injury Type                            Primary Factor  \\\n",
       "0    No injury/unknown     OTHER (DRIVER) - EXPLAIN IN NARRATIVE   \n",
       "1    No injury/unknown                     FOLLOWING TOO CLOSELY   \n",
       "2   Non-incapacitating                 DISREGARD SIGNAL/REG SIGN   \n",
       "3   Non-incapacitating             FAILURE TO YIELD RIGHT OF WAY   \n",
       "4    No injury/unknown             FAILURE TO YIELD RIGHT OF WAY   \n",
       "5    No injury/unknown             FAILURE TO YIELD RIGHT OF WAY   \n",
       "6    No injury/unknown  DRIVER DISTRACTED - EXPLAIN IN NARRATIVE   \n",
       "7       Incapacitating               ENGINE FAILURE OR DEFECTIVE   \n",
       "8    No injury/unknown                     FOLLOWING TOO CLOSELY   \n",
       "9    No injury/unknown                        RAN OFF ROAD RIGHT   \n",
       "10   No injury/unknown                            UNSAFE BACKING   \n",
       "11   No injury/unknown             FAILURE TO YIELD RIGHT OF WAY   \n",
       "12   No injury/unknown                            UNSAFE BACKING   \n",
       "13   No injury/unknown                        RAN OFF ROAD RIGHT   \n",
       "14      Incapacitating                 DISREGARD SIGNAL/REG SIGN   \n",
       "\n",
       "                Reported_Location   Latitude  Longitude  \\\n",
       "0                      1ST & FESS  39.159207 -86.525874   \n",
       "1                   2ND & COLLEGE  39.161440 -86.534848   \n",
       "2           BASSWOOD & BLOOMFIELD  39.149780 -86.568890   \n",
       "3                  GATES & JACOBS  39.165655 -86.575956   \n",
       "4                           W 3RD  39.164848 -86.579625   \n",
       "5                  BURKS & WALNUT  39.126670 -86.531370   \n",
       "6         SOUTH CURRY PIKE LOT 71  39.150825 -86.584899   \n",
       "7                 NORTH LOUDEN RD  39.199272 -86.637024   \n",
       "8                 LIBERTY & W 3RD  39.164610 -86.579130   \n",
       "9               PATTERSON & W 3RD  39.163440 -86.551280   \n",
       "10                      S LIBERTY  39.145264 -86.577616   \n",
       "11         E WINSLOW & S HIGHLAND  39.136048 -86.518496   \n",
       "12                     E KIRKWOOD  39.166640 -86.530701   \n",
       "13  HEATHERWOOD & LEONARD SPRINGS  39.126790 -86.582580   \n",
       "14           ROGERS & W PATTERSON  39.153790 -86.538750   \n",
       "\n",
       "                          ll  \n",
       "0   39.15920668,-86.52587356  \n",
       "1        39.16144,-86.534848  \n",
       "2   39.14978027,-86.56889006  \n",
       "3     39.165655,-86.57595635  \n",
       "4     39.164848,-86.57962482  \n",
       "5   39.12666969,-86.53136998  \n",
       "6       39.150825,-86.584899  \n",
       "7   39.19927216,-86.63702393  \n",
       "8   39.16461021,-86.57913007  \n",
       "9   39.16344009,-86.55128002  \n",
       "10      39.145264,-86.577616  \n",
       "11      39.136048,-86.518496  \n",
       "12     39.16664,-86.53070106  \n",
       "13  39.12678972,-86.58258006  \n",
       "14  39.15379018,-86.53875008  "
      ]
     },
     "execution_count": 4,
     "metadata": {},
     "output_type": "execute_result"
    }
   ],
   "source": [
    "data = pd.read_csv(\"monroe-county-crash-data2003-to-2015.csv\", encoding=\"unicode_escape\")\n",
    "# ========================\n",
    "# preparing data\n",
    "data.dropna(subset=['Latitude', 'Longitude'], inplace=True)\n",
    "# creation of variable with lon and lat together\n",
    "data['ll'] = data['Latitude'].astype(str) + ',' + data['Longitude'].astype(str)\n",
    "data = data[data['ll'] != '0.0,0.0']\n",
    "print(data.shape)\n",
    "data.head(15)"
   ]
  },
  {
   "cell_type": "code",
   "execution_count": 115,
   "metadata": {},
   "outputs": [
    {
     "data": {
      "text/plain": [
       "Index(['Master Record Number', 'Year', 'Month', 'Day', 'Weekend?', 'Hour',\n",
       "       'Collision Type', 'Injury Type', 'Primary Factor', 'Reported_Location',\n",
       "       'Latitude', 'Longitude', 'll', 'll_string'],\n",
       "      dtype='object')"
      ]
     },
     "execution_count": 115,
     "metadata": {},
     "output_type": "execute_result"
    }
   ],
   "source": [
    "data.columns"
   ]
  },
  {
   "cell_type": "markdown",
   "metadata": {},
   "source": [
    "# Foursquare API\n",
    "\n",
    "Foursquare API documentation is [here](https://developer.foursquare.com/)\n",
    "\n",
    "1. Start a foursquare application and get your keys.\n",
    "2. For each crash, create the function **get_venues** that will pull bars in the radius of 5km around the crash\n",
    "\n",
    "#### example\n",
    "`get_venues('48.146394, 17.107969')`\n",
    "\n",
    "3. Find a relationship (if there is any) between number of bars in the area and severity of the crash.\n",
    "\n",
    "HINTs: \n",
    "- check out python package \"foursquare\" (no need to send HTTP requests directly with library `requests`)\n",
    "- **categoryId** for bars and nightlife needs to be found in the [foursquare API documentation](https://developer.foursquare.com/docs/api-reference/venues/search/)"
   ]
  },
  {
   "cell_type": "code",
   "execution_count": 103,
   "metadata": {},
   "outputs": [],
   "source": [
    "#set the keys\n",
    "foursquare_client_id = os.environ[\"FOURSQUARE_CLIENT_ID\"]\n",
    "foursquare_secret = os.environ[\"FOURSQUARE_CLIENT_SECRET\"]"
   ]
  },
  {
   "cell_type": "code",
   "execution_count": 92,
   "metadata": {},
   "outputs": [],
   "source": [
    "# !pip install foursquare"
   ]
  },
  {
   "cell_type": "code",
   "execution_count": 26,
   "metadata": {},
   "outputs": [],
   "source": [
    "# # Construct the client object\n",
    "# # client = foursquare.Foursquare(client_id='YOUR_CLIENT_ID', client_secret='YOUR_CLIENT_SECRET', redirect_uri='http://fondu.com/oauth/authorize')\n",
    "# client = foursquare.Foursquare(client_id=foursquare_id, client_secret=foursquare_secret, redirect_uri='http://fondu.com/oauth/authorize')\n",
    "\n",
    "# # Build the authorization url for your app\n",
    "# auth_uri = client.oauth.auth_url()"
   ]
  },
  {
   "cell_type": "code",
   "execution_count": null,
   "metadata": {},
   "outputs": [],
   "source": []
  },
  {
   "cell_type": "code",
   "execution_count": 13,
   "metadata": {},
   "outputs": [],
   "source": [
    "# import requests as re\n",
    "# import os\n",
    "\n",
    "# client_id = os.environ[\"FOURSQUARE_CLIENT_ID\"]\n",
    "# client_secret = os.environ[\"FOURSQUARE_CLIENT_SECRET\"]\n",
    "# location = \"Toronto,Canada\"\n",
    "# v = \"20200731\"\n",
    "\n",
    "# # note '39.122352,-86.5712' middle\n",
    "\n",
    "# url = \"https://api.foursquare.com/v2/venues/search?near=\"+location+\"&client_id=\"+client_id+\"&client_secret=\"+client_secret+\"&v=\"+v"
   ]
  },
  {
   "cell_type": "code",
   "execution_count": 15,
   "metadata": {},
   "outputs": [],
   "source": [
    "# client = foursquare.Foursquare(client_id=client_id, client_secret=client_secret, redirect_uri='http://fondu.com/oauth/authorize')\n",
    "\n",
    "# # Build the authorization url for your app\n",
    "# auth_uri = client.oauth.auth_url()"
   ]
  },
  {
   "cell_type": "code",
   "execution_count": null,
   "metadata": {},
   "outputs": [],
   "source": [
    "# # url_venues = \"https://api.foursquare.com/v2/venues/search?near=39.16144,-86.534848&client_id=\"+foursquare_id+\"&client_secret=\"+foursquare_secret+\"&v=20200731\"\n",
    "# # res = re.get(url)\n",
    "# # print(res.json())\n",
    "\n",
    "# url_venues = \"https://api.foursquare.com/v2/venues/search?near=\"+string_test_loc+\"&client_id=\"+foursquare_id+\"&client_secret=\"+foursquare_secret+\"&v=20200731\"\n",
    "# res = re.get(url)\n",
    "# response = res.json()"
   ]
  },
  {
   "cell_type": "code",
   "execution_count": null,
   "metadata": {},
   "outputs": [],
   "source": [
    "# pprint.pprint(response)\n",
    "\n",
    "# response['response']['venues']"
   ]
  },
  {
   "cell_type": "code",
   "execution_count": null,
   "metadata": {},
   "outputs": [],
   "source": []
  },
  {
   "cell_type": "code",
   "execution_count": null,
   "metadata": {},
   "outputs": [],
   "source": [
    "res = re.get(url)"
   ]
  },
  {
   "cell_type": "markdown",
   "metadata": {},
   "source": [
    "## covert ll to string"
   ]
  },
  {
   "cell_type": "code",
   "execution_count": 31,
   "metadata": {},
   "outputs": [
    {
     "data": {
      "text/plain": [
       "0        39.15920668,-86.52587356\n",
       "1             39.16144,-86.534848\n",
       "2        39.14978027,-86.56889006\n",
       "3          39.165655,-86.57595635\n",
       "4          39.164848,-86.57962482\n",
       "                   ...           \n",
       "53344    39.00427482,-86.58137523\n",
       "53345        39.002752,-86.463856\n",
       "53346    38.99232624,-86.53725171\n",
       "53347         38.99152,-86.448784\n",
       "53348        38.990848,-86.368864\n",
       "Name: ll, Length: 49005, dtype: object"
      ]
     },
     "execution_count": 31,
     "metadata": {},
     "output_type": "execute_result"
    }
   ],
   "source": [
    "type(data['ll'])\n"
   ]
  },
  {
   "cell_type": "code",
   "execution_count": 38,
   "metadata": {},
   "outputs": [
    {
     "data": {
      "text/plain": [
       "'39.15920668,-86.52587356'"
      ]
     },
     "execution_count": 38,
     "metadata": {},
     "output_type": "execute_result"
    }
   ],
   "source": [
    "ll_string = {\n",
    "    'string_ll'\n",
    "}\n",
    "crash_locations = data['ll']\n",
    "For i in range(len(crash_locations)):\n",
    "    string_test_loc = str(crash_locations[i])\n",
    "    string_test_loc"
   ]
  },
  {
   "cell_type": "code",
   "execution_count": 95,
   "metadata": {},
   "outputs": [],
   "source": [
    "data['ll_string'] = data['ll'].astype('string')"
   ]
  },
  {
   "cell_type": "code",
   "execution_count": 97,
   "metadata": {},
   "outputs": [],
   "source": [
    "# data['ll_string']\n"
   ]
  },
  {
   "cell_type": "markdown",
   "metadata": {},
   "source": [
    "## only work with 100 samples "
   ]
  },
  {
   "cell_type": "code",
   "execution_count": 116,
   "metadata": {},
   "outputs": [],
   "source": [
    "data_sample = data.sample(50)"
   ]
  },
  {
   "cell_type": "code",
   "execution_count": 117,
   "metadata": {},
   "outputs": [
    {
     "data": {
      "text/plain": [
       "Master Record Number    50\n",
       "Year                    50\n",
       "Month                   50\n",
       "Day                     50\n",
       "Weekend?                50\n",
       "Hour                    50\n",
       "Collision Type          50\n",
       "Injury Type             50\n",
       "Primary Factor          49\n",
       "Reported_Location       50\n",
       "Latitude                50\n",
       "Longitude               50\n",
       "ll                      50\n",
       "ll_string               50\n",
       "dtype: int64"
      ]
     },
     "execution_count": 117,
     "metadata": {},
     "output_type": "execute_result"
    }
   ],
   "source": [
    "data_sample.count()"
   ]
  },
  {
   "cell_type": "code",
   "execution_count": 119,
   "metadata": {},
   "outputs": [],
   "source": [
    "data_sample['number_bars_5k'] = 0"
   ]
  },
  {
   "cell_type": "code",
   "execution_count": 120,
   "metadata": {},
   "outputs": [
    {
     "data": {
      "text/plain": [
       "42588    0\n",
       "51943    0\n",
       "43986    0\n",
       "26922    0\n",
       "48196    0\n",
       "16800    0\n",
       "22457    0\n",
       "9753     0\n",
       "12550    0\n",
       "52551    0\n",
       "48542    0\n",
       "43162    0\n",
       "2997     0\n",
       "12081    0\n",
       "948      0\n",
       "45932    0\n",
       "26369    0\n",
       "13618    0\n",
       "23097    0\n",
       "35678    0\n",
       "35023    0\n",
       "29676    0\n",
       "34394    0\n",
       "42759    0\n",
       "45474    0\n",
       "31383    0\n",
       "5020     0\n",
       "4029     0\n",
       "33476    0\n",
       "42636    0\n",
       "14573    0\n",
       "25958    0\n",
       "23630    0\n",
       "4936     0\n",
       "17876    0\n",
       "26972    0\n",
       "27110    0\n",
       "11852    0\n",
       "52199    0\n",
       "50693    0\n",
       "15444    0\n",
       "2694     0\n",
       "27818    0\n",
       "44080    0\n",
       "15403    0\n",
       "51963    0\n",
       "32737    0\n",
       "26068    0\n",
       "8553     0\n",
       "48695    0\n",
       "Name: number_bars_5k, dtype: int64"
      ]
     },
     "execution_count": 120,
     "metadata": {},
     "output_type": "execute_result"
    }
   ],
   "source": [
    "# data_sample['number_bars_5k'] "
   ]
  },
  {
   "cell_type": "code",
   "execution_count": null,
   "metadata": {},
   "outputs": [],
   "source": []
  },
  {
   "cell_type": "markdown",
   "metadata": {},
   "source": [
    "### get requests"
   ]
  },
  {
   "cell_type": "code",
   "execution_count": 168,
   "metadata": {},
   "outputs": [],
   "source": [
    "def bar_search(location):\n",
    "    base_url = \"https://api.foursquare.com/v2/venues/search?\"\n",
    "    params = dict(\n",
    "        client_id = client_id,\n",
    "        client_secret = client_secret,\n",
    "        v = '20200731',\n",
    "        ll = location,\n",
    "        query = 'bar',\n",
    "        limit = 5,\n",
    "        radius = 5000 \n",
    "        )\n",
    "    bar_response = requests.get(url=base_url, params= params)\n",
    "    if bar_response.status_code != 200:\n",
    "        print(\"Something's not quite right - please take a look\")\n",
    "    bars_json = bar_response.json()\n",
    "    number_bars = len(bars_json['response']['venues'])\n",
    "    return(number_bars)"
   ]
  },
  {
   "cell_type": "code",
   "execution_count": 169,
   "metadata": {},
   "outputs": [],
   "source": [
    "bars = bar_search('39.163344,-86.5272')"
   ]
  },
  {
   "cell_type": "code",
   "execution_count": 170,
   "metadata": {},
   "outputs": [
    {
     "data": {
      "text/plain": [
       "5"
      ]
     },
     "execution_count": 170,
     "metadata": {},
     "output_type": "execute_result"
    }
   ],
   "source": [
    "bars"
   ]
  },
  {
   "cell_type": "code",
   "execution_count": 165,
   "metadata": {},
   "outputs": [
    {
     "data": {
      "text/plain": [
       "5"
      ]
     },
     "execution_count": 165,
     "metadata": {},
     "output_type": "execute_result"
    }
   ],
   "source": [
    "# len(bars['response']['venues'])"
   ]
  },
  {
   "cell_type": "code",
   "execution_count": 175,
   "metadata": {},
   "outputs": [],
   "source": [
    "# bars['response']['venues']"
   ]
  },
  {
   "cell_type": "code",
   "execution_count": 148,
   "metadata": {},
   "outputs": [],
   "source": [
    "# data_sample_ll = data_sample['ll_string']"
   ]
  },
  {
   "cell_type": "code",
   "execution_count": 149,
   "metadata": {},
   "outputs": [
    {
     "data": {
      "text/plain": [
       "'39.163344,-86.5272'"
      ]
     },
     "execution_count": 149,
     "metadata": {},
     "output_type": "execute_result"
    }
   ],
   "source": [
    "# data_sample_ll.iloc[1]"
   ]
  },
  {
   "cell_type": "code",
   "execution_count": 159,
   "metadata": {},
   "outputs": [
    {
     "data": {
      "text/plain": [
       "ll_string    39.33283031,-86.67892355\n",
       "Name: 12550, dtype: object"
      ]
     },
     "execution_count": 159,
     "metadata": {},
     "output_type": "execute_result"
    }
   ],
   "source": [
    "data_sample.iloc[8,[13]]"
   ]
  },
  {
   "cell_type": "markdown",
   "metadata": {},
   "source": [
    "## count/ grab response and number bars from json response"
   ]
  },
  {
   "cell_type": "code",
   "execution_count": 199,
   "metadata": {},
   "outputs": [],
   "source": [
    "number_bars = {\n",
    "    'number_bars_5k': []\n",
    "}\n",
    "\n",
    "for i in range(len(data_sample['number_bars_5k'])):\n",
    "    bar_num = bar_search(data_sample.iloc[i,[13]])\n",
    "    number_bars['number_bars_5k'].append(bar_num)\n",
    "#     number_bars['number_bars_5k'].append(bar_num)\n",
    "    \n",
    "# number_bars   \n",
    "#     data_sample['number_bars_5k'][i] = 2\n",
    "#                #= bar_search(data_sample['ll_string'])\n"
   ]
  },
  {
   "cell_type": "code",
   "execution_count": 176,
   "metadata": {},
   "outputs": [],
   "source": [
    "# data_sample[\"number_bars_5k\"] = "
   ]
  },
  {
   "cell_type": "code",
   "execution_count": 196,
   "metadata": {},
   "outputs": [],
   "source": [
    "number_bars"
   ]
  },
  {
   "cell_type": "code",
   "execution_count": 195,
   "metadata": {},
   "outputs": [],
   "source": [
    "number_bars_df = pd.DataFrame(number_bars, columns=[\"number_bars_5k\"])"
   ]
  },
  {
   "cell_type": "code",
   "execution_count": 187,
   "metadata": {},
   "outputs": [],
   "source": [
    "# data_sample.drop(\"number_bars_5k\", axis=1)"
   ]
  },
  {
   "cell_type": "code",
   "execution_count": 183,
   "metadata": {},
   "outputs": [],
   "source": [
    "data_sample[\"number_bars_5k\"] = number_bars[\"number_bars_5k\"]"
   ]
  },
  {
   "cell_type": "code",
   "execution_count": 189,
   "metadata": {},
   "outputs": [
    {
     "data": {
      "text/plain": [
       "50"
      ]
     },
     "execution_count": 189,
     "metadata": {},
     "output_type": "execute_result"
    }
   ],
   "source": [
    "number_bars[\"number_bars_5k\"].count()"
   ]
  },
  {
   "cell_type": "code",
   "execution_count": 202,
   "metadata": {},
   "outputs": [],
   "source": [
    "# number_bars"
   ]
  },
  {
   "cell_type": "code",
   "execution_count": 203,
   "metadata": {},
   "outputs": [],
   "source": [
    "df_with_bars = data_sample.assign(number_bars_5k =number_bars['number_bars_5k'])"
   ]
  },
  {
   "cell_type": "code",
   "execution_count": 206,
   "metadata": {},
   "outputs": [
    {
     "data": {
      "text/html": [
       "<div>\n",
       "<style scoped>\n",
       "    .dataframe tbody tr th:only-of-type {\n",
       "        vertical-align: middle;\n",
       "    }\n",
       "\n",
       "    .dataframe tbody tr th {\n",
       "        vertical-align: top;\n",
       "    }\n",
       "\n",
       "    .dataframe thead th {\n",
       "        text-align: right;\n",
       "    }\n",
       "</style>\n",
       "<table border=\"1\" class=\"dataframe\">\n",
       "  <thead>\n",
       "    <tr style=\"text-align: right;\">\n",
       "      <th></th>\n",
       "      <th>Master Record Number</th>\n",
       "      <th>Year</th>\n",
       "      <th>Month</th>\n",
       "      <th>Day</th>\n",
       "      <th>Weekend?</th>\n",
       "      <th>Hour</th>\n",
       "      <th>Collision Type</th>\n",
       "      <th>Injury Type</th>\n",
       "      <th>Primary Factor</th>\n",
       "      <th>Reported_Location</th>\n",
       "      <th>Latitude</th>\n",
       "      <th>Longitude</th>\n",
       "      <th>ll</th>\n",
       "      <th>ll_string</th>\n",
       "      <th>number_bars_5k</th>\n",
       "    </tr>\n",
       "  </thead>\n",
       "  <tbody>\n",
       "    <tr>\n",
       "      <th>42588</th>\n",
       "      <td>1748077</td>\n",
       "      <td>2005</td>\n",
       "      <td>7</td>\n",
       "      <td>5</td>\n",
       "      <td>Weekday</td>\n",
       "      <td>2200.0</td>\n",
       "      <td>2-Car</td>\n",
       "      <td>Non-incapacitating</td>\n",
       "      <td>DISREGARD SIGNAL/REG SIGN</td>\n",
       "      <td>LONGVIEW &amp; PETE ELLIS</td>\n",
       "      <td>39.166944</td>\n",
       "      <td>-86.495056</td>\n",
       "      <td>39.166944,-86.495056</td>\n",
       "      <td>39.166944,-86.495056</td>\n",
       "      <td>5</td>\n",
       "    </tr>\n",
       "    <tr>\n",
       "      <th>51943</th>\n",
       "      <td>900026158</td>\n",
       "      <td>2003</td>\n",
       "      <td>4</td>\n",
       "      <td>4</td>\n",
       "      <td>Weekday</td>\n",
       "      <td>2100.0</td>\n",
       "      <td>2-Car</td>\n",
       "      <td>Non-incapacitating</td>\n",
       "      <td>FAILURE TO YIELD RIGHT OF WAY</td>\n",
       "      <td>ATWATER &amp; HENDERSON</td>\n",
       "      <td>39.163344</td>\n",
       "      <td>-86.527200</td>\n",
       "      <td>39.163344,-86.5272</td>\n",
       "      <td>39.163344,-86.5272</td>\n",
       "      <td>5</td>\n",
       "    </tr>\n",
       "  </tbody>\n",
       "</table>\n",
       "</div>"
      ],
      "text/plain": [
       "       Master Record Number  Year  Month  Day Weekend?    Hour Collision Type  \\\n",
       "42588               1748077  2005      7    5  Weekday  2200.0          2-Car   \n",
       "51943             900026158  2003      4    4  Weekday  2100.0          2-Car   \n",
       "\n",
       "              Injury Type                 Primary Factor  \\\n",
       "42588  Non-incapacitating      DISREGARD SIGNAL/REG SIGN   \n",
       "51943  Non-incapacitating  FAILURE TO YIELD RIGHT OF WAY   \n",
       "\n",
       "           Reported_Location   Latitude  Longitude                    ll  \\\n",
       "42588  LONGVIEW & PETE ELLIS  39.166944 -86.495056  39.166944,-86.495056   \n",
       "51943    ATWATER & HENDERSON  39.163344 -86.527200    39.163344,-86.5272   \n",
       "\n",
       "                  ll_string  number_bars_5k  \n",
       "42588  39.166944,-86.495056               5  \n",
       "51943    39.163344,-86.5272               5  "
      ]
     },
     "execution_count": 206,
     "metadata": {},
     "output_type": "execute_result"
    }
   ],
   "source": [
    "df_with_bars.head(2)"
   ]
  },
  {
   "cell_type": "code",
   "execution_count": null,
   "metadata": {},
   "outputs": [],
   "source": []
  },
  {
   "cell_type": "code",
   "execution_count": 106,
   "metadata": {},
   "outputs": [],
   "source": [
    "# bars_json = test\n",
    "\n",
    "# for i in range(len(bars_json['response']['venues'])):\n",
    "#     bars.append(bars_json['response']['venues'][i]['name'])\n",
    "# return(bars)"
   ]
  },
  {
   "cell_type": "code",
   "execution_count": null,
   "metadata": {},
   "outputs": [],
   "source": [
    "# def get_venues(location):\n",
    "#     bars = []\n",
    "#     bars_json = search(location)\n",
    "    \n",
    "#     for i in range(len(bars_json['response']['venues'])):\n",
    "#         bars.append(bars_json['response']['venues'][i]['name'])\n",
    "#     return(bars)\n",
    "\n",
    "# get_venues(string_test_loc)\n",
    "# # bars_json['response']['venues'][3]['name']"
   ]
  },
  {
   "cell_type": "code",
   "execution_count": 54,
   "metadata": {},
   "outputs": [],
   "source": []
  },
  {
   "cell_type": "markdown",
   "metadata": {},
   "source": [
    "## Try again"
   ]
  },
  {
   "cell_type": "code",
   "execution_count": 61,
   "metadata": {},
   "outputs": [],
   "source": [
    "# import requests \n",
    "# import os\n",
    "\n",
    "# client_id = os.environ[\"FOURSQUARE_CLIENT_ID\"]\n",
    "# client_secret = os.environ[\"FOURSQUARE_CLIENT_SECRET\"]\n",
    "# # location = \"Toronto,Canada\"\n",
    "# # v = \"20200731\"\n",
    "\n",
    "# # # note '39.122352,-86.5712' middle\n",
    "\n",
    "# # url = \"https://api.foursquare.com/v2/venues/search?near=\"+location+\"&client_id=\"+client_id+\"&client_secret=\"+client_secret+\"&v=\"+v"
   ]
  },
  {
   "cell_type": "code",
   "execution_count": 114,
   "metadata": {},
   "outputs": [],
   "source": [
    "# crash_locations = data['ll'].head(1)\n",
    "\n",
    "# string_test_loc = str(crash_locations[0])\n",
    "# string_test_loc"
   ]
  },
  {
   "cell_type": "code",
   "execution_count": null,
   "metadata": {},
   "outputs": [],
   "source": []
  },
  {
   "cell_type": "code",
   "execution_count": null,
   "metadata": {},
   "outputs": [],
   "source": []
  },
  {
   "cell_type": "markdown",
   "metadata": {},
   "source": [
    "# Visual Crossing API\n",
    "\n",
    "Virtual Crossing API documentation is [here](https://www.visualcrossing.com/resources/documentation/)\n",
    "\n",
    "1. Sign up for FREE api key if you haven't done that before.\n",
    "2. For each crush, get the weather for the location and date.\n",
    "3. Find a relationship between the weather and severity of the crash.\n",
    "\n",
    "Hints:\n",
    "\n",
    "* randomly sample only 250 or so (due to API limits), or pull weather only for smaller sample of crashes\n",
    "* for sending HTTP requests check out \"requests\" library [here](http://docs.python-requests.org/en/master/)\n"
   ]
  },
  {
   "cell_type": "code",
   "execution_count": 193,
   "metadata": {},
   "outputs": [],
   "source": [
    "VISUAL_CROSSING_API_KEY\n",
    "\n",
    "# https://weather.visualcrossing.com/VisualCrossingWebServices/rest/services/timeline/[location]/[date1]/[date2]?key=YOUR_API_KEY \n",
    "# date in yyyy-MM-dd format\n",
    "# yyyy-MM-ddTHH:mm:ss. For example 2020-10-19T13:00:00. \n",
    "# date2 optional\n",
    "\n",
    "# https://weather.visualcrossing.com/VisualCrossingWebServices/rest/services/timeline/London,UK?key=YOUR_API_KEY \n",
    "\n",
    "# https://weather.visualcrossing.com/VisualCrossingWebServices/rest/services/timeline/38.9697,-77.385?key=YOUR_API_KEY \n",
    "\n",
    "# https://weather.visualcrossing.com/VisualCrossingWebServices/rest/services/timeline/London,UK/2020-10-01/2020-12-31?key=YOUR_API_KEY \n",
    "\n",
    "# #     daily hoursly\n",
    "# https://weather.visualcrossing.com/VisualCrossingWebServices/rest/services/timeline/London,UK/last30days?key=YOUR_API_KEY&include=obs%2Cfcst%2Cstats%2Calerts%2Ccurrent%2Chistfcst&elements=tempmax,tempmin,temp\n"
   ]
  },
  {
   "cell_type": "code",
   "execution_count": 20,
   "metadata": {},
   "outputs": [],
   "source": [
    "# Convert date1\n",
    "need f = "
   ]
  },
  {
   "cell_type": "code",
   "execution_count": 207,
   "metadata": {},
   "outputs": [
    {
     "ename": "KeyError",
     "evalue": "'VISUAL_CROSSING_API_KEY'",
     "output_type": "error",
     "traceback": [
      "\u001b[0;31m---------------------------------------------------------------------------\u001b[0m",
      "\u001b[0;31mKeyError\u001b[0m                                  Traceback (most recent call last)",
      "\u001b[0;32m<ipython-input-207-7c4c51b54f57>\u001b[0m in \u001b[0;36m<module>\u001b[0;34m\u001b[0m\n\u001b[1;32m      1\u001b[0m \u001b[0;31m#set the keys\u001b[0m\u001b[0;34m\u001b[0m\u001b[0;34m\u001b[0m\u001b[0;34m\u001b[0m\u001b[0m\n\u001b[0;32m----> 2\u001b[0;31m \u001b[0mvs_api_key\u001b[0m \u001b[0;34m=\u001b[0m \u001b[0mos\u001b[0m\u001b[0;34m.\u001b[0m\u001b[0menviron\u001b[0m\u001b[0;34m[\u001b[0m\u001b[0;34m\"VISUAL_CROSSING_API_KEY\"\u001b[0m\u001b[0;34m]\u001b[0m\u001b[0;34m\u001b[0m\u001b[0;34m\u001b[0m\u001b[0m\n\u001b[0m",
      "\u001b[0;32m~/opt/anaconda3/lib/python3.8/os.py\u001b[0m in \u001b[0;36m__getitem__\u001b[0;34m(self, key)\u001b[0m\n\u001b[1;32m    673\u001b[0m         \u001b[0;32mexcept\u001b[0m \u001b[0mKeyError\u001b[0m\u001b[0;34m:\u001b[0m\u001b[0;34m\u001b[0m\u001b[0;34m\u001b[0m\u001b[0m\n\u001b[1;32m    674\u001b[0m             \u001b[0;31m# raise KeyError with the original key value\u001b[0m\u001b[0;34m\u001b[0m\u001b[0;34m\u001b[0m\u001b[0;34m\u001b[0m\u001b[0m\n\u001b[0;32m--> 675\u001b[0;31m             \u001b[0;32mraise\u001b[0m \u001b[0mKeyError\u001b[0m\u001b[0;34m(\u001b[0m\u001b[0mkey\u001b[0m\u001b[0;34m)\u001b[0m \u001b[0;32mfrom\u001b[0m \u001b[0;32mNone\u001b[0m\u001b[0;34m\u001b[0m\u001b[0;34m\u001b[0m\u001b[0m\n\u001b[0m\u001b[1;32m    676\u001b[0m         \u001b[0;32mreturn\u001b[0m \u001b[0mself\u001b[0m\u001b[0;34m.\u001b[0m\u001b[0mdecodevalue\u001b[0m\u001b[0;34m(\u001b[0m\u001b[0mvalue\u001b[0m\u001b[0;34m)\u001b[0m\u001b[0;34m\u001b[0m\u001b[0;34m\u001b[0m\u001b[0m\n\u001b[1;32m    677\u001b[0m \u001b[0;34m\u001b[0m\u001b[0m\n",
      "\u001b[0;31mKeyError\u001b[0m: 'VISUAL_CROSSING_API_KEY'"
     ]
    }
   ],
   "source": [
    "#set the keys\n",
    "vs_api_key = os.environ[\"VISUAL_CROSSING_API_KEY\"]\n"
   ]
  },
  {
   "cell_type": "code",
   "execution_count": 22,
   "metadata": {},
   "outputs": [],
   "source": []
  },
  {
   "cell_type": "code",
   "execution_count": null,
   "metadata": {},
   "outputs": [],
   "source": []
  },
  {
   "cell_type": "code",
   "execution_count": null,
   "metadata": {},
   "outputs": [],
   "source": []
  }
 ],
 "metadata": {
  "kernelspec": {
   "display_name": "Python 3",
   "language": "python",
   "name": "python3"
  },
  "language_info": {
   "codemirror_mode": {
    "name": "ipython",
    "version": 3
   },
   "file_extension": ".py",
   "mimetype": "text/x-python",
   "name": "python",
   "nbconvert_exporter": "python",
   "pygments_lexer": "ipython3",
   "version": "3.8.8"
  }
 },
 "nbformat": 4,
 "nbformat_minor": 4
}
