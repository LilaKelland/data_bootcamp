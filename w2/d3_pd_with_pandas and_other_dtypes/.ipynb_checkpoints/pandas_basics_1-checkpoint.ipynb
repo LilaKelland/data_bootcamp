{
 "cells": [
  {
   "cell_type": "code",
   "execution_count": 1,
   "id": "af5565e8-d18a-4203-aab9-dbcefcb18e62",
   "metadata": {},
   "outputs": [],
   "source": [
    "import pandas as pd\n",
    "import numpy as np"
   ]
  },
  {
   "cell_type": "code",
   "execution_count": 3,
   "id": "0b611128-e013-4244-968e-3a488a98ccfc",
   "metadata": {},
   "outputs": [],
   "source": [
    "df = pd.DataFrame(np.random.randn(8, 3),\n",
    "                      columns=['A', 'B', 'C'])"
   ]
  },
  {
   "cell_type": "code",
   "execution_count": 4,
   "id": "11fb8872-6917-4a11-bea5-2734e610c163",
   "metadata": {},
   "outputs": [],
   "source": [
    "df.columns = [x.lower() for x in df.columns]"
   ]
  },
  {
   "cell_type": "code",
   "execution_count": 5,
   "id": "562e7c25-b2c4-40d5-918e-4e4b1002f249",
   "metadata": {},
   "outputs": [
    {
     "data": {
      "text/html": [
       "<div>\n",
       "<style scoped>\n",
       "    .dataframe tbody tr th:only-of-type {\n",
       "        vertical-align: middle;\n",
       "    }\n",
       "\n",
       "    .dataframe tbody tr th {\n",
       "        vertical-align: top;\n",
       "    }\n",
       "\n",
       "    .dataframe thead th {\n",
       "        text-align: right;\n",
       "    }\n",
       "</style>\n",
       "<table border=\"1\" class=\"dataframe\">\n",
       "  <thead>\n",
       "    <tr style=\"text-align: right;\">\n",
       "      <th></th>\n",
       "      <th>a</th>\n",
       "      <th>b</th>\n",
       "      <th>c</th>\n",
       "    </tr>\n",
       "  </thead>\n",
       "  <tbody>\n",
       "    <tr>\n",
       "      <th>0</th>\n",
       "      <td>1.017720</td>\n",
       "      <td>-0.938917</td>\n",
       "      <td>-0.356571</td>\n",
       "    </tr>\n",
       "    <tr>\n",
       "      <th>1</th>\n",
       "      <td>0.525362</td>\n",
       "      <td>1.077024</td>\n",
       "      <td>0.362364</td>\n",
       "    </tr>\n",
       "    <tr>\n",
       "      <th>2</th>\n",
       "      <td>1.955011</td>\n",
       "      <td>-0.425092</td>\n",
       "      <td>-1.042216</td>\n",
       "    </tr>\n",
       "    <tr>\n",
       "      <th>3</th>\n",
       "      <td>0.299591</td>\n",
       "      <td>-1.988031</td>\n",
       "      <td>-0.921123</td>\n",
       "    </tr>\n",
       "    <tr>\n",
       "      <th>4</th>\n",
       "      <td>-1.182346</td>\n",
       "      <td>-0.296538</td>\n",
       "      <td>0.657919</td>\n",
       "    </tr>\n",
       "    <tr>\n",
       "      <th>5</th>\n",
       "      <td>0.172286</td>\n",
       "      <td>-0.683108</td>\n",
       "      <td>-0.022970</td>\n",
       "    </tr>\n",
       "    <tr>\n",
       "      <th>6</th>\n",
       "      <td>0.756194</td>\n",
       "      <td>2.058182</td>\n",
       "      <td>0.422938</td>\n",
       "    </tr>\n",
       "    <tr>\n",
       "      <th>7</th>\n",
       "      <td>-0.468912</td>\n",
       "      <td>-2.448525</td>\n",
       "      <td>0.812787</td>\n",
       "    </tr>\n",
       "  </tbody>\n",
       "</table>\n",
       "</div>"
      ],
      "text/plain": [
       "          a         b         c\n",
       "0  1.017720 -0.938917 -0.356571\n",
       "1  0.525362  1.077024  0.362364\n",
       "2  1.955011 -0.425092 -1.042216\n",
       "3  0.299591 -1.988031 -0.921123\n",
       "4 -1.182346 -0.296538  0.657919\n",
       "5  0.172286 -0.683108 -0.022970\n",
       "6  0.756194  2.058182  0.422938\n",
       "7 -0.468912 -2.448525  0.812787"
      ]
     },
     "execution_count": 5,
     "metadata": {},
     "output_type": "execute_result"
    }
   ],
   "source": [
    "df"
   ]
  },
  {
   "cell_type": "code",
   "execution_count": 6,
   "id": "29923bcc-d954-4a18-9121-d925cf7e8eac",
   "metadata": {},
   "outputs": [
    {
     "data": {
      "text/plain": [
       "<PandasArray>\n",
       "[ 1.0177199604601035,  0.5253616630209202,  1.9550111670131392,\n",
       "  0.2995906490848269, -1.1823464683665712,  0.1722857012161976,\n",
       "  0.7561942249654131, -0.4689119720903258]\n",
       "Length: 8, dtype: float64"
      ]
     },
     "execution_count": 6,
     "metadata": {},
     "output_type": "execute_result"
    }
   ],
   "source": [
    "df.a.array"
   ]
  },
  {
   "cell_type": "code",
   "execution_count": 7,
   "id": "64e27a73-7930-44c4-aa52-17742f09bf3e",
   "metadata": {},
   "outputs": [],
   "source": [
    "data = np.random.randint(0, 7, size=50)"
   ]
  },
  {
   "cell_type": "code",
   "execution_count": 8,
   "id": "46443895-497e-46ee-b00c-6b33791f1a84",
   "metadata": {},
   "outputs": [
    {
     "data": {
      "text/plain": [
       "array([4, 3, 5, 1, 4, 0, 2, 2, 4, 3, 0, 3, 6, 4, 6, 5, 3, 2, 5, 4, 1, 2,\n",
       "       4, 5, 3, 2, 1, 5, 1, 0, 3, 4, 2, 5, 6, 6, 6, 0, 4, 0, 0, 0, 3, 4,\n",
       "       1, 3, 3, 6, 5, 0])"
      ]
     },
     "execution_count": 8,
     "metadata": {},
     "output_type": "execute_result"
    }
   ],
   "source": [
    "data"
   ]
  },
  {
   "cell_type": "code",
   "execution_count": 10,
   "id": "412e1c26-4e36-4585-875d-df034ffa2631",
   "metadata": {},
   "outputs": [],
   "source": [
    "s = pd.Series(data)"
   ]
  },
  {
   "cell_type": "code",
   "execution_count": 11,
   "id": "fdc692c4-2d2d-4b1f-8914-8b9c755cf929",
   "metadata": {},
   "outputs": [
    {
     "data": {
      "text/plain": [
       "4    9\n",
       "3    9\n",
       "0    8\n",
       "5    7\n",
       "6    6\n",
       "2    6\n",
       "1    5\n",
       "dtype: int64"
      ]
     },
     "execution_count": 11,
     "metadata": {},
     "output_type": "execute_result"
    }
   ],
   "source": [
    "s.value_counts()"
   ]
  },
  {
   "cell_type": "code",
   "execution_count": 12,
   "id": "1d95aefe-b923-4735-b48c-b6dc43c40fa5",
   "metadata": {},
   "outputs": [],
   "source": [
    "s5 = pd.Series([1, 1, 3, 3, 3, 5, 5, 7, 7, 7])"
   ]
  },
  {
   "cell_type": "code",
   "execution_count": 13,
   "id": "93b0619b-16b6-4c56-9b4f-2e944609f3c5",
   "metadata": {},
   "outputs": [
    {
     "data": {
      "text/plain": [
       "0    3\n",
       "1    7\n",
       "dtype: int64"
      ]
     },
     "execution_count": 13,
     "metadata": {},
     "output_type": "execute_result"
    }
   ],
   "source": [
    "s5.mode()\n"
   ]
  },
  {
   "cell_type": "code",
   "execution_count": 18,
   "id": "216faded-45a4-4931-92b9-c2ea58624f74",
   "metadata": {},
   "outputs": [],
   "source": [
    "df5 = pd.DataFrame({\"A\": np.random.randint(0, 7, size=50),\n",
    "                    \"B\": np.random.randint(-10, 15, size=50)})"
   ]
  },
  {
   "cell_type": "code",
   "execution_count": 19,
   "id": "1e547728-c68b-4bc2-9105-60e5a9e9bf22",
   "metadata": {},
   "outputs": [
    {
     "data": {
      "text/html": [
       "<div>\n",
       "<style scoped>\n",
       "    .dataframe tbody tr th:only-of-type {\n",
       "        vertical-align: middle;\n",
       "    }\n",
       "\n",
       "    .dataframe tbody tr th {\n",
       "        vertical-align: top;\n",
       "    }\n",
       "\n",
       "    .dataframe thead th {\n",
       "        text-align: right;\n",
       "    }\n",
       "</style>\n",
       "<table border=\"1\" class=\"dataframe\">\n",
       "  <thead>\n",
       "    <tr style=\"text-align: right;\">\n",
       "      <th></th>\n",
       "      <th>A</th>\n",
       "      <th>B</th>\n",
       "    </tr>\n",
       "  </thead>\n",
       "  <tbody>\n",
       "    <tr>\n",
       "      <th>0</th>\n",
       "      <td>5.0</td>\n",
       "      <td>7</td>\n",
       "    </tr>\n",
       "    <tr>\n",
       "      <th>1</th>\n",
       "      <td>NaN</td>\n",
       "      <td>11</td>\n",
       "    </tr>\n",
       "  </tbody>\n",
       "</table>\n",
       "</div>"
      ],
      "text/plain": [
       "     A   B\n",
       "0  5.0   7\n",
       "1  NaN  11"
      ]
     },
     "execution_count": 19,
     "metadata": {},
     "output_type": "execute_result"
    }
   ],
   "source": [
    "df5.mode()"
   ]
  },
  {
   "cell_type": "code",
   "execution_count": 20,
   "id": "61e1c440-3007-4344-8de9-ce55606a17f2",
   "metadata": {},
   "outputs": [],
   "source": [
    "s = pd.Series(np.random.randn(5), index=['a', 'b', 'c', 'd', 'e'])"
   ]
  },
  {
   "cell_type": "code",
   "execution_count": 21,
   "id": "2099bc50-b524-43d9-a896-09d57b52877a",
   "metadata": {},
   "outputs": [
    {
     "data": {
      "text/plain": [
       "a   -0.404805\n",
       "b   -0.145929\n",
       "c   -1.010255\n",
       "d   -0.719659\n",
       "e   -0.591384\n",
       "dtype: float64"
      ]
     },
     "execution_count": 21,
     "metadata": {},
     "output_type": "execute_result"
    }
   ],
   "source": [
    "s"
   ]
  },
  {
   "cell_type": "code",
   "execution_count": 22,
   "id": "9bcd8aff-f0a9-498a-9296-d9dad9769962",
   "metadata": {},
   "outputs": [
    {
     "data": {
      "text/plain": [
       "e   -0.591384\n",
       "b   -0.145929\n",
       "f         NaN\n",
       "d   -0.719659\n",
       "dtype: float64"
      ]
     },
     "execution_count": 22,
     "metadata": {},
     "output_type": "execute_result"
    }
   ],
   "source": [
    "s.reindex(['e', 'b', 'f', 'd'])"
   ]
  },
  {
   "cell_type": "code",
   "execution_count": 23,
   "id": "f7a07fca-b8dd-43d8-8028-4ca7e8221edc",
   "metadata": {},
   "outputs": [],
   "source": [
    "df = pd.DataFrame({\n",
    "     'one': pd.Series(np.random.randn(3), index=['a', 'b', 'c']),\n",
    "     'two': pd.Series(np.random.randn(4), index=['a', 'b', 'c', 'd']),\n",
    "     'three': pd.Series(np.random.randn(3), index=['b', 'c', 'd'])})"
   ]
  },
  {
   "cell_type": "code",
   "execution_count": 24,
   "id": "cf617392-f944-4b91-9032-6f313b57c96d",
   "metadata": {},
   "outputs": [
    {
     "data": {
      "text/html": [
       "<div>\n",
       "<style scoped>\n",
       "    .dataframe tbody tr th:only-of-type {\n",
       "        vertical-align: middle;\n",
       "    }\n",
       "\n",
       "    .dataframe tbody tr th {\n",
       "        vertical-align: top;\n",
       "    }\n",
       "\n",
       "    .dataframe thead th {\n",
       "        text-align: right;\n",
       "    }\n",
       "</style>\n",
       "<table border=\"1\" class=\"dataframe\">\n",
       "  <thead>\n",
       "    <tr style=\"text-align: right;\">\n",
       "      <th></th>\n",
       "      <th>one</th>\n",
       "      <th>two</th>\n",
       "      <th>three</th>\n",
       "    </tr>\n",
       "  </thead>\n",
       "  <tbody>\n",
       "    <tr>\n",
       "      <th>a</th>\n",
       "      <td>0.199699</td>\n",
       "      <td>0.923832</td>\n",
       "      <td>NaN</td>\n",
       "    </tr>\n",
       "    <tr>\n",
       "      <th>b</th>\n",
       "      <td>-0.135541</td>\n",
       "      <td>0.239176</td>\n",
       "      <td>-1.672832</td>\n",
       "    </tr>\n",
       "    <tr>\n",
       "      <th>c</th>\n",
       "      <td>0.035466</td>\n",
       "      <td>0.732485</td>\n",
       "      <td>-1.274550</td>\n",
       "    </tr>\n",
       "    <tr>\n",
       "      <th>d</th>\n",
       "      <td>NaN</td>\n",
       "      <td>-1.151420</td>\n",
       "      <td>0.298440</td>\n",
       "    </tr>\n",
       "  </tbody>\n",
       "</table>\n",
       "</div>"
      ],
      "text/plain": [
       "        one       two     three\n",
       "a  0.199699  0.923832       NaN\n",
       "b -0.135541  0.239176 -1.672832\n",
       "c  0.035466  0.732485 -1.274550\n",
       "d       NaN -1.151420  0.298440"
      ]
     },
     "execution_count": 24,
     "metadata": {},
     "output_type": "execute_result"
    }
   ],
   "source": [
    "df"
   ]
  },
  {
   "cell_type": "code",
   "execution_count": 25,
   "id": "7101b980-6965-41cb-97d4-cdf2a437f241",
   "metadata": {},
   "outputs": [
    {
     "data": {
      "text/html": [
       "<div>\n",
       "<style scoped>\n",
       "    .dataframe tbody tr th:only-of-type {\n",
       "        vertical-align: middle;\n",
       "    }\n",
       "\n",
       "    .dataframe tbody tr th {\n",
       "        vertical-align: top;\n",
       "    }\n",
       "\n",
       "    .dataframe thead th {\n",
       "        text-align: right;\n",
       "    }\n",
       "</style>\n",
       "<table border=\"1\" class=\"dataframe\">\n",
       "  <thead>\n",
       "    <tr style=\"text-align: right;\">\n",
       "      <th></th>\n",
       "      <th>three</th>\n",
       "      <th>two</th>\n",
       "      <th>one</th>\n",
       "    </tr>\n",
       "  </thead>\n",
       "  <tbody>\n",
       "    <tr>\n",
       "      <th>c</th>\n",
       "      <td>-1.274550</td>\n",
       "      <td>0.732485</td>\n",
       "      <td>0.035466</td>\n",
       "    </tr>\n",
       "    <tr>\n",
       "      <th>f</th>\n",
       "      <td>NaN</td>\n",
       "      <td>NaN</td>\n",
       "      <td>NaN</td>\n",
       "    </tr>\n",
       "    <tr>\n",
       "      <th>b</th>\n",
       "      <td>-1.672832</td>\n",
       "      <td>0.239176</td>\n",
       "      <td>-0.135541</td>\n",
       "    </tr>\n",
       "  </tbody>\n",
       "</table>\n",
       "</div>"
      ],
      "text/plain": [
       "      three       two       one\n",
       "c -1.274550  0.732485  0.035466\n",
       "f       NaN       NaN       NaN\n",
       "b -1.672832  0.239176 -0.135541"
      ]
     },
     "execution_count": 25,
     "metadata": {},
     "output_type": "execute_result"
    }
   ],
   "source": [
    "df.reindex(index=['c', 'f', 'b'], columns=['three', 'two', 'one'])"
   ]
  },
  {
   "cell_type": "code",
   "execution_count": 26,
   "id": "a3097f8a-d18b-4510-8746-bb8f65787b4e",
   "metadata": {},
   "outputs": [
    {
     "data": {
      "text/html": [
       "<div>\n",
       "<style scoped>\n",
       "    .dataframe tbody tr th:only-of-type {\n",
       "        vertical-align: middle;\n",
       "    }\n",
       "\n",
       "    .dataframe tbody tr th {\n",
       "        vertical-align: top;\n",
       "    }\n",
       "\n",
       "    .dataframe thead th {\n",
       "        text-align: right;\n",
       "    }\n",
       "</style>\n",
       "<table border=\"1\" class=\"dataframe\">\n",
       "  <thead>\n",
       "    <tr style=\"text-align: right;\">\n",
       "      <th></th>\n",
       "      <th>one</th>\n",
       "      <th>two</th>\n",
       "      <th>three</th>\n",
       "    </tr>\n",
       "  </thead>\n",
       "  <tbody>\n",
       "    <tr>\n",
       "      <th>c</th>\n",
       "      <td>0.035466</td>\n",
       "      <td>0.732485</td>\n",
       "      <td>-1.274550</td>\n",
       "    </tr>\n",
       "    <tr>\n",
       "      <th>f</th>\n",
       "      <td>NaN</td>\n",
       "      <td>NaN</td>\n",
       "      <td>NaN</td>\n",
       "    </tr>\n",
       "    <tr>\n",
       "      <th>b</th>\n",
       "      <td>-0.135541</td>\n",
       "      <td>0.239176</td>\n",
       "      <td>-1.672832</td>\n",
       "    </tr>\n",
       "  </tbody>\n",
       "</table>\n",
       "</div>"
      ],
      "text/plain": [
       "        one       two     three\n",
       "c  0.035466  0.732485 -1.274550\n",
       "f       NaN       NaN       NaN\n",
       "b -0.135541  0.239176 -1.672832"
      ]
     },
     "execution_count": 26,
     "metadata": {},
     "output_type": "execute_result"
    }
   ],
   "source": [
    "df.reindex(['c', 'f', 'b'], axis='index')"
   ]
  },
  {
   "cell_type": "code",
   "execution_count": 27,
   "id": "dc6ba37d-ed9e-4224-b244-627cc849689c",
   "metadata": {},
   "outputs": [
    {
     "data": {
      "text/html": [
       "<div>\n",
       "<style scoped>\n",
       "    .dataframe tbody tr th:only-of-type {\n",
       "        vertical-align: middle;\n",
       "    }\n",
       "\n",
       "    .dataframe tbody tr th {\n",
       "        vertical-align: top;\n",
       "    }\n",
       "\n",
       "    .dataframe thead th {\n",
       "        text-align: right;\n",
       "    }\n",
       "</style>\n",
       "<table border=\"1\" class=\"dataframe\">\n",
       "  <thead>\n",
       "    <tr style=\"text-align: right;\">\n",
       "      <th></th>\n",
       "      <th>one</th>\n",
       "      <th>two</th>\n",
       "      <th>three</th>\n",
       "    </tr>\n",
       "  </thead>\n",
       "  <tbody>\n",
       "    <tr>\n",
       "      <th>a</th>\n",
       "      <td>0.199699</td>\n",
       "      <td>0.923832</td>\n",
       "      <td>NaN</td>\n",
       "    </tr>\n",
       "    <tr>\n",
       "      <th>b</th>\n",
       "      <td>-0.135541</td>\n",
       "      <td>0.239176</td>\n",
       "      <td>-1.672832</td>\n",
       "    </tr>\n",
       "    <tr>\n",
       "      <th>c</th>\n",
       "      <td>0.035466</td>\n",
       "      <td>0.732485</td>\n",
       "      <td>-1.274550</td>\n",
       "    </tr>\n",
       "    <tr>\n",
       "      <th>d</th>\n",
       "      <td>NaN</td>\n",
       "      <td>-1.151420</td>\n",
       "      <td>0.298440</td>\n",
       "    </tr>\n",
       "  </tbody>\n",
       "</table>\n",
       "</div>"
      ],
      "text/plain": [
       "        one       two     three\n",
       "a  0.199699  0.923832       NaN\n",
       "b -0.135541  0.239176 -1.672832\n",
       "c  0.035466  0.732485 -1.274550\n",
       "d       NaN -1.151420  0.298440"
      ]
     },
     "execution_count": 27,
     "metadata": {},
     "output_type": "execute_result"
    }
   ],
   "source": [
    "df"
   ]
  },
  {
   "cell_type": "code",
   "execution_count": 28,
   "id": "c270c188-6f58-4979-abd6-2bd36e575056",
   "metadata": {},
   "outputs": [
    {
     "data": {
      "text/html": [
       "<div>\n",
       "<style scoped>\n",
       "    .dataframe tbody tr th:only-of-type {\n",
       "        vertical-align: middle;\n",
       "    }\n",
       "\n",
       "    .dataframe tbody tr th {\n",
       "        vertical-align: top;\n",
       "    }\n",
       "\n",
       "    .dataframe thead th {\n",
       "        text-align: right;\n",
       "    }\n",
       "</style>\n",
       "<table border=\"1\" class=\"dataframe\">\n",
       "  <thead>\n",
       "    <tr style=\"text-align: right;\">\n",
       "      <th></th>\n",
       "      <th>one</th>\n",
       "      <th>two</th>\n",
       "      <th>three</th>\n",
       "    </tr>\n",
       "  </thead>\n",
       "  <tbody>\n",
       "    <tr>\n",
       "      <th>b</th>\n",
       "      <td>-0.135541</td>\n",
       "      <td>0.239176</td>\n",
       "      <td>-1.672832</td>\n",
       "    </tr>\n",
       "    <tr>\n",
       "      <th>c</th>\n",
       "      <td>0.035466</td>\n",
       "      <td>0.732485</td>\n",
       "      <td>-1.274550</td>\n",
       "    </tr>\n",
       "  </tbody>\n",
       "</table>\n",
       "</div>"
      ],
      "text/plain": [
       "        one       two     three\n",
       "b -0.135541  0.239176 -1.672832\n",
       "c  0.035466  0.732485 -1.274550"
      ]
     },
     "execution_count": 28,
     "metadata": {},
     "output_type": "execute_result"
    }
   ],
   "source": [
    "df.drop(['a', 'd'], axis=0)"
   ]
  },
  {
   "cell_type": "code",
   "execution_count": 29,
   "id": "952c151b-e9e9-4c82-8554-ef1a05d91706",
   "metadata": {},
   "outputs": [
    {
     "data": {
      "text/html": [
       "<div>\n",
       "<style scoped>\n",
       "    .dataframe tbody tr th:only-of-type {\n",
       "        vertical-align: middle;\n",
       "    }\n",
       "\n",
       "    .dataframe tbody tr th {\n",
       "        vertical-align: top;\n",
       "    }\n",
       "\n",
       "    .dataframe thead th {\n",
       "        text-align: right;\n",
       "    }\n",
       "</style>\n",
       "<table border=\"1\" class=\"dataframe\">\n",
       "  <thead>\n",
       "    <tr style=\"text-align: right;\">\n",
       "      <th></th>\n",
       "      <th>two</th>\n",
       "      <th>three</th>\n",
       "    </tr>\n",
       "  </thead>\n",
       "  <tbody>\n",
       "    <tr>\n",
       "      <th>a</th>\n",
       "      <td>0.923832</td>\n",
       "      <td>NaN</td>\n",
       "    </tr>\n",
       "    <tr>\n",
       "      <th>b</th>\n",
       "      <td>0.239176</td>\n",
       "      <td>-1.672832</td>\n",
       "    </tr>\n",
       "    <tr>\n",
       "      <th>c</th>\n",
       "      <td>0.732485</td>\n",
       "      <td>-1.274550</td>\n",
       "    </tr>\n",
       "    <tr>\n",
       "      <th>d</th>\n",
       "      <td>-1.151420</td>\n",
       "      <td>0.298440</td>\n",
       "    </tr>\n",
       "  </tbody>\n",
       "</table>\n",
       "</div>"
      ],
      "text/plain": [
       "        two     three\n",
       "a  0.923832       NaN\n",
       "b  0.239176 -1.672832\n",
       "c  0.732485 -1.274550\n",
       "d -1.151420  0.298440"
      ]
     },
     "execution_count": 29,
     "metadata": {},
     "output_type": "execute_result"
    }
   ],
   "source": [
    "df.drop(['one'], axis=1)\n"
   ]
  },
  {
   "cell_type": "code",
   "execution_count": 30,
   "id": "b30adbc5-5e86-4a05-ac21-de0147cfd843",
   "metadata": {},
   "outputs": [
    {
     "data": {
      "text/plain": [
       "a   -0.404805\n",
       "b   -0.145929\n",
       "c   -1.010255\n",
       "d   -0.719659\n",
       "e   -0.591384\n",
       "dtype: float64"
      ]
     },
     "execution_count": 30,
     "metadata": {},
     "output_type": "execute_result"
    }
   ],
   "source": [
    "s"
   ]
  },
  {
   "cell_type": "code",
   "execution_count": 31,
   "id": "4b43cc3e-0542-427b-b6ba-92c15bbf9215",
   "metadata": {},
   "outputs": [
    {
     "data": {
      "text/plain": [
       "A   -0.404805\n",
       "B   -0.145929\n",
       "C   -1.010255\n",
       "D   -0.719659\n",
       "E   -0.591384\n",
       "dtype: float64"
      ]
     },
     "execution_count": 31,
     "metadata": {},
     "output_type": "execute_result"
    }
   ],
   "source": [
    "s.rename(str.upper)"
   ]
  },
  {
   "cell_type": "code",
   "execution_count": 32,
   "id": "a78c7526-2e7b-4d46-a2f8-38bf141f6a53",
   "metadata": {},
   "outputs": [
    {
     "data": {
      "text/html": [
       "<div>\n",
       "<style scoped>\n",
       "    .dataframe tbody tr th:only-of-type {\n",
       "        vertical-align: middle;\n",
       "    }\n",
       "\n",
       "    .dataframe tbody tr th {\n",
       "        vertical-align: top;\n",
       "    }\n",
       "\n",
       "    .dataframe thead th {\n",
       "        text-align: right;\n",
       "    }\n",
       "</style>\n",
       "<table border=\"1\" class=\"dataframe\">\n",
       "  <thead>\n",
       "    <tr style=\"text-align: right;\">\n",
       "      <th></th>\n",
       "      <th>foo</th>\n",
       "      <th>bar</th>\n",
       "      <th>three</th>\n",
       "    </tr>\n",
       "  </thead>\n",
       "  <tbody>\n",
       "    <tr>\n",
       "      <th>apple</th>\n",
       "      <td>0.199699</td>\n",
       "      <td>0.923832</td>\n",
       "      <td>NaN</td>\n",
       "    </tr>\n",
       "    <tr>\n",
       "      <th>banana</th>\n",
       "      <td>-0.135541</td>\n",
       "      <td>0.239176</td>\n",
       "      <td>-1.672832</td>\n",
       "    </tr>\n",
       "    <tr>\n",
       "      <th>c</th>\n",
       "      <td>0.035466</td>\n",
       "      <td>0.732485</td>\n",
       "      <td>-1.274550</td>\n",
       "    </tr>\n",
       "    <tr>\n",
       "      <th>durian</th>\n",
       "      <td>NaN</td>\n",
       "      <td>-1.151420</td>\n",
       "      <td>0.298440</td>\n",
       "    </tr>\n",
       "  </tbody>\n",
       "</table>\n",
       "</div>"
      ],
      "text/plain": [
       "             foo       bar     three\n",
       "apple   0.199699  0.923832       NaN\n",
       "banana -0.135541  0.239176 -1.672832\n",
       "c       0.035466  0.732485 -1.274550\n",
       "durian       NaN -1.151420  0.298440"
      ]
     },
     "execution_count": 32,
     "metadata": {},
     "output_type": "execute_result"
    }
   ],
   "source": [
    "df.rename(columns={'one': 'foo', 'two': 'bar'},\n",
    "              index={'a': 'apple', 'b': 'banana', 'd': 'durian'})"
   ]
  },
  {
   "cell_type": "code",
   "execution_count": 33,
   "id": "c026f50a-9fc9-4acb-b871-60008473bb88",
   "metadata": {},
   "outputs": [
    {
     "data": {
      "text/html": [
       "<div>\n",
       "<style scoped>\n",
       "    .dataframe tbody tr th:only-of-type {\n",
       "        vertical-align: middle;\n",
       "    }\n",
       "\n",
       "    .dataframe tbody tr th {\n",
       "        vertical-align: top;\n",
       "    }\n",
       "\n",
       "    .dataframe thead th {\n",
       "        text-align: right;\n",
       "    }\n",
       "</style>\n",
       "<table border=\"1\" class=\"dataframe\">\n",
       "  <thead>\n",
       "    <tr style=\"text-align: right;\">\n",
       "      <th></th>\n",
       "      <th>foo</th>\n",
       "      <th>bar</th>\n",
       "      <th>three</th>\n",
       "    </tr>\n",
       "  </thead>\n",
       "  <tbody>\n",
       "    <tr>\n",
       "      <th>a</th>\n",
       "      <td>0.199699</td>\n",
       "      <td>0.923832</td>\n",
       "      <td>NaN</td>\n",
       "    </tr>\n",
       "    <tr>\n",
       "      <th>b</th>\n",
       "      <td>-0.135541</td>\n",
       "      <td>0.239176</td>\n",
       "      <td>-1.672832</td>\n",
       "    </tr>\n",
       "    <tr>\n",
       "      <th>c</th>\n",
       "      <td>0.035466</td>\n",
       "      <td>0.732485</td>\n",
       "      <td>-1.274550</td>\n",
       "    </tr>\n",
       "    <tr>\n",
       "      <th>d</th>\n",
       "      <td>NaN</td>\n",
       "      <td>-1.151420</td>\n",
       "      <td>0.298440</td>\n",
       "    </tr>\n",
       "  </tbody>\n",
       "</table>\n",
       "</div>"
      ],
      "text/plain": [
       "        foo       bar     three\n",
       "a  0.199699  0.923832       NaN\n",
       "b -0.135541  0.239176 -1.672832\n",
       "c  0.035466  0.732485 -1.274550\n",
       "d       NaN -1.151420  0.298440"
      ]
     },
     "execution_count": 33,
     "metadata": {},
     "output_type": "execute_result"
    }
   ],
   "source": [
    "df.rename({'one': 'foo', 'two': 'bar'}, axis='columns')\n"
   ]
  },
  {
   "cell_type": "code",
   "execution_count": 34,
   "id": "5ca45d4a-0169-47b0-bcbe-00bebc93ad13",
   "metadata": {},
   "outputs": [
    {
     "data": {
      "text/html": [
       "<div>\n",
       "<style scoped>\n",
       "    .dataframe tbody tr th:only-of-type {\n",
       "        vertical-align: middle;\n",
       "    }\n",
       "\n",
       "    .dataframe tbody tr th {\n",
       "        vertical-align: top;\n",
       "    }\n",
       "\n",
       "    .dataframe thead th {\n",
       "        text-align: right;\n",
       "    }\n",
       "</style>\n",
       "<table border=\"1\" class=\"dataframe\">\n",
       "  <thead>\n",
       "    <tr style=\"text-align: right;\">\n",
       "      <th></th>\n",
       "      <th>one</th>\n",
       "      <th>two</th>\n",
       "      <th>three</th>\n",
       "    </tr>\n",
       "  </thead>\n",
       "  <tbody>\n",
       "    <tr>\n",
       "      <th>apple</th>\n",
       "      <td>0.199699</td>\n",
       "      <td>0.923832</td>\n",
       "      <td>NaN</td>\n",
       "    </tr>\n",
       "    <tr>\n",
       "      <th>banana</th>\n",
       "      <td>-0.135541</td>\n",
       "      <td>0.239176</td>\n",
       "      <td>-1.672832</td>\n",
       "    </tr>\n",
       "    <tr>\n",
       "      <th>c</th>\n",
       "      <td>0.035466</td>\n",
       "      <td>0.732485</td>\n",
       "      <td>-1.274550</td>\n",
       "    </tr>\n",
       "    <tr>\n",
       "      <th>durian</th>\n",
       "      <td>NaN</td>\n",
       "      <td>-1.151420</td>\n",
       "      <td>0.298440</td>\n",
       "    </tr>\n",
       "  </tbody>\n",
       "</table>\n",
       "</div>"
      ],
      "text/plain": [
       "             one       two     three\n",
       "apple   0.199699  0.923832       NaN\n",
       "banana -0.135541  0.239176 -1.672832\n",
       "c       0.035466  0.732485 -1.274550\n",
       "durian       NaN -1.151420  0.298440"
      ]
     },
     "execution_count": 34,
     "metadata": {},
     "output_type": "execute_result"
    }
   ],
   "source": [
    "df.rename({'a': 'apple', 'b': 'banana', 'd': 'durian'}, axis='index')"
   ]
  },
  {
   "cell_type": "code",
   "execution_count": 35,
   "id": "622b4182-7648-4efd-97eb-00e1aed4f3a8",
   "metadata": {},
   "outputs": [],
   "source": [
    "s = pd.Series(pd.date_range('20130101 09:10:12', periods=4))"
   ]
  },
  {
   "cell_type": "code",
   "execution_count": 36,
   "id": "aee51d27-002c-482b-a5f2-1db8b206b270",
   "metadata": {},
   "outputs": [
    {
     "data": {
      "text/plain": [
       "0   2013-01-01 09:10:12\n",
       "1   2013-01-02 09:10:12\n",
       "2   2013-01-03 09:10:12\n",
       "3   2013-01-04 09:10:12\n",
       "dtype: datetime64[ns]"
      ]
     },
     "execution_count": 36,
     "metadata": {},
     "output_type": "execute_result"
    }
   ],
   "source": [
    "s"
   ]
  },
  {
   "cell_type": "code",
   "execution_count": 37,
   "id": "a0b4241b-8633-42b5-a188-82734f009d75",
   "metadata": {},
   "outputs": [
    {
     "data": {
      "text/plain": [
       "0    9\n",
       "1    9\n",
       "2    9\n",
       "3    9\n",
       "dtype: int64"
      ]
     },
     "execution_count": 37,
     "metadata": {},
     "output_type": "execute_result"
    }
   ],
   "source": [
    "s.dt.hour"
   ]
  },
  {
   "cell_type": "code",
   "execution_count": 38,
   "id": "c0d3f55c-67b3-4433-898d-fdaaec0ad937",
   "metadata": {},
   "outputs": [
    {
     "data": {
      "text/plain": [
       "0    12\n",
       "1    12\n",
       "2    12\n",
       "3    12\n",
       "dtype: int64"
      ]
     },
     "execution_count": 38,
     "metadata": {},
     "output_type": "execute_result"
    }
   ],
   "source": [
    "s.dt.second"
   ]
  },
  {
   "cell_type": "code",
   "execution_count": 39,
   "id": "f22909f5-1ff4-42f1-a47b-0f6c45241851",
   "metadata": {},
   "outputs": [
    {
     "data": {
      "text/plain": [
       "0    1\n",
       "1    2\n",
       "2    3\n",
       "3    4\n",
       "dtype: int64"
      ]
     },
     "execution_count": 39,
     "metadata": {},
     "output_type": "execute_result"
    }
   ],
   "source": [
    "s.dt.day"
   ]
  },
  {
   "cell_type": "code",
   "execution_count": 40,
   "id": "0d1226d1-1cac-4911-a521-69718d4f8890",
   "metadata": {},
   "outputs": [
    {
     "data": {
      "text/plain": [
       "0    1\n",
       "1    2\n",
       "2    3\n",
       "3    4\n",
       "dtype: int64"
      ]
     },
     "execution_count": 40,
     "metadata": {},
     "output_type": "execute_result"
    }
   ],
   "source": [
    "s.dt.dayofweek"
   ]
  },
  {
   "cell_type": "code",
   "execution_count": 41,
   "id": "af4d3bb1-0714-4c77-908a-52244fd615b0",
   "metadata": {},
   "outputs": [],
   "source": [
    "stz = s.dt.tz_localize('US/Eastern')"
   ]
  },
  {
   "cell_type": "code",
   "execution_count": 42,
   "id": "8af1b1f9-ba2f-4217-88f4-dd2bb71aa1d8",
   "metadata": {},
   "outputs": [
    {
     "data": {
      "text/plain": [
       "0   2013-01-01 09:10:12-05:00\n",
       "1   2013-01-02 09:10:12-05:00\n",
       "2   2013-01-03 09:10:12-05:00\n",
       "3   2013-01-04 09:10:12-05:00\n",
       "dtype: datetime64[ns, US/Eastern]"
      ]
     },
     "execution_count": 42,
     "metadata": {},
     "output_type": "execute_result"
    }
   ],
   "source": [
    "stz"
   ]
  },
  {
   "cell_type": "code",
   "execution_count": 43,
   "id": "36b45f50-6c13-47f4-b81e-fa338e7ccc02",
   "metadata": {},
   "outputs": [
    {
     "data": {
      "text/plain": [
       "<DstTzInfo 'US/Eastern' LMT-1 day, 19:04:00 STD>"
      ]
     },
     "execution_count": 43,
     "metadata": {},
     "output_type": "execute_result"
    }
   ],
   "source": [
    "stz.dt.tz"
   ]
  },
  {
   "cell_type": "code",
   "execution_count": 44,
   "id": "62edd1c5-4c9b-474a-90bc-cf89e506699f",
   "metadata": {},
   "outputs": [
    {
     "data": {
      "text/plain": [
       "0   2013-01-01 04:10:12-05:00\n",
       "1   2013-01-02 04:10:12-05:00\n",
       "2   2013-01-03 04:10:12-05:00\n",
       "3   2013-01-04 04:10:12-05:00\n",
       "dtype: datetime64[ns, US/Eastern]"
      ]
     },
     "execution_count": 44,
     "metadata": {},
     "output_type": "execute_result"
    }
   ],
   "source": [
    "s.dt.tz_localize('UTC').dt.tz_convert('US/Eastern')"
   ]
  },
  {
   "cell_type": "code",
   "execution_count": 45,
   "id": "345d592a-dccb-4b26-9a9e-68341ad446d5",
   "metadata": {},
   "outputs": [],
   "source": [
    "s = pd.Series(['A', 'B', 'C', 'Aaba', 'Baca', np.nan, 'CABA', 'dog', 'cat'],\n",
    "                  dtype=\"string\")"
   ]
  },
  {
   "cell_type": "code",
   "execution_count": 46,
   "id": "ea607bab-5caa-4d31-a021-9f5b30ef2718",
   "metadata": {},
   "outputs": [
    {
     "data": {
      "text/plain": [
       "0       a\n",
       "1       b\n",
       "2       c\n",
       "3    aaba\n",
       "4    baca\n",
       "5    <NA>\n",
       "6    caba\n",
       "7     dog\n",
       "8     cat\n",
       "dtype: string"
      ]
     },
     "execution_count": 46,
     "metadata": {},
     "output_type": "execute_result"
    }
   ],
   "source": [
    "s.str.lower()"
   ]
  },
  {
   "cell_type": "code",
   "execution_count": 47,
   "id": "2342bdaf-05ac-4fd2-a9f7-5c96cc35eedb",
   "metadata": {},
   "outputs": [],
   "source": [
    "df = pd.DataFrame({\n",
    "        'one': pd.Series(np.random.randn(3), index=['a', 'b', 'c']),\n",
    "        'two': pd.Series(np.random.randn(4), index=['a', 'b', 'c', 'd']),\n",
    "        'three': pd.Series(np.random.randn(3), index=['b', 'c', 'd'])})"
   ]
  },
  {
   "cell_type": "code",
   "execution_count": 50,
   "id": "910eb35c-f335-49d7-8256-8ee42751c682",
   "metadata": {},
   "outputs": [],
   "source": [
    "unsorted_df = df.reindex(index=['a', 'd', 'c', 'b'],\n",
    "                          columns=['three', 'two', 'one'])"
   ]
  },
  {
   "cell_type": "code",
   "execution_count": 52,
   "id": "cefc27f5-e931-4f0e-933f-343b2c23a28f",
   "metadata": {},
   "outputs": [
    {
     "data": {
      "text/html": [
       "<div>\n",
       "<style scoped>\n",
       "    .dataframe tbody tr th:only-of-type {\n",
       "        vertical-align: middle;\n",
       "    }\n",
       "\n",
       "    .dataframe tbody tr th {\n",
       "        vertical-align: top;\n",
       "    }\n",
       "\n",
       "    .dataframe thead th {\n",
       "        text-align: right;\n",
       "    }\n",
       "</style>\n",
       "<table border=\"1\" class=\"dataframe\">\n",
       "  <thead>\n",
       "    <tr style=\"text-align: right;\">\n",
       "      <th></th>\n",
       "      <th>three</th>\n",
       "      <th>two</th>\n",
       "      <th>one</th>\n",
       "    </tr>\n",
       "  </thead>\n",
       "  <tbody>\n",
       "    <tr>\n",
       "      <th>a</th>\n",
       "      <td>NaN</td>\n",
       "      <td>-2.389283</td>\n",
       "      <td>-2.146553</td>\n",
       "    </tr>\n",
       "    <tr>\n",
       "      <th>d</th>\n",
       "      <td>0.501201</td>\n",
       "      <td>-0.667274</td>\n",
       "      <td>NaN</td>\n",
       "    </tr>\n",
       "    <tr>\n",
       "      <th>c</th>\n",
       "      <td>0.468779</td>\n",
       "      <td>0.227775</td>\n",
       "      <td>1.703044</td>\n",
       "    </tr>\n",
       "    <tr>\n",
       "      <th>b</th>\n",
       "      <td>-0.833559</td>\n",
       "      <td>-0.703922</td>\n",
       "      <td>-0.579810</td>\n",
       "    </tr>\n",
       "  </tbody>\n",
       "</table>\n",
       "</div>"
      ],
      "text/plain": [
       "      three       two       one\n",
       "a       NaN -2.389283 -2.146553\n",
       "d  0.501201 -0.667274       NaN\n",
       "c  0.468779  0.227775  1.703044\n",
       "b -0.833559 -0.703922 -0.579810"
      ]
     },
     "execution_count": 52,
     "metadata": {},
     "output_type": "execute_result"
    }
   ],
   "source": [
    "unsorted_df"
   ]
  },
  {
   "cell_type": "code",
   "execution_count": 53,
   "id": "6bfc70aa-70a8-4aff-b227-241ec820e88a",
   "metadata": {},
   "outputs": [
    {
     "data": {
      "text/html": [
       "<div>\n",
       "<style scoped>\n",
       "    .dataframe tbody tr th:only-of-type {\n",
       "        vertical-align: middle;\n",
       "    }\n",
       "\n",
       "    .dataframe tbody tr th {\n",
       "        vertical-align: top;\n",
       "    }\n",
       "\n",
       "    .dataframe thead th {\n",
       "        text-align: right;\n",
       "    }\n",
       "</style>\n",
       "<table border=\"1\" class=\"dataframe\">\n",
       "  <thead>\n",
       "    <tr style=\"text-align: right;\">\n",
       "      <th></th>\n",
       "      <th>three</th>\n",
       "      <th>two</th>\n",
       "      <th>one</th>\n",
       "    </tr>\n",
       "  </thead>\n",
       "  <tbody>\n",
       "    <tr>\n",
       "      <th>a</th>\n",
       "      <td>NaN</td>\n",
       "      <td>-2.389283</td>\n",
       "      <td>-2.146553</td>\n",
       "    </tr>\n",
       "    <tr>\n",
       "      <th>b</th>\n",
       "      <td>-0.833559</td>\n",
       "      <td>-0.703922</td>\n",
       "      <td>-0.579810</td>\n",
       "    </tr>\n",
       "    <tr>\n",
       "      <th>c</th>\n",
       "      <td>0.468779</td>\n",
       "      <td>0.227775</td>\n",
       "      <td>1.703044</td>\n",
       "    </tr>\n",
       "    <tr>\n",
       "      <th>d</th>\n",
       "      <td>0.501201</td>\n",
       "      <td>-0.667274</td>\n",
       "      <td>NaN</td>\n",
       "    </tr>\n",
       "  </tbody>\n",
       "</table>\n",
       "</div>"
      ],
      "text/plain": [
       "      three       two       one\n",
       "a       NaN -2.389283 -2.146553\n",
       "b -0.833559 -0.703922 -0.579810\n",
       "c  0.468779  0.227775  1.703044\n",
       "d  0.501201 -0.667274       NaN"
      ]
     },
     "execution_count": 53,
     "metadata": {},
     "output_type": "execute_result"
    }
   ],
   "source": [
    "unsorted_df.sort_index()"
   ]
  },
  {
   "cell_type": "code",
   "execution_count": 54,
   "id": "88363aa3-fde3-4dc1-90bc-9ae13c4dffa8",
   "metadata": {},
   "outputs": [
    {
     "data": {
      "text/html": [
       "<div>\n",
       "<style scoped>\n",
       "    .dataframe tbody tr th:only-of-type {\n",
       "        vertical-align: middle;\n",
       "    }\n",
       "\n",
       "    .dataframe tbody tr th {\n",
       "        vertical-align: top;\n",
       "    }\n",
       "\n",
       "    .dataframe thead th {\n",
       "        text-align: right;\n",
       "    }\n",
       "</style>\n",
       "<table border=\"1\" class=\"dataframe\">\n",
       "  <thead>\n",
       "    <tr style=\"text-align: right;\">\n",
       "      <th></th>\n",
       "      <th>three</th>\n",
       "      <th>two</th>\n",
       "      <th>one</th>\n",
       "    </tr>\n",
       "  </thead>\n",
       "  <tbody>\n",
       "    <tr>\n",
       "      <th>d</th>\n",
       "      <td>0.501201</td>\n",
       "      <td>-0.667274</td>\n",
       "      <td>NaN</td>\n",
       "    </tr>\n",
       "    <tr>\n",
       "      <th>c</th>\n",
       "      <td>0.468779</td>\n",
       "      <td>0.227775</td>\n",
       "      <td>1.703044</td>\n",
       "    </tr>\n",
       "    <tr>\n",
       "      <th>b</th>\n",
       "      <td>-0.833559</td>\n",
       "      <td>-0.703922</td>\n",
       "      <td>-0.579810</td>\n",
       "    </tr>\n",
       "    <tr>\n",
       "      <th>a</th>\n",
       "      <td>NaN</td>\n",
       "      <td>-2.389283</td>\n",
       "      <td>-2.146553</td>\n",
       "    </tr>\n",
       "  </tbody>\n",
       "</table>\n",
       "</div>"
      ],
      "text/plain": [
       "      three       two       one\n",
       "d  0.501201 -0.667274       NaN\n",
       "c  0.468779  0.227775  1.703044\n",
       "b -0.833559 -0.703922 -0.579810\n",
       "a       NaN -2.389283 -2.146553"
      ]
     },
     "execution_count": 54,
     "metadata": {},
     "output_type": "execute_result"
    }
   ],
   "source": [
    "unsorted_df.sort_index(ascending=False)"
   ]
  },
  {
   "cell_type": "code",
   "execution_count": 55,
   "id": "6e754c6d-6fb5-4f1c-a1ce-91fc9fcbca5e",
   "metadata": {},
   "outputs": [
    {
     "data": {
      "text/html": [
       "<div>\n",
       "<style scoped>\n",
       "    .dataframe tbody tr th:only-of-type {\n",
       "        vertical-align: middle;\n",
       "    }\n",
       "\n",
       "    .dataframe tbody tr th {\n",
       "        vertical-align: top;\n",
       "    }\n",
       "\n",
       "    .dataframe thead th {\n",
       "        text-align: right;\n",
       "    }\n",
       "</style>\n",
       "<table border=\"1\" class=\"dataframe\">\n",
       "  <thead>\n",
       "    <tr style=\"text-align: right;\">\n",
       "      <th></th>\n",
       "      <th>one</th>\n",
       "      <th>three</th>\n",
       "      <th>two</th>\n",
       "    </tr>\n",
       "  </thead>\n",
       "  <tbody>\n",
       "    <tr>\n",
       "      <th>a</th>\n",
       "      <td>-2.146553</td>\n",
       "      <td>NaN</td>\n",
       "      <td>-2.389283</td>\n",
       "    </tr>\n",
       "    <tr>\n",
       "      <th>d</th>\n",
       "      <td>NaN</td>\n",
       "      <td>0.501201</td>\n",
       "      <td>-0.667274</td>\n",
       "    </tr>\n",
       "    <tr>\n",
       "      <th>c</th>\n",
       "      <td>1.703044</td>\n",
       "      <td>0.468779</td>\n",
       "      <td>0.227775</td>\n",
       "    </tr>\n",
       "    <tr>\n",
       "      <th>b</th>\n",
       "      <td>-0.579810</td>\n",
       "      <td>-0.833559</td>\n",
       "      <td>-0.703922</td>\n",
       "    </tr>\n",
       "  </tbody>\n",
       "</table>\n",
       "</div>"
      ],
      "text/plain": [
       "        one     three       two\n",
       "a -2.146553       NaN -2.389283\n",
       "d       NaN  0.501201 -0.667274\n",
       "c  1.703044  0.468779  0.227775\n",
       "b -0.579810 -0.833559 -0.703922"
      ]
     },
     "execution_count": 55,
     "metadata": {},
     "output_type": "execute_result"
    }
   ],
   "source": [
    "unsorted_df.sort_index(axis=1)"
   ]
  },
  {
   "cell_type": "code",
   "execution_count": 56,
   "id": "017f1cf9-fb31-4207-adbc-d47e29f9a91f",
   "metadata": {},
   "outputs": [
    {
     "data": {
      "text/plain": [
       "a         NaN\n",
       "b   -0.833559\n",
       "c    0.468779\n",
       "d    0.501201\n",
       "Name: three, dtype: float64"
      ]
     },
     "execution_count": 56,
     "metadata": {},
     "output_type": "execute_result"
    }
   ],
   "source": [
    "unsorted_df['three'].sort_index()"
   ]
  },
  {
   "cell_type": "code",
   "execution_count": 57,
   "id": "617fc3b1-e342-4984-98f8-cc3e7af539f5",
   "metadata": {},
   "outputs": [],
   "source": [
    "df1 = pd.DataFrame({'one': [2, 1, 1, 1],\n",
    "                        'two': [1, 3, 2, 4],\n",
    "                        'three': [5, 4, 3, 2]})"
   ]
  },
  {
   "cell_type": "code",
   "execution_count": 59,
   "id": "acf02711-67d1-48c2-978d-a48e417c2194",
   "metadata": {},
   "outputs": [
    {
     "data": {
      "text/html": [
       "<div>\n",
       "<style scoped>\n",
       "    .dataframe tbody tr th:only-of-type {\n",
       "        vertical-align: middle;\n",
       "    }\n",
       "\n",
       "    .dataframe tbody tr th {\n",
       "        vertical-align: top;\n",
       "    }\n",
       "\n",
       "    .dataframe thead th {\n",
       "        text-align: right;\n",
       "    }\n",
       "</style>\n",
       "<table border=\"1\" class=\"dataframe\">\n",
       "  <thead>\n",
       "    <tr style=\"text-align: right;\">\n",
       "      <th></th>\n",
       "      <th>one</th>\n",
       "      <th>two</th>\n",
       "      <th>three</th>\n",
       "    </tr>\n",
       "  </thead>\n",
       "  <tbody>\n",
       "    <tr>\n",
       "      <th>0</th>\n",
       "      <td>2</td>\n",
       "      <td>1</td>\n",
       "      <td>5</td>\n",
       "    </tr>\n",
       "    <tr>\n",
       "      <th>1</th>\n",
       "      <td>1</td>\n",
       "      <td>3</td>\n",
       "      <td>4</td>\n",
       "    </tr>\n",
       "    <tr>\n",
       "      <th>2</th>\n",
       "      <td>1</td>\n",
       "      <td>2</td>\n",
       "      <td>3</td>\n",
       "    </tr>\n",
       "    <tr>\n",
       "      <th>3</th>\n",
       "      <td>1</td>\n",
       "      <td>4</td>\n",
       "      <td>2</td>\n",
       "    </tr>\n",
       "  </tbody>\n",
       "</table>\n",
       "</div>"
      ],
      "text/plain": [
       "   one  two  three\n",
       "0    2    1      5\n",
       "1    1    3      4\n",
       "2    1    2      3\n",
       "3    1    4      2"
      ]
     },
     "execution_count": 59,
     "metadata": {},
     "output_type": "execute_result"
    }
   ],
   "source": [
    "df1"
   ]
  },
  {
   "cell_type": "code",
   "execution_count": 58,
   "id": "c3e7f2ca-d63a-4f3d-9d8d-1a9ac08ffce4",
   "metadata": {},
   "outputs": [
    {
     "data": {
      "text/html": [
       "<div>\n",
       "<style scoped>\n",
       "    .dataframe tbody tr th:only-of-type {\n",
       "        vertical-align: middle;\n",
       "    }\n",
       "\n",
       "    .dataframe tbody tr th {\n",
       "        vertical-align: top;\n",
       "    }\n",
       "\n",
       "    .dataframe thead th {\n",
       "        text-align: right;\n",
       "    }\n",
       "</style>\n",
       "<table border=\"1\" class=\"dataframe\">\n",
       "  <thead>\n",
       "    <tr style=\"text-align: right;\">\n",
       "      <th></th>\n",
       "      <th>one</th>\n",
       "      <th>two</th>\n",
       "      <th>three</th>\n",
       "    </tr>\n",
       "  </thead>\n",
       "  <tbody>\n",
       "    <tr>\n",
       "      <th>0</th>\n",
       "      <td>2</td>\n",
       "      <td>1</td>\n",
       "      <td>5</td>\n",
       "    </tr>\n",
       "    <tr>\n",
       "      <th>2</th>\n",
       "      <td>1</td>\n",
       "      <td>2</td>\n",
       "      <td>3</td>\n",
       "    </tr>\n",
       "    <tr>\n",
       "      <th>1</th>\n",
       "      <td>1</td>\n",
       "      <td>3</td>\n",
       "      <td>4</td>\n",
       "    </tr>\n",
       "    <tr>\n",
       "      <th>3</th>\n",
       "      <td>1</td>\n",
       "      <td>4</td>\n",
       "      <td>2</td>\n",
       "    </tr>\n",
       "  </tbody>\n",
       "</table>\n",
       "</div>"
      ],
      "text/plain": [
       "   one  two  three\n",
       "0    2    1      5\n",
       "2    1    2      3\n",
       "1    1    3      4\n",
       "3    1    4      2"
      ]
     },
     "execution_count": 58,
     "metadata": {},
     "output_type": "execute_result"
    }
   ],
   "source": [
    "df1.sort_values(by='two')"
   ]
  },
  {
   "cell_type": "code",
   "execution_count": 60,
   "id": "e33d9c92-d433-4a1e-8364-18339eb37aa4",
   "metadata": {},
   "outputs": [
    {
     "data": {
      "text/html": [
       "<div>\n",
       "<style scoped>\n",
       "    .dataframe tbody tr th:only-of-type {\n",
       "        vertical-align: middle;\n",
       "    }\n",
       "\n",
       "    .dataframe tbody tr th {\n",
       "        vertical-align: top;\n",
       "    }\n",
       "\n",
       "    .dataframe thead th {\n",
       "        text-align: right;\n",
       "    }\n",
       "</style>\n",
       "<table border=\"1\" class=\"dataframe\">\n",
       "  <thead>\n",
       "    <tr style=\"text-align: right;\">\n",
       "      <th></th>\n",
       "      <th>one</th>\n",
       "      <th>two</th>\n",
       "      <th>three</th>\n",
       "    </tr>\n",
       "  </thead>\n",
       "  <tbody>\n",
       "    <tr>\n",
       "      <th>2</th>\n",
       "      <td>1</td>\n",
       "      <td>2</td>\n",
       "      <td>3</td>\n",
       "    </tr>\n",
       "    <tr>\n",
       "      <th>1</th>\n",
       "      <td>1</td>\n",
       "      <td>3</td>\n",
       "      <td>4</td>\n",
       "    </tr>\n",
       "    <tr>\n",
       "      <th>3</th>\n",
       "      <td>1</td>\n",
       "      <td>4</td>\n",
       "      <td>2</td>\n",
       "    </tr>\n",
       "    <tr>\n",
       "      <th>0</th>\n",
       "      <td>2</td>\n",
       "      <td>1</td>\n",
       "      <td>5</td>\n",
       "    </tr>\n",
       "  </tbody>\n",
       "</table>\n",
       "</div>"
      ],
      "text/plain": [
       "   one  two  three\n",
       "2    1    2      3\n",
       "1    1    3      4\n",
       "3    1    4      2\n",
       "0    2    1      5"
      ]
     },
     "execution_count": 60,
     "metadata": {},
     "output_type": "execute_result"
    }
   ],
   "source": [
    "df1[['one', 'two', 'three']].sort_values(by=['one', 'two'])"
   ]
  },
  {
   "cell_type": "code",
   "execution_count": 61,
   "id": "3d7a3ccb-95a6-46e4-bb1e-3be81e3fc93d",
   "metadata": {},
   "outputs": [],
   "source": [
    "s[2] = np.nan"
   ]
  },
  {
   "cell_type": "code",
   "execution_count": 62,
   "id": "c8b57f8b-4dc8-4db5-a56f-a2634f3752f0",
   "metadata": {},
   "outputs": [
    {
     "data": {
      "text/plain": [
       "0       A\n",
       "1       B\n",
       "2    <NA>\n",
       "3    Aaba\n",
       "4    Baca\n",
       "5    <NA>\n",
       "6    CABA\n",
       "7     dog\n",
       "8     cat\n",
       "dtype: string"
      ]
     },
     "execution_count": 62,
     "metadata": {},
     "output_type": "execute_result"
    }
   ],
   "source": [
    "s"
   ]
  },
  {
   "cell_type": "code",
   "execution_count": 63,
   "id": "667ba95e-9f6d-45f4-992a-d3eb58ba6f2e",
   "metadata": {},
   "outputs": [
    {
     "data": {
      "text/plain": [
       "0       A\n",
       "3    Aaba\n",
       "1       B\n",
       "4    Baca\n",
       "6    CABA\n",
       "8     cat\n",
       "7     dog\n",
       "2    <NA>\n",
       "5    <NA>\n",
       "dtype: string"
      ]
     },
     "execution_count": 63,
     "metadata": {},
     "output_type": "execute_result"
    }
   ],
   "source": [
    "s.sort_values()"
   ]
  },
  {
   "cell_type": "code",
   "execution_count": 64,
   "id": "b76b7c2e-16e0-4c7f-b545-49e21b1fb325",
   "metadata": {},
   "outputs": [],
   "source": [
    "# Build MultiIndex\n",
    "idx = pd.MultiIndex.from_tuples([('a', 1), ('a', 2), ('a', 2),\n",
    "                                   ('b', 2), ('b', 1), ('b', 1)])"
   ]
  },
  {
   "cell_type": "code",
   "execution_count": 65,
   "id": "d4b0344b-8768-4569-ac68-a9d70aa739ef",
   "metadata": {},
   "outputs": [],
   "source": [
    "idx.names = ['first', 'second']"
   ]
  },
  {
   "cell_type": "code",
   "execution_count": 66,
   "id": "25df7a9d-9040-467d-adb6-cf5cb7273082",
   "metadata": {},
   "outputs": [
    {
     "data": {
      "text/plain": [
       "MultiIndex([('a', 1),\n",
       "            ('a', 2),\n",
       "            ('a', 2),\n",
       "            ('b', 2),\n",
       "            ('b', 1),\n",
       "            ('b', 1)],\n",
       "           names=['first', 'second'])"
      ]
     },
     "execution_count": 66,
     "metadata": {},
     "output_type": "execute_result"
    }
   ],
   "source": [
    "idx"
   ]
  },
  {
   "cell_type": "code",
   "execution_count": 67,
   "id": "5d1235b8-3967-4732-83f3-f235ce077138",
   "metadata": {},
   "outputs": [],
   "source": [
    "df_multi = pd.DataFrame({'A': np.arange(6, 0, -1)},\n",
    "                            index=idx)"
   ]
  },
  {
   "cell_type": "code",
   "execution_count": 68,
   "id": "94c03e84-76fa-4ed9-b29b-a4b27e5f5d98",
   "metadata": {},
   "outputs": [
    {
     "data": {
      "text/html": [
       "<div>\n",
       "<style scoped>\n",
       "    .dataframe tbody tr th:only-of-type {\n",
       "        vertical-align: middle;\n",
       "    }\n",
       "\n",
       "    .dataframe tbody tr th {\n",
       "        vertical-align: top;\n",
       "    }\n",
       "\n",
       "    .dataframe thead th {\n",
       "        text-align: right;\n",
       "    }\n",
       "</style>\n",
       "<table border=\"1\" class=\"dataframe\">\n",
       "  <thead>\n",
       "    <tr style=\"text-align: right;\">\n",
       "      <th></th>\n",
       "      <th></th>\n",
       "      <th>A</th>\n",
       "    </tr>\n",
       "    <tr>\n",
       "      <th>first</th>\n",
       "      <th>second</th>\n",
       "      <th></th>\n",
       "    </tr>\n",
       "  </thead>\n",
       "  <tbody>\n",
       "    <tr>\n",
       "      <th rowspan=\"3\" valign=\"top\">a</th>\n",
       "      <th>1</th>\n",
       "      <td>6</td>\n",
       "    </tr>\n",
       "    <tr>\n",
       "      <th>2</th>\n",
       "      <td>5</td>\n",
       "    </tr>\n",
       "    <tr>\n",
       "      <th>2</th>\n",
       "      <td>4</td>\n",
       "    </tr>\n",
       "    <tr>\n",
       "      <th rowspan=\"3\" valign=\"top\">b</th>\n",
       "      <th>2</th>\n",
       "      <td>3</td>\n",
       "    </tr>\n",
       "    <tr>\n",
       "      <th>1</th>\n",
       "      <td>2</td>\n",
       "    </tr>\n",
       "    <tr>\n",
       "      <th>1</th>\n",
       "      <td>1</td>\n",
       "    </tr>\n",
       "  </tbody>\n",
       "</table>\n",
       "</div>"
      ],
      "text/plain": [
       "              A\n",
       "first second   \n",
       "a     1       6\n",
       "      2       5\n",
       "      2       4\n",
       "b     2       3\n",
       "      1       2\n",
       "      1       1"
      ]
     },
     "execution_count": 68,
     "metadata": {},
     "output_type": "execute_result"
    }
   ],
   "source": [
    "df_multi"
   ]
  },
  {
   "cell_type": "code",
   "execution_count": null,
   "id": "8d69cf5d-26c7-41d4-aabb-429b8d6b6d79",
   "metadata": {},
   "outputs": [],
   "source": []
  }
 ],
 "metadata": {
  "kernelspec": {
   "display_name": "Python 3",
   "language": "python",
   "name": "python3"
  },
  "language_info": {
   "codemirror_mode": {
    "name": "ipython",
    "version": 3
   },
   "file_extension": ".py",
   "mimetype": "text/x-python",
   "name": "python",
   "nbconvert_exporter": "python",
   "pygments_lexer": "ipython3",
   "version": "3.8.8"
  }
 },
 "nbformat": 4,
 "nbformat_minor": 5
}
