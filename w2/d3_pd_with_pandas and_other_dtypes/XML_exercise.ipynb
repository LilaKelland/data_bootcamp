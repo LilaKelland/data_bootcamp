{
 "cells": [
  {
   "cell_type": "markdown",
   "metadata": {},
   "source": [
    "# XML exercise"
   ]
  },
  {
   "cell_type": "markdown",
   "metadata": {},
   "source": [
    "Using data from [**mondial database**](https://drive.google.com/file/d/14lFT4nWHgwN36ij4XZh6OUuup-K9qLgR/view?usp=sharing) find the answers to following questions:\n",
    "\n",
    "1. 10 countries with the lowest infant mortality rates\n",
    "2. 10 cities with the largest population\n",
    "3. name and country of a) longest river, b) largest lake and c) airport at highest elevation"
   ]
  },
  {
   "cell_type": "code",
   "execution_count": null,
   "metadata": {},
   "outputs": [],
   "source": []
  },
  {
   "cell_type": "code",
   "execution_count": 2,
   "metadata": {},
   "outputs": [],
   "source": [
    "import xml.etree.ElementTree as ET\n",
    "import pandas as pd"
   ]
  },
  {
   "cell_type": "code",
   "execution_count": 10,
   "metadata": {},
   "outputs": [
    {
     "data": {
      "text/plain": [
       "xml.etree.ElementTree.Element"
      ]
     },
     "execution_count": 10,
     "metadata": {},
     "output_type": "execute_result"
    }
   ],
   "source": [
    "tree = ET.parse('mondial.xml')  # Load from file\n",
    "root = tree.getroot()\n",
    "type(root)"
   ]
  },
  {
   "cell_type": "code",
   "execution_count": 23,
   "metadata": {},
   "outputs": [],
   "source": [
    "# infant_mortality_value = root.findall(\"./country/infant_mortality\")\n"
   ]
  },
  {
   "cell_type": "code",
   "execution_count": 25,
   "metadata": {},
   "outputs": [
    {
     "data": {
      "text/plain": [
       "list"
      ]
     },
     "execution_count": 25,
     "metadata": {},
     "output_type": "execute_result"
    }
   ],
   "source": [
    "# type(infant_mortality_value)"
   ]
  },
  {
   "cell_type": "code",
   "execution_count": 11,
   "metadata": {},
   "outputs": [],
   "source": [
    "# infant_mortality_list = []\n",
    "# for i in range(len(infant_mortality_value)):\n",
    "#     infant_mortality_list.append(infant_mortality_value[i].text())"
   ]
  },
  {
   "cell_type": "code",
   "execution_count": 124,
   "metadata": {},
   "outputs": [
    {
     "data": {
      "text/plain": [
       "'country'"
      ]
     },
     "execution_count": 124,
     "metadata": {},
     "output_type": "execute_result"
    }
   ],
   "source": [
    "root[0].tag"
   ]
  },
  {
   "cell_type": "code",
   "execution_count": 126,
   "metadata": {},
   "outputs": [],
   "source": [
    "my_dict = {'name': [],\n",
    "           'infant_mortality': []\n",
    "          }\n",
    "for country in root: \n",
    "    \n",
    "    try:\n",
    "        infant_mortality_value = country.findtext('infant_mortality')\n",
    "        my_dict['infant_mortality'].append(float(infant_mortality_value))\n",
    "        \n",
    "        name_value = country[0].text\n",
    "        my_dict['name'].append(name_value)\n",
    "#         print(infant_mortality_value)\n",
    "    except:  \n",
    "        pass\n",
    "        \n",
    "# my_dict['infant_mortality']"
   ]
  },
  {
   "cell_type": "code",
   "execution_count": 133,
   "metadata": {},
   "outputs": [
    {
     "data": {
      "text/html": [
       "<div>\n",
       "<style scoped>\n",
       "    .dataframe tbody tr th:only-of-type {\n",
       "        vertical-align: middle;\n",
       "    }\n",
       "\n",
       "    .dataframe tbody tr th {\n",
       "        vertical-align: top;\n",
       "    }\n",
       "\n",
       "    .dataframe thead th {\n",
       "        text-align: right;\n",
       "    }\n",
       "</style>\n",
       "<table border=\"1\" class=\"dataframe\">\n",
       "  <thead>\n",
       "    <tr style=\"text-align: right;\">\n",
       "      <th></th>\n",
       "      <th>name</th>\n",
       "      <th>infant_mortality</th>\n",
       "    </tr>\n",
       "  </thead>\n",
       "  <tbody>\n",
       "    <tr>\n",
       "      <th>178</th>\n",
       "      <td>Western Sahara</td>\n",
       "      <td>145.82</td>\n",
       "    </tr>\n",
       "    <tr>\n",
       "      <th>48</th>\n",
       "      <td>Afghanistan</td>\n",
       "      <td>117.23</td>\n",
       "    </tr>\n",
       "    <tr>\n",
       "      <th>173</th>\n",
       "      <td>Mali</td>\n",
       "      <td>104.34</td>\n",
       "    </tr>\n",
       "    <tr>\n",
       "      <th>210</th>\n",
       "      <td>Somalia</td>\n",
       "      <td>100.14</td>\n",
       "    </tr>\n",
       "    <tr>\n",
       "      <th>197</th>\n",
       "      <td>Central African Republic</td>\n",
       "      <td>92.86</td>\n",
       "    </tr>\n",
       "    <tr>\n",
       "      <th>214</th>\n",
       "      <td>Guinea-Bissau</td>\n",
       "      <td>90.92</td>\n",
       "    </tr>\n",
       "    <tr>\n",
       "      <th>198</th>\n",
       "      <td>Chad</td>\n",
       "      <td>90.30</td>\n",
       "    </tr>\n",
       "    <tr>\n",
       "      <th>176</th>\n",
       "      <td>Niger</td>\n",
       "      <td>86.27</td>\n",
       "    </tr>\n",
       "    <tr>\n",
       "      <th>179</th>\n",
       "      <td>Angola</td>\n",
       "      <td>79.99</td>\n",
       "    </tr>\n",
       "    <tr>\n",
       "      <th>185</th>\n",
       "      <td>Burkina Faso</td>\n",
       "      <td>76.80</td>\n",
       "    </tr>\n",
       "  </tbody>\n",
       "</table>\n",
       "</div>"
      ],
      "text/plain": [
       "                         name  infant_mortality\n",
       "178            Western Sahara            145.82\n",
       "48                Afghanistan            117.23\n",
       "173                      Mali            104.34\n",
       "210                   Somalia            100.14\n",
       "197  Central African Republic             92.86\n",
       "214             Guinea-Bissau             90.92\n",
       "198                      Chad             90.30\n",
       "176                     Niger             86.27\n",
       "179                    Angola             79.99\n",
       "185              Burkina Faso             76.80"
      ]
     },
     "execution_count": 133,
     "metadata": {},
     "output_type": "execute_result"
    }
   ],
   "source": [
    "df = pd.DataFrame(my_dict).sort_values(by=\"infant_mortality\", ascending =False).head(10)\n",
    "df"
   ]
  },
  {
   "cell_type": "code",
   "execution_count": 125,
   "metadata": {},
   "outputs": [
    {
     "data": {
      "text/html": [
       "<div>\n",
       "<style scoped>\n",
       "    .dataframe tbody tr th:only-of-type {\n",
       "        vertical-align: middle;\n",
       "    }\n",
       "\n",
       "    .dataframe tbody tr th {\n",
       "        vertical-align: top;\n",
       "    }\n",
       "\n",
       "    .dataframe thead th {\n",
       "        text-align: right;\n",
       "    }\n",
       "</style>\n",
       "<table border=\"1\" class=\"dataframe\">\n",
       "  <thead>\n",
       "    <tr style=\"text-align: right;\">\n",
       "      <th></th>\n",
       "      <th>name</th>\n",
       "      <th>infant_mortality</th>\n",
       "    </tr>\n",
       "  </thead>\n",
       "  <tbody>\n",
       "    <tr>\n",
       "      <th>0</th>\n",
       "      <td>Albania</td>\n",
       "      <td>13.19</td>\n",
       "    </tr>\n",
       "    <tr>\n",
       "      <th>1</th>\n",
       "      <td>Greece</td>\n",
       "      <td>4.78</td>\n",
       "    </tr>\n",
       "    <tr>\n",
       "      <th>2</th>\n",
       "      <td>North Macedonia</td>\n",
       "      <td>7.90</td>\n",
       "    </tr>\n",
       "    <tr>\n",
       "      <th>3</th>\n",
       "      <td>Serbia</td>\n",
       "      <td>6.16</td>\n",
       "    </tr>\n",
       "    <tr>\n",
       "      <th>4</th>\n",
       "      <td>Andorra</td>\n",
       "      <td>3.69</td>\n",
       "    </tr>\n",
       "    <tr>\n",
       "      <th>5</th>\n",
       "      <td>France</td>\n",
       "      <td>3.31</td>\n",
       "    </tr>\n",
       "  </tbody>\n",
       "</table>\n",
       "</div>"
      ],
      "text/plain": [
       "              name  infant_mortality\n",
       "0          Albania             13.19\n",
       "1           Greece              4.78\n",
       "2  North Macedonia              7.90\n",
       "3           Serbia              6.16\n",
       "4          Andorra              3.69\n",
       "5           France              3.31"
      ]
     },
     "execution_count": 125,
     "metadata": {},
     "output_type": "execute_result"
    }
   ],
   "source": []
  },
  {
   "cell_type": "code",
   "execution_count": null,
   "metadata": {},
   "outputs": [],
   "source": []
  },
  {
   "cell_type": "code",
   "execution_count": 90,
   "metadata": {},
   "outputs": [],
   "source": [
    "# type(my_dict)\n",
    "# # my_dict.sort_values()\n",
    "# my_dict.sort_values(\"infant_mortality\")"
   ]
  },
  {
   "cell_type": "code",
   "execution_count": 132,
   "metadata": {},
   "outputs": [],
   "source": [
    "# my_y = {}\n",
    "# for x in tree.iterfind('country'):\n",
    "    \n",
    "\n",
    "#     this_x = {}\n",
    "#     this_x[\"infant_mortality\"] = x.findtext('infant_mortality')\n",
    "#     my_y[x.findtext('name')]=this_x\n",
    "\n",
    "# x_pd=pd.DataFrame(x).transpose()\n",
    "# x_pd.sort_values(\"infant_mortality\")[:10]"
   ]
  },
  {
   "cell_type": "code",
   "execution_count": 92,
   "metadata": {},
   "outputs": [],
   "source": [
    "# infant_mortality_value = root.findall(\"./country/infant_mortality\")\n",
    "# infant_mortality_value.get_text[0]\n"
   ]
  },
  {
   "cell_type": "code",
   "execution_count": null,
   "metadata": {},
   "outputs": [],
   "source": [
    "# my_dict = {'name': [],\n",
    "#            'infant_mortality': []\n",
    "#           }\n",
    "# for country in root: \n",
    "#     name_value = country[0].text\n",
    "#     my_dict['name'].append(name_value)\n",
    "\n",
    "#     infant_mortality_value = country[11].text\n",
    "#     my_dict['infant_mortality'].append(infant_mortality_value)\n",
    "    \n",
    "# my_dict"
   ]
  },
  {
   "cell_type": "code",
   "execution_count": null,
   "metadata": {},
   "outputs": [],
   "source": []
  },
  {
   "cell_type": "markdown",
   "metadata": {},
   "source": [
    "## 10 cities with largest population"
   ]
  },
  {
   "cell_type": "code",
   "execution_count": 4,
   "metadata": {},
   "outputs": [
    {
     "data": {
      "text/html": [
       "<div>\n",
       "<style scoped>\n",
       "    .dataframe tbody tr th:only-of-type {\n",
       "        vertical-align: middle;\n",
       "    }\n",
       "\n",
       "    .dataframe tbody tr th {\n",
       "        vertical-align: top;\n",
       "    }\n",
       "\n",
       "    .dataframe thead th {\n",
       "        text-align: right;\n",
       "    }\n",
       "</style>\n",
       "<table border=\"1\" class=\"dataframe\">\n",
       "  <thead>\n",
       "    <tr style=\"text-align: right;\">\n",
       "      <th></th>\n",
       "      <th>car_code</th>\n",
       "      <th>area</th>\n",
       "      <th>capital</th>\n",
       "      <th>memberships</th>\n",
       "      <th>name</th>\n",
       "      <th>population</th>\n",
       "      <th>population_growth</th>\n",
       "      <th>infant_mortality</th>\n",
       "      <th>gdp_total</th>\n",
       "      <th>gdp_agri</th>\n",
       "      <th>...</th>\n",
       "      <th>height</th>\n",
       "      <th>sea</th>\n",
       "      <th>islands</th>\n",
       "      <th>river</th>\n",
       "      <th>lake</th>\n",
       "      <th>last_eruption</th>\n",
       "      <th>mountains</th>\n",
       "      <th>iatacode</th>\n",
       "      <th>gmtOffset</th>\n",
       "      <th>located_on</th>\n",
       "    </tr>\n",
       "  </thead>\n",
       "  <tbody>\n",
       "    <tr>\n",
       "      <th>0</th>\n",
       "      <td>AL</td>\n",
       "      <td>28750.0</td>\n",
       "      <td>cty-Albania-Tirane</td>\n",
       "      <td>org-BSEC org-CEI org-CD org-SELEC org-CE org-E...</td>\n",
       "      <td>Albania</td>\n",
       "      <td>2821977.0</td>\n",
       "      <td>0.30</td>\n",
       "      <td>13.19</td>\n",
       "      <td>12800.0</td>\n",
       "      <td>19.5</td>\n",
       "      <td>...</td>\n",
       "      <td>NaN</td>\n",
       "      <td>None</td>\n",
       "      <td>None</td>\n",
       "      <td>None</td>\n",
       "      <td>None</td>\n",
       "      <td>None</td>\n",
       "      <td>None</td>\n",
       "      <td>None</td>\n",
       "      <td>NaN</td>\n",
       "      <td>NaN</td>\n",
       "    </tr>\n",
       "    <tr>\n",
       "      <th>1</th>\n",
       "      <td>GR</td>\n",
       "      <td>131940.0</td>\n",
       "      <td>cty-Greece-Athens</td>\n",
       "      <td>org-AG org-BIS org-BSEC org-CD org-SELEC org-C...</td>\n",
       "      <td>Greece</td>\n",
       "      <td>10816286.0</td>\n",
       "      <td>0.01</td>\n",
       "      <td>4.78</td>\n",
       "      <td>243300.0</td>\n",
       "      <td>3.5</td>\n",
       "      <td>...</td>\n",
       "      <td>NaN</td>\n",
       "      <td>None</td>\n",
       "      <td>None</td>\n",
       "      <td>None</td>\n",
       "      <td>None</td>\n",
       "      <td>None</td>\n",
       "      <td>None</td>\n",
       "      <td>None</td>\n",
       "      <td>NaN</td>\n",
       "      <td>NaN</td>\n",
       "    </tr>\n",
       "    <tr>\n",
       "      <th>2</th>\n",
       "      <td>MK</td>\n",
       "      <td>25333.0</td>\n",
       "      <td>cty-Macedonia-Skopje</td>\n",
       "      <td>org-BIS org-CEI org-CD org-SELEC org-CE org-EA...</td>\n",
       "      <td>North Macedonia</td>\n",
       "      <td>2059794.0</td>\n",
       "      <td>0.21</td>\n",
       "      <td>7.90</td>\n",
       "      <td>10650.0</td>\n",
       "      <td>10.2</td>\n",
       "      <td>...</td>\n",
       "      <td>NaN</td>\n",
       "      <td>None</td>\n",
       "      <td>None</td>\n",
       "      <td>None</td>\n",
       "      <td>None</td>\n",
       "      <td>None</td>\n",
       "      <td>None</td>\n",
       "      <td>None</td>\n",
       "      <td>NaN</td>\n",
       "      <td>NaN</td>\n",
       "    </tr>\n",
       "    <tr>\n",
       "      <th>3</th>\n",
       "      <td>SRB</td>\n",
       "      <td>77474.0</td>\n",
       "      <td>city-Belgrade-SRB-SRB</td>\n",
       "      <td>org-BIS org-BSEC org-CEI org-CD org-SELEC org-...</td>\n",
       "      <td>Serbia</td>\n",
       "      <td>7120666.0</td>\n",
       "      <td>-0.46</td>\n",
       "      <td>6.16</td>\n",
       "      <td>43680.0</td>\n",
       "      <td>7.9</td>\n",
       "      <td>...</td>\n",
       "      <td>NaN</td>\n",
       "      <td>None</td>\n",
       "      <td>None</td>\n",
       "      <td>None</td>\n",
       "      <td>None</td>\n",
       "      <td>None</td>\n",
       "      <td>None</td>\n",
       "      <td>None</td>\n",
       "      <td>NaN</td>\n",
       "      <td>NaN</td>\n",
       "    </tr>\n",
       "    <tr>\n",
       "      <th>4</th>\n",
       "      <td>MNE</td>\n",
       "      <td>14026.0</td>\n",
       "      <td>city-Podgorica-MNE-MNE</td>\n",
       "      <td>org-CEI org-CD org-SELEC org-CE org-EAPC org-E...</td>\n",
       "      <td>Montenegro</td>\n",
       "      <td>620029.0</td>\n",
       "      <td>-0.49</td>\n",
       "      <td>NaN</td>\n",
       "      <td>4518.0</td>\n",
       "      <td>0.8</td>\n",
       "      <td>...</td>\n",
       "      <td>NaN</td>\n",
       "      <td>None</td>\n",
       "      <td>None</td>\n",
       "      <td>None</td>\n",
       "      <td>None</td>\n",
       "      <td>None</td>\n",
       "      <td>None</td>\n",
       "      <td>None</td>\n",
       "      <td>NaN</td>\n",
       "      <td>NaN</td>\n",
       "    </tr>\n",
       "    <tr>\n",
       "      <th>...</th>\n",
       "      <td>...</td>\n",
       "      <td>...</td>\n",
       "      <td>...</td>\n",
       "      <td>...</td>\n",
       "      <td>...</td>\n",
       "      <td>...</td>\n",
       "      <td>...</td>\n",
       "      <td>...</td>\n",
       "      <td>...</td>\n",
       "      <td>...</td>\n",
       "      <td>...</td>\n",
       "      <td>...</td>\n",
       "      <td>...</td>\n",
       "      <td>...</td>\n",
       "      <td>...</td>\n",
       "      <td>...</td>\n",
       "      <td>...</td>\n",
       "      <td>...</td>\n",
       "      <td>...</td>\n",
       "      <td>...</td>\n",
       "      <td>...</td>\n",
       "    </tr>\n",
       "    <tr>\n",
       "      <th>3398</th>\n",
       "      <td>None</td>\n",
       "      <td>NaN</td>\n",
       "      <td>None</td>\n",
       "      <td>None</td>\n",
       "      <td>Livingstone</td>\n",
       "      <td>NaN</td>\n",
       "      <td>NaN</td>\n",
       "      <td>NaN</td>\n",
       "      <td>NaN</td>\n",
       "      <td>NaN</td>\n",
       "      <td>...</td>\n",
       "      <td>NaN</td>\n",
       "      <td>None</td>\n",
       "      <td>None</td>\n",
       "      <td>None</td>\n",
       "      <td>None</td>\n",
       "      <td>None</td>\n",
       "      <td>None</td>\n",
       "      <td>LVI</td>\n",
       "      <td>2.0</td>\n",
       "      <td>NaN</td>\n",
       "    </tr>\n",
       "    <tr>\n",
       "      <th>3399</th>\n",
       "      <td>None</td>\n",
       "      <td>NaN</td>\n",
       "      <td>None</td>\n",
       "      <td>None</td>\n",
       "      <td>Ndola</td>\n",
       "      <td>NaN</td>\n",
       "      <td>NaN</td>\n",
       "      <td>NaN</td>\n",
       "      <td>NaN</td>\n",
       "      <td>NaN</td>\n",
       "      <td>...</td>\n",
       "      <td>NaN</td>\n",
       "      <td>None</td>\n",
       "      <td>None</td>\n",
       "      <td>None</td>\n",
       "      <td>None</td>\n",
       "      <td>None</td>\n",
       "      <td>None</td>\n",
       "      <td>NLA</td>\n",
       "      <td>2.0</td>\n",
       "      <td>NaN</td>\n",
       "    </tr>\n",
       "    <tr>\n",
       "      <th>3400</th>\n",
       "      <td>None</td>\n",
       "      <td>NaN</td>\n",
       "      <td>None</td>\n",
       "      <td>None</td>\n",
       "      <td>Lusaka Intl</td>\n",
       "      <td>NaN</td>\n",
       "      <td>NaN</td>\n",
       "      <td>NaN</td>\n",
       "      <td>NaN</td>\n",
       "      <td>NaN</td>\n",
       "      <td>...</td>\n",
       "      <td>NaN</td>\n",
       "      <td>None</td>\n",
       "      <td>None</td>\n",
       "      <td>None</td>\n",
       "      <td>None</td>\n",
       "      <td>None</td>\n",
       "      <td>None</td>\n",
       "      <td>LUN</td>\n",
       "      <td>2.0</td>\n",
       "      <td>NaN</td>\n",
       "    </tr>\n",
       "    <tr>\n",
       "      <th>3401</th>\n",
       "      <td>None</td>\n",
       "      <td>NaN</td>\n",
       "      <td>None</td>\n",
       "      <td>None</td>\n",
       "      <td>J M Nkomo Intl</td>\n",
       "      <td>NaN</td>\n",
       "      <td>NaN</td>\n",
       "      <td>NaN</td>\n",
       "      <td>NaN</td>\n",
       "      <td>NaN</td>\n",
       "      <td>...</td>\n",
       "      <td>NaN</td>\n",
       "      <td>None</td>\n",
       "      <td>None</td>\n",
       "      <td>None</td>\n",
       "      <td>None</td>\n",
       "      <td>None</td>\n",
       "      <td>None</td>\n",
       "      <td>BUQ</td>\n",
       "      <td>2.0</td>\n",
       "      <td>NaN</td>\n",
       "    </tr>\n",
       "    <tr>\n",
       "      <th>3402</th>\n",
       "      <td>None</td>\n",
       "      <td>NaN</td>\n",
       "      <td>None</td>\n",
       "      <td>None</td>\n",
       "      <td>Harare Intl</td>\n",
       "      <td>NaN</td>\n",
       "      <td>NaN</td>\n",
       "      <td>NaN</td>\n",
       "      <td>NaN</td>\n",
       "      <td>NaN</td>\n",
       "      <td>...</td>\n",
       "      <td>NaN</td>\n",
       "      <td>None</td>\n",
       "      <td>None</td>\n",
       "      <td>None</td>\n",
       "      <td>None</td>\n",
       "      <td>None</td>\n",
       "      <td>None</td>\n",
       "      <td>HRE</td>\n",
       "      <td>2.0</td>\n",
       "      <td>NaN</td>\n",
       "    </tr>\n",
       "  </tbody>\n",
       "</table>\n",
       "<p>3403 rows × 55 columns</p>\n",
       "</div>"
      ],
      "text/plain": [
       "     car_code      area                 capital  \\\n",
       "0          AL   28750.0      cty-Albania-Tirane   \n",
       "1          GR  131940.0       cty-Greece-Athens   \n",
       "2          MK   25333.0    cty-Macedonia-Skopje   \n",
       "3         SRB   77474.0   city-Belgrade-SRB-SRB   \n",
       "4         MNE   14026.0  city-Podgorica-MNE-MNE   \n",
       "...       ...       ...                     ...   \n",
       "3398     None       NaN                    None   \n",
       "3399     None       NaN                    None   \n",
       "3400     None       NaN                    None   \n",
       "3401     None       NaN                    None   \n",
       "3402     None       NaN                    None   \n",
       "\n",
       "                                            memberships             name  \\\n",
       "0     org-BSEC org-CEI org-CD org-SELEC org-CE org-E...          Albania   \n",
       "1     org-AG org-BIS org-BSEC org-CD org-SELEC org-C...           Greece   \n",
       "2     org-BIS org-CEI org-CD org-SELEC org-CE org-EA...  North Macedonia   \n",
       "3     org-BIS org-BSEC org-CEI org-CD org-SELEC org-...           Serbia   \n",
       "4     org-CEI org-CD org-SELEC org-CE org-EAPC org-E...       Montenegro   \n",
       "...                                                 ...              ...   \n",
       "3398                                               None      Livingstone   \n",
       "3399                                               None            Ndola   \n",
       "3400                                               None      Lusaka Intl   \n",
       "3401                                               None   J M Nkomo Intl   \n",
       "3402                                               None      Harare Intl   \n",
       "\n",
       "      population  population_growth  infant_mortality  gdp_total  gdp_agri  \\\n",
       "0      2821977.0               0.30             13.19    12800.0      19.5   \n",
       "1     10816286.0               0.01              4.78   243300.0       3.5   \n",
       "2      2059794.0               0.21              7.90    10650.0      10.2   \n",
       "3      7120666.0              -0.46              6.16    43680.0       7.9   \n",
       "4       620029.0              -0.49               NaN     4518.0       0.8   \n",
       "...          ...                ...               ...        ...       ...   \n",
       "3398         NaN                NaN               NaN        NaN       NaN   \n",
       "3399         NaN                NaN               NaN        NaN       NaN   \n",
       "3400         NaN                NaN               NaN        NaN       NaN   \n",
       "3401         NaN                NaN               NaN        NaN       NaN   \n",
       "3402         NaN                NaN               NaN        NaN       NaN   \n",
       "\n",
       "      ...  height   sea  islands  river  lake last_eruption  mountains  \\\n",
       "0     ...     NaN  None     None   None  None          None       None   \n",
       "1     ...     NaN  None     None   None  None          None       None   \n",
       "2     ...     NaN  None     None   None  None          None       None   \n",
       "3     ...     NaN  None     None   None  None          None       None   \n",
       "4     ...     NaN  None     None   None  None          None       None   \n",
       "...   ...     ...   ...      ...    ...   ...           ...        ...   \n",
       "3398  ...     NaN  None     None   None  None          None       None   \n",
       "3399  ...     NaN  None     None   None  None          None       None   \n",
       "3400  ...     NaN  None     None   None  None          None       None   \n",
       "3401  ...     NaN  None     None   None  None          None       None   \n",
       "3402  ...     NaN  None     None   None  None          None       None   \n",
       "\n",
       "     iatacode gmtOffset located_on  \n",
       "0        None       NaN        NaN  \n",
       "1        None       NaN        NaN  \n",
       "2        None       NaN        NaN  \n",
       "3        None       NaN        NaN  \n",
       "4        None       NaN        NaN  \n",
       "...       ...       ...        ...  \n",
       "3398      LVI       2.0        NaN  \n",
       "3399      NLA       2.0        NaN  \n",
       "3400      LUN       2.0        NaN  \n",
       "3401      BUQ       2.0        NaN  \n",
       "3402      HRE       2.0        NaN  \n",
       "\n",
       "[3403 rows x 55 columns]"
      ]
     },
     "execution_count": 4,
     "metadata": {},
     "output_type": "execute_result"
    }
   ],
   "source": [
    "pd.read_xml(\"mondial.xml\")"
   ]
  },
  {
   "cell_type": "code",
   "execution_count": 5,
   "metadata": {},
   "outputs": [],
   "source": [
    "popu = pd.read_xml(\"mondial.xml\").head(2)"
   ]
  },
  {
   "cell_type": "code",
   "execution_count": 7,
   "metadata": {},
   "outputs": [
    {
     "data": {
      "text/plain": [
       "pandas.core.frame.DataFrame"
      ]
     },
     "execution_count": 7,
     "metadata": {},
     "output_type": "execute_result"
    }
   ],
   "source": [
    "type(popu)"
   ]
  },
  {
   "cell_type": "code",
   "execution_count": null,
   "metadata": {},
   "outputs": [],
   "source": []
  },
  {
   "cell_type": "code",
   "execution_count": 6,
   "metadata": {},
   "outputs": [
    {
     "data": {
      "text/plain": [
       "Index(['car_code', 'area', 'capital', 'memberships', 'name', 'population',\n",
       "       'population_growth', 'infant_mortality', 'gdp_total', 'gdp_agri',\n",
       "       'gdp_ind', 'gdp_serv', 'inflation', 'unemployment', 'indep_date',\n",
       "       'government', 'encompassed', 'ethnicgroup', 'religion', 'language',\n",
       "       'border', 'city', 'localname', 'province', 'dependent', 'id', 'headq',\n",
       "       'abbrev', 'established', 'members', 'country', 'bordering', 'located',\n",
       "       'depth', 'to', 'length', 'source', 'estuary', 'island', 'through',\n",
       "       'latitude', 'longitude', 'elevation', 'type', 'salinity', 'height',\n",
       "       'sea', 'islands', 'river', 'lake', 'last_eruption', 'mountains',\n",
       "       'iatacode', 'gmtOffset', 'located_on'],\n",
       "      dtype='object')"
      ]
     },
     "execution_count": 6,
     "metadata": {},
     "output_type": "execute_result"
    }
   ],
   "source": [
    "popu.keys()"
   ]
  },
  {
   "cell_type": "code",
   "execution_count": 9,
   "metadata": {},
   "outputs": [
    {
     "data": {
      "text/plain": [
       "0     NaN\n",
       "1    None\n",
       "Name: city, dtype: object"
      ]
     },
     "execution_count": 9,
     "metadata": {},
     "output_type": "execute_result"
    }
   ],
   "source": [
    "popu[\"city\"]\n",
    "    "
   ]
  },
  {
   "cell_type": "code",
   "execution_count": null,
   "metadata": {},
   "outputs": [],
   "source": [
    "#2 dictionarys from cities with and provinces "
   ]
  },
  {
   "cell_type": "code",
   "execution_count": null,
   "metadata": {},
   "outputs": [],
   "source": [
    "\n",
    "popu[[\"name\", \"population\"]].sort_values"
   ]
  },
  {
   "cell_type": "code",
   "execution_count": null,
   "metadata": {},
   "outputs": [],
   "source": []
  },
  {
   "cell_type": "code",
   "execution_count": null,
   "metadata": {},
   "outputs": [],
   "source": [
    "# Find all child with tag country\n",
    "for country in root.findall('city'):\n",
    "    # rank is child of the country\n",
    "    rank = country.find('rank').text\n",
    "    # name is attribute of the country\n",
    "    name = country.get('name')\n",
    "    print(name, rank)"
   ]
  },
  {
   "cell_type": "code",
   "execution_count": null,
   "metadata": {},
   "outputs": [],
   "source": [
    "#find ppu\n",
    "for city in root.iter('city'):\n",
    "    print(neighbor.attrib)"
   ]
  },
  {
   "cell_type": "code",
   "execution_count": 134,
   "metadata": {},
   "outputs": [],
   "source": [
    "# want this tag: <population year=\"2011\" measured=\"census\">\n",
    "\n",
    "# my_dict = {'name': [],\n",
    "#            'population': []\n",
    "#           }\n",
    "# for country in root: \n",
    "#     for \n",
    "    \n",
    "#     try:\n",
    "#         city_population_value = country.get\n",
    "#         population_value = country.findtext('population')\n",
    "#         my_dict['population'].append(float(population_value))\n",
    "        \n",
    "#         name_value = country[0].text\n",
    "#         my_dict['name'].append(name_value)\n",
    "# #         print(infant_mortality_value)\n",
    "#     except:  \n",
    "#         pass\n",
    "#     name_value = country[0].text\n",
    "#     my_dict['name'].append(name_value)\n",
    "    \n",
    "#     try:\n",
    "#         population_value = country[9].text\n",
    "#         my_dict['population'].append(population_value)\n",
    "#     except:\n",
    "#         population_value = 0\n",
    "#         my_dict['population'].append(population_value)\n",
    "        \n",
    "# my_dict['population']"
   ]
  },
  {
   "cell_type": "code",
   "execution_count": 12,
   "metadata": {},
   "outputs": [],
   "source": [
    "pop_dict = {'city': [],\n",
    "           'population': []\n",
    "          }\n",
    "\n",
    "for neighbor in root.iter('neighbor'):\n",
    "    print(neighbor.attrib)\n",
    "    \n",
    "for country in root:\n",
    "    \n",
    "    \n",
    "    try:\n",
    "        city_population_value = country.get\n",
    "        population_value = country.findtext('population')\n",
    "        pop_dict['population'].append(float(population_value))\n",
    "        \n",
    "        city_value = country[0].text\n",
    "        my_dict['city'].append(city_value)\n",
    "#         print(infant_mortality_value)\n",
    "    except:  \n",
    "        pass"
   ]
  },
  {
   "cell_type": "code",
   "execution_count": null,
   "metadata": {},
   "outputs": [],
   "source": []
  },
  {
   "cell_type": "code",
   "execution_count": null,
   "metadata": {},
   "outputs": [],
   "source": []
  },
  {
   "cell_type": "code",
   "execution_count": null,
   "metadata": {},
   "outputs": [],
   "source": []
  },
  {
   "cell_type": "code",
   "execution_count": null,
   "metadata": {},
   "outputs": [],
   "source": []
  },
  {
   "cell_type": "code",
   "execution_count": null,
   "metadata": {},
   "outputs": [],
   "source": []
  },
  {
   "cell_type": "code",
   "execution_count": 15,
   "metadata": {},
   "outputs": [],
   "source": []
  },
  {
   "cell_type": "code",
   "execution_count": 17,
   "metadata": {},
   "outputs": [],
   "source": [
    "# pop_extractor('country/province/city')"
   ]
  },
  {
   "cell_type": "code",
   "execution_count": null,
   "metadata": {},
   "outputs": [],
   "source": []
  },
  {
   "cell_type": "markdown",
   "metadata": {},
   "source": [
    "## name and country of a) longest river, b) largest lake and c) airport at highest elevation"
   ]
  },
  {
   "cell_type": "code",
   "execution_count": null,
   "metadata": {},
   "outputs": [],
   "source": [
    "\n",
    "    \n",
    "    "
   ]
  },
  {
   "cell_type": "code",
   "execution_count": null,
   "metadata": {},
   "outputs": [],
   "source": []
  },
  {
   "cell_type": "code",
   "execution_count": null,
   "metadata": {},
   "outputs": [],
   "source": []
  },
  {
   "cell_type": "code",
   "execution_count": null,
   "metadata": {},
   "outputs": [],
   "source": [
    "d"
   ]
  },
  {
   "cell_type": "markdown",
   "metadata": {},
   "source": [
    "## This is the way"
   ]
  },
  {
   "cell_type": "code",
   "execution_count": 25,
   "metadata": {},
   "outputs": [],
   "source": [
    "infant_mort = {}\n",
    "for ele in tree.iterfind('country'):\n",
    "    current_element = {}\n",
    "    current_element['infant_mortality'] = ele.findtext('infant_mortality')\n",
    "    infant_mort[ele.findtext('name')] = current_element\n",
    "# infant_mort\n",
    "    "
   ]
  },
  {
   "cell_type": "code",
   "execution_count": 22,
   "metadata": {},
   "outputs": [],
   "source": [
    "im_df = pd.DataFrame(infant_mort)\n",
    "im_df\n",
    "im_t_df = im_df.transpose()\n",
    "im_t_df\n",
    "im_t_df = im_t_df.astype({'infant_mortality': float})"
   ]
  },
  {
   "cell_type": "code",
   "execution_count": null,
   "metadata": {},
   "outputs": [],
   "source": []
  },
  {
   "cell_type": "code",
   "execution_count": null,
   "metadata": {},
   "outputs": [],
   "source": [
    "def pop_extractor(querystring): #'country/province/city'\n",
    "    pop_list = []\n",
    "    for ele in tree.iterfind(querystring):\n",
    "        temp = []\n",
    "        for i in range(len(ele)):\n",
    "            if ele[i].tag == 'population':\n",
    "                temp.append(int(ele[i].text))\n",
    "        pop_list.append(temp)\n",
    "    pops_final = []\n",
    "    for l in pop_list:\n",
    "        if len(l) == 0:\n",
    "            pops_final.append(0)\n",
    "        else:\n",
    "            pops_final.append(l[-1])\n",
    "    return pops_final"
   ]
  },
  {
   "cell_type": "code",
   "execution_count": 23,
   "metadata": {},
   "outputs": [
    {
     "data": {
      "text/plain": [
       "0"
      ]
     },
     "execution_count": 23,
     "metadata": {},
     "output_type": "execute_result"
    }
   ],
   "source": [
    "city_pop = {}\n",
    "for ele in tree.iterfind('country/city'):\n",
    "    current_element = {}\n",
    "    current_element[\"population\"]= current_element\n",
    "    city_pop[ele.findtext('name')] = current_element\n",
    "len(city_pop)\n",
    "\n",
    "city_pop_2 = {}\n",
    "for ele in tree.iterfind('country/province/city'):\n",
    "    current_element = {}\n",
    "    current_element[\"population\"]= current_element\n",
    "    city_pop[ele.findtext('name')] = current_element\n",
    "len(city_pop_2)\n"
   ]
  },
  {
   "cell_type": "code",
   "execution_count": null,
   "metadata": {},
   "outputs": [],
   "source": [
    "\n",
    "for ele in tree.iterfind('country/city'):\n",
    "    print(ele.findtext('population'))"
   ]
  },
  {
   "cell_type": "code",
   "execution_count": null,
   "metadata": {},
   "outputs": [],
   "source": [
    "# running separate functions and mergine the dicts\n",
    "city_pop.update(city_pop_2)\n",
    "# convert to dataframe"
   ]
  },
  {
   "cell_type": "code",
   "execution_count": null,
   "metadata": {},
   "outputs": [],
   "source": []
  },
  {
   "cell_type": "code",
   "execution_count": null,
   "metadata": {},
   "outputs": [],
   "source": [
    "rivers = {'length': [],\n",
    "         'country:',\n",
    "         'name':[]}\n",
    "\n",
    "for ele in tree.iterfind['river']:\n",
    "    if ele.findall('length'):\n",
    "        rivers['length'].append(float(ele.findall('length))[0].text))\n",
    "    else:\n",
    "        rivers['length'].append(0)\n",
    "        rivers['country'].append(ele.attib['country']) \n",
    "        rivers['name'].append((ele.attrib['id']).split(''-''))\n",
    "                                                  \n",
    "rivers_db = pd.DataFrame(rivers)\n",
    "rivers_db.groupby('country').max().sort_values(by='length', ascending=False).head()"
   ]
  },
  {
   "cell_type": "code",
   "execution_count": null,
   "metadata": {},
   "outputs": [],
   "source": []
  },
  {
   "cell_type": "code",
   "execution_count": null,
   "metadata": {},
   "outputs": [],
   "source": [
    "lakes = {'area':[],\n",
    "        'country': [],\n",
    "        'name': []\n",
    "        }\n",
    "# do same thing above but for lakes .\n",
    "for ele in tree.iterfind['lake']:\n",
    "    if ele.findall('area'):\n",
    "        rivers['area'].append(float(ele.findall('area'))[0].text))\n",
    "    else:\n",
    "        lakes['area'].append(0)\n",
    "        lakes['country'].append(ele.attib['country']) \n",
    "        lakes['name'].append((ele.attrib['id']).split(''-''))\n",
    "                                                  \n",
    "lakes_db = pd.DataFrame(rivers)\n",
    "lakes_db.groupby('country').max().sort_values(by='area', ascending=False).head()"
   ]
  },
  {
   "cell_type": "code",
   "execution_count": null,
   "metadata": {},
   "outputs": [],
   "source": [
    "airport = {'elevation'':[],\n",
    "        'country': [],\n",
    "        'name': []\n",
    "        }\n",
    "# do same thing above but for airports .\n",
    "for ele in tree.iterfind['lake']:\n",
    "    if ele.findall('area'):\n",
    "        rivers[''area'].append(float(ele.findall('area'))[0].text))\n",
    "    else:\n",
    "        lakes[''area'].append(0)\n",
    "        lakes['country'].append(ele.attib['country']) \n",
    "        lakes['name'].append((ele.attrib['id']).split(''-''))\n",
    "                                                  \n",
    "lakes_db = pd.DataFrame(rivers)\n",
    "lakes_db.groupby('country').max().sort_values(by='area', ascending=False).head()"
   ]
  },
  {
   "cell_type": "code",
   "execution_count": null,
   "metadata": {},
   "outputs": [],
   "source": []
  },
  {
   "cell_type": "code",
   "execution_count": null,
   "metadata": {},
   "outputs": [],
   "source": [
    "my_dict = {'name': [],\n",
    "           'river_length': [],\n",
    "           'lake': [],\n",
    "           'airport_elevation': [],\n",
    "          }\n",
    "\n",
    "for country in root: \n",
    "    name_value = country[0].text\n",
    "    my_dict['name'].append(name_value)"
   ]
  }
 ],
 "metadata": {
  "anaconda-cloud": {},
  "kernelspec": {
   "display_name": "Python 3",
   "language": "python",
   "name": "python3"
  },
  "language_info": {
   "codemirror_mode": {
    "name": "ipython",
    "version": 3
   },
   "file_extension": ".py",
   "mimetype": "text/x-python",
   "name": "python",
   "nbconvert_exporter": "python",
   "pygments_lexer": "ipython3",
   "version": "3.8.8"
  }
 },
 "nbformat": 4,
 "nbformat_minor": 4
}
