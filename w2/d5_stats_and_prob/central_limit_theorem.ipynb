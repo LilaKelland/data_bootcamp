{
 "cells": [
  {
   "cell_type": "code",
   "execution_count": 1,
   "id": "65c34f23-a6e3-4047-a454-1bc2e6f8ff67",
   "metadata": {},
   "outputs": [],
   "source": [
    "# Central limit therom"
   ]
  },
  {
   "cell_type": "code",
   "execution_count": 3,
   "id": "daf53fda-4043-4d87-993d-8576834be01e",
   "metadata": {},
   "outputs": [
    {
     "name": "stdout",
     "output_type": "stream",
     "text": [
      "[6 4 5 1 2 4 6 1 1 2 5 6 5 2 3 5 6 3 5 4 5 3 5 6 3 5 2 2 1 6 2 2 6 2 2 1 5\n",
      " 2 1 1 6 4 3 2 1 4 6 2 2 4]\n",
      "3.44\n"
     ]
    }
   ],
   "source": [
    "from numpy.random import seed\n",
    "from numpy.random import randint\n",
    "from numpy import mean\n",
    "# seed the random number generator\n",
    "seed(1)\n",
    "# generate a sample of die rolls\n",
    "rolls = randint(1, 7, 50)\n",
    "print(rolls)\n",
    "print(mean(rolls))"
   ]
  },
  {
   "cell_type": "code",
   "execution_count": 4,
   "id": "7d8dbde7-6012-4491-9fd8-8337f677be95",
   "metadata": {},
   "outputs": [
    {
     "data": {
      "image/png": "[encoded data removed]",
      "text/plain": [
       "<Figure size 432x288 with 1 Axes>"
      ]
     },
     "metadata": {
      "needs_background": "light"
     },
     "output_type": "display_data"
    }
   ],
   "source": [
    "from numpy.random import seed\n",
    "from numpy.random import randint\n",
    "from numpy import mean\n",
    "from matplotlib import pyplot\n",
    "# seed the random number generator\n",
    "seed(1)\n",
    "# calculate the mean of 50 dice rolls 1000 times\n",
    "means = [mean(randint(1, 7, 50)) for _ in range(1000)]\n",
    "# plot the distribution of sample means\n",
    "pyplot.hist(means)\n",
    "pyplot.show()"
   ]
  },
  {
   "cell_type": "markdown",
   "id": "91d479df-d86c-47d6-a38e-ec45695fa6fe",
   "metadata": {},
   "source": [
    "#### Significance Tests"
   ]
  },
  {
   "cell_type": "markdown",
   "id": "e4710438-c5a6-4857-8be9-504940aef26a",
   "metadata": {},
   "source": [
    "\n",
    "In order to make inferences about the skill of a model compared to the skill of another model, we must use tools such as statistical significance tests.\n",
    "\n",
    "These tools estimate the likelihood that the two samples of model skill scores were drawn from the same or a different unknown underlying distribution of model skill scores. If it looks like the samples were drawn from the same population, then no difference between the models skill is assumed, and any actual differences are due to statistical noise.\n",
    "\n",
    "The ability to make inference claims like this is due to the central limit theorem and our knowledge of the Gaussian distribution and how likely the two sample means are to be a part of the same Gaussian distribution of sample means"
   ]
  },
  {
   "cell_type": "markdown",
   "id": "9694ed6b-dedd-45c3-914e-410abceb849d",
   "metadata": {},
   "source": [
    "#### Confidence Intervals"
   ]
  },
  {
   "cell_type": "markdown",
   "id": "a8b89b39-1687-48d6-adb3-ec673b39aed0",
   "metadata": {},
   "source": [
    "\n",
    "Once we have trained a final model, we may wish to make an inference about how skillful the model is expected to be in practice.\n",
    "\n",
    "The presentation of this uncertainty is called a confidence interval.\n",
    "\n",
    "We can develop multiple independent (or close to independent) evaluations of a model accuracy to result in a population of candidate skill estimates. The mean of these skill estimates will be an estimate (with error) of the true underlying estimate of the model skill on the problem.\n",
    "\n",
    "With knowledge that the sample mean will be a part of a Gaussian distribution from the central limit theorem, we can use knowledge of the Gaussian distribution to estimate the likelihood of the sample mean based on the sample size and calculate an interval of desired confidence around the skill of the model."
   ]
  },
  {
   "cell_type": "code",
   "execution_count": null,
   "id": "44ce5b1f-428b-4043-b31c-375ec4a43420",
   "metadata": {},
   "outputs": [],
   "source": []
  }
 ],
 "metadata": {
  "kernelspec": {
   "display_name": "Python 3",
   "language": "python",
   "name": "python3"
  },
  "language_info": {
   "codemirror_mode": {
    "name": "ipython",
    "version": 3
   },
   "file_extension": ".py",
   "mimetype": "text/x-python",
   "name": "python",
   "nbconvert_exporter": "python",
   "pygments_lexer": "ipython3",
   "version": "3.8.8"
  }
 },
 "nbformat": 4,
 "nbformat_minor": 5
}
