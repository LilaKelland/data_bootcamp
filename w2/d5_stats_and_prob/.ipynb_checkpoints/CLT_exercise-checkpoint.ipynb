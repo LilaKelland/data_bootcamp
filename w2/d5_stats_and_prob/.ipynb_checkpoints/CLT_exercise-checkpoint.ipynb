{
 "cells": [
  {
   "cell_type": "markdown",
   "metadata": {},
   "source": [
    "## Central Limit Theorem Exercise"
   ]
  },
  {
   "cell_type": "code",
   "execution_count": 1,
   "metadata": {},
   "outputs": [],
   "source": [
    "import pandas as pd\n",
    "import numpy as np\n",
    "# package with hypothesis tests\n",
    "import scipy.stats as st\n",
    "import matplotlib.pyplot as plt"
   ]
  },
  {
   "cell_type": "code",
   "execution_count": 2,
   "metadata": {},
   "outputs": [
    {
     "name": "stderr",
     "output_type": "stream",
     "text": [
      "<ipython-input-2-d81c76f663d7>:13: UserWarning: Matplotlib is currently using module://ipykernel.pylab.backend_inline, which is a non-GUI backend, so cannot show the figure.\n",
      "  fig.show();\n"
     ]
    },
    {
     "data": {
      "image/png": "[encoded data removed]",
      "text/plain": [
       "<Figure size 1008x360 with 2 Axes>"
      ]
     },
     "metadata": {
      "needs_background": "light"
     },
     "output_type": "display_data"
    }
   ],
   "source": [
    "#\n",
    "uniform = np.random.rand(10000)\n",
    "normal = np.random.randn(10000)\n",
    "\n",
    "fig = plt.figure(figsize=(14,5))\n",
    "ax1 = fig.add_subplot(1,2,1)\n",
    "ax2 = fig.add_subplot(1,2,2)\n",
    "ax1.hist(uniform, 20)\n",
    "ax1.set_title('Uniform data')\n",
    "ax2.hist(normal, 20)\n",
    "ax2.set_title('Normal data')\n",
    "fig.tight_layout()\n",
    "fig.show();"
   ]
  },
  {
   "cell_type": "markdown",
   "metadata": {},
   "source": [
    "### CLT - simulation"
   ]
  },
  {
   "cell_type": "markdown",
   "metadata": {},
   "source": [
    "### How many samples do we need to take, so that the distribution of means for these samples will pass the shapiro-wilk test for normality if the population is from a Uniform or a Normal distribution?\n",
    "\n",
    "+ Assume the population has 10,000 observation.\n",
    "+ Assume sample size is always 50.\n",
    "\n",
    "We will be suprised to see how fast the test passes for both distributions."
   ]
  },
  {
   "cell_type": "code",
   "execution_count": 38,
   "metadata": {},
   "outputs": [],
   "source": [
    "from scipy.stats import shapiro\n",
    "\n",
    "def check_normal(data):\n",
    "    stat, p = shapiro(data)\n",
    "    print('stat=%.3f, p=%.3f' % (stat, p))\n",
    "    if p > 0.05:\n",
    "        print('Probably Gaussian')\n",
    "    else:\n",
    "        print('Probably not Gaussian')"
   ]
  },
  {
   "cell_type": "code",
   "execution_count": 36,
   "metadata": {},
   "outputs": [],
   "source": [
    "u_samp = np.random.rand(50)\n",
    "n_samp = np.random.randn(50)"
   ]
  },
  {
   "cell_type": "code",
   "execution_count": 39,
   "metadata": {},
   "outputs": [],
   "source": [
    "def get_uniform_mean_set(num_sample_sets):\n",
    "    uniform_means = []\n",
    "    for i in range(num_sample_sets):\n",
    "        u_samp = np.random.rand(50)\n",
    "        uniform_means.append(u_samp.mean())\n",
    "    return(uniform_means)"
   ]
  },
  {
   "cell_type": "code",
   "execution_count": 41,
   "metadata": {},
   "outputs": [
    {
     "name": "stdout",
     "output_type": "stream",
     "text": [
      "stat=0.984, p=0.761\n",
      "Probably Gaussian\n"
     ]
    }
   ],
   "source": [
    "check_normal(get_uniform_mean_set(3))"
   ]
  },
  {
   "cell_type": "code",
   "execution_count": 44,
   "metadata": {},
   "outputs": [],
   "source": [
    "def get_normal_mean_set(num_sample_sets):\n",
    "    normal_means = []\n",
    "    for i in range(num_sample_sets):\n",
    "        n_samp = np.random.randn(50)\n",
    "        normal_means.append(n_samp.mean())\n",
    "    return(normal_means)"
   ]
  },
  {
   "cell_type": "code",
   "execution_count": 45,
   "metadata": {},
   "outputs": [
    {
     "name": "stdout",
     "output_type": "stream",
     "text": [
      "stat=0.809, p=0.136\n",
      "Probably Gaussian\n"
     ]
    }
   ],
   "source": [
    "check_normal(get_normal_mean_set(3))"
   ]
  },
  {
   "cell_type": "code",
   "execution_count": 24,
   "metadata": {},
   "outputs": [],
   "source": []
  },
  {
   "cell_type": "code",
   "execution_count": 30,
   "metadata": {},
   "outputs": [],
   "source": []
  },
  {
   "cell_type": "code",
   "execution_count": null,
   "metadata": {},
   "outputs": [],
   "source": []
  },
  {
   "cell_type": "code",
   "execution_count": null,
   "metadata": {},
   "outputs": [],
   "source": []
  },
  {
   "cell_type": "code",
   "execution_count": null,
   "metadata": {},
   "outputs": [],
   "source": []
  },
  {
   "cell_type": "code",
   "execution_count": null,
   "metadata": {},
   "outputs": [],
   "source": []
  },
  {
   "cell_type": "code",
   "execution_count": null,
   "metadata": {},
   "outputs": [],
   "source": [
    "# # Shapiro-Wilk Test\n",
    "# from numpy.random import seed\n",
    "# from numpy.random import randn\n",
    "# from scipy.stats import shapiro\n",
    "# # seed the random number generator\n",
    "# seed(1)\n",
    "# # generate univariate observations\n",
    "# data = 5 * randn(100) + 50\n",
    "# # normality test\n",
    "# stat, p = shapiro(data)\n",
    "# print('Statistics=%.3f, p=%.3f' % (stat, p))\n",
    "# # interpret\n",
    "# alpha = 0.05\n",
    "# if p > alpha:\n",
    "# \tprint('Sample looks Gaussian (fail to reject H0)')\n",
    "# else:\n",
    "# \tprint('Sample does not look Gaussian (reject H0)')\n"
   ]
  }
 ],
 "metadata": {
  "kernelspec": {
   "display_name": "Python 3",
   "language": "python",
   "name": "python3"
  },
  "language_info": {
   "codemirror_mode": {
    "name": "ipython",
    "version": 3
   },
   "file_extension": ".py",
   "mimetype": "text/x-python",
   "name": "python",
   "nbconvert_exporter": "python",
   "pygments_lexer": "ipython3",
   "version": "3.8.8"
  }
 },
 "nbformat": 4,
 "nbformat_minor": 4
}
