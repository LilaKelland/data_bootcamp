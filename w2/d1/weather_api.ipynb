{
 "cells": [
  {
   "cell_type": "code",
   "execution_count": null,
   "id": "b02e709b-506f-497f-9561-4b5412635abc",
   "metadata": {},
   "outputs": [],
   "source": [
    "import os\n",
    "import json \n",
    "import "
   ]
  },
  {
   "cell_type": "code",
   "execution_count": null,
   "id": "82107a8e-76ee-49f2-a231-981bf8c0cf0b",
   "metadata": {},
   "outputs": [],
   "source": [
    "# base_url = https://api.worldweatheronline.com/premium/v1/past-weather.ashx\n",
    "# location = q=45.6387,-122.6615 #(Vacouver  (lon=-122.6615; lat=45.6387))\n",
    "# date = date=2020-12-24\n",
    "# format (optional) = format=json\n",
    "# key = WWO_API_KEY \n",
    "# key = key=<your api key>\n",
    "\n",
    "# https://api.worldweatheronline.com/premium/v1/past-weather.ashx?q=45.6387,-122.6615&date=2020-12-24&format=json&key=key\n",
    "api_key = os.environ[\"WWO_API_KEY\"] "
   ]
  },
  {
   "cell_type": "code",
   "execution_count": null,
   "id": "905d0112-75b3-4046-9ad0-7934ce00ebb4",
   "metadata": {},
   "outputs": [],
   "source": [
    "# historical documentation \n",
    "# https://www.worldweatheronline.com/developer/api/docs/historical-weather-api.aspx\n",
    "# https://www.worldweatheronline.com/developer/my/#"
   ]
  }
 ],
 "metadata": {
  "kernelspec": {
   "display_name": "Python 3",
   "language": "python",
   "name": "python3"
  },
  "language_info": {
   "codemirror_mode": {
    "name": "ipython",
    "version": 3
   },
   "file_extension": ".py",
   "mimetype": "text/x-python",
   "name": "python",
   "nbconvert_exporter": "python",
   "pygments_lexer": "ipython3",
   "version": "3.8.8"
  }
 },
 "nbformat": 4,
 "nbformat_minor": 5
}
