{
 "cells": [
  {
   "cell_type": "markdown",
   "metadata": {},
   "source": [
    "# Libraries"
   ]
  },
  {
   "cell_type": "code",
   "execution_count": 5,
   "metadata": {},
   "outputs": [],
   "source": [
    "import re"
   ]
  },
  {
   "cell_type": "markdown",
   "metadata": {},
   "source": [
    "# Load article\n",
    "\n",
    "Download the text from [**here**](https://drive.google.com/file/d/1PEUMaDaPye5pxlA-SZTsnZ4k7WSzdLLe/view?usp=sharing) and load it into python using the following code snippet."
   ]
  },
  {
   "cell_type": "code",
   "execution_count": 4,
   "metadata": {},
   "outputs": [],
   "source": [
    "# Load lines into list\n",
    "filename = 'Article.txt'\n",
    "with open(filename, encoding='utf-8') as f:\n",
    "    lines = f.readlines()"
   ]
  },
  {
   "cell_type": "markdown",
   "metadata": {},
   "source": [
    "# Tasks"
   ]
  },
  {
   "cell_type": "markdown",
   "metadata": {},
   "source": [
    "### Print the first 20 lines of article"
   ]
  },
  {
   "cell_type": "code",
   "execution_count": 4,
   "metadata": {},
   "outputs": [
    {
     "data": {
      "text/plain": [
       "['How To Start When You’ve Procrastinated On Your Goals For Too Long\\n',\n",
       " '\\n',\n",
       " 'As you are reading this, you probably have a goal on your own, that you’ve pushed, postponed, procrastinated on, and other words that start with P, for days, weeks, months, or even years.\\n',\n",
       " '\\n',\n",
       " 'Not only that, but you’ve reached the point where even the thought of the goal, brings the feeling of having butterflies in your stomach. Demon butterflies.\\n',\n",
       " '\\n',\n",
       " 'Hopefully, today is the day you will break the chain as well.\\n',\n",
       " '\\n',\n",
       " 'Let me help you with that.\\n',\n",
       " '\\n',\n",
       " 'First, the explanation.\\n',\n",
       " 'In the beginning, when we set the goal, we feel usually motivated, for about a day. As each additional day passes, the resistance starts to grow.\\n',\n",
       " '\\n',\n",
       " 'As more time passes by, we feel more overwhelmed, especially if we have attempted to start several times, and failed. It stacks up, but in a wrong direction.\\n',\n",
       " '\\n',\n",
       " 'The biggest problem in this scenario is that we think of the sheer size of the goal, or to be more accurate, the list of the activities we need to do, and how much time it will take us to do them all.\\n',\n",
       " '\\n',\n",
       " 'We think about the big picture.\\n',\n",
       " '\\n',\n",
       " 'There is nothing wrong with the big picture, on the contrary, we need it, but in the beginning, when it’s the planning phase.\\n']"
      ]
     },
     "execution_count": 4,
     "metadata": {},
     "output_type": "execute_result"
    }
   ],
   "source": [
    "lines[:20]"
   ]
  },
  {
   "cell_type": "code",
   "execution_count": 50,
   "metadata": {},
   "outputs": [],
   "source": [
    "# len(lines)\n",
    "# for i in range(len(lines)):\n",
    "#     print(lines[i])"
   ]
  },
  {
   "cell_type": "code",
   "execution_count": null,
   "metadata": {},
   "outputs": [],
   "source": [
    "# def find_matches(pattern):\n",
    "#     regex = re.compile(pattern)\n",
    "#     for i in range(len(lines)):\n",
    "#         matches = regex.finditer(lines[i])\n",
    "#         for match in matches:\n",
    "#             print(match)"
   ]
  },
  {
   "cell_type": "code",
   "execution_count": 6,
   "metadata": {},
   "outputs": [],
   "source": [
    "def find_matches(string):\n",
    "    pattern = re.compile(string)\n",
    "\n",
    "    for i in range(len(lines)):\n",
    "        line = lines[i]\n",
    "        matches = pattern.finditer(line)\n",
    "\n",
    "        is_matched = False\n",
    "        for match in matches:\n",
    "            is_matched = True\n",
    "        if is_matched:\n",
    "            print(i, line)\n",
    "            \n",
    "#         print(sentence[17:20])"
   ]
  },
  {
   "cell_type": "code",
   "execution_count": 34,
   "metadata": {},
   "outputs": [],
   "source": []
  },
  {
   "cell_type": "code",
   "execution_count": 1,
   "metadata": {},
   "outputs": [],
   "source": [
    "# find_matches(r'q')"
   ]
  },
  {
   "cell_type": "code",
   "execution_count": 44,
   "metadata": {},
   "outputs": [],
   "source": []
  },
  {
   "cell_type": "markdown",
   "metadata": {},
   "source": [
    "## Print out every line from the file that..."
   ]
  },
  {
   "cell_type": "markdown",
   "metadata": {},
   "source": [
    "... that has 'q'"
   ]
  },
  {
   "cell_type": "code",
   "execution_count": 73,
   "metadata": {},
   "outputs": [
    {
     "name": "stdout",
     "output_type": "stream",
     "text": [
      "29 If necessary, sacrifice the quality, and the quantity, for the sake of consistency.\n",
      "\n"
     ]
    }
   ],
   "source": [
    "find_matches(r'q')"
   ]
  },
  {
   "cell_type": "markdown",
   "metadata": {},
   "source": [
    "... that starts with 'H'"
   ]
  },
  {
   "cell_type": "code",
   "execution_count": 75,
   "metadata": {},
   "outputs": [
    {
     "name": "stdout",
     "output_type": "stream",
     "text": [
      "0 How To Start When You’ve Procrastinated On Your Goals For Too Long\n",
      "\n",
      "6 Hopefully, today is the day you will break the chain as well.\n",
      "\n"
     ]
    }
   ],
   "source": [
    "find_matches(r'^H')"
   ]
  },
  {
   "cell_type": "markdown",
   "metadata": {},
   "source": [
    "... that has 'wh'"
   ]
  },
  {
   "cell_type": "code",
   "execution_count": 81,
   "metadata": {},
   "outputs": [],
   "source": [
    "# find_matches(r'wh')"
   ]
  },
  {
   "cell_type": "markdown",
   "metadata": {},
   "source": [
    "... that has an 'q' or a 'Q'"
   ]
  },
  {
   "cell_type": "code",
   "execution_count": 77,
   "metadata": {},
   "outputs": [
    {
     "name": "stdout",
     "output_type": "stream",
     "text": [
      "29 If necessary, sacrifice the quality, and the quantity, for the sake of consistency.\n",
      "\n",
      "84 If necessary, sacrifice the Quality, and the Quantity, for the sake of CONSISTENCY.\n",
      "\n"
     ]
    }
   ],
   "source": [
    "find_matches(r'[qQ]')"
   ]
  },
  {
   "cell_type": "markdown",
   "metadata": {},
   "source": [
    "... that has a '*' in it"
   ]
  },
  {
   "cell_type": "code",
   "execution_count": 78,
   "metadata": {},
   "outputs": [
    {
     "name": "stdout",
     "output_type": "stream",
     "text": [
      "33 *******************************\n",
      "\n",
      "86 Even though it’s simple, it’s not easy *.\n",
      "\n"
     ]
    }
   ],
   "source": [
    "find_matches(r'\\*')"
   ]
  },
  {
   "cell_type": "markdown",
   "metadata": {},
   "source": [
    "... that has a '*' (star) in it"
   ]
  },
  {
   "cell_type": "code",
   "execution_count": 25,
   "metadata": {},
   "outputs": [],
   "source": [
    "# see above"
   ]
  },
  {
   "cell_type": "markdown",
   "metadata": {},
   "source": [
    "... that starts with an 'T' or an 't'"
   ]
  },
  {
   "cell_type": "code",
   "execution_count": 80,
   "metadata": {},
   "outputs": [],
   "source": [
    "# find_matches(r'[tT]')"
   ]
  },
  {
   "cell_type": "markdown",
   "metadata": {},
   "source": [
    "... that starts with number"
   ]
  },
  {
   "cell_type": "code",
   "execution_count": 82,
   "metadata": {},
   "outputs": [
    {
     "name": "stdout",
     "output_type": "stream",
     "text": [
      "32 1. Extract The Lessons\n",
      "\n",
      "42 2. Stop Beating On Yourself\n",
      "\n",
      "53 3. Re-evaluate Your Direction\n",
      "\n",
      "70 4. Make A New Plan\n",
      "\n",
      "77 5. … Act\n",
      "\n"
     ]
    }
   ],
   "source": [
    "find_matches(r'^\\d')"
   ]
  },
  {
   "cell_type": "markdown",
   "metadata": {},
   "source": [
    "... that has both 'a' and 'e'  and 'i' and 'o' and 'u' in it"
   ]
  },
  {
   "cell_type": "code",
   "execution_count": 42,
   "metadata": {},
   "outputs": [],
   "source": [
    "    a = re.compile(r'a')\n",
    "    e  = re.compile(r'e')\n",
    "    i = re.compile(r'i')\n",
    "\n",
    "    for i in range(len(lines)):\n",
    "        line = lines[i]\n",
    "        matches = pattern.finditer(a | e | i)\n",
    "\n",
    "        is_matched = False\n",
    "        for match in matches:\n",
    "            is_matched = True\n",
    "        if is_matched:\n",
    "            print(i, line)\n",
    "            \n",
    "# ********* nested loups? narrow down subset of results for each letter"
   ]
  },
  {
   "cell_type": "code",
   "execution_count": 40,
   "metadata": {},
   "outputs": [],
   "source": [
    "# find_matches(r'.*[aeiou].*[aeiou].*')"
   ]
  },
  {
   "cell_type": "markdown",
   "metadata": {},
   "source": [
    "... that has an 'a' and somewhere later an 'e'"
   ]
  },
  {
   "cell_type": "code",
   "execution_count": 10,
   "metadata": {},
   "outputs": [],
   "source": [
    "# find_matches(r'.*a.*e')"
   ]
  },
  {
   "cell_type": "markdown",
   "metadata": {},
   "source": [
    "... that does not have an 'i'"
   ]
  },
  {
   "cell_type": "code",
   "execution_count": 17,
   "metadata": {},
   "outputs": [],
   "source": [
    "# find_matches(r'[^i]')"
   ]
  },
  {
   "cell_type": "markdown",
   "metadata": {},
   "source": [
    "... that does not have an 'i' nor 'z'"
   ]
  },
  {
   "cell_type": "code",
   "execution_count": 18,
   "metadata": {},
   "outputs": [],
   "source": [
    "# find_matches(r'[^i^z]')"
   ]
  },
  {
   "cell_type": "markdown",
   "metadata": {},
   "source": [
    "... that has an 'x' but not 'y'"
   ]
  },
  {
   "cell_type": "code",
   "execution_count": 92,
   "metadata": {},
   "outputs": [],
   "source": [
    "# find_matches(r'x[^y]')"
   ]
  },
  {
   "cell_type": "markdown",
   "metadata": {},
   "source": [
    "... that has at least 2 consecutive vowels (a, e, i, o, u) like in the word \"bear\""
   ]
  },
  {
   "cell_type": "code",
   "execution_count": 20,
   "metadata": {},
   "outputs": [],
   "source": [
    "# find_matches(r'[aeiou]{2}')"
   ]
  },
  {
   "cell_type": "markdown",
   "metadata": {},
   "source": [
    "... that has at least 3 vowels"
   ]
  },
  {
   "cell_type": "code",
   "execution_count": 45,
   "metadata": {},
   "outputs": [],
   "source": [
    "# find_matches(r'^(.*[aeuio].*){3,}$')"
   ]
  },
  {
   "cell_type": "markdown",
   "metadata": {},
   "source": [
    "... that has at least 30 characters"
   ]
  },
  {
   "cell_type": "code",
   "execution_count": 87,
   "metadata": {},
   "outputs": [],
   "source": [
    "# find_matches(r'.{30,}')"
   ]
  },
  {
   "cell_type": "markdown",
   "metadata": {},
   "source": [
    "... has the same word appear twice in the same line"
   ]
  },
  {
   "cell_type": "code",
   "execution_count": 22,
   "metadata": {},
   "outputs": [],
   "source": [
    "find_matches(r'/(\\w+)\\.\\1/g')\n",
    "\n",
    "#******************\n",
    "# >>> p = re.compile(r'\\b(\\w+)\\s+\\1\\b')\n",
    "# >>> p.search('Paris in the the spring').group()\n",
    "# 'the the'"
   ]
  },
  {
   "cell_type": "markdown",
   "metadata": {},
   "source": [
    "## Print all the words"
   ]
  },
  {
   "cell_type": "code",
   "execution_count": 51,
   "metadata": {},
   "outputs": [],
   "source": [
    "\n",
    "def find_words(string):\n",
    "    pattern = re.compile(string)\n",
    "\n",
    "    for i in range(len(lines)):\n",
    "        line = lines[i]\n",
    "        matches = pattern.findall(line)\n",
    "\n",
    "        for match in matches:\n",
    "            print(i, match)\n",
    "            \n",
    "#         print(sentence[17:20])"
   ]
  },
  {
   "cell_type": "markdown",
   "metadata": {},
   "source": [
    "Words with either 'Bar' or 'Baz' in them"
   ]
  },
  {
   "cell_type": "code",
   "execution_count": 96,
   "metadata": {},
   "outputs": [],
   "source": [
    "find_words(r'\\w*Ba[rz]\\w*')"
   ]
  },
  {
   "cell_type": "markdown",
   "metadata": {},
   "source": [
    "Words with either 'Whe' or 'The' in them"
   ]
  },
  {
   "cell_type": "code",
   "execution_count": 95,
   "metadata": {},
   "outputs": [
    {
     "name": "stdout",
     "output_type": "stream",
     "text": [
      "0 When\n",
      "15 The\n",
      "19 There\n",
      "32 The\n",
      "36 These\n",
      "51 The\n",
      "75 When\n"
     ]
    }
   ],
   "source": [
    "find_words(r'\\w*[TW]he\\w*')"
   ]
  },
  {
   "cell_type": "code",
   "execution_count": null,
   "metadata": {},
   "outputs": [],
   "source": []
  },
  {
   "cell_type": "markdown",
   "metadata": {},
   "source": [
    "Words containing a double character (e.g. 'oo')"
   ]
  },
  {
   "cell_type": "code",
   "execution_count": 57,
   "metadata": {},
   "outputs": [
    {
     "name": "stdout",
     "output_type": "stream",
     "text": [
      "0 Too\n",
      "23 cooler\n",
      "34 Look\n",
      "38 food\n",
      "40 good\n",
      "49 cooler\n",
      "54 look\n",
      "56 too\n",
      "78 choose\n",
      "88 too\n"
     ]
    }
   ],
   "source": [
    "find_words(r'\\w*oo\\w*')"
   ]
  },
  {
   "cell_type": "markdown",
   "metadata": {},
   "source": [
    "## Cleanup string codes so they contain only numbers\n",
    "* Remove slash and spaces"
   ]
  },
  {
   "cell_type": "code",
   "execution_count": null,
   "metadata": {},
   "outputs": [],
   "source": []
  },
  {
   "cell_type": "code",
   "execution_count": 81,
   "metadata": {},
   "outputs": [
    {
     "name": "stdout",
     "output_type": "stream",
     "text": [
      "['23738293', ' 82923428263', '12903820 ', '820318402342 ']\n"
     ]
    }
   ],
   "source": [
    "codes = ['2373/ 8293', \n",
    "         ' 8292342 / 8263', \n",
    "         '12/903820 ',\n",
    "         '8203184 / 02342 ']\n",
    "pattern = re.compile(r'(\\d+)(\\s?/\\s?)(\\d+)')\n",
    "\n",
    "no_space_codes = []\n",
    "for i in range(len(codes)):\n",
    "    \n",
    "    matches = pattern.finditer(codes[i])\n",
    "    for match in matches:\n",
    "#         print(match.group(1))\n",
    "#         print(\"group 0\",match.group(1))\n",
    "#         print(\"group 1\", match.group(2))\n",
    "        no_space_codes.append(pattern.sub(r'\\1\\3', codes[i]))\n",
    "print(no_space_codes)"
   ]
  },
  {
   "cell_type": "code",
   "execution_count": 71,
   "metadata": {},
   "outputs": [],
   "source": [
    "# codes = ['2373/ 8293', \n",
    "#          ' 8292342 / 8263', \n",
    "#          '12/903820 ',\n",
    "#          '8203184 / 02342 ']\n",
    "\n",
    "# x=[]\n",
    "# for i in range(len(codes)):\n",
    "    \n",
    "#     x.append(re.sub(\"\\s\", \"\", codes[i]))"
   ]
  },
  {
   "cell_type": "code",
   "execution_count": 74,
   "metadata": {},
   "outputs": [],
   "source": [
    "# # x\n",
    "# y=[]\n",
    "# for i in range(len(y)):\n",
    "    \n",
    "#     y.append(re.sub(\"/\", \"\", y[i]))"
   ]
  },
  {
   "cell_type": "code",
   "execution_count": 75,
   "metadata": {},
   "outputs": [
    {
     "data": {
      "text/plain": [
       "[]"
      ]
     },
     "execution_count": 75,
     "metadata": {},
     "output_type": "execute_result"
    }
   ],
   "source": [
    "y"
   ]
  },
  {
   "cell_type": "markdown",
   "metadata": {},
   "source": [
    "## Switch order of the numbers in string\n",
    "* Preserve slash /\n",
    "* Remove spaces"
   ]
  },
  {
   "cell_type": "code",
   "execution_count": 82,
   "metadata": {},
   "outputs": [],
   "source": [
    "codes = ['2373/ 8293', \n",
    "         ' 8292342 / 8263', \n",
    "         '12/903820 ',\n",
    "         '8203184 / 02342 ']\n",
    "pattern = re.compile(r'(\\d+)(\\s?/\\s?)(\\d+)')\n",
    "\n",
    "reverse_code = []\n",
    "for i in range(len(codes)):\n",
    "    \n",
    "    matches = pattern.finditer(codes[i])\n",
    "    for match in matches:\n",
    "#         print(match.group(1))\n",
    "#         print(\"group 0\",match.group(1))\n",
    "#         print(\"group 1\", match.group(2))\n",
    "        reverse_code.append(pattern.sub(r'\\3/\\1', codes[i]))\n",
    "    "
   ]
  },
  {
   "cell_type": "code",
   "execution_count": 83,
   "metadata": {},
   "outputs": [
    {
     "data": {
      "text/plain": [
       "['8293/2373', ' 8263/8292342', '903820/12 ', '02342/8203184 ']"
      ]
     },
     "execution_count": 83,
     "metadata": {},
     "output_type": "execute_result"
    }
   ],
   "source": [
    "reverse_code"
   ]
  },
  {
   "cell_type": "code",
   "execution_count": null,
   "metadata": {},
   "outputs": [],
   "source": []
  },
  {
   "cell_type": "code",
   "execution_count": 61,
   "metadata": {},
   "outputs": [],
   "source": [
    "# codes = ['2373/ 8293', \n",
    "#          ' 8292342 / 8263', \n",
    "#          '12/903820 ',\n",
    "#          '8203184 / 02342 ']\n",
    "\n",
    "# regex = r'((\\d+)(\\d*))'"
   ]
  },
  {
   "cell_type": "code",
   "execution_count": 84,
   "metadata": {},
   "outputs": [],
   "source": [
    "# reverse_codes = []\n",
    "# for i in range(len(codes)):\n",
    "#     reverse_codes[i] = re.sub(regex,r'\\1/ r\\0',codes[i])\n",
    "\n"
   ]
  },
  {
   "cell_type": "code",
   "execution_count": 12,
   "metadata": {},
   "outputs": [
    {
     "name": "stdout",
     "output_type": "stream",
     "text": [
      "24 of June, 9 of August, 12 of Dec\n"
     ]
    }
   ],
   "source": [
    "# import re\n",
    "# # Lets try and reverse the order of the day and month in a date \n",
    "# # string. Notice how the replacement string also contains metacharacters\n",
    "# # (the back references to the captured groups) so we use a raw \n",
    "# # string for that as well.\n",
    "# regex = r\"([a-zA-Z]+) (\\d+)\"\n",
    "\n",
    "# # This will reorder the string and print:\n",
    "# #   24 of June, 9 of August, 12 of Dec\n",
    "# print(re.sub(regex, r\"\\2 of \\1\", \"June 24, August 9, Dec 12\"))"
   ]
  },
  {
   "cell_type": "code",
   "execution_count": null,
   "metadata": {},
   "outputs": [],
   "source": []
  }
 ],
 "metadata": {
  "kernelspec": {
   "display_name": "Python 3",
   "language": "python",
   "name": "python3"
  },
  "language_info": {
   "codemirror_mode": {
    "name": "ipython",
    "version": 3
   },
   "file_extension": ".py",
   "mimetype": "text/x-python",
   "name": "python",
   "nbconvert_exporter": "python",
   "pygments_lexer": "ipython3",
   "version": "3.8.8"
  }
 },
 "nbformat": 4,
 "nbformat_minor": 4
}
