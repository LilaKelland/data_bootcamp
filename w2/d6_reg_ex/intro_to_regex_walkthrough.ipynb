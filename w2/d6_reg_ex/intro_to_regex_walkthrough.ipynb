{
 "cells": [
  {
   "cell_type": "code",
   "execution_count": 1,
   "id": "e02b8ba3-93e5-4866-a0d0-a0e91def8430",
   "metadata": {},
   "outputs": [],
   "source": [
    "# matchObject = re.search(pattern, input_str, flags=0)\n",
    "import re"
   ]
  },
  {
   "cell_type": "code",
   "execution_count": null,
   "id": "0de18c8a-5ae0-40f3-aa51-38c6cd120a88",
   "metadata": {},
   "outputs": [],
   "source": []
  },
  {
   "cell_type": "code",
   "execution_count": null,
   "id": "7d124040-e58e-4499-b683-9c654015fef4",
   "metadata": {},
   "outputs": [],
   "source": [
    "m = re.search('(?<=abc)def', 'abcdef')"
   ]
  },
  {
   "cell_type": "code",
   "execution_count": 2,
   "id": "36e5e2c5-d70c-47b0-ac4e-b5f46f022db7",
   "metadata": {},
   "outputs": [
    {
     "data": {
      "text/plain": [
       "'def'"
      ]
     },
     "execution_count": 2,
     "metadata": {},
     "output_type": "execute_result"
    }
   ],
   "source": [
    "m.group(0)"
   ]
  },
  {
   "cell_type": "code",
   "execution_count": 3,
   "id": "79339d17-662f-4479-b775-05e703d5d50e",
   "metadata": {},
   "outputs": [
    {
     "data": {
      "text/plain": [
       "'egg'"
      ]
     },
     "execution_count": 3,
     "metadata": {},
     "output_type": "execute_result"
    }
   ],
   "source": [
    "m = re.search(r'(?<=-)\\w+', 'spam-egg')\n",
    "m.group(0)"
   ]
  },
  {
   "cell_type": "markdown",
   "id": "885f2456-499b-4f8f-b204-23d47f4fa3ab",
   "metadata": {},
   "source": [
    "## Matching a string"
   ]
  },
  {
   "cell_type": "code",
   "execution_count": 4,
   "id": "bb94c88c-b82b-42d7-82ec-a54d79dd485a",
   "metadata": {},
   "outputs": [
    {
     "name": "stdout",
     "output_type": "stream",
     "text": [
      "Match at index 0, 7\n",
      "Full match: June 24\n",
      "Month: June\n",
      "Day: 24\n"
     ]
    }
   ],
   "source": [
    "import re\n",
    "# Lets use a regular expression to match a date string. Ignore\n",
    "# the output since we are just testing if the regex matches.\n",
    "\n",
    "regex = r\"([a-zA-Z]+) (\\d+)\"\n",
    "if re.search(regex, \"June 24\"):\n",
    "    # Indeed, the expression \"([a-zA-Z]+) (\\d+)\" matches the date string\n",
    "    \n",
    "    # If we want, we can use the MatchObject's start() and end() methods \n",
    "    # to retrieve where the pattern matches in the input string, and the \n",
    "    # group() method to get all the matches and captured groups.\n",
    "    match = re.search(regex, \"June 24\")\n",
    "    \n",
    "    # This will print [0, 7), since it matches at the beginning and end of the \n",
    "    # string\n",
    "    print(\"Match at index %s, %s\" % (match.start(), match.end()))\n",
    "    \n",
    "    # The groups contain the matched values.  In particular:\n",
    "    #    match.group(0) always returns the fully matched string\n",
    "    #    match.group(1), match.group(2), ... will return the capture\n",
    "    #            groups in order from left to right in the input string\n",
    "    #    match.group() is equivalent to match.group(0)\n",
    "    \n",
    "    # So this will print \"June 24\"\n",
    "    print(\"Full match: %s\" % (match.group(0)))\n",
    "    # So this will print \"June\"\n",
    "    print(\"Month: %s\" % (match.group(1)))\n",
    "    # So this will print \"24\"\n",
    "    print(\"Day: %s\" % (match.group(2)))\n",
    "else:\n",
    "    # If re.search() does not match, then None is returned\n",
    "    print(\"The regex pattern does not match. :(\")"
   ]
  },
  {
   "cell_type": "markdown",
   "id": "f4cb4e9d-1a61-4a97-a19a-ccb6c01d2931",
   "metadata": {},
   "source": [
    "## Capturing groups"
   ]
  },
  {
   "cell_type": "code",
   "execution_count": null,
   "id": "a6d0ed38-a872-41f9-bf72-212ad202c199",
   "metadata": {},
   "outputs": [],
   "source": [
    "# matchList = re.findall(pattern, input_str, flags=0)\n",
    "# matchList = re.finditer(pattern, input_str, flags=0)"
   ]
  },
  {
   "cell_type": "code",
   "execution_count": 5,
   "id": "731fb049-4144-4d06-bfeb-3afabd40dff6",
   "metadata": {},
   "outputs": [
    {
     "name": "stdout",
     "output_type": "stream",
     "text": [
      "Full match: June 24\n",
      "Full match: August 9\n",
      "Full match: Dec 12\n",
      "Match month: June\n",
      "Match month: August\n",
      "Match month: Dec\n",
      "Match at index: 0, 7\n",
      "Match at index: 9, 17\n",
      "Match at index: 19, 25\n"
     ]
    }
   ],
   "source": [
    "import re\n",
    "# Lets use a regular expression to match a few date strings.\n",
    "regex = r\"[a-zA-Z]+ \\d+\"\n",
    "matches = re.findall(regex, \"June 24, August 9, Dec 12\")\n",
    "for match in matches:\n",
    "    # This will print:\n",
    "    #   June 24\n",
    "    #   August 9\n",
    "    #   Dec 12\n",
    "    print(\"Full match: %s\" % (match))\n",
    "\n",
    "# To capture the specific months of each date we can use the following pattern\n",
    "regex = r\"([a-zA-Z]+) \\d+\"\n",
    "matches = re.findall(regex, \"June 24, August 9, Dec 12\")\n",
    "for match in matches:\n",
    "    # This will now print:\n",
    "    #   June\n",
    "    #   August\n",
    "    #   Dec\n",
    "    print(\"Match month: %s\" % (match))\n",
    "\n",
    "# If we need the exact positions of each match\n",
    "regex = r\"([a-zA-Z]+) \\d+\"\n",
    "matches = re.finditer(regex, \"June 24, August 9, Dec 12\")\n",
    "for match in matches:\n",
    "    # This will now print:\n",
    "    #   0 7\n",
    "    #   9 17\n",
    "    #   19 25\n",
    "    # which corresponds with the start and end of each match in the input string\n",
    "    print(\"Match at index: %s, %s\" % (match.start(), match.end()))"
   ]
  },
  {
   "cell_type": "markdown",
   "id": "65a7fab5-872f-463b-be5c-d543df5e8039",
   "metadata": {},
   "source": [
    "## Find Replace Strings"
   ]
  },
  {
   "cell_type": "code",
   "execution_count": 6,
   "id": "ff04502f-d9b7-4faa-bf67-03f1c3f26b53",
   "metadata": {},
   "outputs": [],
   "source": [
    "# replacedString = re.sub(pattern, replacement_pattern, input_str, count, flags=0)"
   ]
  },
  {
   "cell_type": "code",
   "execution_count": 10,
   "id": "d8508407-2d51-4e3a-9017-d02425df1e55",
   "metadata": {},
   "outputs": [
    {
     "name": "stdout",
     "output_type": "stream",
     "text": [
      "24 of June, 9 of August, 12 of Dec\n"
     ]
    }
   ],
   "source": [
    "import re\n",
    "# Lets try and reverse the order of the day and month in a date \n",
    "# string. Notice how the replacement string also contains metacharacters\n",
    "# (the back references to the captured groups) so we use a raw \n",
    "# string for that as well.\n",
    "regex = r\"([a-zA-Z]+) (\\d+)\"\n",
    "\n",
    "# This will reorder the string and print:\n",
    "#   24 of June, 9 of August, 12 of Dec\n",
    "print(re.sub(regex, r\"\\2 of \\1\", \"June 24, August 9, Dec 12\"))"
   ]
  },
  {
   "cell_type": "markdown",
   "id": "e3fbb0ef-8dd0-4618-b27b-4cc456208de8",
   "metadata": {},
   "source": [
    "## Flags"
   ]
  },
  {
   "cell_type": "code",
   "execution_count": 8,
   "id": "b200f486-987c-4935-bddf-3dc7ccad4505",
   "metadata": {},
   "outputs": [],
   "source": [
    "# regexObject = re.compile(pattern, flags=0)\n",
    "\n",
    "# re.IGNORECASE makes the pattern case insensitive so that it matches strings of different capitalizations\n",
    "# re.MULTILINE is necessary if your input string has newline characters (\\n), this flag allows the start and end metacharacter (^ and $ respectively) to match at the beginning and end of each line instead of at the beginning and end of the whole input string\n",
    "# re.DOTALL allows the dot (.) metacharacter match all characters, including the newline character"
   ]
  },
  {
   "cell_type": "code",
   "execution_count": 9,
   "id": "9dac690a-df3e-4dab-a4bb-bbb003b83412",
   "metadata": {},
   "outputs": [
    {
     "name": "stdout",
     "output_type": "stream",
     "text": [
      "0 11\n",
      "Hello\n",
      "Bonjour\n",
      "Hello Earth\n"
     ]
    }
   ],
   "source": [
    "import re\n",
    "# Lets create a pattern and extract some information with it\n",
    "regex = re.compile(r\"(\\w+) World\")\n",
    "result = regex.search(\"Hello World is the easiest\")\n",
    "if result:\n",
    "    # This will print:\n",
    "    #   0 11\n",
    "    # for the start and end of the match\n",
    "    print(result.start(), result.end())\n",
    "\n",
    "# This will print:\n",
    "#   Hello\n",
    "#   Bonjour\n",
    "# for each of the captured groups that matched\n",
    "for result in regex.findall(\"Hello World, Bonjour World\"):\n",
    "    print(result)\n",
    "\n",
    "# This will substitute \"World\" with \"Earth\" and print:\n",
    "#   Hello Earth\n",
    "print(regex.sub(r\"\\1 Earth\", \"Hello World\"))"
   ]
  },
  {
   "cell_type": "code",
   "execution_count": null,
   "id": "c9e195ca-a862-4a6b-bfc6-d4f7612f20e8",
   "metadata": {},
   "outputs": [],
   "source": []
  }
 ],
 "metadata": {
  "kernelspec": {
   "display_name": "Python 3",
   "language": "python",
   "name": "python3"
  },
  "language_info": {
   "codemirror_mode": {
    "name": "ipython",
    "version": 3
   },
   "file_extension": ".py",
   "mimetype": "text/x-python",
   "name": "python",
   "nbconvert_exporter": "python",
   "pygments_lexer": "ipython3",
   "version": "3.8.8"
  }
 },
 "nbformat": 4,
 "nbformat_minor": 5
}
