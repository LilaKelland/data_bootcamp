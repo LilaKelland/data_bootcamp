{
 "cells": [
  {
   "cell_type": "markdown",
   "metadata": {},
   "source": [
    "## Movies\n",
    "In this part of mini-project, we need to have our API-KEY ready because this API won't work without it.\n",
    "\n",
    "We encourage you to look for correct endpoints in [the documentation](https://developers.themoviedb.org/3/account). We can also play around with requests there before copying them to Python."
   ]
  },
  {
   "cell_type": "code",
   "execution_count": 1,
   "metadata": {},
   "outputs": [],
   "source": [
    "import requests\n",
    "import json\n",
    "import os"
   ]
  },
  {
   "cell_type": "markdown",
   "metadata": {},
   "source": [
    "## Demo"
   ]
  },
  {
   "cell_type": "code",
   "execution_count": 2,
   "metadata": {},
   "outputs": [],
   "source": [
    "\n",
    "\n",
    "base = \"https://api.themoviedb.org/3\"\n",
    "url = \"/search/movie\"\n",
    "\n",
    "query = 'titanic'\n",
    "api_key = os.environ[\"THE_MOVIE_DB_API_KEY\"] \n",
    "\n",
    "# example request https://api.themoviedb.org/3/movie/550?api_key=api_key\n",
    "\n",
    "\n",
    "# api_key = os.environ[\"<your api key name>\"]\n",
    "params = f'?query={query}&api_key={api_key}' "
   ]
  },
  {
   "cell_type": "code",
   "execution_count": 3,
   "metadata": {},
   "outputs": [],
   "source": [
    "res = requests.get(base+url+params)"
   ]
  },
  {
   "cell_type": "code",
   "execution_count": 4,
   "metadata": {},
   "outputs": [
    {
     "data": {
      "text/plain": [
       "200"
      ]
     },
     "execution_count": 4,
     "metadata": {},
     "output_type": "execute_result"
    }
   ],
   "source": [
    "res.status_code"
   ]
  },
  {
   "cell_type": "code",
   "execution_count": null,
   "metadata": {},
   "outputs": [],
   "source": [
    "# res.json()"
   ]
  },
  {
   "cell_type": "code",
   "execution_count": null,
   "metadata": {},
   "outputs": [],
   "source": []
  },
  {
   "cell_type": "code",
   "execution_count": null,
   "metadata": {},
   "outputs": [],
   "source": [
    "# https://developers.themoviedb.org/3/getting-started/search-and-query-for-details\n",
    "# https://developers.themoviedb.org/"
   ]
  },
  {
   "cell_type": "markdown",
   "metadata": {},
   "source": [
    "## Task\n",
    "Search for you favorite movie and return the information about the movie:\n",
    "- name\n",
    "- release date\n",
    "- runtime\n",
    "- revenue\n",
    "- length of the overview\n",
    "- number of votes\n",
    "- voting average"
   ]
  },
  {
   "cell_type": "code",
   "execution_count": 9,
   "metadata": {},
   "outputs": [],
   "source": [
    "def movie_db_search(url, query=''):\n",
    "    params = f'?query={query}&api_key={api_key}'\n",
    "    base = \"https://api.themoviedb.org/3\"\n",
    "    res = requests.get(base+url+params)\n",
    "    if res.status_code != 200:\n",
    "        print(\"Something's not quite right - please take a look\")\n",
    "    return(res.json())"
   ]
  },
  {
   "cell_type": "code",
   "execution_count": 34,
   "metadata": {},
   "outputs": [
    {
     "ename": "KeyError",
     "evalue": "'original_title'",
     "output_type": "error",
     "traceback": [
      "\u001b[0;31m---------------------------------------------------------------------------\u001b[0m",
      "\u001b[0;31mKeyError\u001b[0m                                  Traceback (most recent call last)",
      "\u001b[0;32m<ipython-input-34-60a2c76986c5>\u001b[0m in \u001b[0;36m<module>\u001b[0;34m\u001b[0m\n\u001b[1;32m      6\u001b[0m \u001b[0mresult\u001b[0m \u001b[0;34m=\u001b[0m \u001b[0mmovie_db_search\u001b[0m\u001b[0;34m(\u001b[0m\u001b[0murl\u001b[0m\u001b[0;34m,\u001b[0m \u001b[0mquery\u001b[0m\u001b[0;34m)\u001b[0m\u001b[0;34m\u001b[0m\u001b[0;34m\u001b[0m\u001b[0m\n\u001b[1;32m      7\u001b[0m \u001b[0;34m\u001b[0m\u001b[0m\n\u001b[0;32m----> 8\u001b[0;31m \u001b[0mname\u001b[0m \u001b[0;34m=\u001b[0m \u001b[0;34m(\u001b[0m\u001b[0mresult\u001b[0m\u001b[0;34m[\u001b[0m\u001b[0;34m'results'\u001b[0m\u001b[0;34m]\u001b[0m\u001b[0;34m[\u001b[0m\u001b[0;36m0\u001b[0m\u001b[0;34m]\u001b[0m\u001b[0;34m[\u001b[0m\u001b[0;34m'original_title'\u001b[0m\u001b[0;34m]\u001b[0m\u001b[0;34m)\u001b[0m\u001b[0;34m\u001b[0m\u001b[0;34m\u001b[0m\u001b[0m\n\u001b[0m\u001b[1;32m      9\u001b[0m \u001b[0mrelease_date\u001b[0m \u001b[0;34m=\u001b[0m\u001b[0;34m(\u001b[0m\u001b[0mresult\u001b[0m\u001b[0;34m[\u001b[0m\u001b[0;34m'results'\u001b[0m\u001b[0;34m]\u001b[0m\u001b[0;34m[\u001b[0m\u001b[0;36m0\u001b[0m\u001b[0;34m]\u001b[0m\u001b[0;34m[\u001b[0m\u001b[0;34m'release_date'\u001b[0m\u001b[0;34m]\u001b[0m\u001b[0;34m)\u001b[0m\u001b[0;34m\u001b[0m\u001b[0;34m\u001b[0m\u001b[0m\n\u001b[1;32m     10\u001b[0m \u001b[0mvote_count\u001b[0m\u001b[0;34m=\u001b[0m\u001b[0;34m(\u001b[0m\u001b[0mresult\u001b[0m\u001b[0;34m[\u001b[0m\u001b[0;34m'results'\u001b[0m\u001b[0;34m]\u001b[0m\u001b[0;34m[\u001b[0m\u001b[0;36m0\u001b[0m\u001b[0;34m]\u001b[0m\u001b[0;34m[\u001b[0m\u001b[0;34m'vote_count'\u001b[0m\u001b[0;34m]\u001b[0m\u001b[0;34m)\u001b[0m\u001b[0;34m\u001b[0m\u001b[0;34m\u001b[0m\u001b[0m\n",
      "\u001b[0;31mKeyError\u001b[0m: 'original_title'"
     ]
    }
   ],
   "source": [
    "# Get movie details from /search/movie results\n",
    "\n",
    "url = \"/search/movie\"\n",
    "query = 'mystery science theater 3000: The Movie'\n",
    "\n",
    "result = movie_db_search(url, query)\n",
    "\n",
    "name = (result['results'][0]['original_title'])\n",
    "release_date =(result['results'][0]['release_date'])\n",
    "vote_count=(result['results'][0]['vote_count'])\n",
    "voting_average=(result['results'][0]['vote_average'])\n",
    "movie_id = (result['results'][0]['id'])\n"
   ]
  },
  {
   "cell_type": "code",
   "execution_count": 17,
   "metadata": {},
   "outputs": [],
   "source": [
    "# Grab results remaining from /movie/{movie_id} \n",
    "\n",
    "id_result = movie_db_search(f'/movie/{movie_id}')\n",
    "\n",
    "runtime = (id_result['runtime'])\n",
    "revenue = (id_result['revenue'])\n",
    "release_date =(id_result[\"release_date\"])\n",
    "overview_length =(len(id_result['overview']))\n"
   ]
  },
  {
   "cell_type": "code",
   "execution_count": 18,
   "metadata": {},
   "outputs": [
    {
     "name": "stdout",
     "output_type": "stream",
     "text": [
      "Name: Mystery Science Theater 3000: The Movie\n",
      "Release date: 1996-04-19\n",
      "Runtime: 73 minutes\n",
      "Revenue: 0\n",
      "Length of overview: 404\n",
      "Number of votes: 150\n",
      "Voting average: 6.9\n"
     ]
    }
   ],
   "source": [
    "#Print results to the screen\n",
    "\n",
    "print(f'Name: {name}')\n",
    "print(f'Release date: {release_date}')\n",
    "print(f'Runtime: {runtime} minutes')\n",
    "print(f'Revenue: {revenue}') \n",
    "print(f'Length of overview: {overview_length}')\n",
    "print(f'Number of votes: {vote_count}')\n",
    "print(f'Voting average: {voting_average}')      \n",
    "      "
   ]
  },
  {
   "cell_type": "markdown",
   "metadata": {},
   "source": [
    "## Task\n",
    "Search for you favorite actor/actress and return the information about him/her:\n",
    "- name\n",
    "- date of birth\n",
    "- place of birth\n",
    "- length of the biography"
   ]
  },
  {
   "cell_type": "code",
   "execution_count": 20,
   "metadata": {},
   "outputs": [],
   "source": [
    "# https://api.themoviedb.org/3/search/person?query=Tina+Fey&api_key=6b2ea899891ba0dc3729d8fa38fd3a19\n",
    "\n",
    "query = 'Tina Fey'\n",
    "url = \"/search/person\"\n",
    "\n",
    "results = movie_db_search(url, query)\n",
    "\n",
    "# Parse data to find actor_id\n",
    "name = results[\"results\"][0][\"name\"]\n",
    "actor_id = results[\"results\"][0][\"id\"]\n"
   ]
  },
  {
   "cell_type": "code",
   "execution_count": 21,
   "metadata": {},
   "outputs": [],
   "source": [
    "# Use actor_id to find remaining info\n",
    "\n",
    "results = movie_db_search(f'/person/{actor_id}')\n",
    "\n",
    "date_of_birth = results[\"birthday\"]\n",
    "place_of_birth = results[\"place_of_birth\"]\n",
    "length_of_biography = len(results[\"biography\"])"
   ]
  },
  {
   "cell_type": "code",
   "execution_count": 22,
   "metadata": {},
   "outputs": [
    {
     "name": "stdout",
     "output_type": "stream",
     "text": [
      "Name:  Tina Fey\n",
      "Date of birth:  1970-05-18\n",
      "Place of birth:  Upper Darby, Pennsylvania, USA\n",
      "Biography length:  2005 words\n"
     ]
    }
   ],
   "source": [
    "#Print to Screen\n",
    "print(\"Name: \", name)\n",
    "print(\"Date of birth: \", date_of_birth)\n",
    "print(\"Place of birth: \", place_of_birth)\n",
    "print(\"Biography length: \", length_of_biography, \"words\")"
   ]
  },
  {
   "cell_type": "markdown",
   "metadata": {},
   "source": [
    "## Task\n",
    "Search for you favorite tv-show and return the information about it:\n",
    "- name\n",
    "- first air date\n",
    "- number of seasons\n",
    "- number of episodes\n",
    "- genres"
   ]
  },
  {
   "cell_type": "code",
   "execution_count": 24,
   "metadata": {},
   "outputs": [],
   "source": [
    "# Favouite TV show - Better of Ted\n",
    "\n",
    "query = 'better of ted'\n",
    "url = '/search/tv'\n",
    "result = movie_db_search(url, query)\n",
    "\n",
    "# Get the information from the \"/search/tv and grab tv_id'\n",
    "\n",
    "name = result[\"results\"][0][\"name\"]\n",
    "tv_id = result[\"results\"][0][\"id\"]\n",
    "first_air_date = result[\"results\"][0][\"first_air_date\"]\n"
   ]
  },
  {
   "cell_type": "code",
   "execution_count": 25,
   "metadata": {},
   "outputs": [],
   "source": [
    "# Get the remaining information using the /tv/{tv_id search'}\n",
    "\n",
    "result = movie_db_search(f'/tv/{tv_id}')\n",
    "\n",
    "number_of_seasons = result[\"number_of_seasons\"]\n",
    "number_of_episodes = result[\"number_of_episodes\"]\n",
    "genre = result[\"genres\"][0][\"name\"]\n"
   ]
  },
  {
   "cell_type": "code",
   "execution_count": 26,
   "metadata": {},
   "outputs": [
    {
     "name": "stdout",
     "output_type": "stream",
     "text": [
      "Name  Better Off Ted\n",
      "First air date:  2009-03-18\n",
      "Number of seasons:  2\n",
      "Number of episodes:  26\n",
      "Genre:  Comedy\n"
     ]
    }
   ],
   "source": [
    "# Display results\n",
    "\n",
    "print(\"Name \", name)\n",
    "print(\"First air date: \", first_air_date)\n",
    "print(\"Number of seasons: \", number_of_seasons)\n",
    "print(\"Number of episodes: \", number_of_episodes)\n",
    "print(\"Genre: \", genre)"
   ]
  },
  {
   "cell_type": "markdown",
   "metadata": {},
   "source": [
    "## Task \n",
    "Find top 5 trending:\n",
    "- movies\n",
    "- tv-shows\n",
    "- people"
   ]
  },
  {
   "cell_type": "code",
   "execution_count": 258,
   "metadata": {},
   "outputs": [],
   "source": [
    "# API parameters\n",
    "# url = '/trending/{media_type}/{time_window}'\n",
    "# time_window = [day,week]\n",
    "# media_type = [\"movie\", \"tv\", \"person\"]\n"
   ]
  },
  {
   "cell_type": "code",
   "execution_count": 27,
   "metadata": {},
   "outputs": [],
   "source": [
    "# Function for retieving trending media type for a given time window\n",
    "\n",
    "def get_trending(media_type, time_window):\n",
    "    return(movie_db_search(f'/trending/{media_type}/{time_window}'))"
   ]
  },
  {
   "cell_type": "code",
   "execution_count": 33,
   "metadata": {},
   "outputs": [
    {
     "name": "stdout",
     "output_type": "stream",
     "text": [
      "['Nightbooks', 'Candyman', 'My Son', 'Prisoners of the Ghostland', 'Schumacher']\n"
     ]
    }
   ],
   "source": [
    "trending_movies_day = []\n",
    "\n",
    "result = get_trending(\"movies\", \"day\")\n",
    "\n",
    "for i in range(5):\n",
    "    trending_movies_day.append(result[\"results\"][i][\"original_title\"])\n",
    "\n",
    "print(trending_movies_day)\n",
    "# https://api.themoviedb.org/3/trending/movies/day?api_key=6b2ea899891ba0dc3729d8fa38fd3a19"
   ]
  },
  {
   "cell_type": "code",
   "execution_count": 29,
   "metadata": {},
   "outputs": [
    {
     "name": "stdout",
     "output_type": "stream",
     "text": [
      "['La Casa de Papel', 'Malignant', 'Kate', 'Shang-Chi and the Legend of the Ten Rings', 'The Suicide Squad']\n"
     ]
    }
   ],
   "source": [
    "result = get_trending(\"movies\", \"week\")\n",
    "\n",
    "trending_movies_week = []\n",
    "for i in range(5):\n",
    "    try:\n",
    "        trending_movies_week.append(result[\"results\"][i][\"original_title\"])\n",
    "    except:\n",
    "        trending_movies_week.append(result[\"results\"][i][\"original_name\"])\n",
    "\n",
    "print(trending_movies_week)\n"
   ]
  },
  {
   "cell_type": "code",
   "execution_count": 30,
   "metadata": {},
   "outputs": [
    {
     "name": "stdout",
     "output_type": "stream",
     "text": [
      "['La Casa de Papel', 'What If...?', 'Y: The Last Man', 'He-Man and the Masters of the Universe', 'Lucifer']\n"
     ]
    }
   ],
   "source": [
    "result = get_trending(\"tv\", \"day\")\n",
    "\n",
    "trending_tv_day = []\n",
    "for i in range(5):\n",
    "    try:\n",
    "        trending_tv_day.append(result[\"results\"][i][\"original_title\"])\n",
    "    except:\n",
    "        trending_tv_day.append(result[\"results\"][i][\"original_name\"])\n",
    "    \n",
    "print(trending_tv_day)"
   ]
  },
  {
   "cell_type": "code",
   "execution_count": 31,
   "metadata": {},
   "outputs": [
    {
     "name": "stdout",
     "output_type": "stream",
     "text": [
      "['La Casa de Papel', 'What If...?', 'Lucifer', 'The Walking Dead', 'See']\n"
     ]
    }
   ],
   "source": [
    "result = get_trending(\"tv\", \"week\")\n",
    "\n",
    "trending_tv_week = []\n",
    "for i in range(5):\n",
    "    try:\n",
    "        trending_tv_week.append(result[\"results\"][i][\"original_title\"])\n",
    "    except:\n",
    "        trending_tv_week.append(result[\"results\"][i][\"original_name\"])\n",
    "    \n",
    "print(trending_tv_week)"
   ]
  },
  {
   "cell_type": "code",
   "execution_count": 32,
   "metadata": {},
   "outputs": [
    {
     "name": "stdout",
     "output_type": "stream",
     "text": [
      "['Jean-Paul Belmondo', 'Brad Pitt', 'Nicolas Cage', 'Tom Hanks', 'Jason Statham']\n"
     ]
    }
   ],
   "source": [
    "result = get_trending(\"person\", \"week\")\n",
    "\n",
    "trending_person_week = []\n",
    "for i in range(5):\n",
    "    try:\n",
    "        trending_person_week.append(result[\"results\"][i][\"name\"])\n",
    "    except:\n",
    "        trending_person_week.append(result[\"results\"][i][\"name\"])\n",
    "    \n",
    "print(trending_person_week)"
   ]
  },
  {
   "cell_type": "code",
   "execution_count": 272,
   "metadata": {},
   "outputs": [
    {
     "name": "stdout",
     "output_type": "stream",
     "text": [
      "['Tom Hanks', 'Jean-Paul Belmondo', 'Colin Farrell', 'James McAvoy', 'Nicolas Cage']\n"
     ]
    }
   ],
   "source": [
    "result = get_trending(\"person\", \"day\")\n",
    "\n",
    "trending_person_day = []\n",
    "for i in range(5):\n",
    "    try:\n",
    "        trending_person_day.append(result[\"results\"][i][\"name\"])\n",
    "    except:\n",
    "        trending_person_day.append(result[\"results\"][i][\"name\"])\n",
    "    \n",
    "print(trending_person_day)"
   ]
  }
 ],
 "metadata": {
  "kernelspec": {
   "display_name": "Python 3",
   "language": "python",
   "name": "python3"
  },
  "language_info": {
   "codemirror_mode": {
    "name": "ipython",
    "version": 3
   },
   "file_extension": ".py",
   "mimetype": "text/x-python",
   "name": "python",
   "nbconvert_exporter": "python",
   "pygments_lexer": "ipython3",
   "version": "3.8.8"
  }
 },
 "nbformat": 4,
 "nbformat_minor": 4
}
