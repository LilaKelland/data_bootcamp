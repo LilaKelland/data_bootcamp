{
 "cells": [
  {
   "cell_type": "code",
   "execution_count": 1,
   "id": "33eaab49-fd3a-428d-95e8-d1988578ae8f",
   "metadata": {},
   "outputs": [],
   "source": [
    "# If the webpage (HTML) has a table inside, we can easily extract it with Pandas and requests.\n",
    "import pandas as pd\n",
    "import requests"
   ]
  },
  {
   "cell_type": "code",
   "execution_count": 2,
   "id": "2a7e7549-9780-4293-b8a6-48b3c7352bb2",
   "metadata": {},
   "outputs": [
    {
     "data": {
      "text/plain": [
       "<Response [200]>"
      ]
     },
     "execution_count": 2,
     "metadata": {},
     "output_type": "execute_result"
    }
   ],
   "source": [
    "url = 'https://www.worldcoinindex.com/'\n",
    "crypto_url = requests.get(url)\n",
    "crypto_url"
   ]
  },
  {
   "cell_type": "code",
   "execution_count": 3,
   "id": "dd29fb67-0c15-4f35-988a-573fe327988c",
   "metadata": {},
   "outputs": [],
   "source": [
    "body = crypto_url.text"
   ]
  },
  {
   "cell_type": "code",
   "execution_count": 4,
   "id": "ca26194f-dde7-40d9-8390-de3690e54ccc",
   "metadata": {},
   "outputs": [
    {
     "name": "stdout",
     "output_type": "stream",
     "text": [
      "<class 'list'>\n",
      "1\n"
     ]
    }
   ],
   "source": [
    "# Body now consists of full HTML source code of our webpage. Now if the HTML source has a table which is marked by the HTML tag <table></table> \n",
    "# (this tag is used for defining a table in HTML) Pandas uses read_html() to extract the table from the HTML document.\n",
    "\n",
    "# *** Make sure has table to look nice in pandas\n",
    "\n",
    "crypto_data = pd.read_html(body)\n",
    "print(type(crypto_data))\n",
    "print(len(crypto_data))"
   ]
  },
  {
   "cell_type": "code",
   "execution_count": 5,
   "id": "46e62f05-d770-415a-8c9a-c64df704bc64",
   "metadata": {},
   "outputs": [
    {
     "data": {
      "text/html": [
       "<div>\n",
       "<style scoped>\n",
       "    .dataframe tbody tr th:only-of-type {\n",
       "        vertical-align: middle;\n",
       "    }\n",
       "\n",
       "    .dataframe tbody tr th {\n",
       "        vertical-align: top;\n",
       "    }\n",
       "\n",
       "    .dataframe thead th {\n",
       "        text-align: right;\n",
       "    }\n",
       "</style>\n",
       "<table border=\"1\" class=\"dataframe\">\n",
       "  <thead>\n",
       "    <tr style=\"text-align: right;\">\n",
       "      <th></th>\n",
       "      <th>#</th>\n",
       "      <th>Unnamed: 1</th>\n",
       "      <th>Name</th>\n",
       "      <th>Ticker</th>\n",
       "      <th>Last price</th>\n",
       "      <th>%</th>\n",
       "      <th>24 high</th>\n",
       "      <th>24 low</th>\n",
       "      <th>Price Charts 7d</th>\n",
       "      <th>24 volume</th>\n",
       "      <th># Coins</th>\n",
       "      <th>Market cap</th>\n",
       "    </tr>\n",
       "  </thead>\n",
       "  <tbody>\n",
       "    <tr>\n",
       "      <th>0</th>\n",
       "      <td>1</td>\n",
       "      <td>NaN</td>\n",
       "      <td>Bitcoin</td>\n",
       "      <td>BTC</td>\n",
       "      <td>$ 42,322</td>\n",
       "      <td>+4.07%</td>\n",
       "      <td>$ 42,742</td>\n",
       "      <td>$ 40,589</td>\n",
       "      <td>NaN</td>\n",
       "      <td>$ 21.51B</td>\n",
       "      <td>18.82M</td>\n",
       "      <td>$ 796.63B</td>\n",
       "    </tr>\n",
       "    <tr>\n",
       "      <th>1</th>\n",
       "      <td>2</td>\n",
       "      <td>NaN</td>\n",
       "      <td>Ethereum</td>\n",
       "      <td>ETH</td>\n",
       "      <td>$ 2,943.72</td>\n",
       "      <td>+6.66%</td>\n",
       "      <td>$ 2,972.54</td>\n",
       "      <td>$ 2,739.42</td>\n",
       "      <td>NaN</td>\n",
       "      <td>$ 16.12B</td>\n",
       "      <td>117.62M</td>\n",
       "      <td>$ 346.26B</td>\n",
       "    </tr>\n",
       "    <tr>\n",
       "      <th>2</th>\n",
       "      <td>3</td>\n",
       "      <td>NaN</td>\n",
       "      <td>Solana</td>\n",
       "      <td>SOL</td>\n",
       "      <td>$ 130.20</td>\n",
       "      <td>+5.02%</td>\n",
       "      <td>$ 133.94</td>\n",
       "      <td>$ 122.34</td>\n",
       "      <td>NaN</td>\n",
       "      <td>$ 3.89B</td>\n",
       "      <td>261.90M</td>\n",
       "      <td>$ 34.09B</td>\n",
       "    </tr>\n",
       "    <tr>\n",
       "      <th>3</th>\n",
       "      <td>4</td>\n",
       "      <td>NaN</td>\n",
       "      <td>Cardano</td>\n",
       "      <td>ADA</td>\n",
       "      <td>$ 2.12</td>\n",
       "      <td>+6.78%</td>\n",
       "      <td>$ 2.16</td>\n",
       "      <td>$ 1.97</td>\n",
       "      <td>NaN</td>\n",
       "      <td>$ 2.95B</td>\n",
       "      <td>31.94B</td>\n",
       "      <td>$ 67.70B</td>\n",
       "    </tr>\n",
       "    <tr>\n",
       "      <th>4</th>\n",
       "      <td>5</td>\n",
       "      <td>NaN</td>\n",
       "      <td>Ripple</td>\n",
       "      <td>XRP</td>\n",
       "      <td>$ 0.929559</td>\n",
       "      <td>+6.31%</td>\n",
       "      <td>$ 0.948456</td>\n",
       "      <td>$ 0.868113</td>\n",
       "      <td>NaN</td>\n",
       "      <td>$ 2.51B</td>\n",
       "      <td>46.71B</td>\n",
       "      <td>$ 43.42B</td>\n",
       "    </tr>\n",
       "  </tbody>\n",
       "</table>\n",
       "</div>"
      ],
      "text/plain": [
       "   # Unnamed: 1      Name Ticker  Last price       %     24 high      24 low  \\\n",
       "0  1        NaN   Bitcoin    BTC    $ 42,322  +4.07%    $ 42,742    $ 40,589   \n",
       "1  2        NaN  Ethereum    ETH  $ 2,943.72  +6.66%  $ 2,972.54  $ 2,739.42   \n",
       "2  3        NaN    Solana    SOL    $ 130.20  +5.02%    $ 133.94    $ 122.34   \n",
       "3  4        NaN   Cardano    ADA      $ 2.12  +6.78%      $ 2.16      $ 1.97   \n",
       "4  5        NaN    Ripple    XRP  $ 0.929559  +6.31%  $ 0.948456  $ 0.868113   \n",
       "\n",
       "  Price Charts 7d 24 volume  # Coins Market cap  \n",
       "0             NaN  $ 21.51B   18.82M  $ 796.63B  \n",
       "1             NaN  $ 16.12B  117.62M  $ 346.26B  \n",
       "2             NaN   $ 3.89B  261.90M   $ 34.09B  \n",
       "3             NaN   $ 2.95B   31.94B   $ 67.70B  \n",
       "4             NaN   $ 2.51B   46.71B   $ 43.42B  "
      ]
     },
     "execution_count": 5,
     "metadata": {},
     "output_type": "execute_result"
    }
   ],
   "source": [
    "# now know list with one element in it - so grab it all\n",
    "crypto_data = crypto_data[0]\n",
    "crypto_data.head()"
   ]
  },
  {
   "cell_type": "code",
   "execution_count": null,
   "id": "ec1f0875-48e1-46d2-8659-5ccd6f301356",
   "metadata": {},
   "outputs": [],
   "source": [
    "# if no table in html...\n",
    "# use Beautiful Soup\n",
    "\n",
    "# look at terms and condtions first before webscraping\n",
    "\n",
    "# consider cacheing and build pauses eg time.sleep() to keep from overwhelming servers with too many requests\n"
   ]
  },
  {
   "cell_type": "markdown",
   "id": "28b9e855-0fe4-4df0-877e-3365d828a7e5",
   "metadata": {},
   "source": [
    "## web scraping"
   ]
  },
  {
   "cell_type": "markdown",
   "id": "5e270351-76dd-41eb-9231-eb570d815051",
   "metadata": {},
   "source": [
    " tutorial found here: https://www.dataquest.io/blog/web-scraping-python-using-beautiful-soup/"
   ]
  },
  {
   "cell_type": "code",
   "execution_count": 6,
   "id": "9ebda0db-2dc9-408c-82db-b556c2aa8288",
   "metadata": {},
   "outputs": [
    {
     "data": {
      "text/plain": [
       "<Response [200]>"
      ]
     },
     "execution_count": 6,
     "metadata": {},
     "output_type": "execute_result"
    }
   ],
   "source": [
    "import requests\n",
    "page = requests.get(\"https://dataquestio.github.io/web-scraping-pages/simple.html\")\n",
    "page"
   ]
  },
  {
   "cell_type": "code",
   "execution_count": 7,
   "id": "ed161487-a0fa-445d-8d81-f28968e98f96",
   "metadata": {},
   "outputs": [
    {
     "data": {
      "text/plain": [
       "200"
      ]
     },
     "execution_count": 7,
     "metadata": {},
     "output_type": "execute_result"
    }
   ],
   "source": [
    "page.status_code"
   ]
  },
  {
   "cell_type": "code",
   "execution_count": 8,
   "id": "5ebea979-1819-4b22-8496-c1816daf6146",
   "metadata": {},
   "outputs": [
    {
     "data": {
      "text/plain": [
       "b'<!DOCTYPE html>\\n<html>\\n    <head>\\n        <title>A simple example page</title>\\n    </head>\\n    <body>\\n        <p>Here is some simple content for this page.</p>\\n    </body>\\n</html>'"
      ]
     },
     "execution_count": 8,
     "metadata": {},
     "output_type": "execute_result"
    }
   ],
   "source": [
    "page.content"
   ]
  },
  {
   "cell_type": "code",
   "execution_count": null,
   "id": "4100893e-977d-423a-9dc6-06872014e3dc",
   "metadata": {},
   "outputs": [],
   "source": [
    "# We can use the BeautifulSoup library to parse this document, and extract the text from the p tag."
   ]
  },
  {
   "cell_type": "code",
   "execution_count": 9,
   "id": "157f725e-34d9-48d0-9c2b-a6c84ff024bc",
   "metadata": {},
   "outputs": [],
   "source": [
    "from bs4 import BeautifulSoup\n",
    "soup = BeautifulSoup(page.content, 'html.parser')"
   ]
  },
  {
   "cell_type": "code",
   "execution_count": 10,
   "id": "2dea2eeb-8afc-40ef-ab6f-affd2b93a6c9",
   "metadata": {},
   "outputs": [
    {
     "name": "stdout",
     "output_type": "stream",
     "text": [
      "<!DOCTYPE html>\n",
      "<html>\n",
      " <head>\n",
      "  <title>\n",
      "   A simple example page\n",
      "  </title>\n",
      " </head>\n",
      " <body>\n",
      "  <p>\n",
      "   Here is some simple content for this page.\n",
      "  </p>\n",
      " </body>\n",
      "</html>\n"
     ]
    }
   ],
   "source": [
    "print(soup.prettify())"
   ]
  },
  {
   "cell_type": "code",
   "execution_count": 11,
   "id": "6e5d75f4-f473-488c-8891-bebf1fc4b4b2",
   "metadata": {},
   "outputs": [
    {
     "data": {
      "text/plain": [
       "['html',\n",
       " '\\n',\n",
       " <html>\n",
       " <head>\n",
       " <title>A simple example page</title>\n",
       " </head>\n",
       " <body>\n",
       " <p>Here is some simple content for this page.</p>\n",
       " </body>\n",
       " </html>]"
      ]
     },
     "execution_count": 11,
     "metadata": {},
     "output_type": "execute_result"
    }
   ],
   "source": [
    "list(soup.children)  #.children is generator so need to call list on it"
   ]
  },
  {
   "cell_type": "code",
   "execution_count": 12,
   "id": "93d5ad1e-ee3b-44db-bb1c-1cc60b678f0d",
   "metadata": {},
   "outputs": [
    {
     "data": {
      "text/plain": [
       "[bs4.element.Doctype, bs4.element.NavigableString, bs4.element.Tag]"
      ]
     },
     "execution_count": 12,
     "metadata": {},
     "output_type": "execute_result"
    }
   ],
   "source": [
    "[type(item) for item in list(soup.children)]"
   ]
  },
  {
   "cell_type": "code",
   "execution_count": 13,
   "id": "c583a075-0fb5-4904-aba5-6fe3624c7a22",
   "metadata": {},
   "outputs": [],
   "source": [
    "html = list(soup.children)[2]"
   ]
  },
  {
   "cell_type": "code",
   "execution_count": 14,
   "id": "438404fd-651c-4c39-8bb6-030fd930151c",
   "metadata": {},
   "outputs": [
    {
     "data": {
      "text/plain": [
       "['\\n',\n",
       " <head>\n",
       " <title>A simple example page</title>\n",
       " </head>,\n",
       " '\\n',\n",
       " <body>\n",
       " <p>Here is some simple content for this page.</p>\n",
       " </body>,\n",
       " '\\n']"
      ]
     },
     "execution_count": 14,
     "metadata": {},
     "output_type": "execute_result"
    }
   ],
   "source": [
    "list(html.children)"
   ]
  },
  {
   "cell_type": "code",
   "execution_count": 15,
   "id": "77ce89c2-5532-49ba-9241-b7afc225af0b",
   "metadata": {},
   "outputs": [],
   "source": [
    "# for head\n",
    "body = list(html.children)[3]"
   ]
  },
  {
   "cell_type": "code",
   "execution_count": 16,
   "id": "7e617beb-eb0f-4b94-836c-aaf74ab69a06",
   "metadata": {},
   "outputs": [
    {
     "data": {
      "text/plain": [
       "['\\n', <p>Here is some simple content for this page.</p>, '\\n']"
      ]
     },
     "execution_count": 16,
     "metadata": {},
     "output_type": "execute_result"
    }
   ],
   "source": [
    "list(body.children)"
   ]
  },
  {
   "cell_type": "code",
   "execution_count": 17,
   "id": "a53aa157-9a4e-43b9-96a2-fbde5b9995b0",
   "metadata": {},
   "outputs": [],
   "source": [
    "# isolate p\n",
    "p = list(body.children)[1]"
   ]
  },
  {
   "cell_type": "code",
   "execution_count": 18,
   "id": "76b699ed-60a0-4488-8bde-7980c834774c",
   "metadata": {},
   "outputs": [
    {
     "data": {
      "text/plain": [
       "'Here is some simple content for this page.'"
      ]
     },
     "execution_count": 18,
     "metadata": {},
     "output_type": "execute_result"
    }
   ],
   "source": [
    "p.get_text()"
   ]
  },
  {
   "cell_type": "code",
   "execution_count": 19,
   "id": "4304dde8-21c9-480d-b3e0-63bf077fe0a9",
   "metadata": {},
   "outputs": [
    {
     "data": {
      "text/plain": [
       "[<p>Here is some simple content for this page.</p>]"
      ]
     },
     "execution_count": 19,
     "metadata": {},
     "output_type": "execute_result"
    }
   ],
   "source": [
    "# Find all instances of tag at once\n",
    "soup = BeautifulSoup(page.content, 'html.parser')\n",
    "soup.find_all('p')"
   ]
  },
  {
   "cell_type": "code",
   "execution_count": 20,
   "id": "692f558d-2c81-4ca5-a2da-afe16c51068a",
   "metadata": {},
   "outputs": [
    {
     "data": {
      "text/plain": [
       "'Here is some simple content for this page.'"
      ]
     },
     "execution_count": 20,
     "metadata": {},
     "output_type": "execute_result"
    }
   ],
   "source": [
    "# note - find all returns list so will need to loop through and parse\n",
    "soup.find_all('p')[0].get_text()"
   ]
  },
  {
   "cell_type": "code",
   "execution_count": 21,
   "id": "cd1a5475-49fa-4513-a3ae-032cc06968f5",
   "metadata": {},
   "outputs": [
    {
     "data": {
      "text/plain": [
       "<p>Here is some simple content for this page.</p>"
      ]
     },
     "execution_count": 21,
     "metadata": {},
     "output_type": "execute_result"
    }
   ],
   "source": [
    "# if only want first\n",
    "soup.find('p')"
   ]
  },
  {
   "cell_type": "code",
   "execution_count": 23,
   "id": "b80fe855-8dce-4b42-9fe1-d780e445b79a",
   "metadata": {},
   "outputs": [
    {
     "name": "stdout",
     "output_type": "stream",
     "text": [
      "<html>\n",
      " <head>\n",
      "  <title>\n",
      "   A simple example page\n",
      "  </title>\n",
      " </head>\n",
      " <body>\n",
      "  <div>\n",
      "   <p class=\"inner-text first-item\" id=\"first\">\n",
      "    First paragraph.\n",
      "   </p>\n",
      "   <p class=\"inner-text\">\n",
      "    Second paragraph.\n",
      "   </p>\n",
      "  </div>\n",
      "  <p class=\"outer-text first-item\" id=\"second\">\n",
      "   <b>\n",
      "    First outer paragraph.\n",
      "   </b>\n",
      "  </p>\n",
      "  <p class=\"outer-text\">\n",
      "   <b>\n",
      "    Second outer paragraph.\n",
      "   </b>\n",
      "  </p>\n",
      " </body>\n",
      "</html>\n"
     ]
    }
   ],
   "source": [
    "# Search by tags and class and id\n",
    "page = requests.get(\"https://dataquestio.github.io/web-scraping-pages/ids_and_classes.html\")\n",
    "soup = BeautifulSoup(page.content, 'html.parser')\n",
    "print(soup.prettify())"
   ]
  },
  {
   "cell_type": "code",
   "execution_count": 24,
   "id": "d44602f4-892d-4d25-959a-bf74e4fa50ec",
   "metadata": {},
   "outputs": [
    {
     "data": {
      "text/plain": [
       "[<p class=\"outer-text first-item\" id=\"second\">\n",
       " <b>\n",
       "                 First outer paragraph.\n",
       "             </b>\n",
       " </p>,\n",
       " <p class=\"outer-text\">\n",
       " <b>\n",
       "                 Second outer paragraph.\n",
       "             </b>\n",
       " </p>]"
      ]
     },
     "execution_count": 24,
     "metadata": {},
     "output_type": "execute_result"
    }
   ],
   "source": [
    "# search for p tag outer text\n",
    "soup.find_all('p', class_='outer-text')"
   ]
  },
  {
   "cell_type": "code",
   "execution_count": 25,
   "id": "4ecbbded-03e5-45f2-896e-cbf635ba3632",
   "metadata": {},
   "outputs": [
    {
     "data": {
      "text/plain": [
       "[<p class=\"outer-text first-item\" id=\"second\">\n",
       " <b>\n",
       "                 First outer paragraph.\n",
       "             </b>\n",
       " </p>,\n",
       " <p class=\"outer-text\">\n",
       " <b>\n",
       "                 Second outer paragraph.\n",
       "             </b>\n",
       " </p>]"
      ]
     },
     "execution_count": 25,
     "metadata": {},
     "output_type": "execute_result"
    }
   ],
   "source": [
    "# find all tags with class\"outer-text\"\n",
    "soup.find_all(class_=\"outer-text\")"
   ]
  },
  {
   "cell_type": "code",
   "execution_count": 26,
   "id": "ac264a6c-29d8-4e52-a960-bf3cbe72c819",
   "metadata": {},
   "outputs": [
    {
     "data": {
      "text/plain": [
       "[<p class=\"inner-text first-item\" id=\"first\">\n",
       "                 First paragraph.\n",
       "             </p>]"
      ]
     },
     "execution_count": 26,
     "metadata": {},
     "output_type": "execute_result"
    }
   ],
   "source": [
    "# or search by element\n",
    "soup.find_all(id=\"first\")"
   ]
  },
  {
   "cell_type": "markdown",
   "id": "22bc0cc2-8e14-486f-ad57-cf5c672121cc",
   "metadata": {},
   "source": [
    "#### css selectors\n",
    "\n",
    "p a — finds all a tags inside of a p tag.\n",
    "\n",
    "body p a — finds all a tags inside of a p tag inside of a body tag.\n",
    "\n",
    "html body — finds all body tags inside of an html tag.\n",
    "\n",
    "p.outer-text — finds all p tags with a class of outer-text.\n",
    "\n",
    "p#first — finds all p tags with an id of first.\n",
    "\n",
    "body p.outer-text — finds any p tags with a class of outer-text inside of a body tag."
   ]
  },
  {
   "cell_type": "code",
   "execution_count": 27,
   "id": "3637bfc8-fe1d-48b5-bae0-140ac6f8f90e",
   "metadata": {},
   "outputs": [
    {
     "data": {
      "text/plain": [
       "[<p class=\"inner-text first-item\" id=\"first\">\n",
       "                 First paragraph.\n",
       "             </p>,\n",
       " <p class=\"inner-text\">\n",
       "                 Second paragraph.\n",
       "             </p>]"
      ]
     },
     "execution_count": 27,
     "metadata": {},
     "output_type": "execute_result"
    }
   ],
   "source": [
    "# finds all p tags insie div\n",
    "soup.select(\"div p\")"
   ]
  },
  {
   "cell_type": "code",
   "execution_count": null,
   "id": "c94015a5-ff3f-49c4-8dd3-274f52b18ac0",
   "metadata": {},
   "outputs": [],
   "source": [
    " On chrome\n",
    "    View -> Developer -> Developer Tools\n",
    "    ensure elements slected"
   ]
  },
  {
   "cell_type": "code",
   "execution_count": 28,
   "id": "c6e7ecab-9c7a-4225-bf40-d5ccc4ab6f9d",
   "metadata": {},
   "outputs": [
    {
     "name": "stdout",
     "output_type": "stream",
     "text": [
      "<div class=\"tombstone-container\">\n",
      " <p class=\"period-name\">\n",
      "  Today\n",
      "  <br/>\n",
      "  <br/>\n",
      " </p>\n",
      " <p>\n",
      "  <img alt=\"Today: Mostly sunny, with a high near 71. Breezy, with a west southwest wind 13 to 22 mph, with gusts as high as 29 mph. \" class=\"forecast-icon\" src=\"DualImage.php?i=sct&amp;j=wind_few\" title=\"Today: Mostly sunny, with a high near 71. Breezy, with a west southwest wind 13 to 22 mph, with gusts as high as 29 mph. \"/>\n",
      " </p>\n",
      " <p class=\"short-desc\">\n",
      "  Mostly Sunny\n",
      "  <br/>\n",
      "  then Sunny\n",
      "  <br/>\n",
      "  and Breezy\n",
      " </p>\n",
      " <p class=\"temp temp-high\">\n",
      "  High: 71 °F\n",
      " </p>\n",
      "</div>\n"
     ]
    }
   ],
   "source": [
    "page = requests.get(\"https://forecast.weather.gov/MapClick.php?lat=37.7772&lon=-122.4168\")\n",
    "soup = BeautifulSoup(page.content, 'html.parser')\n",
    "seven_day = soup.find(id=\"seven-day-forecast\")\n",
    "forecast_items = seven_day.find_all(class_=\"tombstone-container\")\n",
    "tonight = forecast_items[0]\n",
    "print(tonight.prettify())"
   ]
  },
  {
   "cell_type": "code",
   "execution_count": 29,
   "id": "cc3f184c-ff7c-49cc-b3ed-36da5c205f4a",
   "metadata": {},
   "outputs": [
    {
     "name": "stdout",
     "output_type": "stream",
     "text": [
      "Today\n",
      "Mostly Sunnythen Sunnyand Breezy\n",
      "High: 71 °F\n"
     ]
    }
   ],
   "source": [
    "period = tonight.find(class_=\"period-name\").get_text()\n",
    "short_desc = tonight.find(class_=\"short-desc\").get_text()\n",
    "temp = tonight.find(class_=\"temp\").get_text()\n",
    "print(period)\n",
    "print(short_desc)\n",
    "print(temp)"
   ]
  },
  {
   "cell_type": "code",
   "execution_count": 30,
   "id": "7d8d1d4f-9810-4225-842a-3665d43805da",
   "metadata": {},
   "outputs": [
    {
     "name": "stdout",
     "output_type": "stream",
     "text": [
      "Today: Mostly sunny, with a high near 71. Breezy, with a west southwest wind 13 to 22 mph, with gusts as high as 29 mph. \n"
     ]
    }
   ],
   "source": [
    "img = tonight.find(\"img\")\n",
    "desc = img['title']\n",
    "print(desc)"
   ]
  },
  {
   "cell_type": "markdown",
   "id": "1de50849-a5a4-4741-987b-fd46800154ad",
   "metadata": {},
   "source": [
    "\n",
    "Select all items with the class period-name inside an item with the class tombstone-container in seven_day.\n",
    "Use a list comprehension to call the get_text method on each BeautifulSoup objec\n"
   ]
  },
  {
   "cell_type": "code",
   "execution_count": 31,
   "id": "325b7796-a0a2-4115-865d-911d2eafe80d",
   "metadata": {},
   "outputs": [
    {
     "data": {
      "text/plain": [
       "['Today',\n",
       " 'Tonight',\n",
       " 'Thursday',\n",
       " 'ThursdayNight',\n",
       " 'Friday',\n",
       " 'FridayNight',\n",
       " 'Saturday',\n",
       " 'SaturdayNight',\n",
       " 'Sunday']"
      ]
     },
     "execution_count": 31,
     "metadata": {},
     "output_type": "execute_result"
    }
   ],
   "source": [
    "period_tags = seven_day.select(\".tombstone-container .period-name\")\n",
    "periods = [pt.get_text() for pt in period_tags]\n",
    "periods"
   ]
  },
  {
   "cell_type": "code",
   "execution_count": 32,
   "id": "65ba7e3e-3239-49c4-b9fd-787c3de13c64",
   "metadata": {},
   "outputs": [
    {
     "ename": "SyntaxError",
     "evalue": "invalid syntax (<ipython-input-32-a6ade7bae453>, line 3)",
     "output_type": "error",
     "traceback": [
      "\u001b[0;36m  File \u001b[0;32m\"<ipython-input-32-a6ade7bae453>\"\u001b[0;36m, line \u001b[0;32m3\u001b[0m\n\u001b[0;31m    descs = [d[\"title\"] for d in seven_day.select(\".tombstone-container img\")]print(short_descs)print(temps)print(descs)\u001b[0m\n\u001b[0m                                                                              ^\u001b[0m\n\u001b[0;31mSyntaxError\u001b[0m\u001b[0;31m:\u001b[0m invalid syntax\n"
     ]
    }
   ],
   "source": [
    "short_descs = [sd.get_text() for sd in seven_day.select(\".tombstone-container .short-desc\")]\n",
    "temps = [t.get_text() for t in seven_day.select(\".tombstone-container .temp\")]\n",
    "descs = [d[\"title\"] for d in seven_day.select(\".tombstone-container img\")]print(short_descs)print(temps)print(descs)"
   ]
  },
  {
   "cell_type": "code",
   "execution_count": 33,
   "id": "08f33783-76ae-4c74-93b9-79bde82a5e87",
   "metadata": {},
   "outputs": [
    {
     "data": {
      "text/html": [
       "<div>\n",
       "<style scoped>\n",
       "    .dataframe tbody tr th:only-of-type {\n",
       "        vertical-align: middle;\n",
       "    }\n",
       "\n",
       "    .dataframe tbody tr th {\n",
       "        vertical-align: top;\n",
       "    }\n",
       "\n",
       "    .dataframe thead th {\n",
       "        text-align: right;\n",
       "    }\n",
       "</style>\n",
       "<table border=\"1\" class=\"dataframe\">\n",
       "  <thead>\n",
       "    <tr style=\"text-align: right;\">\n",
       "      <th></th>\n",
       "      <th>period</th>\n",
       "    </tr>\n",
       "  </thead>\n",
       "  <tbody>\n",
       "    <tr>\n",
       "      <th>0</th>\n",
       "      <td>Today</td>\n",
       "    </tr>\n",
       "    <tr>\n",
       "      <th>1</th>\n",
       "      <td>Tonight</td>\n",
       "    </tr>\n",
       "    <tr>\n",
       "      <th>2</th>\n",
       "      <td>Thursday</td>\n",
       "    </tr>\n",
       "    <tr>\n",
       "      <th>3</th>\n",
       "      <td>ThursdayNight</td>\n",
       "    </tr>\n",
       "    <tr>\n",
       "      <th>4</th>\n",
       "      <td>Friday</td>\n",
       "    </tr>\n",
       "    <tr>\n",
       "      <th>5</th>\n",
       "      <td>FridayNight</td>\n",
       "    </tr>\n",
       "    <tr>\n",
       "      <th>6</th>\n",
       "      <td>Saturday</td>\n",
       "    </tr>\n",
       "    <tr>\n",
       "      <th>7</th>\n",
       "      <td>SaturdayNight</td>\n",
       "    </tr>\n",
       "    <tr>\n",
       "      <th>8</th>\n",
       "      <td>Sunday</td>\n",
       "    </tr>\n",
       "  </tbody>\n",
       "</table>\n",
       "</div>"
      ],
      "text/plain": [
       "          period\n",
       "0          Today\n",
       "1        Tonight\n",
       "2       Thursday\n",
       "3  ThursdayNight\n",
       "4         Friday\n",
       "5    FridayNight\n",
       "6       Saturday\n",
       "7  SaturdayNight\n",
       "8         Sunday"
      ]
     },
     "execution_count": 33,
     "metadata": {},
     "output_type": "execute_result"
    }
   ],
   "source": [
    "import pandas as pd\n",
    "weather = pd.DataFrame({\n",
    "    \"period\": periods,\n",
    "#     \"short_desc\": short_descs,\n",
    "#     \"temp\": temps,\n",
    "#     \"desc\":descs\n",
    "})\n",
    "weather"
   ]
  },
  {
   "cell_type": "code",
   "execution_count": null,
   "id": "a0cff12b-60ec-4b58-8600-ec97f815cdee",
   "metadata": {},
   "outputs": [],
   "source": [
    "temp_nums = weather[\"temp\"].str.extract(\"(?Pd+)\", expand=False)\n",
    "weather[\"temp_num\"] = temp_nums.astype('int')\n",
    "temp_nums"
   ]
  },
  {
   "cell_type": "code",
   "execution_count": null,
   "id": "f97961fc-f37c-49bc-b8b4-ea4e07ae08c9",
   "metadata": {},
   "outputs": [],
   "source": [
    "weather[\"temp_num\"].mean()"
   ]
  },
  {
   "cell_type": "code",
   "execution_count": null,
   "id": "9ce8b33e-93eb-4f8b-89be-2e46c6a3c3e9",
   "metadata": {},
   "outputs": [],
   "source": [
    "is_night = weather[\"temp\"].str.contains(\"Low\")\n",
    "weather[\"is_night\"] = is_night\n",
    "is_night"
   ]
  },
  {
   "cell_type": "code",
   "execution_count": null,
   "id": "c277c8cf-53cd-4448-8e68-bff120325fba",
   "metadata": {},
   "outputs": [],
   "source": [
    "weather[is_night]"
   ]
  }
 ],
 "metadata": {
  "kernelspec": {
   "display_name": "Python 3",
   "language": "python",
   "name": "python3"
  },
  "language_info": {
   "codemirror_mode": {
    "name": "ipython",
    "version": 3
   },
   "file_extension": ".py",
   "mimetype": "text/x-python",
   "name": "python",
   "nbconvert_exporter": "python",
   "pygments_lexer": "ipython3",
   "version": "3.8.8"
  }
 },
 "nbformat": 4,
 "nbformat_minor": 5
}
